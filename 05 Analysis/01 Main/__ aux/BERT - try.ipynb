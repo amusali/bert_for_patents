{
 "cells": [
  {
   "cell_type": "markdown",
   "metadata": {},
   "source": [
    "BERT Example"
   ]
  },
  {
   "cell_type": "code",
   "execution_count": 5,
   "metadata": {},
   "outputs": [
    {
     "data": {
      "text/plain": [
       "[('Motorola Mobility LLC', 'legacy')]"
      ]
     },
     "execution_count": 5,
     "metadata": {},
     "output_type": "execute_result"
    }
   ],
   "source": [
    "import api.get_closest_assignees as fg\n",
    "\n",
    "fg.get_closest_assignees(\"motorola mobility\")"
   ]
  },
  {
   "cell_type": "code",
   "execution_count": null,
   "metadata": {},
   "outputs": [
    {
     "name": "stdout",
     "output_type": "stream",
     "text": [
      "{'X-Api-Key': 'Uch9R1RR.BxaQcxV8HK4nBMgTTjX1F9CQW8PF4nXw'}\n",
      "2026-10-27\n",
      "{'X-Api-Key': 'Uch9R1RR.BxaQcxV8HK4nBMgTTjX1F9CQW8PF4nXw'}\n",
      "https://api.patentsview.org/patents/query?o={\"page\":1,\"per_page\":10000}&q={\"assignee_organization\": \"Passif Semiconductor Corp.\"}&f=[\"cpc_subgroup_id\", \"cpc_group_id\", \"cpc_group_title\", \"cpc_subgroup_title\", \"cpc_sequence\" ,\"app_date\", \"patent_date\",\"patent_id\", \"patent_date\",\"cpc_category\",\"assignee_country\", \"assignee_organization\", \"assignee_id\", \"patent_num_cited_by_us_patents\", \"patent_abstract\", \"citedby_patent_id\", \"citedby_patent_title\", \"citedby_patent_date\"]\n",
      "Size of patents before:  3 Size of patents after:  0\n"
     ]
    },
    {
     "ename": "",
     "evalue": "",
     "output_type": "error",
     "traceback": [
      "\u001b[1;31mThe Kernel crashed while executing code in the current cell or a previous cell. \n",
      "\u001b[1;31mPlease review the code in the cell(s) to identify a possible cause of the failure. \n",
      "\u001b[1;31mClick <a href='https://aka.ms/vscodeJupyterKernelCrash'>here</a> for more info. \n",
      "\u001b[1;31mView Jupyter <a href='command:jupyter.viewOutput'>log</a> for further details."
     ]
    }
   ],
   "source": [
    "import api.fetch_patents as fp \n",
    "import importlib\n",
    "importlib.reload(fp)\n",
    "from datetime import datetime, timedelta\n",
    "import pandas as pd\n",
    "import re\n",
    "\n",
    "date = \"2026-10-27\"\n",
    "#date = datetime.strptime(date, \"%Y-%m-%d\")\n",
    "print(date)\n",
    "importlib.reload(fp)\n",
    "x = fp.get_patents('Passif Semiconductor Corp.', date, source = 'legacy')[0]\n",
    "#len(x[0], x[1])\n",
    "#y = fp.get_patents('Ford Global Technologies, LLC', date, source = 'legacy')"
   ]
  },
  {
   "cell_type": "code",
   "execution_count": 10,
   "metadata": {},
   "outputs": [
    {
     "name": "stdout",
     "output_type": "stream",
     "text": [
      "https://api.patentsview.org/patents/query?o={\"page\":1,\"per_page\":10000}&q={\"_and\":[{\"_and\":[{\"cpc_group_id\":\"G06F\"},{\"cpc_sequence\":0}]},{\"_gte\":{\"app_date\":\"2012-01-01\"}},{\"_lte\":{\"app_date\":\"2012-12-31\"}}]}&f=[\"patent_id\", \"patent_abstract\"]\n",
      "It took 15.33 sec to retrieve patents under Partial call = True\n"
     ]
    }
   ],
   "source": [
    "import api. fetch_patents\n",
    "import importlib\n",
    "importlib.reload(api.fetch_patents)\n",
    "\n",
    "assg = api.fetch_patents.get_patents_from_fields(field = \"G06F\", year = 2012, group_only=True, partial_call=True, source= \"legacy\")"
   ]
  },
  {
   "cell_type": "code",
   "execution_count": null,
   "metadata": {},
   "outputs": [],
   "source": [
    "## Inputs\n",
    "import dill as pickle\n",
    "from datetime import datetime\n",
    "from collections import OrderedDict\n",
    "import time\n",
    "with open(r\"C:\\Users\\amusali\\Desktop\\uc3m PhD\\05 Analysis\\01 Main\\00 Python data\\03 Cleaned patents\\all_patents.pkl\", 'rb') as f:\n",
    "    patents = pickle.load(f)\n",
    "\n",
    "\n",
    "#patents = patents + motorola\n",
    "import matplotlib.pyplot as plt\n",
    "import numpy as np\n"
   ]
  },
  {
   "cell_type": "code",
   "execution_count": 2,
   "metadata": {},
   "outputs": [
    {
     "name": "stdout",
     "output_type": "stream",
     "text": [
      "Processing Off deal, top-tech, 80, 12q, caliper_0.0250, 10matches\n",
      "{'acq_type': 'Off deal', 'top_tech': True, 'top_tech_threshold': 80, 'baseline_period': 12, 'caliper': 0.025, 'K': 10}\n"
     ]
    },
    {
     "ename": "AttributeError",
     "evalue": "'DataFrame' object has no attribute 'type'",
     "output_type": "error",
     "traceback": [
      "\u001b[1;31m---------------------------------------------------------------------------\u001b[0m",
      "\u001b[1;31mAttributeError\u001b[0m                            Traceback (most recent call last)",
      "\u001b[1;32m~\\AppData\\Local\\Temp\\ipykernel_25840\\3097902669.py\u001b[0m in \u001b[0;36m?\u001b[1;34m()\u001b[0m\n\u001b[0;32m     12\u001b[0m \u001b[0mprint\u001b[0m\u001b[1;33m(\u001b[0m\u001b[0mparams\u001b[0m\u001b[1;33m)\u001b[0m\u001b[1;33m\u001b[0m\u001b[1;33m\u001b[0m\u001b[0m\n\u001b[0;32m     13\u001b[0m \u001b[1;33m\u001b[0m\u001b[0m\n\u001b[0;32m     14\u001b[0m \u001b[1;33m\u001b[0m\u001b[0m\n\u001b[0;32m     15\u001b[0m \u001b[0mcits\u001b[0m \u001b[1;33m=\u001b[0m \u001b[0mprocess\u001b[0m\u001b[1;33m.\u001b[0m\u001b[0mload_pickle\u001b[0m\u001b[1;33m(\u001b[0m\u001b[1;34mr\"C:\\Users\\amusali\\Downloads\\03 Patent citations - raw, filing.pickle\"\u001b[0m\u001b[1;33m)\u001b[0m\u001b[1;33m\u001b[0m\u001b[1;33m\u001b[0m\u001b[0m\n\u001b[1;32m---> 16\u001b[1;33m \u001b[0mprint\u001b[0m\u001b[1;33m(\u001b[0m\u001b[0mcits\u001b[0m\u001b[1;33m.\u001b[0m\u001b[0mtype\u001b[0m\u001b[1;33m)\u001b[0m\u001b[1;33m\u001b[0m\u001b[1;33m\u001b[0m\u001b[0m\n\u001b[0m\u001b[0;32m     17\u001b[0m \u001b[1;33m\u001b[0m\u001b[0m\n",
      "\u001b[1;32mc:\\Users\\amusali\\Desktop\\uc3m PhD\\venv\\Lib\\site-packages\\pandas\\core\\generic.py\u001b[0m in \u001b[0;36m?\u001b[1;34m(self, name)\u001b[0m\n\u001b[0;32m   6295\u001b[0m             \u001b[1;32mand\u001b[0m \u001b[0mname\u001b[0m \u001b[1;32mnot\u001b[0m \u001b[1;32min\u001b[0m \u001b[0mself\u001b[0m\u001b[1;33m.\u001b[0m\u001b[0m_accessors\u001b[0m\u001b[1;33m\u001b[0m\u001b[1;33m\u001b[0m\u001b[0m\n\u001b[0;32m   6296\u001b[0m             \u001b[1;32mand\u001b[0m \u001b[0mself\u001b[0m\u001b[1;33m.\u001b[0m\u001b[0m_info_axis\u001b[0m\u001b[1;33m.\u001b[0m\u001b[0m_can_hold_identifiers_and_holds_name\u001b[0m\u001b[1;33m(\u001b[0m\u001b[0mname\u001b[0m\u001b[1;33m)\u001b[0m\u001b[1;33m\u001b[0m\u001b[1;33m\u001b[0m\u001b[0m\n\u001b[0;32m   6297\u001b[0m         \u001b[1;33m)\u001b[0m\u001b[1;33m:\u001b[0m\u001b[1;33m\u001b[0m\u001b[1;33m\u001b[0m\u001b[0m\n\u001b[0;32m   6298\u001b[0m             \u001b[1;32mreturn\u001b[0m \u001b[0mself\u001b[0m\u001b[1;33m[\u001b[0m\u001b[0mname\u001b[0m\u001b[1;33m]\u001b[0m\u001b[1;33m\u001b[0m\u001b[1;33m\u001b[0m\u001b[0m\n\u001b[1;32m-> 6299\u001b[1;33m         \u001b[1;32mreturn\u001b[0m \u001b[0mobject\u001b[0m\u001b[1;33m.\u001b[0m\u001b[0m__getattribute__\u001b[0m\u001b[1;33m(\u001b[0m\u001b[0mself\u001b[0m\u001b[1;33m,\u001b[0m \u001b[0mname\u001b[0m\u001b[1;33m)\u001b[0m\u001b[1;33m\u001b[0m\u001b[1;33m\u001b[0m\u001b[0m\n\u001b[0m",
      "\u001b[1;31mAttributeError\u001b[0m: 'DataFrame' object has no attribute 'type'"
     ]
    }
   ],
   "source": [
    "import api.process_matches as process\n",
    "import importlib\n",
    "importlib.reload(process)\n",
    "import os\n",
    "\n",
    "path = r\"C:\\Users\\amusali\\Downloads\\01 Hybrid matches - Off deal, top-tech, 80, 12q, caliper_0.0250, 10matches.pkl\"\n",
    "suffix = os.path.basename(path)[len(\"01 Hybrid matches - \"):-4]\n",
    "print(f\"Processing {suffix}\")\n",
    "\n",
    "# Parameters of suffix \n",
    "params  = process.parse_suffix(suffix)\n",
    "print(params)\n",
    "\n",
    "\n",
    "cits = process.load_pickle(r\"C:\\Users\\amusali\\Downloads\\03 Patent citations - raw, filing.pickle\")\n",
    "print(cits.type)\n",
    "\n"
   ]
  },
  {
   "cell_type": "code",
   "execution_count": 5,
   "metadata": {},
   "outputs": [],
   "source": [
    "matches  = process.load_pickle(path)[0]\n"
   ]
  },
  {
   "cell_type": "code",
   "execution_count": 6,
   "metadata": {},
   "outputs": [],
   "source": [
    "x = process.load_pickle(r\"C:\\Users\\amusali\\Downloads\\collapsed_citations.pkl\")"
   ]
  },
  {
   "cell_type": "code",
   "execution_count": 1,
   "metadata": {},
   "outputs": [
    {
     "ename": "ModuleNotFoundError",
     "evalue": "No module named 'ace_tools'",
     "output_type": "error",
     "traceback": [
      "\u001b[1;31m---------------------------------------------------------------------------\u001b[0m",
      "\u001b[1;31mModuleNotFoundError\u001b[0m                       Traceback (most recent call last)",
      "Cell \u001b[1;32mIn[1], line 41\u001b[0m\n\u001b[0;32m     34\u001b[0m \u001b[38;5;66;03m# Create a DataFrame with Matches\u001b[39;00m\n\u001b[0;32m     35\u001b[0m matched_df \u001b[38;5;241m=\u001b[39m pd\u001b[38;5;241m.\u001b[39mDataFrame({\n\u001b[0;32m     36\u001b[0m     \u001b[38;5;124m\"\u001b[39m\u001b[38;5;124msmall_dataset_name\u001b[39m\u001b[38;5;124m\"\u001b[39m: small_names,\n\u001b[0;32m     37\u001b[0m     \u001b[38;5;124m\"\u001b[39m\u001b[38;5;124mmatched_large_dataset_name\u001b[39m\u001b[38;5;124m\"\u001b[39m: [large_names[i] \u001b[38;5;28;01mfor\u001b[39;00m i \u001b[38;5;129;01min\u001b[39;00m matches],\n\u001b[0;32m     38\u001b[0m     \u001b[38;5;124m\"\u001b[39m\u001b[38;5;124msimilarity_score\u001b[39m\u001b[38;5;124m\"\u001b[39m: [similarities[j, i] \u001b[38;5;28;01mfor\u001b[39;00m j, i \u001b[38;5;129;01min\u001b[39;00m \u001b[38;5;28menumerate\u001b[39m(matches)]\n\u001b[0;32m     39\u001b[0m })\n\u001b[1;32m---> 41\u001b[0m \u001b[38;5;28;01mimport\u001b[39;00m \u001b[38;5;21;01mace_tools\u001b[39;00m \u001b[38;5;28;01mas\u001b[39;00m \u001b[38;5;21;01mtools\u001b[39;00m\n\u001b[0;32m     42\u001b[0m tools\u001b[38;5;241m.\u001b[39mdisplay_dataframe_to_user(name\u001b[38;5;241m=\u001b[39m\u001b[38;5;124m\"\u001b[39m\u001b[38;5;124mFuzzy Matched Companies\u001b[39m\u001b[38;5;124m\"\u001b[39m, dataframe\u001b[38;5;241m=\u001b[39mmatched_df)\n",
      "\u001b[1;31mModuleNotFoundError\u001b[0m: No module named 'ace_tools'"
     ]
    }
   ],
   "source": [
    "from sklearn.feature_extraction.text import TfidfVectorizer\n",
    "from sklearn.metrics.pairwise import cosine_similarity\n",
    "import pandas as pd\n",
    "import numpy as np\n",
    "import re\n",
    "\n",
    "def clean_company_name(name):\n",
    "    name = name.lower()\n",
    "    name = re.sub(r'[^a-z0-9\\s]', '', name)  # Remove special characters\n",
    "    name = re.sub(r'\\s+', ' ', name).strip()  # Remove extra spaces\n",
    "    common_words = {\"inc\", \"corp\", \"ltd\", \"llc\", \"co\", \"company\", \"sa\", \"ag\", \"plc\", \"limited\"}\n",
    "    name = \" \".join([word for word in name.split() if word not in common_words])  # Remove stopwords\n",
    "    return name\n",
    "\n",
    "# Example datasets\n",
    "large_names = [\"Google LLC\", \"Microsoft Corporation\", \"Apple Inc.\", \"Amazon.com, Inc.\"]\n",
    "small_names = [\"Google\", \"Microsoft Corp\", \"Apple Incorporated\", \"Amazon\"]\n",
    "\n",
    "# Preprocess\n",
    "large_names_clean = [clean_company_name(name) for name in large_names]\n",
    "small_names_clean = [clean_company_name(name) for name in small_names]\n",
    "\n",
    "# TF-IDF Vectorization\n",
    "vectorizer = TfidfVectorizer()\n",
    "tfidf_matrix_large = vectorizer.fit_transform(large_names_clean)\n",
    "tfidf_matrix_small = vectorizer.transform(small_names_clean)\n",
    "\n",
    "# Compute Cosine Similarity\n",
    "similarities = cosine_similarity(tfidf_matrix_small, tfidf_matrix_large)\n",
    "\n",
    "# Find Best Matches\n",
    "matches = np.argmax(similarities, axis=1)\n",
    "\n",
    "# Create a DataFrame with Matches\n",
    "matched_df = pd.DataFrame({\n",
    "    \"small_dataset_name\": small_names,\n",
    "    \"matched_large_dataset_name\": [large_names[i] for i in matches],\n",
    "    \"similarity_score\": [similarities[j, i] for j, i in enumerate(matches)]\n",
    "})\n",
    "\n",
    "import ace_tools as tools\n",
    "tools.display_dataframe_to_user(name=\"Fuzzy Matched Companies\", dataframe=matched_df)\n"
   ]
  },
  {
   "cell_type": "code",
   "execution_count": 2,
   "metadata": {},
   "outputs": [
    {
     "data": {
      "application/vnd.microsoft.datawrangler.viewer.v0+json": {
       "columns": [
        {
         "name": "index",
         "rawType": "int64",
         "type": "integer"
        },
        {
         "name": "small_dataset_name",
         "rawType": "object",
         "type": "string"
        },
        {
         "name": "matched_large_dataset_name",
         "rawType": "object",
         "type": "string"
        },
        {
         "name": "similarity_score",
         "rawType": "float64",
         "type": "float"
        }
       ],
       "conversionMethod": "pd.DataFrame",
       "ref": "6f7e42ff-8bb1-4600-b064-a30179a4fbe6",
       "rows": [
        [
         "0",
         "Google",
         "Google LLC",
         "1.0"
        ],
        [
         "1",
         "Microsoft Corp",
         "Microsoft Corporation",
         "0.7071067811865476"
        ],
        [
         "2",
         "Apple Incorporated",
         "Apple Inc.",
         "1.0"
        ],
        [
         "3",
         "Amazon",
         "Google LLC",
         "0.0"
        ]
       ],
       "shape": {
        "columns": 3,
        "rows": 4
       }
      },
      "text/html": [
       "<div>\n",
       "<style scoped>\n",
       "    .dataframe tbody tr th:only-of-type {\n",
       "        vertical-align: middle;\n",
       "    }\n",
       "\n",
       "    .dataframe tbody tr th {\n",
       "        vertical-align: top;\n",
       "    }\n",
       "\n",
       "    .dataframe thead th {\n",
       "        text-align: right;\n",
       "    }\n",
       "</style>\n",
       "<table border=\"1\" class=\"dataframe\">\n",
       "  <thead>\n",
       "    <tr style=\"text-align: right;\">\n",
       "      <th></th>\n",
       "      <th>small_dataset_name</th>\n",
       "      <th>matched_large_dataset_name</th>\n",
       "      <th>similarity_score</th>\n",
       "    </tr>\n",
       "  </thead>\n",
       "  <tbody>\n",
       "    <tr>\n",
       "      <th>0</th>\n",
       "      <td>Google</td>\n",
       "      <td>Google LLC</td>\n",
       "      <td>1.000000</td>\n",
       "    </tr>\n",
       "    <tr>\n",
       "      <th>1</th>\n",
       "      <td>Microsoft Corp</td>\n",
       "      <td>Microsoft Corporation</td>\n",
       "      <td>0.707107</td>\n",
       "    </tr>\n",
       "    <tr>\n",
       "      <th>2</th>\n",
       "      <td>Apple Incorporated</td>\n",
       "      <td>Apple Inc.</td>\n",
       "      <td>1.000000</td>\n",
       "    </tr>\n",
       "    <tr>\n",
       "      <th>3</th>\n",
       "      <td>Amazon</td>\n",
       "      <td>Google LLC</td>\n",
       "      <td>0.000000</td>\n",
       "    </tr>\n",
       "  </tbody>\n",
       "</table>\n",
       "</div>"
      ],
      "text/plain": [
       "   small_dataset_name matched_large_dataset_name  similarity_score\n",
       "0              Google                 Google LLC          1.000000\n",
       "1      Microsoft Corp      Microsoft Corporation          0.707107\n",
       "2  Apple Incorporated                 Apple Inc.          1.000000\n",
       "3              Amazon                 Google LLC          0.000000"
      ]
     },
     "execution_count": 2,
     "metadata": {},
     "output_type": "execute_result"
    }
   ],
   "source": [
    "matched_df"
   ]
  },
  {
   "cell_type": "code",
   "execution_count": 36,
   "metadata": {},
   "outputs": [],
   "source": [
    "from sklearn.metrics.pairwise import cosine_similarity\n",
    "\n",
    "abstracts = [\"An adapter for use with an electromechanical surgical instrument. The adapter includes an end effector with first and second jaws that are movable between open and closed positions relative to each other by a dynamic clamping member that is axially movable through the end effector in a firing stroke. The adapter includes firing stroke sensing arrangements for monitoring an axial position of the dynamic clamping assembly as it moves within the firing stroke\"]  \n",
    "context_tokens = ['abstract']\n",
    "response = bert_predictor.predict(\n",
    "        abstracts, context_tokens=context_tokens * len(abstracts))\n",
    "cls_token = response[0]['cls_token'].numpy()\n",
    "\n",
    "response1 = bert_predictor.predict(\n",
    "        abstracts)\n",
    "cls_token1 = response1[0]['cls_token'].numpy()\n",
    "distances_cs = cosine_similarity(cls_token, cls_token1).flatten()\n",
    "\n"
   ]
  },
  {
   "cell_type": "code",
   "execution_count": null,
   "metadata": {},
   "outputs": [
    {
     "data": {
      "text/plain": [
       "1"
      ]
     },
     "execution_count": 34,
     "metadata": {},
     "output_type": "execute_result"
    }
   ],
   "source": []
  },
  {
   "cell_type": "code",
   "execution_count": 6,
   "metadata": {},
   "outputs": [],
   "source": [
    "mlm_logits = response[0]\n",
    "second = response[1]\n",
    "third = response[2]"
   ]
  },
  {
   "cell_type": "code",
   "execution_count": 32,
   "metadata": {},
   "outputs": [
    {
     "name": "stdout",
     "output_type": "stream",
     "text": [
      "[[16.579643 12.217464]]\n"
     ]
    }
   ],
   "source": [
    "print(mlm_logits[\"next_sentence_logits\"].numpy())"
   ]
  },
  {
   "cell_type": "code",
   "execution_count": null,
   "metadata": {},
   "outputs": [
    {
     "name": "stdout",
     "output_type": "stream",
     "text": [
      "mlm_logits\n",
      "cls_token\n",
      "encoder_layer\n",
      "next_sentence_logits\n"
     ]
    }
   ],
   "source": [
    "for key, value in mlm_logits[mlm_logits]:\n",
    "    print(key)"
   ]
  },
  {
   "cell_type": "code",
   "execution_count": 220,
   "metadata": {},
   "outputs": [
    {
     "name": "stdout",
     "output_type": "stream",
     "text": [
      "None\n",
      "Patents have been updated and saved to C:/Users/amusali/Desktop/uc3m PhD\\05 Analysis/01 Main/00 Python data/checked_patents.pkl.\n"
     ]
    }
   ],
   "source": [
    "import api.patent as apipat\n",
    "importlib.reload(apipat)\n",
    "patent = x[0][48]\n",
    "print(patent.cosine_similarity_with_closest_patent)\n",
    "apipat.save_patents(patent)"
   ]
  },
  {
   "cell_type": "code",
   "execution_count": 28,
   "metadata": {},
   "outputs": [],
   "source": [
    "from sklearn.metrics.pairwise import cosine_similarity\n",
    "\n",
    "x = cosine_similarity([embd_of_patent_being_compared], embd_of_to_compare_against).flatten()"
   ]
  },
  {
   "cell_type": "code",
   "execution_count": 6,
   "metadata": {},
   "outputs": [
    {
     "data": {
      "text/plain": [
       "'C:/Users/amusali/Desktop/uc3m PhD'"
      ]
     },
     "execution_count": 6,
     "metadata": {},
     "output_type": "execute_result"
    }
   ],
   "source": [
    "from path_utils import get_base_path\n",
    "get_base_path()"
   ]
  },
  {
   "cell_type": "code",
   "execution_count": 2,
   "metadata": {},
   "outputs": [
    {
     "name": "stdout",
     "output_type": "stream",
     "text": [
      "BERT loaded...\n",
      "['[CLS]', 'a', 'user', 'of', 'an', 'instant', 'messaging', 'system', 'may', 'store', 'names', 'of', 'other', 'users', 'of', 'the', 'instant', 'messaging', 'system', 'on', 'a', 'participant', 'list', '(', 'which', 'may', 'be', 'referred', 'to', 'as', 'a', '“', 'buddy', 'list', '”', ')', ',', 'and', 'the', 'names', 'may', 'be', 'categorized', 'into', 'one', 'or', 'more', 'groups', '.', 'similarly', ',', 'a', 'user', 'of', 'a', 'mobile', 'device', ',', 'such', 'as', 'a', 'mobile', 'telephone', ',', 'may', 'store', 'contact', 'information', 'about', 'people', 'on', 'the', 'mobile', 'device', '.', 'information', 'describing', 'the', 'on', '-', 'line', 'presence', 'of', 'the', 'user', 'within', 'the', 'instant', 'messaging', 'system', 'or', 'the', 'geographic', 'location', 'of', 'a', 'mobile', 'device', ',', 'such', 'as', 'a', 'mobile', 'telephone', 'associated', 'with', 'the', 'user', ',', 'may', 'be', 'disseminate', '##d', 'to', 'users', 'on', 'the', 'participant', 'list', 'or', 'to', 'people', 'on', 'the', 'contact', 'list', 'based', 'on', 'notification', 'information', 'that', 'is', 'associated', 'with', 'groups', 'of', 'users', 'or', 'contacts', '.', '[SEP]']\n",
      "There are 1 patents being fed into BERT\n",
      "It took 2.72 seconds to get the embeddings of the input.\n"
     ]
    }
   ],
   "source": [
    "import api.bertembeddings as be \n",
    "import importlib\n",
    "importlib.reload(be)\n",
    "patent =  x[0][45]\n",
    "embd_of_patent_being_compared = be.get_embd_of_whole_abstract(patent['abstract'])\n"
   ]
  },
  {
   "cell_type": "code",
   "execution_count": 2,
   "metadata": {},
   "outputs": [
    {
     "name": "stdout",
     "output_type": "stream",
     "text": [
      "Sleeping for:  0.29261272497310853 seconds\n"
     ]
    },
    {
     "ename": "TypeError",
     "evalue": "find_distances() missing 1 required positional argument: 'embd_of_to_compare_against'",
     "output_type": "error",
     "traceback": [
      "\u001b[1;31m---------------------------------------------------------------------------\u001b[0m",
      "\u001b[1;31mTypeError\u001b[0m                                 Traceback (most recent call last)",
      "Cell \u001b[1;32mIn[2], line 10\u001b[0m\n\u001b[0;32m      5\u001b[0m target \u001b[38;5;241m=\u001b[39m x[\u001b[38;5;241m0\u001b[39m][\u001b[38;5;241m45\u001b[39m]\n\u001b[0;32m      7\u001b[0m patents_in_fiedl \u001b[38;5;241m=\u001b[39m fp\u001b[38;5;241m.\u001b[39mget_patents_from_fields(target[\u001b[38;5;124m'\u001b[39m\u001b[38;5;124mtech_field\u001b[39m\u001b[38;5;124m'\u001b[39m], target[\u001b[38;5;124m'\u001b[39m\u001b[38;5;124myear\u001b[39m\u001b[38;5;124m'\u001b[39m]\u001b[38;5;241m.\u001b[39myear)[\u001b[38;5;241m0\u001b[39m][target[\u001b[38;5;124m'\u001b[39m\u001b[38;5;124mtech_field\u001b[39m\u001b[38;5;124m'\u001b[39m]][\u001b[38;5;28mstr\u001b[39m(target[\u001b[38;5;124m'\u001b[39m\u001b[38;5;124myear\u001b[39m\u001b[38;5;124m'\u001b[39m]\u001b[38;5;241m.\u001b[39myear)]\n\u001b[1;32m---> 10\u001b[0m dist_e, index_e, dist_cs, index_cs \u001b[38;5;241m=\u001b[39m \u001b[43mfp\u001b[49m\u001b[38;5;241;43m.\u001b[39;49m\u001b[43mfind_distances\u001b[49m\u001b[43m(\u001b[49m\u001b[43mtarget\u001b[49m\u001b[43m)\u001b[49m\n",
      "\u001b[1;31mTypeError\u001b[0m: find_distances() missing 1 required positional argument: 'embd_of_to_compare_against'"
     ]
    }
   ],
   "source": [
    "import api.fetch_patents as fp \n",
    "import importlib\n",
    "importlib.reload(fp)\n",
    "\n",
    "target = x[0][45]\n",
    "\n",
    "patents_in_fiedl = fp.get_patents_from_fields(target['tech_field'], target['year'].year)[0][target['tech_field']][str(target['year'].year)]\n",
    "\n",
    "\n",
    "dist_e, index_e, dist_cs, index_cs = fp.find_distances(target)"
   ]
  },
  {
   "cell_type": "code",
   "execution_count": 37,
   "metadata": {},
   "outputs": [
    {
     "name": "stdout",
     "output_type": "stream",
     "text": [
      "Sleeping for:  0.32707449490647 seconds\n"
     ]
    }
   ],
   "source": [
    "#targets = [k['abstract'] for k in x[0]]\n",
    "target = patent\n",
    "patents_in_field = fp.get_patents_from_fields(target['tech_field_subgroup'], target['year'].year)[0][target['tech_field_subgroup']][str(target['year'].year)]['patents']\n"
   ]
  },
  {
   "cell_type": "code",
   "execution_count": 6,
   "metadata": {},
   "outputs": [],
   "source": [
    "dist_eu, index_eu, dist_cs, index_cs  = fp.find_distances(embeddings[0], embeddings[1])"
   ]
  },
  {
   "cell_type": "code",
   "execution_count": 24,
   "metadata": {},
   "outputs": [
    {
     "name": "stdout",
     "output_type": "stream",
     "text": [
      "Currently doing TF-IDF\n"
     ]
    }
   ],
   "source": [
    "\n",
    "import api.fetch_patents as fp\n",
    "import importlib\n",
    "importlib.reload(fp)\n",
    "abstracts = [p['abstract'] for p in patents_in_field]\n",
    "distances, index = fp.get_tfidf_from_field(abstracts, patent['abstract'])\n",
    "filtered_abstracts = fp.filter_patents_by_similarity(abstracts, distances, index)"
   ]
  },
  {
   "cell_type": "code",
   "execution_count": 35,
   "metadata": {},
   "outputs": [],
   "source": [
    "import api.fetch_patents as fp\n",
    "import importlib\n",
    "importlib.reload(fp)\n",
    "\n",
    "dist_eu, index_eu, dist_cs, index_cs  = fp.find_distances(own, against)"
   ]
  },
  {
   "cell_type": "code",
   "execution_count": 39,
   "metadata": {},
   "outputs": [],
   "source": [
    "\n",
    "batch_size = 2  # Adjust this based on your memory constraints\n",
    "abstracts = [d['abstract'] for d in patents_in_field]\n",
    "\n",
    "# Create batches of abstracts\n",
    "batched_abstracts = [abstracts[i:i + batch_size] for i in range(0, len(abstracts), batch_size)]\n",
    "\n",
    "\n"
   ]
  },
  {
   "cell_type": "code",
   "execution_count": null,
   "metadata": {},
   "outputs": [],
   "source": [
    "http://0.0.0.0:8888/?token=d4c9f2751d3a5b6013553dea8c57e188b306752d182fbd5c"
   ]
  },
  {
   "cell_type": "code",
   "execution_count": 51,
   "metadata": {},
   "outputs": [
    {
     "ename": "SyntaxError",
     "evalue": "invalid syntax (1198962508.py, line 1)",
     "output_type": "error",
     "traceback": [
      "\u001b[1;36m  Cell \u001b[1;32mIn[51], line 1\u001b[1;36m\u001b[0m\n\u001b[1;33m    jupyter notebook\u001b[0m\n\u001b[1;37m            ^\u001b[0m\n\u001b[1;31mSyntaxError\u001b[0m\u001b[1;31m:\u001b[0m invalid syntax\n"
     ]
    }
   ],
   "source": [
    "jupyter notebook\n"
   ]
  },
  {
   "cell_type": "code",
   "execution_count": 53,
   "metadata": {},
   "outputs": [
    {
     "name": "stdout",
     "output_type": "stream",
     "text": [
      "Sleeping for:  0.5605022246630099 seconds\n",
      "There are in total 6 patents to be compared against.\n",
      "Currently doing TF-IDF\n",
      "There were 6 files in total. After TF-IDF filtering, there are 7 patents left now.\n",
      "There are 2 patents being fed into BERT\n",
      "It took 3.34475 seconds to get the embeddings of the input.\n",
      "There are 2 patents being fed into BERT\n",
      "It took 3.02066 seconds to get the embeddings of the input.\n",
      "There are 2 patents being fed into BERT\n",
      "It took 1.95043 seconds to get the embeddings of the input.\n",
      "There are 1 patents being fed into BERT\n",
      "It took 1.99914 seconds to get the embeddings of the input.\n"
     ]
    }
   ],
   "source": [
    "import api.find_similar_patents as fsp\n",
    "import importlib\n",
    "importlib.reload(fsp)\n",
    "\n",
    "embeds, abs = fsp.get_embeddings_from_field(patent, filter_tfidf=True, group_only=False)\n",
    "#fsp.find_the_closest_abstract_excerpt(patent, group_only=False, batch_size = 1, filter_tfidf=True)\n",
    "# Process each batch\n",
    "#embeddings = []\n",
    "#for batch in batched_abstracts:\n",
    " #   embeddings.append(be.get_embd_of_whole_abstract(batch))"
   ]
  },
  {
   "cell_type": "code",
   "execution_count": 74,
   "metadata": {},
   "outputs": [
    {
     "data": {
      "text/plain": [
       "array([0.79774463, 0.7073438 , 0.7402725 , 0.6682338 , 1.0000001 ,\n",
       "       0.7443189 , 0.6745735 ], dtype=float32)"
      ]
     },
     "execution_count": 74,
     "metadata": {},
     "output_type": "execute_result"
    }
   ],
   "source": [
    "from sklearn.metrics.pairwise import cosine_similarity\n",
    "\n",
    "target = stacked[4].reshape(1, -1)\n",
    "\n",
    "cosine_similarity(target, stacked).flatten()"
   ]
  },
  {
   "cell_type": "code",
   "execution_count": 88,
   "metadata": {},
   "outputs": [
    {
     "name": "stdout",
     "output_type": "stream",
     "text": [
      "C:/Users/amusali/Desktop/uc3m PhD\n",
      "Sleeping for:  0.2419140880393129 seconds\n",
      "There are in total 7 patents to be compared against.\n",
      "C:/Users/amusali/Desktop/uc3m PhD\\05 Analysis/01 Main/api/treated_assignees.xlsx\n",
      "Currently doing TF-IDF\n",
      "There were 7 files in total. After TF-IDF filtering, there are 7 patents left now.\n",
      "There are 3 patents being fed into BERT\n",
      "It took 1.99443 seconds to get the embeddings of the input.\n",
      "There are 3 patents being fed into BERT\n",
      "It took 1.93677 seconds to get the embeddings of the input.\n",
      "There are 1 patents being fed into BERT\n",
      "It took 2.00934 seconds to get the embeddings of the input.\n",
      "There are 1 patents being fed into BERT\n",
      "It took 1.94938 seconds to get the embeddings of the input.\n",
      "Size of own (1, 1024)\n",
      "Size of against (7, 1024)\n",
      "{'Target patent': {'patent_id': '7827208', 'citations': 855, 'tech_field_subgroup': 'G06F16/955', 'tech_field_group': 'G06F', 'year': datetime.datetime(2006, 8, 11, 0, 0), 'abstract': 'Systems and methods for generating dynamic relationship-based content personalized for members of a web-based social network are provided. At least one action of one or more members of a web-based social network is associated with relationship data for the one or more members to produce consolidated data. One or more elements associated with the consolidated data is identified and used to aggregate the consolidated data. Further exemplary methods comprise weighting by affinity the aggregated consolidated data to generate dynamic relationship-based content personalized for the members of the web-based social network.', 'citedby_patents': [{'citedby_patent_id': '10013294', 'citedby_patent_title': 'Detecting and managing flooding of multi-tenant message queues', 'citedby_patent_date': '2018-07-03'}, {'citedby_patent_id': '10013672', 'citedby_patent_title': 'Address extraction from a communication', 'citedby_patent_date': '2018-07-03'}, {'citedby_patent_id': '10025360', 'citedby_patent_title': 'Thermal adjustment in a computing device using distributed sensors', 'citedby_patent_date': '2018-07-17'}, {'citedby_patent_id': '10042823', 'citedby_patent_title': 'Hyperlink with graphical cue', 'citedby_patent_date': '2018-08-07'}, {'citedby_patent_id': '10042868', 'citedby_patent_title': 'Methods and apparatus for discontinuing the following of records in an on-demand database service environment', 'citedby_patent_date': '2018-08-07'}, {'citedby_patent_id': '10044660', 'citedby_patent_title': 'Computer implemented methods and apparatus for providing communication between network domains in a service cloud', 'citedby_patent_date': '2018-08-07'}, {'citedby_patent_id': '10048949', 'citedby_patent_title': 'Methods and systems for providing a user interface', 'citedby_patent_date': '2018-08-14'}, {'citedby_patent_id': '10049131', 'citedby_patent_title': 'Computer implemented methods and apparatus for determining user access to custom metadata', 'citedby_patent_date': '2018-08-14'}, {'citedby_patent_id': '10049337', 'citedby_patent_title': 'Quantitative metrics for assessing status of a platform architecture for cloud computing', 'citedby_patent_date': '2018-08-14'}, {'citedby_patent_id': '10055328', 'citedby_patent_title': 'System, method and computer program product for monitoring data activity utilizing a shared data store', 'citedby_patent_date': '2018-08-21'}, {'citedby_patent_id': '10055696', 'citedby_patent_title': 'Systems and methods for generating a dynamic personalized events feed', 'citedby_patent_date': '2018-08-21'}, {'citedby_patent_id': '10057206', 'citedby_patent_title': 'Combining updates of a social network feed', 'citedby_patent_date': '2018-08-21'}, {'citedby_patent_id': '10069841', 'citedby_patent_title': 'Computer implemented methods and apparatus for sharing data of an information feed of an online social network', 'citedby_patent_date': '2018-09-04'}, {'citedby_patent_id': '10069924', 'citedby_patent_title': 'Application programming interfaces for communication systems', 'citedby_patent_date': '2018-09-04'}, {'citedby_patent_id': '10078623', 'citedby_patent_title': 'Hyperlink with graphical cue', 'citedby_patent_date': '2018-09-18'}, {'citedby_patent_id': '10078819', 'citedby_patent_title': 'Presenting favorite contacts information to a user of a computing device', 'citedby_patent_date': '2018-09-18'}, {'citedby_patent_id': '10083236', 'citedby_patent_title': 'Database searching using a graph of nodes and edges formed using log node pairs', 'citedby_patent_date': '2018-09-25'}, {'citedby_patent_id': '10089700', 'citedby_patent_title': 'Method and system for viewing a contact network feed in a business directory environment', 'citedby_patent_date': '2018-10-02'}, {'citedby_patent_id': '10089986', 'citedby_patent_title': 'Systems and methods to present voice message information to a user of a computing device', 'citedby_patent_date': '2018-10-02'}, {'citedby_patent_id': '10095797', 'citedby_patent_title': 'Suggesting actions for evaluating user performance in an enterprise social network', 'citedby_patent_date': '2018-10-09'}, {'citedby_patent_id': '10101883', 'citedby_patent_title': 'Service cloud console', 'citedby_patent_date': '2018-10-16'}, {'citedby_patent_id': '10114873', 'citedby_patent_title': 'Computer implemented methods and apparatus for retrieving content related to a feed item of an online social network', 'citedby_patent_date': '2018-10-30'}, {'citedby_patent_id': '10115179', 'citedby_patent_title': 'Aggregating and displaying social networking system user information via a map interface', 'citedby_patent_date': '2018-10-30'}, {'citedby_patent_id': '10116660', 'citedby_patent_title': 'Security modes for a component-based web security model', 'citedby_patent_date': '2018-10-30'}, {'citedby_patent_id': '10127560', 'citedby_patent_title': 'Methods and systems for facilitating customer support using a social post case feed and publisher', 'citedby_patent_date': '2018-11-13'}, {'citedby_patent_id': '10129258', 'citedby_patent_title': 'Secure component-based web applications', 'citedby_patent_date': '2018-11-13'}, {'citedby_patent_id': '10135776', 'citedby_patent_title': 'Cross platform social networking messaging system', 'citedby_patent_date': '2018-11-20'}, {'citedby_patent_id': '10135847', 'citedby_patent_title': 'Reverse shell network intrusion detection', 'citedby_patent_date': '2018-11-20'}, {'citedby_patent_id': '10140322', 'citedby_patent_title': 'Tools and techniques for extracting knowledge from unstructured data retrieved from personal data sources', 'citedby_patent_date': '2018-11-27'}, {'citedby_patent_id': '10140456', 'citedby_patent_title': 'Runtime analysis of software security vulnerabilities', 'citedby_patent_date': '2018-11-27'}, {'citedby_patent_id': '10146581', 'citedby_patent_title': 'Dynamically configuring a process based on environmental characteristics monitored by a mobile device', 'citedby_patent_date': '2018-12-04'}, {'citedby_patent_id': '10146597', 'citedby_patent_title': 'Delegating handling of computing events of a mobile device application', 'citedby_patent_date': '2018-12-04'}, {'citedby_patent_id': '10146812', 'citedby_patent_title': 'Third party files in an on-demand database service', 'citedby_patent_date': '2018-12-04'}, {'citedby_patent_id': '10146915', 'citedby_patent_title': 'Publication of collaborative file to library', 'citedby_patent_date': '2018-12-04'}, {'citedby_patent_id': '10147054', 'citedby_patent_title': 'Displaying content of an enterprise social network feed on a mobile device', 'citedby_patent_date': '2018-12-04'}, {'citedby_patent_id': '10152489', 'citedby_patent_title': 'Synchronize collaboration entity files', 'citedby_patent_date': '2018-12-11'}, {'citedby_patent_id': '10152515', 'citedby_patent_title': 'Triggering actions in an information feed system', 'citedby_patent_date': '2018-12-11'}, {'citedby_patent_id': '10157196', 'citedby_patent_title': 'Intra-platform data migration', 'citedby_patent_date': '2018-12-18'}, {'citedby_patent_id': '10158638', 'citedby_patent_title': 'Computer implemented methods and apparatus for providing access to an online social network', 'citedby_patent_date': '2018-12-18'}, {'citedby_patent_id': '10163136', 'citedby_patent_title': 'Targeting stories based on influencer scores', 'citedby_patent_date': '2018-12-25'}, {'citedby_patent_id': '10175873', 'citedby_patent_title': 'System and method for retrieving data based on scrolling velocity', 'citedby_patent_date': '2019-01-08'}, {'citedby_patent_id': '10175999', 'citedby_patent_title': 'Converting video into a walkthrough for an application or an online service', 'citedby_patent_date': '2019-01-08'}, {'citedby_patent_id': '10178156', 'citedby_patent_title': 'Extraction and capture of information from customizable header', 'citedby_patent_date': '2019-01-08'}, {'citedby_patent_id': '10185603', 'citedby_patent_title': 'System having in-memory buffer service, temporary events file storage system and backup events file uploader service', 'citedby_patent_date': '2019-01-22'}, {'citedby_patent_id': '10187403', 'citedby_patent_title': 'False positive detection reduction system for network-based attacks', 'citedby_patent_date': '2019-01-22'}, {'citedby_patent_id': '10192200', 'citedby_patent_title': 'Classifying a portion of user contact data into local contacts', 'citedby_patent_date': '2019-01-29'}, {'citedby_patent_id': '10198484', 'citedby_patent_title': 'Displaying reduced and detailed visual representations of calendar items based on mouse cursor movement', 'citedby_patent_date': '2019-02-05'}, {'citedby_patent_id': '10200321', 'citedby_patent_title': 'Presentation of organized personal and public data using communication mediums', 'citedby_patent_date': '2019-02-05'}, {'citedby_patent_id': '10200337', 'citedby_patent_title': 'Combining updates of a social network feed', 'citedby_patent_date': '2019-02-05'}, {'citedby_patent_id': '10204345', 'citedby_patent_title': 'Driving customer service interactions on social media', 'citedby_patent_date': '2019-02-12'}, {'citedby_patent_id': '10210218', 'citedby_patent_title': 'Processing a file to generate a recommendation using a database system', 'citedby_patent_date': '2019-02-19'}, {'citedby_patent_id': '10210466', 'citedby_patent_title': 'Providing access to a private resource in an enterprise social networking system', 'citedby_patent_date': '2019-02-19'}, {'citedby_patent_id': '10212189', 'citedby_patent_title': 'Authentication of client devices using modified images', 'citedby_patent_date': '2019-02-19'}, {'citedby_patent_id': '10218667', 'citedby_patent_title': 'Social network communities', 'citedby_patent_date': '2019-02-26'}, {'citedby_patent_id': '10223136', 'citedby_patent_title': 'Generating content objects using an integrated development environment', 'citedby_patent_date': '2019-03-05'}, {'citedby_patent_id': '10223367', 'citedby_patent_title': 'Distributed sorting of event log files', 'citedby_patent_date': '2019-03-05'}, {'citedby_patent_id': '10235008', 'citedby_patent_title': 'On-line interaction system', 'citedby_patent_date': '2019-03-19'}, {'citedby_patent_id': '10241890', 'citedby_patent_title': 'Hybrid code modification in intermediate language for software application', 'citedby_patent_date': '2019-03-26'}, {'citedby_patent_id': '10248297', 'citedby_patent_title': 'Systems and methods for cross domain service component interaction', 'citedby_patent_date': '2019-04-02'}, {'citedby_patent_id': '10249009', 'citedby_patent_title': 'Missed feed unit for content feeds', 'citedby_patent_date': '2019-04-02'}, {'citedby_patent_id': '10261970', 'citedby_patent_title': 'Mapping relationships between members in a social network', 'citedby_patent_date': '2019-04-16'}, {'citedby_patent_id': '10268828', 'citedby_patent_title': 'Space-efficient storage of encrypted data', 'citedby_patent_date': '2019-04-23'}, {'citedby_patent_id': '10275281', 'citedby_patent_title': 'Scheduling jobs for processing log files using a database system', 'citedby_patent_date': '2019-04-30'}, {'citedby_patent_id': '10284454', 'citedby_patent_title': 'Automatic increasing of capacity of a virtual space in a virtual world', 'citedby_patent_date': '2019-05-07'}, {'citedby_patent_id': '10296536', 'citedby_patent_title': 'Tagging digital media', 'citedby_patent_date': '2019-05-21'}, {'citedby_patent_id': '10296661', 'citedby_patent_title': 'Processing log files using a database system', 'citedby_patent_date': '2019-05-21'}, {'citedby_patent_id': '10296717', 'citedby_patent_title': 'Automated prescription workflow for device management', 'citedby_patent_date': '2019-05-21'}, {'citedby_patent_id': '10296753', 'citedby_patent_title': 'Permission comparator', 'citedby_patent_date': '2019-05-21'}, {'citedby_patent_id': '10304144', 'citedby_patent_title': 'Capturing information regarding an interaction to a database', 'citedby_patent_date': '2019-05-28'}, {'citedby_patent_id': '10318651', 'citedby_patent_title': 'Multi-input playlist selection', 'citedby_patent_date': '2019-06-11'}, {'citedby_patent_id': '10324922', 'citedby_patent_title': 'Providing a timeline of events regarding a database record', 'citedby_patent_date': '2019-06-18'}, {'citedby_patent_id': '10331432', 'citedby_patent_title': 'Providing an improved web user interface framework for building web applications', 'citedby_patent_date': '2019-06-25'}, {'citedby_patent_id': '10331798', 'citedby_patent_title': 'Methods and systems for analyzing a network feed in a multi-tenant database system environment', 'citedby_patent_date': '2019-06-25'}, {'citedby_patent_id': '10332129', 'citedby_patent_title': 'Methods and systems for processing a log file', 'citedby_patent_date': '2019-06-25'}, {'citedby_patent_id': '10339126', 'citedby_patent_title': 'Processing log files using a database system', 'citedby_patent_date': '2019-07-02'}, {'citedby_patent_id': '10341459', 'citedby_patent_title': 'Personalized content and services based on profile information', 'citedby_patent_date': '2019-07-02'}, {'citedby_patent_id': '10345818', 'citedby_patent_title': 'Robot transport method with transportation container', 'citedby_patent_date': '2019-07-09'}, {'citedby_patent_id': '10346370', 'citedby_patent_title': 'Rate limiting in a moderation framework of a database system', 'citedby_patent_date': '2019-07-09'}, {'citedby_patent_id': '10346451', 'citedby_patent_title': 'Identifying conversations in unstructured media', 'citedby_patent_date': '2019-07-09'}, {'citedby_patent_id': '10346882', 'citedby_patent_title': 'System and method for aggregating web clipping data', 'citedby_patent_date': '2019-07-09'}, {'citedby_patent_id': '10348792', 'citedby_patent_title': 'Dynamically updating media content for display to a user of a social network environment based on user interactions', 'citedby_patent_date': '2019-07-09'}, {'citedby_patent_id': '10356088', 'citedby_patent_title': 'User authentication based on multiple asymmetric cryptography key pairs', 'citedby_patent_date': '2019-07-16'}, {'citedby_patent_id': '10356193', 'citedby_patent_title': 'Indexing and searching content behind links presented in a communication', 'citedby_patent_date': '2019-07-16'}, {'citedby_patent_id': '10360136', 'citedby_patent_title': 'Dashboard execution engine', 'citedby_patent_date': '2019-07-23'}, {'citedby_patent_id': '10361990', 'citedby_patent_title': 'Computer implemented methods and apparatus for integrating a social network information feed with a network communications application', 'citedby_patent_date': '2019-07-23'}, {'citedby_patent_id': '10362126', 'citedby_patent_title': 'Enabling photoset recommendations', 'citedby_patent_date': '2019-07-23'}, {'citedby_patent_id': '10367649', 'citedby_patent_title': 'Smart scheduling and reporting for teams', 'citedby_patent_date': '2019-07-30'}, {'citedby_patent_id': '10372421', 'citedby_patent_title': 'Platform provider architecture creation utilizing platform architecture type unit definitions', 'citedby_patent_date': '2019-08-06'}, {'citedby_patent_id': '10372934', 'citedby_patent_title': 'Access controlled queries against user data in a datastore', 'citedby_patent_date': '2019-08-06'}, {'citedby_patent_id': '10374987', 'citedby_patent_title': 'Electronic notifications of users concurrently interacting with the same feed item of a social network feed', 'citedby_patent_date': '2019-08-06'}, {'citedby_patent_id': '10379724', 'citedby_patent_title': 'Providing a user interface for customizing state transitions of panes in a bounding window', 'citedby_patent_date': '2019-08-13'}, {'citedby_patent_id': '10380094', 'citedby_patent_title': 'Custom multi-tenant non-relational platform objects', 'citedby_patent_date': '2019-08-13'}, {'citedby_patent_id': '10380347', 'citedby_patent_title': 'Hierarchical runtime analysis framework for defining vulnerabilities', 'citedby_patent_date': '2019-08-13'}, {'citedby_patent_id': '10387041', 'citedby_patent_title': 'Data migration system', 'citedby_patent_date': '2019-08-20'}, {'citedby_patent_id': '10387439', 'citedby_patent_title': 'Configuring service consoles based on service feature templates using a database system', 'citedby_patent_date': '2019-08-20'}, {'citedby_patent_id': '10387658', 'citedby_patent_title': 'Runtime analysis of software security vulnerabilities', 'citedby_patent_date': '2019-08-20'}, {'citedby_patent_id': '10387821', 'citedby_patent_title': 'Quantitative metrics for assessing status of a platform architecture for cloud computing', 'citedby_patent_date': '2019-08-20'}, {'citedby_patent_id': '10394412', 'citedby_patent_title': 'User-customizable permissions in a computing environment', 'citedby_patent_date': '2019-08-27'}, {'citedby_patent_id': '10402174', 'citedby_patent_title': 'Overriding component attributes in a web application builder', 'citedby_patent_date': '2019-09-03'}, {'citedby_patent_id': '10402367', 'citedby_patent_title': 'Batch job processing using a database system', 'citedby_patent_date': '2019-09-03'}, {'citedby_patent_id': '10402426', 'citedby_patent_title': 'Generating event suggestions for users from social information', 'citedby_patent_date': '2019-09-03'}, {'citedby_patent_id': '10409816', 'citedby_patent_title': 'Accessing and displaying shared data', 'citedby_patent_date': '2019-09-10'}, {'citedby_patent_id': '10410107', 'citedby_patent_title': 'Natural language platform for database system', 'citedby_patent_date': '2019-09-10'}, {'citedby_patent_id': '10411907', 'citedby_patent_title': 'Secure remote user authentication leveraging public key cryptography and key splitting', 'citedby_patent_date': '2019-09-10'}, {'citedby_patent_id': '10416952', 'citedby_patent_title': 'Identifying a viewport within a browser window', 'citedby_patent_date': '2019-09-17'}, {'citedby_patent_id': '10417210', 'citedby_patent_title': 'Multi-token matching scheme', 'citedby_patent_date': '2019-09-17'}, {'citedby_patent_id': '10417260', 'citedby_patent_title': 'Hash tag management in a microblogging infrastructure', 'citedby_patent_date': '2019-09-17'}, {'citedby_patent_id': '10423907', 'citedby_patent_title': 'Geolocation based work data on a mobile device using a database system', 'citedby_patent_date': '2019-09-24'}, {'citedby_patent_id': '10423909', 'citedby_patent_title': 'Method and system for managing business deals', 'citedby_patent_date': '2019-09-24'}, {'citedby_patent_id': '10430765', 'citedby_patent_title': 'Processing keyboard input to perform events in relation to calendar items using a web browser-based application or online service', 'citedby_patent_date': '2019-10-01'}, {'citedby_patent_id': '10437454', 'citedby_patent_title': 'Dynamically scaled navigation system for social network data', 'citedby_patent_date': '2019-10-08'}, {'citedby_patent_id': '10437834', 'citedby_patent_title': 'Displaying aggregated connection data using a database system', 'citedby_patent_date': '2019-10-08'}, {'citedby_patent_id': '10447672', 'citedby_patent_title': 'Facilitating encrypted persistent storage in browsers', 'citedby_patent_date': '2019-10-15'}, {'citedby_patent_id': '10459450', 'citedby_patent_title': 'Robot delivery system', 'citedby_patent_date': '2019-10-29'}, {'citedby_patent_id': '10467225', 'citedby_patent_title': 'Identifying recurring sequences of user interactions with an application', 'citedby_patent_date': '2019-11-05'}, {'citedby_patent_id': '10469438', 'citedby_patent_title': 'Facilitating integration of collaborative communication platform and document collaboration tool', 'citedby_patent_date': '2019-11-05'}, {'citedby_patent_id': '10481996', 'citedby_patent_title': 'Hybrid code modification in intermediate language for software application', 'citedby_patent_date': '2019-11-19'}, {'citedby_patent_id': '10482141', 'citedby_patent_title': 'Extensible moderation framework', 'citedby_patent_date': '2019-11-19'}, {'citedby_patent_id': '10489170', 'citedby_patent_title': 'Application warmup engine', 'citedby_patent_date': '2019-11-26'}, {'citedby_patent_id': '10489580', 'citedby_patent_title': 'Journaling system with segregated data access', 'citedby_patent_date': '2019-11-26'}, {'citedby_patent_id': '10489747', 'citedby_patent_title': 'System and methods to facilitate social media', 'citedby_patent_date': '2019-11-26'}, {'citedby_patent_id': '10489790', 'citedby_patent_title': 'Integrating and managing social networking information in an on-demand database system', 'citedby_patent_date': '2019-11-26'}, {'citedby_patent_id': '10496673', 'citedby_patent_title': 'Org sync async subscribe emails', 'citedby_patent_date': '2019-12-03'}, {'citedby_patent_id': '10496813', 'citedby_patent_title': 'Enclave pool shared key', 'citedby_patent_date': '2019-12-03'}, {'citedby_patent_id': '10503806', 'citedby_patent_title': 'Extracting a portion of a document, such as a web page', 'citedby_patent_date': '2019-12-10'}, {'citedby_patent_id': '10509546', 'citedby_patent_title': 'History component for single page application', 'citedby_patent_date': '2019-12-17'}, {'citedby_patent_id': '10509633', 'citedby_patent_title': 'Base editor component in a web application builder framework', 'citedby_patent_date': '2019-12-17'}, {'citedby_patent_id': '10514896', 'citedby_patent_title': 'Web application builder framework', 'citedby_patent_date': '2019-12-24'}, {'citedby_patent_id': '10520948', 'citedby_patent_title': 'Robot delivery method', 'citedby_patent_date': '2019-12-31'}, {'citedby_patent_id': '10521804', 'citedby_patent_title': 'Driving customer service interactions on social media', 'citedby_patent_date': '2019-12-31'}, {'citedby_patent_id': '10528370', 'citedby_patent_title': 'Framework for custom actions on an information feed', 'citedby_patent_date': '2020-01-07'}, {'citedby_patent_id': '10528722', 'citedby_patent_title': 'Enclave pool shared key', 'citedby_patent_date': '2020-01-07'}, {'citedby_patent_id': '10528816', 'citedby_patent_title': 'System and method for retrieving and displaying supplemental information and pertinent data using augmented reality', 'citedby_patent_date': '2020-01-07'}, {'citedby_patent_id': '10536439', 'citedby_patent_title': 'Client fingerprinting for information system security', 'citedby_patent_date': '2020-01-14'}, {'citedby_patent_id': '10540149', 'citedby_patent_title': 'Property editor component in a web application builder framework', 'citedby_patent_date': '2020-01-21'}, {'citedby_patent_id': '10540369', 'citedby_patent_title': 'Org sync suspend and resume data sync', 'citedby_patent_date': '2020-01-21'}, {'citedby_patent_id': '10540413', 'citedby_patent_title': 'Fragmenting newsfeed objects', 'citedby_patent_date': '2020-01-21'}, {'citedby_patent_id': '10540620', 'citedby_patent_title': 'Personalized aggregated project team activity feed', 'citedby_patent_date': '2020-01-21'}, {'citedby_patent_id': '10545962', 'citedby_patent_title': 'Relational database instruction validation', 'citedby_patent_date': '2020-01-28'}, {'citedby_patent_id': '10547583', 'citedby_patent_title': 'Combining updates of a social network feed', 'citedby_patent_date': '2020-01-28'}, {'citedby_patent_id': '10552464', 'citedby_patent_title': 'Identifying relevant material for cases', 'citedby_patent_date': '2020-02-04'}, {'citedby_patent_id': '10554503', 'citedby_patent_title': 'Methods and apparatus for interfacing with a phone system in an on-demand service environment', 'citedby_patent_date': '2020-02-04'}, {'citedby_patent_id': '10554769', 'citedby_patent_title': 'Method and system for collecting and presenting historical communication data for a mobile device', 'citedby_patent_date': '2020-02-04'}, {'citedby_patent_id': '10559042', 'citedby_patent_title': 'Capturing information regarding an interaction to a database', 'citedby_patent_date': '2020-02-11'}, {'citedby_patent_id': '10560349', 'citedby_patent_title': 'Data consistency of policy enforcement for distributed applications', 'citedby_patent_date': '2020-02-11'}, {'citedby_patent_id': '10565217', 'citedby_patent_title': 'Computer implemented methods and apparatus for recommending events', 'citedby_patent_date': '2020-02-18'}, {'citedby_patent_id': '10567311', 'citedby_patent_title': 'Publisher and share action integration in a user interface for automated messaging', 'citedby_patent_date': '2020-02-18'}, {'citedby_patent_id': '10567505', 'citedby_patent_title': 'Methods and systems for session synchronization and sharing of applications between different user systems of a user', 'citedby_patent_date': '2020-02-18'}, {'citedby_patent_id': '10572031', 'citedby_patent_title': 'Processing keyboard input to cause re-sizing of items in a user interface of a web browser-based application', 'citedby_patent_date': '2020-02-25'}, {'citedby_patent_id': '10572467', 'citedby_patent_title': 'Computer implemented methods and apparatus for feed-based case management', 'citedby_patent_date': '2020-02-25'}, {'citedby_patent_id': '10579368', 'citedby_patent_title': 'Blockchain version control systems', 'citedby_patent_date': '2020-03-03'}, {'citedby_patent_id': '10579641', 'citedby_patent_title': 'Facilitating mobile device interaction with an enterprise database system', 'citedby_patent_date': '2020-03-03'}, {'citedby_patent_id': '10579691', 'citedby_patent_title': 'Application programming interface representation of multi-tenant non-relational platform objects', 'citedby_patent_date': '2020-03-03'}, {'citedby_patent_id': '10579692', 'citedby_patent_title': 'Composite keys for multi-tenant non-relational platform objects', 'citedby_patent_date': '2020-03-03'}, {'citedby_patent_id': '10579711', 'citedby_patent_title': 'Dynamically providing a feed of stories about a user of a social networking system', 'citedby_patent_date': '2020-03-03'}, {'citedby_patent_id': '10585564', 'citedby_patent_title': 'Computer implemented methods and apparatus for representing a portion of a user interface as a network address', 'citedby_patent_date': '2020-03-10'}, {'citedby_patent_id': '10585955', 'citedby_patent_title': 'System and method for providing an information-centric application', 'citedby_patent_date': '2020-03-10'}, {'citedby_patent_id': '10587401', 'citedby_patent_title': 'Secure handling of customer-supplied encryption secrets', 'citedby_patent_date': '2020-03-10'}, {'citedby_patent_id': '10592474', 'citedby_patent_title': 'Processing log files using a database system', 'citedby_patent_date': '2020-03-17'}, {'citedby_patent_id': '10592487', 'citedby_patent_title': 'Third party files in an on-demand database service', 'citedby_patent_date': '2020-03-17'}, {'citedby_patent_id': '10599683', 'citedby_patent_title': 'Interest groups based on network feed items', 'citedby_patent_date': '2020-03-24'}, {'citedby_patent_id': '10601761', 'citedby_patent_title': 'Generating guest suggestions for events in a social networking system', 'citedby_patent_date': '2020-03-24'}, {'citedby_patent_id': '10606436', 'citedby_patent_title': 'Computer implemented methods and apparatus for composing and batch publishing feed items in a feed-based interaction context', 'citedby_patent_date': '2020-03-31'}, {'citedby_patent_id': '10606860', 'citedby_patent_title': 'Systems and methods for interacting with external content objects', 'citedby_patent_date': '2020-03-31'}, {'citedby_patent_id': '10613709', 'citedby_patent_title': 'Leveraging and managing assessment environments in an assessment hub', 'citedby_patent_date': '2020-04-07'}, {'citedby_patent_id': '10621238', 'citedby_patent_title': 'Application update system, method and computer program product', 'citedby_patent_date': '2020-04-14'}, {'citedby_patent_id': '10623510', 'citedby_patent_title': 'Display of person based information including person notes', 'citedby_patent_date': '2020-04-14'}, {'citedby_patent_id': '10627983', 'citedby_patent_title': 'Generating data for managing encounters in a virtual world environment', 'citedby_patent_date': '2020-04-21'}, {'citedby_patent_id': '10635659', 'citedby_patent_title': 'Mobile application bundled with metadata database', 'citedby_patent_date': '2020-04-28'}, {'citedby_patent_id': '10635733', 'citedby_patent_title': 'Personalized user-categorized recommendations', 'citedby_patent_date': '2020-04-28'}, {'citedby_patent_id': '10637658', 'citedby_patent_title': 'Secure internal user authentication leveraging public key cryptography and key splitting', 'citedby_patent_date': '2020-04-28'}, {'citedby_patent_id': '10642468', 'citedby_patent_title': 'Accessibility lock and accessibility pause', 'citedby_patent_date': '2020-05-05'}, {'citedby_patent_id': '10642474', 'citedby_patent_title': 'Processing keyboard input to cause movement of items in a user interface of a web browser-based application', 'citedby_patent_date': '2020-05-05'}, {'citedby_patent_id': '10642872', 'citedby_patent_title': 'System for optimizing content queries', 'citedby_patent_date': '2020-05-05'}, {'citedby_patent_id': '10645138', 'citedby_patent_title': 'Event stream processing system using a coordinating spout instance', 'citedby_patent_date': '2020-05-05'}, {'citedby_patent_id': '10650028', 'citedby_patent_title': 'Relational database instruction validation', 'citedby_patent_date': '2020-05-12'}, {'citedby_patent_id': '10650337', 'citedby_patent_title': 'Technical field service inventory management', 'citedby_patent_date': '2020-05-12'}, {'citedby_patent_id': '10664192', 'citedby_patent_title': 'In-memory service with plural buffer type assignment', 'citedby_patent_date': '2020-05-26'}, {'citedby_patent_id': '10664244', 'citedby_patent_title': 'Dynamic page previewer for a web application builder', 'citedby_patent_date': '2020-05-26'}, {'citedby_patent_id': '10664266', 'citedby_patent_title': 'Maintaining client version affinity during a server cluster upgrade', 'citedby_patent_date': '2020-05-26'}, {'citedby_patent_id': '10664591', 'citedby_patent_title': 'Enclave pools', 'citedby_patent_date': '2020-05-26'}, {'citedby_patent_id': '10664928', 'citedby_patent_title': 'Computer implemented methods and apparatus for informing a user of social network data when the data is relevant to the user', 'citedby_patent_date': '2020-05-26'}, {'citedby_patent_id': '10666722', 'citedby_patent_title': 'Message delivery in a distributed server environment', 'citedby_patent_date': '2020-05-26'}, {'citedby_patent_id': '10671236', 'citedby_patent_title': 'Stateful, contextual, and draggable embedded widget', 'citedby_patent_date': '2020-06-02'}, {'citedby_patent_id': '10671248', 'citedby_patent_title': 'Live agent chat console', 'citedby_patent_date': '2020-06-02'}, {'citedby_patent_id': '10671626', 'citedby_patent_title': 'Identity consolidation in heterogeneous data environment', 'citedby_patent_date': '2020-06-02'}, {'citedby_patent_id': '10671739', 'citedby_patent_title': 'Managing the sharing of common library packages with subscribers', 'citedby_patent_date': '2020-06-02'}, {'citedby_patent_id': '10678757', 'citedby_patent_title': 'Reliable generation of a unique key in a distributed system', 'citedby_patent_date': '2020-06-09'}, {'citedby_patent_id': '10678838', 'citedby_patent_title': 'Augmented reality display apparatus and related methods using database record data', 'citedby_patent_date': '2020-06-09'}, {'citedby_patent_id': '10680958', 'citedby_patent_title': 'Policy enforcement as a service for third party platforms', 'citedby_patent_date': '2020-06-09'}, {'citedby_patent_id': '10684752', 'citedby_patent_title': 'Computer implemented methods and apparatus for responding to actionable text patterns in a feed item', 'citedby_patent_date': '2020-06-16'}, {'citedby_patent_id': '10685004', 'citedby_patent_title': 'Multiple feature hash map to enable feature selection and efficient memory usage', 'citedby_patent_date': '2020-06-16'}, {'citedby_patent_id': '10685072', 'citedby_patent_title': 'Personalizing an online service based on data collected for a user of a computing device', 'citedby_patent_date': '2020-06-16'}, {'citedby_patent_id': '10693883', 'citedby_patent_title': 'Technologies for integrating and sandboxing web resources', 'citedby_patent_date': '2020-06-23'}, {'citedby_patent_id': '10693922', 'citedby_patent_title': 'Multi-channel customer engagement platform', 'citedby_patent_date': '2020-06-23'}, {'citedby_patent_id': '10693951', 'citedby_patent_title': 'Decentralized, resource aware load distribution in a distributed system', 'citedby_patent_date': '2020-06-23'}, {'citedby_patent_id': '10693952', 'citedby_patent_title': 'Technologies for low latency messaging', 'citedby_patent_date': '2020-06-23'}, {'citedby_patent_id': '10713066', 'citedby_patent_title': 'Generating content objects using an integrated development environment', 'citedby_patent_date': '2020-07-14'}, {'citedby_patent_id': '10713070', 'citedby_patent_title': 'Systems and methods for capturing and visualizing user interactions across devices', 'citedby_patent_date': '2020-07-14'}, {'citedby_patent_id': '10713223', 'citedby_patent_title': 'Opportunistic gossip-type dissemination of node metrics in server clusters', 'citedby_patent_date': '2020-07-14'}, {'citedby_patent_id': '10713604', 'citedby_patent_title': 'Bi-directional notification framework', 'citedby_patent_date': '2020-07-14'}, {'citedby_patent_id': '10714091', 'citedby_patent_title': 'Systems and methods to present voice message information to a user of a computing device', 'citedby_patent_date': '2020-07-14'}, {'citedby_patent_id': '10715525', 'citedby_patent_title': 'Computer implemented methods and apparatus for providing access to an online social network', 'citedby_patent_date': '2020-07-14'}, {'citedby_patent_id': '10726039', 'citedby_patent_title': 'Systems and methods for updating database indexes', 'citedby_patent_date': '2020-07-28'}, {'citedby_patent_id': '10726505', 'citedby_patent_title': 'Following data records in an information feed', 'citedby_patent_date': '2020-07-28'}, {'citedby_patent_id': '10733369', 'citedby_patent_title': 'Data storage and retrieval system and method for storing cell coordinates in a computer memory', 'citedby_patent_date': '2020-08-04'}, {'citedby_patent_id': '10739991', 'citedby_patent_title': 'System and method of providing an overlay user interface for a touchscreen display', 'citedby_patent_date': '2020-08-11'}, {'citedby_patent_id': '10740455', 'citedby_patent_title': 'Encave pool management', 'citedby_patent_date': '2020-08-11'}, {'citedby_patent_id': '10747551', 'citedby_patent_title': 'Software application optimization', 'citedby_patent_date': '2020-08-18'}, {'citedby_patent_id': '10747905', 'citedby_patent_title': 'Enclave ring and pair topologies', 'citedby_patent_date': '2020-08-18'}, {'citedby_patent_id': '10761904', 'citedby_patent_title': 'Method and system for synchronizing and joining multiple calls to the same asynchronous code segment', 'citedby_patent_date': '2020-09-01'}, {'citedby_patent_id': '10768787', 'citedby_patent_title': 'Collecting and presenting data including links from communications sent to or from a user', 'citedby_patent_date': '2020-09-08'}, {'citedby_patent_id': '10768818', 'citedby_patent_title': 'Data migration system', 'citedby_patent_date': '2020-09-08'}, {'citedby_patent_id': '10769119', 'citedby_patent_title': 'Methods and apparatus for suppressing network feed activities using an information feed in an on-demand database service environment', 'citedby_patent_date': '2020-09-08'}, {'citedby_patent_id': '10769361', 'citedby_patent_title': 'Data storage and retrieval system and method for storing cell coordinates in a computer memory', 'citedby_patent_date': '2020-09-08'}, {'citedby_patent_id': '10769563', 'citedby_patent_title': 'Method and system for managing business deals', 'citedby_patent_date': '2020-09-08'}, {'citedby_patent_id': '10771353', 'citedby_patent_title': 'Policy enforcement as a service for third party platforms with asynchronous user tracking mechanisms', 'citedby_patent_date': '2020-09-08'}, {'citedby_patent_id': '10775969', 'citedby_patent_title': 'System and method for notifying a softphone of navigation change events', 'citedby_patent_date': '2020-09-15'}, {'citedby_patent_id': '10776425', 'citedby_patent_title': 'Systems and methods for providing access to external content objects', 'citedby_patent_date': '2020-09-15'}, {'citedby_patent_id': '10778543', 'citedby_patent_title': 'Opaque interface for enclosed/wrapped asynchronous pushing and/or pulling data between policy enforcement as a service (PEaaS) components', 'citedby_patent_date': '2020-09-15'}, {'citedby_patent_id': '10778559', 'citedby_patent_title': 'Facilitating simulation of network conditions in a hybrid application environment', 'citedby_patent_date': '2020-09-15'}, {'citedby_patent_id': '10778611', 'citedby_patent_title': 'Techniques for providing connections to services in a network environment', 'citedby_patent_date': '2020-09-15'}, {'citedby_patent_id': '10778624', 'citedby_patent_title': 'Systems and methods for spam filtering', 'citedby_patent_date': '2020-09-15'}, {'citedby_patent_id': '10783188', 'citedby_patent_title': 'Intelligent embedded self-help service', 'citedby_patent_date': '2020-09-22'}, {'citedby_patent_id': '10796015', 'citedby_patent_title': 'Method and system for anonymous user data storage and controlled data access', 'citedby_patent_date': '2020-10-06'}, {'citedby_patent_id': '10797874', 'citedby_patent_title': 'Secure cryptlet tunnel', 'citedby_patent_date': '2020-10-06'}, {'citedby_patent_id': '10802944', 'citedby_patent_title': 'Dynamically maintaining alarm thresholds for software application performance management', 'citedby_patent_date': '2020-10-13'}, {'citedby_patent_id': '10803080', 'citedby_patent_title': 'Thread record provider', 'citedby_patent_date': '2020-10-13'}, {'citedby_patent_id': '10803493', 'citedby_patent_title': 'System and method for aggregating web clipping data', 'citedby_patent_date': '2020-10-13'}, {'citedby_patent_id': '10810158', 'citedby_patent_title': 'Filtering and feeds', 'citedby_patent_date': '2020-10-20'}, {'citedby_patent_id': '10810230', 'citedby_patent_title': 'Thread record provider', 'citedby_patent_date': '2020-10-20'}, {'citedby_patent_id': '10819800', 'citedby_patent_title': 'Methods and systems for providing time and date specific software user interfaces', 'citedby_patent_date': '2020-10-27'}, {'citedby_patent_id': '10824620', 'citedby_patent_title': 'Compiling a relational datastore query from a user input', 'citedby_patent_date': '2020-11-03'}, {'citedby_patent_id': '10833858', 'citedby_patent_title': 'Secure cryptlet tunnel', 'citedby_patent_date': '2020-11-10'}, {'citedby_patent_id': '10846068', 'citedby_patent_title': 'Interactions layer in a web application builder framework', 'citedby_patent_date': '2020-11-24'}, {'citedby_patent_id': '10852926', 'citedby_patent_title': 'Filter of data presentations via user-generated links', 'citedby_patent_date': '2020-12-01'}, {'citedby_patent_id': '10853046', 'citedby_patent_title': 'Deployment of software applications on server clusters', 'citedby_patent_date': '2020-12-01'}, {'citedby_patent_id': '10853334', 'citedby_patent_title': 'Technologies for providing service isolation, scalability, and proactive tenant migration in multi-tenant ecosystems', 'citedby_patent_date': '2020-12-01'}, {'citedby_patent_id': '10860377', 'citedby_patent_title': 'Technologies for identifying thread memory allocation', 'citedby_patent_date': '2020-12-08'}, {'citedby_patent_id': '10862957', 'citedby_patent_title': 'Dissemination of node metrics in server clusters', 'citedby_patent_date': '2020-12-08'}, {'citedby_patent_id': '10866819', 'citedby_patent_title': 'Dynamically configuring a process based on environmental characteristics monitored by a mobile device', 'citedby_patent_date': '2020-12-15'}, {'citedby_patent_id': '10866959', 'citedby_patent_title': 'Debug tracing of next best action strategy engine', 'citedby_patent_date': '2020-12-15'}, {'citedby_patent_id': '10868790', 'citedby_patent_title': 'Facilitating integration of collaborative communication platform and document collaboration tool', 'citedby_patent_date': '2020-12-15'}, {'citedby_patent_id': '10872200', 'citedby_patent_title': 'Structured data in a business networking feed', 'citedby_patent_date': '2020-12-22'}, {'citedby_patent_id': '10878218', 'citedby_patent_title': 'Device fingerprinting, tracking, and management', 'citedby_patent_date': '2020-12-29'}, {'citedby_patent_id': '10880257', 'citedby_patent_title': 'Combining updates of a social network feed', 'citedby_patent_date': '2020-12-29'}, {'citedby_patent_id': '10884995', 'citedby_patent_title': 'Methods and apparatus for discontinuing the following of records in an on-demand database service environment', 'citedby_patent_date': '2021-01-05'}, {'citedby_patent_id': '10887281', 'citedby_patent_title': 'Automated host-based firewall configuration management', 'citedby_patent_date': '2021-01-05'}, {'citedby_patent_id': '10891263', 'citedby_patent_title': 'Systems and methods for providing database updates for data visualization', 'citedby_patent_date': '2021-01-12'}, {'citedby_patent_id': '10896192', 'citedby_patent_title': 'Allowing in-line edit to data table of linked data of a data store', 'citedby_patent_date': '2021-01-19'}, {'citedby_patent_id': '10904197', 'citedby_patent_title': 'Management of members of social network conversations', 'citedby_patent_date': '2021-01-26'}, {'citedby_patent_id': '10908765', 'citedby_patent_title': 'Displaying dynamic user interface elements in a social networking system', 'citedby_patent_date': '2021-02-02'}, {'citedby_patent_id': '10909070', 'citedby_patent_title': 'Memory efficient policy-based file deletion system', 'citedby_patent_date': '2021-02-02'}, {'citedby_patent_id': '10911383', 'citedby_patent_title': 'Spam filtering and person profiles', 'citedby_patent_date': '2021-02-02'}, {'citedby_patent_id': '10915299', 'citedby_patent_title': 'Automatically matching start criteria and completion criteria of a walkthrough for an application or online service', 'citedby_patent_date': '2021-02-09'}, {'citedby_patent_id': '10915519', 'citedby_patent_title': 'Processing offline updates to records of a database system', 'citedby_patent_date': '2021-02-09'}, {'citedby_patent_id': '10922062', 'citedby_patent_title': 'Software application optimization', 'citedby_patent_date': '2021-02-16'}, {'citedby_patent_id': '10922095', 'citedby_patent_title': 'Software application performance regression analysis', 'citedby_patent_date': '2021-02-16'}, {'citedby_patent_id': '10936308', 'citedby_patent_title': 'Multi-tenant collaborative learning', 'citedby_patent_date': '2021-03-02'}, {'citedby_patent_id': '10936477', 'citedby_patent_title': 'End-to-end user interface component testing', 'citedby_patent_date': '2021-03-02'}, {'citedby_patent_id': '10942726', 'citedby_patent_title': 'Providing an improved web user interface framework for building web applications', 'citedby_patent_date': '2021-03-09'}, {'citedby_patent_id': '10942903', 'citedby_patent_title': 'Rate limiting in a moderation framework of a database system', 'citedby_patent_date': '2021-03-09'}, {'citedby_patent_id': '10958431', 'citedby_patent_title': 'Authenticating computing system requests across tenants of a multi-tenant database system', 'citedby_patent_date': '2021-03-23'}, {'citedby_patent_id': '10958535', 'citedby_patent_title': 'Methods and apparatus for interfacing with a phone system in an on-demand service environment', 'citedby_patent_date': '2021-03-23'}, {'citedby_patent_id': '10958741', 'citedby_patent_title': 'Method and system for collecting and presenting historical communication data', 'citedby_patent_date': '2021-03-23'}, {'citedby_patent_id': '10963489', 'citedby_patent_title': 'Interest groups based on network feed items', 'citedby_patent_date': '2021-03-30'}, {'citedby_patent_id': '10963524', 'citedby_patent_title': 'Self populating address book', 'citedby_patent_date': '2021-03-30'}, {'citedby_patent_id': '10970468', 'citedby_patent_title': 'Systems and methods for creating custom actions', 'citedby_patent_date': '2021-04-06'}, {'citedby_patent_id': '10977285', 'citedby_patent_title': 'Using observations of a person to determine if data corresponds to the person', 'citedby_patent_date': '2021-04-13'}, {'citedby_patent_id': '10977661', 'citedby_patent_title': 'Integrating and managing social networking information in an on-demand database system', 'citedby_patent_date': '2021-04-13'}, {'citedby_patent_id': '10984070', 'citedby_patent_title': 'Dynamic content placeholders for microblogging posts', 'citedby_patent_date': '2021-04-20'}, {'citedby_patent_id': '10984174', 'citedby_patent_title': 'Dynamically providing a feed of stories about a user of a social networking system', 'citedby_patent_date': '2021-04-20'}, {'citedby_patent_id': '10984665', 'citedby_patent_title': 'Customizing sequences of content objects', 'citedby_patent_date': '2021-04-20'}, {'citedby_patent_id': '10997260', 'citedby_patent_title': 'Extensible moderation framework', 'citedby_patent_date': '2021-05-04'}, {'citedby_patent_id': '11009886', 'citedby_patent_title': 'Robot pickup method', 'citedby_patent_date': '2021-05-18'}, {'citedby_patent_id': '11023564', 'citedby_patent_title': 'Publication of collaborative file to library', 'citedby_patent_date': '2021-06-01'}, {'citedby_patent_id': '11025513', 'citedby_patent_title': 'Data consistency of policy enforcement for distributed applications', 'citedby_patent_date': '2021-06-01'}, {'citedby_patent_id': '11025629', 'citedby_patent_title': 'Secure component-based web applications', 'citedby_patent_date': '2021-06-01'}, {'citedby_patent_id': '11029940', 'citedby_patent_title': 'Maintaining client version affinity during a server cluster upgrade', 'citedby_patent_date': '2021-06-08'}, {'citedby_patent_id': '11030180', 'citedby_patent_title': 'Intra-platform data migration', 'citedby_patent_date': '2021-06-08'}, {'citedby_patent_id': '11036349', 'citedby_patent_title': 'Stateful, contextual, and draggable embedded widget', 'citedby_patent_date': '2021-06-15'}, {'citedby_patent_id': '11036357', 'citedby_patent_title': 'Generating or updating cross-community streams', 'citedby_patent_date': '2021-06-15'}, {'citedby_patent_id': '11037106', 'citedby_patent_title': 'Systems and methods to provide server side profile information', 'citedby_patent_date': '2021-06-15'}, {'citedby_patent_id': '11038863', 'citedby_patent_title': 'Facilitating encrypted persistent storage in browsers', 'citedby_patent_date': '2021-06-15'}, {'citedby_patent_id': '11042270', 'citedby_patent_title': 'History component for single page application', 'citedby_patent_date': '2021-06-22'}, {'citedby_patent_id': '11042434', 'citedby_patent_title': 'Database ingestion across internal and external data sources using error rate handling', 'citedby_patent_date': '2021-06-22'}, {'citedby_patent_id': '11048684', 'citedby_patent_title': 'Lazy tracking of user system web cache', 'citedby_patent_date': '2021-06-29'}, {'citedby_patent_id': '11054971', 'citedby_patent_title': 'Modular runtime environment', 'citedby_patent_date': '2021-07-06'}, {'citedby_patent_id': '11055162', 'citedby_patent_title': 'Database system performance degradation detection', 'citedby_patent_date': '2021-07-06'}, {'citedby_patent_id': '11061908', 'citedby_patent_title': 'Triggering actions in an information feed system', 'citedby_patent_date': '2021-07-13'}, {'citedby_patent_id': '11068445', 'citedby_patent_title': 'Synchronize collaboration entity files', 'citedby_patent_date': '2021-07-20'}, {'citedby_patent_id': '11074030', 'citedby_patent_title': 'Identifying a viewport within a browser window', 'citedby_patent_date': '2021-07-27'}, {'citedby_patent_id': '11075863', 'citedby_patent_title': 'Publisher and share action integration in a user interface for automated messaging', 'citedby_patent_date': '2021-07-27'}, {'citedby_patent_id': '11088925', 'citedby_patent_title': 'Technologies for capacity remediation in multi-tenant cloud environments', 'citedby_patent_date': '2021-08-10'}, {'citedby_patent_id': '11093467', 'citedby_patent_title': 'Tools and techniques for extracting knowledge from unstructured data retrieved from personal data sources', 'citedby_patent_date': '2021-08-17'}, {'citedby_patent_id': '11093486', 'citedby_patent_title': 'Identifying recurring sequences of user interactions with an application', 'citedby_patent_date': '2021-08-17'}, {'citedby_patent_id': '11093559', 'citedby_patent_title': 'Integration of news into direct social communications and interactions', 'citedby_patent_date': '2021-08-17'}, {'citedby_patent_id': '11093866', 'citedby_patent_title': 'Systems and methods for creating a rich social media profile', 'citedby_patent_date': '2021-08-17'}, {'citedby_patent_id': '11100065', 'citedby_patent_title': 'Tools and techniques for extracting knowledge from unstructured data retrieved from personal data sources', 'citedby_patent_date': '2021-08-24'}, {'citedby_patent_id': '11100281', 'citedby_patent_title': 'System and method for maintaining links and revisions', 'citedby_patent_date': '2021-08-24'}, {'citedby_patent_id': '11113302', 'citedby_patent_title': 'Updating one or more databases based on dataflow events', 'citedby_patent_date': '2021-09-07'}, {'citedby_patent_id': '11113459', 'citedby_patent_title': 'Dynamic guidance engine for software customization systems', 'citedby_patent_date': '2021-09-07'}, {'citedby_patent_id': '11120702', 'citedby_patent_title': 'Systems and methods for validating localized assessments in an external system', 'citedby_patent_date': '2021-09-14'}, {'citedby_patent_id': '11128606', 'citedby_patent_title': 'Client fingerprinting for information system security', 'citedby_patent_date': '2021-09-21'}, {'citedby_patent_id': '11137883', 'citedby_patent_title': 'Leveraging and managing assessment environments in an assessment hub', 'citedby_patent_date': '2021-10-05'}, {'citedby_patent_id': '11137885', 'citedby_patent_title': 'Systems and methods for cross domain service component interaction', 'citedby_patent_date': '2021-10-05'}, {'citedby_patent_id': '11138228', 'citedby_patent_title': 'Org sync async subscribe emails', 'citedby_patent_date': '2021-10-05'}, {'citedby_patent_id': '11157875', 'citedby_patent_title': 'Address extraction from a communication', 'citedby_patent_date': '2021-10-26'}, {'citedby_patent_id': '11165881', 'citedby_patent_title': 'Personalized content and services based on profile information', 'citedby_patent_date': '2021-11-02'}, {'citedby_patent_id': '11170322', 'citedby_patent_title': 'Using a client-side machine learning model dynamically in a mobile enterprise application on a mobile device', 'citedby_patent_date': '2021-11-09'}, {'citedby_patent_id': '11170381', 'citedby_patent_title': 'Method and system for generating insights regarding a party in response to a call', 'citedby_patent_date': '2021-11-09'}, {'citedby_patent_id': '11177973', 'citedby_patent_title': 'Distributed audience computation software service', 'citedby_patent_date': '2021-11-16'}, {'citedby_patent_id': '11190344', 'citedby_patent_title': 'Secure user authentication based on multiple asymmetric cryptography key pairs', 'citedby_patent_date': '2021-11-30'}, {'citedby_patent_id': '11190420', 'citedby_patent_title': 'Generating events from host based logging for consumption by a network logging host', 'citedby_patent_date': '2021-11-30'}, {'citedby_patent_id': '11194591', 'citedby_patent_title': 'Scalable software resource loader', 'citedby_patent_date': '2021-12-07'}, {'citedby_patent_id': '11194957', 'citedby_patent_title': 'Computer implemented methods and apparatus for representing a portion of a user interface as a network address', 'citedby_patent_date': '2021-12-07'}, {'citedby_patent_id': '11206273', 'citedby_patent_title': 'Content management system connect', 'citedby_patent_date': '2021-12-21'}, {'citedby_patent_id': '11216444', 'citedby_patent_title': 'Scalable event sourcing datastore', 'citedby_patent_date': '2022-01-04'}, {'citedby_patent_id': '11216785', 'citedby_patent_title': 'System and method for a single, unified community and learning experience', 'citedby_patent_date': '2022-01-04'}, {'citedby_patent_id': '11218461', 'citedby_patent_title': 'Authenticating computing system requests with an unknown destination across tenants of a multi-tenant system', 'citedby_patent_date': '2022-01-04'}, {'citedby_patent_id': '11226950', 'citedby_patent_title': 'Computer implemented methods and apparatus for feed-based case management', 'citedby_patent_date': '2022-01-18'}, {'citedby_patent_id': '11226988', 'citedby_patent_title': 'Generating event suggestions for users from social information', 'citedby_patent_date': '2022-01-18'}, {'citedby_patent_id': '11232223', 'citedby_patent_title': 'Providing web application components within remote systems', 'citedby_patent_date': '2022-01-25'}, {'citedby_patent_id': '11232409', 'citedby_patent_title': 'Presenting entity profile information to a user of a computing device', 'citedby_patent_date': '2022-01-25'}, {'citedby_patent_id': '11233787', 'citedby_patent_title': 'Automated on call and ad hoc access to restricted resources', 'citedby_patent_date': '2022-01-25'}, {'citedby_patent_id': '11240190', 'citedby_patent_title': 'Social network communities', 'citedby_patent_date': '2022-02-01'}, {'citedby_patent_id': '11245729', 'citedby_patent_title': 'Group optimization for network communications', 'citedby_patent_date': '2022-02-08'}, {'citedby_patent_id': '11250055', 'citedby_patent_title': 'Systems and methods for providing access to external content objects', 'citedby_patent_date': '2022-02-15'}, {'citedby_patent_id': '11252119', 'citedby_patent_title': 'Message logging using two-stage message logging mechanisms', 'citedby_patent_date': '2022-02-15'}, {'citedby_patent_id': '11263178', 'citedby_patent_title': 'Intelligent prediction of future generation of types of data objects based on past growth', 'citedby_patent_date': '2022-03-01'}, {'citedby_patent_id': '11281847', 'citedby_patent_title': 'Generating content objects using an integrated development environment', 'citedby_patent_date': '2022-03-22'}, {'citedby_patent_id': '11288338', 'citedby_patent_title': 'Extracting a portion of a document, such as a page', 'citedby_patent_date': '2022-03-29'}, {'citedby_patent_id': '11294648', 'citedby_patent_title': 'Application development architecture for mobile applications', 'citedby_patent_date': '2022-04-05'}, {'citedby_patent_id': '11295067', 'citedby_patent_title': 'Systems and methods for creating custom actions', 'citedby_patent_date': '2022-04-05'}, {'citedby_patent_id': '11295194', 'citedby_patent_title': 'Natural language platform for database system', 'citedby_patent_date': '2022-04-05'}, {'citedby_patent_id': '11296998', 'citedby_patent_title': 'Resolving information in a database environment', 'citedby_patent_date': '2022-04-05'}, {'citedby_patent_id': '11297028', 'citedby_patent_title': 'Management of members of social network conversations', 'citedby_patent_date': '2022-04-05'}, {'citedby_patent_id': '11297501', 'citedby_patent_title': 'Firewall discovery and management', 'citedby_patent_date': '2022-04-05'}, {'citedby_patent_id': '11303706', 'citedby_patent_title': 'Methods and systems for session synchronization and sharing of applications between different user systems of a user', 'citedby_patent_date': '2022-04-12'}, {'citedby_patent_id': '11308067', 'citedby_patent_title': 'Associating flows in different states to a database record', 'citedby_patent_date': '2022-04-19'}, {'citedby_patent_id': '11308168', 'citedby_patent_title': 'Application update system, method and computer program product', 'citedby_patent_date': '2022-04-19'}, {'citedby_patent_id': '11308260', 'citedby_patent_title': 'Hyperlink with graphical cue', 'citedby_patent_date': '2022-04-19'}, {'citedby_patent_id': '11308424', 'citedby_patent_title': 'Providing access to a private resource in an enterprise social networking system', 'citedby_patent_date': '2022-04-19'}, {'citedby_patent_id': '11314821', 'citedby_patent_title': 'Computer implemented methods and apparatus for providing internal custom feed items', 'citedby_patent_date': '2022-04-26'}, {'citedby_patent_id': '11327987', 'citedby_patent_title': 'Configuring service consoles based on service feature templates using a database system', 'citedby_patent_date': '2022-05-10'}, {'citedby_patent_id': '11341208', 'citedby_patent_title': 'Mobile application bundled with metadata database', 'citedby_patent_date': '2022-05-24'}, {'citedby_patent_id': '11354726', 'citedby_patent_title': 'Change order application programming interfaces', 'citedby_patent_date': '2022-06-07'}, {'citedby_patent_id': '11361150', 'citedby_patent_title': 'System and method for convergent document collaboration', 'citedby_patent_date': '2022-06-14'}, {'citedby_patent_id': '11366873', 'citedby_patent_title': 'Personalized content processing and delivery system and media', 'citedby_patent_date': '2022-06-21'}, {'citedby_patent_id': '11372660', 'citedby_patent_title': 'Framework for custom actions on an information feed', 'citedby_patent_date': '2022-06-28'}, {'citedby_patent_id': '11379266', 'citedby_patent_title': 'Automatically identifying and right sizing instances', 'citedby_patent_date': '2022-07-05'}, {'citedby_patent_id': '11381540', 'citedby_patent_title': 'Tracking premature events in electronic message processing', 'citedby_patent_date': '2022-07-05'}, {'citedby_patent_id': '11386434', 'citedby_patent_title': 'Integrating and managing social networking information in an on-demand database system', 'citedby_patent_date': '2022-07-12'}, {'citedby_patent_id': '11394679', 'citedby_patent_title': 'Display of communication system usage statistics', 'citedby_patent_date': '2022-07-19'}, {'citedby_patent_id': '11403265', 'citedby_patent_title': 'Dynamically controlling data migration', 'citedby_patent_date': '2022-08-02'}, {'citedby_patent_id': '11403280', 'citedby_patent_title': 'Master data management technologies', 'citedby_patent_date': '2022-08-02'}, {'citedby_patent_id': '11409695', 'citedby_patent_title': 'Batch job processing using a database system', 'citedby_patent_date': '2022-08-09'}, {'citedby_patent_id': '11416116', 'citedby_patent_title': 'Generation of mobile device notifications', 'citedby_patent_date': '2022-08-16'}, {'citedby_patent_id': '11416790', 'citedby_patent_title': 'Method and system for managing business deals', 'citedby_patent_date': '2022-08-16'}, {'citedby_patent_id': '11423063', 'citedby_patent_title': 'Flattening hierarchical database records using inverted indexing', 'citedby_patent_date': '2022-08-23'}, {'citedby_patent_id': '11429257', 'citedby_patent_title': 'Dynamically generated help based on derived hierarchical context', 'citedby_patent_date': '2022-08-30'}, {'citedby_patent_id': '11430346', 'citedby_patent_title': 'Systems and methods for validating localized assessments in an external system', 'citedby_patent_date': '2022-08-30'}, {'citedby_patent_id': '11431481', 'citedby_patent_title': 'System for securing memory dumps', 'citedby_patent_date': '2022-08-30'}, {'citedby_patent_id': '11431500', 'citedby_patent_title': 'Authorization code management for published static applications', 'citedby_patent_date': '2022-08-30'}, {'citedby_patent_id': '11431663', 'citedby_patent_title': 'Technologies for predicting personalized message send times', 'citedby_patent_date': '2022-08-30'}, {'citedby_patent_id': '11436223', 'citedby_patent_title': 'Query pin planner', 'citedby_patent_date': '2022-09-06'}, {'citedby_patent_id': '11436227', 'citedby_patent_title': 'Accessing and displaying shared data', 'citedby_patent_date': '2022-09-06'}, {'citedby_patent_id': '11436405', 'citedby_patent_title': 'Systems, methods, and computer-readable media for flow-through formatting for links', 'citedby_patent_date': '2022-09-06'}, {'citedby_patent_id': '11442754', 'citedby_patent_title': 'Targeting system for web page components', 'citedby_patent_date': '2022-09-13'}, {'citedby_patent_id': '11443108', 'citedby_patent_title': 'System and method for document management using branching', 'citedby_patent_date': '2022-09-13'}, {'citedby_patent_id': '11449525', 'citedby_patent_title': 'Facilitating mobile device interaction with an enterprise database system', 'citedby_patent_date': '2022-09-20'}, {'citedby_patent_id': '11455414', 'citedby_patent_title': 'Method and system for anonymous user data storage and controlled data access', 'citedby_patent_date': '2022-09-27'}, {'citedby_patent_id': '11460975', 'citedby_patent_title': 'Metric presentation within a flow builder', 'citedby_patent_date': '2022-10-04'}, {'citedby_patent_id': '11468020', 'citedby_patent_title': 'Methods and apparatus for discontinuing the following of records in an on-demand database service environment', 'citedby_patent_date': '2022-10-11'}, {'citedby_patent_id': '11474793', 'citedby_patent_title': 'Polymorphic application architecture', 'citedby_patent_date': '2022-10-18'}, {'citedby_patent_id': '11475049', 'citedby_patent_title': 'Methods and systems for organization extensibility and cluster scalability', 'citedby_patent_date': '2022-10-18'}, {'citedby_patent_id': '11481464', 'citedby_patent_title': 'Suggesting actions for evaluating user performance in an enterprise social network', 'citedby_patent_date': '2022-10-25'}, {'citedby_patent_id': '11483135', 'citedby_patent_title': 'Secure handling of customer-supplied encryption secrets', 'citedby_patent_date': '2022-10-25'}, {'citedby_patent_id': '11483258', 'citedby_patent_title': 'Techniques for providing connections to services in a network environment', 'citedby_patent_date': '2022-10-25'}, {'citedby_patent_id': '11487718', 'citedby_patent_title': 'Methods and apparatus for suppressing network feed activities using an information feed in an on-demand database service environment', 'citedby_patent_date': '2022-11-01'}, {'citedby_patent_id': '11496434', 'citedby_patent_title': 'Facilitating integration of collaborative communication platform and document collaboration tool', 'citedby_patent_date': '2022-11-08'}, {'citedby_patent_id': '11507617', 'citedby_patent_title': 'Unsupervised dialogue topic extraction', 'citedby_patent_date': '2022-11-22'}, {'citedby_patent_id': '11507729', 'citedby_patent_title': 'Scoped containers using CSS custom properties and color pairs', 'citedby_patent_date': '2022-11-22'}, {'citedby_patent_id': '11509608', 'citedby_patent_title': 'Methods and systems for configuring an email engine', 'citedby_patent_date': '2022-11-22'}, {'citedby_patent_id': '11514008', 'citedby_patent_title': 'Dynamically controlling data migration', 'citedby_patent_date': '2022-11-29'}, {'citedby_patent_id': '11520468', 'citedby_patent_title': 'Systems and methods for cross domain service component interaction', 'citedby_patent_date': '2022-12-06'}, {'citedby_patent_id': '11526539', 'citedby_patent_title': 'Temporary reservations in non-relational datastores', 'citedby_patent_date': '2022-12-13'}, {'citedby_patent_id': '11526547', 'citedby_patent_title': 'Multi-input playlist selection', 'citedby_patent_date': '2022-12-13'}, {'citedby_patent_id': '11526551', 'citedby_patent_title': 'Search query generation based on audio processing', 'citedby_patent_date': '2022-12-13'}, {'citedby_patent_id': '11537628', 'citedby_patent_title': 'Systems and methods for interacting with external content objects', 'citedby_patent_date': '2022-12-27'}, {'citedby_patent_id': '11539652', 'citedby_patent_title': 'Rate limiting actions with a message queue', 'citedby_patent_date': '2022-12-27'}, {'citedby_patent_id': '11544450', 'citedby_patent_title': 'Structured data in a business networking feed', 'citedby_patent_date': '2023-01-03'}, {'citedby_patent_id': '11544451', 'citedby_patent_title': 'System and method for maintaining links and revisions', 'citedby_patent_date': '2023-01-03'}, {'citedby_patent_id': '11552802', 'citedby_patent_title': 'Stateless mutual authentication between services', 'citedby_patent_date': '2023-01-10'}, {'citedby_patent_id': '11552916', 'citedby_patent_title': 'Indexing and searching content behind links presented in a communication', 'citedby_patent_date': '2023-01-10'}, {'citedby_patent_id': '11568322', 'citedby_patent_title': 'Using a client-side machine learning model dynamically in a mobile enterprise application on a mobile device', 'citedby_patent_date': '2023-01-31'}, {'citedby_patent_id': '11588840', 'citedby_patent_title': 'Automated encryption degradation detection, reporting and remediation', 'citedby_patent_date': '2023-02-21'}, {'citedby_patent_id': '11604814', 'citedby_patent_title': 'Interest groups based on network feed items', 'citedby_patent_date': '2023-03-14'}, {'citedby_patent_id': '11625409', 'citedby_patent_title': 'Driving application experience via configurable search-based navigation interface', 'citedby_patent_date': '2023-04-11'}, {'citedby_patent_id': '11627101', 'citedby_patent_title': 'Communication facilitated partner matching platform', 'citedby_patent_date': '2023-04-11'}, {'citedby_patent_id': '11636025', 'citedby_patent_title': 'Intelligent generation of automated user interface testing methods', 'citedby_patent_date': '2023-04-25'}, {'citedby_patent_id': '11636181', 'citedby_patent_title': 'Publication of collaborative file to library', 'citedby_patent_date': '2023-04-25'}, {'citedby_patent_id': '11637831', 'citedby_patent_title': 'Application programmer interface platform with direct data center access', 'citedby_patent_date': '2023-04-25'}, {'citedby_patent_id': '11640407', 'citedby_patent_title': 'Driving application experience via search inputs', 'citedby_patent_date': '2023-05-02'}, {'citedby_patent_id': '11640495', 'citedby_patent_title': 'Systems and methods for translation comments flowback', 'citedby_patent_date': '2023-05-02'}, {'citedby_patent_id': '11663205', 'citedby_patent_title': 'Technologies for asynchronous querying', 'citedby_patent_date': '2023-05-30'}, {'citedby_patent_id': '11675800', 'citedby_patent_title': 'Version control and execution on a mobile device', 'citedby_patent_date': '2023-06-13'}, {'citedby_patent_id': '11675803', 'citedby_patent_title': 'Updating one or more databases based on dataflow events', 'citedby_patent_date': '2023-06-13'}, {'citedby_patent_id': '11681522', 'citedby_patent_title': 'Self-healing build pipelines for an application build process across distributed computer platforms', 'citedby_patent_date': '2023-06-20'}, {'citedby_patent_id': '11687523', 'citedby_patent_title': 'System and method for efficiently transferring data for offline use', 'citedby_patent_date': '2023-06-27'}, {'citedby_patent_id': '11687524', 'citedby_patent_title': 'Identifying recurring sequences of user interactions with an application', 'citedby_patent_date': '2023-06-27'}, {'citedby_patent_id': '11693675', 'citedby_patent_title': 'Targeting system for web page components', 'citedby_patent_date': '2023-07-04'}, {'citedby_patent_id': '11698935', 'citedby_patent_title': 'System and method for copying linked documents', 'citedby_patent_date': '2023-07-11'}, {'citedby_patent_id': '11711330', 'citedby_patent_title': 'Out of office message configuration', 'citedby_patent_date': '2023-07-25'}, {'citedby_patent_id': '11714811', 'citedby_patent_title': 'Run-time querying of multi-tenant non-relational platform objects', 'citedby_patent_date': '2023-08-01'}, {'citedby_patent_id': '11714923', 'citedby_patent_title': 'Methods and systems for protecting data integrity', 'citedby_patent_date': '2023-08-01'}, {'citedby_patent_id': '11715110', 'citedby_patent_title': 'Integrating and managing social networking information in an on-demand database system', 'citedby_patent_date': '2023-08-01'}, {'citedby_patent_id': '11734265', 'citedby_patent_title': 'Automatic GraphQL data source field change handler', 'citedby_patent_date': '2023-08-22'}, {'citedby_patent_id': '11734505', 'citedby_patent_title': 'System and method for document branching', 'citedby_patent_date': '2023-08-22'}, {'citedby_patent_id': '11741119', 'citedby_patent_title': 'Canonical data model for distributed data catalog and metadata exchange', 'citedby_patent_date': '2023-08-29'}, {'citedby_patent_id': '11741408', 'citedby_patent_title': 'Method and system for managing business deals', 'citedby_patent_date': '2023-08-29'}, {'citedby_patent_id': '11748243', 'citedby_patent_title': 'Intelligent generation of page objects for user interface testing', 'citedby_patent_date': '2023-09-05'}, {'citedby_patent_id': '11750460', 'citedby_patent_title': 'Identifying duplicate entries in views of same and other network management interfaces', 'citedby_patent_date': '2023-09-05'}, {'citedby_patent_id': '11755400', 'citedby_patent_title': 'Error detection and mitigation for software pull requests', 'citedby_patent_date': '2023-09-12'}, {'citedby_patent_id': '11755720', 'citedby_patent_title': 'Secure membranes and cross namespace communication', 'citedby_patent_date': '2023-09-12'}, {'citedby_patent_id': '11755825', 'citedby_patent_title': 'Method, system, and computing device for facilitating private drafting', 'citedby_patent_date': '2023-09-12'}, {'citedby_patent_id': '11755995', 'citedby_patent_title': \"Locally hosting a social network using social data stored on a user's computer\", 'citedby_patent_date': '2023-09-12'}, {'citedby_patent_id': '11757806', 'citedby_patent_title': 'Publisher and share action integration in a user interface for automated messaging', 'citedby_patent_date': '2023-09-12'}, {'citedby_patent_id': '11762656', 'citedby_patent_title': 'Service fabrication tool', 'citedby_patent_date': '2023-09-19'}, {'citedby_patent_id': '11763208', 'citedby_patent_title': 'Systems and methods for creating a rich social media profile', 'citedby_patent_date': '2023-09-19'}, {'citedby_patent_id': '11809372', 'citedby_patent_title': 'Filtering and feeds', 'citedby_patent_date': '2023-11-07'}, {'citedby_patent_id': '11822583', 'citedby_patent_title': 'Interest groups based on network feed items', 'citedby_patent_date': '2023-11-21'}, {'citedby_patent_id': '11861300', 'citedby_patent_title': 'System and method for maintaining links and revisions', 'citedby_patent_date': '2024-01-02'}, {'citedby_patent_id': '11868702', 'citedby_patent_title': 'Scoped containers using CSS custom properties and color pairs', 'citedby_patent_date': '2024-01-09'}, {'citedby_patent_id': '11874797', 'citedby_patent_title': 'Smart privilege escalation in a cloud platform', 'citedby_patent_date': '2024-01-16'}, {'citedby_patent_id': '11875360', 'citedby_patent_title': 'Method and system for generating insights regarding a party in response to a call', 'citedby_patent_date': '2024-01-16'}, {'citedby_patent_id': '11887033', 'citedby_patent_title': 'Dynamically configuring a process based on environmental characteristics monitored by a mobile device', 'citedby_patent_date': '2024-01-30'}, {'citedby_patent_id': '11893377', 'citedby_patent_title': 'Dependency-aware rules engine for delivering managed package upgrades', 'citedby_patent_date': '2024-02-06'}, {'citedby_patent_id': '11907385', 'citedby_patent_title': 'Process flow granular control and execution', 'citedby_patent_date': '2024-02-20'}, {'citedby_patent_id': '11915834', 'citedby_patent_title': 'Efficient volume matching of patients and providers', 'citedby_patent_date': '2024-02-27'}, {'citedby_patent_id': '11916918', 'citedby_patent_title': 'System mode override during flow execution', 'citedby_patent_date': '2024-02-27'}, {'citedby_patent_id': '11930057', 'citedby_patent_title': 'Integrated system and method for executing a communal media session with dual-view sharing', 'citedby_patent_date': '2024-03-12'}, {'citedby_patent_id': '11934646', 'citedby_patent_title': 'Systems and methods for cross domain service component interaction', 'citedby_patent_date': '2024-03-19'}, {'citedby_patent_id': '11941141', 'citedby_patent_title': 'Method and system for anonymous user data storage and controlled data access', 'citedby_patent_date': '2024-03-26'}, {'citedby_patent_id': '7930430', 'citedby_patent_title': 'Systems and methods to provide assistance during address input', 'citedby_patent_date': '2011-04-19'}, {'citedby_patent_id': '7991764', 'citedby_patent_title': 'Method and system for communication, publishing, searching, sharing and dynamically providing a journal feed', 'citedby_patent_date': '2011-08-02'}, {'citedby_patent_id': '8060463', 'citedby_patent_title': 'Mining of user event data to identify users with common interests', 'citedby_patent_date': '2011-11-15'}, {'citedby_patent_id': '8073590', 'citedby_patent_title': 'System, method, and computer program product for utilizing a communication channel of a mobile device by a vehicular assembly', 'citedby_patent_date': '2011-12-06'}, {'citedby_patent_id': '8073839', 'citedby_patent_title': 'System and method of peer to peer searching, sharing, social networking and communication in one or more networks', 'citedby_patent_date': '2011-12-06'}, {'citedby_patent_id': '8078397', 'citedby_patent_title': 'System, method, and computer program product for social networking utilizing a vehicular assembly', 'citedby_patent_date': '2011-12-13'}, {'citedby_patent_id': '8103691', 'citedby_patent_title': 'System and method for dynamically generating a survey result(s) and utilizing survey data for customization, personalization and configuration of human operating system (HOS)', 'citedby_patent_date': '2012-01-24'}, {'citedby_patent_id': '8117225', 'citedby_patent_title': 'Drill-down system, method, and computer program product for focusing a search', 'citedby_patent_date': '2012-02-14'}, {'citedby_patent_id': '8117242', 'citedby_patent_title': 'System, method, and computer program product for performing a search in conjunction with use of an online application', 'citedby_patent_date': '2012-02-14'}, {'citedby_patent_id': '8131458', 'citedby_patent_title': 'System, method, and computer program product for instant messaging utilizing a vehicular assembly', 'citedby_patent_date': '2012-03-06'}, {'citedby_patent_id': '8145791', 'citedby_patent_title': 'Systems and methods to provide assistance during address input', 'citedby_patent_date': '2012-03-27'}, {'citedby_patent_id': '8166407', 'citedby_patent_title': 'Apparatus for increasing social interaction over an electronic network', 'citedby_patent_date': '2012-04-24'}, {'citedby_patent_id': '8171114', 'citedby_patent_title': 'System using specific geographic area multi-level caches for caching application data', 'citedby_patent_date': '2012-05-01'}, {'citedby_patent_id': '8171128', 'citedby_patent_title': \"Communicating a newsfeed of media content based on a member's interactions in a social network environment\", 'citedby_patent_date': '2012-05-01'}, {'citedby_patent_id': '8180829', 'citedby_patent_title': 'Message board aggregator', 'citedby_patent_date': '2012-05-15'}, {'citedby_patent_id': '8180852', 'citedby_patent_title': 'Apparatus for increasing social interaction over an electronic network', 'citedby_patent_date': '2012-05-15'}, {'citedby_patent_id': '8185096', 'citedby_patent_title': 'Systems and methods for multi-modal mobile media services', 'citedby_patent_date': '2012-05-22'}, {'citedby_patent_id': '8190692', 'citedby_patent_title': 'Location-based messaging system, method, and computer program product', 'citedby_patent_date': '2012-05-29'}, {'citedby_patent_id': '8219615', 'citedby_patent_title': 'Instantaneous symbol lookup', 'citedby_patent_date': '2012-07-10'}, {'citedby_patent_id': '8219906', 'citedby_patent_title': 'Instantaneous symbol lookup', 'citedby_patent_date': '2012-07-10'}, {'citedby_patent_id': '8224298', 'citedby_patent_title': 'Systems and methods for mobile media services utilizing a short form command structure', 'citedby_patent_date': '2012-07-17'}, {'citedby_patent_id': '8224773', 'citedby_patent_title': 'Mining of user event data to identify users with common interests', 'citedby_patent_date': '2012-07-17'}, {'citedby_patent_id': '8230062', 'citedby_patent_title': 'Referred internet traffic analysis system and method', 'citedby_patent_date': '2012-07-24'}, {'citedby_patent_id': '8265862', 'citedby_patent_title': 'System, method, and computer program product for communicating location-related information', 'citedby_patent_date': '2012-09-11'}, {'citedby_patent_id': '8296784', 'citedby_patent_title': 'Social network application programming interface', 'citedby_patent_date': '2012-10-23'}, {'citedby_patent_id': '8332488', 'citedby_patent_title': 'Multi-level cache with synch', 'citedby_patent_date': '2012-12-11'}, {'citedby_patent_id': '8334871', 'citedby_patent_title': 'Spawning projected avatars in a virtual universe', 'citedby_patent_date': '2012-12-18'}, {'citedby_patent_id': '8345049', 'citedby_patent_title': 'Method and apparatus for predicting avatar movement in a virtual universe', 'citedby_patent_date': '2013-01-01'}, {'citedby_patent_id': '8347322', 'citedby_patent_title': 'Social network application programming interface', 'citedby_patent_date': '2013-01-01'}, {'citedby_patent_id': '8352419', 'citedby_patent_title': 'Online marketplace for automatically extracted data', 'citedby_patent_date': '2013-01-08'}, {'citedby_patent_id': '8352969', 'citedby_patent_title': 'Social network application programming interface', 'citedby_patent_date': '2013-01-08'}, {'citedby_patent_id': '8352970', 'citedby_patent_title': 'Social network application programming interface', 'citedby_patent_date': '2013-01-08'}, {'citedby_patent_id': '8413059', 'citedby_patent_title': 'Image based electronic mail system', 'citedby_patent_date': '2013-04-02'}, {'citedby_patent_id': '8423545', 'citedby_patent_title': 'Providing user input suggestions for conflicting data using rank determinations', 'citedby_patent_date': '2013-04-16'}, {'citedby_patent_id': '8429011', 'citedby_patent_title': 'Method and system for targeted advertising based on topical memes', 'citedby_patent_date': '2013-04-23'}, {'citedby_patent_id': '8429277', 'citedby_patent_title': 'Cross social network data aggregation', 'citedby_patent_date': '2013-04-23'}, {'citedby_patent_id': '8443085', 'citedby_patent_title': 'Resolving information in a multitenant database environment', 'citedby_patent_date': '2013-05-14'}, {'citedby_patent_id': '8468168', 'citedby_patent_title': 'Display of profile information based on implicit actions', 'citedby_patent_date': '2013-06-18'}, {'citedby_patent_id': '8478722', 'citedby_patent_title': 'Enterprise level business information networking for changes in a database', 'citedby_patent_date': '2013-07-02'}, {'citedby_patent_id': '8498994', 'citedby_patent_title': 'Social files', 'citedby_patent_date': '2013-07-30'}, {'citedby_patent_id': '8503989', 'citedby_patent_title': 'Dynamic contact list', 'citedby_patent_date': '2013-08-06'}, {'citedby_patent_id': '8510164', 'citedby_patent_title': 'Method and system for targeted advertising based on topical memes', 'citedby_patent_date': '2013-08-13'}, {'citedby_patent_id': '8516591', 'citedby_patent_title': 'Security monitoring', 'citedby_patent_date': '2013-08-20'}, {'citedby_patent_id': '8522137', 'citedby_patent_title': 'Systems, methods, and machine readable media for social network application development using a custom markup language', 'citedby_patent_date': '2013-08-27'}, {'citedby_patent_id': '8535162', 'citedby_patent_title': 'Methods and systems for providing a challenge user interface for an enterprise social network', 'citedby_patent_date': '2013-09-17'}, {'citedby_patent_id': '8539234', 'citedby_patent_title': 'Secure client-side communication between multiple domains', 'citedby_patent_date': '2013-09-17'}, {'citedby_patent_id': '8549047', 'citedby_patent_title': 'Computer implemented methods and apparatus for feed-based case management', 'citedby_patent_date': '2013-10-01'}, {'citedby_patent_id': '8549073', 'citedby_patent_title': 'Cross social network data aggregation', 'citedby_patent_date': '2013-10-01'}, {'citedby_patent_id': '8549412', 'citedby_patent_title': 'Method and system for display of information in a communication system gathered from external sources', 'citedby_patent_date': '2013-10-01'}, {'citedby_patent_id': '8554723', 'citedby_patent_title': 'Mining of user event data to identify users with common interest', 'citedby_patent_date': '2013-10-08'}, {'citedby_patent_id': '8560554', 'citedby_patent_title': 'Methods and apparatus for selecting updates to associated records to publish on an information feed using importance weights in an on-demand database service environment', 'citedby_patent_date': '2013-10-15'}, {'citedby_patent_id': '8560575', 'citedby_patent_title': 'Methods and apparatus for selecting updates to associated records to publish on an information feed in an on-demand database service environment', 'citedby_patent_date': '2013-10-15'}, {'citedby_patent_id': '8566648', 'citedby_patent_title': 'Automated testing on devices', 'citedby_patent_date': '2013-10-22'}, {'citedby_patent_id': '8566792', 'citedby_patent_title': 'Validating visual components', 'citedby_patent_date': '2013-10-22'}, {'citedby_patent_id': '8572080', 'citedby_patent_title': 'Methods and systems for analyzing a network feed in a multi-tenant database system environment', 'citedby_patent_date': '2013-10-29'}, {'citedby_patent_id': '8572191', 'citedby_patent_title': 'Systems and methods for profile building', 'citedby_patent_date': '2013-10-29'}, {'citedby_patent_id': '8583683', 'citedby_patent_title': 'System and method for publishing, sharing and accessing selective content in a social network', 'citedby_patent_date': '2013-11-12'}, {'citedby_patent_id': '8595635', 'citedby_patent_title': 'System, method and apparatus for selecting content from web sources and posting content to web logs', 'citedby_patent_date': '2013-11-26'}, {'citedby_patent_id': '8600343', 'citedby_patent_title': 'Method and system for collecting and presenting historical communication data for a mobile device', 'citedby_patent_date': '2013-12-03'}, {'citedby_patent_id': '8620935', 'citedby_patent_title': 'Personalizing an online service based on data collected for a user of a computing device', 'citedby_patent_date': '2013-12-31'}, {'citedby_patent_id': '8626828', 'citedby_patent_title': 'Apparatus for increasing social interaction over an electronic network', 'citedby_patent_date': '2014-01-07'}, {'citedby_patent_id': '8661002', 'citedby_patent_title': 'Self populating address book', 'citedby_patent_date': '2014-02-25'}, {'citedby_patent_id': '8661076', 'citedby_patent_title': 'Business networking information feed alerts', 'citedby_patent_date': '2014-02-25'}, {'citedby_patent_id': '8666993', 'citedby_patent_title': 'System and method for social networking for managing multidimensional life stream related active note(s) and associated multidimensional active resources and actions', 'citedby_patent_date': '2014-03-04'}, {'citedby_patent_id': '8671349', 'citedby_patent_title': 'Virtual universe teleportation suggestion service', 'citedby_patent_date': '2014-03-11'}, {'citedby_patent_id': '8676833', 'citedby_patent_title': 'Method and system for requesting social services from group of users', 'citedby_patent_date': '2014-03-18'}, {'citedby_patent_id': '8682961', 'citedby_patent_title': 'Hyperlink with graphical cue', 'citedby_patent_date': '2014-03-25'}, {'citedby_patent_id': '8683003', 'citedby_patent_title': 'Hyperlink with graphical cue', 'citedby_patent_date': '2014-03-25'}, {'citedby_patent_id': '8688781', 'citedby_patent_title': 'System and method for creating multimedia content channel customized for social network', 'citedby_patent_date': '2014-04-01'}, {'citedby_patent_id': '8693649', 'citedby_patent_title': 'Methods and apparatus for interfacing with a phone system in an on-demand service environment', 'citedby_patent_date': '2014-04-08'}, {'citedby_patent_id': '8700704', 'citedby_patent_title': 'Message board aggregator', 'citedby_patent_date': '2014-04-15'}, {'citedby_patent_id': '8700735', 'citedby_patent_title': 'Multi-level cache with synch', 'citedby_patent_date': '2014-04-15'}, {'citedby_patent_id': '8713165', 'citedby_patent_title': 'Method and system for providing status of a machine', 'citedby_patent_date': '2014-04-29'}, {'citedby_patent_id': '8713530', 'citedby_patent_title': 'Test framework of visual components in a multitenant database environment', 'citedby_patent_date': '2014-04-29'}, {'citedby_patent_id': '8718241', 'citedby_patent_title': 'Methods and apparatus for interfacing with a phone system in an on-demand service environment', 'citedby_patent_date': '2014-05-06'}, {'citedby_patent_id': '8731151', 'citedby_patent_title': 'Methods and apparatus for partially updating a web page using an embedded iFrame', 'citedby_patent_date': '2014-05-20'}, {'citedby_patent_id': '8732150', 'citedby_patent_title': 'Methods and apparatus for suppressing network feed activities using an information feed in an on-demand database service environment', 'citedby_patent_date': '2014-05-20'}, {'citedby_patent_id': '8732606', 'citedby_patent_title': 'Computer implemented methods and apparatus for dynamic windowing in user interfaces', 'citedby_patent_date': '2014-05-20'}, {'citedby_patent_id': '8738603', 'citedby_patent_title': 'Metrics-based accessing of social threads', 'citedby_patent_date': '2014-05-27'}, {'citedby_patent_id': '8738620', 'citedby_patent_title': 'Implementing enterprise level business information networking', 'citedby_patent_date': '2014-05-27'}, {'citedby_patent_id': '8738719', 'citedby_patent_title': 'Image based electronic mail system', 'citedby_patent_date': '2014-05-27'}, {'citedby_patent_id': '8745060', 'citedby_patent_title': 'Indexing and searching content behind links presented in a communication', 'citedby_patent_date': '2014-06-03'}, {'citedby_patent_id': '8745134', 'citedby_patent_title': 'Cross social network data aggregation', 'citedby_patent_date': '2014-06-03'}, {'citedby_patent_id': '8745272', 'citedby_patent_title': 'Service cloud console', 'citedby_patent_date': '2014-06-03'}, {'citedby_patent_id': '8749690', 'citedby_patent_title': 'In-context content capture', 'citedby_patent_date': '2014-06-10'}, {'citedby_patent_id': '8751939', 'citedby_patent_title': 'Side tab navigation and page views personalization systems and methods', 'citedby_patent_date': '2014-06-10'}, {'citedby_patent_id': '8754848', 'citedby_patent_title': 'Presenting information to a user based on the current state of a user device', 'citedby_patent_date': '2014-06-17'}, {'citedby_patent_id': '8756221', 'citedby_patent_title': 'Social files', 'citedby_patent_date': '2014-06-17'}, {'citedby_patent_id': '8762870', 'citedby_patent_title': 'Multifunction drag-and-drop selection tool for selection of data objects in a social network application', 'citedby_patent_date': '2014-06-24'}, {'citedby_patent_id': '8768964', 'citedby_patent_title': 'Security monitoring', 'citedby_patent_date': '2014-07-01'}, {'citedby_patent_id': '8769416', 'citedby_patent_title': 'Service cloud console', 'citedby_patent_date': '2014-07-01'}, {'citedby_patent_id': '8775946', 'citedby_patent_title': 'Resolving information in a multitenant database environment', 'citedby_patent_date': '2014-07-08'}, {'citedby_patent_id': '8799778', 'citedby_patent_title': 'Scrolling velocity modulation in a tactile interface for a social networking system', 'citedby_patent_date': '2014-08-05'}, {'citedby_patent_id': '8812528', 'citedby_patent_title': 'Experience sharing system and method', 'citedby_patent_date': '2014-08-19'}, {'citedby_patent_id': '8818940', 'citedby_patent_title': 'Systems and methods for performing record actions in a multi-tenant database and application system', 'citedby_patent_date': '2014-08-26'}, {'citedby_patent_id': '8818985', 'citedby_patent_title': 'Rule-based prioritization of social data', 'citedby_patent_date': '2014-08-26'}, {'citedby_patent_id': '8825083', 'citedby_patent_title': 'Experience sharing system and method', 'citedby_patent_date': '2014-09-02'}, {'citedby_patent_id': '8832062', 'citedby_patent_title': 'Experience sharing system and method', 'citedby_patent_date': '2014-09-09'}, {'citedby_patent_id': '8832127', 'citedby_patent_title': 'Experience sharing system and method', 'citedby_patent_date': '2014-09-09'}, {'citedby_patent_id': '8832191', 'citedby_patent_title': 'Experience sharing system and method', 'citedby_patent_date': '2014-09-09'}, {'citedby_patent_id': '8850219', 'citedby_patent_title': 'Secure communications', 'citedby_patent_date': '2014-09-30'}, {'citedby_patent_id': '8856075', 'citedby_patent_title': 'System and method of sharing in a plurality of networks', 'citedby_patent_date': '2014-10-07'}, {'citedby_patent_id': '8856235', 'citedby_patent_title': 'Inferring user profile attributes from social information', 'citedby_patent_date': '2014-10-07'}, {'citedby_patent_id': '8886766', 'citedby_patent_title': 'Systems and methods for tracking responses on an online social network', 'citedby_patent_date': '2014-11-11'}, {'citedby_patent_id': '8892508', 'citedby_patent_title': 'Mining of user event data to identify users with common interests', 'citedby_patent_date': '2014-11-18'}, {'citedby_patent_id': '8892573', 'citedby_patent_title': 'Methods and apparatus for selecting updates to associated records to publish on an information feed in an on-demand database service environment', 'citedby_patent_date': '2014-11-18'}, {'citedby_patent_id': '8898582', 'citedby_patent_title': 'Configurable highlights panel for display of database records', 'citedby_patent_date': '2014-11-25'}, {'citedby_patent_id': '8903770', 'citedby_patent_title': 'Methods and apparatus for discontinuing the following of records in an on-demand database service environment', 'citedby_patent_date': '2014-12-02'}, {'citedby_patent_id': '8903852', 'citedby_patent_title': 'Experience sharing system and method', 'citedby_patent_date': '2014-12-02'}, {'citedby_patent_id': '8903943', 'citedby_patent_title': 'Integrating cloud applications and remote jobs', 'citedby_patent_date': '2014-12-02'}, {'citedby_patent_id': '8904011', 'citedby_patent_title': 'Resolving information in a multitenant database environment', 'citedby_patent_date': '2014-12-02'}, {'citedby_patent_id': '8904166', 'citedby_patent_title': 'Secure client-side communication between multiple domains', 'citedby_patent_date': '2014-12-02'}, {'citedby_patent_id': '8914438', 'citedby_patent_title': 'Methods and systems for providing a user interface in a multi-tenant database environment', 'citedby_patent_date': '2014-12-16'}, {'citedby_patent_id': '8914539', 'citedby_patent_title': 'Service cloud console', 'citedby_patent_date': '2014-12-16'}, {'citedby_patent_id': '8924956', 'citedby_patent_title': 'Systems and methods to identify users using an automated learning process', 'citedby_patent_date': '2014-12-30'}, {'citedby_patent_id': '8935275', 'citedby_patent_title': 'System and method for accessing and posting nodes of network and generating and updating information of connections between and among nodes of network', 'citedby_patent_date': '2015-01-13'}, {'citedby_patent_id': '8938411', 'citedby_patent_title': 'Inferring user family connections from social information', 'citedby_patent_date': '2015-01-20'}, {'citedby_patent_id': '8943136', 'citedby_patent_title': 'Creating and sharing interest lists in a social networking system', 'citedby_patent_date': '2015-01-27'}, {'citedby_patent_id': '8949270', 'citedby_patent_title': 'Methods and systems for processing social media data', 'citedby_patent_date': '2015-02-03'}, {'citedby_patent_id': '8949340', 'citedby_patent_title': 'Systems and methods for organizing content for mobile media services', 'citedby_patent_date': '2015-02-03'}, {'citedby_patent_id': '8954449', 'citedby_patent_title': \"Method and system for determining a user's brand influence\", 'citedby_patent_date': '2015-02-10'}, {'citedby_patent_id': '8959483', 'citedby_patent_title': 'Test framework of visual components in a multitenant database environment', 'citedby_patent_date': '2015-02-17'}, {'citedby_patent_id': '8965409', 'citedby_patent_title': 'User-generated community publication in an online neighborhood social network', 'citedby_patent_date': '2015-02-24'}, {'citedby_patent_id': '8972257', 'citedby_patent_title': 'Systems and methods to present voice message information to a user of a computing device', 'citedby_patent_date': '2015-03-03'}, {'citedby_patent_id': '8972431', 'citedby_patent_title': 'Synonym supported searches', 'citedby_patent_date': '2015-03-03'}, {'citedby_patent_id': '8973106', 'citedby_patent_title': 'Computer implemented methods and apparatus for providing permissions to users in an on-demand service environment', 'citedby_patent_date': '2015-03-03'}, {'citedby_patent_id': '8977675', 'citedby_patent_title': 'Methods and systems for providing time and date specific software user interfaces', 'citedby_patent_date': '2015-03-10'}, {'citedby_patent_id': '8982053', 'citedby_patent_title': 'Presenting a new user screen in response to detection of a user motion', 'citedby_patent_date': '2015-03-17'}, {'citedby_patent_id': '8984051', 'citedby_patent_title': 'Computer implemented methods and apparatus for communicating feed information to one or more recipients', 'citedby_patent_date': '2015-03-17'}, {'citedby_patent_id': '8984074', 'citedby_patent_title': 'Sender-based ranking of person profiles and multi-person automatic suggestions', 'citedby_patent_date': '2015-03-17'}, {'citedby_patent_id': '8984409', 'citedby_patent_title': 'Service cloud console', 'citedby_patent_date': '2015-03-17'}, {'citedby_patent_id': '8984434', 'citedby_patent_title': 'Computer implemented methods and apparatus for dynamic windowing in user interfaces', 'citedby_patent_date': '2015-03-17'}, {'citedby_patent_id': '8984541', 'citedby_patent_title': 'Social network application programming interface', 'citedby_patent_date': '2015-03-17'}, {'citedby_patent_id': '8990323', 'citedby_patent_title': 'Defining a social network model implied by communications data', 'citedby_patent_date': '2015-03-24'}, {'citedby_patent_id': '8990958', 'citedby_patent_title': 'Systems and methods for content management in an on demand environment', 'citedby_patent_date': '2015-03-24'}, {'citedby_patent_id': '8996573', 'citedby_patent_title': 'Journaling system with segregated data access', 'citedby_patent_date': '2015-03-31'}, {'citedby_patent_id': '9002754', 'citedby_patent_title': 'Campaign in a geo-spatial environment', 'citedby_patent_date': '2015-04-07'}, {'citedby_patent_id': '9003304', 'citedby_patent_title': 'Method and apparatus for moving an avatar in a virtual universe', 'citedby_patent_date': '2015-04-07'}, {'citedby_patent_id': '9003505', 'citedby_patent_title': 'Cross platform social networking authentication system', 'citedby_patent_date': '2015-04-07'}, {'citedby_patent_id': '9004396', 'citedby_patent_title': 'Skyteboard quadcopter and method', 'citedby_patent_date': '2015-04-14'}, {'citedby_patent_id': '9007364', 'citedby_patent_title': 'Augmented reality display apparatus and related methods using database record data', 'citedby_patent_date': '2015-04-14'}, {'citedby_patent_id': '9009669', 'citedby_patent_title': 'Visual user interface validator', 'citedby_patent_date': '2015-04-14'}, {'citedby_patent_id': '9009709', 'citedby_patent_title': 'Asynchronous rollup numbers forecasting methods and systems', 'citedby_patent_date': '2015-04-14'}, {'citedby_patent_id': '9020938', 'citedby_patent_title': 'Providing profile information using servers', 'citedby_patent_date': '2015-04-28'}, {'citedby_patent_id': '9021028', 'citedby_patent_title': 'Systems and methods for spam filtering', 'citedby_patent_date': '2015-04-28'}, {'citedby_patent_id': '9021435', 'citedby_patent_title': 'Methods and systems for providing a user interface in a multi-tenant database environment', 'citedby_patent_date': '2015-04-28'}, {'citedby_patent_id': '9022324', 'citedby_patent_title': 'Coordination of aerial vehicles through a central server', 'citedby_patent_date': '2015-05-05'}, {'citedby_patent_id': '9031957', 'citedby_patent_title': 'Structured data in a business networking feed', 'citedby_patent_date': '2015-05-12'}, {'citedby_patent_id': '9037516', 'citedby_patent_title': 'Direct mailing in a geo-spatial environment', 'citedby_patent_date': '2015-05-19'}, {'citedby_patent_id': '9037681', 'citedby_patent_title': 'Methods and systems for prioritizing multiple network feeds', 'citedby_patent_date': '2015-05-19'}, {'citedby_patent_id': '9037722', 'citedby_patent_title': 'Resolving information in a multitenant database environment', 'citedby_patent_date': '2015-05-19'}, {'citedby_patent_id': '9058363', 'citedby_patent_title': 'Computer implemented methods and apparatus for providing a distribution list of users in an online social network', 'citedby_patent_date': '2015-06-16'}, {'citedby_patent_id': '9058366', 'citedby_patent_title': 'Indexing and searching content behind links presented in a communication', 'citedby_patent_date': '2015-06-16'}, {'citedby_patent_id': '9063632', 'citedby_patent_title': 'Systems and methods for interacting with records via a publisher and an information feed', 'citedby_patent_date': '2015-06-23'}, {'citedby_patent_id': '9064287', 'citedby_patent_title': 'Computer implemented methods and apparatus for providing group-related social network information', 'citedby_patent_date': '2015-06-23'}, {'citedby_patent_id': '9064288', 'citedby_patent_title': 'Government structures and neighborhood leads in a geo-spatial environment', 'citedby_patent_date': '2015-06-23'}, {'citedby_patent_id': '9064339', 'citedby_patent_title': 'Computer implemented systems and methods for providing a mobile social enterprise interface', 'citedby_patent_date': '2015-06-23'}, {'citedby_patent_id': '9070101', 'citedby_patent_title': 'Peer-to-peer neighborhood delivery multi-copter and method', 'citedby_patent_date': '2015-06-30'}, {'citedby_patent_id': '9071367', 'citedby_patent_title': 'Emergency including crime broadcast in a neighborhood social network', 'citedby_patent_date': '2015-06-30'}, {'citedby_patent_id': '9071658', 'citedby_patent_title': 'Method and system for presenting a meeting in a cloud computing environment', 'citedby_patent_date': '2015-06-30'}, {'citedby_patent_id': '9075766', 'citedby_patent_title': 'Computer implemented methods and apparatus for determining whether to continue relationships in an online social network', 'citedby_patent_date': '2015-07-07'}, {'citedby_patent_id': '9087323', 'citedby_patent_title': 'Systems and methods to automatically generate a signature block', 'citedby_patent_date': '2015-07-21'}, {'citedby_patent_id': '9094359', 'citedby_patent_title': 'Method and system for inter-social network communications', 'citedby_patent_date': '2015-07-28'}, {'citedby_patent_id': '9098545', 'citedby_patent_title': 'Hot news neighborhood banter in a geo-spatial social network', 'citedby_patent_date': '2015-08-04'}, {'citedby_patent_id': '9098618', 'citedby_patent_title': 'Validating visual components', 'citedby_patent_date': '2015-08-04'}, {'citedby_patent_id': '9106761', 'citedby_patent_title': 'Methods and apparatus for inviting users to follow records in an on-demand database service environment', 'citedby_patent_date': '2015-08-11'}, {'citedby_patent_id': '9123028', 'citedby_patent_title': 'Computer implemented methods and apparatus for controlling the inclusion of edited information in an information feed', 'citedby_patent_date': '2015-09-01'}, {'citedby_patent_id': '9152725', 'citedby_patent_title': 'Computer implemented methods and apparatus for configuring and performing a custom rule to process a preference indication', 'citedby_patent_date': '2015-10-06'}, {'citedby_patent_id': '9152952', 'citedby_patent_title': 'Spam filtering and person profiles', 'citedby_patent_date': '2015-10-06'}, {'citedby_patent_id': '9159057', 'citedby_patent_title': 'Sender-based ranking of person profiles and multi-person automatic suggestions', 'citedby_patent_date': '2015-10-13'}, {'citedby_patent_id': '9160548', 'citedby_patent_title': 'Mining of user event data to identify users with common interests', 'citedby_patent_date': '2015-10-13'}, {'citedby_patent_id': '9160689', 'citedby_patent_title': 'Systems and methods for profile building using location information from a user device', 'citedby_patent_date': '2015-10-13'}, {'citedby_patent_id': '9160690', 'citedby_patent_title': 'Systems and methods for event-based profile building', 'citedby_patent_date': '2015-10-13'}, {'citedby_patent_id': '9171180', 'citedby_patent_title': 'Social files', 'citedby_patent_date': '2015-10-27'}, {'citedby_patent_id': '9177007', 'citedby_patent_title': 'Computer implemented methods and apparatus to interact with records using a publisher of an information feed of an online social network', 'citedby_patent_date': '2015-11-03'}, {'citedby_patent_id': '9178753', 'citedby_patent_title': 'Computer implemented methods and apparatus for providing access to an online social network', 'citedby_patent_date': '2015-11-03'}, {'citedby_patent_id': '9183544', 'citedby_patent_title': 'Generating a relationship history', 'citedby_patent_date': '2015-11-10'}, {'citedby_patent_id': '9183574', 'citedby_patent_title': 'Providing content items based on user affinity in a social network environment', 'citedby_patent_date': '2015-11-10'}, {'citedby_patent_id': '9191355', 'citedby_patent_title': 'Computer-implemented method for posting messages about future events to users of a social network, computer system and computer-readable medium thereof', 'citedby_patent_date': '2015-11-17'}, {'citedby_patent_id': '9195648', 'citedby_patent_title': 'Multi-lingual knowledge base', 'citedby_patent_date': '2015-11-24'}, {'citedby_patent_id': '9195971', 'citedby_patent_title': 'Method and system for planning a meeting in a cloud computing environment', 'citedby_patent_date': '2015-11-24'}, {'citedby_patent_id': '9196008', 'citedby_patent_title': 'Generating guest suggestions for events in a social networking system', 'citedby_patent_date': '2015-11-24'}, {'citedby_patent_id': '9197513', 'citedby_patent_title': 'Computer implemented methods and apparatus for representing a portion of a user interface as a network address', 'citedby_patent_date': '2015-11-24'}, {'citedby_patent_id': '9208187', 'citedby_patent_title': 'Using a database system for selective inclusion and exclusion of types of updates to provide a configuration feed of a social networking system', 'citedby_patent_date': '2015-12-08'}, {'citedby_patent_id': '9210201', 'citedby_patent_title': 'Cross social network data aggregation', 'citedby_patent_date': '2015-12-08'}, {'citedby_patent_id': '9215096', 'citedby_patent_title': 'Computer implemented methods and apparatus for providing communication between network domains in a service cloud', 'citedby_patent_date': '2015-12-15'}, {'citedby_patent_id': '9223852', 'citedby_patent_title': 'Methods and systems for analyzing search terms in a multi-tenant database system environment', 'citedby_patent_date': '2015-12-29'}, {'citedby_patent_id': '9224174', 'citedby_patent_title': 'Determining influence in a social networking system', 'citedby_patent_date': '2015-12-29'}, {'citedby_patent_id': '9235330', 'citedby_patent_title': 'Computer implemented methods and apparatus for dynamic windowing in user interfaces', 'citedby_patent_date': '2016-01-12'}, {'citedby_patent_id': '9235614', 'citedby_patent_title': 'Computer implemented methods and apparatus for feed-based case management', 'citedby_patent_date': '2016-01-12'}, {'citedby_patent_id': '9241017', 'citedby_patent_title': 'Systems and methods for cross domain service component interaction', 'citedby_patent_date': '2016-01-19'}, {'citedby_patent_id': '9241036', 'citedby_patent_title': 'Dynamically providing a feed of stories about a user of a social networking system', 'citedby_patent_date': '2016-01-19'}, {'citedby_patent_id': '9245252', 'citedby_patent_title': 'Method and system for determining on-line influence in social media', 'citedby_patent_date': '2016-01-26'}, {'citedby_patent_id': '9245257', 'citedby_patent_title': 'System and method for generating a user profile based on skill information', 'citedby_patent_date': '2016-01-26'}, {'citedby_patent_id': '9246707', 'citedby_patent_title': 'Cost-based SMTP email routing', 'citedby_patent_date': '2016-01-26'}, {'citedby_patent_id': '9246959', 'citedby_patent_title': 'System and method for location-based social network feeds', 'citedby_patent_date': '2016-01-26'}, {'citedby_patent_id': '9252976', 'citedby_patent_title': 'Method and system for social media cooperation protocol', 'citedby_patent_date': '2016-02-02'}, {'citedby_patent_id': '9253283', 'citedby_patent_title': 'Systems and methods for ghosting and providing proxies in a network feed', 'citedby_patent_date': '2016-02-02'}, {'citedby_patent_id': '9256859', 'citedby_patent_title': 'Systems and methods for fragmenting newsfeed objects', 'citedby_patent_date': '2016-02-09'}, {'citedby_patent_id': '9262791', 'citedby_patent_title': 'Targeting stories based on influencer scores', 'citedby_patent_date': '2016-02-16'}, {'citedby_patent_id': '9264391', 'citedby_patent_title': 'Computer implemented methods and apparatus for providing near real-time predicted engagement level feedback to a user composing a social media message', 'citedby_patent_date': '2016-02-16'}, {'citedby_patent_id': '9269110', 'citedby_patent_title': 'System and method for interface and interaction with internet applications', 'citedby_patent_date': '2016-02-23'}, {'citedby_patent_id': '9275094', 'citedby_patent_title': 'Security in enterprise level business information networking', 'citedby_patent_date': '2016-03-01'}, {'citedby_patent_id': '9275118', 'citedby_patent_title': 'Method and system for collecting and presenting historical communication data', 'citedby_patent_date': '2016-03-01'}, {'citedby_patent_id': '9275126', 'citedby_patent_title': 'Self populating address book', 'citedby_patent_date': '2016-03-01'}, {'citedby_patent_id': '9275170', 'citedby_patent_title': 'Methods for presenting online advertising at a social network site based on user interests', 'citedby_patent_date': '2016-03-01'}, {'citedby_patent_id': '9275171', 'citedby_patent_title': 'Content recommendations for social networks', 'citedby_patent_date': '2016-03-01'}, {'citedby_patent_id': '9275403', 'citedby_patent_title': 'Experience sharing system and method', 'citedby_patent_date': '2016-03-01'}, {'citedby_patent_id': '9280596', 'citedby_patent_title': 'Method and system for scoring articles in an on-demand services environment', 'citedby_patent_date': '2016-03-08'}, {'citedby_patent_id': '9282138', 'citedby_patent_title': 'Enabling photoset recommendations', 'citedby_patent_date': '2016-03-08'}, {'citedby_patent_id': '9292589', 'citedby_patent_title': 'Identifying a topic for text using a database system', 'citedby_patent_date': '2016-03-22'}, {'citedby_patent_id': '9294432', 'citedby_patent_title': 'Computer implemented methods and apparatus for communicating feed information to one or more recipients', 'citedby_patent_date': '2016-03-22'}, {'citedby_patent_id': '9298783', 'citedby_patent_title': 'Display of attachment based information within a messaging system', 'citedby_patent_date': '2016-03-29'}, {'citedby_patent_id': '9307006', 'citedby_patent_title': 'System and method for synchronizing data objects in a cloud based social networking environment', 'citedby_patent_date': '2016-04-05'}, {'citedby_patent_id': '9311420', 'citedby_patent_title': 'Customizing web 2.0 application behavior based on relationships between a content creator and a content requester', 'citedby_patent_date': '2016-04-12'}, {'citedby_patent_id': '9311462', 'citedby_patent_title': 'Cross platform social networking authentication system', 'citedby_patent_date': '2016-04-12'}, {'citedby_patent_id': '9319287', 'citedby_patent_title': 'Dynamic contact list', 'citedby_patent_date': '2016-04-19'}, {'citedby_patent_id': '9325750', 'citedby_patent_title': 'Method and system for viewing a contact network feed in a business directory environment', 'citedby_patent_date': '2016-04-26'}, {'citedby_patent_id': '9325751', 'citedby_patent_title': 'Determining object relevance in a social networking system', 'citedby_patent_date': '2016-04-26'}, {'citedby_patent_id': '9330145', 'citedby_patent_title': 'Systems and methods for context-aware message tagging', 'citedby_patent_date': '2016-05-03'}, {'citedby_patent_id': '9355174', 'citedby_patent_title': 'Multi-input playlist selection', 'citedby_patent_date': '2016-05-31'}, {'citedby_patent_id': '9367626', 'citedby_patent_title': 'Computer implemented methods and apparatus for implementing a topical-based highlights filter', 'citedby_patent_date': '2016-06-14'}, {'citedby_patent_id': '9367643', 'citedby_patent_title': 'Methods and apparatus for suppressing network feed activities using an information feed in an on-demand database service environment', 'citedby_patent_date': '2016-06-14'}, {'citedby_patent_id': '9373147', 'citedby_patent_title': 'Mobile ticker', 'citedby_patent_date': '2016-06-21'}, {'citedby_patent_id': '9373149', 'citedby_patent_title': 'Autonomous neighborhood vehicle commerce network and community', 'citedby_patent_date': '2016-06-21'}, {'citedby_patent_id': '9395881', 'citedby_patent_title': 'Methods and systems for navigating display sequence maps', 'citedby_patent_date': '2016-07-19'}, {'citedby_patent_id': '9395882', 'citedby_patent_title': 'Systems and methods for promoting related lists', 'citedby_patent_date': '2016-07-19'}, {'citedby_patent_id': '9398156', 'citedby_patent_title': 'Computer implemented methods and apparatus for managing agent workload in a customer service environment', 'citedby_patent_date': '2016-07-19'}, {'citedby_patent_id': '9400840', 'citedby_patent_title': 'Combining topic suggestions from different topic sources to assign to textual data items', 'citedby_patent_date': '2016-07-26'}, {'citedby_patent_id': '9411855', 'citedby_patent_title': 'Triggering actions in an information feed system', 'citedby_patent_date': '2016-08-09'}, {'citedby_patent_id': '9419863', 'citedby_patent_title': 'Methods and apparatus for interfacing with a phone system in an on-demand service environment', 'citedby_patent_date': '2016-08-16'}, {'citedby_patent_id': '9424283', 'citedby_patent_title': 'Social files', 'citedby_patent_date': '2016-08-23'}, {'citedby_patent_id': '9426249', 'citedby_patent_title': 'Providing an improved web user interface framework for building web applications', 'citedby_patent_date': '2016-08-23'}, {'citedby_patent_id': '9430583', 'citedby_patent_title': 'Extracting a portion of a document, such as a web page', 'citedby_patent_date': '2016-08-30'}, {'citedby_patent_id': '9432320', 'citedby_patent_title': 'System and method for providing an information-centric application', 'citedby_patent_date': '2016-08-30'}, {'citedby_patent_id': '9439367', 'citedby_patent_title': 'Network enabled gardening with a remotely controllable positioning extension', 'citedby_patent_date': '2016-09-13'}, {'citedby_patent_id': '9441981', 'citedby_patent_title': 'Variable bus stops across a bus route in a regional transportation network', 'citedby_patent_date': '2016-09-13'}, {'citedby_patent_id': '9443007', 'citedby_patent_title': 'Tools and techniques for extracting knowledge from unstructured data retrieved from personal data sources', 'citedby_patent_date': '2016-09-13'}, {'citedby_patent_id': '9443224', 'citedby_patent_title': 'Systems, apparatus and methods for selecting updates to associated records to publish on an information feed', 'citedby_patent_date': '2016-09-13'}, {'citedby_patent_id': '9443225', 'citedby_patent_title': 'Computer implemented methods and apparatus for presentation of feed items in an information feed to be displayed on a display device', 'citedby_patent_date': '2016-09-13'}, {'citedby_patent_id': '9448682', 'citedby_patent_title': 'Selectively displaying content to a user of a social network', 'citedby_patent_date': '2016-09-20'}, {'citedby_patent_id': '9451020', 'citedby_patent_title': 'Distributed communication of independent autonomous vehicles to provide redundancy and performance', 'citedby_patent_date': '2016-09-20'}, {'citedby_patent_id': '9456044', 'citedby_patent_title': 'Business networking information feed alerts', 'citedby_patent_date': '2016-09-27'}, {'citedby_patent_id': '9457901', 'citedby_patent_title': 'Quadcopter with a printable payload extension system and method', 'citedby_patent_date': '2016-10-04'}, {'citedby_patent_id': '9459622', 'citedby_patent_title': 'Driverless vehicle commerce network and community', 'citedby_patent_date': '2016-10-04'}, {'citedby_patent_id': '9460474', 'citedby_patent_title': 'Providing access to a private resource in an enterprise social networking system', 'citedby_patent_date': '2016-10-04'}, {'citedby_patent_id': '9465828', 'citedby_patent_title': 'Computer implemented methods and apparatus for identifying similar labels using collaborative filtering', 'citedby_patent_date': '2016-10-11'}, {'citedby_patent_id': '9467434', 'citedby_patent_title': 'Document rendering service', 'citedby_patent_date': '2016-10-11'}, {'citedby_patent_id': '9471619', 'citedby_patent_title': 'Computer implemented methods and apparatus for controlling the inclusion of edited information in an information feed', 'citedby_patent_date': '2016-10-18'}, {'citedby_patent_id': '9471666', 'citedby_patent_title': \"System and method for supporting natural language queries and requests against a user's personal data cloud\", 'citedby_patent_date': '2016-10-18'}, {'citedby_patent_id': '9477391', 'citedby_patent_title': 'Tactile interface for social networking system', 'citedby_patent_date': '2016-10-25'}, {'citedby_patent_id': '9483526', 'citedby_patent_title': 'Automatically subscribing users of an enterprise network to a record', 'citedby_patent_date': '2016-11-01'}, {'citedby_patent_id': '9489415', 'citedby_patent_title': 'System and method for updating infographics based on multiple online social networks', 'citedby_patent_date': '2016-11-08'}, {'citedby_patent_id': '9489660', 'citedby_patent_title': 'Methods and systems for public collaborative interface for private network groups', 'citedby_patent_date': '2016-11-08'}, {'citedby_patent_id': '9495079', 'citedby_patent_title': 'Persistent feeder component for displaying feed items received from information feeds of online social networks', 'citedby_patent_date': '2016-11-15'}, {'citedby_patent_id': '9495557', 'citedby_patent_title': 'Methods and systems for managing access to data in an on-demand system', 'citedby_patent_date': '2016-11-15'}, {'citedby_patent_id': '9501514', 'citedby_patent_title': 'Systems and methods for implementing customized drop-down menus', 'citedby_patent_date': '2016-11-22'}, {'citedby_patent_id': '9501561', 'citedby_patent_title': 'Personalizing an online service based on data collected for a user of a computing device', 'citedby_patent_date': '2016-11-22'}, {'citedby_patent_id': '9503535', 'citedby_patent_title': 'Computer implemented methods and apparatus for automatically following entities in an online social network', 'citedby_patent_date': '2016-11-22'}, {'citedby_patent_id': '9507878', 'citedby_patent_title': 'Social search system and method', 'citedby_patent_date': '2016-11-29'}, {'citedby_patent_id': '9509715', 'citedby_patent_title': 'Phishing and threat detection and prevention', 'citedby_patent_date': '2016-11-29'}, {'citedby_patent_id': '9514444', 'citedby_patent_title': 'Encapsulating virtual area based communicant assemblies', 'citedby_patent_date': '2016-12-06'}, {'citedby_patent_id': '9514466', 'citedby_patent_title': 'Collecting and presenting data including links from communications sent to or from a user', 'citedby_patent_date': '2016-12-06'}, {'citedby_patent_id': '9519938', 'citedby_patent_title': 'Mining of user event data to identify users with common interests', 'citedby_patent_date': '2016-12-13'}, {'citedby_patent_id': '9524157', 'citedby_patent_title': 'Providing an improved web user interface framework for building web applications', 'citedby_patent_date': '2016-12-20'}, {'citedby_patent_id': '9529488', 'citedby_patent_title': 'Systems and methods for creating custom actions', 'citedby_patent_date': '2016-12-27'}, {'citedby_patent_id': '9529917', 'citedby_patent_title': 'System and method for generating information feed based on contextual data', 'citedby_patent_date': '2016-12-27'}, {'citedby_patent_id': '9538377', 'citedby_patent_title': 'Switching between restricted-access websites on mobile user devices', 'citedby_patent_date': '2017-01-03'}, {'citedby_patent_id': '9542428', 'citedby_patent_title': 'Systems and methods for real-time de-duplication', 'citedby_patent_date': '2017-01-10'}, {'citedby_patent_id': '9542472', 'citedby_patent_title': 'Facilitating collaboration on a record among a group of users of a feed-based enterprise network', 'citedby_patent_date': '2017-01-10'}, {'citedby_patent_id': '9542711', 'citedby_patent_title': 'Computer implemented methods and apparatus for providing selective notifications in an online social network', 'citedby_patent_date': '2017-01-10'}, {'citedby_patent_id': '9544307', 'citedby_patent_title': 'Providing a security mechanism on a mobile device', 'citedby_patent_date': '2017-01-10'}, {'citedby_patent_id': '9544382', 'citedby_patent_title': 'Providing content items based on user affinity in a social network environment', 'citedby_patent_date': '2017-01-10'}, {'citedby_patent_id': '9558277', 'citedby_patent_title': 'Computer implemented methods and apparatus for identifying topical influence in an online social network', 'citedby_patent_date': '2017-01-31'}, {'citedby_patent_id': '9563712', 'citedby_patent_title': 'Computer implemented methods and apparatus for providing internal custom feed items', 'citedby_patent_date': '2017-02-07'}, {'citedby_patent_id': '9569060', 'citedby_patent_title': 'Computer implemented methods and apparatus for composing and batch publishing feed items in a feed-based interaction context', 'citedby_patent_date': '2017-02-14'}, {'citedby_patent_id': '9569478', 'citedby_patent_title': 'Following data records in an information feed', 'citedby_patent_date': '2017-02-14'}, {'citedby_patent_id': '9569529', 'citedby_patent_title': 'Personalizing an online service based on data collected for a user of a computing device', 'citedby_patent_date': '2017-02-14'}, {'citedby_patent_id': '9576016', 'citedby_patent_title': 'Targeting stories based on influencer scores', 'citedby_patent_date': '2017-02-21'}, {'citedby_patent_id': '9577835', 'citedby_patent_title': 'Online chats without displaying confidential information', 'citedby_patent_date': '2017-02-21'}, {'citedby_patent_id': '9582461', 'citedby_patent_title': 'Apparatus for increasing social interaction over an electronic network', 'citedby_patent_date': '2017-02-28'}, {'citedby_patent_id': '9584343', 'citedby_patent_title': 'Presentation of organized personal and public data using communication mediums', 'citedby_patent_date': '2017-02-28'}, {'citedby_patent_id': '9589070', 'citedby_patent_title': 'Method and system for updating a filter logic expression representing a boolean filter', 'citedby_patent_date': '2017-03-07'}, {'citedby_patent_id': '9589306', 'citedby_patent_title': 'Structured data in a business networking feed', 'citedby_patent_date': '2017-03-07'}, {'citedby_patent_id': '9590943', 'citedby_patent_title': 'Offline prompts of online social network mentions', 'citedby_patent_date': '2017-03-07'}, {'citedby_patent_id': '9591086', 'citedby_patent_title': 'Display of information in electronic communications', 'citedby_patent_date': '2017-03-07'}, {'citedby_patent_id': '9591090', 'citedby_patent_title': 'Computer implemented methods and apparatus for sharing data of an information feed of an online social network', 'citedby_patent_date': '2017-03-07'}, {'citedby_patent_id': '9594790', 'citedby_patent_title': 'System and method for evaluating claims to update a record from conflicting data sources', 'citedby_patent_date': '2017-03-14'}, {'citedby_patent_id': '9594832', 'citedby_patent_title': 'Personalizing an online service based on data collected for a user of a computing device', 'citedby_patent_date': '2017-03-14'}, {'citedby_patent_id': '9596308', 'citedby_patent_title': 'Display of person based information including person notes', 'citedby_patent_date': '2017-03-14'}, {'citedby_patent_id': '9600155', 'citedby_patent_title': 'Computer implemented methods and apparatus for customizing a data interface in an on-demand service environment', 'citedby_patent_date': '2017-03-21'}, {'citedby_patent_id': '9600510', 'citedby_patent_title': 'Computer implemented methods and apparatus for feed-based case management', 'citedby_patent_date': '2017-03-21'}, {'citedby_patent_id': '9600512', 'citedby_patent_title': 'Systems and methods for implementing customized drop-down menus', 'citedby_patent_date': '2017-03-21'}, {'citedby_patent_id': '9602597', 'citedby_patent_title': 'System and method for synchronizing data objects in a cloud based social networking environment', 'citedby_patent_date': '2017-03-21'}, {'citedby_patent_id': '9607090', 'citedby_patent_title': 'Computer implemented methods and apparatus for recommending events', 'citedby_patent_date': '2017-03-28'}, {'citedby_patent_id': '9613152', 'citedby_patent_title': 'Methods and apparatus for discontinuing the following of records in an on-demand database service environment', 'citedby_patent_date': '2017-04-04'}, {'citedby_patent_id': '9619655', 'citedby_patent_title': 'Cloud-based security profiling, threat analysis and intelligence', 'citedby_patent_date': '2017-04-11'}, {'citedby_patent_id': '9626637', 'citedby_patent_title': 'Method and system for managing business deals', 'citedby_patent_date': '2017-04-18'}, {'citedby_patent_id': '9628493', 'citedby_patent_title': 'Computer implemented methods and apparatus for managing permission sets and validating user assignments', 'citedby_patent_date': '2017-04-18'}, {'citedby_patent_id': '9632852', 'citedby_patent_title': 'Detecting and managing flooding of multi-tenant message queues', 'citedby_patent_date': '2017-04-25'}, {'citedby_patent_id': '9633365', 'citedby_patent_title': 'Method, apparatus, and computer-readable medium for serving detailed social annotations', 'citedby_patent_date': '2017-04-25'}, {'citedby_patent_id': '9646064', 'citedby_patent_title': 'Template based software container', 'citedby_patent_date': '2017-05-09'}, {'citedby_patent_id': '9646109', 'citedby_patent_title': 'Topic based recommender system and method', 'citedby_patent_date': '2017-05-09'}, {'citedby_patent_id': '9647922', 'citedby_patent_title': 'Computer implemented methods and apparatus for trials onboarding', 'citedby_patent_date': '2017-05-09'}, {'citedby_patent_id': '9652557', 'citedby_patent_title': 'Methods for presenting online advertising at a social network site based on correlating users and user adoptions', 'citedby_patent_date': '2017-05-16'}, {'citedby_patent_id': '9659049', 'citedby_patent_title': 'Creating and managing granular relationships on an online social network', 'citedby_patent_date': '2017-05-23'}, {'citedby_patent_id': '9659308', 'citedby_patent_title': 'Determining influence in a social networking system', 'citedby_patent_date': '2017-05-23'}, {'citedby_patent_id': '9665261', 'citedby_patent_title': 'Providing a user interface for customizing state transitions of panes in a bounding window', 'citedby_patent_date': '2017-05-30'}, {'citedby_patent_id': '9672575', 'citedby_patent_title': 'Capturing information regarding an interaction to a database', 'citedby_patent_date': '2017-06-06'}, {'citedby_patent_id': '9685158', 'citedby_patent_title': 'Systems and methods to present voice message information to a user of a computing device', 'citedby_patent_date': '2017-06-20'}, {'citedby_patent_id': '9691041', 'citedby_patent_title': 'Providing access to a private resource in an enterprise social networking system', 'citedby_patent_date': '2017-06-27'}, {'citedby_patent_id': '9691128', 'citedby_patent_title': 'Aggregating and displaying social networking system user information via a map interface', 'citedby_patent_date': '2017-06-27'}, {'citedby_patent_id': '9692722', 'citedby_patent_title': 'Computer implemented methods and apparatus for integrating a social network information feed with a network communications application', 'citedby_patent_date': '2017-06-27'}, {'citedby_patent_id': '9692851', 'citedby_patent_title': 'Systems and methods for ghosting and providing proxies in a network feed', 'citedby_patent_date': '2017-06-27'}, {'citedby_patent_id': '9699258', 'citedby_patent_title': 'Method and system for collecting and presenting historical communication data for a mobile device', 'citedby_patent_date': '2017-07-04'}, {'citedby_patent_id': '9703815', 'citedby_patent_title': 'Third party files in an on-demand database service', 'citedby_patent_date': '2017-07-11'}, {'citedby_patent_id': '9710127', 'citedby_patent_title': 'User-customizable permissions in a computing environment', 'citedby_patent_date': '2017-07-18'}, {'citedby_patent_id': '9713004', 'citedby_patent_title': 'Switching between restricted-access websites on mobile user devices', 'citedby_patent_date': '2017-07-18'}, {'citedby_patent_id': '9715879', 'citedby_patent_title': 'Computer implemented methods and apparatus for selectively interacting with a server to build a local database for speech recognition at a device', 'citedby_patent_date': '2017-07-25'}, {'citedby_patent_id': '9716764', 'citedby_patent_title': 'Display of communication system usage statistics', 'citedby_patent_date': '2017-07-25'}, {'citedby_patent_id': '9721228', 'citedby_patent_title': \"Locally hosting a social network using social data stored on a user's computer\", 'citedby_patent_date': '2017-08-01'}, {'citedby_patent_id': '9727924', 'citedby_patent_title': 'Computer implemented methods and apparatus for informing a user of social network data when the data is relevant to the user', 'citedby_patent_date': '2017-08-08'}, {'citedby_patent_id': '9747388', 'citedby_patent_title': 'Systems and methods for providing access to external content objects', 'citedby_patent_date': '2017-08-29'}, {'citedby_patent_id': '9747583', 'citedby_patent_title': 'Presenting entity profile information to a user of a computing device', 'citedby_patent_date': '2017-08-29'}, {'citedby_patent_id': '9747647', 'citedby_patent_title': 'Missed feed unit for content feeds', 'citedby_patent_date': '2017-08-29'}, {'citedby_patent_id': '9753703', 'citedby_patent_title': 'Generating identifiers for user interface elements of a web page of a web application', 'citedby_patent_date': '2017-09-05'}, {'citedby_patent_id': '9753926', 'citedby_patent_title': 'Extracting a portion of a document, such as a web page', 'citedby_patent_date': '2017-09-05'}, {'citedby_patent_id': '9756039', 'citedby_patent_title': 'Document rendering service', 'citedby_patent_date': '2017-09-05'}, {'citedby_patent_id': '9760866', 'citedby_patent_title': 'Systems and methods to provide server side profile information', 'citedby_patent_date': '2017-09-12'}, {'citedby_patent_id': '9766783', 'citedby_patent_title': 'Displaying aggregated social networking system user information via a map interface', 'citedby_patent_date': '2017-09-19'}, {'citedby_patent_id': '9767040', 'citedby_patent_title': 'System and method for generating and storing real-time analytics metric data using an in memory buffer service consumer framework', 'citedby_patent_date': '2017-09-19'}, {'citedby_patent_id': '9767132', 'citedby_patent_title': 'Systems and methods for real-time de-duplication', 'citedby_patent_date': '2017-09-19'}, {'citedby_patent_id': '9769180', 'citedby_patent_title': 'Computer implemented methods and apparatus for sharing data of an information feed of an online social network', 'citedby_patent_date': '2017-09-19'}, {'citedby_patent_id': '9774555', 'citedby_patent_title': 'Computer implemented methods and apparatus for managing objectives in an organization in a social network environment', 'citedby_patent_date': '2017-09-26'}, {'citedby_patent_id': '9774556', 'citedby_patent_title': 'Generating guest suggestions for events in a social networking system', 'citedby_patent_date': '2017-09-26'}, {'citedby_patent_id': '9774558', 'citedby_patent_title': 'Method and system for inter-social network communications', 'citedby_patent_date': '2017-09-26'}, {'citedby_patent_id': '9774603', 'citedby_patent_title': 'Managing user permissions in relation to system events occurring in a database system', 'citedby_patent_date': '2017-09-26'}, {'citedby_patent_id': '9774606', 'citedby_patent_title': 'Cross platform social networking authentication system', 'citedby_patent_date': '2017-09-26'}, {'citedby_patent_id': '9778820', 'citedby_patent_title': 'Managing applications on a computing device', 'citedby_patent_date': '2017-10-03'}, {'citedby_patent_id': '9781049', 'citedby_patent_title': 'Resolving information in a database environment', 'citedby_patent_date': '2017-10-03'}, {'citedby_patent_id': '9785640', 'citedby_patent_title': 'Augmented reality display apparatus and related methods using database record data', 'citedby_patent_date': '2017-10-10'}, {'citedby_patent_id': '9787714', 'citedby_patent_title': 'Phishing and threat detection and prevention', 'citedby_patent_date': '2017-10-10'}, {'citedby_patent_id': '9792332', 'citedby_patent_title': 'Mining of user event data to identify users with common interests', 'citedby_patent_date': '2017-10-17'}, {'citedby_patent_id': '9792356', 'citedby_patent_title': \"System and method for supporting natural language queries and requests against a user's personal data cloud\", 'citedby_patent_date': '2017-10-17'}, {'citedby_patent_id': '9798438', 'citedby_patent_title': 'Aggregating social networking system user information for timeline view', 'citedby_patent_date': '2017-10-24'}, {'citedby_patent_id': '9798439', 'citedby_patent_title': 'Timeline view filtered by permissions and affinity to viewer', 'citedby_patent_date': '2017-10-24'}, {'citedby_patent_id': '9798440', 'citedby_patent_title': 'Aggregating social networking system user information for diversified timeline view', 'citedby_patent_date': '2017-10-24'}, {'citedby_patent_id': '9798764', 'citedby_patent_title': 'Identifying recurring sequences of user interactions with an application', 'citedby_patent_date': '2017-10-24'}, {'citedby_patent_id': '9800679', 'citedby_patent_title': 'Defining a social network model implied by communications data', 'citedby_patent_date': '2017-10-24'}, {'citedby_patent_id': '9805051', 'citedby_patent_title': 'Synchronization and strategic storage of multiple versions of a file', 'citedby_patent_date': '2017-10-31'}, {'citedby_patent_id': '9807187', 'citedby_patent_title': 'Business networking information feed alerts', 'citedby_patent_date': '2017-10-31'}, {'citedby_patent_id': '9811444', 'citedby_patent_title': 'Testing software enhancements in database applications', 'citedby_patent_date': '2017-11-07'}, {'citedby_patent_id': '9811597', 'citedby_patent_title': 'Computer implemented methods and apparatus for identifying topical influence in an online social network', 'citedby_patent_date': '2017-11-07'}, {'citedby_patent_id': '9817637', 'citedby_patent_title': 'Methods and systems for providing enhancements to a business networking feed', 'citedby_patent_date': '2017-11-14'}, {'citedby_patent_id': '9819765', 'citedby_patent_title': 'Systems and methods to provide assistance during user input', 'citedby_patent_date': '2017-11-14'}, {'citedby_patent_id': '9823813', 'citedby_patent_title': 'Apparatus and methods for performing an action on a database record', 'citedby_patent_date': '2017-11-21'}, {'citedby_patent_id': '9824082', 'citedby_patent_title': 'Structured data in a business networking feed', 'citedby_patent_date': '2017-11-21'}, {'citedby_patent_id': '9830050', 'citedby_patent_title': 'Computer implemented methods and apparatus for providing a reminder regarding a feed item of a feed of an online social network', 'citedby_patent_date': '2017-11-28'}, {'citedby_patent_id': '9830054', 'citedby_patent_title': 'Service cloud console', 'citedby_patent_date': '2017-11-28'}, {'citedby_patent_id': '9830340', 'citedby_patent_title': 'Methods and apparatus for suppressing network feed activities using an information feed in an on-demand database service environment', 'citedby_patent_date': '2017-11-28'}, {'citedby_patent_id': '9832156', 'citedby_patent_title': 'Social networking system communities and associated user privileges implemented using a database system', 'citedby_patent_date': '2017-11-28'}, {'citedby_patent_id': '9832273', 'citedby_patent_title': 'Computer implemented methods and apparatus for providing group-related social network information', 'citedby_patent_date': '2017-11-28'}, {'citedby_patent_id': '9836761', 'citedby_patent_title': 'Determining influence in a social networking system', 'citedby_patent_date': '2017-12-05'}, {'citedby_patent_id': '9838345', 'citedby_patent_title': 'Generating a relationship history', 'citedby_patent_date': '2017-12-05'}, {'citedby_patent_id': '9842144', 'citedby_patent_title': 'Presenting suggestions for user input based on client device characteristics', 'citedby_patent_date': '2017-12-12'}, {'citedby_patent_id': '9842145', 'citedby_patent_title': 'Providing profile information using servers', 'citedby_patent_date': '2017-12-12'}, {'citedby_patent_id': '9854040', 'citedby_patent_title': 'System and method for synchronizing data objects in a cloud based social networking environment', 'citedby_patent_date': '2017-12-26'}, {'citedby_patent_id': '9858252', 'citedby_patent_title': 'Multiple graphical annotations of documents using overlays', 'citedby_patent_date': '2018-01-02'}, {'citedby_patent_id': '9864770', 'citedby_patent_title': 'Customizing enterprise level business information networking', 'citedby_patent_date': '2018-01-09'}, {'citedby_patent_id': '9866509', 'citedby_patent_title': 'Spam filtering and person profiles', 'citedby_patent_date': '2018-01-09'}, {'citedby_patent_id': '9886506', 'citedby_patent_title': 'Integration of news into direct social communications and interactions', 'citedby_patent_date': '2018-02-06'}, {'citedby_patent_id': '9892170', 'citedby_patent_title': 'Computer implemented methods and apparatus for recommending events', 'citedby_patent_date': '2018-02-13'}, {'citedby_patent_id': '9892177', 'citedby_patent_title': 'Systems and methods for interacting with external content objects', 'citedby_patent_date': '2018-02-13'}, {'citedby_patent_id': '9893905', 'citedby_patent_title': 'Collaborative platform for teams with messaging and learning across groups', 'citedby_patent_date': '2018-02-13'}, {'citedby_patent_id': '9900297', 'citedby_patent_title': 'System, method and apparatus for selecting content from web sources and posting content to web logs', 'citedby_patent_date': '2018-02-20'}, {'citedby_patent_id': '9900339', 'citedby_patent_title': 'Cloud-based security profiling, threat analysis and intelligence', 'citedby_patent_date': '2018-02-20'}, {'citedby_patent_id': '9910911', 'citedby_patent_title': 'Computer implemented methods and apparatus for implementing a topical-based highlights filter', 'citedby_patent_date': '2018-03-06'}, {'citedby_patent_id': '9916592', 'citedby_patent_title': 'Method and system for implementing implicit follow and automatic unfollow', 'citedby_patent_date': '2018-03-13'}, {'citedby_patent_id': '9921720', 'citedby_patent_title': 'Tab navigation and page view personalization', 'citedby_patent_date': '2018-03-20'}, {'citedby_patent_id': '9921724', 'citedby_patent_title': 'Presenting data on a mobile device in communication with an on-demand database system', 'citedby_patent_date': '2018-03-20'}, {'citedby_patent_id': '9946797', 'citedby_patent_title': 'Personalized aggregator for organizing and publishing public and private content', 'citedby_patent_date': '2018-04-17'}, {'citedby_patent_id': '9948721', 'citedby_patent_title': 'Methods and systems for providing time and date specific software user interfaces', 'citedby_patent_date': '2018-04-17'}, {'citedby_patent_id': '9948743', 'citedby_patent_title': 'Managing memory usage in server systems', 'citedby_patent_date': '2018-04-17'}, {'citedby_patent_id': '9953273', 'citedby_patent_title': 'Systems and methods for creating a rich social media profile', 'citedby_patent_date': '2018-04-24'}, {'citedby_patent_id': '9953301', 'citedby_patent_title': 'Searchable screen sharing sessions', 'citedby_patent_date': '2018-04-24'}, {'citedby_patent_id': '9954963', 'citedby_patent_title': 'Indexing and searching content behind links presented in a communication', 'citedby_patent_date': '2018-04-24'}, {'citedby_patent_id': '9961519', 'citedby_patent_title': 'Facilitating mobile device interaction with an enterprise database system', 'citedby_patent_date': '2018-05-01'}, {'citedby_patent_id': '9965541', 'citedby_patent_title': 'Interest groups based on network feed items', 'citedby_patent_date': '2018-05-08'}, {'citedby_patent_id': '9965634', 'citedby_patent_title': 'Space-efficient storage of encrypted data', 'citedby_patent_date': '2018-05-08'}, {'citedby_patent_id': '9971482', 'citedby_patent_title': 'Service cloud console', 'citedby_patent_date': '2018-05-15'}, {'citedby_patent_id': '9971985', 'citedby_patent_title': 'Train based community', 'citedby_patent_date': '2018-05-15'}, {'citedby_patent_id': '9972015', 'citedby_patent_title': 'Methods and systems for facilitating customer support using a social post case feed and publisher', 'citedby_patent_date': '2018-05-15'}, {'citedby_patent_id': '9973550', 'citedby_patent_title': 'Systems and methods for applying intelligence and prioritization to calendared events', 'citedby_patent_date': '2018-05-15'}, {'citedby_patent_id': '9979687', 'citedby_patent_title': 'Offline prompts of online social network mentions', 'citedby_patent_date': '2018-05-22'}, {'citedby_patent_id': '9979689', 'citedby_patent_title': 'Authoring tool for creating new electronic posts', 'citedby_patent_date': '2018-05-22'}, {'citedby_patent_id': '9983943', 'citedby_patent_title': 'Reversing object manipulations in association with a walkthrough for an application or online service', 'citedby_patent_date': '2018-05-29'}, {'citedby_patent_id': '9984126', 'citedby_patent_title': 'Identifying relevant feed items to display in a feed of an enterprise social networking system', 'citedby_patent_date': '2018-05-29'}, {'citedby_patent_id': '9984425', 'citedby_patent_title': 'Following data records in an information feed', 'citedby_patent_date': '2018-05-29'}, {'citedby_patent_id': '9990426', 'citedby_patent_title': 'Systems and methods for content management in an on-demand environment', 'citedby_patent_date': '2018-06-05'}, {'citedby_patent_id': 'D652424', 'citedby_patent_title': 'Display panel of a programmed computer system with a graphical user interface', 'citedby_patent_date': '2012-01-17'}, {'citedby_patent_id': 'D653258', 'citedby_patent_title': 'Display panel of a programmed computer system with a graphical user interface', 'citedby_patent_date': '2012-01-31'}, {'citedby_patent_id': 'D653671', 'citedby_patent_title': 'Display panel of a programmed computer system with a graphical user interface', 'citedby_patent_date': '2012-02-07'}, {'citedby_patent_id': 'D685818', 'citedby_patent_title': 'Display panel of a programmed computer system with a graphical user interface', 'citedby_patent_date': '2013-07-09'}, {'citedby_patent_id': 'D695304', 'citedby_patent_title': 'Display panel of a programmed computer system with a graphical user interface', 'citedby_patent_date': '2013-12-10'}, {'citedby_patent_id': 'D710876', 'citedby_patent_title': 'Display panel of a programmed computer system with a graphical user interface', 'citedby_patent_date': '2014-08-12'}, {'citedby_patent_id': 'D723583', 'citedby_patent_title': 'Display panel of a programmed computer system with a graphical user interface', 'citedby_patent_date': '2015-03-03'}, {'citedby_patent_id': 'D742415', 'citedby_patent_title': 'Display panel of a programmed computer system with a graphical user interface', 'citedby_patent_date': '2015-11-03'}, {'citedby_patent_id': 'D916104', 'citedby_patent_title': 'Display panel of a programmed computer system with a graphical user interface', 'citedby_patent_date': '2021-04-13'}]}, 'Closest patent': {'patent_id': '7809687', 'abstract': 'Systems and methods are provided for searching. In one implementation, a method is provided. A current view of a search application is displayed in a user interface. The current view of the search application includes a search result including one or more elements. A first user input is received while the current view of a search application is displayed. The first user input requests that a history view associated with the current view of the search application be displayed. The history view includes search results based on a search of system data from an archive. The history view is displayed in response to the first user input, the history view including search results having a first item not present in the one or more elements.', 'assignee_organization': 'Apple Inc.', 'citedby_patents': [{'citedby_patent_id': '10303652', 'citedby_patent_title': 'File system management', 'citedby_patent_date': '2019-05-28'}, {'citedby_patent_id': '10708353', 'citedby_patent_title': 'Method and system for displaying similar email messages based on message contents', 'citedby_patent_date': '2020-07-07'}, {'citedby_patent_id': '10783129', 'citedby_patent_title': 'Method and system for offline indexing of content and classifying stored data', 'citedby_patent_date': '2020-09-22'}, {'citedby_patent_id': '10891020', 'citedby_patent_title': 'User interface for electronic backup', 'citedby_patent_date': '2021-01-12'}, {'citedby_patent_id': '10984041', 'citedby_patent_title': 'Natural language processing integrated with database and data storage management', 'citedby_patent_date': '2021-04-20'}, {'citedby_patent_id': '11003626', 'citedby_patent_title': 'Creating secondary copies of data based on searches for content', 'citedby_patent_date': '2021-05-11'}, {'citedby_patent_id': '11082489', 'citedby_patent_title': 'Method and system for displaying similar email messages based on message contents', 'citedby_patent_date': '2021-08-03'}, {'citedby_patent_id': '11159469', 'citedby_patent_title': 'Using machine learning to modify presentation of mailbox objects', 'citedby_patent_date': '2021-10-26'}, {'citedby_patent_id': '11222076', 'citedby_patent_title': 'Data set state visualization comparison lock', 'citedby_patent_date': '2022-01-11'}, {'citedby_patent_id': '11256665', 'citedby_patent_title': 'Systems and methods for using metadata to enhance data identification operations', 'citedby_patent_date': '2022-02-22'}, {'citedby_patent_id': '11442820', 'citedby_patent_title': 'Systems and methods of unified reconstruction in storage systems', 'citedby_patent_date': '2022-09-13'}, {'citedby_patent_id': '11443061', 'citedby_patent_title': 'Data protection within an unsecured storage environment', 'citedby_patent_date': '2022-09-13'}, {'citedby_patent_id': '11494417', 'citedby_patent_title': 'Automated email classification in an information management system', 'citedby_patent_date': '2022-11-08'}, {'citedby_patent_id': '11516289', 'citedby_patent_title': 'Method and system for displaying similar email messages based on message contents', 'citedby_patent_date': '2022-11-29'}, {'citedby_patent_id': '8010496', 'citedby_patent_title': 'Backup management method in a remote copy environment', 'citedby_patent_date': '2011-08-30'}, {'citedby_patent_id': '8245078', 'citedby_patent_title': 'Recovery interface', 'citedby_patent_date': '2012-08-14'}, {'citedby_patent_id': '8307004', 'citedby_patent_title': 'Manipulating electronic backups', 'citedby_patent_date': '2012-11-06'}, {'citedby_patent_id': '8311988', 'citedby_patent_title': 'Consistent back up of electronic information', 'citedby_patent_date': '2012-11-13'}, {'citedby_patent_id': '8370853', 'citedby_patent_title': 'Event notification management', 'citedby_patent_date': '2013-02-05'}, {'citedby_patent_id': '8386432', 'citedby_patent_title': 'Backup management method in a remote copy environment', 'citedby_patent_date': '2013-02-26'}, {'citedby_patent_id': '8468136', 'citedby_patent_title': 'Efficient data backup', 'citedby_patent_date': '2013-06-18'}, {'citedby_patent_id': '8504516', 'citedby_patent_title': 'Manipulating electronic backups', 'citedby_patent_date': '2013-08-06'}, {'citedby_patent_id': '8504527', 'citedby_patent_title': 'Application-based backup-restore of electronic information', 'citedby_patent_date': '2013-08-06'}, {'citedby_patent_id': '8566289', 'citedby_patent_title': 'Electronic backup of applications', 'citedby_patent_date': '2013-10-22'}, {'citedby_patent_id': '8725965', 'citedby_patent_title': 'System setup for electronic backup', 'citedby_patent_date': '2014-05-13'}, {'citedby_patent_id': '8745523', 'citedby_patent_title': 'Deletion in electronic backups', 'citedby_patent_date': '2014-06-03'}, {'citedby_patent_id': '8775378', 'citedby_patent_title': 'Consistent backup of electronic information', 'citedby_patent_date': '2014-07-08'}, {'citedby_patent_id': '8943026', 'citedby_patent_title': 'Visual representation of a local backup', 'citedby_patent_date': '2015-01-27'}, {'citedby_patent_id': '8965929', 'citedby_patent_title': 'Manipulating electronic backups', 'citedby_patent_date': '2015-02-24'}, {'citedby_patent_id': '8984029', 'citedby_patent_title': 'File system management', 'citedby_patent_date': '2015-03-17'}, {'citedby_patent_id': '9009115', 'citedby_patent_title': 'Restoring electronic information', 'citedby_patent_date': '2015-04-14'}, {'citedby_patent_id': '9354982', 'citedby_patent_title': 'Manipulating electronic backups', 'citedby_patent_date': '2016-05-31'}, {'citedby_patent_id': '9360995', 'citedby_patent_title': 'User interface for electronic backup', 'citedby_patent_date': '2016-06-07'}, {'citedby_patent_id': '9411812', 'citedby_patent_title': 'File system management', 'citedby_patent_date': '2016-08-09'}, {'citedby_patent_id': '9454587', 'citedby_patent_title': 'Searching and restoring of backups', 'citedby_patent_date': '2016-09-27'}, {'citedby_patent_id': '9639529', 'citedby_patent_title': 'Method and system for searching stored data', 'citedby_patent_date': '2017-05-02'}, {'citedby_patent_id': '9715394', 'citedby_patent_title': 'User interface for backup management', 'citedby_patent_date': '2017-07-25'}, {'citedby_patent_id': '9967338', 'citedby_patent_title': 'Method and system for displaying similar email messages based on message contents', 'citedby_patent_date': '2018-05-08'}, {'citedby_patent_id': 'D703685', 'citedby_patent_title': 'Display screen with graphical user interface', 'citedby_patent_date': '2014-04-29'}, {'citedby_patent_id': 'D703686', 'citedby_patent_title': 'Display screen with graphical user interface', 'citedby_patent_date': '2014-04-29'}, {'citedby_patent_id': 'D703687', 'citedby_patent_title': 'Display screen with graphical user interface', 'citedby_patent_date': '2014-04-29'}, {'citedby_patent_id': 'D705790', 'citedby_patent_title': 'Display screen with graphical user interface', 'citedby_patent_date': '2014-05-27'}, {'citedby_patent_id': 'D705791', 'citedby_patent_title': 'Display screen with graphical user interface', 'citedby_patent_date': '2014-05-27'}, {'citedby_patent_id': 'D705792', 'citedby_patent_title': 'Display screen with graphical user interface', 'citedby_patent_date': '2014-05-27'}, {'citedby_patent_id': 'D706793', 'citedby_patent_title': 'Display screen with graphical user interface', 'citedby_patent_date': '2014-06-10'}, {'citedby_patent_id': 'D706794', 'citedby_patent_title': 'Display screen with graphical user interface', 'citedby_patent_date': '2014-06-10'}, {'citedby_patent_id': 'D711399', 'citedby_patent_title': 'Display screen with graphical user interface', 'citedby_patent_date': '2014-08-19'}, {'citedby_patent_id': 'D711400', 'citedby_patent_title': 'Display screen with graphical user interface', 'citedby_patent_date': '2014-08-19'}, {'citedby_patent_id': 'D715818', 'citedby_patent_title': 'Display screen with graphical user interface', 'citedby_patent_date': '2014-10-21'}]}}\n"
     ]
    }
   ],
   "source": [
    "import api.find_similar_patents as fsp\n",
    "import importlib\n",
    "importlib.reload(fsp)\n",
    "\n",
    "f = fsp.find_closest_patent(patent, group_only=False, filter_tfidf=True, batch_size=3)\n",
    "print(f)"
   ]
  },
  {
   "cell_type": "code",
   "execution_count": 54,
   "metadata": {},
   "outputs": [
    {
     "name": "stdout",
     "output_type": "stream",
     "text": [
      "(2, 1024)\n",
      "(2, 1024)\n",
      "(2, 1024)\n",
      "(1, 1024)\n"
     ]
    }
   ],
   "source": [
    "for emb in embeds:\n",
    "    print(emb.shape)"
   ]
  },
  {
   "cell_type": "code",
   "execution_count": 59,
   "metadata": {},
   "outputs": [],
   "source": [
    "import numpy as np\n",
    "stacked = np.vstack(embeds)"
   ]
  },
  {
   "cell_type": "code",
   "execution_count": 26,
   "metadata": {},
   "outputs": [
    {
     "name": "stdout",
     "output_type": "stream",
     "text": [
      "Mixed precision enabled.\n",
      "Sleeping for:  0.9403617818919305 seconds\n",
      "There are in total 335 patents to be compared against.\n",
      "It took 3.23 seconds to get the embedding of the input.\n",
      "It took 3.66 seconds to get the embedding of the input.\n",
      "It took 2.29 seconds to get the embedding of the input.\n",
      "It took 1.81 seconds to get the embedding of the input.\n",
      "It took 1.74 seconds to get the embedding of the input.\n",
      "It took 1.78 seconds to get the embedding of the input.\n",
      "It took 1.86 seconds to get the embedding of the input.\n",
      "It took 1.84 seconds to get the embedding of the input.\n",
      "It took 1.96 seconds to get the embedding of the input.\n",
      "It took 1.96 seconds to get the embedding of the input.\n",
      "It took 1.75 seconds to get the embedding of the input.\n",
      "It took 1.67 seconds to get the embedding of the input.\n",
      "It took 1.67 seconds to get the embedding of the input.\n",
      "It took 1.66 seconds to get the embedding of the input.\n",
      "It took 1.68 seconds to get the embedding of the input.\n",
      "It took 1.65 seconds to get the embedding of the input.\n",
      "It took 1.69 seconds to get the embedding of the input.\n",
      "It took 1.70 seconds to get the embedding of the input.\n",
      "It took 1.77 seconds to get the embedding of the input.\n",
      "It took 1.82 seconds to get the embedding of the input.\n",
      "It took 1.86 seconds to get the embedding of the input.\n",
      "It took 1.87 seconds to get the embedding of the input.\n",
      "It took 1.69 seconds to get the embedding of the input.\n",
      "It took 1.76 seconds to get the embedding of the input.\n",
      "It took 1.79 seconds to get the embedding of the input.\n",
      "It took 1.73 seconds to get the embedding of the input.\n",
      "It took 1.68 seconds to get the embedding of the input.\n",
      "It took 1.79 seconds to get the embedding of the input.\n",
      "It took 1.83 seconds to get the embedding of the input.\n",
      "It took 1.73 seconds to get the embedding of the input.\n",
      "It took 1.69 seconds to get the embedding of the input.\n",
      "It took 1.65 seconds to get the embedding of the input.\n",
      "It took 1.74 seconds to get the embedding of the input.\n",
      "It took 2.21 seconds to get the embedding of the input.\n",
      "It took 1.91 seconds to get the embedding of the input.\n",
      "It took 1.81 seconds to get the embedding of the input.\n",
      "It took 1.78 seconds to get the embedding of the input.\n",
      "It took 1.79 seconds to get the embedding of the input.\n",
      "It took 1.82 seconds to get the embedding of the input.\n",
      "It took 1.71 seconds to get the embedding of the input.\n",
      "It took 1.67 seconds to get the embedding of the input.\n",
      "It took 1.82 seconds to get the embedding of the input.\n",
      "It took 1.78 seconds to get the embedding of the input.\n",
      "It took 1.84 seconds to get the embedding of the input.\n",
      "It took 1.85 seconds to get the embedding of the input.\n",
      "It took 1.83 seconds to get the embedding of the input.\n",
      "It took 1.75 seconds to get the embedding of the input.\n",
      "It took 1.79 seconds to get the embedding of the input.\n",
      "It took 1.81 seconds to get the embedding of the input.\n",
      "It took 1.83 seconds to get the embedding of the input.\n",
      "It took 1.89 seconds to get the embedding of the input.\n",
      "It took 1.91 seconds to get the embedding of the input.\n",
      "It took 1.85 seconds to get the embedding of the input.\n",
      "It took 2.01 seconds to get the embedding of the input.\n",
      "It took 1.96 seconds to get the embedding of the input.\n",
      "It took 1.87 seconds to get the embedding of the input.\n",
      "It took 1.82 seconds to get the embedding of the input.\n",
      "It took 1.71 seconds to get the embedding of the input.\n",
      "It took 1.81 seconds to get the embedding of the input.\n",
      "It took 1.72 seconds to get the embedding of the input.\n",
      "It took 1.70 seconds to get the embedding of the input.\n",
      "It took 1.72 seconds to get the embedding of the input.\n",
      "It took 1.77 seconds to get the embedding of the input.\n",
      "It took 2.02 seconds to get the embedding of the input.\n",
      "It took 1.96 seconds to get the embedding of the input.\n",
      "It took 1.75 seconds to get the embedding of the input.\n",
      "It took 1.77 seconds to get the embedding of the input.\n",
      "It took 1.68 seconds to get the embedding of the input.\n",
      "It took 1.70 seconds to get the embedding of the input.\n",
      "It took 1.67 seconds to get the embedding of the input.\n",
      "It took 1.69 seconds to get the embedding of the input.\n",
      "It took 1.77 seconds to get the embedding of the input.\n",
      "It took 1.70 seconds to get the embedding of the input.\n",
      "It took 1.66 seconds to get the embedding of the input.\n",
      "It took 1.68 seconds to get the embedding of the input.\n",
      "It took 1.77 seconds to get the embedding of the input.\n",
      "It took 1.85 seconds to get the embedding of the input.\n",
      "It took 1.73 seconds to get the embedding of the input.\n",
      "It took 1.81 seconds to get the embedding of the input.\n",
      "It took 1.80 seconds to get the embedding of the input.\n",
      "It took 1.82 seconds to get the embedding of the input.\n",
      "It took 1.86 seconds to get the embedding of the input.\n",
      "It took 1.87 seconds to get the embedding of the input.\n",
      "It took 1.84 seconds to get the embedding of the input.\n",
      "It took 1.83 seconds to get the embedding of the input.\n",
      "It took 1.98 seconds to get the embedding of the input.\n",
      "It took 2.00 seconds to get the embedding of the input.\n",
      "It took 1.90 seconds to get the embedding of the input.\n",
      "It took 1.88 seconds to get the embedding of the input.\n",
      "It took 1.76 seconds to get the embedding of the input.\n",
      "It took 1.74 seconds to get the embedding of the input.\n",
      "It took 1.83 seconds to get the embedding of the input.\n",
      "It took 1.84 seconds to get the embedding of the input.\n",
      "It took 1.80 seconds to get the embedding of the input.\n",
      "It took 1.79 seconds to get the embedding of the input.\n",
      "It took 1.82 seconds to get the embedding of the input.\n",
      "It took 1.92 seconds to get the embedding of the input.\n",
      "It took 1.81 seconds to get the embedding of the input.\n",
      "It took 1.81 seconds to get the embedding of the input.\n",
      "It took 1.80 seconds to get the embedding of the input.\n",
      "It took 1.82 seconds to get the embedding of the input.\n",
      "It took 1.84 seconds to get the embedding of the input.\n",
      "It took 1.90 seconds to get the embedding of the input.\n",
      "It took 1.94 seconds to get the embedding of the input.\n",
      "It took 1.94 seconds to get the embedding of the input.\n",
      "It took 1.69 seconds to get the embedding of the input.\n",
      "It took 1.86 seconds to get the embedding of the input.\n",
      "It took 1.78 seconds to get the embedding of the input.\n",
      "It took 1.81 seconds to get the embedding of the input.\n",
      "It took 1.71 seconds to get the embedding of the input.\n",
      "It took 1.71 seconds to get the embedding of the input.\n",
      "It took 1.82 seconds to get the embedding of the input.\n",
      "It took 1.82 seconds to get the embedding of the input.\n",
      "It took 1.93 seconds to get the embedding of the input.\n",
      "It took 2.04 seconds to get the embedding of the input.\n",
      "It took 1.85 seconds to get the embedding of the input.\n",
      "It took 1.96 seconds to get the embedding of the input.\n",
      "It took 1.94 seconds to get the embedding of the input.\n",
      "It took 1.93 seconds to get the embedding of the input.\n",
      "It took 1.76 seconds to get the embedding of the input.\n",
      "It took 2.08 seconds to get the embedding of the input.\n",
      "It took 1.80 seconds to get the embedding of the input.\n",
      "It took 1.86 seconds to get the embedding of the input.\n",
      "It took 1.94 seconds to get the embedding of the input.\n",
      "It took 1.81 seconds to get the embedding of the input.\n",
      "It took 3.05 seconds to get the embedding of the input.\n",
      "It took 2.65 seconds to get the embedding of the input.\n",
      "It took 2.39 seconds to get the embedding of the input.\n",
      "It took 2.17 seconds to get the embedding of the input.\n",
      "It took 2.20 seconds to get the embedding of the input.\n",
      "It took 2.18 seconds to get the embedding of the input.\n",
      "It took 2.18 seconds to get the embedding of the input.\n",
      "It took 2.15 seconds to get the embedding of the input.\n",
      "It took 2.14 seconds to get the embedding of the input.\n",
      "It took 2.23 seconds to get the embedding of the input.\n",
      "It took 2.34 seconds to get the embedding of the input.\n",
      "It took 2.31 seconds to get the embedding of the input.\n",
      "It took 2.11 seconds to get the embedding of the input.\n",
      "It took 2.12 seconds to get the embedding of the input.\n",
      "It took 2.12 seconds to get the embedding of the input.\n",
      "It took 2.38 seconds to get the embedding of the input.\n",
      "It took 2.40 seconds to get the embedding of the input.\n",
      "It took 2.18 seconds to get the embedding of the input.\n",
      "It took 2.12 seconds to get the embedding of the input.\n",
      "It took 2.13 seconds to get the embedding of the input.\n",
      "It took 2.14 seconds to get the embedding of the input.\n",
      "It took 2.11 seconds to get the embedding of the input.\n",
      "It took 2.12 seconds to get the embedding of the input.\n",
      "It took 2.14 seconds to get the embedding of the input.\n",
      "It took 2.27 seconds to get the embedding of the input.\n",
      "It took 2.48 seconds to get the embedding of the input.\n",
      "It took 2.42 seconds to get the embedding of the input.\n",
      "It took 2.40 seconds to get the embedding of the input.\n",
      "It took 2.58 seconds to get the embedding of the input.\n",
      "It took 2.38 seconds to get the embedding of the input.\n",
      "It took 2.33 seconds to get the embedding of the input.\n",
      "It took 2.33 seconds to get the embedding of the input.\n",
      "It took 2.35 seconds to get the embedding of the input.\n",
      "It took 2.63 seconds to get the embedding of the input.\n",
      "It took 2.43 seconds to get the embedding of the input.\n",
      "It took 2.30 seconds to get the embedding of the input.\n",
      "It took 2.33 seconds to get the embedding of the input.\n",
      "It took 2.56 seconds to get the embedding of the input.\n",
      "It took 2.34 seconds to get the embedding of the input.\n",
      "It took 2.33 seconds to get the embedding of the input.\n",
      "It took 2.34 seconds to get the embedding of the input.\n",
      "It took 2.28 seconds to get the embedding of the input.\n",
      "It took 2.26 seconds to get the embedding of the input.\n",
      "It took 2.10 seconds to get the embedding of the input.\n",
      "It took 2.16 seconds to get the embedding of the input.\n",
      "It took 2.25 seconds to get the embedding of the input.\n",
      "It took 2.12 seconds to get the embedding of the input.\n",
      "It took 2.15 seconds to get the embedding of the input.\n",
      "It took 2.16 seconds to get the embedding of the input.\n",
      "It took 2.11 seconds to get the embedding of the input.\n",
      "It took 2.12 seconds to get the embedding of the input.\n",
      "It took 2.36 seconds to get the embedding of the input.\n",
      "It took 2.23 seconds to get the embedding of the input.\n",
      "It took 2.25 seconds to get the embedding of the input.\n",
      "It took 2.34 seconds to get the embedding of the input.\n",
      "It took 2.48 seconds to get the embedding of the input.\n",
      "It took 2.67 seconds to get the embedding of the input.\n",
      "It took 2.60 seconds to get the embedding of the input.\n",
      "It took 2.34 seconds to get the embedding of the input.\n",
      "It took 2.22 seconds to get the embedding of the input.\n",
      "It took 2.36 seconds to get the embedding of the input.\n",
      "It took 2.46 seconds to get the embedding of the input.\n",
      "It took 2.39 seconds to get the embedding of the input.\n",
      "It took 2.26 seconds to get the embedding of the input.\n",
      "It took 2.17 seconds to get the embedding of the input.\n",
      "It took 2.27 seconds to get the embedding of the input.\n",
      "It took 2.30 seconds to get the embedding of the input.\n",
      "It took 2.24 seconds to get the embedding of the input.\n",
      "It took 2.23 seconds to get the embedding of the input.\n",
      "It took 2.25 seconds to get the embedding of the input.\n",
      "It took 2.27 seconds to get the embedding of the input.\n",
      "It took 2.30 seconds to get the embedding of the input.\n",
      "It took 2.12 seconds to get the embedding of the input.\n",
      "It took 2.13 seconds to get the embedding of the input.\n",
      "It took 2.13 seconds to get the embedding of the input.\n",
      "It took 2.22 seconds to get the embedding of the input.\n",
      "It took 2.23 seconds to get the embedding of the input.\n",
      "It took 2.11 seconds to get the embedding of the input.\n",
      "It took 2.14 seconds to get the embedding of the input.\n",
      "It took 2.37 seconds to get the embedding of the input.\n",
      "It took 2.37 seconds to get the embedding of the input.\n",
      "It took 2.40 seconds to get the embedding of the input.\n",
      "It took 2.66 seconds to get the embedding of the input.\n",
      "It took 2.46 seconds to get the embedding of the input.\n",
      "It took 2.31 seconds to get the embedding of the input.\n",
      "It took 2.26 seconds to get the embedding of the input.\n",
      "It took 2.31 seconds to get the embedding of the input.\n",
      "It took 2.34 seconds to get the embedding of the input.\n",
      "It took 2.37 seconds to get the embedding of the input.\n",
      "It took 2.08 seconds to get the embedding of the input.\n",
      "It took 1.99 seconds to get the embedding of the input.\n",
      "It took 1.92 seconds to get the embedding of the input.\n",
      "It took 1.82 seconds to get the embedding of the input.\n",
      "It took 1.96 seconds to get the embedding of the input.\n",
      "It took 1.81 seconds to get the embedding of the input.\n",
      "It took 1.86 seconds to get the embedding of the input.\n",
      "It took 1.81 seconds to get the embedding of the input.\n",
      "It took 1.66 seconds to get the embedding of the input.\n",
      "It took 1.61 seconds to get the embedding of the input.\n",
      "It took 1.67 seconds to get the embedding of the input.\n",
      "It took 1.72 seconds to get the embedding of the input.\n",
      "It took 1.68 seconds to get the embedding of the input.\n",
      "It took 1.77 seconds to get the embedding of the input.\n",
      "It took 1.74 seconds to get the embedding of the input.\n",
      "It took 1.73 seconds to get the embedding of the input.\n",
      "It took 1.70 seconds to get the embedding of the input.\n",
      "It took 1.81 seconds to get the embedding of the input.\n",
      "It took 1.78 seconds to get the embedding of the input.\n",
      "It took 1.85 seconds to get the embedding of the input.\n",
      "It took 1.81 seconds to get the embedding of the input.\n",
      "It took 1.84 seconds to get the embedding of the input.\n",
      "It took 1.80 seconds to get the embedding of the input.\n",
      "It took 1.93 seconds to get the embedding of the input.\n",
      "It took 1.96 seconds to get the embedding of the input.\n",
      "It took 1.93 seconds to get the embedding of the input.\n",
      "It took 1.82 seconds to get the embedding of the input.\n",
      "It took 1.85 seconds to get the embedding of the input.\n",
      "It took 1.83 seconds to get the embedding of the input.\n",
      "It took 1.80 seconds to get the embedding of the input.\n",
      "It took 1.80 seconds to get the embedding of the input.\n",
      "It took 1.78 seconds to get the embedding of the input.\n",
      "It took 1.80 seconds to get the embedding of the input.\n",
      "It took 1.88 seconds to get the embedding of the input.\n",
      "It took 1.85 seconds to get the embedding of the input.\n",
      "It took 1.85 seconds to get the embedding of the input.\n",
      "It took 1.83 seconds to get the embedding of the input.\n",
      "It took 1.93 seconds to get the embedding of the input.\n",
      "It took 1.94 seconds to get the embedding of the input.\n",
      "It took 1.91 seconds to get the embedding of the input.\n",
      "It took 1.75 seconds to get the embedding of the input.\n",
      "It took 1.71 seconds to get the embedding of the input.\n",
      "It took 1.88 seconds to get the embedding of the input.\n",
      "It took 1.73 seconds to get the embedding of the input.\n",
      "It took 1.83 seconds to get the embedding of the input.\n",
      "It took 1.99 seconds to get the embedding of the input.\n",
      "It took 1.87 seconds to get the embedding of the input.\n",
      "It took 1.81 seconds to get the embedding of the input.\n",
      "It took 1.75 seconds to get the embedding of the input.\n",
      "It took 1.69 seconds to get the embedding of the input.\n",
      "It took 1.69 seconds to get the embedding of the input.\n",
      "It took 1.80 seconds to get the embedding of the input.\n",
      "It took 1.84 seconds to get the embedding of the input.\n",
      "It took 1.67 seconds to get the embedding of the input.\n",
      "It took 1.80 seconds to get the embedding of the input.\n",
      "It took 1.78 seconds to get the embedding of the input.\n",
      "It took 1.77 seconds to get the embedding of the input.\n",
      "It took 1.86 seconds to get the embedding of the input.\n",
      "It took 1.91 seconds to get the embedding of the input.\n",
      "It took 1.96 seconds to get the embedding of the input.\n",
      "It took 1.89 seconds to get the embedding of the input.\n",
      "It took 2.02 seconds to get the embedding of the input.\n",
      "It took 2.07 seconds to get the embedding of the input.\n",
      "It took 1.79 seconds to get the embedding of the input.\n",
      "It took 1.76 seconds to get the embedding of the input.\n",
      "It took 1.70 seconds to get the embedding of the input.\n",
      "It took 1.60 seconds to get the embedding of the input.\n",
      "It took 1.59 seconds to get the embedding of the input.\n",
      "It took 1.59 seconds to get the embedding of the input.\n",
      "It took 1.63 seconds to get the embedding of the input.\n",
      "It took 1.81 seconds to get the embedding of the input.\n",
      "It took 2.11 seconds to get the embedding of the input.\n",
      "It took 1.76 seconds to get the embedding of the input.\n",
      "It took 1.85 seconds to get the embedding of the input.\n",
      "It took 1.72 seconds to get the embedding of the input.\n",
      "It took 1.65 seconds to get the embedding of the input.\n",
      "It took 1.76 seconds to get the embedding of the input.\n",
      "It took 1.81 seconds to get the embedding of the input.\n",
      "It took 1.80 seconds to get the embedding of the input.\n",
      "It took 1.76 seconds to get the embedding of the input.\n",
      "It took 1.96 seconds to get the embedding of the input.\n",
      "It took 1.80 seconds to get the embedding of the input.\n",
      "It took 1.75 seconds to get the embedding of the input.\n",
      "It took 1.68 seconds to get the embedding of the input.\n",
      "It took 1.70 seconds to get the embedding of the input.\n",
      "It took 1.84 seconds to get the embedding of the input.\n",
      "It took 1.79 seconds to get the embedding of the input.\n",
      "It took 1.78 seconds to get the embedding of the input.\n",
      "It took 1.97 seconds to get the embedding of the input.\n",
      "It took 2.06 seconds to get the embedding of the input.\n",
      "It took 1.79 seconds to get the embedding of the input.\n",
      "It took 1.67 seconds to get the embedding of the input.\n",
      "It took 1.61 seconds to get the embedding of the input.\n",
      "It took 1.65 seconds to get the embedding of the input.\n",
      "It took 1.63 seconds to get the embedding of the input.\n",
      "It took 1.60 seconds to get the embedding of the input.\n",
      "It took 1.62 seconds to get the embedding of the input.\n",
      "It took 1.58 seconds to get the embedding of the input.\n",
      "It took 1.58 seconds to get the embedding of the input.\n",
      "It took 1.75 seconds to get the embedding of the input.\n",
      "It took 1.69 seconds to get the embedding of the input.\n",
      "It took 1.69 seconds to get the embedding of the input.\n",
      "It took 1.62 seconds to get the embedding of the input.\n",
      "It took 1.67 seconds to get the embedding of the input.\n",
      "It took 1.99 seconds to get the embedding of the input.\n",
      "It took 1.98 seconds to get the embedding of the input.\n",
      "It took 2.05 seconds to get the embedding of the input.\n",
      "It took 2.24 seconds to get the embedding of the input.\n",
      "It took 2.61 seconds to get the embedding of the input.\n",
      "It took 2.43 seconds to get the embedding of the input.\n",
      "It took 2.00 seconds to get the embedding of the input.\n",
      "It took 2.25 seconds to get the embedding of the input.\n",
      "It took 2.33 seconds to get the embedding of the input.\n",
      "It took 2.60 seconds to get the embedding of the input.\n",
      "It took 1.92 seconds to get the embedding of the input.\n",
      "It took 1.77 seconds to get the embedding of the input.\n",
      "It took 1.78 seconds to get the embedding of the input.\n",
      "It took 1.80 seconds to get the embedding of the input.\n",
      "It took 1.70 seconds to get the embedding of the input.\n",
      "It took 1.63 seconds to get the embedding of the input.\n",
      "It took 1.70 seconds to get the embedding of the input.\n",
      "It took 1.74 seconds to get the embedding of the input.\n",
      "Cosine similarity is 0.8775115013122559\n"
     ]
    },
    {
     "data": {
      "text/plain": [
       "[\"A method of distributing Internet advertisements at the websites of a number of different publishers operating web sites. An advertising entity collects lists of user identifiers from each of several advertisers. In response to a user visiting one of the websites, the user identifier associated with the user is determined. It is determined if the user identifier is on one of the list. If the user identifier is on a list, an unembedded advertisement associated with the advertiser whose list contains the user's identifier is served to the user. The advertisement may be a pop-up, pop-under, or dynamic html advertisement, and if the user is not on the list, no such an ad may not be served.\",\n",
       " 'An Internet delivery method delivers electronic information products to a plurality of users via the Internet. A plurality of display formats are stored in a database. The display formats including at least a default display format and a custom display format. Information is also stored for each user indicating whether the user is a specific type of user. When a user logs in, the user is identified as being that specific type of user. If the user is identified as the specific type of user, then an electronic information product is delivered to the user in the custom display format. The electronic information products are accessed via computers connected to the Internet, including wireless devices.']"
      ]
     },
     "execution_count": 26,
     "metadata": {},
     "output_type": "execute_result"
    }
   ],
   "source": [
    "import tensorflow as tf\n",
    "\n",
    "tf.config.optimizer.set_jit(True)  # Enable XLA for the entire script\n",
    "from tensorflow.keras import mixed_precision\n",
    "\n",
    "# Set the policy to mixed precision\n",
    "policy = mixed_precision.Policy('mixed_float16')\n",
    "mixed_precision.set_global_policy(policy)\n",
    "\n",
    "print(\"Mixed precision enabled.\")\n",
    "\n",
    "patent = x[33]\n",
    "importlib.reload(fp)\n",
    "fp.find_the_closest_abstract_excerpt(patent, filter_tfidf=False)"
   ]
  },
  {
   "cell_type": "code",
   "execution_count": 24,
   "metadata": {},
   "outputs": [
    {
     "name": "stdout",
     "output_type": "stream",
     "text": [
      "BERT loaded...\n",
      "It took 2.66 seconds to get the embedding of the input.\n"
     ]
    }
   ],
   "source": [
    "import api.bertembeddings as be\n",
    "import importlib\n",
    "importlib.reload(be)\n",
    "# Profiling start\n",
    "tf.profiler.experimental.start('logdir')  # Log to 'logdir'\n",
    "\n",
    "g = be.get_embd_of_whole_abstract(patent['abstract'])\n",
    "\n",
    "# Profiling stops\n",
    "tf.profiler.experimental.stop()"
   ]
  }
 ],
 "metadata": {
  "kernelspec": {
   "display_name": "venv",
   "language": "python",
   "name": "python3"
  },
  "language_info": {
   "codemirror_mode": {
    "name": "ipython",
    "version": 3
   },
   "file_extension": ".py",
   "mimetype": "text/x-python",
   "name": "python",
   "nbconvert_exporter": "python",
   "pygments_lexer": "ipython3",
   "version": "3.12.2"
  }
 },
 "nbformat": 4,
 "nbformat_minor": 2
}
