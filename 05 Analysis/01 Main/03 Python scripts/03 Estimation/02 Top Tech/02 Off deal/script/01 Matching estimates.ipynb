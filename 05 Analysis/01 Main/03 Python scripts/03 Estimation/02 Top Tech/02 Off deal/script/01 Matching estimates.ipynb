{
 "cells": [
  {
   "cell_type": "markdown",
   "metadata": {},
   "source": [
    "# Load data"
   ]
  },
  {
   "cell_type": "code",
   "execution_count": null,
   "metadata": {},
   "outputs": [
    {
     "name": "stderr",
     "output_type": "stream",
     "text": [
      "C:\\Users\\amusali\\AppData\\Local\\Temp\\ipykernel_15340\\3155390957.py:6: DtypeWarning: Columns (26,27,28,29,30,31,32) have mixed types. Specify dtype option on import or set low_memory=False.\n",
      "  df = pd.read_csv(r\"C:\\Users\\amusali\\Desktop\\uc3m PhD\\05 Analysis\\01 Main\\03 Python scripts\\03 Estimation\\02 Top Tech\\02 Off deal\\raw\\10 Sample - top tech, OD, filing date.csv\")\n"
     ]
    },
    {
     "data": {
      "application/vnd.microsoft.datawrangler.viewer.v0+json": {
       "columns": [
        {
         "name": "index",
         "rawType": "int64",
         "type": "integer"
        },
        {
         "name": "treated_id",
         "rawType": "int64",
         "type": "integer"
        },
        {
         "name": "control_id",
         "rawType": "int64",
         "type": "integer"
        },
        {
         "name": "match_id",
         "rawType": "int64",
         "type": "integer"
        },
        {
         "name": "lambda",
         "rawType": "float64",
         "type": "float"
        },
        {
         "name": "mahalanobis_distance",
         "rawType": "float64",
         "type": "float"
        },
        {
         "name": "cosine_distance",
         "rawType": "float64",
         "type": "float"
        },
        {
         "name": "hybrid_distance",
         "rawType": "float64",
         "type": "float"
        },
        {
         "name": "quarter",
         "rawType": "int64",
         "type": "integer"
        },
        {
         "name": "citations_treated",
         "rawType": "int64",
         "type": "integer"
        },
        {
         "name": "citations_control",
         "rawType": "int64",
         "type": "integer"
        },
        {
         "name": "ult_parent",
         "rawType": "object",
         "type": "string"
        },
        {
         "name": "acq_type",
         "rawType": "object",
         "type": "string"
        },
        {
         "name": "acq_date",
         "rawType": "object",
         "type": "string"
        },
        {
         "name": "acq_year",
         "rawType": "int64",
         "type": "integer"
        },
        {
         "name": "deal_id",
         "rawType": "float64",
         "type": "float"
        },
        {
         "name": "patent_id",
         "rawType": "int64",
         "type": "integer"
        },
        {
         "name": "acquired",
         "rawType": "int64",
         "type": "integer"
        },
        {
         "name": "assignee",
         "rawType": "float64",
         "type": "float"
        },
        {
         "name": "grant_date",
         "rawType": "object",
         "type": "string"
        },
        {
         "name": "patent_type",
         "rawType": "object",
         "type": "string"
        },
        {
         "name": "patent_date",
         "rawType": "object",
         "type": "string"
        },
        {
         "name": "patent_title",
         "rawType": "object",
         "type": "string"
        },
        {
         "name": "wipo_kind",
         "rawType": "object",
         "type": "string"
        },
        {
         "name": "num_claims",
         "rawType": "int64",
         "type": "integer"
        },
        {
         "name": "withdrawn",
         "rawType": "int64",
         "type": "integer"
        },
        {
         "name": "filename",
         "rawType": "object",
         "type": "string"
        },
        {
         "name": "cpc_version_indicator_at_issue",
         "rawType": "object",
         "type": "string"
        },
        {
         "name": "cpc_section_at_issue",
         "rawType": "object",
         "type": "string"
        },
        {
         "name": "cpc_class_at_issue",
         "rawType": "object",
         "type": "string"
        },
        {
         "name": "cpc_subclass_at_issue",
         "rawType": "object",
         "type": "string"
        },
        {
         "name": "cpc_group_at_issue",
         "rawType": "object",
         "type": "string"
        },
        {
         "name": "cpc_type_at_issue",
         "rawType": "object",
         "type": "string"
        },
        {
         "name": "cpc_action_date_at_issue",
         "rawType": "object",
         "type": "string"
        },
        {
         "name": "merge_cpc_at_issue",
         "rawType": "object",
         "type": "string"
        },
        {
         "name": "cpc_sequence_current",
         "rawType": "float64",
         "type": "float"
        },
        {
         "name": "cpc_section_current",
         "rawType": "object",
         "type": "string"
        },
        {
         "name": "cpc_class_current",
         "rawType": "object",
         "type": "string"
        },
        {
         "name": "cpc_subclass_current",
         "rawType": "object",
         "type": "string"
        },
        {
         "name": "cpc_group_current",
         "rawType": "object",
         "type": "string"
        },
        {
         "name": "cpc_type_current",
         "rawType": "object",
         "type": "string"
        },
        {
         "name": "merge_cpc_current",
         "rawType": "object",
         "type": "string"
        },
        {
         "name": "abstract",
         "rawType": "object",
         "type": "string"
        },
        {
         "name": "assignee0_disamb",
         "rawType": "object",
         "type": "string"
        },
        {
         "name": "assignee1_disamb",
         "rawType": "float64",
         "type": "float"
        },
        {
         "name": "assignee2_disamb",
         "rawType": "float64",
         "type": "float"
        },
        {
         "name": "has_multiple_assignees_disamb",
         "rawType": "float64",
         "type": "float"
        },
        {
         "name": "merge_assignee_disamb",
         "rawType": "object",
         "type": "string"
        },
        {
         "name": "assignee0_notdisamb",
         "rawType": "object",
         "type": "string"
        },
        {
         "name": "assignee1_notdisamb",
         "rawType": "float64",
         "type": "float"
        },
        {
         "name": "assignee2_notdisamb",
         "rawType": "float64",
         "type": "float"
        },
        {
         "name": "merge_assignee_notdisamb",
         "rawType": "object",
         "type": "string"
        },
        {
         "name": "resold_date",
         "rawType": "float64",
         "type": "float"
        },
        {
         "name": "modnote",
         "rawType": "float64",
         "type": "float"
        },
        {
         "name": "assignor",
         "rawType": "object",
         "type": "string"
        },
        {
         "name": "_merge",
         "rawType": "object",
         "type": "string"
        }
       ],
       "conversionMethod": "pd.DataFrame",
       "ref": "f5ec746a-9631-425f-aa72-edf98fe5eb26",
       "rows": [
        [
         "0",
         "10009864",
         "10111122",
         "862",
         "0.0",
         "5.6817933170642805",
         "0.1513671875",
         "0.1513671875",
         "-1",
         "3",
         "0",
         "APPL",
         "Off deal",
         "2019-11-30",
         "2019",
         null,
         "10009864",
         "1",
         null,
         "2018-06-26",
         "utility",
         "2018-06-26",
         "Forming carrier aggregation timing advance groups in a heterogeneous network",
         "B2",
         "20",
         "0",
         "ipg180626.xml",
         "2013-01-01",
         "H",
         "H04",
         "H04W",
         "H04W56/0045",
         "inventional",
         "2018-06-26",
         "Matched (3)",
         "0.0",
         "H",
         "H04",
         "H04W",
         "H04W56/0045",
         "inventional",
         "Matched (3)",
         "Technology for an eNodeB operable to maintain timing advance groups (TAGs) is disclosed. The eNodeB can form a timing advance group (TAG) for one or more serving cells. The eNodeB can map each of the one or more serving cells to the TAG using signaling from the eNodeB. The eNodeB can assign a timing advance group identifier (TAG ID) to the one or more serving cells mapped to the TAG.",
         "Intel Corporation",
         null,
         null,
         "0.0",
         "Matched (3)",
         "INTEL CORPORATION",
         null,
         null,
         "Matched (3)",
         null,
         null,
         "INTEL CORPORATION",
         "Master only (1)"
        ],
        [
         "1",
         "10009864",
         "10111122",
         "862",
         "0.0",
         "5.6817933170642805",
         "0.1513671875",
         "0.1513671875",
         "-2",
         "0",
         "0",
         "APPL",
         "Off deal",
         "2019-11-30",
         "2019",
         null,
         "10009864",
         "1",
         null,
         "2018-06-26",
         "utility",
         "2018-06-26",
         "Forming carrier aggregation timing advance groups in a heterogeneous network",
         "B2",
         "20",
         "0",
         "ipg180626.xml",
         "2013-01-01",
         "H",
         "H04",
         "H04W",
         "H04W56/0045",
         "inventional",
         "2018-06-26",
         "Matched (3)",
         "0.0",
         "H",
         "H04",
         "H04W",
         "H04W56/0045",
         "inventional",
         "Matched (3)",
         "Technology for an eNodeB operable to maintain timing advance groups (TAGs) is disclosed. The eNodeB can form a timing advance group (TAG) for one or more serving cells. The eNodeB can map each of the one or more serving cells to the TAG using signaling from the eNodeB. The eNodeB can assign a timing advance group identifier (TAG ID) to the one or more serving cells mapped to the TAG.",
         "Intel Corporation",
         null,
         null,
         "0.0",
         "Matched (3)",
         "INTEL CORPORATION",
         null,
         null,
         "Matched (3)",
         null,
         null,
         "INTEL CORPORATION",
         "Master only (1)"
        ],
        [
         "2",
         "10009864",
         "10111122",
         "862",
         "0.0",
         "5.6817933170642805",
         "0.1513671875",
         "0.1513671875",
         "-3",
         "1",
         "0",
         "APPL",
         "Off deal",
         "2019-11-30",
         "2019",
         null,
         "10009864",
         "1",
         null,
         "2018-06-26",
         "utility",
         "2018-06-26",
         "Forming carrier aggregation timing advance groups in a heterogeneous network",
         "B2",
         "20",
         "0",
         "ipg180626.xml",
         "2013-01-01",
         "H",
         "H04",
         "H04W",
         "H04W56/0045",
         "inventional",
         "2018-06-26",
         "Matched (3)",
         "0.0",
         "H",
         "H04",
         "H04W",
         "H04W56/0045",
         "inventional",
         "Matched (3)",
         "Technology for an eNodeB operable to maintain timing advance groups (TAGs) is disclosed. The eNodeB can form a timing advance group (TAG) for one or more serving cells. The eNodeB can map each of the one or more serving cells to the TAG using signaling from the eNodeB. The eNodeB can assign a timing advance group identifier (TAG ID) to the one or more serving cells mapped to the TAG.",
         "Intel Corporation",
         null,
         null,
         "0.0",
         "Matched (3)",
         "INTEL CORPORATION",
         null,
         null,
         "Matched (3)",
         null,
         null,
         "INTEL CORPORATION",
         "Master only (1)"
        ],
        [
         "3",
         "10009864",
         "10111122",
         "862",
         "0.0",
         "5.6817933170642805",
         "0.1513671875",
         "0.1513671875",
         "-4",
         "1",
         "0",
         "APPL",
         "Off deal",
         "2019-11-30",
         "2019",
         null,
         "10009864",
         "1",
         null,
         "2018-06-26",
         "utility",
         "2018-06-26",
         "Forming carrier aggregation timing advance groups in a heterogeneous network",
         "B2",
         "20",
         "0",
         "ipg180626.xml",
         "2013-01-01",
         "H",
         "H04",
         "H04W",
         "H04W56/0045",
         "inventional",
         "2018-06-26",
         "Matched (3)",
         "0.0",
         "H",
         "H04",
         "H04W",
         "H04W56/0045",
         "inventional",
         "Matched (3)",
         "Technology for an eNodeB operable to maintain timing advance groups (TAGs) is disclosed. The eNodeB can form a timing advance group (TAG) for one or more serving cells. The eNodeB can map each of the one or more serving cells to the TAG using signaling from the eNodeB. The eNodeB can assign a timing advance group identifier (TAG ID) to the one or more serving cells mapped to the TAG.",
         "Intel Corporation",
         null,
         null,
         "0.0",
         "Matched (3)",
         "INTEL CORPORATION",
         null,
         null,
         "Matched (3)",
         null,
         null,
         "INTEL CORPORATION",
         "Master only (1)"
        ],
        [
         "4",
         "10009864",
         "10111122",
         "862",
         "0.0",
         "5.6817933170642805",
         "0.1513671875",
         "0.1513671875",
         "0",
         "4",
         "0",
         "APPL",
         "Off deal",
         "2019-11-30",
         "2019",
         null,
         "10009864",
         "1",
         null,
         "2018-06-26",
         "utility",
         "2018-06-26",
         "Forming carrier aggregation timing advance groups in a heterogeneous network",
         "B2",
         "20",
         "0",
         "ipg180626.xml",
         "2013-01-01",
         "H",
         "H04",
         "H04W",
         "H04W56/0045",
         "inventional",
         "2018-06-26",
         "Matched (3)",
         "0.0",
         "H",
         "H04",
         "H04W",
         "H04W56/0045",
         "inventional",
         "Matched (3)",
         "Technology for an eNodeB operable to maintain timing advance groups (TAGs) is disclosed. The eNodeB can form a timing advance group (TAG) for one or more serving cells. The eNodeB can map each of the one or more serving cells to the TAG using signaling from the eNodeB. The eNodeB can assign a timing advance group identifier (TAG ID) to the one or more serving cells mapped to the TAG.",
         "Intel Corporation",
         null,
         null,
         "0.0",
         "Matched (3)",
         "INTEL CORPORATION",
         null,
         null,
         "Matched (3)",
         null,
         null,
         "INTEL CORPORATION",
         "Master only (1)"
        ],
        [
         "5",
         "10009864",
         "10111122",
         "862",
         "0.0",
         "5.6817933170642805",
         "0.1513671875",
         "0.1513671875",
         "1",
         "2",
         "0",
         "APPL",
         "Off deal",
         "2019-11-30",
         "2019",
         null,
         "10009864",
         "1",
         null,
         "2018-06-26",
         "utility",
         "2018-06-26",
         "Forming carrier aggregation timing advance groups in a heterogeneous network",
         "B2",
         "20",
         "0",
         "ipg180626.xml",
         "2013-01-01",
         "H",
         "H04",
         "H04W",
         "H04W56/0045",
         "inventional",
         "2018-06-26",
         "Matched (3)",
         "0.0",
         "H",
         "H04",
         "H04W",
         "H04W56/0045",
         "inventional",
         "Matched (3)",
         "Technology for an eNodeB operable to maintain timing advance groups (TAGs) is disclosed. The eNodeB can form a timing advance group (TAG) for one or more serving cells. The eNodeB can map each of the one or more serving cells to the TAG using signaling from the eNodeB. The eNodeB can assign a timing advance group identifier (TAG ID) to the one or more serving cells mapped to the TAG.",
         "Intel Corporation",
         null,
         null,
         "0.0",
         "Matched (3)",
         "INTEL CORPORATION",
         null,
         null,
         "Matched (3)",
         null,
         null,
         "INTEL CORPORATION",
         "Master only (1)"
        ],
        [
         "6",
         "10009864",
         "10111122",
         "862",
         "0.0",
         "5.6817933170642805",
         "0.1513671875",
         "0.1513671875",
         "10",
         "2",
         "0",
         "APPL",
         "Off deal",
         "2019-11-30",
         "2019",
         null,
         "10009864",
         "1",
         null,
         "2018-06-26",
         "utility",
         "2018-06-26",
         "Forming carrier aggregation timing advance groups in a heterogeneous network",
         "B2",
         "20",
         "0",
         "ipg180626.xml",
         "2013-01-01",
         "H",
         "H04",
         "H04W",
         "H04W56/0045",
         "inventional",
         "2018-06-26",
         "Matched (3)",
         "0.0",
         "H",
         "H04",
         "H04W",
         "H04W56/0045",
         "inventional",
         "Matched (3)",
         "Technology for an eNodeB operable to maintain timing advance groups (TAGs) is disclosed. The eNodeB can form a timing advance group (TAG) for one or more serving cells. The eNodeB can map each of the one or more serving cells to the TAG using signaling from the eNodeB. The eNodeB can assign a timing advance group identifier (TAG ID) to the one or more serving cells mapped to the TAG.",
         "Intel Corporation",
         null,
         null,
         "0.0",
         "Matched (3)",
         "INTEL CORPORATION",
         null,
         null,
         "Matched (3)",
         null,
         null,
         "INTEL CORPORATION",
         "Master only (1)"
        ],
        [
         "7",
         "10009864",
         "10111122",
         "862",
         "0.0",
         "5.6817933170642805",
         "0.1513671875",
         "0.1513671875",
         "11",
         "0",
         "0",
         "APPL",
         "Off deal",
         "2019-11-30",
         "2019",
         null,
         "10009864",
         "1",
         null,
         "2018-06-26",
         "utility",
         "2018-06-26",
         "Forming carrier aggregation timing advance groups in a heterogeneous network",
         "B2",
         "20",
         "0",
         "ipg180626.xml",
         "2013-01-01",
         "H",
         "H04",
         "H04W",
         "H04W56/0045",
         "inventional",
         "2018-06-26",
         "Matched (3)",
         "0.0",
         "H",
         "H04",
         "H04W",
         "H04W56/0045",
         "inventional",
         "Matched (3)",
         "Technology for an eNodeB operable to maintain timing advance groups (TAGs) is disclosed. The eNodeB can form a timing advance group (TAG) for one or more serving cells. The eNodeB can map each of the one or more serving cells to the TAG using signaling from the eNodeB. The eNodeB can assign a timing advance group identifier (TAG ID) to the one or more serving cells mapped to the TAG.",
         "Intel Corporation",
         null,
         null,
         "0.0",
         "Matched (3)",
         "INTEL CORPORATION",
         null,
         null,
         "Matched (3)",
         null,
         null,
         "INTEL CORPORATION",
         "Master only (1)"
        ],
        [
         "8",
         "10009864",
         "10111122",
         "862",
         "0.0",
         "5.6817933170642805",
         "0.1513671875",
         "0.1513671875",
         "12",
         "2",
         "0",
         "APPL",
         "Off deal",
         "2019-11-30",
         "2019",
         null,
         "10009864",
         "1",
         null,
         "2018-06-26",
         "utility",
         "2018-06-26",
         "Forming carrier aggregation timing advance groups in a heterogeneous network",
         "B2",
         "20",
         "0",
         "ipg180626.xml",
         "2013-01-01",
         "H",
         "H04",
         "H04W",
         "H04W56/0045",
         "inventional",
         "2018-06-26",
         "Matched (3)",
         "0.0",
         "H",
         "H04",
         "H04W",
         "H04W56/0045",
         "inventional",
         "Matched (3)",
         "Technology for an eNodeB operable to maintain timing advance groups (TAGs) is disclosed. The eNodeB can form a timing advance group (TAG) for one or more serving cells. The eNodeB can map each of the one or more serving cells to the TAG using signaling from the eNodeB. The eNodeB can assign a timing advance group identifier (TAG ID) to the one or more serving cells mapped to the TAG.",
         "Intel Corporation",
         null,
         null,
         "0.0",
         "Matched (3)",
         "INTEL CORPORATION",
         null,
         null,
         "Matched (3)",
         null,
         null,
         "INTEL CORPORATION",
         "Master only (1)"
        ],
        [
         "9",
         "10009864",
         "10111122",
         "862",
         "0.0",
         "5.6817933170642805",
         "0.1513671875",
         "0.1513671875",
         "13",
         "0",
         "0",
         "APPL",
         "Off deal",
         "2019-11-30",
         "2019",
         null,
         "10009864",
         "1",
         null,
         "2018-06-26",
         "utility",
         "2018-06-26",
         "Forming carrier aggregation timing advance groups in a heterogeneous network",
         "B2",
         "20",
         "0",
         "ipg180626.xml",
         "2013-01-01",
         "H",
         "H04",
         "H04W",
         "H04W56/0045",
         "inventional",
         "2018-06-26",
         "Matched (3)",
         "0.0",
         "H",
         "H04",
         "H04W",
         "H04W56/0045",
         "inventional",
         "Matched (3)",
         "Technology for an eNodeB operable to maintain timing advance groups (TAGs) is disclosed. The eNodeB can form a timing advance group (TAG) for one or more serving cells. The eNodeB can map each of the one or more serving cells to the TAG using signaling from the eNodeB. The eNodeB can assign a timing advance group identifier (TAG ID) to the one or more serving cells mapped to the TAG.",
         "Intel Corporation",
         null,
         null,
         "0.0",
         "Matched (3)",
         "INTEL CORPORATION",
         null,
         null,
         "Matched (3)",
         null,
         null,
         "INTEL CORPORATION",
         "Master only (1)"
        ],
        [
         "10",
         "10009864",
         "10111122",
         "862",
         "0.0",
         "5.6817933170642805",
         "0.1513671875",
         "0.1513671875",
         "14",
         "0",
         "0",
         "APPL",
         "Off deal",
         "2019-11-30",
         "2019",
         null,
         "10009864",
         "1",
         null,
         "2018-06-26",
         "utility",
         "2018-06-26",
         "Forming carrier aggregation timing advance groups in a heterogeneous network",
         "B2",
         "20",
         "0",
         "ipg180626.xml",
         "2013-01-01",
         "H",
         "H04",
         "H04W",
         "H04W56/0045",
         "inventional",
         "2018-06-26",
         "Matched (3)",
         "0.0",
         "H",
         "H04",
         "H04W",
         "H04W56/0045",
         "inventional",
         "Matched (3)",
         "Technology for an eNodeB operable to maintain timing advance groups (TAGs) is disclosed. The eNodeB can form a timing advance group (TAG) for one or more serving cells. The eNodeB can map each of the one or more serving cells to the TAG using signaling from the eNodeB. The eNodeB can assign a timing advance group identifier (TAG ID) to the one or more serving cells mapped to the TAG.",
         "Intel Corporation",
         null,
         null,
         "0.0",
         "Matched (3)",
         "INTEL CORPORATION",
         null,
         null,
         "Matched (3)",
         null,
         null,
         "INTEL CORPORATION",
         "Master only (1)"
        ],
        [
         "11",
         "10009864",
         "10111122",
         "862",
         "0.0",
         "5.6817933170642805",
         "0.1513671875",
         "0.1513671875",
         "15",
         "3",
         "0",
         "APPL",
         "Off deal",
         "2019-11-30",
         "2019",
         null,
         "10009864",
         "1",
         null,
         "2018-06-26",
         "utility",
         "2018-06-26",
         "Forming carrier aggregation timing advance groups in a heterogeneous network",
         "B2",
         "20",
         "0",
         "ipg180626.xml",
         "2013-01-01",
         "H",
         "H04",
         "H04W",
         "H04W56/0045",
         "inventional",
         "2018-06-26",
         "Matched (3)",
         "0.0",
         "H",
         "H04",
         "H04W",
         "H04W56/0045",
         "inventional",
         "Matched (3)",
         "Technology for an eNodeB operable to maintain timing advance groups (TAGs) is disclosed. The eNodeB can form a timing advance group (TAG) for one or more serving cells. The eNodeB can map each of the one or more serving cells to the TAG using signaling from the eNodeB. The eNodeB can assign a timing advance group identifier (TAG ID) to the one or more serving cells mapped to the TAG.",
         "Intel Corporation",
         null,
         null,
         "0.0",
         "Matched (3)",
         "INTEL CORPORATION",
         null,
         null,
         "Matched (3)",
         null,
         null,
         "INTEL CORPORATION",
         "Master only (1)"
        ],
        [
         "12",
         "10009864",
         "10111122",
         "862",
         "0.0",
         "5.6817933170642805",
         "0.1513671875",
         "0.1513671875",
         "16",
         "1",
         "0",
         "APPL",
         "Off deal",
         "2019-11-30",
         "2019",
         null,
         "10009864",
         "1",
         null,
         "2018-06-26",
         "utility",
         "2018-06-26",
         "Forming carrier aggregation timing advance groups in a heterogeneous network",
         "B2",
         "20",
         "0",
         "ipg180626.xml",
         "2013-01-01",
         "H",
         "H04",
         "H04W",
         "H04W56/0045",
         "inventional",
         "2018-06-26",
         "Matched (3)",
         "0.0",
         "H",
         "H04",
         "H04W",
         "H04W56/0045",
         "inventional",
         "Matched (3)",
         "Technology for an eNodeB operable to maintain timing advance groups (TAGs) is disclosed. The eNodeB can form a timing advance group (TAG) for one or more serving cells. The eNodeB can map each of the one or more serving cells to the TAG using signaling from the eNodeB. The eNodeB can assign a timing advance group identifier (TAG ID) to the one or more serving cells mapped to the TAG.",
         "Intel Corporation",
         null,
         null,
         "0.0",
         "Matched (3)",
         "INTEL CORPORATION",
         null,
         null,
         "Matched (3)",
         null,
         null,
         "INTEL CORPORATION",
         "Master only (1)"
        ],
        [
         "13",
         "10009864",
         "10111122",
         "862",
         "0.0",
         "5.6817933170642805",
         "0.1513671875",
         "0.1513671875",
         "17",
         "0",
         "0",
         "APPL",
         "Off deal",
         "2019-11-30",
         "2019",
         null,
         "10009864",
         "1",
         null,
         "2018-06-26",
         "utility",
         "2018-06-26",
         "Forming carrier aggregation timing advance groups in a heterogeneous network",
         "B2",
         "20",
         "0",
         "ipg180626.xml",
         "2013-01-01",
         "H",
         "H04",
         "H04W",
         "H04W56/0045",
         "inventional",
         "2018-06-26",
         "Matched (3)",
         "0.0",
         "H",
         "H04",
         "H04W",
         "H04W56/0045",
         "inventional",
         "Matched (3)",
         "Technology for an eNodeB operable to maintain timing advance groups (TAGs) is disclosed. The eNodeB can form a timing advance group (TAG) for one or more serving cells. The eNodeB can map each of the one or more serving cells to the TAG using signaling from the eNodeB. The eNodeB can assign a timing advance group identifier (TAG ID) to the one or more serving cells mapped to the TAG.",
         "Intel Corporation",
         null,
         null,
         "0.0",
         "Matched (3)",
         "INTEL CORPORATION",
         null,
         null,
         "Matched (3)",
         null,
         null,
         "INTEL CORPORATION",
         "Master only (1)"
        ],
        [
         "14",
         "10009864",
         "10111122",
         "862",
         "0.0",
         "5.6817933170642805",
         "0.1513671875",
         "0.1513671875",
         "18",
         "0",
         "0",
         "APPL",
         "Off deal",
         "2019-11-30",
         "2019",
         null,
         "10009864",
         "1",
         null,
         "2018-06-26",
         "utility",
         "2018-06-26",
         "Forming carrier aggregation timing advance groups in a heterogeneous network",
         "B2",
         "20",
         "0",
         "ipg180626.xml",
         "2013-01-01",
         "H",
         "H04",
         "H04W",
         "H04W56/0045",
         "inventional",
         "2018-06-26",
         "Matched (3)",
         "0.0",
         "H",
         "H04",
         "H04W",
         "H04W56/0045",
         "inventional",
         "Matched (3)",
         "Technology for an eNodeB operable to maintain timing advance groups (TAGs) is disclosed. The eNodeB can form a timing advance group (TAG) for one or more serving cells. The eNodeB can map each of the one or more serving cells to the TAG using signaling from the eNodeB. The eNodeB can assign a timing advance group identifier (TAG ID) to the one or more serving cells mapped to the TAG.",
         "Intel Corporation",
         null,
         null,
         "0.0",
         "Matched (3)",
         "INTEL CORPORATION",
         null,
         null,
         "Matched (3)",
         null,
         null,
         "INTEL CORPORATION",
         "Master only (1)"
        ],
        [
         "15",
         "10009864",
         "10111122",
         "862",
         "0.0",
         "5.6817933170642805",
         "0.1513671875",
         "0.1513671875",
         "19",
         "0",
         "0",
         "APPL",
         "Off deal",
         "2019-11-30",
         "2019",
         null,
         "10009864",
         "1",
         null,
         "2018-06-26",
         "utility",
         "2018-06-26",
         "Forming carrier aggregation timing advance groups in a heterogeneous network",
         "B2",
         "20",
         "0",
         "ipg180626.xml",
         "2013-01-01",
         "H",
         "H04",
         "H04W",
         "H04W56/0045",
         "inventional",
         "2018-06-26",
         "Matched (3)",
         "0.0",
         "H",
         "H04",
         "H04W",
         "H04W56/0045",
         "inventional",
         "Matched (3)",
         "Technology for an eNodeB operable to maintain timing advance groups (TAGs) is disclosed. The eNodeB can form a timing advance group (TAG) for one or more serving cells. The eNodeB can map each of the one or more serving cells to the TAG using signaling from the eNodeB. The eNodeB can assign a timing advance group identifier (TAG ID) to the one or more serving cells mapped to the TAG.",
         "Intel Corporation",
         null,
         null,
         "0.0",
         "Matched (3)",
         "INTEL CORPORATION",
         null,
         null,
         "Matched (3)",
         null,
         null,
         "INTEL CORPORATION",
         "Master only (1)"
        ],
        [
         "16",
         "10009864",
         "10111122",
         "862",
         "0.0",
         "5.6817933170642805",
         "0.1513671875",
         "0.1513671875",
         "2",
         "1",
         "0",
         "APPL",
         "Off deal",
         "2019-11-30",
         "2019",
         null,
         "10009864",
         "1",
         null,
         "2018-06-26",
         "utility",
         "2018-06-26",
         "Forming carrier aggregation timing advance groups in a heterogeneous network",
         "B2",
         "20",
         "0",
         "ipg180626.xml",
         "2013-01-01",
         "H",
         "H04",
         "H04W",
         "H04W56/0045",
         "inventional",
         "2018-06-26",
         "Matched (3)",
         "0.0",
         "H",
         "H04",
         "H04W",
         "H04W56/0045",
         "inventional",
         "Matched (3)",
         "Technology for an eNodeB operable to maintain timing advance groups (TAGs) is disclosed. The eNodeB can form a timing advance group (TAG) for one or more serving cells. The eNodeB can map each of the one or more serving cells to the TAG using signaling from the eNodeB. The eNodeB can assign a timing advance group identifier (TAG ID) to the one or more serving cells mapped to the TAG.",
         "Intel Corporation",
         null,
         null,
         "0.0",
         "Matched (3)",
         "INTEL CORPORATION",
         null,
         null,
         "Matched (3)",
         null,
         null,
         "INTEL CORPORATION",
         "Master only (1)"
        ],
        [
         "17",
         "10009864",
         "10111122",
         "862",
         "0.0",
         "5.6817933170642805",
         "0.1513671875",
         "0.1513671875",
         "20",
         "0",
         "0",
         "APPL",
         "Off deal",
         "2019-11-30",
         "2019",
         null,
         "10009864",
         "1",
         null,
         "2018-06-26",
         "utility",
         "2018-06-26",
         "Forming carrier aggregation timing advance groups in a heterogeneous network",
         "B2",
         "20",
         "0",
         "ipg180626.xml",
         "2013-01-01",
         "H",
         "H04",
         "H04W",
         "H04W56/0045",
         "inventional",
         "2018-06-26",
         "Matched (3)",
         "0.0",
         "H",
         "H04",
         "H04W",
         "H04W56/0045",
         "inventional",
         "Matched (3)",
         "Technology for an eNodeB operable to maintain timing advance groups (TAGs) is disclosed. The eNodeB can form a timing advance group (TAG) for one or more serving cells. The eNodeB can map each of the one or more serving cells to the TAG using signaling from the eNodeB. The eNodeB can assign a timing advance group identifier (TAG ID) to the one or more serving cells mapped to the TAG.",
         "Intel Corporation",
         null,
         null,
         "0.0",
         "Matched (3)",
         "INTEL CORPORATION",
         null,
         null,
         "Matched (3)",
         null,
         null,
         "INTEL CORPORATION",
         "Master only (1)"
        ],
        [
         "18",
         "10009864",
         "10111122",
         "862",
         "0.0",
         "5.6817933170642805",
         "0.1513671875",
         "0.1513671875",
         "3",
         "2",
         "0",
         "APPL",
         "Off deal",
         "2019-11-30",
         "2019",
         null,
         "10009864",
         "1",
         null,
         "2018-06-26",
         "utility",
         "2018-06-26",
         "Forming carrier aggregation timing advance groups in a heterogeneous network",
         "B2",
         "20",
         "0",
         "ipg180626.xml",
         "2013-01-01",
         "H",
         "H04",
         "H04W",
         "H04W56/0045",
         "inventional",
         "2018-06-26",
         "Matched (3)",
         "0.0",
         "H",
         "H04",
         "H04W",
         "H04W56/0045",
         "inventional",
         "Matched (3)",
         "Technology for an eNodeB operable to maintain timing advance groups (TAGs) is disclosed. The eNodeB can form a timing advance group (TAG) for one or more serving cells. The eNodeB can map each of the one or more serving cells to the TAG using signaling from the eNodeB. The eNodeB can assign a timing advance group identifier (TAG ID) to the one or more serving cells mapped to the TAG.",
         "Intel Corporation",
         null,
         null,
         "0.0",
         "Matched (3)",
         "INTEL CORPORATION",
         null,
         null,
         "Matched (3)",
         null,
         null,
         "INTEL CORPORATION",
         "Master only (1)"
        ],
        [
         "19",
         "10009864",
         "10111122",
         "862",
         "0.0",
         "5.6817933170642805",
         "0.1513671875",
         "0.1513671875",
         "4",
         "3",
         "0",
         "APPL",
         "Off deal",
         "2019-11-30",
         "2019",
         null,
         "10009864",
         "1",
         null,
         "2018-06-26",
         "utility",
         "2018-06-26",
         "Forming carrier aggregation timing advance groups in a heterogeneous network",
         "B2",
         "20",
         "0",
         "ipg180626.xml",
         "2013-01-01",
         "H",
         "H04",
         "H04W",
         "H04W56/0045",
         "inventional",
         "2018-06-26",
         "Matched (3)",
         "0.0",
         "H",
         "H04",
         "H04W",
         "H04W56/0045",
         "inventional",
         "Matched (3)",
         "Technology for an eNodeB operable to maintain timing advance groups (TAGs) is disclosed. The eNodeB can form a timing advance group (TAG) for one or more serving cells. The eNodeB can map each of the one or more serving cells to the TAG using signaling from the eNodeB. The eNodeB can assign a timing advance group identifier (TAG ID) to the one or more serving cells mapped to the TAG.",
         "Intel Corporation",
         null,
         null,
         "0.0",
         "Matched (3)",
         "INTEL CORPORATION",
         null,
         null,
         "Matched (3)",
         null,
         null,
         "INTEL CORPORATION",
         "Master only (1)"
        ]
       ],
       "shape": {
        "columns": 55,
        "rows": 20
       }
      },
      "text/html": [
       "<div>\n",
       "<style scoped>\n",
       "    .dataframe tbody tr th:only-of-type {\n",
       "        vertical-align: middle;\n",
       "    }\n",
       "\n",
       "    .dataframe tbody tr th {\n",
       "        vertical-align: top;\n",
       "    }\n",
       "\n",
       "    .dataframe thead th {\n",
       "        text-align: right;\n",
       "    }\n",
       "</style>\n",
       "<table border=\"1\" class=\"dataframe\">\n",
       "  <thead>\n",
       "    <tr style=\"text-align: right;\">\n",
       "      <th></th>\n",
       "      <th>treated_id</th>\n",
       "      <th>control_id</th>\n",
       "      <th>match_id</th>\n",
       "      <th>lambda</th>\n",
       "      <th>mahalanobis_distance</th>\n",
       "      <th>cosine_distance</th>\n",
       "      <th>hybrid_distance</th>\n",
       "      <th>quarter</th>\n",
       "      <th>citations_treated</th>\n",
       "      <th>citations_control</th>\n",
       "      <th>...</th>\n",
       "      <th>has_multiple_assignees_disamb</th>\n",
       "      <th>merge_assignee_disamb</th>\n",
       "      <th>assignee0_notdisamb</th>\n",
       "      <th>assignee1_notdisamb</th>\n",
       "      <th>assignee2_notdisamb</th>\n",
       "      <th>merge_assignee_notdisamb</th>\n",
       "      <th>resold_date</th>\n",
       "      <th>modnote</th>\n",
       "      <th>assignor</th>\n",
       "      <th>_merge</th>\n",
       "    </tr>\n",
       "  </thead>\n",
       "  <tbody>\n",
       "    <tr>\n",
       "      <th>0</th>\n",
       "      <td>10009864</td>\n",
       "      <td>10111122</td>\n",
       "      <td>862</td>\n",
       "      <td>0.0</td>\n",
       "      <td>5.681793</td>\n",
       "      <td>0.151367</td>\n",
       "      <td>0.151367</td>\n",
       "      <td>-1</td>\n",
       "      <td>3</td>\n",
       "      <td>0</td>\n",
       "      <td>...</td>\n",
       "      <td>0.0</td>\n",
       "      <td>Matched (3)</td>\n",
       "      <td>INTEL CORPORATION</td>\n",
       "      <td>NaN</td>\n",
       "      <td>NaN</td>\n",
       "      <td>Matched (3)</td>\n",
       "      <td>NaN</td>\n",
       "      <td>NaN</td>\n",
       "      <td>INTEL CORPORATION</td>\n",
       "      <td>Master only (1)</td>\n",
       "    </tr>\n",
       "    <tr>\n",
       "      <th>1</th>\n",
       "      <td>10009864</td>\n",
       "      <td>10111122</td>\n",
       "      <td>862</td>\n",
       "      <td>0.0</td>\n",
       "      <td>5.681793</td>\n",
       "      <td>0.151367</td>\n",
       "      <td>0.151367</td>\n",
       "      <td>-2</td>\n",
       "      <td>0</td>\n",
       "      <td>0</td>\n",
       "      <td>...</td>\n",
       "      <td>0.0</td>\n",
       "      <td>Matched (3)</td>\n",
       "      <td>INTEL CORPORATION</td>\n",
       "      <td>NaN</td>\n",
       "      <td>NaN</td>\n",
       "      <td>Matched (3)</td>\n",
       "      <td>NaN</td>\n",
       "      <td>NaN</td>\n",
       "      <td>INTEL CORPORATION</td>\n",
       "      <td>Master only (1)</td>\n",
       "    </tr>\n",
       "    <tr>\n",
       "      <th>2</th>\n",
       "      <td>10009864</td>\n",
       "      <td>10111122</td>\n",
       "      <td>862</td>\n",
       "      <td>0.0</td>\n",
       "      <td>5.681793</td>\n",
       "      <td>0.151367</td>\n",
       "      <td>0.151367</td>\n",
       "      <td>-3</td>\n",
       "      <td>1</td>\n",
       "      <td>0</td>\n",
       "      <td>...</td>\n",
       "      <td>0.0</td>\n",
       "      <td>Matched (3)</td>\n",
       "      <td>INTEL CORPORATION</td>\n",
       "      <td>NaN</td>\n",
       "      <td>NaN</td>\n",
       "      <td>Matched (3)</td>\n",
       "      <td>NaN</td>\n",
       "      <td>NaN</td>\n",
       "      <td>INTEL CORPORATION</td>\n",
       "      <td>Master only (1)</td>\n",
       "    </tr>\n",
       "    <tr>\n",
       "      <th>3</th>\n",
       "      <td>10009864</td>\n",
       "      <td>10111122</td>\n",
       "      <td>862</td>\n",
       "      <td>0.0</td>\n",
       "      <td>5.681793</td>\n",
       "      <td>0.151367</td>\n",
       "      <td>0.151367</td>\n",
       "      <td>-4</td>\n",
       "      <td>1</td>\n",
       "      <td>0</td>\n",
       "      <td>...</td>\n",
       "      <td>0.0</td>\n",
       "      <td>Matched (3)</td>\n",
       "      <td>INTEL CORPORATION</td>\n",
       "      <td>NaN</td>\n",
       "      <td>NaN</td>\n",
       "      <td>Matched (3)</td>\n",
       "      <td>NaN</td>\n",
       "      <td>NaN</td>\n",
       "      <td>INTEL CORPORATION</td>\n",
       "      <td>Master only (1)</td>\n",
       "    </tr>\n",
       "    <tr>\n",
       "      <th>4</th>\n",
       "      <td>10009864</td>\n",
       "      <td>10111122</td>\n",
       "      <td>862</td>\n",
       "      <td>0.0</td>\n",
       "      <td>5.681793</td>\n",
       "      <td>0.151367</td>\n",
       "      <td>0.151367</td>\n",
       "      <td>0</td>\n",
       "      <td>4</td>\n",
       "      <td>0</td>\n",
       "      <td>...</td>\n",
       "      <td>0.0</td>\n",
       "      <td>Matched (3)</td>\n",
       "      <td>INTEL CORPORATION</td>\n",
       "      <td>NaN</td>\n",
       "      <td>NaN</td>\n",
       "      <td>Matched (3)</td>\n",
       "      <td>NaN</td>\n",
       "      <td>NaN</td>\n",
       "      <td>INTEL CORPORATION</td>\n",
       "      <td>Master only (1)</td>\n",
       "    </tr>\n",
       "    <tr>\n",
       "      <th>5</th>\n",
       "      <td>10009864</td>\n",
       "      <td>10111122</td>\n",
       "      <td>862</td>\n",
       "      <td>0.0</td>\n",
       "      <td>5.681793</td>\n",
       "      <td>0.151367</td>\n",
       "      <td>0.151367</td>\n",
       "      <td>1</td>\n",
       "      <td>2</td>\n",
       "      <td>0</td>\n",
       "      <td>...</td>\n",
       "      <td>0.0</td>\n",
       "      <td>Matched (3)</td>\n",
       "      <td>INTEL CORPORATION</td>\n",
       "      <td>NaN</td>\n",
       "      <td>NaN</td>\n",
       "      <td>Matched (3)</td>\n",
       "      <td>NaN</td>\n",
       "      <td>NaN</td>\n",
       "      <td>INTEL CORPORATION</td>\n",
       "      <td>Master only (1)</td>\n",
       "    </tr>\n",
       "    <tr>\n",
       "      <th>6</th>\n",
       "      <td>10009864</td>\n",
       "      <td>10111122</td>\n",
       "      <td>862</td>\n",
       "      <td>0.0</td>\n",
       "      <td>5.681793</td>\n",
       "      <td>0.151367</td>\n",
       "      <td>0.151367</td>\n",
       "      <td>10</td>\n",
       "      <td>2</td>\n",
       "      <td>0</td>\n",
       "      <td>...</td>\n",
       "      <td>0.0</td>\n",
       "      <td>Matched (3)</td>\n",
       "      <td>INTEL CORPORATION</td>\n",
       "      <td>NaN</td>\n",
       "      <td>NaN</td>\n",
       "      <td>Matched (3)</td>\n",
       "      <td>NaN</td>\n",
       "      <td>NaN</td>\n",
       "      <td>INTEL CORPORATION</td>\n",
       "      <td>Master only (1)</td>\n",
       "    </tr>\n",
       "    <tr>\n",
       "      <th>7</th>\n",
       "      <td>10009864</td>\n",
       "      <td>10111122</td>\n",
       "      <td>862</td>\n",
       "      <td>0.0</td>\n",
       "      <td>5.681793</td>\n",
       "      <td>0.151367</td>\n",
       "      <td>0.151367</td>\n",
       "      <td>11</td>\n",
       "      <td>0</td>\n",
       "      <td>0</td>\n",
       "      <td>...</td>\n",
       "      <td>0.0</td>\n",
       "      <td>Matched (3)</td>\n",
       "      <td>INTEL CORPORATION</td>\n",
       "      <td>NaN</td>\n",
       "      <td>NaN</td>\n",
       "      <td>Matched (3)</td>\n",
       "      <td>NaN</td>\n",
       "      <td>NaN</td>\n",
       "      <td>INTEL CORPORATION</td>\n",
       "      <td>Master only (1)</td>\n",
       "    </tr>\n",
       "    <tr>\n",
       "      <th>8</th>\n",
       "      <td>10009864</td>\n",
       "      <td>10111122</td>\n",
       "      <td>862</td>\n",
       "      <td>0.0</td>\n",
       "      <td>5.681793</td>\n",
       "      <td>0.151367</td>\n",
       "      <td>0.151367</td>\n",
       "      <td>12</td>\n",
       "      <td>2</td>\n",
       "      <td>0</td>\n",
       "      <td>...</td>\n",
       "      <td>0.0</td>\n",
       "      <td>Matched (3)</td>\n",
       "      <td>INTEL CORPORATION</td>\n",
       "      <td>NaN</td>\n",
       "      <td>NaN</td>\n",
       "      <td>Matched (3)</td>\n",
       "      <td>NaN</td>\n",
       "      <td>NaN</td>\n",
       "      <td>INTEL CORPORATION</td>\n",
       "      <td>Master only (1)</td>\n",
       "    </tr>\n",
       "    <tr>\n",
       "      <th>9</th>\n",
       "      <td>10009864</td>\n",
       "      <td>10111122</td>\n",
       "      <td>862</td>\n",
       "      <td>0.0</td>\n",
       "      <td>5.681793</td>\n",
       "      <td>0.151367</td>\n",
       "      <td>0.151367</td>\n",
       "      <td>13</td>\n",
       "      <td>0</td>\n",
       "      <td>0</td>\n",
       "      <td>...</td>\n",
       "      <td>0.0</td>\n",
       "      <td>Matched (3)</td>\n",
       "      <td>INTEL CORPORATION</td>\n",
       "      <td>NaN</td>\n",
       "      <td>NaN</td>\n",
       "      <td>Matched (3)</td>\n",
       "      <td>NaN</td>\n",
       "      <td>NaN</td>\n",
       "      <td>INTEL CORPORATION</td>\n",
       "      <td>Master only (1)</td>\n",
       "    </tr>\n",
       "    <tr>\n",
       "      <th>10</th>\n",
       "      <td>10009864</td>\n",
       "      <td>10111122</td>\n",
       "      <td>862</td>\n",
       "      <td>0.0</td>\n",
       "      <td>5.681793</td>\n",
       "      <td>0.151367</td>\n",
       "      <td>0.151367</td>\n",
       "      <td>14</td>\n",
       "      <td>0</td>\n",
       "      <td>0</td>\n",
       "      <td>...</td>\n",
       "      <td>0.0</td>\n",
       "      <td>Matched (3)</td>\n",
       "      <td>INTEL CORPORATION</td>\n",
       "      <td>NaN</td>\n",
       "      <td>NaN</td>\n",
       "      <td>Matched (3)</td>\n",
       "      <td>NaN</td>\n",
       "      <td>NaN</td>\n",
       "      <td>INTEL CORPORATION</td>\n",
       "      <td>Master only (1)</td>\n",
       "    </tr>\n",
       "    <tr>\n",
       "      <th>11</th>\n",
       "      <td>10009864</td>\n",
       "      <td>10111122</td>\n",
       "      <td>862</td>\n",
       "      <td>0.0</td>\n",
       "      <td>5.681793</td>\n",
       "      <td>0.151367</td>\n",
       "      <td>0.151367</td>\n",
       "      <td>15</td>\n",
       "      <td>3</td>\n",
       "      <td>0</td>\n",
       "      <td>...</td>\n",
       "      <td>0.0</td>\n",
       "      <td>Matched (3)</td>\n",
       "      <td>INTEL CORPORATION</td>\n",
       "      <td>NaN</td>\n",
       "      <td>NaN</td>\n",
       "      <td>Matched (3)</td>\n",
       "      <td>NaN</td>\n",
       "      <td>NaN</td>\n",
       "      <td>INTEL CORPORATION</td>\n",
       "      <td>Master only (1)</td>\n",
       "    </tr>\n",
       "    <tr>\n",
       "      <th>12</th>\n",
       "      <td>10009864</td>\n",
       "      <td>10111122</td>\n",
       "      <td>862</td>\n",
       "      <td>0.0</td>\n",
       "      <td>5.681793</td>\n",
       "      <td>0.151367</td>\n",
       "      <td>0.151367</td>\n",
       "      <td>16</td>\n",
       "      <td>1</td>\n",
       "      <td>0</td>\n",
       "      <td>...</td>\n",
       "      <td>0.0</td>\n",
       "      <td>Matched (3)</td>\n",
       "      <td>INTEL CORPORATION</td>\n",
       "      <td>NaN</td>\n",
       "      <td>NaN</td>\n",
       "      <td>Matched (3)</td>\n",
       "      <td>NaN</td>\n",
       "      <td>NaN</td>\n",
       "      <td>INTEL CORPORATION</td>\n",
       "      <td>Master only (1)</td>\n",
       "    </tr>\n",
       "    <tr>\n",
       "      <th>13</th>\n",
       "      <td>10009864</td>\n",
       "      <td>10111122</td>\n",
       "      <td>862</td>\n",
       "      <td>0.0</td>\n",
       "      <td>5.681793</td>\n",
       "      <td>0.151367</td>\n",
       "      <td>0.151367</td>\n",
       "      <td>17</td>\n",
       "      <td>0</td>\n",
       "      <td>0</td>\n",
       "      <td>...</td>\n",
       "      <td>0.0</td>\n",
       "      <td>Matched (3)</td>\n",
       "      <td>INTEL CORPORATION</td>\n",
       "      <td>NaN</td>\n",
       "      <td>NaN</td>\n",
       "      <td>Matched (3)</td>\n",
       "      <td>NaN</td>\n",
       "      <td>NaN</td>\n",
       "      <td>INTEL CORPORATION</td>\n",
       "      <td>Master only (1)</td>\n",
       "    </tr>\n",
       "    <tr>\n",
       "      <th>14</th>\n",
       "      <td>10009864</td>\n",
       "      <td>10111122</td>\n",
       "      <td>862</td>\n",
       "      <td>0.0</td>\n",
       "      <td>5.681793</td>\n",
       "      <td>0.151367</td>\n",
       "      <td>0.151367</td>\n",
       "      <td>18</td>\n",
       "      <td>0</td>\n",
       "      <td>0</td>\n",
       "      <td>...</td>\n",
       "      <td>0.0</td>\n",
       "      <td>Matched (3)</td>\n",
       "      <td>INTEL CORPORATION</td>\n",
       "      <td>NaN</td>\n",
       "      <td>NaN</td>\n",
       "      <td>Matched (3)</td>\n",
       "      <td>NaN</td>\n",
       "      <td>NaN</td>\n",
       "      <td>INTEL CORPORATION</td>\n",
       "      <td>Master only (1)</td>\n",
       "    </tr>\n",
       "    <tr>\n",
       "      <th>15</th>\n",
       "      <td>10009864</td>\n",
       "      <td>10111122</td>\n",
       "      <td>862</td>\n",
       "      <td>0.0</td>\n",
       "      <td>5.681793</td>\n",
       "      <td>0.151367</td>\n",
       "      <td>0.151367</td>\n",
       "      <td>19</td>\n",
       "      <td>0</td>\n",
       "      <td>0</td>\n",
       "      <td>...</td>\n",
       "      <td>0.0</td>\n",
       "      <td>Matched (3)</td>\n",
       "      <td>INTEL CORPORATION</td>\n",
       "      <td>NaN</td>\n",
       "      <td>NaN</td>\n",
       "      <td>Matched (3)</td>\n",
       "      <td>NaN</td>\n",
       "      <td>NaN</td>\n",
       "      <td>INTEL CORPORATION</td>\n",
       "      <td>Master only (1)</td>\n",
       "    </tr>\n",
       "    <tr>\n",
       "      <th>16</th>\n",
       "      <td>10009864</td>\n",
       "      <td>10111122</td>\n",
       "      <td>862</td>\n",
       "      <td>0.0</td>\n",
       "      <td>5.681793</td>\n",
       "      <td>0.151367</td>\n",
       "      <td>0.151367</td>\n",
       "      <td>2</td>\n",
       "      <td>1</td>\n",
       "      <td>0</td>\n",
       "      <td>...</td>\n",
       "      <td>0.0</td>\n",
       "      <td>Matched (3)</td>\n",
       "      <td>INTEL CORPORATION</td>\n",
       "      <td>NaN</td>\n",
       "      <td>NaN</td>\n",
       "      <td>Matched (3)</td>\n",
       "      <td>NaN</td>\n",
       "      <td>NaN</td>\n",
       "      <td>INTEL CORPORATION</td>\n",
       "      <td>Master only (1)</td>\n",
       "    </tr>\n",
       "    <tr>\n",
       "      <th>17</th>\n",
       "      <td>10009864</td>\n",
       "      <td>10111122</td>\n",
       "      <td>862</td>\n",
       "      <td>0.0</td>\n",
       "      <td>5.681793</td>\n",
       "      <td>0.151367</td>\n",
       "      <td>0.151367</td>\n",
       "      <td>20</td>\n",
       "      <td>0</td>\n",
       "      <td>0</td>\n",
       "      <td>...</td>\n",
       "      <td>0.0</td>\n",
       "      <td>Matched (3)</td>\n",
       "      <td>INTEL CORPORATION</td>\n",
       "      <td>NaN</td>\n",
       "      <td>NaN</td>\n",
       "      <td>Matched (3)</td>\n",
       "      <td>NaN</td>\n",
       "      <td>NaN</td>\n",
       "      <td>INTEL CORPORATION</td>\n",
       "      <td>Master only (1)</td>\n",
       "    </tr>\n",
       "    <tr>\n",
       "      <th>18</th>\n",
       "      <td>10009864</td>\n",
       "      <td>10111122</td>\n",
       "      <td>862</td>\n",
       "      <td>0.0</td>\n",
       "      <td>5.681793</td>\n",
       "      <td>0.151367</td>\n",
       "      <td>0.151367</td>\n",
       "      <td>3</td>\n",
       "      <td>2</td>\n",
       "      <td>0</td>\n",
       "      <td>...</td>\n",
       "      <td>0.0</td>\n",
       "      <td>Matched (3)</td>\n",
       "      <td>INTEL CORPORATION</td>\n",
       "      <td>NaN</td>\n",
       "      <td>NaN</td>\n",
       "      <td>Matched (3)</td>\n",
       "      <td>NaN</td>\n",
       "      <td>NaN</td>\n",
       "      <td>INTEL CORPORATION</td>\n",
       "      <td>Master only (1)</td>\n",
       "    </tr>\n",
       "    <tr>\n",
       "      <th>19</th>\n",
       "      <td>10009864</td>\n",
       "      <td>10111122</td>\n",
       "      <td>862</td>\n",
       "      <td>0.0</td>\n",
       "      <td>5.681793</td>\n",
       "      <td>0.151367</td>\n",
       "      <td>0.151367</td>\n",
       "      <td>4</td>\n",
       "      <td>3</td>\n",
       "      <td>0</td>\n",
       "      <td>...</td>\n",
       "      <td>0.0</td>\n",
       "      <td>Matched (3)</td>\n",
       "      <td>INTEL CORPORATION</td>\n",
       "      <td>NaN</td>\n",
       "      <td>NaN</td>\n",
       "      <td>Matched (3)</td>\n",
       "      <td>NaN</td>\n",
       "      <td>NaN</td>\n",
       "      <td>INTEL CORPORATION</td>\n",
       "      <td>Master only (1)</td>\n",
       "    </tr>\n",
       "  </tbody>\n",
       "</table>\n",
       "<p>20 rows × 55 columns</p>\n",
       "</div>"
      ],
      "text/plain": [
       "    treated_id  control_id  match_id  lambda  mahalanobis_distance  \\\n",
       "0     10009864    10111122       862     0.0              5.681793   \n",
       "1     10009864    10111122       862     0.0              5.681793   \n",
       "2     10009864    10111122       862     0.0              5.681793   \n",
       "3     10009864    10111122       862     0.0              5.681793   \n",
       "4     10009864    10111122       862     0.0              5.681793   \n",
       "5     10009864    10111122       862     0.0              5.681793   \n",
       "6     10009864    10111122       862     0.0              5.681793   \n",
       "7     10009864    10111122       862     0.0              5.681793   \n",
       "8     10009864    10111122       862     0.0              5.681793   \n",
       "9     10009864    10111122       862     0.0              5.681793   \n",
       "10    10009864    10111122       862     0.0              5.681793   \n",
       "11    10009864    10111122       862     0.0              5.681793   \n",
       "12    10009864    10111122       862     0.0              5.681793   \n",
       "13    10009864    10111122       862     0.0              5.681793   \n",
       "14    10009864    10111122       862     0.0              5.681793   \n",
       "15    10009864    10111122       862     0.0              5.681793   \n",
       "16    10009864    10111122       862     0.0              5.681793   \n",
       "17    10009864    10111122       862     0.0              5.681793   \n",
       "18    10009864    10111122       862     0.0              5.681793   \n",
       "19    10009864    10111122       862     0.0              5.681793   \n",
       "\n",
       "    cosine_distance  hybrid_distance  quarter  citations_treated  \\\n",
       "0          0.151367         0.151367       -1                  3   \n",
       "1          0.151367         0.151367       -2                  0   \n",
       "2          0.151367         0.151367       -3                  1   \n",
       "3          0.151367         0.151367       -4                  1   \n",
       "4          0.151367         0.151367        0                  4   \n",
       "5          0.151367         0.151367        1                  2   \n",
       "6          0.151367         0.151367       10                  2   \n",
       "7          0.151367         0.151367       11                  0   \n",
       "8          0.151367         0.151367       12                  2   \n",
       "9          0.151367         0.151367       13                  0   \n",
       "10         0.151367         0.151367       14                  0   \n",
       "11         0.151367         0.151367       15                  3   \n",
       "12         0.151367         0.151367       16                  1   \n",
       "13         0.151367         0.151367       17                  0   \n",
       "14         0.151367         0.151367       18                  0   \n",
       "15         0.151367         0.151367       19                  0   \n",
       "16         0.151367         0.151367        2                  1   \n",
       "17         0.151367         0.151367       20                  0   \n",
       "18         0.151367         0.151367        3                  2   \n",
       "19         0.151367         0.151367        4                  3   \n",
       "\n",
       "    citations_control  ... has_multiple_assignees_disamb  \\\n",
       "0                   0  ...                           0.0   \n",
       "1                   0  ...                           0.0   \n",
       "2                   0  ...                           0.0   \n",
       "3                   0  ...                           0.0   \n",
       "4                   0  ...                           0.0   \n",
       "5                   0  ...                           0.0   \n",
       "6                   0  ...                           0.0   \n",
       "7                   0  ...                           0.0   \n",
       "8                   0  ...                           0.0   \n",
       "9                   0  ...                           0.0   \n",
       "10                  0  ...                           0.0   \n",
       "11                  0  ...                           0.0   \n",
       "12                  0  ...                           0.0   \n",
       "13                  0  ...                           0.0   \n",
       "14                  0  ...                           0.0   \n",
       "15                  0  ...                           0.0   \n",
       "16                  0  ...                           0.0   \n",
       "17                  0  ...                           0.0   \n",
       "18                  0  ...                           0.0   \n",
       "19                  0  ...                           0.0   \n",
       "\n",
       "   merge_assignee_disamb assignee0_notdisamb  assignee1_notdisamb  \\\n",
       "0            Matched (3)   INTEL CORPORATION                  NaN   \n",
       "1            Matched (3)   INTEL CORPORATION                  NaN   \n",
       "2            Matched (3)   INTEL CORPORATION                  NaN   \n",
       "3            Matched (3)   INTEL CORPORATION                  NaN   \n",
       "4            Matched (3)   INTEL CORPORATION                  NaN   \n",
       "5            Matched (3)   INTEL CORPORATION                  NaN   \n",
       "6            Matched (3)   INTEL CORPORATION                  NaN   \n",
       "7            Matched (3)   INTEL CORPORATION                  NaN   \n",
       "8            Matched (3)   INTEL CORPORATION                  NaN   \n",
       "9            Matched (3)   INTEL CORPORATION                  NaN   \n",
       "10           Matched (3)   INTEL CORPORATION                  NaN   \n",
       "11           Matched (3)   INTEL CORPORATION                  NaN   \n",
       "12           Matched (3)   INTEL CORPORATION                  NaN   \n",
       "13           Matched (3)   INTEL CORPORATION                  NaN   \n",
       "14           Matched (3)   INTEL CORPORATION                  NaN   \n",
       "15           Matched (3)   INTEL CORPORATION                  NaN   \n",
       "16           Matched (3)   INTEL CORPORATION                  NaN   \n",
       "17           Matched (3)   INTEL CORPORATION                  NaN   \n",
       "18           Matched (3)   INTEL CORPORATION                  NaN   \n",
       "19           Matched (3)   INTEL CORPORATION                  NaN   \n",
       "\n",
       "    assignee2_notdisamb  merge_assignee_notdisamb  resold_date  modnote  \\\n",
       "0                   NaN               Matched (3)          NaN      NaN   \n",
       "1                   NaN               Matched (3)          NaN      NaN   \n",
       "2                   NaN               Matched (3)          NaN      NaN   \n",
       "3                   NaN               Matched (3)          NaN      NaN   \n",
       "4                   NaN               Matched (3)          NaN      NaN   \n",
       "5                   NaN               Matched (3)          NaN      NaN   \n",
       "6                   NaN               Matched (3)          NaN      NaN   \n",
       "7                   NaN               Matched (3)          NaN      NaN   \n",
       "8                   NaN               Matched (3)          NaN      NaN   \n",
       "9                   NaN               Matched (3)          NaN      NaN   \n",
       "10                  NaN               Matched (3)          NaN      NaN   \n",
       "11                  NaN               Matched (3)          NaN      NaN   \n",
       "12                  NaN               Matched (3)          NaN      NaN   \n",
       "13                  NaN               Matched (3)          NaN      NaN   \n",
       "14                  NaN               Matched (3)          NaN      NaN   \n",
       "15                  NaN               Matched (3)          NaN      NaN   \n",
       "16                  NaN               Matched (3)          NaN      NaN   \n",
       "17                  NaN               Matched (3)          NaN      NaN   \n",
       "18                  NaN               Matched (3)          NaN      NaN   \n",
       "19                  NaN               Matched (3)          NaN      NaN   \n",
       "\n",
       "             assignor           _merge  \n",
       "0   INTEL CORPORATION  Master only (1)  \n",
       "1   INTEL CORPORATION  Master only (1)  \n",
       "2   INTEL CORPORATION  Master only (1)  \n",
       "3   INTEL CORPORATION  Master only (1)  \n",
       "4   INTEL CORPORATION  Master only (1)  \n",
       "5   INTEL CORPORATION  Master only (1)  \n",
       "6   INTEL CORPORATION  Master only (1)  \n",
       "7   INTEL CORPORATION  Master only (1)  \n",
       "8   INTEL CORPORATION  Master only (1)  \n",
       "9   INTEL CORPORATION  Master only (1)  \n",
       "10  INTEL CORPORATION  Master only (1)  \n",
       "11  INTEL CORPORATION  Master only (1)  \n",
       "12  INTEL CORPORATION  Master only (1)  \n",
       "13  INTEL CORPORATION  Master only (1)  \n",
       "14  INTEL CORPORATION  Master only (1)  \n",
       "15  INTEL CORPORATION  Master only (1)  \n",
       "16  INTEL CORPORATION  Master only (1)  \n",
       "17  INTEL CORPORATION  Master only (1)  \n",
       "18  INTEL CORPORATION  Master only (1)  \n",
       "19  INTEL CORPORATION  Master only (1)  \n",
       "\n",
       "[20 rows x 55 columns]"
      ]
     },
     "execution_count": 48,
     "metadata": {},
     "output_type": "execute_result"
    }
   ],
   "source": [
    "import pandas as pd\n",
    "import numpy as np\n",
    "\n",
    "df = pd.read_csv(r\"C:\\Users\\amusali\\Desktop\\uc3m PhD\\05 Analysis\\01 Main\\03 Python scripts\\03 Estimation\\02 Top Tech\\02 Off deal\\raw\\10 Sample - top tech, OD, filing date.csv\")\n",
    "\n",
    "df.head(20)"
   ]
  },
  {
   "cell_type": "markdown",
   "metadata": {},
   "source": [
    "# Run multiperiod DiD by lambda "
   ]
  },
  {
   "cell_type": "markdown",
   "metadata": {},
   "source": [
    "## Functions"
   ]
  },
  {
   "cell_type": "code",
   "execution_count": 63,
   "metadata": {},
   "outputs": [],
   "source": [
    "import pandas as pd\n",
    "import os\n",
    "import numpy as np\n",
    "import matplotlib.pyplot as plt\n",
    "import seaborn as sns\n",
    "from tqdm.auto import tqdm\n",
    "from scipy.stats import ks_2samp\n",
    "\n",
    "def compute_individual_TE(df,\n",
    "                          outcome_treated='citations_treated',\n",
    "                          outcome_control='citations_control',\n",
    "                          index_cols=['lambda', 'match_id'],\n",
    "                          quarter_col='quarter',\n",
    "                          baseline=-1,\n",
    "                          max_period=16):\n",
    "    \"\"\"\n",
    "    Computes individual treatment effects (TE) for each match.\n",
    "    \n",
    "    TE(t) = [treated(t) - treated(baseline)] - [control(t) - control(baseline)]\n",
    "    \n",
    "    Only includes matches that have non-missing outcomes for every quarter from \n",
    "    the baseline to max_period.\n",
    "    \n",
    "    Parameters:\n",
    "      - df: DataFrame in long format.\n",
    "      - outcome_treated: Column name for the treated outcome.\n",
    "      - outcome_control: Column name for the control outcome.\n",
    "      - index_cols: List of columns that uniquely identify a match (e.g., ['lambda', 'match_id']).\n",
    "      - quarter_col: Column name for the time period indicator.\n",
    "      - baseline: Baseline period (e.g., -1 or -2) used for normalization.\n",
    "      - max_period: Maximum period (quarter) to include.\n",
    "    \n",
    "    Returns:\n",
    "      - TE: DataFrame with individual treatment effects. Its index is a MultiIndex (index_cols)\n",
    "            and its columns are the quarters used.\n",
    "      - wide: The wide-format DataFrame (pivoted) used for the computation.\n",
    "    \"\"\"\n",
    "    # Pivot to wide format: rows defined by index_cols, columns = quarter values.\n",
    "    wide = df.pivot_table(index=index_cols,\n",
    "                          columns=quarter_col,\n",
    "                          values=[outcome_treated, outcome_control])\n",
    "    wide = wide.sort_index(axis=1, level=1)\n",
    "    \n",
    "    # Determine required quarters: those between baseline and max_period.\n",
    "    available_quarters = sorted(wide[outcome_treated].columns)\n",
    "    required_quarters = [q for q in available_quarters if -4 <= q <= max_period]\n",
    "    \n",
    "    # Keep only matches that have non-missing outcomes for all required quarters.\n",
    "    mask_treated = wide[outcome_treated][required_quarters].notna().all(axis=1)\n",
    "    mask_control = wide[outcome_control][required_quarters].notna().all(axis=1)\n",
    "    wide = wide[mask_treated & mask_control]\n",
    "    sample_size = len(wide)\n",
    "    print(f\"Sample size: {sample_size} matches\")\n",
    "    \n",
    "    # Compute TE for each quarter:\n",
    "    # TE(t) = (treated(t) - treated(baseline)) - (control(t) - control(baseline))\n",
    "    TE = pd.DataFrame(index=wide.index, columns=required_quarters, dtype=float)\n",
    "    for t in required_quarters:\n",
    "        TE[t] = (wide[outcome_treated][t] - wide[outcome_treated][baseline]) - \\\n",
    "                (wide[outcome_control][t] - wide[outcome_control][baseline])\n",
    "    # Force TE(baseline) = 0.\n",
    "    TE[baseline] = 0\n",
    "    return TE, wide, sample_size\n",
    "\n",
    "\n",
    "\n",
    "def estimate_ATT_and_bootstrap(TE, index_col='lambda', n_boot=500, seed=42):\n",
    "    \"\"\"\n",
    "    Estimates the ATT by averaging individual TEs over match_ids and computes bootstrap SEs.\n",
    "    \n",
    "    Parameters:\n",
    "      - TE: DataFrame of individual treatment effects with a MultiIndex (e.g., ['lambda', 'match_id'])\n",
    "            and columns as quarters.\n",
    "      - index_col: The grouping variable (e.g., 'lambda') used to compute ATT.\n",
    "      - n_boot: Number of bootstrap replications.\n",
    "      - seed: Random seed for reproducibility.\n",
    "    \n",
    "    Returns:\n",
    "      - ATT_long: DataFrame in long format with ATT estimates and bootstrap SEs.\n",
    "      - boot_results: DataFrame containing bootstrap replications.\n",
    "    \"\"\"\n",
    "    np.random.seed(seed)\n",
    "    # Compute ATT by averaging TEs within each group (index_col).\n",
    "    ATT = TE.groupby(level=0).mean()  # rows: groups (e.g., lambda), columns: quarters\n",
    "    # Reshape to long format.\n",
    "    ATT_long = ATT.reset_index().melt(id_vars=index_col, var_name='quarter', value_name='ATT')\n",
    "    ATT_long['quarter'] = ATT_long['quarter'].astype(float)\n",
    "    \n",
    "    # Bootstrap SEs: resample match_ids (within each group) and compute mean TEs.\n",
    "    def bootstrap_ATT_inner(TE_df, n_boot, seed):\n",
    "        np.random.seed(seed)\n",
    "        boot_list = []\n",
    "        # Group by the grouping variable (e.g., lambda)\n",
    "        for group_val, group in tqdm(TE_df.groupby(level=0), desc=\"Bootstrapping groups\"):\n",
    "            match_ids = group.index.get_level_values(1).unique()\n",
    "            for i in tqdm(range(n_boot), desc=\"Bootstrap replications\", leave=False):\n",
    "                sampled_ids = np.random.choice(match_ids, size=len(match_ids), replace=True)\n",
    "                sample = group.loc[pd.IndexSlice[group_val, sampled_ids], :]\n",
    "                boot_est = sample.mean()  # average over matches for each quarter\n",
    "                boot_est[index_col] = group_val\n",
    "                boot_est['boot_iter'] = i\n",
    "                boot_list.append(boot_est)\n",
    "        boot_df = pd.DataFrame(boot_list)\n",
    "        return boot_df\n",
    "    \n",
    "    boot_results = bootstrap_ATT_inner(TE, n_boot=n_boot, seed=seed)\n",
    "    # For each lambda and quarter, compute the bootstrap SE.\n",
    "    boot_se = boot_results.groupby(index_col).agg(np.std).reset_index()\n",
    "    # Melt the bootstrap SEs into long format (ignoring non-quarter columns)\n",
    "    boot_se_long = boot_se.melt(id_vars=index_col, var_name='quarter', value_name='se')\n",
    "    boot_se_long = boot_se_long[boot_se_long['quarter'].apply(lambda x: isinstance(x, (int, float)))]\n",
    "    boot_se_long['quarter'] = boot_se_long['quarter'].astype(float)\n",
    "    \n",
    "    # Merge bootstrap SEs with ATT estimates.\n",
    "    ATT_long = ATT_long.merge(boot_se_long, on=[index_col, 'quarter'], how='left')\n",
    "    return ATT_long, boot_results\n",
    "\n",
    "\n",
    "def plot_ATT(ATT_long, baseline=-1, index_col='lambda', lambda_val=0,\n",
    "             title='Dynamic ATT (Normalized to Baseline)', figsize=(8,6)):\n",
    "    \"\"\"\n",
    "    Plots the dynamic ATT for a specified group with 95% confidence intervals.\n",
    "    \n",
    "    Parameters:\n",
    "      - ATT_long: DataFrame in long format with columns [index_col, 'quarter', 'ATT', 'se'].\n",
    "      - baseline: Baseline period used for normalization.\n",
    "      - index_col: Grouping variable (e.g., 'lambda').\n",
    "      - lambda_val: Specific value of the grouping variable to plot.\n",
    "      - title: Plot title.\n",
    "      - figsize: Figure size.\n",
    "    \"\"\"\n",
    "    # Round lambda values for accurate filtering\n",
    "    ATT_long[index_col] = ATT_long[index_col].round(2)\n",
    "    lambda_val = round(lambda_val, 2)\n",
    "    \n",
    "    # Filter and sort by quarter\n",
    "    plot_data = ATT_long[ATT_long[index_col] == lambda_val].sort_values('quarter')\n",
    "    \n",
    "    plt.figure(figsize=figsize)\n",
    "    plt.errorbar(plot_data['quarter'], plot_data['ATT'], \n",
    "                 yerr=1.96 * plot_data['se'],\n",
    "                 fmt='o-', capsize=5, label='ATT')\n",
    "    plt.axhline(0, color='gray', linestyle='--')\n",
    "    plt.axvline(x=baseline, color='black', linestyle='--', label=f'Baseline ({baseline})')\n",
    "    plt.xlabel('Quarter')\n",
    "    plt.ylabel('ATT (Dynamic Treatment Effect)')\n",
    "    plt.title(title)\n",
    "    # Set the x-axis limits so that the minimum quarter in your data appears on the axis.\n",
    "    plt.xlim(plot_data['quarter'].min()-0.5, plot_data['quarter'].max()+0.5)\n",
    "    plt.legend()\n",
    "    plt.show()\n",
    "\n",
    "\n",
    "\n",
    "def run_balance_tests(df_sub):\n",
    "    \"\"\"\n",
    "    Input: df for a given lambda\n",
    "\n",
    "    Returns: a list of all the results\n",
    "    \n",
    "    \"\"\"\n",
    "    # ---------------------------\n",
    "    # 1. Balance Tests for Pre-treatment Outcomes (quarters -4 to -1)\n",
    "    # ---------------------------\n",
    "    pre_range = [-4, -3, -2, -1]\n",
    "    df_pre = df_sub[df_sub['quarter'].isin(pre_range)]\n",
    "    \n",
    "    # Pivot pre-treatment data: each match_id is a row\n",
    "    pivot_pre = df_pre.pivot_table(index='match_id',\n",
    "                                   columns='quarter',\n",
    "                                   values=['citations_treated', 'citations_control'])\n",
    "    pivot_pre = pivot_pre.dropna()  # only include matches with complete pre data\n",
    "    \n",
    "    # Compute average pre-treatment outcomes per match for treated and control\n",
    "    avg_treated = pivot_pre['citations_treated'].mean(axis=1)\n",
    "    avg_control = pivot_pre['citations_control'].mean(axis=1)\n",
    "    \n",
    "    # Compute SMD: (mean_treated - mean_control) / pooled_sd\n",
    "    mean_treated = avg_treated.mean()\n",
    "    mean_control = avg_control.mean()\n",
    "    var_treated = avg_treated.var()\n",
    "    var_control = avg_control.var()\n",
    "    pooled_sd = np.sqrt((var_treated + var_control) / 2)\n",
    "    smd = (mean_treated - mean_control) / pooled_sd if pooled_sd > 0 else np.nan\n",
    "    \n",
    "    # KS test on the distributions of the average outcomes\n",
    "    ks_stat, ks_p = ks_2samp(avg_treated, avg_control)\n",
    "\n",
    "    return smd, ks_stat, ks_p\n",
    "\n",
    "\n",
    "\n",
    "def estimate_by_lambda(df, baseline, max_period = 20):\n",
    "    \n",
    "  # List to store subgroup (lambda group) results\n",
    "  all_results = []\n",
    "\n",
    "  # Get unique lambda values (rounded to 2 decimals)\n",
    "  unique_lambdas = df['lambda'].round(2).unique()\n",
    "  unique_lambdas = np.sort(unique_lambdas)\n",
    "\n",
    "\n",
    "  \n",
    "  for lam in tqdm(unique_lambdas, desc=\"Processing lambda groups\"):\n",
    "      # Filter data for the current lambda group\n",
    "      df_sub = df[df['lambda'].round(2) == lam].copy()\n",
    "\n",
    "      smd, ks_stat, ks_p = run_balance_tests(df_sub)\n",
    "\n",
    "      # ---------------------------\n",
    "      # 2. Dynamic ATT Estimation (with bootstrap SEs)\n",
    "      # ---------------------------\n",
    "      # Compute individual treatment effects (TEs) using the pre-defined function.\n",
    "      TE, wide_sub, sample_size = compute_individual_TE(df_sub,\n",
    "                                          outcome_treated='citations_treated',\n",
    "                                          outcome_control='citations_control',\n",
    "                                          index_cols=['lambda', 'match_id'],\n",
    "                                          quarter_col='quarter',\n",
    "                                          baseline=baseline,\n",
    "                                          max_period=max_period)\n",
    "      \n",
    "      # Estimate ATT and bootstrap SEs for this lambda group.\n",
    "      ATT_long, boot_results = estimate_ATT_and_bootstrap(TE, index_col='lambda', n_boot=500, seed=42)\n",
    "      \n",
    "      # Filter ATT_long to only include the current lambda group (redundant but safe)\n",
    "      ATT_long_sub = ATT_long[ATT_long['lambda'] == lam].copy()\n",
    "      \n",
    "      # ---------------------------\n",
    "      # 3. Append Subgroup Information\n",
    "      # ---------------------------\n",
    "      ATT_long_sub['sample_size'] = sample_size\n",
    "      ATT_long_sub['smd'] = smd\n",
    "      ATT_long_sub['ks_stat'] = ks_stat\n",
    "\n",
    "      ATT_long_sub['ks_p'] = ks_p\n",
    "      ATT_long_sub['lambda_val'] = lam  # store the lambda value explicitly\n",
    "\n",
    "      # Append results for this lambda group\n",
    "      all_results.append(ATT_long_sub)\n",
    "      \n",
    "  # Concatenate results for all lambda groups\n",
    "  ATT_all = pd.concat(all_results, ignore_index=True)\n",
    "  return ATT_all\n",
    "\n",
    "def save_att(ATT_all, root, filename):\n",
    "    path = os.path.join(root, filename)\n",
    "    ATT_all.to_csv(path, index=False)\n",
    "\n",
    "def plot_all_att(ATT_all, baseline, root, filename):\n",
    "\n",
    "  # Path\n",
    "  path = os.path.join(root, filename)\n",
    "\n",
    "  # Graphics\n",
    "  plt.figure(figsize=(10, 7))\n",
    "  sns.lineplot(data=ATT_all, x='quarter', y='ATT', hue='lambda_val', marker='o', palette='tab10')\n",
    "  plt.axhline(0, color='gray', linestyle='--')\n",
    "  plt.axvline(x=0, color='black', linestyle='--', label=f'Baseline ({baseline})')\n",
    "  plt.xlabel('Quarter')\n",
    "  plt.ylabel('ATT (Dynamic Treatment Effect)')\n",
    "  plt.title('Dynamic ATT by Lambda')\n",
    "  plt.legend(title='Lambda')\n",
    "  plt.xlim(ATT_all['quarter'].min()-0.5, ATT_all['quarter'].max()+0.5)\n",
    "\n",
    "  plt.savefig(f\"{path}\")\t\n",
    "    \n",
    "\n",
    "def plot_att_by_lambda(ATT_all, baseline, folder):\n",
    "    \n",
    "\n",
    "    # Get a sorted list of unique lambda values (rounded to two decimals)\n",
    "    unique_lambdas = sorted(ATT_all['lambda_val'].unique())\n",
    "\n",
    "    # Create a color palette with as many colors as there are unique lambda groups\n",
    "    palette = sns.color_palette('tab10', len(unique_lambdas))\n",
    "\n",
    "    # Loop over each lambda group and plot separately\n",
    "    for i, lam in enumerate(unique_lambdas):\n",
    "        group_data = ATT_all[ATT_all['lambda_val'] == lam].sort_values('quarter')\n",
    "        \n",
    "        # Compute lower and upper bounds for the 95% CI\n",
    "        lower = group_data['ATT'] - 1.96 * group_data['se']\n",
    "        upper = group_data['ATT'] + 1.96 * group_data['se']\n",
    "        \n",
    "        # Create the plot for this lambda group\n",
    "        plt.figure(figsize=(10, 7))\n",
    "        plt.plot(group_data['quarter'], group_data['ATT'], marker='o', \n",
    "                label=f'Lambda {lam}', color=palette[i])\n",
    "        plt.fill_between(group_data['quarter'], lower, upper, alpha=0.3, color=palette[i])\n",
    "        \n",
    "        # Add reference lines\n",
    "        plt.axhline(0, color='gray', linestyle='--')\n",
    "        plt.axvline(x=0, color='black', linestyle='--', label=f'Baseline ({baseline})')\n",
    "        \n",
    "        # Add labels and title\n",
    "        plt.xlabel('Quarter')\n",
    "        plt.ylabel('ATT (Dynamic Treatment Effect)')\n",
    "        plt.title(f'Dynamic ATT for Lambda {lam}')\n",
    "        plt.xlim(ATT_all['quarter'].min()-0.5, ATT_all['quarter'].max()+0.5)\n",
    "        plt.legend(title='Lambda')\n",
    "        plt.tight_layout()\n",
    "        \n",
    "        # Save the plot to a file (e.g., PNG)\n",
    "        # Path\n",
    "        path = os.path.join(folder, f\"ATT_lambda_{lam}.png\")\n",
    "        plt.savefig(path)\n",
    "        plt.close()\n"
   ]
  },
  {
   "cell_type": "markdown",
   "metadata": {},
   "source": [
    "## Estimate for each lambda"
   ]
  },
  {
   "cell_type": "code",
   "execution_count": 64,
   "metadata": {},
   "outputs": [
    {
     "data": {
      "application/vnd.jupyter.widget-view+json": {
       "model_id": "3f71a3237593409c8d678aa0fa5032e0",
       "version_major": 2,
       "version_minor": 0
      },
      "text/plain": [
       "Looping over max periods:   0%|          | 0/4 [00:00<?, ?it/s]"
      ]
     },
     "metadata": {},
     "output_type": "display_data"
    },
    {
     "data": {
      "application/vnd.jupyter.widget-view+json": {
       "model_id": "8d5cf4920935454eb43ff54a61218e61",
       "version_major": 2,
       "version_minor": 0
      },
      "text/plain": [
       "Processing lambda groups:   0%|          | 0/21 [00:00<?, ?it/s]"
      ]
     },
     "metadata": {},
     "output_type": "display_data"
    },
    {
     "name": "stdout",
     "output_type": "stream",
     "text": [
      "Sample size: 867 matches\n"
     ]
    },
    {
     "data": {
      "application/vnd.jupyter.widget-view+json": {
       "model_id": "6b15089ee62f4a91b7354f675b056863",
       "version_major": 2,
       "version_minor": 0
      },
      "text/plain": [
       "Bootstrapping groups:   0%|          | 0/1 [00:00<?, ?it/s]"
      ]
     },
     "metadata": {},
     "output_type": "display_data"
    },
    {
     "data": {
      "application/vnd.jupyter.widget-view+json": {
       "model_id": "c0cdb557ea84494eb3a519ed4549cd1d",
       "version_major": 2,
       "version_minor": 0
      },
      "text/plain": [
       "Bootstrap replications:   0%|          | 0/500 [00:00<?, ?it/s]"
      ]
     },
     "metadata": {},
     "output_type": "display_data"
    },
    {
     "name": "stdout",
     "output_type": "stream",
     "text": [
      "Sample size: 867 matches\n"
     ]
    },
    {
     "name": "stderr",
     "output_type": "stream",
     "text": [
      "C:\\Users\\amusali\\AppData\\Local\\Temp\\ipykernel_15340\\3025862808.py:108: FutureWarning: The provided callable <function std at 0x000002C08E6F4F40> is currently using DataFrameGroupBy.std. In a future version of pandas, the provided callable will be used directly. To keep current behavior pass the string \"std\" instead.\n",
      "  boot_se = boot_results.groupby(index_col).agg(np.std).reset_index()\n"
     ]
    },
    {
     "data": {
      "application/vnd.jupyter.widget-view+json": {
       "model_id": "ae8897bf7f67428eabfb6177d1795d5f",
       "version_major": 2,
       "version_minor": 0
      },
      "text/plain": [
       "Bootstrapping groups:   0%|          | 0/1 [00:00<?, ?it/s]"
      ]
     },
     "metadata": {},
     "output_type": "display_data"
    },
    {
     "data": {
      "application/vnd.jupyter.widget-view+json": {
       "model_id": "0479d6897f8848c5b390558be7de2f25",
       "version_major": 2,
       "version_minor": 0
      },
      "text/plain": [
       "Bootstrap replications:   0%|          | 0/500 [00:00<?, ?it/s]"
      ]
     },
     "metadata": {},
     "output_type": "display_data"
    },
    {
     "name": "stdout",
     "output_type": "stream",
     "text": [
      "Sample size: 867 matches\n"
     ]
    },
    {
     "name": "stderr",
     "output_type": "stream",
     "text": [
      "C:\\Users\\amusali\\AppData\\Local\\Temp\\ipykernel_15340\\3025862808.py:108: FutureWarning: The provided callable <function std at 0x000002C08E6F4F40> is currently using DataFrameGroupBy.std. In a future version of pandas, the provided callable will be used directly. To keep current behavior pass the string \"std\" instead.\n",
      "  boot_se = boot_results.groupby(index_col).agg(np.std).reset_index()\n"
     ]
    },
    {
     "data": {
      "application/vnd.jupyter.widget-view+json": {
       "model_id": "bfb5fc315313457bb23a8c31a061cd19",
       "version_major": 2,
       "version_minor": 0
      },
      "text/plain": [
       "Bootstrapping groups:   0%|          | 0/1 [00:00<?, ?it/s]"
      ]
     },
     "metadata": {},
     "output_type": "display_data"
    },
    {
     "data": {
      "application/vnd.jupyter.widget-view+json": {
       "model_id": "02750b09a10741e38071a5984019087c",
       "version_major": 2,
       "version_minor": 0
      },
      "text/plain": [
       "Bootstrap replications:   0%|          | 0/500 [00:00<?, ?it/s]"
      ]
     },
     "metadata": {},
     "output_type": "display_data"
    },
    {
     "name": "stdout",
     "output_type": "stream",
     "text": [
      "Sample size: 867 matches\n"
     ]
    },
    {
     "name": "stderr",
     "output_type": "stream",
     "text": [
      "C:\\Users\\amusali\\AppData\\Local\\Temp\\ipykernel_15340\\3025862808.py:108: FutureWarning: The provided callable <function std at 0x000002C08E6F4F40> is currently using DataFrameGroupBy.std. In a future version of pandas, the provided callable will be used directly. To keep current behavior pass the string \"std\" instead.\n",
      "  boot_se = boot_results.groupby(index_col).agg(np.std).reset_index()\n"
     ]
    },
    {
     "data": {
      "application/vnd.jupyter.widget-view+json": {
       "model_id": "e652648359c848afbd4c5f4fb452b65c",
       "version_major": 2,
       "version_minor": 0
      },
      "text/plain": [
       "Bootstrapping groups:   0%|          | 0/1 [00:00<?, ?it/s]"
      ]
     },
     "metadata": {},
     "output_type": "display_data"
    },
    {
     "data": {
      "application/vnd.jupyter.widget-view+json": {
       "model_id": "1b77dcdb20a24b31b3cee7d2a529e11b",
       "version_major": 2,
       "version_minor": 0
      },
      "text/plain": [
       "Bootstrap replications:   0%|          | 0/500 [00:00<?, ?it/s]"
      ]
     },
     "metadata": {},
     "output_type": "display_data"
    },
    {
     "name": "stdout",
     "output_type": "stream",
     "text": [
      "Sample size: 867 matches\n"
     ]
    },
    {
     "name": "stderr",
     "output_type": "stream",
     "text": [
      "C:\\Users\\amusali\\AppData\\Local\\Temp\\ipykernel_15340\\3025862808.py:108: FutureWarning: The provided callable <function std at 0x000002C08E6F4F40> is currently using DataFrameGroupBy.std. In a future version of pandas, the provided callable will be used directly. To keep current behavior pass the string \"std\" instead.\n",
      "  boot_se = boot_results.groupby(index_col).agg(np.std).reset_index()\n"
     ]
    },
    {
     "data": {
      "application/vnd.jupyter.widget-view+json": {
       "model_id": "839724cef616464ea752ead24d039ea8",
       "version_major": 2,
       "version_minor": 0
      },
      "text/plain": [
       "Bootstrapping groups:   0%|          | 0/1 [00:00<?, ?it/s]"
      ]
     },
     "metadata": {},
     "output_type": "display_data"
    },
    {
     "data": {
      "application/vnd.jupyter.widget-view+json": {
       "model_id": "a03338caae964df386a9fa7f51bef706",
       "version_major": 2,
       "version_minor": 0
      },
      "text/plain": [
       "Bootstrap replications:   0%|          | 0/500 [00:00<?, ?it/s]"
      ]
     },
     "metadata": {},
     "output_type": "display_data"
    },
    {
     "name": "stdout",
     "output_type": "stream",
     "text": [
      "Sample size: 867 matches\n"
     ]
    },
    {
     "name": "stderr",
     "output_type": "stream",
     "text": [
      "C:\\Users\\amusali\\AppData\\Local\\Temp\\ipykernel_15340\\3025862808.py:108: FutureWarning: The provided callable <function std at 0x000002C08E6F4F40> is currently using DataFrameGroupBy.std. In a future version of pandas, the provided callable will be used directly. To keep current behavior pass the string \"std\" instead.\n",
      "  boot_se = boot_results.groupby(index_col).agg(np.std).reset_index()\n"
     ]
    },
    {
     "data": {
      "application/vnd.jupyter.widget-view+json": {
       "model_id": "c01bbf39e1b04051907426a6a964219c",
       "version_major": 2,
       "version_minor": 0
      },
      "text/plain": [
       "Bootstrapping groups:   0%|          | 0/1 [00:00<?, ?it/s]"
      ]
     },
     "metadata": {},
     "output_type": "display_data"
    },
    {
     "data": {
      "application/vnd.jupyter.widget-view+json": {
       "model_id": "79b3d02867654c128ff2e5e73e8f06a5",
       "version_major": 2,
       "version_minor": 0
      },
      "text/plain": [
       "Bootstrap replications:   0%|          | 0/500 [00:00<?, ?it/s]"
      ]
     },
     "metadata": {},
     "output_type": "display_data"
    },
    {
     "name": "stdout",
     "output_type": "stream",
     "text": [
      "Sample size: 867 matches\n"
     ]
    },
    {
     "name": "stderr",
     "output_type": "stream",
     "text": [
      "C:\\Users\\amusali\\AppData\\Local\\Temp\\ipykernel_15340\\3025862808.py:108: FutureWarning: The provided callable <function std at 0x000002C08E6F4F40> is currently using DataFrameGroupBy.std. In a future version of pandas, the provided callable will be used directly. To keep current behavior pass the string \"std\" instead.\n",
      "  boot_se = boot_results.groupby(index_col).agg(np.std).reset_index()\n"
     ]
    },
    {
     "data": {
      "application/vnd.jupyter.widget-view+json": {
       "model_id": "d17bb633a51b468ba4662d1de86053a1",
       "version_major": 2,
       "version_minor": 0
      },
      "text/plain": [
       "Bootstrapping groups:   0%|          | 0/1 [00:00<?, ?it/s]"
      ]
     },
     "metadata": {},
     "output_type": "display_data"
    },
    {
     "data": {
      "application/vnd.jupyter.widget-view+json": {
       "model_id": "24283886114b47908579eacb33c7de2c",
       "version_major": 2,
       "version_minor": 0
      },
      "text/plain": [
       "Bootstrap replications:   0%|          | 0/500 [00:00<?, ?it/s]"
      ]
     },
     "metadata": {},
     "output_type": "display_data"
    },
    {
     "name": "stdout",
     "output_type": "stream",
     "text": [
      "Sample size: 867 matches\n"
     ]
    },
    {
     "name": "stderr",
     "output_type": "stream",
     "text": [
      "C:\\Users\\amusali\\AppData\\Local\\Temp\\ipykernel_15340\\3025862808.py:108: FutureWarning: The provided callable <function std at 0x000002C08E6F4F40> is currently using DataFrameGroupBy.std. In a future version of pandas, the provided callable will be used directly. To keep current behavior pass the string \"std\" instead.\n",
      "  boot_se = boot_results.groupby(index_col).agg(np.std).reset_index()\n"
     ]
    },
    {
     "data": {
      "application/vnd.jupyter.widget-view+json": {
       "model_id": "5c1ae405107b4c34b3c2e3b64b598af1",
       "version_major": 2,
       "version_minor": 0
      },
      "text/plain": [
       "Bootstrapping groups:   0%|          | 0/1 [00:00<?, ?it/s]"
      ]
     },
     "metadata": {},
     "output_type": "display_data"
    },
    {
     "data": {
      "application/vnd.jupyter.widget-view+json": {
       "model_id": "137d3dbc377b4825adc5227f404bed3b",
       "version_major": 2,
       "version_minor": 0
      },
      "text/plain": [
       "Bootstrap replications:   0%|          | 0/500 [00:00<?, ?it/s]"
      ]
     },
     "metadata": {},
     "output_type": "display_data"
    },
    {
     "name": "stdout",
     "output_type": "stream",
     "text": [
      "Sample size: 867 matches\n"
     ]
    },
    {
     "name": "stderr",
     "output_type": "stream",
     "text": [
      "C:\\Users\\amusali\\AppData\\Local\\Temp\\ipykernel_15340\\3025862808.py:108: FutureWarning: The provided callable <function std at 0x000002C08E6F4F40> is currently using DataFrameGroupBy.std. In a future version of pandas, the provided callable will be used directly. To keep current behavior pass the string \"std\" instead.\n",
      "  boot_se = boot_results.groupby(index_col).agg(np.std).reset_index()\n"
     ]
    },
    {
     "data": {
      "application/vnd.jupyter.widget-view+json": {
       "model_id": "c2f267b6a5fa406fad367cab49ca0252",
       "version_major": 2,
       "version_minor": 0
      },
      "text/plain": [
       "Bootstrapping groups:   0%|          | 0/1 [00:00<?, ?it/s]"
      ]
     },
     "metadata": {},
     "output_type": "display_data"
    },
    {
     "data": {
      "application/vnd.jupyter.widget-view+json": {
       "model_id": "1d42bc27c1424242892608d70b80693c",
       "version_major": 2,
       "version_minor": 0
      },
      "text/plain": [
       "Bootstrap replications:   0%|          | 0/500 [00:00<?, ?it/s]"
      ]
     },
     "metadata": {},
     "output_type": "display_data"
    },
    {
     "name": "stdout",
     "output_type": "stream",
     "text": [
      "Sample size: 867 matches\n"
     ]
    },
    {
     "name": "stderr",
     "output_type": "stream",
     "text": [
      "C:\\Users\\amusali\\AppData\\Local\\Temp\\ipykernel_15340\\3025862808.py:108: FutureWarning: The provided callable <function std at 0x000002C08E6F4F40> is currently using DataFrameGroupBy.std. In a future version of pandas, the provided callable will be used directly. To keep current behavior pass the string \"std\" instead.\n",
      "  boot_se = boot_results.groupby(index_col).agg(np.std).reset_index()\n"
     ]
    },
    {
     "data": {
      "application/vnd.jupyter.widget-view+json": {
       "model_id": "e3779f4bc8384f76952078509064529a",
       "version_major": 2,
       "version_minor": 0
      },
      "text/plain": [
       "Bootstrapping groups:   0%|          | 0/1 [00:00<?, ?it/s]"
      ]
     },
     "metadata": {},
     "output_type": "display_data"
    },
    {
     "data": {
      "application/vnd.jupyter.widget-view+json": {
       "model_id": "45d6c0d36f434b97af6946d3c08f9ada",
       "version_major": 2,
       "version_minor": 0
      },
      "text/plain": [
       "Bootstrap replications:   0%|          | 0/500 [00:00<?, ?it/s]"
      ]
     },
     "metadata": {},
     "output_type": "display_data"
    },
    {
     "name": "stdout",
     "output_type": "stream",
     "text": [
      "Sample size: 867 matches\n"
     ]
    },
    {
     "name": "stderr",
     "output_type": "stream",
     "text": [
      "C:\\Users\\amusali\\AppData\\Local\\Temp\\ipykernel_15340\\3025862808.py:108: FutureWarning: The provided callable <function std at 0x000002C08E6F4F40> is currently using DataFrameGroupBy.std. In a future version of pandas, the provided callable will be used directly. To keep current behavior pass the string \"std\" instead.\n",
      "  boot_se = boot_results.groupby(index_col).agg(np.std).reset_index()\n"
     ]
    },
    {
     "data": {
      "application/vnd.jupyter.widget-view+json": {
       "model_id": "160b1ee413a94b799c928d7ee0fa0ca2",
       "version_major": 2,
       "version_minor": 0
      },
      "text/plain": [
       "Bootstrapping groups:   0%|          | 0/1 [00:00<?, ?it/s]"
      ]
     },
     "metadata": {},
     "output_type": "display_data"
    },
    {
     "data": {
      "application/vnd.jupyter.widget-view+json": {
       "model_id": "d4d19ae88783418ea781c720ce2ef9f1",
       "version_major": 2,
       "version_minor": 0
      },
      "text/plain": [
       "Bootstrap replications:   0%|          | 0/500 [00:00<?, ?it/s]"
      ]
     },
     "metadata": {},
     "output_type": "display_data"
    },
    {
     "name": "stdout",
     "output_type": "stream",
     "text": [
      "Sample size: 867 matches\n"
     ]
    },
    {
     "name": "stderr",
     "output_type": "stream",
     "text": [
      "C:\\Users\\amusali\\AppData\\Local\\Temp\\ipykernel_15340\\3025862808.py:108: FutureWarning: The provided callable <function std at 0x000002C08E6F4F40> is currently using DataFrameGroupBy.std. In a future version of pandas, the provided callable will be used directly. To keep current behavior pass the string \"std\" instead.\n",
      "  boot_se = boot_results.groupby(index_col).agg(np.std).reset_index()\n"
     ]
    },
    {
     "data": {
      "application/vnd.jupyter.widget-view+json": {
       "model_id": "2c08e9e177414c34abe6c647810714a5",
       "version_major": 2,
       "version_minor": 0
      },
      "text/plain": [
       "Bootstrapping groups:   0%|          | 0/1 [00:00<?, ?it/s]"
      ]
     },
     "metadata": {},
     "output_type": "display_data"
    },
    {
     "data": {
      "application/vnd.jupyter.widget-view+json": {
       "model_id": "81cd8d8c63914fc98dabf68883f70adc",
       "version_major": 2,
       "version_minor": 0
      },
      "text/plain": [
       "Bootstrap replications:   0%|          | 0/500 [00:00<?, ?it/s]"
      ]
     },
     "metadata": {},
     "output_type": "display_data"
    },
    {
     "name": "stdout",
     "output_type": "stream",
     "text": [
      "Sample size: 867 matches\n"
     ]
    },
    {
     "name": "stderr",
     "output_type": "stream",
     "text": [
      "C:\\Users\\amusali\\AppData\\Local\\Temp\\ipykernel_15340\\3025862808.py:108: FutureWarning: The provided callable <function std at 0x000002C08E6F4F40> is currently using DataFrameGroupBy.std. In a future version of pandas, the provided callable will be used directly. To keep current behavior pass the string \"std\" instead.\n",
      "  boot_se = boot_results.groupby(index_col).agg(np.std).reset_index()\n"
     ]
    },
    {
     "data": {
      "application/vnd.jupyter.widget-view+json": {
       "model_id": "18f7405f510d4ac1aa51fd1d4cea0af1",
       "version_major": 2,
       "version_minor": 0
      },
      "text/plain": [
       "Bootstrapping groups:   0%|          | 0/1 [00:00<?, ?it/s]"
      ]
     },
     "metadata": {},
     "output_type": "display_data"
    },
    {
     "data": {
      "application/vnd.jupyter.widget-view+json": {
       "model_id": "0ac5c15b98554a14bae309779fb01104",
       "version_major": 2,
       "version_minor": 0
      },
      "text/plain": [
       "Bootstrap replications:   0%|          | 0/500 [00:00<?, ?it/s]"
      ]
     },
     "metadata": {},
     "output_type": "display_data"
    },
    {
     "name": "stdout",
     "output_type": "stream",
     "text": [
      "Sample size: 867 matches\n"
     ]
    },
    {
     "name": "stderr",
     "output_type": "stream",
     "text": [
      "C:\\Users\\amusali\\AppData\\Local\\Temp\\ipykernel_15340\\3025862808.py:108: FutureWarning: The provided callable <function std at 0x000002C08E6F4F40> is currently using DataFrameGroupBy.std. In a future version of pandas, the provided callable will be used directly. To keep current behavior pass the string \"std\" instead.\n",
      "  boot_se = boot_results.groupby(index_col).agg(np.std).reset_index()\n"
     ]
    },
    {
     "data": {
      "application/vnd.jupyter.widget-view+json": {
       "model_id": "e5abfcb63d284fe1ac4732f4604954ce",
       "version_major": 2,
       "version_minor": 0
      },
      "text/plain": [
       "Bootstrapping groups:   0%|          | 0/1 [00:00<?, ?it/s]"
      ]
     },
     "metadata": {},
     "output_type": "display_data"
    },
    {
     "data": {
      "application/vnd.jupyter.widget-view+json": {
       "model_id": "ccf4479f6f5949779f6c0d8a1f4544ef",
       "version_major": 2,
       "version_minor": 0
      },
      "text/plain": [
       "Bootstrap replications:   0%|          | 0/500 [00:00<?, ?it/s]"
      ]
     },
     "metadata": {},
     "output_type": "display_data"
    },
    {
     "name": "stdout",
     "output_type": "stream",
     "text": [
      "Sample size: 867 matches\n"
     ]
    },
    {
     "name": "stderr",
     "output_type": "stream",
     "text": [
      "C:\\Users\\amusali\\AppData\\Local\\Temp\\ipykernel_15340\\3025862808.py:108: FutureWarning: The provided callable <function std at 0x000002C08E6F4F40> is currently using DataFrameGroupBy.std. In a future version of pandas, the provided callable will be used directly. To keep current behavior pass the string \"std\" instead.\n",
      "  boot_se = boot_results.groupby(index_col).agg(np.std).reset_index()\n"
     ]
    },
    {
     "data": {
      "application/vnd.jupyter.widget-view+json": {
       "model_id": "2744507f76734dc0bfb6da9d1f740ecd",
       "version_major": 2,
       "version_minor": 0
      },
      "text/plain": [
       "Bootstrapping groups:   0%|          | 0/1 [00:00<?, ?it/s]"
      ]
     },
     "metadata": {},
     "output_type": "display_data"
    },
    {
     "data": {
      "application/vnd.jupyter.widget-view+json": {
       "model_id": "b0879a0df0854d28aebf73f3a8616a5c",
       "version_major": 2,
       "version_minor": 0
      },
      "text/plain": [
       "Bootstrap replications:   0%|          | 0/500 [00:00<?, ?it/s]"
      ]
     },
     "metadata": {},
     "output_type": "display_data"
    },
    {
     "name": "stderr",
     "output_type": "stream",
     "text": [
      "C:\\Users\\amusali\\AppData\\Local\\Temp\\ipykernel_15340\\3025862808.py:108: FutureWarning: The provided callable <function std at 0x000002C08E6F4F40> is currently using DataFrameGroupBy.std. In a future version of pandas, the provided callable will be used directly. To keep current behavior pass the string \"std\" instead.\n",
      "  boot_se = boot_results.groupby(index_col).agg(np.std).reset_index()\n"
     ]
    },
    {
     "name": "stdout",
     "output_type": "stream",
     "text": [
      "Sample size: 867 matches\n"
     ]
    },
    {
     "data": {
      "application/vnd.jupyter.widget-view+json": {
       "model_id": "6912581c4bb24a52ab64aa70169425bf",
       "version_major": 2,
       "version_minor": 0
      },
      "text/plain": [
       "Bootstrapping groups:   0%|          | 0/1 [00:00<?, ?it/s]"
      ]
     },
     "metadata": {},
     "output_type": "display_data"
    },
    {
     "data": {
      "application/vnd.jupyter.widget-view+json": {
       "model_id": "052b2f60e832455d8b7da992439b70ae",
       "version_major": 2,
       "version_minor": 0
      },
      "text/plain": [
       "Bootstrap replications:   0%|          | 0/500 [00:00<?, ?it/s]"
      ]
     },
     "metadata": {},
     "output_type": "display_data"
    },
    {
     "name": "stdout",
     "output_type": "stream",
     "text": [
      "Sample size: 867 matches\n"
     ]
    },
    {
     "name": "stderr",
     "output_type": "stream",
     "text": [
      "C:\\Users\\amusali\\AppData\\Local\\Temp\\ipykernel_15340\\3025862808.py:108: FutureWarning: The provided callable <function std at 0x000002C08E6F4F40> is currently using DataFrameGroupBy.std. In a future version of pandas, the provided callable will be used directly. To keep current behavior pass the string \"std\" instead.\n",
      "  boot_se = boot_results.groupby(index_col).agg(np.std).reset_index()\n"
     ]
    },
    {
     "data": {
      "application/vnd.jupyter.widget-view+json": {
       "model_id": "085f9109af444281a4fcbf8953575f75",
       "version_major": 2,
       "version_minor": 0
      },
      "text/plain": [
       "Bootstrapping groups:   0%|          | 0/1 [00:00<?, ?it/s]"
      ]
     },
     "metadata": {},
     "output_type": "display_data"
    },
    {
     "data": {
      "application/vnd.jupyter.widget-view+json": {
       "model_id": "51b453ae14cc4e339dc5c94b8f84e531",
       "version_major": 2,
       "version_minor": 0
      },
      "text/plain": [
       "Bootstrap replications:   0%|          | 0/500 [00:00<?, ?it/s]"
      ]
     },
     "metadata": {},
     "output_type": "display_data"
    },
    {
     "name": "stdout",
     "output_type": "stream",
     "text": [
      "Sample size: 867 matches\n"
     ]
    },
    {
     "name": "stderr",
     "output_type": "stream",
     "text": [
      "C:\\Users\\amusali\\AppData\\Local\\Temp\\ipykernel_15340\\3025862808.py:108: FutureWarning: The provided callable <function std at 0x000002C08E6F4F40> is currently using DataFrameGroupBy.std. In a future version of pandas, the provided callable will be used directly. To keep current behavior pass the string \"std\" instead.\n",
      "  boot_se = boot_results.groupby(index_col).agg(np.std).reset_index()\n"
     ]
    },
    {
     "data": {
      "application/vnd.jupyter.widget-view+json": {
       "model_id": "84ef2d1567cc4db6a008180309d912a5",
       "version_major": 2,
       "version_minor": 0
      },
      "text/plain": [
       "Bootstrapping groups:   0%|          | 0/1 [00:00<?, ?it/s]"
      ]
     },
     "metadata": {},
     "output_type": "display_data"
    },
    {
     "data": {
      "application/vnd.jupyter.widget-view+json": {
       "model_id": "ea6619f7a98d42119829f375aa704179",
       "version_major": 2,
       "version_minor": 0
      },
      "text/plain": [
       "Bootstrap replications:   0%|          | 0/500 [00:00<?, ?it/s]"
      ]
     },
     "metadata": {},
     "output_type": "display_data"
    },
    {
     "name": "stdout",
     "output_type": "stream",
     "text": [
      "Sample size: 867 matches\n"
     ]
    },
    {
     "name": "stderr",
     "output_type": "stream",
     "text": [
      "C:\\Users\\amusali\\AppData\\Local\\Temp\\ipykernel_15340\\3025862808.py:108: FutureWarning: The provided callable <function std at 0x000002C08E6F4F40> is currently using DataFrameGroupBy.std. In a future version of pandas, the provided callable will be used directly. To keep current behavior pass the string \"std\" instead.\n",
      "  boot_se = boot_results.groupby(index_col).agg(np.std).reset_index()\n"
     ]
    },
    {
     "data": {
      "application/vnd.jupyter.widget-view+json": {
       "model_id": "9f5626822de047ba86f42376bcc628d4",
       "version_major": 2,
       "version_minor": 0
      },
      "text/plain": [
       "Bootstrapping groups:   0%|          | 0/1 [00:00<?, ?it/s]"
      ]
     },
     "metadata": {},
     "output_type": "display_data"
    },
    {
     "data": {
      "application/vnd.jupyter.widget-view+json": {
       "model_id": "fdc8f64929084de4bae906345c678ae8",
       "version_major": 2,
       "version_minor": 0
      },
      "text/plain": [
       "Bootstrap replications:   0%|          | 0/500 [00:00<?, ?it/s]"
      ]
     },
     "metadata": {},
     "output_type": "display_data"
    },
    {
     "name": "stdout",
     "output_type": "stream",
     "text": [
      "Sample size: 867 matches\n"
     ]
    },
    {
     "name": "stderr",
     "output_type": "stream",
     "text": [
      "C:\\Users\\amusali\\AppData\\Local\\Temp\\ipykernel_15340\\3025862808.py:108: FutureWarning: The provided callable <function std at 0x000002C08E6F4F40> is currently using DataFrameGroupBy.std. In a future version of pandas, the provided callable will be used directly. To keep current behavior pass the string \"std\" instead.\n",
      "  boot_se = boot_results.groupby(index_col).agg(np.std).reset_index()\n"
     ]
    },
    {
     "data": {
      "application/vnd.jupyter.widget-view+json": {
       "model_id": "2945ed6e46eb478285efc6c2ef76afbb",
       "version_major": 2,
       "version_minor": 0
      },
      "text/plain": [
       "Bootstrapping groups:   0%|          | 0/1 [00:00<?, ?it/s]"
      ]
     },
     "metadata": {},
     "output_type": "display_data"
    },
    {
     "data": {
      "application/vnd.jupyter.widget-view+json": {
       "model_id": "c584ce13600941a58656a991cbdf2bdd",
       "version_major": 2,
       "version_minor": 0
      },
      "text/plain": [
       "Bootstrap replications:   0%|          | 0/500 [00:00<?, ?it/s]"
      ]
     },
     "metadata": {},
     "output_type": "display_data"
    },
    {
     "name": "stdout",
     "output_type": "stream",
     "text": [
      "Sample size: 867 matches\n"
     ]
    },
    {
     "name": "stderr",
     "output_type": "stream",
     "text": [
      "C:\\Users\\amusali\\AppData\\Local\\Temp\\ipykernel_15340\\3025862808.py:108: FutureWarning: The provided callable <function std at 0x000002C08E6F4F40> is currently using DataFrameGroupBy.std. In a future version of pandas, the provided callable will be used directly. To keep current behavior pass the string \"std\" instead.\n",
      "  boot_se = boot_results.groupby(index_col).agg(np.std).reset_index()\n"
     ]
    },
    {
     "data": {
      "application/vnd.jupyter.widget-view+json": {
       "model_id": "2be873b4af1f4361ada61fb27e6470fa",
       "version_major": 2,
       "version_minor": 0
      },
      "text/plain": [
       "Bootstrapping groups:   0%|          | 0/1 [00:00<?, ?it/s]"
      ]
     },
     "metadata": {},
     "output_type": "display_data"
    },
    {
     "data": {
      "application/vnd.jupyter.widget-view+json": {
       "model_id": "73357d6df57d47e1b45c6dc9c84d84b9",
       "version_major": 2,
       "version_minor": 0
      },
      "text/plain": [
       "Bootstrap replications:   0%|          | 0/500 [00:00<?, ?it/s]"
      ]
     },
     "metadata": {},
     "output_type": "display_data"
    },
    {
     "name": "stderr",
     "output_type": "stream",
     "text": [
      "C:\\Users\\amusali\\AppData\\Local\\Temp\\ipykernel_15340\\3025862808.py:108: FutureWarning: The provided callable <function std at 0x000002C08E6F4F40> is currently using DataFrameGroupBy.std. In a future version of pandas, the provided callable will be used directly. To keep current behavior pass the string \"std\" instead.\n",
      "  boot_se = boot_results.groupby(index_col).agg(np.std).reset_index()\n"
     ]
    },
    {
     "data": {
      "application/vnd.jupyter.widget-view+json": {
       "model_id": "17a2412367744b8fafef94c4a6b95d31",
       "version_major": 2,
       "version_minor": 0
      },
      "text/plain": [
       "Processing lambda groups:   0%|          | 0/21 [00:00<?, ?it/s]"
      ]
     },
     "metadata": {},
     "output_type": "display_data"
    },
    {
     "name": "stdout",
     "output_type": "stream",
     "text": [
      "Sample size: 867 matches\n"
     ]
    },
    {
     "data": {
      "application/vnd.jupyter.widget-view+json": {
       "model_id": "00cefe8e5f8b4f92af94f8d1e9c5ffa3",
       "version_major": 2,
       "version_minor": 0
      },
      "text/plain": [
       "Bootstrapping groups:   0%|          | 0/1 [00:00<?, ?it/s]"
      ]
     },
     "metadata": {},
     "output_type": "display_data"
    },
    {
     "data": {
      "application/vnd.jupyter.widget-view+json": {
       "model_id": "7b9ddbc081524e8eaac20b34025c1d07",
       "version_major": 2,
       "version_minor": 0
      },
      "text/plain": [
       "Bootstrap replications:   0%|          | 0/500 [00:00<?, ?it/s]"
      ]
     },
     "metadata": {},
     "output_type": "display_data"
    },
    {
     "name": "stdout",
     "output_type": "stream",
     "text": [
      "Sample size: 867 matches\n"
     ]
    },
    {
     "name": "stderr",
     "output_type": "stream",
     "text": [
      "C:\\Users\\amusali\\AppData\\Local\\Temp\\ipykernel_15340\\3025862808.py:108: FutureWarning: The provided callable <function std at 0x000002C08E6F4F40> is currently using DataFrameGroupBy.std. In a future version of pandas, the provided callable will be used directly. To keep current behavior pass the string \"std\" instead.\n",
      "  boot_se = boot_results.groupby(index_col).agg(np.std).reset_index()\n"
     ]
    },
    {
     "data": {
      "application/vnd.jupyter.widget-view+json": {
       "model_id": "0abd6e7eede54d9893b665ebba5329b9",
       "version_major": 2,
       "version_minor": 0
      },
      "text/plain": [
       "Bootstrapping groups:   0%|          | 0/1 [00:00<?, ?it/s]"
      ]
     },
     "metadata": {},
     "output_type": "display_data"
    },
    {
     "data": {
      "application/vnd.jupyter.widget-view+json": {
       "model_id": "66b84c38c99b4715bf800d0fa9ed95cf",
       "version_major": 2,
       "version_minor": 0
      },
      "text/plain": [
       "Bootstrap replications:   0%|          | 0/500 [00:00<?, ?it/s]"
      ]
     },
     "metadata": {},
     "output_type": "display_data"
    },
    {
     "name": "stdout",
     "output_type": "stream",
     "text": [
      "Sample size: 867 matches\n"
     ]
    },
    {
     "name": "stderr",
     "output_type": "stream",
     "text": [
      "C:\\Users\\amusali\\AppData\\Local\\Temp\\ipykernel_15340\\3025862808.py:108: FutureWarning: The provided callable <function std at 0x000002C08E6F4F40> is currently using DataFrameGroupBy.std. In a future version of pandas, the provided callable will be used directly. To keep current behavior pass the string \"std\" instead.\n",
      "  boot_se = boot_results.groupby(index_col).agg(np.std).reset_index()\n"
     ]
    },
    {
     "data": {
      "application/vnd.jupyter.widget-view+json": {
       "model_id": "4e834dc5763c46dca78966a9304535b0",
       "version_major": 2,
       "version_minor": 0
      },
      "text/plain": [
       "Bootstrapping groups:   0%|          | 0/1 [00:00<?, ?it/s]"
      ]
     },
     "metadata": {},
     "output_type": "display_data"
    },
    {
     "data": {
      "application/vnd.jupyter.widget-view+json": {
       "model_id": "a01cfd432f7c4921ac324cb3dcfc47ef",
       "version_major": 2,
       "version_minor": 0
      },
      "text/plain": [
       "Bootstrap replications:   0%|          | 0/500 [00:00<?, ?it/s]"
      ]
     },
     "metadata": {},
     "output_type": "display_data"
    },
    {
     "name": "stdout",
     "output_type": "stream",
     "text": [
      "Sample size: 867 matches\n"
     ]
    },
    {
     "name": "stderr",
     "output_type": "stream",
     "text": [
      "C:\\Users\\amusali\\AppData\\Local\\Temp\\ipykernel_15340\\3025862808.py:108: FutureWarning: The provided callable <function std at 0x000002C08E6F4F40> is currently using DataFrameGroupBy.std. In a future version of pandas, the provided callable will be used directly. To keep current behavior pass the string \"std\" instead.\n",
      "  boot_se = boot_results.groupby(index_col).agg(np.std).reset_index()\n"
     ]
    },
    {
     "data": {
      "application/vnd.jupyter.widget-view+json": {
       "model_id": "58a7659753b94fc7bc8aa5a32be19612",
       "version_major": 2,
       "version_minor": 0
      },
      "text/plain": [
       "Bootstrapping groups:   0%|          | 0/1 [00:00<?, ?it/s]"
      ]
     },
     "metadata": {},
     "output_type": "display_data"
    },
    {
     "data": {
      "application/vnd.jupyter.widget-view+json": {
       "model_id": "ba6262e6555243cf8ce443b77110fd1f",
       "version_major": 2,
       "version_minor": 0
      },
      "text/plain": [
       "Bootstrap replications:   0%|          | 0/500 [00:00<?, ?it/s]"
      ]
     },
     "metadata": {},
     "output_type": "display_data"
    },
    {
     "name": "stdout",
     "output_type": "stream",
     "text": [
      "Sample size: 867 matches\n"
     ]
    },
    {
     "name": "stderr",
     "output_type": "stream",
     "text": [
      "C:\\Users\\amusali\\AppData\\Local\\Temp\\ipykernel_15340\\3025862808.py:108: FutureWarning: The provided callable <function std at 0x000002C08E6F4F40> is currently using DataFrameGroupBy.std. In a future version of pandas, the provided callable will be used directly. To keep current behavior pass the string \"std\" instead.\n",
      "  boot_se = boot_results.groupby(index_col).agg(np.std).reset_index()\n"
     ]
    },
    {
     "data": {
      "application/vnd.jupyter.widget-view+json": {
       "model_id": "609f5c2c9fe54904856fb2bcab3585c4",
       "version_major": 2,
       "version_minor": 0
      },
      "text/plain": [
       "Bootstrapping groups:   0%|          | 0/1 [00:00<?, ?it/s]"
      ]
     },
     "metadata": {},
     "output_type": "display_data"
    },
    {
     "data": {
      "application/vnd.jupyter.widget-view+json": {
       "model_id": "bc0f9b2bcb3c40b49c728448bdfb1320",
       "version_major": 2,
       "version_minor": 0
      },
      "text/plain": [
       "Bootstrap replications:   0%|          | 0/500 [00:00<?, ?it/s]"
      ]
     },
     "metadata": {},
     "output_type": "display_data"
    },
    {
     "name": "stdout",
     "output_type": "stream",
     "text": [
      "Sample size: 867 matches\n"
     ]
    },
    {
     "name": "stderr",
     "output_type": "stream",
     "text": [
      "C:\\Users\\amusali\\AppData\\Local\\Temp\\ipykernel_15340\\3025862808.py:108: FutureWarning: The provided callable <function std at 0x000002C08E6F4F40> is currently using DataFrameGroupBy.std. In a future version of pandas, the provided callable will be used directly. To keep current behavior pass the string \"std\" instead.\n",
      "  boot_se = boot_results.groupby(index_col).agg(np.std).reset_index()\n"
     ]
    },
    {
     "data": {
      "application/vnd.jupyter.widget-view+json": {
       "model_id": "32f214185d154a03b7623c0adddcf584",
       "version_major": 2,
       "version_minor": 0
      },
      "text/plain": [
       "Bootstrapping groups:   0%|          | 0/1 [00:00<?, ?it/s]"
      ]
     },
     "metadata": {},
     "output_type": "display_data"
    },
    {
     "data": {
      "application/vnd.jupyter.widget-view+json": {
       "model_id": "9e9c78ac3220452bb2d4cb20b5aec4ce",
       "version_major": 2,
       "version_minor": 0
      },
      "text/plain": [
       "Bootstrap replications:   0%|          | 0/500 [00:00<?, ?it/s]"
      ]
     },
     "metadata": {},
     "output_type": "display_data"
    },
    {
     "name": "stdout",
     "output_type": "stream",
     "text": [
      "Sample size: 867 matches\n"
     ]
    },
    {
     "name": "stderr",
     "output_type": "stream",
     "text": [
      "C:\\Users\\amusali\\AppData\\Local\\Temp\\ipykernel_15340\\3025862808.py:108: FutureWarning: The provided callable <function std at 0x000002C08E6F4F40> is currently using DataFrameGroupBy.std. In a future version of pandas, the provided callable will be used directly. To keep current behavior pass the string \"std\" instead.\n",
      "  boot_se = boot_results.groupby(index_col).agg(np.std).reset_index()\n"
     ]
    },
    {
     "data": {
      "application/vnd.jupyter.widget-view+json": {
       "model_id": "74b7e609554046778abcd79213261503",
       "version_major": 2,
       "version_minor": 0
      },
      "text/plain": [
       "Bootstrapping groups:   0%|          | 0/1 [00:00<?, ?it/s]"
      ]
     },
     "metadata": {},
     "output_type": "display_data"
    },
    {
     "data": {
      "application/vnd.jupyter.widget-view+json": {
       "model_id": "a149316367224301b35e9f2202d0ea63",
       "version_major": 2,
       "version_minor": 0
      },
      "text/plain": [
       "Bootstrap replications:   0%|          | 0/500 [00:00<?, ?it/s]"
      ]
     },
     "metadata": {},
     "output_type": "display_data"
    },
    {
     "name": "stdout",
     "output_type": "stream",
     "text": [
      "Sample size: 867 matches\n"
     ]
    },
    {
     "name": "stderr",
     "output_type": "stream",
     "text": [
      "C:\\Users\\amusali\\AppData\\Local\\Temp\\ipykernel_15340\\3025862808.py:108: FutureWarning: The provided callable <function std at 0x000002C08E6F4F40> is currently using DataFrameGroupBy.std. In a future version of pandas, the provided callable will be used directly. To keep current behavior pass the string \"std\" instead.\n",
      "  boot_se = boot_results.groupby(index_col).agg(np.std).reset_index()\n"
     ]
    },
    {
     "data": {
      "application/vnd.jupyter.widget-view+json": {
       "model_id": "7740a4e2f6eb42629292b6b58aa3966e",
       "version_major": 2,
       "version_minor": 0
      },
      "text/plain": [
       "Bootstrapping groups:   0%|          | 0/1 [00:00<?, ?it/s]"
      ]
     },
     "metadata": {},
     "output_type": "display_data"
    },
    {
     "data": {
      "application/vnd.jupyter.widget-view+json": {
       "model_id": "a47f6c2b133546f89f9a04fbc3c6de36",
       "version_major": 2,
       "version_minor": 0
      },
      "text/plain": [
       "Bootstrap replications:   0%|          | 0/500 [00:00<?, ?it/s]"
      ]
     },
     "metadata": {},
     "output_type": "display_data"
    },
    {
     "name": "stdout",
     "output_type": "stream",
     "text": [
      "Sample size: 867 matches\n"
     ]
    },
    {
     "name": "stderr",
     "output_type": "stream",
     "text": [
      "C:\\Users\\amusali\\AppData\\Local\\Temp\\ipykernel_15340\\3025862808.py:108: FutureWarning: The provided callable <function std at 0x000002C08E6F4F40> is currently using DataFrameGroupBy.std. In a future version of pandas, the provided callable will be used directly. To keep current behavior pass the string \"std\" instead.\n",
      "  boot_se = boot_results.groupby(index_col).agg(np.std).reset_index()\n"
     ]
    },
    {
     "data": {
      "application/vnd.jupyter.widget-view+json": {
       "model_id": "88824fcd205a4b4fbbef83cac6dbcfaa",
       "version_major": 2,
       "version_minor": 0
      },
      "text/plain": [
       "Bootstrapping groups:   0%|          | 0/1 [00:00<?, ?it/s]"
      ]
     },
     "metadata": {},
     "output_type": "display_data"
    },
    {
     "data": {
      "application/vnd.jupyter.widget-view+json": {
       "model_id": "41fcd674ded547248246297556535817",
       "version_major": 2,
       "version_minor": 0
      },
      "text/plain": [
       "Bootstrap replications:   0%|          | 0/500 [00:00<?, ?it/s]"
      ]
     },
     "metadata": {},
     "output_type": "display_data"
    },
    {
     "name": "stdout",
     "output_type": "stream",
     "text": [
      "Sample size: 867 matches\n"
     ]
    },
    {
     "name": "stderr",
     "output_type": "stream",
     "text": [
      "C:\\Users\\amusali\\AppData\\Local\\Temp\\ipykernel_15340\\3025862808.py:108: FutureWarning: The provided callable <function std at 0x000002C08E6F4F40> is currently using DataFrameGroupBy.std. In a future version of pandas, the provided callable will be used directly. To keep current behavior pass the string \"std\" instead.\n",
      "  boot_se = boot_results.groupby(index_col).agg(np.std).reset_index()\n"
     ]
    },
    {
     "data": {
      "application/vnd.jupyter.widget-view+json": {
       "model_id": "4ec01c358efe429bbe3168b77695cf0a",
       "version_major": 2,
       "version_minor": 0
      },
      "text/plain": [
       "Bootstrapping groups:   0%|          | 0/1 [00:00<?, ?it/s]"
      ]
     },
     "metadata": {},
     "output_type": "display_data"
    },
    {
     "data": {
      "application/vnd.jupyter.widget-view+json": {
       "model_id": "e559edb852aa45fc8d79f4f98881f800",
       "version_major": 2,
       "version_minor": 0
      },
      "text/plain": [
       "Bootstrap replications:   0%|          | 0/500 [00:00<?, ?it/s]"
      ]
     },
     "metadata": {},
     "output_type": "display_data"
    },
    {
     "name": "stdout",
     "output_type": "stream",
     "text": [
      "Sample size: 867 matches\n"
     ]
    },
    {
     "name": "stderr",
     "output_type": "stream",
     "text": [
      "C:\\Users\\amusali\\AppData\\Local\\Temp\\ipykernel_15340\\3025862808.py:108: FutureWarning: The provided callable <function std at 0x000002C08E6F4F40> is currently using DataFrameGroupBy.std. In a future version of pandas, the provided callable will be used directly. To keep current behavior pass the string \"std\" instead.\n",
      "  boot_se = boot_results.groupby(index_col).agg(np.std).reset_index()\n"
     ]
    },
    {
     "data": {
      "application/vnd.jupyter.widget-view+json": {
       "model_id": "739235475d234e11b056e36655dfeba0",
       "version_major": 2,
       "version_minor": 0
      },
      "text/plain": [
       "Bootstrapping groups:   0%|          | 0/1 [00:00<?, ?it/s]"
      ]
     },
     "metadata": {},
     "output_type": "display_data"
    },
    {
     "data": {
      "application/vnd.jupyter.widget-view+json": {
       "model_id": "d58f2719a9034345bcb2fa916989d506",
       "version_major": 2,
       "version_minor": 0
      },
      "text/plain": [
       "Bootstrap replications:   0%|          | 0/500 [00:00<?, ?it/s]"
      ]
     },
     "metadata": {},
     "output_type": "display_data"
    },
    {
     "name": "stdout",
     "output_type": "stream",
     "text": [
      "Sample size: 867 matches\n"
     ]
    },
    {
     "name": "stderr",
     "output_type": "stream",
     "text": [
      "C:\\Users\\amusali\\AppData\\Local\\Temp\\ipykernel_15340\\3025862808.py:108: FutureWarning: The provided callable <function std at 0x000002C08E6F4F40> is currently using DataFrameGroupBy.std. In a future version of pandas, the provided callable will be used directly. To keep current behavior pass the string \"std\" instead.\n",
      "  boot_se = boot_results.groupby(index_col).agg(np.std).reset_index()\n"
     ]
    },
    {
     "data": {
      "application/vnd.jupyter.widget-view+json": {
       "model_id": "0f3ef0c94f3a47b38a2d765155e83179",
       "version_major": 2,
       "version_minor": 0
      },
      "text/plain": [
       "Bootstrapping groups:   0%|          | 0/1 [00:00<?, ?it/s]"
      ]
     },
     "metadata": {},
     "output_type": "display_data"
    },
    {
     "data": {
      "application/vnd.jupyter.widget-view+json": {
       "model_id": "734afaf5736e4fcc9b34cd0add4eff12",
       "version_major": 2,
       "version_minor": 0
      },
      "text/plain": [
       "Bootstrap replications:   0%|          | 0/500 [00:00<?, ?it/s]"
      ]
     },
     "metadata": {},
     "output_type": "display_data"
    },
    {
     "name": "stdout",
     "output_type": "stream",
     "text": [
      "Sample size: 867 matches\n"
     ]
    },
    {
     "name": "stderr",
     "output_type": "stream",
     "text": [
      "C:\\Users\\amusali\\AppData\\Local\\Temp\\ipykernel_15340\\3025862808.py:108: FutureWarning: The provided callable <function std at 0x000002C08E6F4F40> is currently using DataFrameGroupBy.std. In a future version of pandas, the provided callable will be used directly. To keep current behavior pass the string \"std\" instead.\n",
      "  boot_se = boot_results.groupby(index_col).agg(np.std).reset_index()\n"
     ]
    },
    {
     "data": {
      "application/vnd.jupyter.widget-view+json": {
       "model_id": "c1a2762f1dfe4a1ebd00e569ec4b7d4b",
       "version_major": 2,
       "version_minor": 0
      },
      "text/plain": [
       "Bootstrapping groups:   0%|          | 0/1 [00:00<?, ?it/s]"
      ]
     },
     "metadata": {},
     "output_type": "display_data"
    },
    {
     "data": {
      "application/vnd.jupyter.widget-view+json": {
       "model_id": "6e61f86f6ca441e0b039e119d91b6e20",
       "version_major": 2,
       "version_minor": 0
      },
      "text/plain": [
       "Bootstrap replications:   0%|          | 0/500 [00:00<?, ?it/s]"
      ]
     },
     "metadata": {},
     "output_type": "display_data"
    },
    {
     "name": "stdout",
     "output_type": "stream",
     "text": [
      "Sample size: 867 matches\n"
     ]
    },
    {
     "name": "stderr",
     "output_type": "stream",
     "text": [
      "C:\\Users\\amusali\\AppData\\Local\\Temp\\ipykernel_15340\\3025862808.py:108: FutureWarning: The provided callable <function std at 0x000002C08E6F4F40> is currently using DataFrameGroupBy.std. In a future version of pandas, the provided callable will be used directly. To keep current behavior pass the string \"std\" instead.\n",
      "  boot_se = boot_results.groupby(index_col).agg(np.std).reset_index()\n"
     ]
    },
    {
     "data": {
      "application/vnd.jupyter.widget-view+json": {
       "model_id": "5cdb5cfbf17a4f41b3f9e62eef574728",
       "version_major": 2,
       "version_minor": 0
      },
      "text/plain": [
       "Bootstrapping groups:   0%|          | 0/1 [00:00<?, ?it/s]"
      ]
     },
     "metadata": {},
     "output_type": "display_data"
    },
    {
     "data": {
      "application/vnd.jupyter.widget-view+json": {
       "model_id": "a41c056d48e847e6aecc028d588bdd04",
       "version_major": 2,
       "version_minor": 0
      },
      "text/plain": [
       "Bootstrap replications:   0%|          | 0/500 [00:00<?, ?it/s]"
      ]
     },
     "metadata": {},
     "output_type": "display_data"
    },
    {
     "name": "stdout",
     "output_type": "stream",
     "text": [
      "Sample size: 867 matches\n"
     ]
    },
    {
     "name": "stderr",
     "output_type": "stream",
     "text": [
      "C:\\Users\\amusali\\AppData\\Local\\Temp\\ipykernel_15340\\3025862808.py:108: FutureWarning: The provided callable <function std at 0x000002C08E6F4F40> is currently using DataFrameGroupBy.std. In a future version of pandas, the provided callable will be used directly. To keep current behavior pass the string \"std\" instead.\n",
      "  boot_se = boot_results.groupby(index_col).agg(np.std).reset_index()\n"
     ]
    },
    {
     "data": {
      "application/vnd.jupyter.widget-view+json": {
       "model_id": "8e14e5c80d4c4b25be9bc2ea249535b5",
       "version_major": 2,
       "version_minor": 0
      },
      "text/plain": [
       "Bootstrapping groups:   0%|          | 0/1 [00:00<?, ?it/s]"
      ]
     },
     "metadata": {},
     "output_type": "display_data"
    },
    {
     "data": {
      "application/vnd.jupyter.widget-view+json": {
       "model_id": "fd22091817a943a6afaf3e2c90c502b9",
       "version_major": 2,
       "version_minor": 0
      },
      "text/plain": [
       "Bootstrap replications:   0%|          | 0/500 [00:00<?, ?it/s]"
      ]
     },
     "metadata": {},
     "output_type": "display_data"
    },
    {
     "name": "stderr",
     "output_type": "stream",
     "text": [
      "C:\\Users\\amusali\\AppData\\Local\\Temp\\ipykernel_15340\\3025862808.py:108: FutureWarning: The provided callable <function std at 0x000002C08E6F4F40> is currently using DataFrameGroupBy.std. In a future version of pandas, the provided callable will be used directly. To keep current behavior pass the string \"std\" instead.\n",
      "  boot_se = boot_results.groupby(index_col).agg(np.std).reset_index()\n"
     ]
    },
    {
     "name": "stdout",
     "output_type": "stream",
     "text": [
      "Sample size: 867 matches\n"
     ]
    },
    {
     "data": {
      "application/vnd.jupyter.widget-view+json": {
       "model_id": "bed506db99754a86a4b98b34f3936bdd",
       "version_major": 2,
       "version_minor": 0
      },
      "text/plain": [
       "Bootstrapping groups:   0%|          | 0/1 [00:00<?, ?it/s]"
      ]
     },
     "metadata": {},
     "output_type": "display_data"
    },
    {
     "data": {
      "application/vnd.jupyter.widget-view+json": {
       "model_id": "55822af74ad34695a86023255b2fb581",
       "version_major": 2,
       "version_minor": 0
      },
      "text/plain": [
       "Bootstrap replications:   0%|          | 0/500 [00:00<?, ?it/s]"
      ]
     },
     "metadata": {},
     "output_type": "display_data"
    },
    {
     "name": "stdout",
     "output_type": "stream",
     "text": [
      "Sample size: 867 matches\n"
     ]
    },
    {
     "name": "stderr",
     "output_type": "stream",
     "text": [
      "C:\\Users\\amusali\\AppData\\Local\\Temp\\ipykernel_15340\\3025862808.py:108: FutureWarning: The provided callable <function std at 0x000002C08E6F4F40> is currently using DataFrameGroupBy.std. In a future version of pandas, the provided callable will be used directly. To keep current behavior pass the string \"std\" instead.\n",
      "  boot_se = boot_results.groupby(index_col).agg(np.std).reset_index()\n"
     ]
    },
    {
     "data": {
      "application/vnd.jupyter.widget-view+json": {
       "model_id": "e4f14ada55da4a8c810d117ebe253635",
       "version_major": 2,
       "version_minor": 0
      },
      "text/plain": [
       "Bootstrapping groups:   0%|          | 0/1 [00:00<?, ?it/s]"
      ]
     },
     "metadata": {},
     "output_type": "display_data"
    },
    {
     "data": {
      "application/vnd.jupyter.widget-view+json": {
       "model_id": "9c628db0a99e4ca78c01aa3ac01767c6",
       "version_major": 2,
       "version_minor": 0
      },
      "text/plain": [
       "Bootstrap replications:   0%|          | 0/500 [00:00<?, ?it/s]"
      ]
     },
     "metadata": {},
     "output_type": "display_data"
    },
    {
     "name": "stderr",
     "output_type": "stream",
     "text": [
      "C:\\Users\\amusali\\AppData\\Local\\Temp\\ipykernel_15340\\3025862808.py:108: FutureWarning: The provided callable <function std at 0x000002C08E6F4F40> is currently using DataFrameGroupBy.std. In a future version of pandas, the provided callable will be used directly. To keep current behavior pass the string \"std\" instead.\n",
      "  boot_se = boot_results.groupby(index_col).agg(np.std).reset_index()\n"
     ]
    },
    {
     "name": "stdout",
     "output_type": "stream",
     "text": [
      "Sample size: 867 matches\n"
     ]
    },
    {
     "data": {
      "application/vnd.jupyter.widget-view+json": {
       "model_id": "166d4adae396441f99dca9bbe57eac97",
       "version_major": 2,
       "version_minor": 0
      },
      "text/plain": [
       "Bootstrapping groups:   0%|          | 0/1 [00:00<?, ?it/s]"
      ]
     },
     "metadata": {},
     "output_type": "display_data"
    },
    {
     "data": {
      "application/vnd.jupyter.widget-view+json": {
       "model_id": "78fb9b83785b4957a76892a931732d02",
       "version_major": 2,
       "version_minor": 0
      },
      "text/plain": [
       "Bootstrap replications:   0%|          | 0/500 [00:00<?, ?it/s]"
      ]
     },
     "metadata": {},
     "output_type": "display_data"
    },
    {
     "name": "stdout",
     "output_type": "stream",
     "text": [
      "Sample size: 867 matches\n"
     ]
    },
    {
     "name": "stderr",
     "output_type": "stream",
     "text": [
      "C:\\Users\\amusali\\AppData\\Local\\Temp\\ipykernel_15340\\3025862808.py:108: FutureWarning: The provided callable <function std at 0x000002C08E6F4F40> is currently using DataFrameGroupBy.std. In a future version of pandas, the provided callable will be used directly. To keep current behavior pass the string \"std\" instead.\n",
      "  boot_se = boot_results.groupby(index_col).agg(np.std).reset_index()\n"
     ]
    },
    {
     "data": {
      "application/vnd.jupyter.widget-view+json": {
       "model_id": "695227a2b3ae466192e514d0f191ee7c",
       "version_major": 2,
       "version_minor": 0
      },
      "text/plain": [
       "Bootstrapping groups:   0%|          | 0/1 [00:00<?, ?it/s]"
      ]
     },
     "metadata": {},
     "output_type": "display_data"
    },
    {
     "data": {
      "application/vnd.jupyter.widget-view+json": {
       "model_id": "0905ab7fc37f45f4bf8c1b8a74b31778",
       "version_major": 2,
       "version_minor": 0
      },
      "text/plain": [
       "Bootstrap replications:   0%|          | 0/500 [00:00<?, ?it/s]"
      ]
     },
     "metadata": {},
     "output_type": "display_data"
    },
    {
     "name": "stderr",
     "output_type": "stream",
     "text": [
      "C:\\Users\\amusali\\AppData\\Local\\Temp\\ipykernel_15340\\3025862808.py:108: FutureWarning: The provided callable <function std at 0x000002C08E6F4F40> is currently using DataFrameGroupBy.std. In a future version of pandas, the provided callable will be used directly. To keep current behavior pass the string \"std\" instead.\n",
      "  boot_se = boot_results.groupby(index_col).agg(np.std).reset_index()\n"
     ]
    },
    {
     "name": "stdout",
     "output_type": "stream",
     "text": [
      "Sample size: 867 matches\n"
     ]
    },
    {
     "data": {
      "application/vnd.jupyter.widget-view+json": {
       "model_id": "be7095ee3bde41a2b51eaafc155104ee",
       "version_major": 2,
       "version_minor": 0
      },
      "text/plain": [
       "Bootstrapping groups:   0%|          | 0/1 [00:00<?, ?it/s]"
      ]
     },
     "metadata": {},
     "output_type": "display_data"
    },
    {
     "data": {
      "application/vnd.jupyter.widget-view+json": {
       "model_id": "124b3053305d4a88a174dab96b6ec395",
       "version_major": 2,
       "version_minor": 0
      },
      "text/plain": [
       "Bootstrap replications:   0%|          | 0/500 [00:00<?, ?it/s]"
      ]
     },
     "metadata": {},
     "output_type": "display_data"
    },
    {
     "name": "stdout",
     "output_type": "stream",
     "text": [
      "Sample size: 867 matches\n"
     ]
    },
    {
     "name": "stderr",
     "output_type": "stream",
     "text": [
      "C:\\Users\\amusali\\AppData\\Local\\Temp\\ipykernel_15340\\3025862808.py:108: FutureWarning: The provided callable <function std at 0x000002C08E6F4F40> is currently using DataFrameGroupBy.std. In a future version of pandas, the provided callable will be used directly. To keep current behavior pass the string \"std\" instead.\n",
      "  boot_se = boot_results.groupby(index_col).agg(np.std).reset_index()\n"
     ]
    },
    {
     "data": {
      "application/vnd.jupyter.widget-view+json": {
       "model_id": "d854b9cc01f64a1aa155d4e03c11848d",
       "version_major": 2,
       "version_minor": 0
      },
      "text/plain": [
       "Bootstrapping groups:   0%|          | 0/1 [00:00<?, ?it/s]"
      ]
     },
     "metadata": {},
     "output_type": "display_data"
    },
    {
     "data": {
      "application/vnd.jupyter.widget-view+json": {
       "model_id": "c4928c6355f748d2bf6ee7b958413d44",
       "version_major": 2,
       "version_minor": 0
      },
      "text/plain": [
       "Bootstrap replications:   0%|          | 0/500 [00:00<?, ?it/s]"
      ]
     },
     "metadata": {},
     "output_type": "display_data"
    },
    {
     "name": "stderr",
     "output_type": "stream",
     "text": [
      "C:\\Users\\amusali\\AppData\\Local\\Temp\\ipykernel_15340\\3025862808.py:108: FutureWarning: The provided callable <function std at 0x000002C08E6F4F40> is currently using DataFrameGroupBy.std. In a future version of pandas, the provided callable will be used directly. To keep current behavior pass the string \"std\" instead.\n",
      "  boot_se = boot_results.groupby(index_col).agg(np.std).reset_index()\n"
     ]
    },
    {
     "data": {
      "application/vnd.jupyter.widget-view+json": {
       "model_id": "42790b603ba04350b5ec3a9f7c903a84",
       "version_major": 2,
       "version_minor": 0
      },
      "text/plain": [
       "Processing lambda groups:   0%|          | 0/21 [00:00<?, ?it/s]"
      ]
     },
     "metadata": {},
     "output_type": "display_data"
    },
    {
     "name": "stdout",
     "output_type": "stream",
     "text": [
      "Sample size: 867 matches\n"
     ]
    },
    {
     "data": {
      "application/vnd.jupyter.widget-view+json": {
       "model_id": "78dd150535f94d109a8b073e4fc72053",
       "version_major": 2,
       "version_minor": 0
      },
      "text/plain": [
       "Bootstrapping groups:   0%|          | 0/1 [00:00<?, ?it/s]"
      ]
     },
     "metadata": {},
     "output_type": "display_data"
    },
    {
     "data": {
      "application/vnd.jupyter.widget-view+json": {
       "model_id": "36aa82f593fe4435a673855a237cbf70",
       "version_major": 2,
       "version_minor": 0
      },
      "text/plain": [
       "Bootstrap replications:   0%|          | 0/500 [00:00<?, ?it/s]"
      ]
     },
     "metadata": {},
     "output_type": "display_data"
    },
    {
     "name": "stdout",
     "output_type": "stream",
     "text": [
      "Sample size: 867 matches\n"
     ]
    },
    {
     "name": "stderr",
     "output_type": "stream",
     "text": [
      "C:\\Users\\amusali\\AppData\\Local\\Temp\\ipykernel_15340\\3025862808.py:108: FutureWarning: The provided callable <function std at 0x000002C08E6F4F40> is currently using DataFrameGroupBy.std. In a future version of pandas, the provided callable will be used directly. To keep current behavior pass the string \"std\" instead.\n",
      "  boot_se = boot_results.groupby(index_col).agg(np.std).reset_index()\n"
     ]
    },
    {
     "data": {
      "application/vnd.jupyter.widget-view+json": {
       "model_id": "79181e5c04d34d0789690e7ff1c5f6b8",
       "version_major": 2,
       "version_minor": 0
      },
      "text/plain": [
       "Bootstrapping groups:   0%|          | 0/1 [00:00<?, ?it/s]"
      ]
     },
     "metadata": {},
     "output_type": "display_data"
    },
    {
     "data": {
      "application/vnd.jupyter.widget-view+json": {
       "model_id": "007bd6b1b7e2428b9d0a5565b49a6f09",
       "version_major": 2,
       "version_minor": 0
      },
      "text/plain": [
       "Bootstrap replications:   0%|          | 0/500 [00:00<?, ?it/s]"
      ]
     },
     "metadata": {},
     "output_type": "display_data"
    },
    {
     "name": "stdout",
     "output_type": "stream",
     "text": [
      "Sample size: 867 matches\n"
     ]
    },
    {
     "name": "stderr",
     "output_type": "stream",
     "text": [
      "C:\\Users\\amusali\\AppData\\Local\\Temp\\ipykernel_15340\\3025862808.py:108: FutureWarning: The provided callable <function std at 0x000002C08E6F4F40> is currently using DataFrameGroupBy.std. In a future version of pandas, the provided callable will be used directly. To keep current behavior pass the string \"std\" instead.\n",
      "  boot_se = boot_results.groupby(index_col).agg(np.std).reset_index()\n"
     ]
    },
    {
     "data": {
      "application/vnd.jupyter.widget-view+json": {
       "model_id": "6c18b74ccf5f404db2517b8d7cd373a7",
       "version_major": 2,
       "version_minor": 0
      },
      "text/plain": [
       "Bootstrapping groups:   0%|          | 0/1 [00:00<?, ?it/s]"
      ]
     },
     "metadata": {},
     "output_type": "display_data"
    },
    {
     "data": {
      "application/vnd.jupyter.widget-view+json": {
       "model_id": "b48b8d88bf2a4be7bfbb0300a863649c",
       "version_major": 2,
       "version_minor": 0
      },
      "text/plain": [
       "Bootstrap replications:   0%|          | 0/500 [00:00<?, ?it/s]"
      ]
     },
     "metadata": {},
     "output_type": "display_data"
    },
    {
     "name": "stdout",
     "output_type": "stream",
     "text": [
      "Sample size: 867 matches\n"
     ]
    },
    {
     "name": "stderr",
     "output_type": "stream",
     "text": [
      "C:\\Users\\amusali\\AppData\\Local\\Temp\\ipykernel_15340\\3025862808.py:108: FutureWarning: The provided callable <function std at 0x000002C08E6F4F40> is currently using DataFrameGroupBy.std. In a future version of pandas, the provided callable will be used directly. To keep current behavior pass the string \"std\" instead.\n",
      "  boot_se = boot_results.groupby(index_col).agg(np.std).reset_index()\n"
     ]
    },
    {
     "data": {
      "application/vnd.jupyter.widget-view+json": {
       "model_id": "1e8ad8ac24ee45c2832432ae74cfb42d",
       "version_major": 2,
       "version_minor": 0
      },
      "text/plain": [
       "Bootstrapping groups:   0%|          | 0/1 [00:00<?, ?it/s]"
      ]
     },
     "metadata": {},
     "output_type": "display_data"
    },
    {
     "data": {
      "application/vnd.jupyter.widget-view+json": {
       "model_id": "b08486e4b8cd4a93bace26949fee8ade",
       "version_major": 2,
       "version_minor": 0
      },
      "text/plain": [
       "Bootstrap replications:   0%|          | 0/500 [00:00<?, ?it/s]"
      ]
     },
     "metadata": {},
     "output_type": "display_data"
    },
    {
     "name": "stdout",
     "output_type": "stream",
     "text": [
      "Sample size: 867 matches\n"
     ]
    },
    {
     "name": "stderr",
     "output_type": "stream",
     "text": [
      "C:\\Users\\amusali\\AppData\\Local\\Temp\\ipykernel_15340\\3025862808.py:108: FutureWarning: The provided callable <function std at 0x000002C08E6F4F40> is currently using DataFrameGroupBy.std. In a future version of pandas, the provided callable will be used directly. To keep current behavior pass the string \"std\" instead.\n",
      "  boot_se = boot_results.groupby(index_col).agg(np.std).reset_index()\n"
     ]
    },
    {
     "data": {
      "application/vnd.jupyter.widget-view+json": {
       "model_id": "b528c0cdc25349afba2316cb1d4263b4",
       "version_major": 2,
       "version_minor": 0
      },
      "text/plain": [
       "Bootstrapping groups:   0%|          | 0/1 [00:00<?, ?it/s]"
      ]
     },
     "metadata": {},
     "output_type": "display_data"
    },
    {
     "data": {
      "application/vnd.jupyter.widget-view+json": {
       "model_id": "dc3ce5ce67f54cd3aab9254a7194fff1",
       "version_major": 2,
       "version_minor": 0
      },
      "text/plain": [
       "Bootstrap replications:   0%|          | 0/500 [00:00<?, ?it/s]"
      ]
     },
     "metadata": {},
     "output_type": "display_data"
    },
    {
     "name": "stdout",
     "output_type": "stream",
     "text": [
      "Sample size: 867 matches\n"
     ]
    },
    {
     "name": "stderr",
     "output_type": "stream",
     "text": [
      "C:\\Users\\amusali\\AppData\\Local\\Temp\\ipykernel_15340\\3025862808.py:108: FutureWarning: The provided callable <function std at 0x000002C08E6F4F40> is currently using DataFrameGroupBy.std. In a future version of pandas, the provided callable will be used directly. To keep current behavior pass the string \"std\" instead.\n",
      "  boot_se = boot_results.groupby(index_col).agg(np.std).reset_index()\n"
     ]
    },
    {
     "data": {
      "application/vnd.jupyter.widget-view+json": {
       "model_id": "3ca392038c994dfd9d652396167d6df5",
       "version_major": 2,
       "version_minor": 0
      },
      "text/plain": [
       "Bootstrapping groups:   0%|          | 0/1 [00:00<?, ?it/s]"
      ]
     },
     "metadata": {},
     "output_type": "display_data"
    },
    {
     "data": {
      "application/vnd.jupyter.widget-view+json": {
       "model_id": "19b7efe6054d41e0bd2b7acc75765347",
       "version_major": 2,
       "version_minor": 0
      },
      "text/plain": [
       "Bootstrap replications:   0%|          | 0/500 [00:00<?, ?it/s]"
      ]
     },
     "metadata": {},
     "output_type": "display_data"
    },
    {
     "name": "stdout",
     "output_type": "stream",
     "text": [
      "Sample size: 867 matches\n"
     ]
    },
    {
     "name": "stderr",
     "output_type": "stream",
     "text": [
      "C:\\Users\\amusali\\AppData\\Local\\Temp\\ipykernel_15340\\3025862808.py:108: FutureWarning: The provided callable <function std at 0x000002C08E6F4F40> is currently using DataFrameGroupBy.std. In a future version of pandas, the provided callable will be used directly. To keep current behavior pass the string \"std\" instead.\n",
      "  boot_se = boot_results.groupby(index_col).agg(np.std).reset_index()\n"
     ]
    },
    {
     "data": {
      "application/vnd.jupyter.widget-view+json": {
       "model_id": "dd33b77ed93d4f06abe537baf842f20f",
       "version_major": 2,
       "version_minor": 0
      },
      "text/plain": [
       "Bootstrapping groups:   0%|          | 0/1 [00:00<?, ?it/s]"
      ]
     },
     "metadata": {},
     "output_type": "display_data"
    },
    {
     "data": {
      "application/vnd.jupyter.widget-view+json": {
       "model_id": "9ca43fe744dd4ebaafa2aa34c1f7a2a4",
       "version_major": 2,
       "version_minor": 0
      },
      "text/plain": [
       "Bootstrap replications:   0%|          | 0/500 [00:00<?, ?it/s]"
      ]
     },
     "metadata": {},
     "output_type": "display_data"
    },
    {
     "name": "stdout",
     "output_type": "stream",
     "text": [
      "Sample size: 867 matches\n"
     ]
    },
    {
     "name": "stderr",
     "output_type": "stream",
     "text": [
      "C:\\Users\\amusali\\AppData\\Local\\Temp\\ipykernel_15340\\3025862808.py:108: FutureWarning: The provided callable <function std at 0x000002C08E6F4F40> is currently using DataFrameGroupBy.std. In a future version of pandas, the provided callable will be used directly. To keep current behavior pass the string \"std\" instead.\n",
      "  boot_se = boot_results.groupby(index_col).agg(np.std).reset_index()\n"
     ]
    },
    {
     "data": {
      "application/vnd.jupyter.widget-view+json": {
       "model_id": "4f76568535c14656aa24879889d61915",
       "version_major": 2,
       "version_minor": 0
      },
      "text/plain": [
       "Bootstrapping groups:   0%|          | 0/1 [00:00<?, ?it/s]"
      ]
     },
     "metadata": {},
     "output_type": "display_data"
    },
    {
     "data": {
      "application/vnd.jupyter.widget-view+json": {
       "model_id": "fad64f0a43434b96a512dc90fa6cf64d",
       "version_major": 2,
       "version_minor": 0
      },
      "text/plain": [
       "Bootstrap replications:   0%|          | 0/500 [00:00<?, ?it/s]"
      ]
     },
     "metadata": {},
     "output_type": "display_data"
    },
    {
     "name": "stdout",
     "output_type": "stream",
     "text": [
      "Sample size: 867 matches\n"
     ]
    },
    {
     "name": "stderr",
     "output_type": "stream",
     "text": [
      "C:\\Users\\amusali\\AppData\\Local\\Temp\\ipykernel_15340\\3025862808.py:108: FutureWarning: The provided callable <function std at 0x000002C08E6F4F40> is currently using DataFrameGroupBy.std. In a future version of pandas, the provided callable will be used directly. To keep current behavior pass the string \"std\" instead.\n",
      "  boot_se = boot_results.groupby(index_col).agg(np.std).reset_index()\n"
     ]
    },
    {
     "data": {
      "application/vnd.jupyter.widget-view+json": {
       "model_id": "2b74780d92ea4cfeb45c4d515c03b87a",
       "version_major": 2,
       "version_minor": 0
      },
      "text/plain": [
       "Bootstrapping groups:   0%|          | 0/1 [00:00<?, ?it/s]"
      ]
     },
     "metadata": {},
     "output_type": "display_data"
    },
    {
     "data": {
      "application/vnd.jupyter.widget-view+json": {
       "model_id": "81a1c4d278de4c74a96a0417955d61d4",
       "version_major": 2,
       "version_minor": 0
      },
      "text/plain": [
       "Bootstrap replications:   0%|          | 0/500 [00:00<?, ?it/s]"
      ]
     },
     "metadata": {},
     "output_type": "display_data"
    },
    {
     "name": "stdout",
     "output_type": "stream",
     "text": [
      "Sample size: 867 matches\n"
     ]
    },
    {
     "name": "stderr",
     "output_type": "stream",
     "text": [
      "C:\\Users\\amusali\\AppData\\Local\\Temp\\ipykernel_15340\\3025862808.py:108: FutureWarning: The provided callable <function std at 0x000002C08E6F4F40> is currently using DataFrameGroupBy.std. In a future version of pandas, the provided callable will be used directly. To keep current behavior pass the string \"std\" instead.\n",
      "  boot_se = boot_results.groupby(index_col).agg(np.std).reset_index()\n"
     ]
    },
    {
     "data": {
      "application/vnd.jupyter.widget-view+json": {
       "model_id": "92e4163ec57a420a81845ceb7bc8e7d3",
       "version_major": 2,
       "version_minor": 0
      },
      "text/plain": [
       "Bootstrapping groups:   0%|          | 0/1 [00:00<?, ?it/s]"
      ]
     },
     "metadata": {},
     "output_type": "display_data"
    },
    {
     "data": {
      "application/vnd.jupyter.widget-view+json": {
       "model_id": "3ab75a92dc6549aa8a9572ccfc41426d",
       "version_major": 2,
       "version_minor": 0
      },
      "text/plain": [
       "Bootstrap replications:   0%|          | 0/500 [00:00<?, ?it/s]"
      ]
     },
     "metadata": {},
     "output_type": "display_data"
    },
    {
     "name": "stdout",
     "output_type": "stream",
     "text": [
      "Sample size: 867 matches\n"
     ]
    },
    {
     "name": "stderr",
     "output_type": "stream",
     "text": [
      "C:\\Users\\amusali\\AppData\\Local\\Temp\\ipykernel_15340\\3025862808.py:108: FutureWarning: The provided callable <function std at 0x000002C08E6F4F40> is currently using DataFrameGroupBy.std. In a future version of pandas, the provided callable will be used directly. To keep current behavior pass the string \"std\" instead.\n",
      "  boot_se = boot_results.groupby(index_col).agg(np.std).reset_index()\n"
     ]
    },
    {
     "data": {
      "application/vnd.jupyter.widget-view+json": {
       "model_id": "74fbd9fb202d45d8a428084f2234d508",
       "version_major": 2,
       "version_minor": 0
      },
      "text/plain": [
       "Bootstrapping groups:   0%|          | 0/1 [00:00<?, ?it/s]"
      ]
     },
     "metadata": {},
     "output_type": "display_data"
    },
    {
     "data": {
      "application/vnd.jupyter.widget-view+json": {
       "model_id": "1b9086f6a77e437ebb5d894dc9c1ef77",
       "version_major": 2,
       "version_minor": 0
      },
      "text/plain": [
       "Bootstrap replications:   0%|          | 0/500 [00:00<?, ?it/s]"
      ]
     },
     "metadata": {},
     "output_type": "display_data"
    },
    {
     "name": "stdout",
     "output_type": "stream",
     "text": [
      "Sample size: 867 matches\n"
     ]
    },
    {
     "name": "stderr",
     "output_type": "stream",
     "text": [
      "C:\\Users\\amusali\\AppData\\Local\\Temp\\ipykernel_15340\\3025862808.py:108: FutureWarning: The provided callable <function std at 0x000002C08E6F4F40> is currently using DataFrameGroupBy.std. In a future version of pandas, the provided callable will be used directly. To keep current behavior pass the string \"std\" instead.\n",
      "  boot_se = boot_results.groupby(index_col).agg(np.std).reset_index()\n"
     ]
    },
    {
     "data": {
      "application/vnd.jupyter.widget-view+json": {
       "model_id": "2e5691119bb74b998bcaab95875bae6d",
       "version_major": 2,
       "version_minor": 0
      },
      "text/plain": [
       "Bootstrapping groups:   0%|          | 0/1 [00:00<?, ?it/s]"
      ]
     },
     "metadata": {},
     "output_type": "display_data"
    },
    {
     "data": {
      "application/vnd.jupyter.widget-view+json": {
       "model_id": "caf3b7c2812b4da39fba1f7e35bc567a",
       "version_major": 2,
       "version_minor": 0
      },
      "text/plain": [
       "Bootstrap replications:   0%|          | 0/500 [00:00<?, ?it/s]"
      ]
     },
     "metadata": {},
     "output_type": "display_data"
    },
    {
     "name": "stdout",
     "output_type": "stream",
     "text": [
      "Sample size: 867 matches\n"
     ]
    },
    {
     "name": "stderr",
     "output_type": "stream",
     "text": [
      "C:\\Users\\amusali\\AppData\\Local\\Temp\\ipykernel_15340\\3025862808.py:108: FutureWarning: The provided callable <function std at 0x000002C08E6F4F40> is currently using DataFrameGroupBy.std. In a future version of pandas, the provided callable will be used directly. To keep current behavior pass the string \"std\" instead.\n",
      "  boot_se = boot_results.groupby(index_col).agg(np.std).reset_index()\n"
     ]
    },
    {
     "data": {
      "application/vnd.jupyter.widget-view+json": {
       "model_id": "e3298fe416ef4e0c881f6752e28dac42",
       "version_major": 2,
       "version_minor": 0
      },
      "text/plain": [
       "Bootstrapping groups:   0%|          | 0/1 [00:00<?, ?it/s]"
      ]
     },
     "metadata": {},
     "output_type": "display_data"
    },
    {
     "data": {
      "application/vnd.jupyter.widget-view+json": {
       "model_id": "e7e33f78cca048059d674bd182446768",
       "version_major": 2,
       "version_minor": 0
      },
      "text/plain": [
       "Bootstrap replications:   0%|          | 0/500 [00:00<?, ?it/s]"
      ]
     },
     "metadata": {},
     "output_type": "display_data"
    },
    {
     "name": "stdout",
     "output_type": "stream",
     "text": [
      "Sample size: 867 matches\n"
     ]
    },
    {
     "name": "stderr",
     "output_type": "stream",
     "text": [
      "C:\\Users\\amusali\\AppData\\Local\\Temp\\ipykernel_15340\\3025862808.py:108: FutureWarning: The provided callable <function std at 0x000002C08E6F4F40> is currently using DataFrameGroupBy.std. In a future version of pandas, the provided callable will be used directly. To keep current behavior pass the string \"std\" instead.\n",
      "  boot_se = boot_results.groupby(index_col).agg(np.std).reset_index()\n"
     ]
    },
    {
     "data": {
      "application/vnd.jupyter.widget-view+json": {
       "model_id": "167fff80581b4036a96605aa77b1e67d",
       "version_major": 2,
       "version_minor": 0
      },
      "text/plain": [
       "Bootstrapping groups:   0%|          | 0/1 [00:00<?, ?it/s]"
      ]
     },
     "metadata": {},
     "output_type": "display_data"
    },
    {
     "data": {
      "application/vnd.jupyter.widget-view+json": {
       "model_id": "3251d64e59594b61ad1d5dd24ae4977c",
       "version_major": 2,
       "version_minor": 0
      },
      "text/plain": [
       "Bootstrap replications:   0%|          | 0/500 [00:00<?, ?it/s]"
      ]
     },
     "metadata": {},
     "output_type": "display_data"
    },
    {
     "name": "stdout",
     "output_type": "stream",
     "text": [
      "Sample size: 867 matches\n"
     ]
    },
    {
     "name": "stderr",
     "output_type": "stream",
     "text": [
      "C:\\Users\\amusali\\AppData\\Local\\Temp\\ipykernel_15340\\3025862808.py:108: FutureWarning: The provided callable <function std at 0x000002C08E6F4F40> is currently using DataFrameGroupBy.std. In a future version of pandas, the provided callable will be used directly. To keep current behavior pass the string \"std\" instead.\n",
      "  boot_se = boot_results.groupby(index_col).agg(np.std).reset_index()\n"
     ]
    },
    {
     "data": {
      "application/vnd.jupyter.widget-view+json": {
       "model_id": "8e9189ac1172488f876c4f3f30080816",
       "version_major": 2,
       "version_minor": 0
      },
      "text/plain": [
       "Bootstrapping groups:   0%|          | 0/1 [00:00<?, ?it/s]"
      ]
     },
     "metadata": {},
     "output_type": "display_data"
    },
    {
     "data": {
      "application/vnd.jupyter.widget-view+json": {
       "model_id": "8dfa7ca281514325b0f97b2f33ba012f",
       "version_major": 2,
       "version_minor": 0
      },
      "text/plain": [
       "Bootstrap replications:   0%|          | 0/500 [00:00<?, ?it/s]"
      ]
     },
     "metadata": {},
     "output_type": "display_data"
    },
    {
     "name": "stderr",
     "output_type": "stream",
     "text": [
      "C:\\Users\\amusali\\AppData\\Local\\Temp\\ipykernel_15340\\3025862808.py:108: FutureWarning: The provided callable <function std at 0x000002C08E6F4F40> is currently using DataFrameGroupBy.std. In a future version of pandas, the provided callable will be used directly. To keep current behavior pass the string \"std\" instead.\n",
      "  boot_se = boot_results.groupby(index_col).agg(np.std).reset_index()\n"
     ]
    },
    {
     "name": "stdout",
     "output_type": "stream",
     "text": [
      "Sample size: 867 matches\n"
     ]
    },
    {
     "data": {
      "application/vnd.jupyter.widget-view+json": {
       "model_id": "209847b694d044daa6c07e1708a58a58",
       "version_major": 2,
       "version_minor": 0
      },
      "text/plain": [
       "Bootstrapping groups:   0%|          | 0/1 [00:00<?, ?it/s]"
      ]
     },
     "metadata": {},
     "output_type": "display_data"
    },
    {
     "data": {
      "application/vnd.jupyter.widget-view+json": {
       "model_id": "9e917fd987a74106b16483f387f5348e",
       "version_major": 2,
       "version_minor": 0
      },
      "text/plain": [
       "Bootstrap replications:   0%|          | 0/500 [00:00<?, ?it/s]"
      ]
     },
     "metadata": {},
     "output_type": "display_data"
    },
    {
     "name": "stderr",
     "output_type": "stream",
     "text": [
      "C:\\Users\\amusali\\AppData\\Local\\Temp\\ipykernel_15340\\3025862808.py:108: FutureWarning: The provided callable <function std at 0x000002C08E6F4F40> is currently using DataFrameGroupBy.std. In a future version of pandas, the provided callable will be used directly. To keep current behavior pass the string \"std\" instead.\n",
      "  boot_se = boot_results.groupby(index_col).agg(np.std).reset_index()\n"
     ]
    },
    {
     "name": "stdout",
     "output_type": "stream",
     "text": [
      "Sample size: 867 matches\n"
     ]
    },
    {
     "data": {
      "application/vnd.jupyter.widget-view+json": {
       "model_id": "cd2d3f008de449ab97ae5eb80ce3f95f",
       "version_major": 2,
       "version_minor": 0
      },
      "text/plain": [
       "Bootstrapping groups:   0%|          | 0/1 [00:00<?, ?it/s]"
      ]
     },
     "metadata": {},
     "output_type": "display_data"
    },
    {
     "data": {
      "application/vnd.jupyter.widget-view+json": {
       "model_id": "efb6ebf6876f41cda6edf5011e8d3c0b",
       "version_major": 2,
       "version_minor": 0
      },
      "text/plain": [
       "Bootstrap replications:   0%|          | 0/500 [00:00<?, ?it/s]"
      ]
     },
     "metadata": {},
     "output_type": "display_data"
    },
    {
     "name": "stderr",
     "output_type": "stream",
     "text": [
      "C:\\Users\\amusali\\AppData\\Local\\Temp\\ipykernel_15340\\3025862808.py:108: FutureWarning: The provided callable <function std at 0x000002C08E6F4F40> is currently using DataFrameGroupBy.std. In a future version of pandas, the provided callable will be used directly. To keep current behavior pass the string \"std\" instead.\n",
      "  boot_se = boot_results.groupby(index_col).agg(np.std).reset_index()\n"
     ]
    },
    {
     "name": "stdout",
     "output_type": "stream",
     "text": [
      "Sample size: 867 matches\n"
     ]
    },
    {
     "data": {
      "application/vnd.jupyter.widget-view+json": {
       "model_id": "6ecc9f782dc247e9b84816d430529882",
       "version_major": 2,
       "version_minor": 0
      },
      "text/plain": [
       "Bootstrapping groups:   0%|          | 0/1 [00:00<?, ?it/s]"
      ]
     },
     "metadata": {},
     "output_type": "display_data"
    },
    {
     "data": {
      "application/vnd.jupyter.widget-view+json": {
       "model_id": "14050e2384b2429d906f8f1cb2098540",
       "version_major": 2,
       "version_minor": 0
      },
      "text/plain": [
       "Bootstrap replications:   0%|          | 0/500 [00:00<?, ?it/s]"
      ]
     },
     "metadata": {},
     "output_type": "display_data"
    },
    {
     "name": "stderr",
     "output_type": "stream",
     "text": [
      "C:\\Users\\amusali\\AppData\\Local\\Temp\\ipykernel_15340\\3025862808.py:108: FutureWarning: The provided callable <function std at 0x000002C08E6F4F40> is currently using DataFrameGroupBy.std. In a future version of pandas, the provided callable will be used directly. To keep current behavior pass the string \"std\" instead.\n",
      "  boot_se = boot_results.groupby(index_col).agg(np.std).reset_index()\n"
     ]
    },
    {
     "name": "stdout",
     "output_type": "stream",
     "text": [
      "Sample size: 867 matches\n"
     ]
    },
    {
     "data": {
      "application/vnd.jupyter.widget-view+json": {
       "model_id": "b8f96a256b394dd9926e8a805a083798",
       "version_major": 2,
       "version_minor": 0
      },
      "text/plain": [
       "Bootstrapping groups:   0%|          | 0/1 [00:00<?, ?it/s]"
      ]
     },
     "metadata": {},
     "output_type": "display_data"
    },
    {
     "data": {
      "application/vnd.jupyter.widget-view+json": {
       "model_id": "6f879fb2a6ae40799371be99ad684f3d",
       "version_major": 2,
       "version_minor": 0
      },
      "text/plain": [
       "Bootstrap replications:   0%|          | 0/500 [00:00<?, ?it/s]"
      ]
     },
     "metadata": {},
     "output_type": "display_data"
    },
    {
     "name": "stderr",
     "output_type": "stream",
     "text": [
      "C:\\Users\\amusali\\AppData\\Local\\Temp\\ipykernel_15340\\3025862808.py:108: FutureWarning: The provided callable <function std at 0x000002C08E6F4F40> is currently using DataFrameGroupBy.std. In a future version of pandas, the provided callable will be used directly. To keep current behavior pass the string \"std\" instead.\n",
      "  boot_se = boot_results.groupby(index_col).agg(np.std).reset_index()\n"
     ]
    },
    {
     "name": "stdout",
     "output_type": "stream",
     "text": [
      "Sample size: 867 matches\n"
     ]
    },
    {
     "data": {
      "application/vnd.jupyter.widget-view+json": {
       "model_id": "beea65a7ce5f4f1ab902191116558004",
       "version_major": 2,
       "version_minor": 0
      },
      "text/plain": [
       "Bootstrapping groups:   0%|          | 0/1 [00:00<?, ?it/s]"
      ]
     },
     "metadata": {},
     "output_type": "display_data"
    },
    {
     "data": {
      "application/vnd.jupyter.widget-view+json": {
       "model_id": "d071b86b90c049e1b5bb33c80c864c75",
       "version_major": 2,
       "version_minor": 0
      },
      "text/plain": [
       "Bootstrap replications:   0%|          | 0/500 [00:00<?, ?it/s]"
      ]
     },
     "metadata": {},
     "output_type": "display_data"
    },
    {
     "name": "stdout",
     "output_type": "stream",
     "text": [
      "Sample size: 867 matches\n"
     ]
    },
    {
     "name": "stderr",
     "output_type": "stream",
     "text": [
      "C:\\Users\\amusali\\AppData\\Local\\Temp\\ipykernel_15340\\3025862808.py:108: FutureWarning: The provided callable <function std at 0x000002C08E6F4F40> is currently using DataFrameGroupBy.std. In a future version of pandas, the provided callable will be used directly. To keep current behavior pass the string \"std\" instead.\n",
      "  boot_se = boot_results.groupby(index_col).agg(np.std).reset_index()\n"
     ]
    },
    {
     "data": {
      "application/vnd.jupyter.widget-view+json": {
       "model_id": "fc0d285002c54e1eb1d2ed94a48cc86a",
       "version_major": 2,
       "version_minor": 0
      },
      "text/plain": [
       "Bootstrapping groups:   0%|          | 0/1 [00:00<?, ?it/s]"
      ]
     },
     "metadata": {},
     "output_type": "display_data"
    },
    {
     "data": {
      "application/vnd.jupyter.widget-view+json": {
       "model_id": "a35e32e3163a4a58ace4e3784f9340e3",
       "version_major": 2,
       "version_minor": 0
      },
      "text/plain": [
       "Bootstrap replications:   0%|          | 0/500 [00:00<?, ?it/s]"
      ]
     },
     "metadata": {},
     "output_type": "display_data"
    },
    {
     "name": "stderr",
     "output_type": "stream",
     "text": [
      "C:\\Users\\amusali\\AppData\\Local\\Temp\\ipykernel_15340\\3025862808.py:108: FutureWarning: The provided callable <function std at 0x000002C08E6F4F40> is currently using DataFrameGroupBy.std. In a future version of pandas, the provided callable will be used directly. To keep current behavior pass the string \"std\" instead.\n",
      "  boot_se = boot_results.groupby(index_col).agg(np.std).reset_index()\n"
     ]
    },
    {
     "data": {
      "application/vnd.jupyter.widget-view+json": {
       "model_id": "8f125ac491b9406eab4db513e383bdd4",
       "version_major": 2,
       "version_minor": 0
      },
      "text/plain": [
       "Processing lambda groups:   0%|          | 0/21 [00:00<?, ?it/s]"
      ]
     },
     "metadata": {},
     "output_type": "display_data"
    },
    {
     "name": "stdout",
     "output_type": "stream",
     "text": [
      "Sample size: 867 matches\n"
     ]
    },
    {
     "data": {
      "application/vnd.jupyter.widget-view+json": {
       "model_id": "886daed8a4514585b389b4311456fa73",
       "version_major": 2,
       "version_minor": 0
      },
      "text/plain": [
       "Bootstrapping groups:   0%|          | 0/1 [00:00<?, ?it/s]"
      ]
     },
     "metadata": {},
     "output_type": "display_data"
    },
    {
     "data": {
      "application/vnd.jupyter.widget-view+json": {
       "model_id": "9a93ec94d22a4d7f8360eb7fcee466e6",
       "version_major": 2,
       "version_minor": 0
      },
      "text/plain": [
       "Bootstrap replications:   0%|          | 0/500 [00:00<?, ?it/s]"
      ]
     },
     "metadata": {},
     "output_type": "display_data"
    },
    {
     "name": "stderr",
     "output_type": "stream",
     "text": [
      "C:\\Users\\amusali\\AppData\\Local\\Temp\\ipykernel_15340\\3025862808.py:108: FutureWarning: The provided callable <function std at 0x000002C08E6F4F40> is currently using DataFrameGroupBy.std. In a future version of pandas, the provided callable will be used directly. To keep current behavior pass the string \"std\" instead.\n",
      "  boot_se = boot_results.groupby(index_col).agg(np.std).reset_index()\n"
     ]
    },
    {
     "name": "stdout",
     "output_type": "stream",
     "text": [
      "Sample size: 867 matches\n"
     ]
    },
    {
     "data": {
      "application/vnd.jupyter.widget-view+json": {
       "model_id": "0eb891869cdf4203a7e484d1c05d6da6",
       "version_major": 2,
       "version_minor": 0
      },
      "text/plain": [
       "Bootstrapping groups:   0%|          | 0/1 [00:00<?, ?it/s]"
      ]
     },
     "metadata": {},
     "output_type": "display_data"
    },
    {
     "data": {
      "application/vnd.jupyter.widget-view+json": {
       "model_id": "3fa2c1fc5d4c4710aeaa06c386d593c6",
       "version_major": 2,
       "version_minor": 0
      },
      "text/plain": [
       "Bootstrap replications:   0%|          | 0/500 [00:00<?, ?it/s]"
      ]
     },
     "metadata": {},
     "output_type": "display_data"
    },
    {
     "name": "stdout",
     "output_type": "stream",
     "text": [
      "Sample size: 867 matches\n"
     ]
    },
    {
     "name": "stderr",
     "output_type": "stream",
     "text": [
      "C:\\Users\\amusali\\AppData\\Local\\Temp\\ipykernel_15340\\3025862808.py:108: FutureWarning: The provided callable <function std at 0x000002C08E6F4F40> is currently using DataFrameGroupBy.std. In a future version of pandas, the provided callable will be used directly. To keep current behavior pass the string \"std\" instead.\n",
      "  boot_se = boot_results.groupby(index_col).agg(np.std).reset_index()\n"
     ]
    },
    {
     "data": {
      "application/vnd.jupyter.widget-view+json": {
       "model_id": "1c820f844a514572be0814a6611e3802",
       "version_major": 2,
       "version_minor": 0
      },
      "text/plain": [
       "Bootstrapping groups:   0%|          | 0/1 [00:00<?, ?it/s]"
      ]
     },
     "metadata": {},
     "output_type": "display_data"
    },
    {
     "data": {
      "application/vnd.jupyter.widget-view+json": {
       "model_id": "6c1140e348a747a595d7fe507a3ae722",
       "version_major": 2,
       "version_minor": 0
      },
      "text/plain": [
       "Bootstrap replications:   0%|          | 0/500 [00:00<?, ?it/s]"
      ]
     },
     "metadata": {},
     "output_type": "display_data"
    },
    {
     "name": "stdout",
     "output_type": "stream",
     "text": [
      "Sample size: 867 matches\n"
     ]
    },
    {
     "name": "stderr",
     "output_type": "stream",
     "text": [
      "C:\\Users\\amusali\\AppData\\Local\\Temp\\ipykernel_15340\\3025862808.py:108: FutureWarning: The provided callable <function std at 0x000002C08E6F4F40> is currently using DataFrameGroupBy.std. In a future version of pandas, the provided callable will be used directly. To keep current behavior pass the string \"std\" instead.\n",
      "  boot_se = boot_results.groupby(index_col).agg(np.std).reset_index()\n"
     ]
    },
    {
     "data": {
      "application/vnd.jupyter.widget-view+json": {
       "model_id": "622b9c071ad34add9368590441c5b534",
       "version_major": 2,
       "version_minor": 0
      },
      "text/plain": [
       "Bootstrapping groups:   0%|          | 0/1 [00:00<?, ?it/s]"
      ]
     },
     "metadata": {},
     "output_type": "display_data"
    },
    {
     "data": {
      "application/vnd.jupyter.widget-view+json": {
       "model_id": "9bc8a8aa0c664b32b2b0acb11c42df87",
       "version_major": 2,
       "version_minor": 0
      },
      "text/plain": [
       "Bootstrap replications:   0%|          | 0/500 [00:00<?, ?it/s]"
      ]
     },
     "metadata": {},
     "output_type": "display_data"
    },
    {
     "name": "stdout",
     "output_type": "stream",
     "text": [
      "Sample size: 867 matches\n"
     ]
    },
    {
     "name": "stderr",
     "output_type": "stream",
     "text": [
      "C:\\Users\\amusali\\AppData\\Local\\Temp\\ipykernel_15340\\3025862808.py:108: FutureWarning: The provided callable <function std at 0x000002C08E6F4F40> is currently using DataFrameGroupBy.std. In a future version of pandas, the provided callable will be used directly. To keep current behavior pass the string \"std\" instead.\n",
      "  boot_se = boot_results.groupby(index_col).agg(np.std).reset_index()\n"
     ]
    },
    {
     "data": {
      "application/vnd.jupyter.widget-view+json": {
       "model_id": "ea3f3d48b620469aa7a282e6c72c99e5",
       "version_major": 2,
       "version_minor": 0
      },
      "text/plain": [
       "Bootstrapping groups:   0%|          | 0/1 [00:00<?, ?it/s]"
      ]
     },
     "metadata": {},
     "output_type": "display_data"
    },
    {
     "data": {
      "application/vnd.jupyter.widget-view+json": {
       "model_id": "37247472d2f042f98279c560d56bf063",
       "version_major": 2,
       "version_minor": 0
      },
      "text/plain": [
       "Bootstrap replications:   0%|          | 0/500 [00:00<?, ?it/s]"
      ]
     },
     "metadata": {},
     "output_type": "display_data"
    },
    {
     "name": "stdout",
     "output_type": "stream",
     "text": [
      "Sample size: 867 matches\n"
     ]
    },
    {
     "name": "stderr",
     "output_type": "stream",
     "text": [
      "C:\\Users\\amusali\\AppData\\Local\\Temp\\ipykernel_15340\\3025862808.py:108: FutureWarning: The provided callable <function std at 0x000002C08E6F4F40> is currently using DataFrameGroupBy.std. In a future version of pandas, the provided callable will be used directly. To keep current behavior pass the string \"std\" instead.\n",
      "  boot_se = boot_results.groupby(index_col).agg(np.std).reset_index()\n"
     ]
    },
    {
     "data": {
      "application/vnd.jupyter.widget-view+json": {
       "model_id": "5e33efa3edba4a1a84b0aeb51e78b817",
       "version_major": 2,
       "version_minor": 0
      },
      "text/plain": [
       "Bootstrapping groups:   0%|          | 0/1 [00:00<?, ?it/s]"
      ]
     },
     "metadata": {},
     "output_type": "display_data"
    },
    {
     "data": {
      "application/vnd.jupyter.widget-view+json": {
       "model_id": "aaab0106d19343559ec2257a8435c90f",
       "version_major": 2,
       "version_minor": 0
      },
      "text/plain": [
       "Bootstrap replications:   0%|          | 0/500 [00:00<?, ?it/s]"
      ]
     },
     "metadata": {},
     "output_type": "display_data"
    },
    {
     "name": "stdout",
     "output_type": "stream",
     "text": [
      "Sample size: 867 matches\n"
     ]
    },
    {
     "name": "stderr",
     "output_type": "stream",
     "text": [
      "C:\\Users\\amusali\\AppData\\Local\\Temp\\ipykernel_15340\\3025862808.py:108: FutureWarning: The provided callable <function std at 0x000002C08E6F4F40> is currently using DataFrameGroupBy.std. In a future version of pandas, the provided callable will be used directly. To keep current behavior pass the string \"std\" instead.\n",
      "  boot_se = boot_results.groupby(index_col).agg(np.std).reset_index()\n"
     ]
    },
    {
     "data": {
      "application/vnd.jupyter.widget-view+json": {
       "model_id": "9f2bccc390814a0f911ff38111614ce2",
       "version_major": 2,
       "version_minor": 0
      },
      "text/plain": [
       "Bootstrapping groups:   0%|          | 0/1 [00:00<?, ?it/s]"
      ]
     },
     "metadata": {},
     "output_type": "display_data"
    },
    {
     "data": {
      "application/vnd.jupyter.widget-view+json": {
       "model_id": "5a70c6335ebf4172b6e5d43e88a88c16",
       "version_major": 2,
       "version_minor": 0
      },
      "text/plain": [
       "Bootstrap replications:   0%|          | 0/500 [00:00<?, ?it/s]"
      ]
     },
     "metadata": {},
     "output_type": "display_data"
    },
    {
     "name": "stdout",
     "output_type": "stream",
     "text": [
      "Sample size: 867 matches\n"
     ]
    },
    {
     "name": "stderr",
     "output_type": "stream",
     "text": [
      "C:\\Users\\amusali\\AppData\\Local\\Temp\\ipykernel_15340\\3025862808.py:108: FutureWarning: The provided callable <function std at 0x000002C08E6F4F40> is currently using DataFrameGroupBy.std. In a future version of pandas, the provided callable will be used directly. To keep current behavior pass the string \"std\" instead.\n",
      "  boot_se = boot_results.groupby(index_col).agg(np.std).reset_index()\n"
     ]
    },
    {
     "data": {
      "application/vnd.jupyter.widget-view+json": {
       "model_id": "833002802d264294903e40a14d4e5136",
       "version_major": 2,
       "version_minor": 0
      },
      "text/plain": [
       "Bootstrapping groups:   0%|          | 0/1 [00:00<?, ?it/s]"
      ]
     },
     "metadata": {},
     "output_type": "display_data"
    },
    {
     "data": {
      "application/vnd.jupyter.widget-view+json": {
       "model_id": "53885554dad04c9189709382727af7bb",
       "version_major": 2,
       "version_minor": 0
      },
      "text/plain": [
       "Bootstrap replications:   0%|          | 0/500 [00:00<?, ?it/s]"
      ]
     },
     "metadata": {},
     "output_type": "display_data"
    },
    {
     "name": "stdout",
     "output_type": "stream",
     "text": [
      "Sample size: 867 matches\n"
     ]
    },
    {
     "name": "stderr",
     "output_type": "stream",
     "text": [
      "C:\\Users\\amusali\\AppData\\Local\\Temp\\ipykernel_15340\\3025862808.py:108: FutureWarning: The provided callable <function std at 0x000002C08E6F4F40> is currently using DataFrameGroupBy.std. In a future version of pandas, the provided callable will be used directly. To keep current behavior pass the string \"std\" instead.\n",
      "  boot_se = boot_results.groupby(index_col).agg(np.std).reset_index()\n"
     ]
    },
    {
     "data": {
      "application/vnd.jupyter.widget-view+json": {
       "model_id": "de8a6ab70205477db410fb213bbab0c5",
       "version_major": 2,
       "version_minor": 0
      },
      "text/plain": [
       "Bootstrapping groups:   0%|          | 0/1 [00:00<?, ?it/s]"
      ]
     },
     "metadata": {},
     "output_type": "display_data"
    },
    {
     "data": {
      "application/vnd.jupyter.widget-view+json": {
       "model_id": "26d85f3ecc4f4febb701f3dfd9c8df89",
       "version_major": 2,
       "version_minor": 0
      },
      "text/plain": [
       "Bootstrap replications:   0%|          | 0/500 [00:00<?, ?it/s]"
      ]
     },
     "metadata": {},
     "output_type": "display_data"
    },
    {
     "name": "stdout",
     "output_type": "stream",
     "text": [
      "Sample size: 867 matches\n"
     ]
    },
    {
     "name": "stderr",
     "output_type": "stream",
     "text": [
      "C:\\Users\\amusali\\AppData\\Local\\Temp\\ipykernel_15340\\3025862808.py:108: FutureWarning: The provided callable <function std at 0x000002C08E6F4F40> is currently using DataFrameGroupBy.std. In a future version of pandas, the provided callable will be used directly. To keep current behavior pass the string \"std\" instead.\n",
      "  boot_se = boot_results.groupby(index_col).agg(np.std).reset_index()\n"
     ]
    },
    {
     "data": {
      "application/vnd.jupyter.widget-view+json": {
       "model_id": "4d6e8978319a4f4886f3eb7c464e7dc4",
       "version_major": 2,
       "version_minor": 0
      },
      "text/plain": [
       "Bootstrapping groups:   0%|          | 0/1 [00:00<?, ?it/s]"
      ]
     },
     "metadata": {},
     "output_type": "display_data"
    },
    {
     "data": {
      "application/vnd.jupyter.widget-view+json": {
       "model_id": "97f671128020462e8b816e4e930170ca",
       "version_major": 2,
       "version_minor": 0
      },
      "text/plain": [
       "Bootstrap replications:   0%|          | 0/500 [00:00<?, ?it/s]"
      ]
     },
     "metadata": {},
     "output_type": "display_data"
    },
    {
     "name": "stdout",
     "output_type": "stream",
     "text": [
      "Sample size: 867 matches\n"
     ]
    },
    {
     "name": "stderr",
     "output_type": "stream",
     "text": [
      "C:\\Users\\amusali\\AppData\\Local\\Temp\\ipykernel_15340\\3025862808.py:108: FutureWarning: The provided callable <function std at 0x000002C08E6F4F40> is currently using DataFrameGroupBy.std. In a future version of pandas, the provided callable will be used directly. To keep current behavior pass the string \"std\" instead.\n",
      "  boot_se = boot_results.groupby(index_col).agg(np.std).reset_index()\n"
     ]
    },
    {
     "data": {
      "application/vnd.jupyter.widget-view+json": {
       "model_id": "ffe0b073b3284d2d99a54513551b876b",
       "version_major": 2,
       "version_minor": 0
      },
      "text/plain": [
       "Bootstrapping groups:   0%|          | 0/1 [00:00<?, ?it/s]"
      ]
     },
     "metadata": {},
     "output_type": "display_data"
    },
    {
     "data": {
      "application/vnd.jupyter.widget-view+json": {
       "model_id": "4a4719a9ccb5425cbeb7d328756d78a0",
       "version_major": 2,
       "version_minor": 0
      },
      "text/plain": [
       "Bootstrap replications:   0%|          | 0/500 [00:00<?, ?it/s]"
      ]
     },
     "metadata": {},
     "output_type": "display_data"
    },
    {
     "name": "stdout",
     "output_type": "stream",
     "text": [
      "Sample size: 867 matches\n"
     ]
    },
    {
     "name": "stderr",
     "output_type": "stream",
     "text": [
      "C:\\Users\\amusali\\AppData\\Local\\Temp\\ipykernel_15340\\3025862808.py:108: FutureWarning: The provided callable <function std at 0x000002C08E6F4F40> is currently using DataFrameGroupBy.std. In a future version of pandas, the provided callable will be used directly. To keep current behavior pass the string \"std\" instead.\n",
      "  boot_se = boot_results.groupby(index_col).agg(np.std).reset_index()\n"
     ]
    },
    {
     "data": {
      "application/vnd.jupyter.widget-view+json": {
       "model_id": "93d2b3a2352d41668a5f204421724017",
       "version_major": 2,
       "version_minor": 0
      },
      "text/plain": [
       "Bootstrapping groups:   0%|          | 0/1 [00:00<?, ?it/s]"
      ]
     },
     "metadata": {},
     "output_type": "display_data"
    },
    {
     "data": {
      "application/vnd.jupyter.widget-view+json": {
       "model_id": "744fa1934e8f4607b31af921fcd8440c",
       "version_major": 2,
       "version_minor": 0
      },
      "text/plain": [
       "Bootstrap replications:   0%|          | 0/500 [00:00<?, ?it/s]"
      ]
     },
     "metadata": {},
     "output_type": "display_data"
    },
    {
     "name": "stdout",
     "output_type": "stream",
     "text": [
      "Sample size: 867 matches\n"
     ]
    },
    {
     "name": "stderr",
     "output_type": "stream",
     "text": [
      "C:\\Users\\amusali\\AppData\\Local\\Temp\\ipykernel_15340\\3025862808.py:108: FutureWarning: The provided callable <function std at 0x000002C08E6F4F40> is currently using DataFrameGroupBy.std. In a future version of pandas, the provided callable will be used directly. To keep current behavior pass the string \"std\" instead.\n",
      "  boot_se = boot_results.groupby(index_col).agg(np.std).reset_index()\n"
     ]
    },
    {
     "data": {
      "application/vnd.jupyter.widget-view+json": {
       "model_id": "3c3da76ed1614d749d73f3cb42e7549f",
       "version_major": 2,
       "version_minor": 0
      },
      "text/plain": [
       "Bootstrapping groups:   0%|          | 0/1 [00:00<?, ?it/s]"
      ]
     },
     "metadata": {},
     "output_type": "display_data"
    },
    {
     "data": {
      "application/vnd.jupyter.widget-view+json": {
       "model_id": "7d59f9e0e882450e814b97f2ef6ff557",
       "version_major": 2,
       "version_minor": 0
      },
      "text/plain": [
       "Bootstrap replications:   0%|          | 0/500 [00:00<?, ?it/s]"
      ]
     },
     "metadata": {},
     "output_type": "display_data"
    },
    {
     "name": "stdout",
     "output_type": "stream",
     "text": [
      "Sample size: 867 matches\n"
     ]
    },
    {
     "name": "stderr",
     "output_type": "stream",
     "text": [
      "C:\\Users\\amusali\\AppData\\Local\\Temp\\ipykernel_15340\\3025862808.py:108: FutureWarning: The provided callable <function std at 0x000002C08E6F4F40> is currently using DataFrameGroupBy.std. In a future version of pandas, the provided callable will be used directly. To keep current behavior pass the string \"std\" instead.\n",
      "  boot_se = boot_results.groupby(index_col).agg(np.std).reset_index()\n"
     ]
    },
    {
     "data": {
      "application/vnd.jupyter.widget-view+json": {
       "model_id": "6e78d47104114e6f90caa28a03674145",
       "version_major": 2,
       "version_minor": 0
      },
      "text/plain": [
       "Bootstrapping groups:   0%|          | 0/1 [00:00<?, ?it/s]"
      ]
     },
     "metadata": {},
     "output_type": "display_data"
    },
    {
     "data": {
      "application/vnd.jupyter.widget-view+json": {
       "model_id": "7d632c2aeabd4997a0ec07ce57de0468",
       "version_major": 2,
       "version_minor": 0
      },
      "text/plain": [
       "Bootstrap replications:   0%|          | 0/500 [00:00<?, ?it/s]"
      ]
     },
     "metadata": {},
     "output_type": "display_data"
    },
    {
     "name": "stderr",
     "output_type": "stream",
     "text": [
      "C:\\Users\\amusali\\AppData\\Local\\Temp\\ipykernel_15340\\3025862808.py:108: FutureWarning: The provided callable <function std at 0x000002C08E6F4F40> is currently using DataFrameGroupBy.std. In a future version of pandas, the provided callable will be used directly. To keep current behavior pass the string \"std\" instead.\n",
      "  boot_se = boot_results.groupby(index_col).agg(np.std).reset_index()\n"
     ]
    },
    {
     "name": "stdout",
     "output_type": "stream",
     "text": [
      "Sample size: 867 matches\n"
     ]
    },
    {
     "data": {
      "application/vnd.jupyter.widget-view+json": {
       "model_id": "fe96560cc64147a7974e82370380ac87",
       "version_major": 2,
       "version_minor": 0
      },
      "text/plain": [
       "Bootstrapping groups:   0%|          | 0/1 [00:00<?, ?it/s]"
      ]
     },
     "metadata": {},
     "output_type": "display_data"
    },
    {
     "data": {
      "application/vnd.jupyter.widget-view+json": {
       "model_id": "dbc572ef8acf4e079f3b8718fa4ffe8a",
       "version_major": 2,
       "version_minor": 0
      },
      "text/plain": [
       "Bootstrap replications:   0%|          | 0/500 [00:00<?, ?it/s]"
      ]
     },
     "metadata": {},
     "output_type": "display_data"
    },
    {
     "name": "stdout",
     "output_type": "stream",
     "text": [
      "Sample size: 867 matches\n"
     ]
    },
    {
     "name": "stderr",
     "output_type": "stream",
     "text": [
      "C:\\Users\\amusali\\AppData\\Local\\Temp\\ipykernel_15340\\3025862808.py:108: FutureWarning: The provided callable <function std at 0x000002C08E6F4F40> is currently using DataFrameGroupBy.std. In a future version of pandas, the provided callable will be used directly. To keep current behavior pass the string \"std\" instead.\n",
      "  boot_se = boot_results.groupby(index_col).agg(np.std).reset_index()\n"
     ]
    },
    {
     "data": {
      "application/vnd.jupyter.widget-view+json": {
       "model_id": "5d55c2bef90c48b2ac1ea2700d55a03b",
       "version_major": 2,
       "version_minor": 0
      },
      "text/plain": [
       "Bootstrapping groups:   0%|          | 0/1 [00:00<?, ?it/s]"
      ]
     },
     "metadata": {},
     "output_type": "display_data"
    },
    {
     "data": {
      "application/vnd.jupyter.widget-view+json": {
       "model_id": "d9fde13268eb47b787115112fe27a781",
       "version_major": 2,
       "version_minor": 0
      },
      "text/plain": [
       "Bootstrap replications:   0%|          | 0/500 [00:00<?, ?it/s]"
      ]
     },
     "metadata": {},
     "output_type": "display_data"
    },
    {
     "name": "stderr",
     "output_type": "stream",
     "text": [
      "C:\\Users\\amusali\\AppData\\Local\\Temp\\ipykernel_15340\\3025862808.py:108: FutureWarning: The provided callable <function std at 0x000002C08E6F4F40> is currently using DataFrameGroupBy.std. In a future version of pandas, the provided callable will be used directly. To keep current behavior pass the string \"std\" instead.\n",
      "  boot_se = boot_results.groupby(index_col).agg(np.std).reset_index()\n"
     ]
    },
    {
     "name": "stdout",
     "output_type": "stream",
     "text": [
      "Sample size: 867 matches\n"
     ]
    },
    {
     "data": {
      "application/vnd.jupyter.widget-view+json": {
       "model_id": "d17da27469934a55ad3f38d8c84a11a3",
       "version_major": 2,
       "version_minor": 0
      },
      "text/plain": [
       "Bootstrapping groups:   0%|          | 0/1 [00:00<?, ?it/s]"
      ]
     },
     "metadata": {},
     "output_type": "display_data"
    },
    {
     "data": {
      "application/vnd.jupyter.widget-view+json": {
       "model_id": "1bd44912877d488b9fd05bc1e77d066c",
       "version_major": 2,
       "version_minor": 0
      },
      "text/plain": [
       "Bootstrap replications:   0%|          | 0/500 [00:00<?, ?it/s]"
      ]
     },
     "metadata": {},
     "output_type": "display_data"
    },
    {
     "name": "stdout",
     "output_type": "stream",
     "text": [
      "Sample size: 867 matches\n"
     ]
    },
    {
     "name": "stderr",
     "output_type": "stream",
     "text": [
      "C:\\Users\\amusali\\AppData\\Local\\Temp\\ipykernel_15340\\3025862808.py:108: FutureWarning: The provided callable <function std at 0x000002C08E6F4F40> is currently using DataFrameGroupBy.std. In a future version of pandas, the provided callable will be used directly. To keep current behavior pass the string \"std\" instead.\n",
      "  boot_se = boot_results.groupby(index_col).agg(np.std).reset_index()\n"
     ]
    },
    {
     "data": {
      "application/vnd.jupyter.widget-view+json": {
       "model_id": "b7c81395f5e446a58a1561fd64ca1eb5",
       "version_major": 2,
       "version_minor": 0
      },
      "text/plain": [
       "Bootstrapping groups:   0%|          | 0/1 [00:00<?, ?it/s]"
      ]
     },
     "metadata": {},
     "output_type": "display_data"
    },
    {
     "data": {
      "application/vnd.jupyter.widget-view+json": {
       "model_id": "ef699910fb11459189d2713e04ed4a47",
       "version_major": 2,
       "version_minor": 0
      },
      "text/plain": [
       "Bootstrap replications:   0%|          | 0/500 [00:00<?, ?it/s]"
      ]
     },
     "metadata": {},
     "output_type": "display_data"
    },
    {
     "name": "stdout",
     "output_type": "stream",
     "text": [
      "Sample size: 867 matches\n"
     ]
    },
    {
     "name": "stderr",
     "output_type": "stream",
     "text": [
      "C:\\Users\\amusali\\AppData\\Local\\Temp\\ipykernel_15340\\3025862808.py:108: FutureWarning: The provided callable <function std at 0x000002C08E6F4F40> is currently using DataFrameGroupBy.std. In a future version of pandas, the provided callable will be used directly. To keep current behavior pass the string \"std\" instead.\n",
      "  boot_se = boot_results.groupby(index_col).agg(np.std).reset_index()\n"
     ]
    },
    {
     "data": {
      "application/vnd.jupyter.widget-view+json": {
       "model_id": "824334aeec604ad0a0437bf1289ce555",
       "version_major": 2,
       "version_minor": 0
      },
      "text/plain": [
       "Bootstrapping groups:   0%|          | 0/1 [00:00<?, ?it/s]"
      ]
     },
     "metadata": {},
     "output_type": "display_data"
    },
    {
     "data": {
      "application/vnd.jupyter.widget-view+json": {
       "model_id": "0a424c43c88f4a728a837f5bc777dbce",
       "version_major": 2,
       "version_minor": 0
      },
      "text/plain": [
       "Bootstrap replications:   0%|          | 0/500 [00:00<?, ?it/s]"
      ]
     },
     "metadata": {},
     "output_type": "display_data"
    },
    {
     "name": "stdout",
     "output_type": "stream",
     "text": [
      "Sample size: 867 matches\n"
     ]
    },
    {
     "name": "stderr",
     "output_type": "stream",
     "text": [
      "C:\\Users\\amusali\\AppData\\Local\\Temp\\ipykernel_15340\\3025862808.py:108: FutureWarning: The provided callable <function std at 0x000002C08E6F4F40> is currently using DataFrameGroupBy.std. In a future version of pandas, the provided callable will be used directly. To keep current behavior pass the string \"std\" instead.\n",
      "  boot_se = boot_results.groupby(index_col).agg(np.std).reset_index()\n"
     ]
    },
    {
     "data": {
      "application/vnd.jupyter.widget-view+json": {
       "model_id": "6c2af076e2ad459e8df9ac2b31cd3e7d",
       "version_major": 2,
       "version_minor": 0
      },
      "text/plain": [
       "Bootstrapping groups:   0%|          | 0/1 [00:00<?, ?it/s]"
      ]
     },
     "metadata": {},
     "output_type": "display_data"
    },
    {
     "data": {
      "application/vnd.jupyter.widget-view+json": {
       "model_id": "646465c7d37f422aaf290395271dc0f2",
       "version_major": 2,
       "version_minor": 0
      },
      "text/plain": [
       "Bootstrap replications:   0%|          | 0/500 [00:00<?, ?it/s]"
      ]
     },
     "metadata": {},
     "output_type": "display_data"
    },
    {
     "name": "stdout",
     "output_type": "stream",
     "text": [
      "Sample size: 867 matches\n"
     ]
    },
    {
     "name": "stderr",
     "output_type": "stream",
     "text": [
      "C:\\Users\\amusali\\AppData\\Local\\Temp\\ipykernel_15340\\3025862808.py:108: FutureWarning: The provided callable <function std at 0x000002C08E6F4F40> is currently using DataFrameGroupBy.std. In a future version of pandas, the provided callable will be used directly. To keep current behavior pass the string \"std\" instead.\n",
      "  boot_se = boot_results.groupby(index_col).agg(np.std).reset_index()\n"
     ]
    },
    {
     "data": {
      "application/vnd.jupyter.widget-view+json": {
       "model_id": "34576d53298546648e26b110d46b289b",
       "version_major": 2,
       "version_minor": 0
      },
      "text/plain": [
       "Bootstrapping groups:   0%|          | 0/1 [00:00<?, ?it/s]"
      ]
     },
     "metadata": {},
     "output_type": "display_data"
    },
    {
     "data": {
      "application/vnd.jupyter.widget-view+json": {
       "model_id": "e08b6af5466d413eb15a164ea8ea2cc4",
       "version_major": 2,
       "version_minor": 0
      },
      "text/plain": [
       "Bootstrap replications:   0%|          | 0/500 [00:00<?, ?it/s]"
      ]
     },
     "metadata": {},
     "output_type": "display_data"
    },
    {
     "name": "stderr",
     "output_type": "stream",
     "text": [
      "C:\\Users\\amusali\\AppData\\Local\\Temp\\ipykernel_15340\\3025862808.py:108: FutureWarning: The provided callable <function std at 0x000002C08E6F4F40> is currently using DataFrameGroupBy.std. In a future version of pandas, the provided callable will be used directly. To keep current behavior pass the string \"std\" instead.\n",
      "  boot_se = boot_results.groupby(index_col).agg(np.std).reset_index()\n"
     ]
    },
    {
     "data": {
      "image/png": "[encoded data removed]",
      "text/plain": [
       "<Figure size 1000x700 with 1 Axes>"
      ]
     },
     "metadata": {},
     "output_type": "display_data"
    },
    {
     "data": {
      "image/png": "[encoded data removed]",
      "text/plain": [
       "<Figure size 1000x700 with 1 Axes>"
      ]
     },
     "metadata": {},
     "output_type": "display_data"
    },
    {
     "data": {
      "image/png": "[encoded data removed]",
      "text/plain": [
       "<Figure size 1000x700 with 1 Axes>"
      ]
     },
     "metadata": {},
     "output_type": "display_data"
    },
    {
     "data": {
      "image/png": "[encoded data removed]",
      "text/plain": [
       "<Figure size 1000x700 with 1 Axes>"
      ]
     },
     "metadata": {},
     "output_type": "display_data"
    }
   ],
   "source": [
    "import pandas as pd\n",
    "import numpy as np\n",
    "import matplotlib.pyplot as plt\n",
    "import seaborn as sns\n",
    "from tqdm.auto import tqdm\n",
    "from scipy.stats import ks_2samp\n",
    "\n",
    "\n",
    "# Max periods\n",
    "max_period_list = [8, 12, 16, 20]\n",
    "\n",
    "for period in tqdm(max_period_list, desc = \"Looping over max periods\"):\n",
    "\n",
    "    # Run balance tests and estimate ATT\n",
    "    ATT_all = estimate_by_lambda(df, -1,  max_period=period)\n",
    "    \n",
    "    # Save results\n",
    "    save_att(ATT_all, fr'C:\\Users\\amusali\\Desktop\\uc3m PhD\\05 Analysis\\01 Main\\03 Python scripts\\03 Estimation\\02 Top Tech\\02 Off deal\\out\\maxperiod{period}', f'ATT_results_{period}.csv')\n",
    "\n",
    "    # Save graph of all ATTs\n",
    "    plot_all_att(ATT_all, -1, fr'C:\\Users\\amusali\\Desktop\\uc3m PhD\\05 Analysis\\01 Main\\03 Python scripts\\03 Estimation\\02 Top Tech\\02 Off deal\\out\\maxperiod{period}', f'ATT_plot_{period}.png')\n",
    "\n",
    "    # Save graphs of ATTs by lambda\n",
    "    plot_att_by_lambda(ATT_all, -1, fr'C:\\Users\\amusali\\Desktop\\uc3m PhD\\05 Analysis\\01 Main\\03 Python scripts\\03 Estimation\\02 Top Tech\\02 Off deal\\out\\maxperiod{period}')\n",
    "\n",
    "\n",
    "\n"
   ]
  },
  {
   "cell_type": "markdown",
   "metadata": {},
   "source": [
    "# Old\n"
   ]
  },
  {
   "cell_type": "code",
   "execution_count": null,
   "metadata": {},
   "outputs": [],
   "source": [
    "\n",
    " #List to store subgroup (lambda group) results\n",
    "all_results = []\n",
    "\n",
    "# Get unique lambda values (rounded to 2 decimals)\n",
    "unique_lambdas = df['lambda'].round(2).unique()\n",
    "unique_lambdas = np.sort(unique_lambdas)\n",
    "\n",
    "for lam in tqdm(unique_lambdas, desc=\"Processing lambda groups\"):\n",
    "    # Filter data for the current lambda group\n",
    "    df_sub = df[df['lambda'].round(2) == lam].copy()\n",
    "\n",
    "    \n",
    "    # ---------------------------\n",
    "    # 1. Balance Tests for Pre-treatment Outcomes (quarters -4 to -1)\n",
    "    # ---------------------------\n",
    "    pre_range = [-4, -3, -2, -1]\n",
    "    df_pre = df_sub[df_sub['quarter'].isin(pre_range)]\n",
    "    \n",
    "    # Pivot pre-treatment data: each match_id is a row\n",
    "    pivot_pre = df_pre.pivot_table(index='match_id',\n",
    "                                   columns='quarter',\n",
    "                                   values=['citations_treated', 'citations_control'])\n",
    "    pivot_pre.head(10)\n",
    "    pivot_pre = pivot_pre.dropna()  # only include matches with complete pre data\n",
    "    \n",
    "    # Compute average pre-treatment outcomes per match for treated and control\n",
    "    avg_treated = pivot_pre['citations_treated'].mean(axis=1)\n",
    "    avg_control = pivot_pre['citations_control'].mean(axis=1)\n",
    "    \n",
    "    # Compute SMD: (mean_treated - mean_control) / pooled_sd\n",
    "    mean_treated = avg_treated.mean()\n",
    "    mean_control = avg_control.mean()\n",
    "    var_treated = avg_treated.var()\n",
    "    var_control = avg_control.var()\n",
    "    pooled_sd = np.sqrt((var_treated + var_control) / 2)\n",
    "    smd = (mean_treated - mean_control) / pooled_sd if pooled_sd > 0 else np.nan\n",
    "    \n",
    "    # KS test on the distributions of the average outcomes\n",
    "    ks_stat, ks_p = ks_2samp(avg_treated, avg_control)\n",
    "    \n",
    "    # ---------------------------\n",
    "    # 2. Dynamic ATT Estimation (with bootstrap SEs)\n",
    "    # ---------------------------\n",
    "    # Compute individual treatment effects (TEs) using the pre-defined function.\n",
    "    TE, wide_sub, sample_size = compute_individual_TE(df_sub,\n",
    "                                         outcome_treated='citations_treated',\n",
    "                                         outcome_control='citations_control',\n",
    "                                         index_cols=['lambda', 'match_id'],\n",
    "                                         quarter_col='quarter',\n",
    "                                         baseline=-1,\n",
    "                                         max_period=12)\n",
    "    \n",
    "    # Estimate ATT and bootstrap SEs for this lambda group.\n",
    "    ATT_long, boot_results = estimate_ATT_and_bootstrap(TE, index_col='lambda', n_boot=500, seed=42)\n",
    "    \n",
    "    # Filter ATT_long to only include the current lambda group (redundant but safe)\n",
    "    ATT_long_sub = ATT_long[ATT_long['lambda'] == lam].copy()\n",
    "    \n",
    "    # ---------------------------\n",
    "    # 3. Append Subgroup Information\n",
    "    # ---------------------------\n",
    "    ATT_long_sub['sample_size'] = sample_size\n",
    "    ATT_long_sub['smd'] = smd\n",
    "    ATT_long_sub['ks_p'] = ks_p\n",
    "    ATT_long_sub['lambda_val'] = lam  # store the lambda value explicitly\n",
    "    \n",
    "    # Append results for this lambda group\n",
    "    all_results.append(ATT_long_sub)\n",
    "\n",
    "# Concatenate results for all lambda groups\n",
    "ATT_all = pd.concat(all_results, ignore_index=True)\n",
    "\n",
    "# Export the combined results to CSV (to be used in Excel later)\n",
    "ATT_all.to_csv(r\"C:\\Users\\amusali\\Desktop\\uc3m PhD\\05 Analysis\\01 Main\\03 Python scripts\\03 Estimation\\02 Top Tech\\02 Off deal\\out\\maxperiod20\\dynamic_ATT_by_lambda_12.csv\", index=False)\n"
   ]
  },
  {
   "cell_type": "markdown",
   "metadata": {},
   "source": [
    "## Save graphs"
   ]
  },
  {
   "cell_type": "code",
   "execution_count": 16,
   "metadata": {},
   "outputs": [
    {
     "data": {
      "image/png": "[encoded data removed]",
      "text/plain": [
       "<Figure size 1000x700 with 1 Axes>"
      ]
     },
     "metadata": {},
     "output_type": "display_data"
    }
   ],
   "source": [
    "\n",
    "# ------------------------------\n",
    "# Plot Dynamic ATT for each lambda group in the same graph\n",
    "# ------------------------------\n",
    "plt.figure(figsize=(10, 7))\n",
    "sns.lineplot(data=ATT_all, x='quarter', y='ATT', hue='lambda_val', marker='o', palette='tab10')\n",
    "plt.axhline(0, color='gray', linestyle='--')\n",
    "plt.axvline(x=0, color='black', linestyle='--', label='Baseline (-1)')\n",
    "plt.xlabel('Quarter')\n",
    "plt.ylabel('ATT (Dynamic Treatment Effect)')\n",
    "plt.title('Dynamic ATT by Lambda')\n",
    "plt.legend(title='Lambda')\n",
    "plt.xlim(ATT_all['quarter'].min()-0.5, ATT_all['quarter'].max()+0.5)\n",
    "\n",
    "plt.savefig(r\"C:\\Users\\amusali\\Desktop\\uc3m PhD\\05 Analysis\\01 Main\\03 Python scripts\\03 Estimation\\02 Top Tech\\02 Off deal\\out\\maxperiod12\\dynamic_ATT_by_lambda.png\")\t\n"
   ]
  },
  {
   "cell_type": "code",
   "execution_count": 17,
   "metadata": {},
   "outputs": [],
   "source": [
    "import matplotlib.pyplot as plt\n",
    "import seaborn as sns\n",
    "import numpy as np\n",
    "\n",
    "# Get a sorted list of unique lambda values (rounded to two decimals)\n",
    "unique_lambdas = sorted(ATT_all['lambda_val'].unique())\n",
    "\n",
    "# Create a color palette with as many colors as there are unique lambda groups\n",
    "palette = sns.color_palette('tab10', len(unique_lambdas))\n",
    "\n",
    "# Loop over each lambda group and plot separately\n",
    "for i, lam in enumerate(unique_lambdas):\n",
    "    group_data = ATT_all[ATT_all['lambda_val'] == lam].sort_values('quarter')\n",
    "    \n",
    "    # Compute lower and upper bounds for the 95% CI\n",
    "    lower = group_data['ATT'] - 1.96 * group_data['se']\n",
    "    upper = group_data['ATT'] + 1.96 * group_data['se']\n",
    "    \n",
    "    # Create the plot for this lambda group\n",
    "    plt.figure(figsize=(10, 7))\n",
    "    plt.plot(group_data['quarter'], group_data['ATT'], marker='o', \n",
    "             label=f'Lambda {lam}', color=palette[i])\n",
    "    plt.fill_between(group_data['quarter'], lower, upper, alpha=0.3, color=palette[i])\n",
    "    \n",
    "    # Add reference lines\n",
    "    plt.axhline(0, color='gray', linestyle='--')\n",
    "    plt.axvline(x=0, color='black', linestyle='--', label='Baseline (-1)')\n",
    "    \n",
    "    # Add labels and title\n",
    "    plt.xlabel('Quarter')\n",
    "    plt.ylabel('ATT (Dynamic Treatment Effect)')\n",
    "    plt.title(f'Dynamic ATT for Lambda {lam}')\n",
    "    plt.xlim(ATT_all['quarter'].min()-0.5, ATT_all['quarter'].max()+0.5)\n",
    "    plt.legend(title='Lambda')\n",
    "    plt.tight_layout()\n",
    "    \n",
    "    # Save the plot to a file (e.g., PNG)\n",
    "    plt.savefig(fr\"C:\\Users\\amusali\\Desktop\\uc3m PhD\\05 Analysis\\01 Main\\03 Python scripts\\03 Estimation\\02 Top Tech\\02 Off deal\\out\\maxperiod12\\dynamic_ATT_lambda_{lam}.png\")\n",
    "    plt.close()\n"
   ]
  }
 ],
 "metadata": {
  "kernelspec": {
   "display_name": "venv",
   "language": "python",
   "name": "python3"
  },
  "language_info": {
   "codemirror_mode": {
    "name": "ipython",
    "version": 3
   },
   "file_extension": ".py",
   "mimetype": "text/x-python",
   "name": "python",
   "nbconvert_exporter": "python",
   "pygments_lexer": "ipython3",
   "version": "3.12.2"
  }
 },
 "nbformat": 4,
 "nbformat_minor": 2
}
