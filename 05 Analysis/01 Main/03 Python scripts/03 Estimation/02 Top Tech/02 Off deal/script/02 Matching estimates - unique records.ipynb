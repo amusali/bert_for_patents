{
 "cells": [
  {
   "cell_type": "markdown",
   "metadata": {},
   "source": [
    "# Load data"
   ]
  },
  {
   "cell_type": "code",
   "execution_count": 1,
   "metadata": {},
   "outputs": [
    {
     "name": "stderr",
     "output_type": "stream",
     "text": [
      "C:\\Users\\amusali\\AppData\\Local\\Temp\\ipykernel_15344\\3545907625.py:4: DtypeWarning: Columns (26,27,28,29,30,31,32) have mixed types. Specify dtype option on import or set low_memory=False.\n",
      "  df = pd.read_csv(r\"C:\\Users\\amusali\\Desktop\\uc3m PhD\\05 Analysis\\01 Main\\03 Python scripts\\03 Estimation\\02 Top Tech\\02 Off deal\\raw\\10 Sample - top tech, OD, filing date, enhanced.csv\")\n"
     ]
    },
    {
     "data": {
      "application/vnd.microsoft.datawrangler.viewer.v0+json": {
       "columns": [
        {
         "name": "index",
         "rawType": "int64",
         "type": "integer"
        },
        {
         "name": "treated_id",
         "rawType": "int64",
         "type": "integer"
        },
        {
         "name": "control_id",
         "rawType": "int64",
         "type": "integer"
        },
        {
         "name": "match_id",
         "rawType": "int64",
         "type": "integer"
        },
        {
         "name": "lambda",
         "rawType": "float64",
         "type": "float"
        },
        {
         "name": "mahalanobis_distance",
         "rawType": "float64",
         "type": "float"
        },
        {
         "name": "cosine_distance",
         "rawType": "float64",
         "type": "float"
        },
        {
         "name": "hybrid_distance",
         "rawType": "float64",
         "type": "float"
        },
        {
         "name": "quarter",
         "rawType": "int64",
         "type": "integer"
        },
        {
         "name": "citations_treated",
         "rawType": "int64",
         "type": "integer"
        },
        {
         "name": "citations_control",
         "rawType": "int64",
         "type": "integer"
        },
        {
         "name": "ult_parent",
         "rawType": "object",
         "type": "string"
        },
        {
         "name": "acq_type",
         "rawType": "object",
         "type": "string"
        },
        {
         "name": "acq_date",
         "rawType": "object",
         "type": "string"
        },
        {
         "name": "acq_year",
         "rawType": "int64",
         "type": "integer"
        },
        {
         "name": "deal_id",
         "rawType": "float64",
         "type": "float"
        },
        {
         "name": "patent_id",
         "rawType": "int64",
         "type": "integer"
        },
        {
         "name": "acquired",
         "rawType": "int64",
         "type": "integer"
        },
        {
         "name": "assignee",
         "rawType": "float64",
         "type": "float"
        },
        {
         "name": "grant_date",
         "rawType": "object",
         "type": "string"
        },
        {
         "name": "patent_type",
         "rawType": "object",
         "type": "string"
        },
        {
         "name": "patent_date",
         "rawType": "object",
         "type": "string"
        },
        {
         "name": "patent_title",
         "rawType": "object",
         "type": "string"
        },
        {
         "name": "wipo_kind",
         "rawType": "object",
         "type": "string"
        },
        {
         "name": "num_claims",
         "rawType": "int64",
         "type": "integer"
        },
        {
         "name": "withdrawn",
         "rawType": "int64",
         "type": "integer"
        },
        {
         "name": "filename",
         "rawType": "object",
         "type": "string"
        },
        {
         "name": "cpc_version_indicator_at_issue",
         "rawType": "object",
         "type": "string"
        },
        {
         "name": "cpc_section_at_issue",
         "rawType": "object",
         "type": "string"
        },
        {
         "name": "cpc_class_at_issue",
         "rawType": "object",
         "type": "string"
        },
        {
         "name": "cpc_subclass_at_issue",
         "rawType": "object",
         "type": "string"
        },
        {
         "name": "cpc_group_at_issue",
         "rawType": "object",
         "type": "string"
        },
        {
         "name": "cpc_type_at_issue",
         "rawType": "object",
         "type": "string"
        },
        {
         "name": "cpc_action_date_at_issue",
         "rawType": "object",
         "type": "string"
        },
        {
         "name": "merge_cpc_at_issue",
         "rawType": "object",
         "type": "string"
        },
        {
         "name": "cpc_sequence_current",
         "rawType": "float64",
         "type": "float"
        },
        {
         "name": "cpc_section_current",
         "rawType": "object",
         "type": "string"
        },
        {
         "name": "cpc_class_current",
         "rawType": "object",
         "type": "string"
        },
        {
         "name": "cpc_subclass_current",
         "rawType": "object",
         "type": "string"
        },
        {
         "name": "cpc_group_current",
         "rawType": "object",
         "type": "string"
        },
        {
         "name": "cpc_type_current",
         "rawType": "object",
         "type": "string"
        },
        {
         "name": "merge_cpc_current",
         "rawType": "object",
         "type": "string"
        },
        {
         "name": "abstract",
         "rawType": "object",
         "type": "string"
        },
        {
         "name": "assignee0_disamb",
         "rawType": "object",
         "type": "string"
        },
        {
         "name": "assignee1_disamb",
         "rawType": "float64",
         "type": "float"
        },
        {
         "name": "assignee2_disamb",
         "rawType": "float64",
         "type": "float"
        },
        {
         "name": "has_multiple_assignees_disamb",
         "rawType": "float64",
         "type": "float"
        },
        {
         "name": "merge_assignee_disamb",
         "rawType": "object",
         "type": "string"
        },
        {
         "name": "assignee0_notdisamb",
         "rawType": "object",
         "type": "string"
        },
        {
         "name": "assignee1_notdisamb",
         "rawType": "float64",
         "type": "float"
        },
        {
         "name": "assignee2_notdisamb",
         "rawType": "float64",
         "type": "float"
        },
        {
         "name": "merge_assignee_notdisamb",
         "rawType": "object",
         "type": "string"
        },
        {
         "name": "resold_date",
         "rawType": "float64",
         "type": "float"
        },
        {
         "name": "modnote",
         "rawType": "float64",
         "type": "float"
        },
        {
         "name": "assignor",
         "rawType": "object",
         "type": "string"
        },
        {
         "name": "_merge",
         "rawType": "object",
         "type": "string"
        },
        {
         "name": "acq_quarter",
         "rawType": "object",
         "type": "string"
        },
        {
         "name": "actual_quarter",
         "rawType": "object",
         "type": "string"
        },
        {
         "name": "unique_cpc_treated",
         "rawType": "int64",
         "type": "integer"
        },
        {
         "name": "unique_assignee_treated",
         "rawType": "int64",
         "type": "integer"
        },
        {
         "name": "unique_cpc_control",
         "rawType": "int64",
         "type": "integer"
        },
        {
         "name": "unique_assignee_control",
         "rawType": "int64",
         "type": "integer"
        }
       ],
       "conversionMethod": "pd.DataFrame",
       "ref": "a50ad25e-e0e1-4e73-95ac-cb7b235d576e",
       "rows": [
        [
         "0",
         "10009864",
         "10111122",
         "862",
         "0.0",
         "5.6817933170642805",
         "0.1513671875",
         "0.1513671875",
         "-1",
         "3",
         "0",
         "APPL",
         "Off deal",
         "2019-11-30",
         "2019",
         null,
         "10009864",
         "1",
         null,
         "2018-06-26",
         "utility",
         "2018-06-26",
         "Forming carrier aggregation timing advance groups in a heterogeneous network",
         "B2",
         "20",
         "0",
         "ipg180626.xml",
         "2013-01-01",
         "H",
         "H04",
         "H04W",
         "H04W56/0045",
         "inventional",
         "2018-06-26",
         "Matched (3)",
         "0.0",
         "H",
         "H04",
         "H04W",
         "H04W56/0045",
         "inventional",
         "Matched (3)",
         "Technology for an eNodeB operable to maintain timing advance groups (TAGs) is disclosed. The eNodeB can form a timing advance group (TAG) for one or more serving cells. The eNodeB can map each of the one or more serving cells to the TAG using signaling from the eNodeB. The eNodeB can assign a timing advance group identifier (TAG ID) to the one or more serving cells mapped to the TAG.",
         "Intel Corporation",
         null,
         null,
         "0.0",
         "Matched (3)",
         "INTEL CORPORATION",
         null,
         null,
         "Matched (3)",
         null,
         null,
         "INTEL CORPORATION",
         "Master only (1)",
         "2019Q4",
         "2019Q3",
         "2",
         "1",
         "0",
         "0"
        ],
        [
         "1",
         "10009864",
         "10111122",
         "862",
         "0.0",
         "5.6817933170642805",
         "0.1513671875",
         "0.1513671875",
         "-2",
         "0",
         "0",
         "APPL",
         "Off deal",
         "2019-11-30",
         "2019",
         null,
         "10009864",
         "1",
         null,
         "2018-06-26",
         "utility",
         "2018-06-26",
         "Forming carrier aggregation timing advance groups in a heterogeneous network",
         "B2",
         "20",
         "0",
         "ipg180626.xml",
         "2013-01-01",
         "H",
         "H04",
         "H04W",
         "H04W56/0045",
         "inventional",
         "2018-06-26",
         "Matched (3)",
         "0.0",
         "H",
         "H04",
         "H04W",
         "H04W56/0045",
         "inventional",
         "Matched (3)",
         "Technology for an eNodeB operable to maintain timing advance groups (TAGs) is disclosed. The eNodeB can form a timing advance group (TAG) for one or more serving cells. The eNodeB can map each of the one or more serving cells to the TAG using signaling from the eNodeB. The eNodeB can assign a timing advance group identifier (TAG ID) to the one or more serving cells mapped to the TAG.",
         "Intel Corporation",
         null,
         null,
         "0.0",
         "Matched (3)",
         "INTEL CORPORATION",
         null,
         null,
         "Matched (3)",
         null,
         null,
         "INTEL CORPORATION",
         "Master only (1)",
         "2019Q4",
         "2019Q2",
         "0",
         "0",
         "0",
         "0"
        ],
        [
         "2",
         "10009864",
         "10111122",
         "862",
         "0.0",
         "5.6817933170642805",
         "0.1513671875",
         "0.1513671875",
         "-3",
         "1",
         "0",
         "APPL",
         "Off deal",
         "2019-11-30",
         "2019",
         null,
         "10009864",
         "1",
         null,
         "2018-06-26",
         "utility",
         "2018-06-26",
         "Forming carrier aggregation timing advance groups in a heterogeneous network",
         "B2",
         "20",
         "0",
         "ipg180626.xml",
         "2013-01-01",
         "H",
         "H04",
         "H04W",
         "H04W56/0045",
         "inventional",
         "2018-06-26",
         "Matched (3)",
         "0.0",
         "H",
         "H04",
         "H04W",
         "H04W56/0045",
         "inventional",
         "Matched (3)",
         "Technology for an eNodeB operable to maintain timing advance groups (TAGs) is disclosed. The eNodeB can form a timing advance group (TAG) for one or more serving cells. The eNodeB can map each of the one or more serving cells to the TAG using signaling from the eNodeB. The eNodeB can assign a timing advance group identifier (TAG ID) to the one or more serving cells mapped to the TAG.",
         "Intel Corporation",
         null,
         null,
         "0.0",
         "Matched (3)",
         "INTEL CORPORATION",
         null,
         null,
         "Matched (3)",
         null,
         null,
         "INTEL CORPORATION",
         "Master only (1)",
         "2019Q4",
         "2019Q1",
         "1",
         "1",
         "0",
         "0"
        ],
        [
         "3",
         "10009864",
         "10111122",
         "862",
         "0.0",
         "5.6817933170642805",
         "0.1513671875",
         "0.1513671875",
         "-4",
         "1",
         "0",
         "APPL",
         "Off deal",
         "2019-11-30",
         "2019",
         null,
         "10009864",
         "1",
         null,
         "2018-06-26",
         "utility",
         "2018-06-26",
         "Forming carrier aggregation timing advance groups in a heterogeneous network",
         "B2",
         "20",
         "0",
         "ipg180626.xml",
         "2013-01-01",
         "H",
         "H04",
         "H04W",
         "H04W56/0045",
         "inventional",
         "2018-06-26",
         "Matched (3)",
         "0.0",
         "H",
         "H04",
         "H04W",
         "H04W56/0045",
         "inventional",
         "Matched (3)",
         "Technology for an eNodeB operable to maintain timing advance groups (TAGs) is disclosed. The eNodeB can form a timing advance group (TAG) for one or more serving cells. The eNodeB can map each of the one or more serving cells to the TAG using signaling from the eNodeB. The eNodeB can assign a timing advance group identifier (TAG ID) to the one or more serving cells mapped to the TAG.",
         "Intel Corporation",
         null,
         null,
         "0.0",
         "Matched (3)",
         "INTEL CORPORATION",
         null,
         null,
         "Matched (3)",
         null,
         null,
         "INTEL CORPORATION",
         "Master only (1)",
         "2019Q4",
         "2018Q4",
         "1",
         "1",
         "0",
         "0"
        ],
        [
         "4",
         "10009864",
         "10111122",
         "862",
         "0.0",
         "5.6817933170642805",
         "0.1513671875",
         "0.1513671875",
         "0",
         "4",
         "0",
         "APPL",
         "Off deal",
         "2019-11-30",
         "2019",
         null,
         "10009864",
         "1",
         null,
         "2018-06-26",
         "utility",
         "2018-06-26",
         "Forming carrier aggregation timing advance groups in a heterogeneous network",
         "B2",
         "20",
         "0",
         "ipg180626.xml",
         "2013-01-01",
         "H",
         "H04",
         "H04W",
         "H04W56/0045",
         "inventional",
         "2018-06-26",
         "Matched (3)",
         "0.0",
         "H",
         "H04",
         "H04W",
         "H04W56/0045",
         "inventional",
         "Matched (3)",
         "Technology for an eNodeB operable to maintain timing advance groups (TAGs) is disclosed. The eNodeB can form a timing advance group (TAG) for one or more serving cells. The eNodeB can map each of the one or more serving cells to the TAG using signaling from the eNodeB. The eNodeB can assign a timing advance group identifier (TAG ID) to the one or more serving cells mapped to the TAG.",
         "Intel Corporation",
         null,
         null,
         "0.0",
         "Matched (3)",
         "INTEL CORPORATION",
         null,
         null,
         "Matched (3)",
         null,
         null,
         "INTEL CORPORATION",
         "Master only (1)",
         "2019Q4",
         "2019Q4",
         "4",
         "1",
         "0",
         "0"
        ],
        [
         "5",
         "10009864",
         "10111122",
         "862",
         "0.0",
         "5.6817933170642805",
         "0.1513671875",
         "0.1513671875",
         "1",
         "2",
         "0",
         "APPL",
         "Off deal",
         "2019-11-30",
         "2019",
         null,
         "10009864",
         "1",
         null,
         "2018-06-26",
         "utility",
         "2018-06-26",
         "Forming carrier aggregation timing advance groups in a heterogeneous network",
         "B2",
         "20",
         "0",
         "ipg180626.xml",
         "2013-01-01",
         "H",
         "H04",
         "H04W",
         "H04W56/0045",
         "inventional",
         "2018-06-26",
         "Matched (3)",
         "0.0",
         "H",
         "H04",
         "H04W",
         "H04W56/0045",
         "inventional",
         "Matched (3)",
         "Technology for an eNodeB operable to maintain timing advance groups (TAGs) is disclosed. The eNodeB can form a timing advance group (TAG) for one or more serving cells. The eNodeB can map each of the one or more serving cells to the TAG using signaling from the eNodeB. The eNodeB can assign a timing advance group identifier (TAG ID) to the one or more serving cells mapped to the TAG.",
         "Intel Corporation",
         null,
         null,
         "0.0",
         "Matched (3)",
         "INTEL CORPORATION",
         null,
         null,
         "Matched (3)",
         null,
         null,
         "INTEL CORPORATION",
         "Master only (1)",
         "2019Q4",
         "2020Q1",
         "2",
         "1",
         "0",
         "0"
        ],
        [
         "6",
         "10009864",
         "10111122",
         "862",
         "0.0",
         "5.6817933170642805",
         "0.1513671875",
         "0.1513671875",
         "10",
         "2",
         "0",
         "APPL",
         "Off deal",
         "2019-11-30",
         "2019",
         null,
         "10009864",
         "1",
         null,
         "2018-06-26",
         "utility",
         "2018-06-26",
         "Forming carrier aggregation timing advance groups in a heterogeneous network",
         "B2",
         "20",
         "0",
         "ipg180626.xml",
         "2013-01-01",
         "H",
         "H04",
         "H04W",
         "H04W56/0045",
         "inventional",
         "2018-06-26",
         "Matched (3)",
         "0.0",
         "H",
         "H04",
         "H04W",
         "H04W56/0045",
         "inventional",
         "Matched (3)",
         "Technology for an eNodeB operable to maintain timing advance groups (TAGs) is disclosed. The eNodeB can form a timing advance group (TAG) for one or more serving cells. The eNodeB can map each of the one or more serving cells to the TAG using signaling from the eNodeB. The eNodeB can assign a timing advance group identifier (TAG ID) to the one or more serving cells mapped to the TAG.",
         "Intel Corporation",
         null,
         null,
         "0.0",
         "Matched (3)",
         "INTEL CORPORATION",
         null,
         null,
         "Matched (3)",
         null,
         null,
         "INTEL CORPORATION",
         "Master only (1)",
         "2019Q4",
         "2022Q2",
         "2",
         "1",
         "0",
         "0"
        ],
        [
         "7",
         "10009864",
         "10111122",
         "862",
         "0.0",
         "5.6817933170642805",
         "0.1513671875",
         "0.1513671875",
         "11",
         "0",
         "0",
         "APPL",
         "Off deal",
         "2019-11-30",
         "2019",
         null,
         "10009864",
         "1",
         null,
         "2018-06-26",
         "utility",
         "2018-06-26",
         "Forming carrier aggregation timing advance groups in a heterogeneous network",
         "B2",
         "20",
         "0",
         "ipg180626.xml",
         "2013-01-01",
         "H",
         "H04",
         "H04W",
         "H04W56/0045",
         "inventional",
         "2018-06-26",
         "Matched (3)",
         "0.0",
         "H",
         "H04",
         "H04W",
         "H04W56/0045",
         "inventional",
         "Matched (3)",
         "Technology for an eNodeB operable to maintain timing advance groups (TAGs) is disclosed. The eNodeB can form a timing advance group (TAG) for one or more serving cells. The eNodeB can map each of the one or more serving cells to the TAG using signaling from the eNodeB. The eNodeB can assign a timing advance group identifier (TAG ID) to the one or more serving cells mapped to the TAG.",
         "Intel Corporation",
         null,
         null,
         "0.0",
         "Matched (3)",
         "INTEL CORPORATION",
         null,
         null,
         "Matched (3)",
         null,
         null,
         "INTEL CORPORATION",
         "Master only (1)",
         "2019Q4",
         "2022Q3",
         "0",
         "0",
         "0",
         "0"
        ],
        [
         "8",
         "10009864",
         "10111122",
         "862",
         "0.0",
         "5.6817933170642805",
         "0.1513671875",
         "0.1513671875",
         "12",
         "2",
         "0",
         "APPL",
         "Off deal",
         "2019-11-30",
         "2019",
         null,
         "10009864",
         "1",
         null,
         "2018-06-26",
         "utility",
         "2018-06-26",
         "Forming carrier aggregation timing advance groups in a heterogeneous network",
         "B2",
         "20",
         "0",
         "ipg180626.xml",
         "2013-01-01",
         "H",
         "H04",
         "H04W",
         "H04W56/0045",
         "inventional",
         "2018-06-26",
         "Matched (3)",
         "0.0",
         "H",
         "H04",
         "H04W",
         "H04W56/0045",
         "inventional",
         "Matched (3)",
         "Technology for an eNodeB operable to maintain timing advance groups (TAGs) is disclosed. The eNodeB can form a timing advance group (TAG) for one or more serving cells. The eNodeB can map each of the one or more serving cells to the TAG using signaling from the eNodeB. The eNodeB can assign a timing advance group identifier (TAG ID) to the one or more serving cells mapped to the TAG.",
         "Intel Corporation",
         null,
         null,
         "0.0",
         "Matched (3)",
         "INTEL CORPORATION",
         null,
         null,
         "Matched (3)",
         null,
         null,
         "INTEL CORPORATION",
         "Master only (1)",
         "2019Q4",
         "2022Q4",
         "1",
         "1",
         "0",
         "0"
        ],
        [
         "9",
         "10009864",
         "10111122",
         "862",
         "0.0",
         "5.6817933170642805",
         "0.1513671875",
         "0.1513671875",
         "13",
         "0",
         "0",
         "APPL",
         "Off deal",
         "2019-11-30",
         "2019",
         null,
         "10009864",
         "1",
         null,
         "2018-06-26",
         "utility",
         "2018-06-26",
         "Forming carrier aggregation timing advance groups in a heterogeneous network",
         "B2",
         "20",
         "0",
         "ipg180626.xml",
         "2013-01-01",
         "H",
         "H04",
         "H04W",
         "H04W56/0045",
         "inventional",
         "2018-06-26",
         "Matched (3)",
         "0.0",
         "H",
         "H04",
         "H04W",
         "H04W56/0045",
         "inventional",
         "Matched (3)",
         "Technology for an eNodeB operable to maintain timing advance groups (TAGs) is disclosed. The eNodeB can form a timing advance group (TAG) for one or more serving cells. The eNodeB can map each of the one or more serving cells to the TAG using signaling from the eNodeB. The eNodeB can assign a timing advance group identifier (TAG ID) to the one or more serving cells mapped to the TAG.",
         "Intel Corporation",
         null,
         null,
         "0.0",
         "Matched (3)",
         "INTEL CORPORATION",
         null,
         null,
         "Matched (3)",
         null,
         null,
         "INTEL CORPORATION",
         "Master only (1)",
         "2019Q4",
         "2023Q1",
         "0",
         "0",
         "0",
         "0"
        ],
        [
         "10",
         "10009864",
         "10111122",
         "862",
         "0.0",
         "5.6817933170642805",
         "0.1513671875",
         "0.1513671875",
         "14",
         "0",
         "0",
         "APPL",
         "Off deal",
         "2019-11-30",
         "2019",
         null,
         "10009864",
         "1",
         null,
         "2018-06-26",
         "utility",
         "2018-06-26",
         "Forming carrier aggregation timing advance groups in a heterogeneous network",
         "B2",
         "20",
         "0",
         "ipg180626.xml",
         "2013-01-01",
         "H",
         "H04",
         "H04W",
         "H04W56/0045",
         "inventional",
         "2018-06-26",
         "Matched (3)",
         "0.0",
         "H",
         "H04",
         "H04W",
         "H04W56/0045",
         "inventional",
         "Matched (3)",
         "Technology for an eNodeB operable to maintain timing advance groups (TAGs) is disclosed. The eNodeB can form a timing advance group (TAG) for one or more serving cells. The eNodeB can map each of the one or more serving cells to the TAG using signaling from the eNodeB. The eNodeB can assign a timing advance group identifier (TAG ID) to the one or more serving cells mapped to the TAG.",
         "Intel Corporation",
         null,
         null,
         "0.0",
         "Matched (3)",
         "INTEL CORPORATION",
         null,
         null,
         "Matched (3)",
         null,
         null,
         "INTEL CORPORATION",
         "Master only (1)",
         "2019Q4",
         "2023Q2",
         "0",
         "0",
         "0",
         "0"
        ],
        [
         "11",
         "10009864",
         "10111122",
         "862",
         "0.0",
         "5.6817933170642805",
         "0.1513671875",
         "0.1513671875",
         "15",
         "3",
         "0",
         "APPL",
         "Off deal",
         "2019-11-30",
         "2019",
         null,
         "10009864",
         "1",
         null,
         "2018-06-26",
         "utility",
         "2018-06-26",
         "Forming carrier aggregation timing advance groups in a heterogeneous network",
         "B2",
         "20",
         "0",
         "ipg180626.xml",
         "2013-01-01",
         "H",
         "H04",
         "H04W",
         "H04W56/0045",
         "inventional",
         "2018-06-26",
         "Matched (3)",
         "0.0",
         "H",
         "H04",
         "H04W",
         "H04W56/0045",
         "inventional",
         "Matched (3)",
         "Technology for an eNodeB operable to maintain timing advance groups (TAGs) is disclosed. The eNodeB can form a timing advance group (TAG) for one or more serving cells. The eNodeB can map each of the one or more serving cells to the TAG using signaling from the eNodeB. The eNodeB can assign a timing advance group identifier (TAG ID) to the one or more serving cells mapped to the TAG.",
         "Intel Corporation",
         null,
         null,
         "0.0",
         "Matched (3)",
         "INTEL CORPORATION",
         null,
         null,
         "Matched (3)",
         null,
         null,
         "INTEL CORPORATION",
         "Master only (1)",
         "2019Q4",
         "2023Q3",
         "2",
         "1",
         "0",
         "0"
        ],
        [
         "12",
         "10009864",
         "10111122",
         "862",
         "0.0",
         "5.6817933170642805",
         "0.1513671875",
         "0.1513671875",
         "16",
         "1",
         "0",
         "APPL",
         "Off deal",
         "2019-11-30",
         "2019",
         null,
         "10009864",
         "1",
         null,
         "2018-06-26",
         "utility",
         "2018-06-26",
         "Forming carrier aggregation timing advance groups in a heterogeneous network",
         "B2",
         "20",
         "0",
         "ipg180626.xml",
         "2013-01-01",
         "H",
         "H04",
         "H04W",
         "H04W56/0045",
         "inventional",
         "2018-06-26",
         "Matched (3)",
         "0.0",
         "H",
         "H04",
         "H04W",
         "H04W56/0045",
         "inventional",
         "Matched (3)",
         "Technology for an eNodeB operable to maintain timing advance groups (TAGs) is disclosed. The eNodeB can form a timing advance group (TAG) for one or more serving cells. The eNodeB can map each of the one or more serving cells to the TAG using signaling from the eNodeB. The eNodeB can assign a timing advance group identifier (TAG ID) to the one or more serving cells mapped to the TAG.",
         "Intel Corporation",
         null,
         null,
         "0.0",
         "Matched (3)",
         "INTEL CORPORATION",
         null,
         null,
         "Matched (3)",
         null,
         null,
         "INTEL CORPORATION",
         "Master only (1)",
         "2019Q4",
         "2023Q4",
         "0",
         "0",
         "0",
         "0"
        ],
        [
         "13",
         "10009864",
         "10111122",
         "862",
         "0.0",
         "5.6817933170642805",
         "0.1513671875",
         "0.1513671875",
         "17",
         "0",
         "0",
         "APPL",
         "Off deal",
         "2019-11-30",
         "2019",
         null,
         "10009864",
         "1",
         null,
         "2018-06-26",
         "utility",
         "2018-06-26",
         "Forming carrier aggregation timing advance groups in a heterogeneous network",
         "B2",
         "20",
         "0",
         "ipg180626.xml",
         "2013-01-01",
         "H",
         "H04",
         "H04W",
         "H04W56/0045",
         "inventional",
         "2018-06-26",
         "Matched (3)",
         "0.0",
         "H",
         "H04",
         "H04W",
         "H04W56/0045",
         "inventional",
         "Matched (3)",
         "Technology for an eNodeB operable to maintain timing advance groups (TAGs) is disclosed. The eNodeB can form a timing advance group (TAG) for one or more serving cells. The eNodeB can map each of the one or more serving cells to the TAG using signaling from the eNodeB. The eNodeB can assign a timing advance group identifier (TAG ID) to the one or more serving cells mapped to the TAG.",
         "Intel Corporation",
         null,
         null,
         "0.0",
         "Matched (3)",
         "INTEL CORPORATION",
         null,
         null,
         "Matched (3)",
         null,
         null,
         "INTEL CORPORATION",
         "Master only (1)",
         "2019Q4",
         "2024Q1",
         "0",
         "0",
         "0",
         "0"
        ],
        [
         "14",
         "10009864",
         "10111122",
         "862",
         "0.0",
         "5.6817933170642805",
         "0.1513671875",
         "0.1513671875",
         "18",
         "0",
         "0",
         "APPL",
         "Off deal",
         "2019-11-30",
         "2019",
         null,
         "10009864",
         "1",
         null,
         "2018-06-26",
         "utility",
         "2018-06-26",
         "Forming carrier aggregation timing advance groups in a heterogeneous network",
         "B2",
         "20",
         "0",
         "ipg180626.xml",
         "2013-01-01",
         "H",
         "H04",
         "H04W",
         "H04W56/0045",
         "inventional",
         "2018-06-26",
         "Matched (3)",
         "0.0",
         "H",
         "H04",
         "H04W",
         "H04W56/0045",
         "inventional",
         "Matched (3)",
         "Technology for an eNodeB operable to maintain timing advance groups (TAGs) is disclosed. The eNodeB can form a timing advance group (TAG) for one or more serving cells. The eNodeB can map each of the one or more serving cells to the TAG using signaling from the eNodeB. The eNodeB can assign a timing advance group identifier (TAG ID) to the one or more serving cells mapped to the TAG.",
         "Intel Corporation",
         null,
         null,
         "0.0",
         "Matched (3)",
         "INTEL CORPORATION",
         null,
         null,
         "Matched (3)",
         null,
         null,
         "INTEL CORPORATION",
         "Master only (1)",
         "2019Q4",
         "2024Q2",
         "0",
         "0",
         "0",
         "0"
        ],
        [
         "15",
         "10009864",
         "10111122",
         "862",
         "0.0",
         "5.6817933170642805",
         "0.1513671875",
         "0.1513671875",
         "19",
         "0",
         "0",
         "APPL",
         "Off deal",
         "2019-11-30",
         "2019",
         null,
         "10009864",
         "1",
         null,
         "2018-06-26",
         "utility",
         "2018-06-26",
         "Forming carrier aggregation timing advance groups in a heterogeneous network",
         "B2",
         "20",
         "0",
         "ipg180626.xml",
         "2013-01-01",
         "H",
         "H04",
         "H04W",
         "H04W56/0045",
         "inventional",
         "2018-06-26",
         "Matched (3)",
         "0.0",
         "H",
         "H04",
         "H04W",
         "H04W56/0045",
         "inventional",
         "Matched (3)",
         "Technology for an eNodeB operable to maintain timing advance groups (TAGs) is disclosed. The eNodeB can form a timing advance group (TAG) for one or more serving cells. The eNodeB can map each of the one or more serving cells to the TAG using signaling from the eNodeB. The eNodeB can assign a timing advance group identifier (TAG ID) to the one or more serving cells mapped to the TAG.",
         "Intel Corporation",
         null,
         null,
         "0.0",
         "Matched (3)",
         "INTEL CORPORATION",
         null,
         null,
         "Matched (3)",
         null,
         null,
         "INTEL CORPORATION",
         "Master only (1)",
         "2019Q4",
         "2024Q3",
         "0",
         "0",
         "0",
         "0"
        ],
        [
         "16",
         "10009864",
         "10111122",
         "862",
         "0.0",
         "5.6817933170642805",
         "0.1513671875",
         "0.1513671875",
         "2",
         "1",
         "0",
         "APPL",
         "Off deal",
         "2019-11-30",
         "2019",
         null,
         "10009864",
         "1",
         null,
         "2018-06-26",
         "utility",
         "2018-06-26",
         "Forming carrier aggregation timing advance groups in a heterogeneous network",
         "B2",
         "20",
         "0",
         "ipg180626.xml",
         "2013-01-01",
         "H",
         "H04",
         "H04W",
         "H04W56/0045",
         "inventional",
         "2018-06-26",
         "Matched (3)",
         "0.0",
         "H",
         "H04",
         "H04W",
         "H04W56/0045",
         "inventional",
         "Matched (3)",
         "Technology for an eNodeB operable to maintain timing advance groups (TAGs) is disclosed. The eNodeB can form a timing advance group (TAG) for one or more serving cells. The eNodeB can map each of the one or more serving cells to the TAG using signaling from the eNodeB. The eNodeB can assign a timing advance group identifier (TAG ID) to the one or more serving cells mapped to the TAG.",
         "Intel Corporation",
         null,
         null,
         "0.0",
         "Matched (3)",
         "INTEL CORPORATION",
         null,
         null,
         "Matched (3)",
         null,
         null,
         "INTEL CORPORATION",
         "Master only (1)",
         "2019Q4",
         "2020Q2",
         "1",
         "1",
         "0",
         "0"
        ],
        [
         "17",
         "10009864",
         "10111122",
         "862",
         "0.0",
         "5.6817933170642805",
         "0.1513671875",
         "0.1513671875",
         "20",
         "0",
         "0",
         "APPL",
         "Off deal",
         "2019-11-30",
         "2019",
         null,
         "10009864",
         "1",
         null,
         "2018-06-26",
         "utility",
         "2018-06-26",
         "Forming carrier aggregation timing advance groups in a heterogeneous network",
         "B2",
         "20",
         "0",
         "ipg180626.xml",
         "2013-01-01",
         "H",
         "H04",
         "H04W",
         "H04W56/0045",
         "inventional",
         "2018-06-26",
         "Matched (3)",
         "0.0",
         "H",
         "H04",
         "H04W",
         "H04W56/0045",
         "inventional",
         "Matched (3)",
         "Technology for an eNodeB operable to maintain timing advance groups (TAGs) is disclosed. The eNodeB can form a timing advance group (TAG) for one or more serving cells. The eNodeB can map each of the one or more serving cells to the TAG using signaling from the eNodeB. The eNodeB can assign a timing advance group identifier (TAG ID) to the one or more serving cells mapped to the TAG.",
         "Intel Corporation",
         null,
         null,
         "0.0",
         "Matched (3)",
         "INTEL CORPORATION",
         null,
         null,
         "Matched (3)",
         null,
         null,
         "INTEL CORPORATION",
         "Master only (1)",
         "2019Q4",
         "2024Q4",
         "0",
         "0",
         "0",
         "0"
        ],
        [
         "18",
         "10009864",
         "10111122",
         "862",
         "0.0",
         "5.6817933170642805",
         "0.1513671875",
         "0.1513671875",
         "3",
         "2",
         "0",
         "APPL",
         "Off deal",
         "2019-11-30",
         "2019",
         null,
         "10009864",
         "1",
         null,
         "2018-06-26",
         "utility",
         "2018-06-26",
         "Forming carrier aggregation timing advance groups in a heterogeneous network",
         "B2",
         "20",
         "0",
         "ipg180626.xml",
         "2013-01-01",
         "H",
         "H04",
         "H04W",
         "H04W56/0045",
         "inventional",
         "2018-06-26",
         "Matched (3)",
         "0.0",
         "H",
         "H04",
         "H04W",
         "H04W56/0045",
         "inventional",
         "Matched (3)",
         "Technology for an eNodeB operable to maintain timing advance groups (TAGs) is disclosed. The eNodeB can form a timing advance group (TAG) for one or more serving cells. The eNodeB can map each of the one or more serving cells to the TAG using signaling from the eNodeB. The eNodeB can assign a timing advance group identifier (TAG ID) to the one or more serving cells mapped to the TAG.",
         "Intel Corporation",
         null,
         null,
         "0.0",
         "Matched (3)",
         "INTEL CORPORATION",
         null,
         null,
         "Matched (3)",
         null,
         null,
         "INTEL CORPORATION",
         "Master only (1)",
         "2019Q4",
         "2020Q3",
         "2",
         "1",
         "0",
         "0"
        ],
        [
         "19",
         "10009864",
         "10111122",
         "862",
         "0.0",
         "5.6817933170642805",
         "0.1513671875",
         "0.1513671875",
         "4",
         "3",
         "0",
         "APPL",
         "Off deal",
         "2019-11-30",
         "2019",
         null,
         "10009864",
         "1",
         null,
         "2018-06-26",
         "utility",
         "2018-06-26",
         "Forming carrier aggregation timing advance groups in a heterogeneous network",
         "B2",
         "20",
         "0",
         "ipg180626.xml",
         "2013-01-01",
         "H",
         "H04",
         "H04W",
         "H04W56/0045",
         "inventional",
         "2018-06-26",
         "Matched (3)",
         "0.0",
         "H",
         "H04",
         "H04W",
         "H04W56/0045",
         "inventional",
         "Matched (3)",
         "Technology for an eNodeB operable to maintain timing advance groups (TAGs) is disclosed. The eNodeB can form a timing advance group (TAG) for one or more serving cells. The eNodeB can map each of the one or more serving cells to the TAG using signaling from the eNodeB. The eNodeB can assign a timing advance group identifier (TAG ID) to the one or more serving cells mapped to the TAG.",
         "Intel Corporation",
         null,
         null,
         "0.0",
         "Matched (3)",
         "INTEL CORPORATION",
         null,
         null,
         "Matched (3)",
         null,
         null,
         "INTEL CORPORATION",
         "Master only (1)",
         "2019Q4",
         "2020Q4",
         "2",
         "2",
         "0",
         "0"
        ]
       ],
       "shape": {
        "columns": 61,
        "rows": 20
       }
      },
      "text/html": [
       "<div>\n",
       "<style scoped>\n",
       "    .dataframe tbody tr th:only-of-type {\n",
       "        vertical-align: middle;\n",
       "    }\n",
       "\n",
       "    .dataframe tbody tr th {\n",
       "        vertical-align: top;\n",
       "    }\n",
       "\n",
       "    .dataframe thead th {\n",
       "        text-align: right;\n",
       "    }\n",
       "</style>\n",
       "<table border=\"1\" class=\"dataframe\">\n",
       "  <thead>\n",
       "    <tr style=\"text-align: right;\">\n",
       "      <th></th>\n",
       "      <th>treated_id</th>\n",
       "      <th>control_id</th>\n",
       "      <th>match_id</th>\n",
       "      <th>lambda</th>\n",
       "      <th>mahalanobis_distance</th>\n",
       "      <th>cosine_distance</th>\n",
       "      <th>hybrid_distance</th>\n",
       "      <th>quarter</th>\n",
       "      <th>citations_treated</th>\n",
       "      <th>citations_control</th>\n",
       "      <th>...</th>\n",
       "      <th>resold_date</th>\n",
       "      <th>modnote</th>\n",
       "      <th>assignor</th>\n",
       "      <th>_merge</th>\n",
       "      <th>acq_quarter</th>\n",
       "      <th>actual_quarter</th>\n",
       "      <th>unique_cpc_treated</th>\n",
       "      <th>unique_assignee_treated</th>\n",
       "      <th>unique_cpc_control</th>\n",
       "      <th>unique_assignee_control</th>\n",
       "    </tr>\n",
       "  </thead>\n",
       "  <tbody>\n",
       "    <tr>\n",
       "      <th>0</th>\n",
       "      <td>10009864</td>\n",
       "      <td>10111122</td>\n",
       "      <td>862</td>\n",
       "      <td>0.0</td>\n",
       "      <td>5.681793</td>\n",
       "      <td>0.151367</td>\n",
       "      <td>0.151367</td>\n",
       "      <td>-1</td>\n",
       "      <td>3</td>\n",
       "      <td>0</td>\n",
       "      <td>...</td>\n",
       "      <td>NaN</td>\n",
       "      <td>NaN</td>\n",
       "      <td>INTEL CORPORATION</td>\n",
       "      <td>Master only (1)</td>\n",
       "      <td>2019Q4</td>\n",
       "      <td>2019Q3</td>\n",
       "      <td>2</td>\n",
       "      <td>1</td>\n",
       "      <td>0</td>\n",
       "      <td>0</td>\n",
       "    </tr>\n",
       "    <tr>\n",
       "      <th>1</th>\n",
       "      <td>10009864</td>\n",
       "      <td>10111122</td>\n",
       "      <td>862</td>\n",
       "      <td>0.0</td>\n",
       "      <td>5.681793</td>\n",
       "      <td>0.151367</td>\n",
       "      <td>0.151367</td>\n",
       "      <td>-2</td>\n",
       "      <td>0</td>\n",
       "      <td>0</td>\n",
       "      <td>...</td>\n",
       "      <td>NaN</td>\n",
       "      <td>NaN</td>\n",
       "      <td>INTEL CORPORATION</td>\n",
       "      <td>Master only (1)</td>\n",
       "      <td>2019Q4</td>\n",
       "      <td>2019Q2</td>\n",
       "      <td>0</td>\n",
       "      <td>0</td>\n",
       "      <td>0</td>\n",
       "      <td>0</td>\n",
       "    </tr>\n",
       "    <tr>\n",
       "      <th>2</th>\n",
       "      <td>10009864</td>\n",
       "      <td>10111122</td>\n",
       "      <td>862</td>\n",
       "      <td>0.0</td>\n",
       "      <td>5.681793</td>\n",
       "      <td>0.151367</td>\n",
       "      <td>0.151367</td>\n",
       "      <td>-3</td>\n",
       "      <td>1</td>\n",
       "      <td>0</td>\n",
       "      <td>...</td>\n",
       "      <td>NaN</td>\n",
       "      <td>NaN</td>\n",
       "      <td>INTEL CORPORATION</td>\n",
       "      <td>Master only (1)</td>\n",
       "      <td>2019Q4</td>\n",
       "      <td>2019Q1</td>\n",
       "      <td>1</td>\n",
       "      <td>1</td>\n",
       "      <td>0</td>\n",
       "      <td>0</td>\n",
       "    </tr>\n",
       "    <tr>\n",
       "      <th>3</th>\n",
       "      <td>10009864</td>\n",
       "      <td>10111122</td>\n",
       "      <td>862</td>\n",
       "      <td>0.0</td>\n",
       "      <td>5.681793</td>\n",
       "      <td>0.151367</td>\n",
       "      <td>0.151367</td>\n",
       "      <td>-4</td>\n",
       "      <td>1</td>\n",
       "      <td>0</td>\n",
       "      <td>...</td>\n",
       "      <td>NaN</td>\n",
       "      <td>NaN</td>\n",
       "      <td>INTEL CORPORATION</td>\n",
       "      <td>Master only (1)</td>\n",
       "      <td>2019Q4</td>\n",
       "      <td>2018Q4</td>\n",
       "      <td>1</td>\n",
       "      <td>1</td>\n",
       "      <td>0</td>\n",
       "      <td>0</td>\n",
       "    </tr>\n",
       "    <tr>\n",
       "      <th>4</th>\n",
       "      <td>10009864</td>\n",
       "      <td>10111122</td>\n",
       "      <td>862</td>\n",
       "      <td>0.0</td>\n",
       "      <td>5.681793</td>\n",
       "      <td>0.151367</td>\n",
       "      <td>0.151367</td>\n",
       "      <td>0</td>\n",
       "      <td>4</td>\n",
       "      <td>0</td>\n",
       "      <td>...</td>\n",
       "      <td>NaN</td>\n",
       "      <td>NaN</td>\n",
       "      <td>INTEL CORPORATION</td>\n",
       "      <td>Master only (1)</td>\n",
       "      <td>2019Q4</td>\n",
       "      <td>2019Q4</td>\n",
       "      <td>4</td>\n",
       "      <td>1</td>\n",
       "      <td>0</td>\n",
       "      <td>0</td>\n",
       "    </tr>\n",
       "    <tr>\n",
       "      <th>5</th>\n",
       "      <td>10009864</td>\n",
       "      <td>10111122</td>\n",
       "      <td>862</td>\n",
       "      <td>0.0</td>\n",
       "      <td>5.681793</td>\n",
       "      <td>0.151367</td>\n",
       "      <td>0.151367</td>\n",
       "      <td>1</td>\n",
       "      <td>2</td>\n",
       "      <td>0</td>\n",
       "      <td>...</td>\n",
       "      <td>NaN</td>\n",
       "      <td>NaN</td>\n",
       "      <td>INTEL CORPORATION</td>\n",
       "      <td>Master only (1)</td>\n",
       "      <td>2019Q4</td>\n",
       "      <td>2020Q1</td>\n",
       "      <td>2</td>\n",
       "      <td>1</td>\n",
       "      <td>0</td>\n",
       "      <td>0</td>\n",
       "    </tr>\n",
       "    <tr>\n",
       "      <th>6</th>\n",
       "      <td>10009864</td>\n",
       "      <td>10111122</td>\n",
       "      <td>862</td>\n",
       "      <td>0.0</td>\n",
       "      <td>5.681793</td>\n",
       "      <td>0.151367</td>\n",
       "      <td>0.151367</td>\n",
       "      <td>10</td>\n",
       "      <td>2</td>\n",
       "      <td>0</td>\n",
       "      <td>...</td>\n",
       "      <td>NaN</td>\n",
       "      <td>NaN</td>\n",
       "      <td>INTEL CORPORATION</td>\n",
       "      <td>Master only (1)</td>\n",
       "      <td>2019Q4</td>\n",
       "      <td>2022Q2</td>\n",
       "      <td>2</td>\n",
       "      <td>1</td>\n",
       "      <td>0</td>\n",
       "      <td>0</td>\n",
       "    </tr>\n",
       "    <tr>\n",
       "      <th>7</th>\n",
       "      <td>10009864</td>\n",
       "      <td>10111122</td>\n",
       "      <td>862</td>\n",
       "      <td>0.0</td>\n",
       "      <td>5.681793</td>\n",
       "      <td>0.151367</td>\n",
       "      <td>0.151367</td>\n",
       "      <td>11</td>\n",
       "      <td>0</td>\n",
       "      <td>0</td>\n",
       "      <td>...</td>\n",
       "      <td>NaN</td>\n",
       "      <td>NaN</td>\n",
       "      <td>INTEL CORPORATION</td>\n",
       "      <td>Master only (1)</td>\n",
       "      <td>2019Q4</td>\n",
       "      <td>2022Q3</td>\n",
       "      <td>0</td>\n",
       "      <td>0</td>\n",
       "      <td>0</td>\n",
       "      <td>0</td>\n",
       "    </tr>\n",
       "    <tr>\n",
       "      <th>8</th>\n",
       "      <td>10009864</td>\n",
       "      <td>10111122</td>\n",
       "      <td>862</td>\n",
       "      <td>0.0</td>\n",
       "      <td>5.681793</td>\n",
       "      <td>0.151367</td>\n",
       "      <td>0.151367</td>\n",
       "      <td>12</td>\n",
       "      <td>2</td>\n",
       "      <td>0</td>\n",
       "      <td>...</td>\n",
       "      <td>NaN</td>\n",
       "      <td>NaN</td>\n",
       "      <td>INTEL CORPORATION</td>\n",
       "      <td>Master only (1)</td>\n",
       "      <td>2019Q4</td>\n",
       "      <td>2022Q4</td>\n",
       "      <td>1</td>\n",
       "      <td>1</td>\n",
       "      <td>0</td>\n",
       "      <td>0</td>\n",
       "    </tr>\n",
       "    <tr>\n",
       "      <th>9</th>\n",
       "      <td>10009864</td>\n",
       "      <td>10111122</td>\n",
       "      <td>862</td>\n",
       "      <td>0.0</td>\n",
       "      <td>5.681793</td>\n",
       "      <td>0.151367</td>\n",
       "      <td>0.151367</td>\n",
       "      <td>13</td>\n",
       "      <td>0</td>\n",
       "      <td>0</td>\n",
       "      <td>...</td>\n",
       "      <td>NaN</td>\n",
       "      <td>NaN</td>\n",
       "      <td>INTEL CORPORATION</td>\n",
       "      <td>Master only (1)</td>\n",
       "      <td>2019Q4</td>\n",
       "      <td>2023Q1</td>\n",
       "      <td>0</td>\n",
       "      <td>0</td>\n",
       "      <td>0</td>\n",
       "      <td>0</td>\n",
       "    </tr>\n",
       "    <tr>\n",
       "      <th>10</th>\n",
       "      <td>10009864</td>\n",
       "      <td>10111122</td>\n",
       "      <td>862</td>\n",
       "      <td>0.0</td>\n",
       "      <td>5.681793</td>\n",
       "      <td>0.151367</td>\n",
       "      <td>0.151367</td>\n",
       "      <td>14</td>\n",
       "      <td>0</td>\n",
       "      <td>0</td>\n",
       "      <td>...</td>\n",
       "      <td>NaN</td>\n",
       "      <td>NaN</td>\n",
       "      <td>INTEL CORPORATION</td>\n",
       "      <td>Master only (1)</td>\n",
       "      <td>2019Q4</td>\n",
       "      <td>2023Q2</td>\n",
       "      <td>0</td>\n",
       "      <td>0</td>\n",
       "      <td>0</td>\n",
       "      <td>0</td>\n",
       "    </tr>\n",
       "    <tr>\n",
       "      <th>11</th>\n",
       "      <td>10009864</td>\n",
       "      <td>10111122</td>\n",
       "      <td>862</td>\n",
       "      <td>0.0</td>\n",
       "      <td>5.681793</td>\n",
       "      <td>0.151367</td>\n",
       "      <td>0.151367</td>\n",
       "      <td>15</td>\n",
       "      <td>3</td>\n",
       "      <td>0</td>\n",
       "      <td>...</td>\n",
       "      <td>NaN</td>\n",
       "      <td>NaN</td>\n",
       "      <td>INTEL CORPORATION</td>\n",
       "      <td>Master only (1)</td>\n",
       "      <td>2019Q4</td>\n",
       "      <td>2023Q3</td>\n",
       "      <td>2</td>\n",
       "      <td>1</td>\n",
       "      <td>0</td>\n",
       "      <td>0</td>\n",
       "    </tr>\n",
       "    <tr>\n",
       "      <th>12</th>\n",
       "      <td>10009864</td>\n",
       "      <td>10111122</td>\n",
       "      <td>862</td>\n",
       "      <td>0.0</td>\n",
       "      <td>5.681793</td>\n",
       "      <td>0.151367</td>\n",
       "      <td>0.151367</td>\n",
       "      <td>16</td>\n",
       "      <td>1</td>\n",
       "      <td>0</td>\n",
       "      <td>...</td>\n",
       "      <td>NaN</td>\n",
       "      <td>NaN</td>\n",
       "      <td>INTEL CORPORATION</td>\n",
       "      <td>Master only (1)</td>\n",
       "      <td>2019Q4</td>\n",
       "      <td>2023Q4</td>\n",
       "      <td>0</td>\n",
       "      <td>0</td>\n",
       "      <td>0</td>\n",
       "      <td>0</td>\n",
       "    </tr>\n",
       "    <tr>\n",
       "      <th>13</th>\n",
       "      <td>10009864</td>\n",
       "      <td>10111122</td>\n",
       "      <td>862</td>\n",
       "      <td>0.0</td>\n",
       "      <td>5.681793</td>\n",
       "      <td>0.151367</td>\n",
       "      <td>0.151367</td>\n",
       "      <td>17</td>\n",
       "      <td>0</td>\n",
       "      <td>0</td>\n",
       "      <td>...</td>\n",
       "      <td>NaN</td>\n",
       "      <td>NaN</td>\n",
       "      <td>INTEL CORPORATION</td>\n",
       "      <td>Master only (1)</td>\n",
       "      <td>2019Q4</td>\n",
       "      <td>2024Q1</td>\n",
       "      <td>0</td>\n",
       "      <td>0</td>\n",
       "      <td>0</td>\n",
       "      <td>0</td>\n",
       "    </tr>\n",
       "    <tr>\n",
       "      <th>14</th>\n",
       "      <td>10009864</td>\n",
       "      <td>10111122</td>\n",
       "      <td>862</td>\n",
       "      <td>0.0</td>\n",
       "      <td>5.681793</td>\n",
       "      <td>0.151367</td>\n",
       "      <td>0.151367</td>\n",
       "      <td>18</td>\n",
       "      <td>0</td>\n",
       "      <td>0</td>\n",
       "      <td>...</td>\n",
       "      <td>NaN</td>\n",
       "      <td>NaN</td>\n",
       "      <td>INTEL CORPORATION</td>\n",
       "      <td>Master only (1)</td>\n",
       "      <td>2019Q4</td>\n",
       "      <td>2024Q2</td>\n",
       "      <td>0</td>\n",
       "      <td>0</td>\n",
       "      <td>0</td>\n",
       "      <td>0</td>\n",
       "    </tr>\n",
       "    <tr>\n",
       "      <th>15</th>\n",
       "      <td>10009864</td>\n",
       "      <td>10111122</td>\n",
       "      <td>862</td>\n",
       "      <td>0.0</td>\n",
       "      <td>5.681793</td>\n",
       "      <td>0.151367</td>\n",
       "      <td>0.151367</td>\n",
       "      <td>19</td>\n",
       "      <td>0</td>\n",
       "      <td>0</td>\n",
       "      <td>...</td>\n",
       "      <td>NaN</td>\n",
       "      <td>NaN</td>\n",
       "      <td>INTEL CORPORATION</td>\n",
       "      <td>Master only (1)</td>\n",
       "      <td>2019Q4</td>\n",
       "      <td>2024Q3</td>\n",
       "      <td>0</td>\n",
       "      <td>0</td>\n",
       "      <td>0</td>\n",
       "      <td>0</td>\n",
       "    </tr>\n",
       "    <tr>\n",
       "      <th>16</th>\n",
       "      <td>10009864</td>\n",
       "      <td>10111122</td>\n",
       "      <td>862</td>\n",
       "      <td>0.0</td>\n",
       "      <td>5.681793</td>\n",
       "      <td>0.151367</td>\n",
       "      <td>0.151367</td>\n",
       "      <td>2</td>\n",
       "      <td>1</td>\n",
       "      <td>0</td>\n",
       "      <td>...</td>\n",
       "      <td>NaN</td>\n",
       "      <td>NaN</td>\n",
       "      <td>INTEL CORPORATION</td>\n",
       "      <td>Master only (1)</td>\n",
       "      <td>2019Q4</td>\n",
       "      <td>2020Q2</td>\n",
       "      <td>1</td>\n",
       "      <td>1</td>\n",
       "      <td>0</td>\n",
       "      <td>0</td>\n",
       "    </tr>\n",
       "    <tr>\n",
       "      <th>17</th>\n",
       "      <td>10009864</td>\n",
       "      <td>10111122</td>\n",
       "      <td>862</td>\n",
       "      <td>0.0</td>\n",
       "      <td>5.681793</td>\n",
       "      <td>0.151367</td>\n",
       "      <td>0.151367</td>\n",
       "      <td>20</td>\n",
       "      <td>0</td>\n",
       "      <td>0</td>\n",
       "      <td>...</td>\n",
       "      <td>NaN</td>\n",
       "      <td>NaN</td>\n",
       "      <td>INTEL CORPORATION</td>\n",
       "      <td>Master only (1)</td>\n",
       "      <td>2019Q4</td>\n",
       "      <td>2024Q4</td>\n",
       "      <td>0</td>\n",
       "      <td>0</td>\n",
       "      <td>0</td>\n",
       "      <td>0</td>\n",
       "    </tr>\n",
       "    <tr>\n",
       "      <th>18</th>\n",
       "      <td>10009864</td>\n",
       "      <td>10111122</td>\n",
       "      <td>862</td>\n",
       "      <td>0.0</td>\n",
       "      <td>5.681793</td>\n",
       "      <td>0.151367</td>\n",
       "      <td>0.151367</td>\n",
       "      <td>3</td>\n",
       "      <td>2</td>\n",
       "      <td>0</td>\n",
       "      <td>...</td>\n",
       "      <td>NaN</td>\n",
       "      <td>NaN</td>\n",
       "      <td>INTEL CORPORATION</td>\n",
       "      <td>Master only (1)</td>\n",
       "      <td>2019Q4</td>\n",
       "      <td>2020Q3</td>\n",
       "      <td>2</td>\n",
       "      <td>1</td>\n",
       "      <td>0</td>\n",
       "      <td>0</td>\n",
       "    </tr>\n",
       "    <tr>\n",
       "      <th>19</th>\n",
       "      <td>10009864</td>\n",
       "      <td>10111122</td>\n",
       "      <td>862</td>\n",
       "      <td>0.0</td>\n",
       "      <td>5.681793</td>\n",
       "      <td>0.151367</td>\n",
       "      <td>0.151367</td>\n",
       "      <td>4</td>\n",
       "      <td>3</td>\n",
       "      <td>0</td>\n",
       "      <td>...</td>\n",
       "      <td>NaN</td>\n",
       "      <td>NaN</td>\n",
       "      <td>INTEL CORPORATION</td>\n",
       "      <td>Master only (1)</td>\n",
       "      <td>2019Q4</td>\n",
       "      <td>2020Q4</td>\n",
       "      <td>2</td>\n",
       "      <td>2</td>\n",
       "      <td>0</td>\n",
       "      <td>0</td>\n",
       "    </tr>\n",
       "  </tbody>\n",
       "</table>\n",
       "<p>20 rows × 61 columns</p>\n",
       "</div>"
      ],
      "text/plain": [
       "    treated_id  control_id  match_id  lambda  mahalanobis_distance  \\\n",
       "0     10009864    10111122       862     0.0              5.681793   \n",
       "1     10009864    10111122       862     0.0              5.681793   \n",
       "2     10009864    10111122       862     0.0              5.681793   \n",
       "3     10009864    10111122       862     0.0              5.681793   \n",
       "4     10009864    10111122       862     0.0              5.681793   \n",
       "5     10009864    10111122       862     0.0              5.681793   \n",
       "6     10009864    10111122       862     0.0              5.681793   \n",
       "7     10009864    10111122       862     0.0              5.681793   \n",
       "8     10009864    10111122       862     0.0              5.681793   \n",
       "9     10009864    10111122       862     0.0              5.681793   \n",
       "10    10009864    10111122       862     0.0              5.681793   \n",
       "11    10009864    10111122       862     0.0              5.681793   \n",
       "12    10009864    10111122       862     0.0              5.681793   \n",
       "13    10009864    10111122       862     0.0              5.681793   \n",
       "14    10009864    10111122       862     0.0              5.681793   \n",
       "15    10009864    10111122       862     0.0              5.681793   \n",
       "16    10009864    10111122       862     0.0              5.681793   \n",
       "17    10009864    10111122       862     0.0              5.681793   \n",
       "18    10009864    10111122       862     0.0              5.681793   \n",
       "19    10009864    10111122       862     0.0              5.681793   \n",
       "\n",
       "    cosine_distance  hybrid_distance  quarter  citations_treated  \\\n",
       "0          0.151367         0.151367       -1                  3   \n",
       "1          0.151367         0.151367       -2                  0   \n",
       "2          0.151367         0.151367       -3                  1   \n",
       "3          0.151367         0.151367       -4                  1   \n",
       "4          0.151367         0.151367        0                  4   \n",
       "5          0.151367         0.151367        1                  2   \n",
       "6          0.151367         0.151367       10                  2   \n",
       "7          0.151367         0.151367       11                  0   \n",
       "8          0.151367         0.151367       12                  2   \n",
       "9          0.151367         0.151367       13                  0   \n",
       "10         0.151367         0.151367       14                  0   \n",
       "11         0.151367         0.151367       15                  3   \n",
       "12         0.151367         0.151367       16                  1   \n",
       "13         0.151367         0.151367       17                  0   \n",
       "14         0.151367         0.151367       18                  0   \n",
       "15         0.151367         0.151367       19                  0   \n",
       "16         0.151367         0.151367        2                  1   \n",
       "17         0.151367         0.151367       20                  0   \n",
       "18         0.151367         0.151367        3                  2   \n",
       "19         0.151367         0.151367        4                  3   \n",
       "\n",
       "    citations_control  ... resold_date modnote           assignor  \\\n",
       "0                   0  ...         NaN     NaN  INTEL CORPORATION   \n",
       "1                   0  ...         NaN     NaN  INTEL CORPORATION   \n",
       "2                   0  ...         NaN     NaN  INTEL CORPORATION   \n",
       "3                   0  ...         NaN     NaN  INTEL CORPORATION   \n",
       "4                   0  ...         NaN     NaN  INTEL CORPORATION   \n",
       "5                   0  ...         NaN     NaN  INTEL CORPORATION   \n",
       "6                   0  ...         NaN     NaN  INTEL CORPORATION   \n",
       "7                   0  ...         NaN     NaN  INTEL CORPORATION   \n",
       "8                   0  ...         NaN     NaN  INTEL CORPORATION   \n",
       "9                   0  ...         NaN     NaN  INTEL CORPORATION   \n",
       "10                  0  ...         NaN     NaN  INTEL CORPORATION   \n",
       "11                  0  ...         NaN     NaN  INTEL CORPORATION   \n",
       "12                  0  ...         NaN     NaN  INTEL CORPORATION   \n",
       "13                  0  ...         NaN     NaN  INTEL CORPORATION   \n",
       "14                  0  ...         NaN     NaN  INTEL CORPORATION   \n",
       "15                  0  ...         NaN     NaN  INTEL CORPORATION   \n",
       "16                  0  ...         NaN     NaN  INTEL CORPORATION   \n",
       "17                  0  ...         NaN     NaN  INTEL CORPORATION   \n",
       "18                  0  ...         NaN     NaN  INTEL CORPORATION   \n",
       "19                  0  ...         NaN     NaN  INTEL CORPORATION   \n",
       "\n",
       "             _merge  acq_quarter  actual_quarter  unique_cpc_treated  \\\n",
       "0   Master only (1)       2019Q4          2019Q3                   2   \n",
       "1   Master only (1)       2019Q4          2019Q2                   0   \n",
       "2   Master only (1)       2019Q4          2019Q1                   1   \n",
       "3   Master only (1)       2019Q4          2018Q4                   1   \n",
       "4   Master only (1)       2019Q4          2019Q4                   4   \n",
       "5   Master only (1)       2019Q4          2020Q1                   2   \n",
       "6   Master only (1)       2019Q4          2022Q2                   2   \n",
       "7   Master only (1)       2019Q4          2022Q3                   0   \n",
       "8   Master only (1)       2019Q4          2022Q4                   1   \n",
       "9   Master only (1)       2019Q4          2023Q1                   0   \n",
       "10  Master only (1)       2019Q4          2023Q2                   0   \n",
       "11  Master only (1)       2019Q4          2023Q3                   2   \n",
       "12  Master only (1)       2019Q4          2023Q4                   0   \n",
       "13  Master only (1)       2019Q4          2024Q1                   0   \n",
       "14  Master only (1)       2019Q4          2024Q2                   0   \n",
       "15  Master only (1)       2019Q4          2024Q3                   0   \n",
       "16  Master only (1)       2019Q4          2020Q2                   1   \n",
       "17  Master only (1)       2019Q4          2024Q4                   0   \n",
       "18  Master only (1)       2019Q4          2020Q3                   2   \n",
       "19  Master only (1)       2019Q4          2020Q4                   2   \n",
       "\n",
       "    unique_assignee_treated unique_cpc_control unique_assignee_control  \n",
       "0                         1                  0                       0  \n",
       "1                         0                  0                       0  \n",
       "2                         1                  0                       0  \n",
       "3                         1                  0                       0  \n",
       "4                         1                  0                       0  \n",
       "5                         1                  0                       0  \n",
       "6                         1                  0                       0  \n",
       "7                         0                  0                       0  \n",
       "8                         1                  0                       0  \n",
       "9                         0                  0                       0  \n",
       "10                        0                  0                       0  \n",
       "11                        1                  0                       0  \n",
       "12                        0                  0                       0  \n",
       "13                        0                  0                       0  \n",
       "14                        0                  0                       0  \n",
       "15                        0                  0                       0  \n",
       "16                        1                  0                       0  \n",
       "17                        0                  0                       0  \n",
       "18                        1                  0                       0  \n",
       "19                        2                  0                       0  \n",
       "\n",
       "[20 rows x 61 columns]"
      ]
     },
     "execution_count": 1,
     "metadata": {},
     "output_type": "execute_result"
    }
   ],
   "source": [
    "import pandas as pd\n",
    "import numpy as np\n",
    "\n",
    "df = pd.read_csv(r\"C:\\Users\\amusali\\Desktop\\uc3m PhD\\05 Analysis\\01 Main\\03 Python scripts\\03 Estimation\\02 Top Tech\\02 Off deal\\raw\\10 Sample - top tech, OD, filing date, enhanced.csv\")\n",
    "\n",
    "df.head(20)"
   ]
  },
  {
   "cell_type": "markdown",
   "metadata": {},
   "source": [
    "# Run multiperiod DiD by lambda "
   ]
  },
  {
   "cell_type": "markdown",
   "metadata": {},
   "source": [
    "## Functions"
   ]
  },
  {
   "cell_type": "code",
   "execution_count": 5,
   "metadata": {},
   "outputs": [],
   "source": [
    "import pandas as pd\n",
    "import os\n",
    "import numpy as np\n",
    "import matplotlib.pyplot as plt\n",
    "import seaborn as sns\n",
    "from tqdm.auto import tqdm\n",
    "from scipy.stats import ks_2samp\n",
    "\n",
    "def compute_individual_TE(df,\n",
    "                          outcome_treated='citations_treated',\n",
    "                          outcome_control='citations_control',\n",
    "                          index_cols=['lambda', 'match_id'],\n",
    "                          quarter_col='quarter',\n",
    "                          baseline=-1,\n",
    "                          max_period=16):\n",
    "    \"\"\"\n",
    "    Computes individual treatment effects (TE) for each match.\n",
    "    \n",
    "    TE(t) = [treated(t) - treated(baseline)] - [control(t) - control(baseline)]\n",
    "    \n",
    "    Only includes matches that have non-missing outcomes for every quarter from \n",
    "    the baseline to max_period.\n",
    "    \n",
    "    Parameters:\n",
    "      - df: DataFrame in long format.\n",
    "      - outcome_treated: Column name for the treated outcome.\n",
    "      - outcome_control: Column name for the control outcome.\n",
    "      - index_cols: List of columns that uniquely identify a match (e.g., ['lambda', 'match_id']).\n",
    "      - quarter_col: Column name for the time period indicator.\n",
    "      - baseline: Baseline period (e.g., -1 or -2) used for normalization.\n",
    "      - max_period: Maximum period (quarter) to include.\n",
    "    \n",
    "    Returns:\n",
    "      - TE: DataFrame with individual treatment effects. Its index is a MultiIndex (index_cols)\n",
    "            and its columns are the quarters used.\n",
    "      - wide: The wide-format DataFrame (pivoted) used for the computation.\n",
    "    \"\"\"\n",
    "    # Pivot to wide format: rows defined by index_cols, columns = quarter values.\n",
    "    wide = df.pivot_table(index=index_cols,\n",
    "                          columns=quarter_col,\n",
    "                          values=[outcome_treated, outcome_control])\n",
    "    wide = wide.sort_index(axis=1, level=1)\n",
    "    \n",
    "    # Determine required quarters: those between baseline and max_period.\n",
    "    available_quarters = sorted(wide[outcome_treated].columns)\n",
    "    required_quarters = [q for q in available_quarters if -4 <= q <= max_period]\n",
    "    \n",
    "    # Keep only matches that have non-missing outcomes for all required quarters.\n",
    "    mask_treated = wide[outcome_treated][required_quarters].notna().all(axis=1)\n",
    "    mask_control = wide[outcome_control][required_quarters].notna().all(axis=1)\n",
    "    wide = wide[mask_treated & mask_control]\n",
    "    sample_size = len(wide)\n",
    "    print(f\"Sample size: {sample_size} matches\")\n",
    "    \n",
    "    # Compute TE for each quarter:\n",
    "    # TE(t) = (treated(t) - treated(baseline)) - (control(t) - control(baseline))\n",
    "    TE = pd.DataFrame(index=wide.index, columns=required_quarters, dtype=float)\n",
    "    for t in required_quarters:\n",
    "        TE[t] = (wide[outcome_treated][t] - wide[outcome_treated][baseline]) - \\\n",
    "                (wide[outcome_control][t] - wide[outcome_control][baseline])\n",
    "    # Force TE(baseline) = 0.\n",
    "    TE[baseline] = 0\n",
    "    return TE, wide, sample_size\n",
    "\n",
    "\n",
    "\n",
    "def estimate_ATT_and_bootstrap(TE, index_col='lambda', n_boot=500, seed=42):\n",
    "    \"\"\"\n",
    "    Estimates the ATT by averaging individual TEs over match_ids and computes bootstrap SEs.\n",
    "    \n",
    "    Parameters:\n",
    "      - TE: DataFrame of individual treatment effects with a MultiIndex (e.g., ['lambda', 'match_id'])\n",
    "            and columns as quarters.\n",
    "      - index_col: The grouping variable (e.g., 'lambda') used to compute ATT.\n",
    "      - n_boot: Number of bootstrap replications.\n",
    "      - seed: Random seed for reproducibility.\n",
    "    \n",
    "    Returns:\n",
    "      - ATT_long: DataFrame in long format with ATT estimates and bootstrap SEs.\n",
    "      - boot_results: DataFrame containing bootstrap replications.\n",
    "    \"\"\"\n",
    "    np.random.seed(seed)\n",
    "    # Compute ATT by averaging TEs within each group (index_col).\n",
    "    ATT = TE.groupby(level=0).mean()  # rows: groups (e.g., lambda), columns: quarters\n",
    "    # Reshape to long format.\n",
    "    ATT_long = ATT.reset_index().melt(id_vars=index_col, var_name='quarter', value_name='ATT')\n",
    "    ATT_long['quarter'] = ATT_long['quarter'].astype(float)\n",
    "    \n",
    "    # Bootstrap SEs: resample match_ids (within each group) and compute mean TEs.\n",
    "    def bootstrap_ATT_inner(TE_df, n_boot, seed):\n",
    "        np.random.seed(seed)\n",
    "        boot_list = []\n",
    "        # Group by the grouping variable (e.g., lambda)\n",
    "        for group_val, group in tqdm(TE_df.groupby(level=0), desc=\"Bootstrapping groups\"):\n",
    "            match_ids = group.index.get_level_values(1).unique()\n",
    "            for i in tqdm(range(n_boot), desc=\"Bootstrap replications\", leave=False):\n",
    "                sampled_ids = np.random.choice(match_ids, size=len(match_ids), replace=True)\n",
    "                sample = group.loc[pd.IndexSlice[group_val, sampled_ids], :]\n",
    "                boot_est = sample.mean()  # average over matches for each quarter\n",
    "                boot_est[index_col] = group_val\n",
    "                boot_est['boot_iter'] = i\n",
    "                boot_list.append(boot_est)\n",
    "        boot_df = pd.DataFrame(boot_list)\n",
    "        return boot_df\n",
    "    \n",
    "    boot_results = bootstrap_ATT_inner(TE, n_boot=n_boot, seed=seed)\n",
    "    # For each lambda and quarter, compute the bootstrap SE.\n",
    "    boot_se = boot_results.groupby(index_col).agg(np.std).reset_index()\n",
    "    # Melt the bootstrap SEs into long format (ignoring non-quarter columns)\n",
    "    boot_se_long = boot_se.melt(id_vars=index_col, var_name='quarter', value_name='se')\n",
    "    boot_se_long = boot_se_long[boot_se_long['quarter'].apply(lambda x: isinstance(x, (int, float)))]\n",
    "    boot_se_long['quarter'] = boot_se_long['quarter'].astype(float)\n",
    "    \n",
    "    # Merge bootstrap SEs with ATT estimates.\n",
    "    ATT_long = ATT_long.merge(boot_se_long, on=[index_col, 'quarter'], how='left')\n",
    "    return ATT_long, boot_results\n",
    "\n",
    "\n",
    "def plot_ATT(ATT_long, baseline=-1, index_col='lambda', lambda_val=0,\n",
    "             title='Dynamic ATT (Normalized to Baseline)', figsize=(8,6)):\n",
    "    \"\"\"\n",
    "    Plots the dynamic ATT for a specified group with 95% confidence intervals.\n",
    "    \n",
    "    Parameters:\n",
    "      - ATT_long: DataFrame in long format with columns [index_col, 'quarter', 'ATT', 'se'].\n",
    "      - baseline: Baseline period used for normalization.\n",
    "      - index_col: Grouping variable (e.g., 'lambda').\n",
    "      - lambda_val: Specific value of the grouping variable to plot.\n",
    "      - title: Plot title.\n",
    "      - figsize: Figure size.\n",
    "    \"\"\"\n",
    "    # Round lambda values for accurate filtering\n",
    "    ATT_long[index_col] = ATT_long[index_col].round(2)\n",
    "    lambda_val = round(lambda_val, 2)\n",
    "    \n",
    "    # Filter and sort by quarter\n",
    "    plot_data = ATT_long[ATT_long[index_col] == lambda_val].sort_values('quarter')\n",
    "    \n",
    "    plt.figure(figsize=figsize)\n",
    "    plt.errorbar(plot_data['quarter'], plot_data['ATT'], \n",
    "                 yerr=1.96 * plot_data['se'],\n",
    "                 fmt='o-', capsize=5, label='ATT')\n",
    "    plt.axhline(0, color='gray', linestyle='--')\n",
    "    plt.axvline(x=baseline, color='black', linestyle='--', label=f'Baseline ({baseline})')\n",
    "    plt.xlabel('Quarter')\n",
    "    plt.ylabel('ATT (Dynamic Treatment Effect)')\n",
    "    plt.title(title)\n",
    "    # Set the x-axis limits so that the minimum quarter in your data appears on the axis.\n",
    "    plt.xlim(plot_data['quarter'].min()-0.5, plot_data['quarter'].max()+0.5)\n",
    "    plt.legend()\n",
    "    plt.show()\n",
    "\n",
    "\n",
    "\n",
    "def run_balance_tests(df_sub, values, outcome_treated, outcome_control):\n",
    "    \"\"\"\n",
    "    Input: df for a given lambda\n",
    "\n",
    "    Returns: a list of all the results\n",
    "    \n",
    "    \"\"\"\n",
    "    # ---------------------------\n",
    "    # 1. Balance Tests for Pre-treatment Outcomes (quarters -4 to -1)\n",
    "    # ---------------------------\n",
    "    pre_range = [-4, -3, -2, -1]\n",
    "    df_pre = df_sub[df_sub['quarter'].isin(pre_range)]\n",
    "    \n",
    "    # Pivot pre-treatment data: each match_id is a row\n",
    "    pivot_pre = df_pre.pivot_table(index='match_id',\n",
    "                                   columns='quarter',\n",
    "                                   values=values)\n",
    "    pivot_pre = pivot_pre.dropna()  # only include matches with complete pre data\n",
    "    \n",
    "    # Compute average pre-treatment outcomes per match for treated and control\n",
    "    avg_treated = pivot_pre[outcome_treated].mean(axis=1)\n",
    "    avg_control = pivot_pre[outcome_control].mean(axis=1)\n",
    "    \n",
    "    # Compute SMD: (mean_treated - mean_control) / pooled_sd\n",
    "    mean_treated = avg_treated.mean()\n",
    "    mean_control = avg_control.mean()\n",
    "    var_treated = avg_treated.var()\n",
    "    var_control = avg_control.var()\n",
    "    pooled_sd = np.sqrt((var_treated + var_control) / 2)\n",
    "    smd = (mean_treated - mean_control) / pooled_sd if pooled_sd > 0 else np.nan\n",
    "    \n",
    "    # KS test on the distributions of the average outcomes\n",
    "    ks_stat, ks_p = ks_2samp(avg_treated, avg_control)\n",
    "\n",
    "    return smd, ks_stat, ks_p\n",
    "\n",
    "\n",
    "\n",
    "def estimate_by_lambda(df, baseline,  values, outcome_treated, outcome_control, max_period = 20,):\n",
    "    \n",
    "  # List to store subgroup (lambda group) results\n",
    "  all_results = []\n",
    "\n",
    "  # Get unique lambda values (rounded to 2 decimals)\n",
    "  unique_lambdas = df['lambda'].round(2).unique()\n",
    "  unique_lambdas = np.sort(unique_lambdas)\n",
    "\n",
    "\n",
    "  \n",
    "  for lam in tqdm(unique_lambdas, desc=\"Processing lambda groups\"):\n",
    "      # Filter data for the current lambda group\n",
    "      df_sub = df[df['lambda'].round(2) == lam].copy()\n",
    "\n",
    "      smd, ks_stat, ks_p = run_balance_tests(df_sub, values, outcome_treated, outcome_control)\n",
    "\n",
    "      # ---------------------------\n",
    "      # 2. Dynamic ATT Estimation (with bootstrap SEs)\n",
    "      # ---------------------------\n",
    "      # Compute individual treatment effects (TEs) using the pre-defined function.\n",
    "      TE, wide_sub, sample_size = compute_individual_TE(df_sub,\n",
    "                                          outcome_treated=outcome_treated,\n",
    "                                          outcome_control=outcome_control,\n",
    "                                          index_cols=['lambda', 'match_id'],\n",
    "                                          quarter_col='quarter',\n",
    "                                          baseline=baseline,\n",
    "                                          max_period=max_period)\n",
    "      \n",
    "      # Estimate ATT and bootstrap SEs for this lambda group.\n",
    "      ATT_long, boot_results = estimate_ATT_and_bootstrap(TE, index_col='lambda', n_boot=500, seed=42)\n",
    "      \n",
    "      # Filter ATT_long to only include the current lambda group (redundant but safe)\n",
    "      ATT_long_sub = ATT_long[ATT_long['lambda'] == lam].copy()\n",
    "      \n",
    "      # ---------------------------\n",
    "      # 3. Append Subgroup Information\n",
    "      # ---------------------------\n",
    "      ATT_long_sub['sample_size'] = sample_size\n",
    "      ATT_long_sub['smd'] = smd\n",
    "      ATT_long_sub['ks_stat'] = ks_stat\n",
    "\n",
    "      ATT_long_sub['ks_p'] = ks_p\n",
    "      ATT_long_sub['lambda_val'] = lam  # store the lambda value explicitly\n",
    "\n",
    "      # Append results for this lambda group\n",
    "      all_results.append(ATT_long_sub)\n",
    "      \n",
    "  # Concatenate results for all lambda groups\n",
    "  ATT_all = pd.concat(all_results, ignore_index=True)\n",
    "  return ATT_all\n",
    "\n",
    "def save_att(ATT_all, root, filename):\n",
    "    path = os.path.join(root, filename)\n",
    "    ATT_all.to_csv(path, index=False)\n",
    "\n",
    "def plot_all_att(ATT_all, baseline, root, filename):\n",
    "\n",
    "  # Path\n",
    "  path = os.path.join(root, filename)\n",
    "\n",
    "  # Graphics\n",
    "  plt.figure(figsize=(10, 7))\n",
    "  sns.lineplot(data=ATT_all, x='quarter', y='ATT', hue='lambda_val', marker='o', palette='tab10')\n",
    "  plt.axhline(0, color='gray', linestyle='--')\n",
    "  plt.axvline(x=0, color='black', linestyle='--', label=f'Baseline ({baseline})')\n",
    "  plt.xlabel('Quarter')\n",
    "  plt.ylabel('ATT (Dynamic Treatment Effect)')\n",
    "  plt.title('Dynamic ATT by Lambda')\n",
    "  plt.legend(title='Lambda')\n",
    "  plt.xlim(ATT_all['quarter'].min()-0.5, ATT_all['quarter'].max()+0.5)\n",
    "\n",
    "  plt.savefig(f\"{path}\")\t\n",
    "    \n",
    "\n",
    "def plot_att_by_lambda(ATT_all, baseline, folder, key):\n",
    "    \n",
    "\n",
    "    # Get a sorted list of unique lambda values (rounded to two decimals)\n",
    "    unique_lambdas = sorted(ATT_all['lambda_val'].unique())\n",
    "\n",
    "    # Create a color palette with as many colors as there are unique lambda groups\n",
    "    palette = sns.color_palette('tab10', len(unique_lambdas))\n",
    "\n",
    "    # Loop over each lambda group and plot separately\n",
    "    for i, lam in enumerate(unique_lambdas):\n",
    "        group_data = ATT_all[ATT_all['lambda_val'] == lam].sort_values('quarter')\n",
    "        \n",
    "        # Compute lower and upper bounds for the 95% CI\n",
    "        lower = group_data['ATT'] - 1.96 * group_data['se']\n",
    "        upper = group_data['ATT'] + 1.96 * group_data['se']\n",
    "        \n",
    "        # Create the plot for this lambda group\n",
    "        plt.figure(figsize=(10, 7))\n",
    "        plt.plot(group_data['quarter'], group_data['ATT'], marker='o', \n",
    "                label=f'Lambda {lam}', color=palette[i])\n",
    "        plt.fill_between(group_data['quarter'], lower, upper, alpha=0.3, color=palette[i])\n",
    "        \n",
    "        # Add reference lines\n",
    "        plt.axhline(0, color='gray', linestyle='--')\n",
    "        plt.axvline(x=0, color='black', linestyle='--', label=f'Baseline ({baseline})')\n",
    "        \n",
    "        # Add labels and title\n",
    "        plt.xlabel('Quarter')\n",
    "        plt.ylabel('ATT (Dynamic Treatment Effect)')\n",
    "        plt.title(f'Dynamic ATT for Lambda {lam}')\n",
    "        plt.xlim(ATT_all['quarter'].min()-0.5, ATT_all['quarter'].max()+0.5)\n",
    "        plt.legend(title='Lambda')\n",
    "        plt.tight_layout()\n",
    "        \n",
    "        # Save the plot to a file (e.g., PNG)\n",
    "        # Path\n",
    "        path = os.path.join(folder, f\"ATT_{key}_lambda_{lam}.png\")\n",
    "        plt.savefig(path)\n",
    "        plt.close()\n"
   ]
  },
  {
   "cell_type": "markdown",
   "metadata": {},
   "source": [
    "## Estimate for each lambda"
   ]
  },
  {
   "cell_type": "code",
   "execution_count": 6,
   "metadata": {},
   "outputs": [
    {
     "data": {
      "application/vnd.jupyter.widget-view+json": {
       "model_id": "99474270631d4705b69b439b34f285c8",
       "version_major": 2,
       "version_minor": 0
      },
      "text/plain": [
       "Looping over max periods:   0%|          | 0/1 [00:00<?, ?it/s]"
      ]
     },
     "metadata": {},
     "output_type": "display_data"
    },
    {
     "data": {
      "application/vnd.jupyter.widget-view+json": {
       "model_id": "c8dbe83fe5304d4a8a1f1b7dc9b5a4ad",
       "version_major": 2,
       "version_minor": 0
      },
      "text/plain": [
       "Processing lambda groups:   0%|          | 0/21 [00:00<?, ?it/s]"
      ]
     },
     "metadata": {},
     "output_type": "display_data"
    },
    {
     "name": "stdout",
     "output_type": "stream",
     "text": [
      "Sample size: 867 matches\n"
     ]
    },
    {
     "data": {
      "application/vnd.jupyter.widget-view+json": {
       "model_id": "5507dbddbf9b4aabbe2fec399c70e73b",
       "version_major": 2,
       "version_minor": 0
      },
      "text/plain": [
       "Bootstrapping groups:   0%|          | 0/1 [00:00<?, ?it/s]"
      ]
     },
     "metadata": {},
     "output_type": "display_data"
    },
    {
     "data": {
      "application/vnd.jupyter.widget-view+json": {
       "model_id": "70114003f2c54157893d352d15019314",
       "version_major": 2,
       "version_minor": 0
      },
      "text/plain": [
       "Bootstrap replications:   0%|          | 0/500 [00:00<?, ?it/s]"
      ]
     },
     "metadata": {},
     "output_type": "display_data"
    },
    {
     "name": "stdout",
     "output_type": "stream",
     "text": [
      "Sample size: 867 matches\n"
     ]
    },
    {
     "name": "stderr",
     "output_type": "stream",
     "text": [
      "C:\\Users\\amusali\\AppData\\Local\\Temp\\ipykernel_15344\\1870098444.py:108: FutureWarning: The provided callable <function std at 0x000001A2771E5E40> is currently using DataFrameGroupBy.std. In a future version of pandas, the provided callable will be used directly. To keep current behavior pass the string \"std\" instead.\n",
      "  boot_se = boot_results.groupby(index_col).agg(np.std).reset_index()\n"
     ]
    },
    {
     "data": {
      "application/vnd.jupyter.widget-view+json": {
       "model_id": "610552b2c47c450a9748887436316a0b",
       "version_major": 2,
       "version_minor": 0
      },
      "text/plain": [
       "Bootstrapping groups:   0%|          | 0/1 [00:00<?, ?it/s]"
      ]
     },
     "metadata": {},
     "output_type": "display_data"
    },
    {
     "data": {
      "application/vnd.jupyter.widget-view+json": {
       "model_id": "314857f9247a4689ae2881ba30aa9425",
       "version_major": 2,
       "version_minor": 0
      },
      "text/plain": [
       "Bootstrap replications:   0%|          | 0/500 [00:00<?, ?it/s]"
      ]
     },
     "metadata": {},
     "output_type": "display_data"
    },
    {
     "name": "stdout",
     "output_type": "stream",
     "text": [
      "Sample size: 867 matches\n"
     ]
    },
    {
     "name": "stderr",
     "output_type": "stream",
     "text": [
      "C:\\Users\\amusali\\AppData\\Local\\Temp\\ipykernel_15344\\1870098444.py:108: FutureWarning: The provided callable <function std at 0x000001A2771E5E40> is currently using DataFrameGroupBy.std. In a future version of pandas, the provided callable will be used directly. To keep current behavior pass the string \"std\" instead.\n",
      "  boot_se = boot_results.groupby(index_col).agg(np.std).reset_index()\n"
     ]
    },
    {
     "data": {
      "application/vnd.jupyter.widget-view+json": {
       "model_id": "68694f9b844c45d8af1fa57a59cddb49",
       "version_major": 2,
       "version_minor": 0
      },
      "text/plain": [
       "Bootstrapping groups:   0%|          | 0/1 [00:00<?, ?it/s]"
      ]
     },
     "metadata": {},
     "output_type": "display_data"
    },
    {
     "data": {
      "application/vnd.jupyter.widget-view+json": {
       "model_id": "48aa14a97a3f4ee8bb71e1a8f70d15bd",
       "version_major": 2,
       "version_minor": 0
      },
      "text/plain": [
       "Bootstrap replications:   0%|          | 0/500 [00:00<?, ?it/s]"
      ]
     },
     "metadata": {},
     "output_type": "display_data"
    },
    {
     "name": "stdout",
     "output_type": "stream",
     "text": [
      "Sample size: 867 matches\n"
     ]
    },
    {
     "name": "stderr",
     "output_type": "stream",
     "text": [
      "C:\\Users\\amusali\\AppData\\Local\\Temp\\ipykernel_15344\\1870098444.py:108: FutureWarning: The provided callable <function std at 0x000001A2771E5E40> is currently using DataFrameGroupBy.std. In a future version of pandas, the provided callable will be used directly. To keep current behavior pass the string \"std\" instead.\n",
      "  boot_se = boot_results.groupby(index_col).agg(np.std).reset_index()\n"
     ]
    },
    {
     "data": {
      "application/vnd.jupyter.widget-view+json": {
       "model_id": "51089b7e485148b2bfa032f21e96eb26",
       "version_major": 2,
       "version_minor": 0
      },
      "text/plain": [
       "Bootstrapping groups:   0%|          | 0/1 [00:00<?, ?it/s]"
      ]
     },
     "metadata": {},
     "output_type": "display_data"
    },
    {
     "data": {
      "application/vnd.jupyter.widget-view+json": {
       "model_id": "c682abbc1ab14895960263ac3d68ea08",
       "version_major": 2,
       "version_minor": 0
      },
      "text/plain": [
       "Bootstrap replications:   0%|          | 0/500 [00:00<?, ?it/s]"
      ]
     },
     "metadata": {},
     "output_type": "display_data"
    },
    {
     "name": "stdout",
     "output_type": "stream",
     "text": [
      "Sample size: 867 matches\n"
     ]
    },
    {
     "name": "stderr",
     "output_type": "stream",
     "text": [
      "C:\\Users\\amusali\\AppData\\Local\\Temp\\ipykernel_15344\\1870098444.py:108: FutureWarning: The provided callable <function std at 0x000001A2771E5E40> is currently using DataFrameGroupBy.std. In a future version of pandas, the provided callable will be used directly. To keep current behavior pass the string \"std\" instead.\n",
      "  boot_se = boot_results.groupby(index_col).agg(np.std).reset_index()\n"
     ]
    },
    {
     "data": {
      "application/vnd.jupyter.widget-view+json": {
       "model_id": "2f5eb47a8a134f3a84742d6a8525a1bb",
       "version_major": 2,
       "version_minor": 0
      },
      "text/plain": [
       "Bootstrapping groups:   0%|          | 0/1 [00:00<?, ?it/s]"
      ]
     },
     "metadata": {},
     "output_type": "display_data"
    },
    {
     "data": {
      "application/vnd.jupyter.widget-view+json": {
       "model_id": "54a9431fb5934868875ac312c6fb2258",
       "version_major": 2,
       "version_minor": 0
      },
      "text/plain": [
       "Bootstrap replications:   0%|          | 0/500 [00:00<?, ?it/s]"
      ]
     },
     "metadata": {},
     "output_type": "display_data"
    },
    {
     "name": "stdout",
     "output_type": "stream",
     "text": [
      "Sample size: 867 matches\n"
     ]
    },
    {
     "name": "stderr",
     "output_type": "stream",
     "text": [
      "C:\\Users\\amusali\\AppData\\Local\\Temp\\ipykernel_15344\\1870098444.py:108: FutureWarning: The provided callable <function std at 0x000001A2771E5E40> is currently using DataFrameGroupBy.std. In a future version of pandas, the provided callable will be used directly. To keep current behavior pass the string \"std\" instead.\n",
      "  boot_se = boot_results.groupby(index_col).agg(np.std).reset_index()\n"
     ]
    },
    {
     "data": {
      "application/vnd.jupyter.widget-view+json": {
       "model_id": "5103d6589ba945c5849d20619af6c6b4",
       "version_major": 2,
       "version_minor": 0
      },
      "text/plain": [
       "Bootstrapping groups:   0%|          | 0/1 [00:00<?, ?it/s]"
      ]
     },
     "metadata": {},
     "output_type": "display_data"
    },
    {
     "data": {
      "application/vnd.jupyter.widget-view+json": {
       "model_id": "afaece5f236c439e9cd87a554fae0b6e",
       "version_major": 2,
       "version_minor": 0
      },
      "text/plain": [
       "Bootstrap replications:   0%|          | 0/500 [00:00<?, ?it/s]"
      ]
     },
     "metadata": {},
     "output_type": "display_data"
    },
    {
     "name": "stderr",
     "output_type": "stream",
     "text": [
      "C:\\Users\\amusali\\AppData\\Local\\Temp\\ipykernel_15344\\1870098444.py:108: FutureWarning: The provided callable <function std at 0x000001A2771E5E40> is currently using DataFrameGroupBy.std. In a future version of pandas, the provided callable will be used directly. To keep current behavior pass the string \"std\" instead.\n",
      "  boot_se = boot_results.groupby(index_col).agg(np.std).reset_index()\n"
     ]
    },
    {
     "name": "stdout",
     "output_type": "stream",
     "text": [
      "Sample size: 867 matches\n"
     ]
    },
    {
     "data": {
      "application/vnd.jupyter.widget-view+json": {
       "model_id": "ea53043aa3704ba89cb7dcf7d4272e0f",
       "version_major": 2,
       "version_minor": 0
      },
      "text/plain": [
       "Bootstrapping groups:   0%|          | 0/1 [00:00<?, ?it/s]"
      ]
     },
     "metadata": {},
     "output_type": "display_data"
    },
    {
     "data": {
      "application/vnd.jupyter.widget-view+json": {
       "model_id": "3408cd0db75e44ba9f4f3a5c4bd08095",
       "version_major": 2,
       "version_minor": 0
      },
      "text/plain": [
       "Bootstrap replications:   0%|          | 0/500 [00:00<?, ?it/s]"
      ]
     },
     "metadata": {},
     "output_type": "display_data"
    },
    {
     "name": "stderr",
     "output_type": "stream",
     "text": [
      "C:\\Users\\amusali\\AppData\\Local\\Temp\\ipykernel_15344\\1870098444.py:108: FutureWarning: The provided callable <function std at 0x000001A2771E5E40> is currently using DataFrameGroupBy.std. In a future version of pandas, the provided callable will be used directly. To keep current behavior pass the string \"std\" instead.\n",
      "  boot_se = boot_results.groupby(index_col).agg(np.std).reset_index()\n"
     ]
    },
    {
     "name": "stdout",
     "output_type": "stream",
     "text": [
      "Sample size: 867 matches\n"
     ]
    },
    {
     "data": {
      "application/vnd.jupyter.widget-view+json": {
       "model_id": "929fef19453f4166aa11a1d62c2a2bef",
       "version_major": 2,
       "version_minor": 0
      },
      "text/plain": [
       "Bootstrapping groups:   0%|          | 0/1 [00:00<?, ?it/s]"
      ]
     },
     "metadata": {},
     "output_type": "display_data"
    },
    {
     "data": {
      "application/vnd.jupyter.widget-view+json": {
       "model_id": "bd9df927fb9b428f82af92e74a37d5c4",
       "version_major": 2,
       "version_minor": 0
      },
      "text/plain": [
       "Bootstrap replications:   0%|          | 0/500 [00:00<?, ?it/s]"
      ]
     },
     "metadata": {},
     "output_type": "display_data"
    },
    {
     "name": "stderr",
     "output_type": "stream",
     "text": [
      "C:\\Users\\amusali\\AppData\\Local\\Temp\\ipykernel_15344\\1870098444.py:108: FutureWarning: The provided callable <function std at 0x000001A2771E5E40> is currently using DataFrameGroupBy.std. In a future version of pandas, the provided callable will be used directly. To keep current behavior pass the string \"std\" instead.\n",
      "  boot_se = boot_results.groupby(index_col).agg(np.std).reset_index()\n"
     ]
    },
    {
     "name": "stdout",
     "output_type": "stream",
     "text": [
      "Sample size: 867 matches\n"
     ]
    },
    {
     "data": {
      "application/vnd.jupyter.widget-view+json": {
       "model_id": "4f22676ab7284e03b21316f437011272",
       "version_major": 2,
       "version_minor": 0
      },
      "text/plain": [
       "Bootstrapping groups:   0%|          | 0/1 [00:00<?, ?it/s]"
      ]
     },
     "metadata": {},
     "output_type": "display_data"
    },
    {
     "data": {
      "application/vnd.jupyter.widget-view+json": {
       "model_id": "347652ef71c94165aeca6fc4d4307ed7",
       "version_major": 2,
       "version_minor": 0
      },
      "text/plain": [
       "Bootstrap replications:   0%|          | 0/500 [00:00<?, ?it/s]"
      ]
     },
     "metadata": {},
     "output_type": "display_data"
    },
    {
     "name": "stdout",
     "output_type": "stream",
     "text": [
      "Sample size: 867 matches\n"
     ]
    },
    {
     "name": "stderr",
     "output_type": "stream",
     "text": [
      "C:\\Users\\amusali\\AppData\\Local\\Temp\\ipykernel_15344\\1870098444.py:108: FutureWarning: The provided callable <function std at 0x000001A2771E5E40> is currently using DataFrameGroupBy.std. In a future version of pandas, the provided callable will be used directly. To keep current behavior pass the string \"std\" instead.\n",
      "  boot_se = boot_results.groupby(index_col).agg(np.std).reset_index()\n"
     ]
    },
    {
     "data": {
      "application/vnd.jupyter.widget-view+json": {
       "model_id": "b854264862fa4b14aa9c9a3dae598a9c",
       "version_major": 2,
       "version_minor": 0
      },
      "text/plain": [
       "Bootstrapping groups:   0%|          | 0/1 [00:00<?, ?it/s]"
      ]
     },
     "metadata": {},
     "output_type": "display_data"
    },
    {
     "data": {
      "application/vnd.jupyter.widget-view+json": {
       "model_id": "daa39900b4db4023a675d104ff7aea5e",
       "version_major": 2,
       "version_minor": 0
      },
      "text/plain": [
       "Bootstrap replications:   0%|          | 0/500 [00:00<?, ?it/s]"
      ]
     },
     "metadata": {},
     "output_type": "display_data"
    },
    {
     "name": "stdout",
     "output_type": "stream",
     "text": [
      "Sample size: 867 matches\n"
     ]
    },
    {
     "name": "stderr",
     "output_type": "stream",
     "text": [
      "C:\\Users\\amusali\\AppData\\Local\\Temp\\ipykernel_15344\\1870098444.py:108: FutureWarning: The provided callable <function std at 0x000001A2771E5E40> is currently using DataFrameGroupBy.std. In a future version of pandas, the provided callable will be used directly. To keep current behavior pass the string \"std\" instead.\n",
      "  boot_se = boot_results.groupby(index_col).agg(np.std).reset_index()\n"
     ]
    },
    {
     "data": {
      "application/vnd.jupyter.widget-view+json": {
       "model_id": "28819bd47e594e8bb39a4b839b6cf8d6",
       "version_major": 2,
       "version_minor": 0
      },
      "text/plain": [
       "Bootstrapping groups:   0%|          | 0/1 [00:00<?, ?it/s]"
      ]
     },
     "metadata": {},
     "output_type": "display_data"
    },
    {
     "data": {
      "application/vnd.jupyter.widget-view+json": {
       "model_id": "e94c7c6a2dd745588f050c23d42ba3d9",
       "version_major": 2,
       "version_minor": 0
      },
      "text/plain": [
       "Bootstrap replications:   0%|          | 0/500 [00:00<?, ?it/s]"
      ]
     },
     "metadata": {},
     "output_type": "display_data"
    },
    {
     "name": "stdout",
     "output_type": "stream",
     "text": [
      "Sample size: 867 matches\n"
     ]
    },
    {
     "name": "stderr",
     "output_type": "stream",
     "text": [
      "C:\\Users\\amusali\\AppData\\Local\\Temp\\ipykernel_15344\\1870098444.py:108: FutureWarning: The provided callable <function std at 0x000001A2771E5E40> is currently using DataFrameGroupBy.std. In a future version of pandas, the provided callable will be used directly. To keep current behavior pass the string \"std\" instead.\n",
      "  boot_se = boot_results.groupby(index_col).agg(np.std).reset_index()\n"
     ]
    },
    {
     "data": {
      "application/vnd.jupyter.widget-view+json": {
       "model_id": "f87f1597fff14f5db840e6132d9c59a1",
       "version_major": 2,
       "version_minor": 0
      },
      "text/plain": [
       "Bootstrapping groups:   0%|          | 0/1 [00:00<?, ?it/s]"
      ]
     },
     "metadata": {},
     "output_type": "display_data"
    },
    {
     "data": {
      "application/vnd.jupyter.widget-view+json": {
       "model_id": "1260dd2d53674fa995bb10d9deda3c1d",
       "version_major": 2,
       "version_minor": 0
      },
      "text/plain": [
       "Bootstrap replications:   0%|          | 0/500 [00:00<?, ?it/s]"
      ]
     },
     "metadata": {},
     "output_type": "display_data"
    },
    {
     "name": "stderr",
     "output_type": "stream",
     "text": [
      "C:\\Users\\amusali\\AppData\\Local\\Temp\\ipykernel_15344\\1870098444.py:108: FutureWarning: The provided callable <function std at 0x000001A2771E5E40> is currently using DataFrameGroupBy.std. In a future version of pandas, the provided callable will be used directly. To keep current behavior pass the string \"std\" instead.\n",
      "  boot_se = boot_results.groupby(index_col).agg(np.std).reset_index()\n"
     ]
    },
    {
     "name": "stdout",
     "output_type": "stream",
     "text": [
      "Sample size: 867 matches\n"
     ]
    },
    {
     "data": {
      "application/vnd.jupyter.widget-view+json": {
       "model_id": "87946f9d4a2747479fc4cbf78ce37485",
       "version_major": 2,
       "version_minor": 0
      },
      "text/plain": [
       "Bootstrapping groups:   0%|          | 0/1 [00:00<?, ?it/s]"
      ]
     },
     "metadata": {},
     "output_type": "display_data"
    },
    {
     "data": {
      "application/vnd.jupyter.widget-view+json": {
       "model_id": "ebbdf14b5e9443c1a105cfc183510762",
       "version_major": 2,
       "version_minor": 0
      },
      "text/plain": [
       "Bootstrap replications:   0%|          | 0/500 [00:00<?, ?it/s]"
      ]
     },
     "metadata": {},
     "output_type": "display_data"
    },
    {
     "name": "stderr",
     "output_type": "stream",
     "text": [
      "C:\\Users\\amusali\\AppData\\Local\\Temp\\ipykernel_15344\\1870098444.py:108: FutureWarning: The provided callable <function std at 0x000001A2771E5E40> is currently using DataFrameGroupBy.std. In a future version of pandas, the provided callable will be used directly. To keep current behavior pass the string \"std\" instead.\n",
      "  boot_se = boot_results.groupby(index_col).agg(np.std).reset_index()\n"
     ]
    },
    {
     "name": "stdout",
     "output_type": "stream",
     "text": [
      "Sample size: 867 matches\n"
     ]
    },
    {
     "data": {
      "application/vnd.jupyter.widget-view+json": {
       "model_id": "8339b2f8a3f948299cfccae3a641f232",
       "version_major": 2,
       "version_minor": 0
      },
      "text/plain": [
       "Bootstrapping groups:   0%|          | 0/1 [00:00<?, ?it/s]"
      ]
     },
     "metadata": {},
     "output_type": "display_data"
    },
    {
     "data": {
      "application/vnd.jupyter.widget-view+json": {
       "model_id": "0c971e2d1a51451d910a12f3679c867e",
       "version_major": 2,
       "version_minor": 0
      },
      "text/plain": [
       "Bootstrap replications:   0%|          | 0/500 [00:00<?, ?it/s]"
      ]
     },
     "metadata": {},
     "output_type": "display_data"
    },
    {
     "name": "stderr",
     "output_type": "stream",
     "text": [
      "C:\\Users\\amusali\\AppData\\Local\\Temp\\ipykernel_15344\\1870098444.py:108: FutureWarning: The provided callable <function std at 0x000001A2771E5E40> is currently using DataFrameGroupBy.std. In a future version of pandas, the provided callable will be used directly. To keep current behavior pass the string \"std\" instead.\n",
      "  boot_se = boot_results.groupby(index_col).agg(np.std).reset_index()\n"
     ]
    },
    {
     "name": "stdout",
     "output_type": "stream",
     "text": [
      "Sample size: 867 matches\n"
     ]
    },
    {
     "data": {
      "application/vnd.jupyter.widget-view+json": {
       "model_id": "b8737d779dd14491ac3ee0da06bf8361",
       "version_major": 2,
       "version_minor": 0
      },
      "text/plain": [
       "Bootstrapping groups:   0%|          | 0/1 [00:00<?, ?it/s]"
      ]
     },
     "metadata": {},
     "output_type": "display_data"
    },
    {
     "data": {
      "application/vnd.jupyter.widget-view+json": {
       "model_id": "2add6b1d7a2e42449694fef0b1ebc699",
       "version_major": 2,
       "version_minor": 0
      },
      "text/plain": [
       "Bootstrap replications:   0%|          | 0/500 [00:00<?, ?it/s]"
      ]
     },
     "metadata": {},
     "output_type": "display_data"
    },
    {
     "name": "stdout",
     "output_type": "stream",
     "text": [
      "Sample size: 867 matches\n"
     ]
    },
    {
     "name": "stderr",
     "output_type": "stream",
     "text": [
      "C:\\Users\\amusali\\AppData\\Local\\Temp\\ipykernel_15344\\1870098444.py:108: FutureWarning: The provided callable <function std at 0x000001A2771E5E40> is currently using DataFrameGroupBy.std. In a future version of pandas, the provided callable will be used directly. To keep current behavior pass the string \"std\" instead.\n",
      "  boot_se = boot_results.groupby(index_col).agg(np.std).reset_index()\n"
     ]
    },
    {
     "data": {
      "application/vnd.jupyter.widget-view+json": {
       "model_id": "b2bb2b6b2549409081cf83613870bc24",
       "version_major": 2,
       "version_minor": 0
      },
      "text/plain": [
       "Bootstrapping groups:   0%|          | 0/1 [00:00<?, ?it/s]"
      ]
     },
     "metadata": {},
     "output_type": "display_data"
    },
    {
     "data": {
      "application/vnd.jupyter.widget-view+json": {
       "model_id": "9fefa5e74aaa45b09195f9b205f581fd",
       "version_major": 2,
       "version_minor": 0
      },
      "text/plain": [
       "Bootstrap replications:   0%|          | 0/500 [00:00<?, ?it/s]"
      ]
     },
     "metadata": {},
     "output_type": "display_data"
    },
    {
     "name": "stderr",
     "output_type": "stream",
     "text": [
      "C:\\Users\\amusali\\AppData\\Local\\Temp\\ipykernel_15344\\1870098444.py:108: FutureWarning: The provided callable <function std at 0x000001A2771E5E40> is currently using DataFrameGroupBy.std. In a future version of pandas, the provided callable will be used directly. To keep current behavior pass the string \"std\" instead.\n",
      "  boot_se = boot_results.groupby(index_col).agg(np.std).reset_index()\n"
     ]
    },
    {
     "name": "stdout",
     "output_type": "stream",
     "text": [
      "Sample size: 867 matches\n"
     ]
    },
    {
     "data": {
      "application/vnd.jupyter.widget-view+json": {
       "model_id": "b4aacd8c69a942e0b0d3c2fd2595361c",
       "version_major": 2,
       "version_minor": 0
      },
      "text/plain": [
       "Bootstrapping groups:   0%|          | 0/1 [00:00<?, ?it/s]"
      ]
     },
     "metadata": {},
     "output_type": "display_data"
    },
    {
     "data": {
      "application/vnd.jupyter.widget-view+json": {
       "model_id": "01365e1537b14840b50c86290ce66a6e",
       "version_major": 2,
       "version_minor": 0
      },
      "text/plain": [
       "Bootstrap replications:   0%|          | 0/500 [00:00<?, ?it/s]"
      ]
     },
     "metadata": {},
     "output_type": "display_data"
    },
    {
     "name": "stderr",
     "output_type": "stream",
     "text": [
      "C:\\Users\\amusali\\AppData\\Local\\Temp\\ipykernel_15344\\1870098444.py:108: FutureWarning: The provided callable <function std at 0x000001A2771E5E40> is currently using DataFrameGroupBy.std. In a future version of pandas, the provided callable will be used directly. To keep current behavior pass the string \"std\" instead.\n",
      "  boot_se = boot_results.groupby(index_col).agg(np.std).reset_index()\n"
     ]
    },
    {
     "name": "stdout",
     "output_type": "stream",
     "text": [
      "Sample size: 867 matches\n"
     ]
    },
    {
     "data": {
      "application/vnd.jupyter.widget-view+json": {
       "model_id": "e3331149c8f54253a320b7b1808e9a08",
       "version_major": 2,
       "version_minor": 0
      },
      "text/plain": [
       "Bootstrapping groups:   0%|          | 0/1 [00:00<?, ?it/s]"
      ]
     },
     "metadata": {},
     "output_type": "display_data"
    },
    {
     "data": {
      "application/vnd.jupyter.widget-view+json": {
       "model_id": "a2ca98a8d6fb4293a8dda3f70c5f95dc",
       "version_major": 2,
       "version_minor": 0
      },
      "text/plain": [
       "Bootstrap replications:   0%|          | 0/500 [00:00<?, ?it/s]"
      ]
     },
     "metadata": {},
     "output_type": "display_data"
    },
    {
     "name": "stderr",
     "output_type": "stream",
     "text": [
      "C:\\Users\\amusali\\AppData\\Local\\Temp\\ipykernel_15344\\1870098444.py:108: FutureWarning: The provided callable <function std at 0x000001A2771E5E40> is currently using DataFrameGroupBy.std. In a future version of pandas, the provided callable will be used directly. To keep current behavior pass the string \"std\" instead.\n",
      "  boot_se = boot_results.groupby(index_col).agg(np.std).reset_index()\n"
     ]
    },
    {
     "name": "stdout",
     "output_type": "stream",
     "text": [
      "Sample size: 867 matches\n"
     ]
    },
    {
     "data": {
      "application/vnd.jupyter.widget-view+json": {
       "model_id": "5ae2fe87d01444579c8a1b65965c360b",
       "version_major": 2,
       "version_minor": 0
      },
      "text/plain": [
       "Bootstrapping groups:   0%|          | 0/1 [00:00<?, ?it/s]"
      ]
     },
     "metadata": {},
     "output_type": "display_data"
    },
    {
     "data": {
      "application/vnd.jupyter.widget-view+json": {
       "model_id": "f0ebba29b062467fb4a87490edbddb02",
       "version_major": 2,
       "version_minor": 0
      },
      "text/plain": [
       "Bootstrap replications:   0%|          | 0/500 [00:00<?, ?it/s]"
      ]
     },
     "metadata": {},
     "output_type": "display_data"
    },
    {
     "name": "stdout",
     "output_type": "stream",
     "text": [
      "Sample size: 867 matches\n"
     ]
    },
    {
     "name": "stderr",
     "output_type": "stream",
     "text": [
      "C:\\Users\\amusali\\AppData\\Local\\Temp\\ipykernel_15344\\1870098444.py:108: FutureWarning: The provided callable <function std at 0x000001A2771E5E40> is currently using DataFrameGroupBy.std. In a future version of pandas, the provided callable will be used directly. To keep current behavior pass the string \"std\" instead.\n",
      "  boot_se = boot_results.groupby(index_col).agg(np.std).reset_index()\n"
     ]
    },
    {
     "data": {
      "application/vnd.jupyter.widget-view+json": {
       "model_id": "3bad8650d21449f4834c23bbcda6bf59",
       "version_major": 2,
       "version_minor": 0
      },
      "text/plain": [
       "Bootstrapping groups:   0%|          | 0/1 [00:00<?, ?it/s]"
      ]
     },
     "metadata": {},
     "output_type": "display_data"
    },
    {
     "data": {
      "application/vnd.jupyter.widget-view+json": {
       "model_id": "58b904d4aa4c494e9eee12cb7286c01a",
       "version_major": 2,
       "version_minor": 0
      },
      "text/plain": [
       "Bootstrap replications:   0%|          | 0/500 [00:00<?, ?it/s]"
      ]
     },
     "metadata": {},
     "output_type": "display_data"
    },
    {
     "name": "stderr",
     "output_type": "stream",
     "text": [
      "C:\\Users\\amusali\\AppData\\Local\\Temp\\ipykernel_15344\\1870098444.py:108: FutureWarning: The provided callable <function std at 0x000001A2771E5E40> is currently using DataFrameGroupBy.std. In a future version of pandas, the provided callable will be used directly. To keep current behavior pass the string \"std\" instead.\n",
      "  boot_se = boot_results.groupby(index_col).agg(np.std).reset_index()\n"
     ]
    },
    {
     "name": "stdout",
     "output_type": "stream",
     "text": [
      "Sample size: 867 matches\n"
     ]
    },
    {
     "data": {
      "application/vnd.jupyter.widget-view+json": {
       "model_id": "72945f55764a45e7949eda574b998a6a",
       "version_major": 2,
       "version_minor": 0
      },
      "text/plain": [
       "Bootstrapping groups:   0%|          | 0/1 [00:00<?, ?it/s]"
      ]
     },
     "metadata": {},
     "output_type": "display_data"
    },
    {
     "data": {
      "application/vnd.jupyter.widget-view+json": {
       "model_id": "38585137df074d93a0d71472066a1d31",
       "version_major": 2,
       "version_minor": 0
      },
      "text/plain": [
       "Bootstrap replications:   0%|          | 0/500 [00:00<?, ?it/s]"
      ]
     },
     "metadata": {},
     "output_type": "display_data"
    },
    {
     "name": "stderr",
     "output_type": "stream",
     "text": [
      "C:\\Users\\amusali\\AppData\\Local\\Temp\\ipykernel_15344\\1870098444.py:108: FutureWarning: The provided callable <function std at 0x000001A2771E5E40> is currently using DataFrameGroupBy.std. In a future version of pandas, the provided callable will be used directly. To keep current behavior pass the string \"std\" instead.\n",
      "  boot_se = boot_results.groupby(index_col).agg(np.std).reset_index()\n"
     ]
    },
    {
     "data": {
      "image/png": "[encoded data removed]",
      "text/plain": [
       "<Figure size 1000x700 with 1 Axes>"
      ]
     },
     "metadata": {},
     "output_type": "display_data"
    }
   ],
   "source": [
    "import pandas as pd\n",
    "import numpy as np\n",
    "import matplotlib.pyplot as plt\n",
    "import seaborn as sns\n",
    "from tqdm.auto import tqdm\n",
    "from scipy.stats import ks_2samp\n",
    "\n",
    "\n",
    "# Max periods\n",
    "max_period_list = [20]\n",
    "\n",
    "for period in tqdm(max_period_list, desc = \"Looping over max periods\"):\n",
    "\n",
    "    # Run balance tests and estimate ATT\n",
    "    ATT_all = estimate_by_lambda(df, -1, ['unique_cpc_treated', 'unique_cpc_control'], outcome_treated='unique_cpc_treated', outcome_control='unique_cpc_control', max_period=period)\n",
    "    \n",
    "    # Save results\n",
    "    save_att(ATT_all, fr'C:\\Users\\amusali\\Desktop\\uc3m PhD\\05 Analysis\\01 Main\\03 Python scripts\\03 Estimation\\02 Top Tech\\02 Off deal\\out\\enhanced', f'ATT_unique_cpc_{period}.csv')\n",
    "\n",
    "    # Save graph of all ATTs\n",
    "    plot_all_att(ATT_all, -1, fr'C:\\Users\\amusali\\Desktop\\uc3m PhD\\05 Analysis\\01 Main\\03 Python scripts\\03 Estimation\\02 Top Tech\\02 Off deal\\out\\enhanced', f'ATT_unique_cpc_{period}.png')\n",
    "\n",
    "    # Save graphs of ATTs by lambda\n",
    "    plot_att_by_lambda(ATT_all, -1, fr'C:\\Users\\amusali\\Desktop\\uc3m PhD\\05 Analysis\\01 Main\\03 Python scripts\\03 Estimation\\02 Top Tech\\02 Off deal\\out\\enhanced', key = \"cpc\")\n",
    "\n",
    "\n",
    "\n"
   ]
  },
  {
   "cell_type": "code",
   "execution_count": null,
   "metadata": {},
   "outputs": [],
   "source": []
  },
  {
   "cell_type": "markdown",
   "metadata": {},
   "source": [
    "# Estimate - Unique assignees"
   ]
  },
  {
   "cell_type": "code",
   "execution_count": 7,
   "metadata": {},
   "outputs": [
    {
     "data": {
      "application/vnd.jupyter.widget-view+json": {
       "model_id": "8b31bddf05804e3d82a7b5f3203f193b",
       "version_major": 2,
       "version_minor": 0
      },
      "text/plain": [
       "Looping over max periods:   0%|          | 0/1 [00:00<?, ?it/s]"
      ]
     },
     "metadata": {},
     "output_type": "display_data"
    },
    {
     "data": {
      "application/vnd.jupyter.widget-view+json": {
       "model_id": "030316d73f46424a8c8301f0a8711084",
       "version_major": 2,
       "version_minor": 0
      },
      "text/plain": [
       "Processing lambda groups:   0%|          | 0/21 [00:00<?, ?it/s]"
      ]
     },
     "metadata": {},
     "output_type": "display_data"
    },
    {
     "name": "stdout",
     "output_type": "stream",
     "text": [
      "Sample size: 867 matches\n"
     ]
    },
    {
     "data": {
      "application/vnd.jupyter.widget-view+json": {
       "model_id": "172a8b240be4434ebcdf9305b2b78f77",
       "version_major": 2,
       "version_minor": 0
      },
      "text/plain": [
       "Bootstrapping groups:   0%|          | 0/1 [00:00<?, ?it/s]"
      ]
     },
     "metadata": {},
     "output_type": "display_data"
    },
    {
     "data": {
      "application/vnd.jupyter.widget-view+json": {
       "model_id": "a03c151b8a8f4146bcabc9e2bf10fc6d",
       "version_major": 2,
       "version_minor": 0
      },
      "text/plain": [
       "Bootstrap replications:   0%|          | 0/500 [00:00<?, ?it/s]"
      ]
     },
     "metadata": {},
     "output_type": "display_data"
    },
    {
     "name": "stderr",
     "output_type": "stream",
     "text": [
      "C:\\Users\\amusali\\AppData\\Local\\Temp\\ipykernel_15344\\1870098444.py:108: FutureWarning: The provided callable <function std at 0x000001A2771E5E40> is currently using DataFrameGroupBy.std. In a future version of pandas, the provided callable will be used directly. To keep current behavior pass the string \"std\" instead.\n",
      "  boot_se = boot_results.groupby(index_col).agg(np.std).reset_index()\n"
     ]
    },
    {
     "name": "stdout",
     "output_type": "stream",
     "text": [
      "Sample size: 867 matches\n"
     ]
    },
    {
     "data": {
      "application/vnd.jupyter.widget-view+json": {
       "model_id": "1c66c83eac3c4471830b9325afe6dd0b",
       "version_major": 2,
       "version_minor": 0
      },
      "text/plain": [
       "Bootstrapping groups:   0%|          | 0/1 [00:00<?, ?it/s]"
      ]
     },
     "metadata": {},
     "output_type": "display_data"
    },
    {
     "data": {
      "application/vnd.jupyter.widget-view+json": {
       "model_id": "e731fff2300c4b138ce7d3adb7115b08",
       "version_major": 2,
       "version_minor": 0
      },
      "text/plain": [
       "Bootstrap replications:   0%|          | 0/500 [00:00<?, ?it/s]"
      ]
     },
     "metadata": {},
     "output_type": "display_data"
    },
    {
     "name": "stdout",
     "output_type": "stream",
     "text": [
      "Sample size: 867 matches\n"
     ]
    },
    {
     "name": "stderr",
     "output_type": "stream",
     "text": [
      "C:\\Users\\amusali\\AppData\\Local\\Temp\\ipykernel_15344\\1870098444.py:108: FutureWarning: The provided callable <function std at 0x000001A2771E5E40> is currently using DataFrameGroupBy.std. In a future version of pandas, the provided callable will be used directly. To keep current behavior pass the string \"std\" instead.\n",
      "  boot_se = boot_results.groupby(index_col).agg(np.std).reset_index()\n"
     ]
    },
    {
     "data": {
      "application/vnd.jupyter.widget-view+json": {
       "model_id": "af10ff15ea984d318513c3be18571199",
       "version_major": 2,
       "version_minor": 0
      },
      "text/plain": [
       "Bootstrapping groups:   0%|          | 0/1 [00:00<?, ?it/s]"
      ]
     },
     "metadata": {},
     "output_type": "display_data"
    },
    {
     "data": {
      "application/vnd.jupyter.widget-view+json": {
       "model_id": "52f9fdf4f7974ad481753644334c534a",
       "version_major": 2,
       "version_minor": 0
      },
      "text/plain": [
       "Bootstrap replications:   0%|          | 0/500 [00:00<?, ?it/s]"
      ]
     },
     "metadata": {},
     "output_type": "display_data"
    },
    {
     "name": "stderr",
     "output_type": "stream",
     "text": [
      "C:\\Users\\amusali\\AppData\\Local\\Temp\\ipykernel_15344\\1870098444.py:108: FutureWarning: The provided callable <function std at 0x000001A2771E5E40> is currently using DataFrameGroupBy.std. In a future version of pandas, the provided callable will be used directly. To keep current behavior pass the string \"std\" instead.\n",
      "  boot_se = boot_results.groupby(index_col).agg(np.std).reset_index()\n"
     ]
    },
    {
     "name": "stdout",
     "output_type": "stream",
     "text": [
      "Sample size: 867 matches\n"
     ]
    },
    {
     "data": {
      "application/vnd.jupyter.widget-view+json": {
       "model_id": "ef5535dad15843348909db1b0e7cb57b",
       "version_major": 2,
       "version_minor": 0
      },
      "text/plain": [
       "Bootstrapping groups:   0%|          | 0/1 [00:00<?, ?it/s]"
      ]
     },
     "metadata": {},
     "output_type": "display_data"
    },
    {
     "data": {
      "application/vnd.jupyter.widget-view+json": {
       "model_id": "b2d3cb3fc4b74c1ba6d08d9688a1f464",
       "version_major": 2,
       "version_minor": 0
      },
      "text/plain": [
       "Bootstrap replications:   0%|          | 0/500 [00:00<?, ?it/s]"
      ]
     },
     "metadata": {},
     "output_type": "display_data"
    },
    {
     "name": "stderr",
     "output_type": "stream",
     "text": [
      "C:\\Users\\amusali\\AppData\\Local\\Temp\\ipykernel_15344\\1870098444.py:108: FutureWarning: The provided callable <function std at 0x000001A2771E5E40> is currently using DataFrameGroupBy.std. In a future version of pandas, the provided callable will be used directly. To keep current behavior pass the string \"std\" instead.\n",
      "  boot_se = boot_results.groupby(index_col).agg(np.std).reset_index()\n"
     ]
    },
    {
     "name": "stdout",
     "output_type": "stream",
     "text": [
      "Sample size: 867 matches\n"
     ]
    },
    {
     "data": {
      "application/vnd.jupyter.widget-view+json": {
       "model_id": "25094d285fa4481b8db20402ee9e43d0",
       "version_major": 2,
       "version_minor": 0
      },
      "text/plain": [
       "Bootstrapping groups:   0%|          | 0/1 [00:00<?, ?it/s]"
      ]
     },
     "metadata": {},
     "output_type": "display_data"
    },
    {
     "data": {
      "application/vnd.jupyter.widget-view+json": {
       "model_id": "f084347b788140c6acba7cd200bc4772",
       "version_major": 2,
       "version_minor": 0
      },
      "text/plain": [
       "Bootstrap replications:   0%|          | 0/500 [00:00<?, ?it/s]"
      ]
     },
     "metadata": {},
     "output_type": "display_data"
    },
    {
     "name": "stdout",
     "output_type": "stream",
     "text": [
      "Sample size: 867 matches\n"
     ]
    },
    {
     "name": "stderr",
     "output_type": "stream",
     "text": [
      "C:\\Users\\amusali\\AppData\\Local\\Temp\\ipykernel_15344\\1870098444.py:108: FutureWarning: The provided callable <function std at 0x000001A2771E5E40> is currently using DataFrameGroupBy.std. In a future version of pandas, the provided callable will be used directly. To keep current behavior pass the string \"std\" instead.\n",
      "  boot_se = boot_results.groupby(index_col).agg(np.std).reset_index()\n"
     ]
    },
    {
     "data": {
      "application/vnd.jupyter.widget-view+json": {
       "model_id": "106426c6bcd84ebcba7ae740374a78a9",
       "version_major": 2,
       "version_minor": 0
      },
      "text/plain": [
       "Bootstrapping groups:   0%|          | 0/1 [00:00<?, ?it/s]"
      ]
     },
     "metadata": {},
     "output_type": "display_data"
    },
    {
     "data": {
      "application/vnd.jupyter.widget-view+json": {
       "model_id": "ca93b722e97b414281ee4d5b685b248d",
       "version_major": 2,
       "version_minor": 0
      },
      "text/plain": [
       "Bootstrap replications:   0%|          | 0/500 [00:00<?, ?it/s]"
      ]
     },
     "metadata": {},
     "output_type": "display_data"
    },
    {
     "name": "stderr",
     "output_type": "stream",
     "text": [
      "C:\\Users\\amusali\\AppData\\Local\\Temp\\ipykernel_15344\\1870098444.py:108: FutureWarning: The provided callable <function std at 0x000001A2771E5E40> is currently using DataFrameGroupBy.std. In a future version of pandas, the provided callable will be used directly. To keep current behavior pass the string \"std\" instead.\n",
      "  boot_se = boot_results.groupby(index_col).agg(np.std).reset_index()\n"
     ]
    },
    {
     "name": "stdout",
     "output_type": "stream",
     "text": [
      "Sample size: 867 matches\n"
     ]
    },
    {
     "data": {
      "application/vnd.jupyter.widget-view+json": {
       "model_id": "86de90a4b6eb4481adda0d43ea333b96",
       "version_major": 2,
       "version_minor": 0
      },
      "text/plain": [
       "Bootstrapping groups:   0%|          | 0/1 [00:00<?, ?it/s]"
      ]
     },
     "metadata": {},
     "output_type": "display_data"
    },
    {
     "data": {
      "application/vnd.jupyter.widget-view+json": {
       "model_id": "246902c7bf784bf7b89511f4c9528103",
       "version_major": 2,
       "version_minor": 0
      },
      "text/plain": [
       "Bootstrap replications:   0%|          | 0/500 [00:00<?, ?it/s]"
      ]
     },
     "metadata": {},
     "output_type": "display_data"
    },
    {
     "name": "stdout",
     "output_type": "stream",
     "text": [
      "Sample size: 867 matches\n"
     ]
    },
    {
     "name": "stderr",
     "output_type": "stream",
     "text": [
      "C:\\Users\\amusali\\AppData\\Local\\Temp\\ipykernel_15344\\1870098444.py:108: FutureWarning: The provided callable <function std at 0x000001A2771E5E40> is currently using DataFrameGroupBy.std. In a future version of pandas, the provided callable will be used directly. To keep current behavior pass the string \"std\" instead.\n",
      "  boot_se = boot_results.groupby(index_col).agg(np.std).reset_index()\n"
     ]
    },
    {
     "data": {
      "application/vnd.jupyter.widget-view+json": {
       "model_id": "b1324b07043342e29bc66852b2602cbc",
       "version_major": 2,
       "version_minor": 0
      },
      "text/plain": [
       "Bootstrapping groups:   0%|          | 0/1 [00:00<?, ?it/s]"
      ]
     },
     "metadata": {},
     "output_type": "display_data"
    },
    {
     "data": {
      "application/vnd.jupyter.widget-view+json": {
       "model_id": "87a2ceb30d5846578319b67db7f2251a",
       "version_major": 2,
       "version_minor": 0
      },
      "text/plain": [
       "Bootstrap replications:   0%|          | 0/500 [00:00<?, ?it/s]"
      ]
     },
     "metadata": {},
     "output_type": "display_data"
    },
    {
     "name": "stderr",
     "output_type": "stream",
     "text": [
      "C:\\Users\\amusali\\AppData\\Local\\Temp\\ipykernel_15344\\1870098444.py:108: FutureWarning: The provided callable <function std at 0x000001A2771E5E40> is currently using DataFrameGroupBy.std. In a future version of pandas, the provided callable will be used directly. To keep current behavior pass the string \"std\" instead.\n",
      "  boot_se = boot_results.groupby(index_col).agg(np.std).reset_index()\n"
     ]
    },
    {
     "name": "stdout",
     "output_type": "stream",
     "text": [
      "Sample size: 867 matches\n"
     ]
    },
    {
     "data": {
      "application/vnd.jupyter.widget-view+json": {
       "model_id": "d74153bb30a945919f5023a5ae12e27a",
       "version_major": 2,
       "version_minor": 0
      },
      "text/plain": [
       "Bootstrapping groups:   0%|          | 0/1 [00:00<?, ?it/s]"
      ]
     },
     "metadata": {},
     "output_type": "display_data"
    },
    {
     "data": {
      "application/vnd.jupyter.widget-view+json": {
       "model_id": "36f6acda20824f9aa431c4dc18f86f86",
       "version_major": 2,
       "version_minor": 0
      },
      "text/plain": [
       "Bootstrap replications:   0%|          | 0/500 [00:00<?, ?it/s]"
      ]
     },
     "metadata": {},
     "output_type": "display_data"
    },
    {
     "name": "stderr",
     "output_type": "stream",
     "text": [
      "C:\\Users\\amusali\\AppData\\Local\\Temp\\ipykernel_15344\\1870098444.py:108: FutureWarning: The provided callable <function std at 0x000001A2771E5E40> is currently using DataFrameGroupBy.std. In a future version of pandas, the provided callable will be used directly. To keep current behavior pass the string \"std\" instead.\n",
      "  boot_se = boot_results.groupby(index_col).agg(np.std).reset_index()\n"
     ]
    },
    {
     "name": "stdout",
     "output_type": "stream",
     "text": [
      "Sample size: 867 matches\n"
     ]
    },
    {
     "data": {
      "application/vnd.jupyter.widget-view+json": {
       "model_id": "d0d4bc2e69f74b53908844bce2bad4b7",
       "version_major": 2,
       "version_minor": 0
      },
      "text/plain": [
       "Bootstrapping groups:   0%|          | 0/1 [00:00<?, ?it/s]"
      ]
     },
     "metadata": {},
     "output_type": "display_data"
    },
    {
     "data": {
      "application/vnd.jupyter.widget-view+json": {
       "model_id": "13e4736b1b7d4bff8be851cce2d94e27",
       "version_major": 2,
       "version_minor": 0
      },
      "text/plain": [
       "Bootstrap replications:   0%|          | 0/500 [00:00<?, ?it/s]"
      ]
     },
     "metadata": {},
     "output_type": "display_data"
    },
    {
     "name": "stdout",
     "output_type": "stream",
     "text": [
      "Sample size: 867 matches\n"
     ]
    },
    {
     "name": "stderr",
     "output_type": "stream",
     "text": [
      "C:\\Users\\amusali\\AppData\\Local\\Temp\\ipykernel_15344\\1870098444.py:108: FutureWarning: The provided callable <function std at 0x000001A2771E5E40> is currently using DataFrameGroupBy.std. In a future version of pandas, the provided callable will be used directly. To keep current behavior pass the string \"std\" instead.\n",
      "  boot_se = boot_results.groupby(index_col).agg(np.std).reset_index()\n"
     ]
    },
    {
     "data": {
      "application/vnd.jupyter.widget-view+json": {
       "model_id": "febde8f3af814372a58adb3173f43702",
       "version_major": 2,
       "version_minor": 0
      },
      "text/plain": [
       "Bootstrapping groups:   0%|          | 0/1 [00:00<?, ?it/s]"
      ]
     },
     "metadata": {},
     "output_type": "display_data"
    },
    {
     "data": {
      "application/vnd.jupyter.widget-view+json": {
       "model_id": "146fa6c6e8f14b97ac3dc97596daf5b2",
       "version_major": 2,
       "version_minor": 0
      },
      "text/plain": [
       "Bootstrap replications:   0%|          | 0/500 [00:00<?, ?it/s]"
      ]
     },
     "metadata": {},
     "output_type": "display_data"
    },
    {
     "name": "stdout",
     "output_type": "stream",
     "text": [
      "Sample size: 867 matches\n"
     ]
    },
    {
     "name": "stderr",
     "output_type": "stream",
     "text": [
      "C:\\Users\\amusali\\AppData\\Local\\Temp\\ipykernel_15344\\1870098444.py:108: FutureWarning: The provided callable <function std at 0x000001A2771E5E40> is currently using DataFrameGroupBy.std. In a future version of pandas, the provided callable will be used directly. To keep current behavior pass the string \"std\" instead.\n",
      "  boot_se = boot_results.groupby(index_col).agg(np.std).reset_index()\n"
     ]
    },
    {
     "data": {
      "application/vnd.jupyter.widget-view+json": {
       "model_id": "b22afbd4fd994c739ba16062ab53e813",
       "version_major": 2,
       "version_minor": 0
      },
      "text/plain": [
       "Bootstrapping groups:   0%|          | 0/1 [00:00<?, ?it/s]"
      ]
     },
     "metadata": {},
     "output_type": "display_data"
    },
    {
     "data": {
      "application/vnd.jupyter.widget-view+json": {
       "model_id": "c10aa77fde0a458698649ede1e72aac3",
       "version_major": 2,
       "version_minor": 0
      },
      "text/plain": [
       "Bootstrap replications:   0%|          | 0/500 [00:00<?, ?it/s]"
      ]
     },
     "metadata": {},
     "output_type": "display_data"
    },
    {
     "name": "stdout",
     "output_type": "stream",
     "text": [
      "Sample size: 867 matches\n"
     ]
    },
    {
     "name": "stderr",
     "output_type": "stream",
     "text": [
      "C:\\Users\\amusali\\AppData\\Local\\Temp\\ipykernel_15344\\1870098444.py:108: FutureWarning: The provided callable <function std at 0x000001A2771E5E40> is currently using DataFrameGroupBy.std. In a future version of pandas, the provided callable will be used directly. To keep current behavior pass the string \"std\" instead.\n",
      "  boot_se = boot_results.groupby(index_col).agg(np.std).reset_index()\n"
     ]
    },
    {
     "data": {
      "application/vnd.jupyter.widget-view+json": {
       "model_id": "4dd75d668aff4c7486412b0c6ca1bf03",
       "version_major": 2,
       "version_minor": 0
      },
      "text/plain": [
       "Bootstrapping groups:   0%|          | 0/1 [00:00<?, ?it/s]"
      ]
     },
     "metadata": {},
     "output_type": "display_data"
    },
    {
     "data": {
      "application/vnd.jupyter.widget-view+json": {
       "model_id": "0cfda9a1a5bf4b2ab8cfd74acc2cb0f2",
       "version_major": 2,
       "version_minor": 0
      },
      "text/plain": [
       "Bootstrap replications:   0%|          | 0/500 [00:00<?, ?it/s]"
      ]
     },
     "metadata": {},
     "output_type": "display_data"
    },
    {
     "name": "stdout",
     "output_type": "stream",
     "text": [
      "Sample size: 867 matches\n"
     ]
    },
    {
     "name": "stderr",
     "output_type": "stream",
     "text": [
      "C:\\Users\\amusali\\AppData\\Local\\Temp\\ipykernel_15344\\1870098444.py:108: FutureWarning: The provided callable <function std at 0x000001A2771E5E40> is currently using DataFrameGroupBy.std. In a future version of pandas, the provided callable will be used directly. To keep current behavior pass the string \"std\" instead.\n",
      "  boot_se = boot_results.groupby(index_col).agg(np.std).reset_index()\n"
     ]
    },
    {
     "data": {
      "application/vnd.jupyter.widget-view+json": {
       "model_id": "6d1aa311357443319965e5b8108bdfe7",
       "version_major": 2,
       "version_minor": 0
      },
      "text/plain": [
       "Bootstrapping groups:   0%|          | 0/1 [00:00<?, ?it/s]"
      ]
     },
     "metadata": {},
     "output_type": "display_data"
    },
    {
     "data": {
      "application/vnd.jupyter.widget-view+json": {
       "model_id": "40bb3815176345a2bf163ecbcdc06793",
       "version_major": 2,
       "version_minor": 0
      },
      "text/plain": [
       "Bootstrap replications:   0%|          | 0/500 [00:00<?, ?it/s]"
      ]
     },
     "metadata": {},
     "output_type": "display_data"
    },
    {
     "name": "stderr",
     "output_type": "stream",
     "text": [
      "C:\\Users\\amusali\\AppData\\Local\\Temp\\ipykernel_15344\\1870098444.py:108: FutureWarning: The provided callable <function std at 0x000001A2771E5E40> is currently using DataFrameGroupBy.std. In a future version of pandas, the provided callable will be used directly. To keep current behavior pass the string \"std\" instead.\n",
      "  boot_se = boot_results.groupby(index_col).agg(np.std).reset_index()\n"
     ]
    },
    {
     "name": "stdout",
     "output_type": "stream",
     "text": [
      "Sample size: 867 matches\n"
     ]
    },
    {
     "data": {
      "application/vnd.jupyter.widget-view+json": {
       "model_id": "2b5755c28a2c42e48a86646f81d83f00",
       "version_major": 2,
       "version_minor": 0
      },
      "text/plain": [
       "Bootstrapping groups:   0%|          | 0/1 [00:00<?, ?it/s]"
      ]
     },
     "metadata": {},
     "output_type": "display_data"
    },
    {
     "data": {
      "application/vnd.jupyter.widget-view+json": {
       "model_id": "f57ac3b45c6e47adb8302aa0ae36eb22",
       "version_major": 2,
       "version_minor": 0
      },
      "text/plain": [
       "Bootstrap replications:   0%|          | 0/500 [00:00<?, ?it/s]"
      ]
     },
     "metadata": {},
     "output_type": "display_data"
    },
    {
     "name": "stdout",
     "output_type": "stream",
     "text": [
      "Sample size: 867 matches\n"
     ]
    },
    {
     "name": "stderr",
     "output_type": "stream",
     "text": [
      "C:\\Users\\amusali\\AppData\\Local\\Temp\\ipykernel_15344\\1870098444.py:108: FutureWarning: The provided callable <function std at 0x000001A2771E5E40> is currently using DataFrameGroupBy.std. In a future version of pandas, the provided callable will be used directly. To keep current behavior pass the string \"std\" instead.\n",
      "  boot_se = boot_results.groupby(index_col).agg(np.std).reset_index()\n"
     ]
    },
    {
     "data": {
      "application/vnd.jupyter.widget-view+json": {
       "model_id": "4b10cb5ae15b47ad8409b36e3e60010f",
       "version_major": 2,
       "version_minor": 0
      },
      "text/plain": [
       "Bootstrapping groups:   0%|          | 0/1 [00:00<?, ?it/s]"
      ]
     },
     "metadata": {},
     "output_type": "display_data"
    },
    {
     "data": {
      "application/vnd.jupyter.widget-view+json": {
       "model_id": "f8a6a20c4e714bf39c425b7ae40505aa",
       "version_major": 2,
       "version_minor": 0
      },
      "text/plain": [
       "Bootstrap replications:   0%|          | 0/500 [00:00<?, ?it/s]"
      ]
     },
     "metadata": {},
     "output_type": "display_data"
    },
    {
     "name": "stdout",
     "output_type": "stream",
     "text": [
      "Sample size: 867 matches\n"
     ]
    },
    {
     "name": "stderr",
     "output_type": "stream",
     "text": [
      "C:\\Users\\amusali\\AppData\\Local\\Temp\\ipykernel_15344\\1870098444.py:108: FutureWarning: The provided callable <function std at 0x000001A2771E5E40> is currently using DataFrameGroupBy.std. In a future version of pandas, the provided callable will be used directly. To keep current behavior pass the string \"std\" instead.\n",
      "  boot_se = boot_results.groupby(index_col).agg(np.std).reset_index()\n"
     ]
    },
    {
     "data": {
      "application/vnd.jupyter.widget-view+json": {
       "model_id": "859a4d5086ec48f2870bc577d1e97198",
       "version_major": 2,
       "version_minor": 0
      },
      "text/plain": [
       "Bootstrapping groups:   0%|          | 0/1 [00:00<?, ?it/s]"
      ]
     },
     "metadata": {},
     "output_type": "display_data"
    },
    {
     "data": {
      "application/vnd.jupyter.widget-view+json": {
       "model_id": "520972988b2b4dc18a50a22b94c96e37",
       "version_major": 2,
       "version_minor": 0
      },
      "text/plain": [
       "Bootstrap replications:   0%|          | 0/500 [00:00<?, ?it/s]"
      ]
     },
     "metadata": {},
     "output_type": "display_data"
    },
    {
     "name": "stdout",
     "output_type": "stream",
     "text": [
      "Sample size: 867 matches\n"
     ]
    },
    {
     "name": "stderr",
     "output_type": "stream",
     "text": [
      "C:\\Users\\amusali\\AppData\\Local\\Temp\\ipykernel_15344\\1870098444.py:108: FutureWarning: The provided callable <function std at 0x000001A2771E5E40> is currently using DataFrameGroupBy.std. In a future version of pandas, the provided callable will be used directly. To keep current behavior pass the string \"std\" instead.\n",
      "  boot_se = boot_results.groupby(index_col).agg(np.std).reset_index()\n"
     ]
    },
    {
     "data": {
      "application/vnd.jupyter.widget-view+json": {
       "model_id": "f98bbf94ce2f437da109ed6b342d0c96",
       "version_major": 2,
       "version_minor": 0
      },
      "text/plain": [
       "Bootstrapping groups:   0%|          | 0/1 [00:00<?, ?it/s]"
      ]
     },
     "metadata": {},
     "output_type": "display_data"
    },
    {
     "data": {
      "application/vnd.jupyter.widget-view+json": {
       "model_id": "c7ed1e23fb1c462eac44848653c1221e",
       "version_major": 2,
       "version_minor": 0
      },
      "text/plain": [
       "Bootstrap replications:   0%|          | 0/500 [00:00<?, ?it/s]"
      ]
     },
     "metadata": {},
     "output_type": "display_data"
    },
    {
     "name": "stdout",
     "output_type": "stream",
     "text": [
      "Sample size: 867 matches\n"
     ]
    },
    {
     "name": "stderr",
     "output_type": "stream",
     "text": [
      "C:\\Users\\amusali\\AppData\\Local\\Temp\\ipykernel_15344\\1870098444.py:108: FutureWarning: The provided callable <function std at 0x000001A2771E5E40> is currently using DataFrameGroupBy.std. In a future version of pandas, the provided callable will be used directly. To keep current behavior pass the string \"std\" instead.\n",
      "  boot_se = boot_results.groupby(index_col).agg(np.std).reset_index()\n"
     ]
    },
    {
     "data": {
      "application/vnd.jupyter.widget-view+json": {
       "model_id": "8cbf13269ea0413a9437f64d29376f18",
       "version_major": 2,
       "version_minor": 0
      },
      "text/plain": [
       "Bootstrapping groups:   0%|          | 0/1 [00:00<?, ?it/s]"
      ]
     },
     "metadata": {},
     "output_type": "display_data"
    },
    {
     "data": {
      "application/vnd.jupyter.widget-view+json": {
       "model_id": "29e9d285110c4fad9f44af7a755ac004",
       "version_major": 2,
       "version_minor": 0
      },
      "text/plain": [
       "Bootstrap replications:   0%|          | 0/500 [00:00<?, ?it/s]"
      ]
     },
     "metadata": {},
     "output_type": "display_data"
    },
    {
     "name": "stdout",
     "output_type": "stream",
     "text": [
      "Sample size: 867 matches\n"
     ]
    },
    {
     "name": "stderr",
     "output_type": "stream",
     "text": [
      "C:\\Users\\amusali\\AppData\\Local\\Temp\\ipykernel_15344\\1870098444.py:108: FutureWarning: The provided callable <function std at 0x000001A2771E5E40> is currently using DataFrameGroupBy.std. In a future version of pandas, the provided callable will be used directly. To keep current behavior pass the string \"std\" instead.\n",
      "  boot_se = boot_results.groupby(index_col).agg(np.std).reset_index()\n"
     ]
    },
    {
     "data": {
      "application/vnd.jupyter.widget-view+json": {
       "model_id": "37966128bc8d4ca88e7193df2cf84fb0",
       "version_major": 2,
       "version_minor": 0
      },
      "text/plain": [
       "Bootstrapping groups:   0%|          | 0/1 [00:00<?, ?it/s]"
      ]
     },
     "metadata": {},
     "output_type": "display_data"
    },
    {
     "data": {
      "application/vnd.jupyter.widget-view+json": {
       "model_id": "71d6ab8ccbad4267857d3dff4fe1bc01",
       "version_major": 2,
       "version_minor": 0
      },
      "text/plain": [
       "Bootstrap replications:   0%|          | 0/500 [00:00<?, ?it/s]"
      ]
     },
     "metadata": {},
     "output_type": "display_data"
    },
    {
     "name": "stdout",
     "output_type": "stream",
     "text": [
      "Sample size: 867 matches\n"
     ]
    },
    {
     "name": "stderr",
     "output_type": "stream",
     "text": [
      "C:\\Users\\amusali\\AppData\\Local\\Temp\\ipykernel_15344\\1870098444.py:108: FutureWarning: The provided callable <function std at 0x000001A2771E5E40> is currently using DataFrameGroupBy.std. In a future version of pandas, the provided callable will be used directly. To keep current behavior pass the string \"std\" instead.\n",
      "  boot_se = boot_results.groupby(index_col).agg(np.std).reset_index()\n"
     ]
    },
    {
     "data": {
      "application/vnd.jupyter.widget-view+json": {
       "model_id": "a4a9351520a14b749e0bdd046db3316b",
       "version_major": 2,
       "version_minor": 0
      },
      "text/plain": [
       "Bootstrapping groups:   0%|          | 0/1 [00:00<?, ?it/s]"
      ]
     },
     "metadata": {},
     "output_type": "display_data"
    },
    {
     "data": {
      "application/vnd.jupyter.widget-view+json": {
       "model_id": "b4cd673688b0430a9d6881510c141a82",
       "version_major": 2,
       "version_minor": 0
      },
      "text/plain": [
       "Bootstrap replications:   0%|          | 0/500 [00:00<?, ?it/s]"
      ]
     },
     "metadata": {},
     "output_type": "display_data"
    },
    {
     "name": "stderr",
     "output_type": "stream",
     "text": [
      "C:\\Users\\amusali\\AppData\\Local\\Temp\\ipykernel_15344\\1870098444.py:108: FutureWarning: The provided callable <function std at 0x000001A2771E5E40> is currently using DataFrameGroupBy.std. In a future version of pandas, the provided callable will be used directly. To keep current behavior pass the string \"std\" instead.\n",
      "  boot_se = boot_results.groupby(index_col).agg(np.std).reset_index()\n"
     ]
    },
    {
     "data": {
      "image/png": "[encoded data removed]",
      "text/plain": [
       "<Figure size 1000x700 with 1 Axes>"
      ]
     },
     "metadata": {},
     "output_type": "display_data"
    }
   ],
   "source": [
    "import pandas as pd\n",
    "import numpy as np\n",
    "import matplotlib.pyplot as plt\n",
    "import seaborn as sns\n",
    "from tqdm.auto import tqdm\n",
    "from scipy.stats import ks_2samp\n",
    "\n",
    "\n",
    "# Max periods\n",
    "max_period_list = [20]\n",
    "\n",
    "for period in tqdm(max_period_list, desc = \"Looping over max periods\"):\n",
    "\n",
    "    # Run balance tests and estimate ATT\n",
    "    ATT_all = estimate_by_lambda(df, -1, ['unique_assignee_treated', 'unique_assignee_control'], outcome_treated='unique_assignee_treated', outcome_control='unique_assignee_control', max_period=period)\n",
    "    \n",
    "    # Save results\n",
    "    save_att(ATT_all, fr'C:\\Users\\amusali\\Desktop\\uc3m PhD\\05 Analysis\\01 Main\\03 Python scripts\\03 Estimation\\02 Top Tech\\02 Off deal\\out\\enhanced', f'ATT_unique_ass_{period}.csv')\n",
    "\n",
    "    # Save graph of all ATTs\n",
    "    plot_all_att(ATT_all, -1, fr'C:\\Users\\amusali\\Desktop\\uc3m PhD\\05 Analysis\\01 Main\\03 Python scripts\\03 Estimation\\02 Top Tech\\02 Off deal\\out\\enhanced', f'ATT_unique_ass_{period}.png')\n",
    "\n",
    "    # Save graphs of ATTs by lambda\n",
    "    plot_att_by_lambda(ATT_all, -1, fr'C:\\Users\\amusali\\Desktop\\uc3m PhD\\05 Analysis\\01 Main\\03 Python scripts\\03 Estimation\\02 Top Tech\\02 Off deal\\out\\enhanced', key = \"ass\")\n",
    "\n",
    "\n"
   ]
  }
 ],
 "metadata": {
  "kernelspec": {
   "display_name": "venv",
   "language": "python",
   "name": "python3"
  },
  "language_info": {
   "codemirror_mode": {
    "name": "ipython",
    "version": 3
   },
   "file_extension": ".py",
   "mimetype": "text/x-python",
   "name": "python",
   "nbconvert_exporter": "python",
   "pygments_lexer": "ipython3",
   "version": "3.12.2"
  }
 },
 "nbformat": 4,
 "nbformat_minor": 2
}
