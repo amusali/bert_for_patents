{
 "cells": [
  {
   "cell_type": "markdown",
   "metadata": {},
   "source": [
    "# Load & process already checked patents' file"
   ]
  },
  {
   "cell_type": "markdown",
   "metadata": {},
   "source": [
    "## Functions"
   ]
  },
  {
   "cell_type": "code",
   "execution_count": 2,
   "metadata": {},
   "outputs": [],
   "source": [
    "t = load(r\"C:\\Users\\amusali\\Downloads\\01 CLS embeddings rest - 20250226_001646.pkl\")"
   ]
  },
  {
   "cell_type": "code",
   "execution_count": 1,
   "metadata": {},
   "outputs": [],
   "source": [
    "import dill as pickle\n",
    "import pandas as pd\n",
    "\n",
    "\n",
    "def save(obj, filename):\n",
    "    with open(filename, 'wb') as f:\n",
    "        pickle.dump(obj, f)\n",
    "\n",
    "def load(filename):\n",
    "    with open(filename, 'rb') as f:\n",
    "        return pickle.load(f)\n",
    "    \n",
    "\n",
    "def load_stata_dta(filepath):\n",
    "    \"\"\"\n",
    "    Load a Stata .dta file into a Pandas DataFrame.\n",
    "\n",
    "    Parameters:\n",
    "        filepath (str): The path to the .dta file.\n",
    "\n",
    "    Returns:\n",
    "        pd.DataFrame: DataFrame containing the data from the .dta file.\n",
    "\n",
    "    Raises:\n",
    "        FileNotFoundError: If the file does not exist.\n",
    "        Exception: If an error occurs during file loading.\n",
    "    \"\"\"\n",
    "    try:\n",
    "        df = pd.read_stata(filepath)\n",
    "        return df\n",
    "    except FileNotFoundError as e:\n",
    "        print(f\"File not found: {filepath}\")\n",
    "        raise e\n",
    "    except Exception as e:\n",
    "        print(f\"An error occurred while loading the file: {e}\")\n",
    "        raise e\n"
   ]
  },
  {
   "cell_type": "markdown",
   "metadata": {},
   "source": [
    "## Load"
   ]
  },
  {
   "cell_type": "code",
   "execution_count": 8,
   "metadata": {},
   "outputs": [
    {
     "name": "stdout",
     "output_type": "stream",
     "text": [
      "Type of cls_checked: <class 'dict'>\n",
      "Number of patents:  2077783\n"
     ]
    }
   ],
   "source": [
    "# Load\n",
    "path = r\"C:\\Users\\amusali\\Desktop\\uc3m PhD\\05 Analysis\\01 Main\\00 Python data\\01 CLS embeddings\\CheckedPatents_CLSonly_2024.11.11_00_06(1).pkl\"\n",
    "\n",
    "cls_checked = load(path)\n",
    "print(f\"Type of cls_checked: {type(cls_checked)}\")\n",
    "print(f\"Number of patents:  {len(cls_checked)}\")\n"
   ]
  },
  {
   "cell_type": "markdown",
   "metadata": {},
   "source": [
    "## Fix size of embeddings"
   ]
  },
  {
   "cell_type": "code",
   "execution_count": 4,
   "metadata": {},
   "outputs": [
    {
     "name": "stdout",
     "output_type": "stream",
     "text": [
      "Number of types: 1\n",
      "{(1024,)}\n"
     ]
    }
   ],
   "source": [
    "\n",
    "import pandas as pd\n",
    "\n",
    "# Squeeze\n",
    "for key, value in cls_checked.items():\n",
    "    cls_checked[key] = value.squeeze()\n",
    "\n",
    "# Check shape of emebeddings\n",
    "size_types  = set()\n",
    "for key, value in cls_checked.items():\n",
    "    size_types.add(value.shape)\n",
    "\n",
    "print(f\"Number of types: {len(size_types)}\")\n",
    "print(size_types)\n",
    "\n",
    "\n"
   ]
  },
  {
   "cell_type": "markdown",
   "metadata": {},
   "source": [
    "# Load all patents in PatentsView"
   ]
  },
  {
   "cell_type": "markdown",
   "metadata": {},
   "source": [
    "## Load"
   ]
  },
  {
   "cell_type": "code",
   "execution_count": 6,
   "metadata": {},
   "outputs": [
    {
     "name": "stdout",
     "output_type": "stream",
     "text": [
      "Number of patents: 9075421\n"
     ]
    }
   ],
   "source": [
    "# Load\n",
    "dta_path = r\"C:\\Users\\amusali\\Desktop\\uc3m PhD\\05 Analysis\\01 Main\\01 Stata\\01 Main\\01 Data load\\dta\\01 Patent data - without citations.dta\"\n",
    "all_patents = load_stata_dta(dta_path)\n",
    "print(f\"Number of patents: {len(all_patents)}\") "
   ]
  },
  {
   "cell_type": "markdown",
   "metadata": {},
   "source": [
    "## Find the patents that have not been checked"
   ]
  },
  {
   "cell_type": "code",
   "execution_count": null,
   "metadata": {},
   "outputs": [
    {
     "name": "stdout",
     "output_type": "stream",
     "text": [
      "Number of patents to check: 6997638\n"
     ]
    }
   ],
   "source": [
    "## Merge dataframes\n",
    "patent_ids_processed = set(cls_checked.keys())\n",
    "\n",
    "# Filter the DataFrame to keep only rows where patent_id is NOT in the processed set\n",
    "patents_to_check = all_patents[~all_patents['patent_id'].isin(patent_ids_processed)][['patent_id', 'abstract']]\n",
    "\n",
    "print(f\"Number of patents to check: {len(patents_to_check)}\")\n",
    "\n",
    "## Save a pickle file\n",
    "path = r\"C:\\Users\\amusali\\Desktop\\uc3m PhD\\05 Analysis\\01 Main\\00 Python data\\07 Combined Patents from DTA\\patents_from_dta.pkl\"\n",
    "save(patents_to_check, path)"
   ]
  },
  {
   "cell_type": "markdown",
   "metadata": {},
   "source": [
    "## Export the DTA as a whole"
   ]
  },
  {
   "cell_type": "code",
   "execution_count": null,
   "metadata": {},
   "outputs": [],
   "source": [
    "# Load\n",
    "dta_path = r\"C:\\Users\\amusali\\Desktop\\uc3m PhD\\05 Analysis\\01 Main\\01 Stata\\01 Main\\01 Data load\\dta\\01 Patent data - without citations.dta\"\n",
    "all_patents = load_stata_dta(dta_path)\n",
    "print(f\"Number of patents: {len(all_patents)}\")\n",
    "\n",
    "## Save a pickle file\n",
    "path = r\"C:\\Users\\amusali\\Desktop\\uc3m PhD\\05 Analysis\\01 Main\\00 Python data\\07 Combined Patents from DTA\\patents_from_dta.pkl\"\n",
    "save(patents_to_check, path)"
   ]
  }
 ],
 "metadata": {
  "kernelspec": {
   "display_name": "venv",
   "language": "python",
   "name": "python3"
  },
  "language_info": {
   "codemirror_mode": {
    "name": "ipython",
    "version": 3
   },
   "file_extension": ".py",
   "mimetype": "text/x-python",
   "name": "python",
   "nbconvert_exporter": "python",
   "pygments_lexer": "ipython3",
   "version": "3.12.2"
  }
 },
 "nbformat": 4,
 "nbformat_minor": 2
}
