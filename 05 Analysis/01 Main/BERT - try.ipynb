{
 "cells": [
  {
   "cell_type": "markdown",
   "metadata": {},
   "source": [
    "BERT Example"
   ]
  },
  {
   "cell_type": "code",
   "execution_count": 1,
   "metadata": {},
   "outputs": [
    {
     "name": "stderr",
     "output_type": "stream",
     "text": [
      "c:\\Users\\amusali\\Desktop\\uc3m PhD\\venv\\Lib\\site-packages\\fuzzywuzzy\\fuzz.py:11: UserWarning: Using slow pure-python SequenceMatcher. Install python-Levenshtein to remove this warning\n",
      "  warnings.warn('Using slow pure-python SequenceMatcher. Install python-Levenshtein to remove this warning')\n"
     ]
    },
    {
     "name": "stdout",
     "output_type": "stream",
     "text": [
      "Company names are:  ['gas']\n",
      "All THE FOUND COMPANIES ARE:  {('GastronicsÃ¢â‚¬Â² Inc.', 'legacy'), ('Gastrix Medical, LLC', 'assignee'), ('Union Carbide Industrial Gases Technology Corporation', 'legacy'), ('GasTran Systems', 'assignee'), ('GAAP Gas Controls LLC', 'legacy'), ('GastroKlenz Inc.', 'legacy'), ('Gaska Tape, Inc.', 'legacy'), ('GASI Engine Services Corporation', 'legacy'), ('Trunkline Gas Company', 'assignee'), ('GAS BRAND STARTER, LLC', 'assignee'), ('ONE Gas, Inc.', 'assignee'), ('Gas Research Institute', 'legacy'), ('Memphis Light Gas & Water, division of City of Memphis', 'assignee'), ('AutoGas Systems, Inc.', 'assignee'), ('Ferrellgas Real Estate, Inc.', 'assignee'), (\"Gaspar's Linguica Company, Inc.\", 'assignee'), ('Gas Caps, Inc.', 'assignee'), ('SPM Oil & Gas Inc.', 'legacy'), ('Sir Pegasus, Inc.', 'assignee'), ('Gaspardo & Associates, Inc.', 'assignee'), ('Gass Industries, Inc.', 'assignee'), ('Madison Gas and Electric Company', 'assignee'), ('Texas Gas Transmission Corporation', 'legacy'), ('GaSonics, Inc.', 'assignee'), ('Sans. Gas. Inc.', 'assignee'), ('Stewardship Water & Gas Co', 'assignee'), ('Magnegas Corporation', 'legacy'), ('Gas Spring Company, Division of Fichtel & Sachs Industries, Inc.', 'assignee'), ('Cleveland Gas Systems, LLC', 'assignee'), ('Gas Technologies LLC', 'legacy'), ('Gaston County Dyeing Machine Company', 'assignee'), ('Pacific Gas Supply Corporation', 'assignee'), ('Gastro-Gnomes, Inc.', 'legacy'), ('GE Oil & Gas Pressure Control LP', 'legacy'), ('NATURAL GAS FUEL SYSTEMS, LLC', 'assignee'), ('Gas Activated Systems', 'legacy'), ('GAS FIRED PRODUCTS, INC.', 'assignee'), ('Gas Odorizers, Inc.', 'assignee'), ('GastroLogic LLC', 'assignee'), ('Gas Services, Inc.', 'assignee'), ('Segasoft, Inc.', 'legacy'), ('Gas Separation Technology, Inc.', 'legacy'), ('Gas Guard West, Inc.', 'assignee'), ('Lamons Metal Gasket Co.', 'assignee'), ('Vecta Oil & Gas, Ltd.', 'assignee'), ('Megasystems, Inc.', 'legacy'), ('Natural Gas Odorizing, Inc.', 'assignee'), ('Gasboy International, Inc.', 'assignee'), ('A.K.G.S. Partnership, A Partnership of Las Vegas', 'assignee'), ('Pegasus Laboratories, Inc.', 'legacy'), ('BECKETT GAS, INC.', 'assignee'), ('GASTECH ENGINEERING LLC', 'assignee'), ('Gast Manufacturing, Inc. A Unit of IDEX Corporation', 'legacy'), ('Institute of Gas Technology', 'legacy'), ('High Gas Mileage, LLC', 'assignee'), ('Gasaver Corp.', 'assignee'), ('Gas Sensing Tech Corp', 'legacy'), ('Memphis Light, Gas & Water Division', 'assignee'), ('The Board of Regents University Community College System of Nevada on Behalf of the University of Nevada-Las Vegas', 'assignee'), ('Gas Tank Renu - USA', 'assignee'), ('San Diego Gas & Electric Company', 'assignee'), ('GASTROPAL PARTNERS', 'assignee'), ('XPand Oil & Gas Solutions, LLC', 'assignee'), ('Megas, LLC', 'assignee'), ('Gas Electronics, Inc.', 'assignee'), ('Gas Saver, LLC', 'assignee'), ('Tri-Gas, Inc.', 'assignee'), ('PEGASUS SOLAR, INC.', 'legacy'), ('Gas-Chill, Inc.', 'assignee'), ('GASN LLC', 'assignee'), ('Western International Gas and Cylinders, Inc.', 'assignee'), ('Gas Desulfurization Corporation', 'assignee'), ('Gasser Chair Company, Inc.', 'assignee'), ('Citizens Gas & Coke Utility', 'assignee'), ('GasTech, Inc.', 'assignee'), ('Unconventional Gas Solutions, LLC', 'assignee'), ('Gas Spring Company, Div. of Fichtel & Sachs Industries, Inc.', 'assignee'), ('Gasonics International Corporation', 'assignee'), ('Gas Technology Resources Flotron, Incorporated', 'assignee'), ('GAS SEPARATION TECHNOLOGIES, INC.', 'legacy'), ('Gas Bowstrings, LLC', 'assignee'), ('GAS TECHNOLOGY INSTITUTE', 'legacy'), ('Gasdorf Tool & Machine Co., Inc.', 'assignee'), ('San Diego Gas & Electric Company, c/o Sempra Energy', 'assignee'), ('Gas Spring Corporation', 'assignee'), ('Gasvoda & Associates, Inc.', 'assignee'), ('Gaseous Fuel Systems, Corp.', 'legacy'), ('Dakota Gasification Company', 'assignee'), ('Gas Products, Inc.', 'assignee'), ('Gasbreaker Inc.', 'assignee'), ('Detroit Gasket & Manufacturing Co.', 'assignee'), ('GASTON SYSTEMS, INC.', 'legacy'), ('SPM Oil & Gas PC LLC', 'assignee'), ('Columbia Gas of Ohio', 'legacy'), ('Gas-O-Haul, Incorporated', 'assignee'), ('Gas Energy, Inc.', 'legacy'), ('Gas Technology Limited', 'assignee')}\n",
      "Best matches are:  [('Gas Research Institute', 'legacy'), ('Gas Energy, Inc.', 'legacy'), ('GAS TECHNOLOGY INSTITUTE', 'legacy'), ('Gas Sensing Tech Corp', 'legacy'), ('Gas Technologies LLC', 'legacy'), ('GAAP Gas Controls LLC', 'legacy'), ('SPM Oil & Gas Inc.', 'legacy'), ('Gas Spring Corporation', 'assignee'), ('Gas Products, Inc.', 'assignee'), ('Gas Bowstrings, LLC', 'assignee'), ('SPM Oil & Gas PC LLC', 'assignee'), ('ONE Gas, Inc.', 'assignee')]\n"
     ]
    },
    {
     "data": {
      "text/plain": [
       "[('Gas Research Institute', 'legacy'),\n",
       " ('Gas Energy, Inc.', 'legacy'),\n",
       " ('GAS TECHNOLOGY INSTITUTE', 'legacy'),\n",
       " ('Gas Sensing Tech Corp', 'legacy'),\n",
       " ('Gas Technologies LLC', 'legacy'),\n",
       " ('GAAP Gas Controls LLC', 'legacy'),\n",
       " ('SPM Oil & Gas Inc.', 'legacy'),\n",
       " ('Gas Spring Corporation', 'assignee'),\n",
       " ('Gas Products, Inc.', 'assignee'),\n",
       " ('Gas Bowstrings, LLC', 'assignee'),\n",
       " ('SPM Oil & Gas PC LLC', 'assignee'),\n",
       " ('ONE Gas, Inc.', 'assignee')]"
      ]
     },
     "execution_count": 1,
     "metadata": {},
     "output_type": "execute_result"
    }
   ],
   "source": [
    "import api.get_closest_assignees as fg\n",
    "\n",
    "fg.get_closest_assignees(\"gas\")"
   ]
  },
  {
   "cell_type": "code",
   "execution_count": 1,
   "metadata": {},
   "outputs": [
    {
     "name": "stderr",
     "output_type": "stream",
     "text": [
      "c:\\Users\\amusali\\Desktop\\uc3m PhD\\venv\\Lib\\site-packages\\fuzzywuzzy\\fuzz.py:11: UserWarning: Using slow pure-python SequenceMatcher. Install python-Levenshtein to remove this warning\n",
      "  warnings.warn('Using slow pure-python SequenceMatcher. Install python-Levenshtein to remove this warning')\n"
     ]
    },
    {
     "name": "stdout",
     "output_type": "stream",
     "text": [
      "BERT loaded...\n",
      "2008-12-12\n",
      "https://api.patentsview.org/patents/query?o={\"page\":1,\"per_page\":10000}&q={\"assignee_organization\": \"FACEBOOK, INC.\"}&f=[\"cpc_subgroup_id\",\"app_date\",\"patent_id\", \"patent_date\",\"cpc_category\",\"assignee_country\", \"patent_num_cited_by_us_patents\", \"patent_abstract\", \"citedby_patent_id\", \"citedby_patent_title\", \"citedby_patent_date\"]\n",
      "Size of patents before:  61 Size of patents after:  5300\n"
     ]
    }
   ],
   "source": [
    "import api.fetch_patents as fp \n",
    "import importlib\n",
    "importlib.reload(fp)\n",
    "from datetime import datetime, timedelta\n",
    "import pandas as pd\n",
    "import re\n",
    "\n",
    "date = \"2008-12-12\"\n",
    "#date = datetime.strptime(date, \"%Y-%m-%d\")\n",
    "print(date)\n",
    "x = fp.get_patents('FACEBOOK, INC.', date, source = 'legacy')\n",
    "#len(x[0], x[1])\n",
    "#y = fp.get_patents('Ford Global Technologies, LLC', date, source = 'legacy')"
   ]
  },
  {
   "cell_type": "code",
   "execution_count": 17,
   "metadata": {},
   "outputs": [],
   "source": [
    "f = x[0]\n",
    "g1 = f[1]\n",
    "g2 = f[2]"
   ]
  },
  {
   "cell_type": "code",
   "execution_count": 13,
   "metadata": {},
   "outputs": [
    {
     "name": "stdout",
     "output_type": "stream",
     "text": [
      "Sleeping for:  2.8517629846789654 seconds\n"
     ]
    }
   ],
   "source": [
    "import api.fetch_patents\n",
    "patents_to_compare = api.fetch_patents.get_patents_from_fields(field, year)\n",
    "ps = [x['patent_abstract'] for  x in patents_to_compare[0][field][str(year)]['patents']]"
   ]
  },
  {
   "cell_type": "code",
   "execution_count": null,
   "metadata": {},
   "outputs": [],
   "source": [
    "import api.fetch_patents\n",
    "import importlib\n",
    "importlib.reload(api.fetch_patents)\n",
    "embd_of_to_compare_against = api.fetch_patents.get_embeddings_from_field(patent)\n"
   ]
  },
  {
   "cell_type": "code",
   "execution_count": 28,
   "metadata": {},
   "outputs": [],
   "source": [
    "from sklearn.metrics.pairwise import cosine_similarity\n",
    "\n",
    "x = cosine_similarity([embd_of_patent_being_compared], embd_of_to_compare_against).flatten()"
   ]
  },
  {
   "cell_type": "code",
   "execution_count": 4,
   "metadata": {},
   "outputs": [
    {
     "name": "stdout",
     "output_type": "stream",
     "text": [
      "There are 1 patents being fed into BERT\n",
      "It took 1.68 seconds to get the embeddings of the input.\n"
     ]
    }
   ],
   "source": [
    "from api.bertembeddings import get_embd_of_whole_abstract\n",
    "patent =  x[0][45]\n",
    "embd_of_patent_being_compared = get_embd_of_whole_abstract(patent['abstract'])\n"
   ]
  },
  {
   "cell_type": "code",
   "execution_count": 2,
   "metadata": {},
   "outputs": [
    {
     "name": "stdout",
     "output_type": "stream",
     "text": [
      "Sleeping for:  0.29261272497310853 seconds\n"
     ]
    },
    {
     "ename": "TypeError",
     "evalue": "find_distances() missing 1 required positional argument: 'embd_of_to_compare_against'",
     "output_type": "error",
     "traceback": [
      "\u001b[1;31m---------------------------------------------------------------------------\u001b[0m",
      "\u001b[1;31mTypeError\u001b[0m                                 Traceback (most recent call last)",
      "Cell \u001b[1;32mIn[2], line 10\u001b[0m\n\u001b[0;32m      5\u001b[0m target \u001b[38;5;241m=\u001b[39m x[\u001b[38;5;241m0\u001b[39m][\u001b[38;5;241m45\u001b[39m]\n\u001b[0;32m      7\u001b[0m patents_in_fiedl \u001b[38;5;241m=\u001b[39m fp\u001b[38;5;241m.\u001b[39mget_patents_from_fields(target[\u001b[38;5;124m'\u001b[39m\u001b[38;5;124mtech_field\u001b[39m\u001b[38;5;124m'\u001b[39m], target[\u001b[38;5;124m'\u001b[39m\u001b[38;5;124myear\u001b[39m\u001b[38;5;124m'\u001b[39m]\u001b[38;5;241m.\u001b[39myear)[\u001b[38;5;241m0\u001b[39m][target[\u001b[38;5;124m'\u001b[39m\u001b[38;5;124mtech_field\u001b[39m\u001b[38;5;124m'\u001b[39m]][\u001b[38;5;28mstr\u001b[39m(target[\u001b[38;5;124m'\u001b[39m\u001b[38;5;124myear\u001b[39m\u001b[38;5;124m'\u001b[39m]\u001b[38;5;241m.\u001b[39myear)]\n\u001b[1;32m---> 10\u001b[0m dist_e, index_e, dist_cs, index_cs \u001b[38;5;241m=\u001b[39m \u001b[43mfp\u001b[49m\u001b[38;5;241;43m.\u001b[39;49m\u001b[43mfind_distances\u001b[49m\u001b[43m(\u001b[49m\u001b[43mtarget\u001b[49m\u001b[43m)\u001b[49m\n",
      "\u001b[1;31mTypeError\u001b[0m: find_distances() missing 1 required positional argument: 'embd_of_to_compare_against'"
     ]
    }
   ],
   "source": [
    "import api.fetch_patents as fp \n",
    "import importlib\n",
    "importlib.reload(fp)\n",
    "\n",
    "target = x[0][45]\n",
    "\n",
    "patents_in_fiedl = fp.get_patents_from_fields(target['tech_field'], target['year'].year)[0][target['tech_field']][str(target['year'].year)]\n",
    "\n",
    "\n",
    "dist_e, index_e, dist_cs, index_cs = fp.find_distances(target)"
   ]
  },
  {
   "cell_type": "code",
   "execution_count": 27,
   "metadata": {},
   "outputs": [
    {
     "name": "stdout",
     "output_type": "stream",
     "text": [
      "Sleeping for:  0.3371664564128517 seconds\n"
     ]
    }
   ],
   "source": [
    "#targets = [k['abstract'] for k in x[0]]\n",
    "target = patent\n",
    "patents_in_field = fp.get_patents_from_fields(target['tech_field'], target['year'].year)[0][target['tech_field']][str(target['year'].year)]['patents']\n"
   ]
  },
  {
   "cell_type": "code",
   "execution_count": 6,
   "metadata": {},
   "outputs": [],
   "source": [
    "dist_eu, index_eu, dist_cs, index_cs  = fp.find_distances(embeddings[0], embeddings[1])"
   ]
  },
  {
   "cell_type": "code",
   "execution_count": 24,
   "metadata": {},
   "outputs": [
    {
     "name": "stdout",
     "output_type": "stream",
     "text": [
      "Currently doing TF-IDF\n"
     ]
    }
   ],
   "source": [
    "\n",
    "import api.fetch_patents as fp\n",
    "import importlib\n",
    "importlib.reload(fp)\n",
    "abstracts = [p['abstract'] for p in patents_in_field]\n",
    "distances, index = fp.get_tfidf_from_field(abstracts, patent['abstract'])\n",
    "filtered_abstracts = fp.filter_patents_by_similarity(abstracts, distances, index)"
   ]
  },
  {
   "cell_type": "code",
   "execution_count": 35,
   "metadata": {},
   "outputs": [],
   "source": [
    "import api.fetch_patents as fp\n",
    "import importlib\n",
    "importlib.reload(fp)\n",
    "\n",
    "dist_eu, index_eu, dist_cs, index_cs  = fp.find_distances(own, against)"
   ]
  },
  {
   "cell_type": "code",
   "execution_count": 49,
   "metadata": {},
   "outputs": [],
   "source": [
    "\n",
    "batch_size = 6  # Adjust this based on your memory constraints\n",
    "abstracts = [d['abstract'] for d in patents_in_field]\n",
    "\n",
    "# Create batches of abstracts\n",
    "batched_abstracts = [abstracts[i:i + batch_size] for i in range(0, len(abstracts), batch_size)]\n",
    "\n",
    "\n"
   ]
  },
  {
   "cell_type": "code",
   "execution_count": null,
   "metadata": {},
   "outputs": [],
   "source": [
    "http://0.0.0.0:8888/?token=d4c9f2751d3a5b6013553dea8c57e188b306752d182fbd5c"
   ]
  },
  {
   "cell_type": "code",
   "execution_count": 51,
   "metadata": {},
   "outputs": [
    {
     "ename": "SyntaxError",
     "evalue": "invalid syntax (1198962508.py, line 1)",
     "output_type": "error",
     "traceback": [
      "\u001b[1;36m  Cell \u001b[1;32mIn[51], line 1\u001b[1;36m\u001b[0m\n\u001b[1;33m    jupyter notebook\u001b[0m\n\u001b[1;37m            ^\u001b[0m\n\u001b[1;31mSyntaxError\u001b[0m\u001b[1;31m:\u001b[0m invalid syntax\n"
     ]
    }
   ],
   "source": [
    "jupyter notebook\n"
   ]
  },
  {
   "cell_type": "code",
   "execution_count": 50,
   "metadata": {},
   "outputs": [
    {
     "name": "stdout",
     "output_type": "stream",
     "text": [
      "There are 6 patents being fed into BERT\n",
      "It took 1.92 seconds to get the embeddings of the input.\n",
      "There are 6 patents being fed into BERT\n",
      "It took 1.88 seconds to get the embeddings of the input.\n",
      "There are 6 patents being fed into BERT\n",
      "It took 2.02 seconds to get the embeddings of the input.\n",
      "There are 6 patents being fed into BERT\n",
      "It took 1.91 seconds to get the embeddings of the input.\n"
     ]
    },
    {
     "ename": "KeyboardInterrupt",
     "evalue": "",
     "output_type": "error",
     "traceback": [
      "\u001b[1;31m---------------------------------------------------------------------------\u001b[0m",
      "\u001b[1;31mTypeError\u001b[0m                                 Traceback (most recent call last)",
      "File \u001b[1;32mc:\\Users\\amusali\\Desktop\\uc3m PhD\\venv\\Lib\\site-packages\\tensorflow\\python\\eager\\polymorphic_function\\function_type_utils.py:442\u001b[0m, in \u001b[0;36mbind_function_inputs\u001b[1;34m(args, kwargs, function_type, default_values)\u001b[0m\n\u001b[0;32m    441\u001b[0m \u001b[38;5;28;01mtry\u001b[39;00m:\n\u001b[1;32m--> 442\u001b[0m   bound_arguments \u001b[38;5;241m=\u001b[39m \u001b[43mfunction_type\u001b[49m\u001b[38;5;241;43m.\u001b[39;49m\u001b[43mbind_with_defaults\u001b[49m\u001b[43m(\u001b[49m\n\u001b[0;32m    443\u001b[0m \u001b[43m      \u001b[49m\u001b[43margs\u001b[49m\u001b[43m,\u001b[49m\u001b[43m \u001b[49m\u001b[43msanitized_kwargs\u001b[49m\u001b[43m,\u001b[49m\u001b[43m \u001b[49m\u001b[43mdefault_values\u001b[49m\n\u001b[0;32m    444\u001b[0m \u001b[43m  \u001b[49m\u001b[43m)\u001b[49m\n\u001b[0;32m    445\u001b[0m \u001b[38;5;28;01mexcept\u001b[39;00m \u001b[38;5;167;01mException\u001b[39;00m \u001b[38;5;28;01mas\u001b[39;00m e:\n",
      "File \u001b[1;32mc:\\Users\\amusali\\Desktop\\uc3m PhD\\venv\\Lib\\site-packages\\tensorflow\\core\\function\\polymorphism\\function_type.py:264\u001b[0m, in \u001b[0;36mFunctionType.bind_with_defaults\u001b[1;34m(self, args, kwargs, default_values)\u001b[0m\n\u001b[0;32m    263\u001b[0m \u001b[38;5;250m\u001b[39m\u001b[38;5;124;03m\"\"\"Returns BoundArguments with default values filled in.\"\"\"\u001b[39;00m\n\u001b[1;32m--> 264\u001b[0m bound_arguments \u001b[38;5;241m=\u001b[39m \u001b[38;5;28;43mself\u001b[39;49m\u001b[38;5;241;43m.\u001b[39;49m\u001b[43mbind\u001b[49m\u001b[43m(\u001b[49m\u001b[38;5;241;43m*\u001b[39;49m\u001b[43margs\u001b[49m\u001b[43m,\u001b[49m\u001b[43m \u001b[49m\u001b[38;5;241;43m*\u001b[39;49m\u001b[38;5;241;43m*\u001b[39;49m\u001b[43mkwargs\u001b[49m\u001b[43m)\u001b[49m\n\u001b[0;32m    265\u001b[0m bound_arguments\u001b[38;5;241m.\u001b[39mapply_defaults()\n",
      "File \u001b[1;32m~\\AppData\\Local\\Programs\\Python\\Python312\\Lib\\inspect.py:3259\u001b[0m, in \u001b[0;36mSignature.bind\u001b[1;34m(self, *args, **kwargs)\u001b[0m\n\u001b[0;32m   3255\u001b[0m \u001b[38;5;250m\u001b[39m\u001b[38;5;124;03m\"\"\"Get a BoundArguments object, that maps the passed `args`\u001b[39;00m\n\u001b[0;32m   3256\u001b[0m \u001b[38;5;124;03mand `kwargs` to the function's signature.  Raises `TypeError`\u001b[39;00m\n\u001b[0;32m   3257\u001b[0m \u001b[38;5;124;03mif the passed arguments can not be bound.\u001b[39;00m\n\u001b[0;32m   3258\u001b[0m \u001b[38;5;124;03m\"\"\"\u001b[39;00m\n\u001b[1;32m-> 3259\u001b[0m \u001b[38;5;28;01mreturn\u001b[39;00m \u001b[38;5;28;43mself\u001b[39;49m\u001b[38;5;241;43m.\u001b[39;49m\u001b[43m_bind\u001b[49m\u001b[43m(\u001b[49m\u001b[43margs\u001b[49m\u001b[43m,\u001b[49m\u001b[43m \u001b[49m\u001b[43mkwargs\u001b[49m\u001b[43m)\u001b[49m\n",
      "File \u001b[1;32m~\\AppData\\Local\\Programs\\Python\\Python312\\Lib\\inspect.py:3248\u001b[0m, in \u001b[0;36mSignature._bind\u001b[1;34m(self, args, kwargs, partial)\u001b[0m\n\u001b[0;32m   3247\u001b[0m     \u001b[38;5;28;01melse\u001b[39;00m:\n\u001b[1;32m-> 3248\u001b[0m         \u001b[38;5;28;01mraise\u001b[39;00m \u001b[38;5;167;01mTypeError\u001b[39;00m(\n\u001b[0;32m   3249\u001b[0m             \u001b[38;5;124m'\u001b[39m\u001b[38;5;124mgot an unexpected keyword argument \u001b[39m\u001b[38;5;132;01m{arg!r}\u001b[39;00m\u001b[38;5;124m'\u001b[39m\u001b[38;5;241m.\u001b[39mformat(\n\u001b[0;32m   3250\u001b[0m                 arg\u001b[38;5;241m=\u001b[39m\u001b[38;5;28mnext\u001b[39m(\u001b[38;5;28miter\u001b[39m(kwargs))))\n\u001b[0;32m   3252\u001b[0m \u001b[38;5;28;01mreturn\u001b[39;00m \u001b[38;5;28mself\u001b[39m\u001b[38;5;241m.\u001b[39m_bound_arguments_cls(\u001b[38;5;28mself\u001b[39m, arguments)\n",
      "\u001b[1;31mTypeError\u001b[0m: got an unexpected keyword argument 'segment_ids'",
      "\nThe above exception was the direct cause of the following exception:\n",
      "\u001b[1;31mTypeError\u001b[0m                                 Traceback (most recent call last)",
      "File \u001b[1;32mc:\\Users\\amusali\\Desktop\\uc3m PhD\\venv\\Lib\\site-packages\\tensorflow\\python\\eager\\polymorphic_function\\concrete_function.py:1179\u001b[0m, in \u001b[0;36mConcreteFunction._call_impl\u001b[1;34m(self, args, kwargs)\u001b[0m\n\u001b[0;32m   1178\u001b[0m \u001b[38;5;28;01mtry\u001b[39;00m:\n\u001b[1;32m-> 1179\u001b[0m   \u001b[38;5;28;01mreturn\u001b[39;00m \u001b[38;5;28;43mself\u001b[39;49m\u001b[38;5;241;43m.\u001b[39;49m\u001b[43m_call_with_structured_signature\u001b[49m\u001b[43m(\u001b[49m\u001b[43margs\u001b[49m\u001b[43m,\u001b[49m\u001b[43m \u001b[49m\u001b[43mkwargs\u001b[49m\u001b[43m)\u001b[49m\n\u001b[0;32m   1180\u001b[0m \u001b[38;5;28;01mexcept\u001b[39;00m \u001b[38;5;167;01mTypeError\u001b[39;00m \u001b[38;5;28;01mas\u001b[39;00m structured_err:\n",
      "File \u001b[1;32mc:\\Users\\amusali\\Desktop\\uc3m PhD\\venv\\Lib\\site-packages\\tensorflow\\python\\eager\\polymorphic_function\\concrete_function.py:1259\u001b[0m, in \u001b[0;36mConcreteFunction._call_with_structured_signature\u001b[1;34m(self, args, kwargs)\u001b[0m\n\u001b[0;32m   1245\u001b[0m \u001b[38;5;250m\u001b[39m\u001b[38;5;124;03m\"\"\"Executes the wrapped function with the structured signature.\u001b[39;00m\n\u001b[0;32m   1246\u001b[0m \n\u001b[0;32m   1247\u001b[0m \u001b[38;5;124;03mArgs:\u001b[39;00m\n\u001b[1;32m   (...)\u001b[0m\n\u001b[0;32m   1256\u001b[0m \u001b[38;5;124;03m    of this `ConcreteFunction`.\u001b[39;00m\n\u001b[0;32m   1257\u001b[0m \u001b[38;5;124;03m\"\"\"\u001b[39;00m\n\u001b[0;32m   1258\u001b[0m bound_args \u001b[38;5;241m=\u001b[39m (\n\u001b[1;32m-> 1259\u001b[0m     \u001b[43mfunction_type_utils\u001b[49m\u001b[38;5;241;43m.\u001b[39;49m\u001b[43mcanonicalize_function_inputs\u001b[49m\u001b[43m(\u001b[49m\n\u001b[0;32m   1260\u001b[0m \u001b[43m        \u001b[49m\u001b[43margs\u001b[49m\u001b[43m,\u001b[49m\u001b[43m \u001b[49m\u001b[43mkwargs\u001b[49m\u001b[43m,\u001b[49m\u001b[43m \u001b[49m\u001b[38;5;28;43mself\u001b[39;49m\u001b[38;5;241;43m.\u001b[39;49m\u001b[43mfunction_type\u001b[49m\u001b[43m)\u001b[49m\n\u001b[0;32m   1261\u001b[0m )\n\u001b[0;32m   1262\u001b[0m filtered_flat_args \u001b[38;5;241m=\u001b[39m \u001b[38;5;28mself\u001b[39m\u001b[38;5;241m.\u001b[39mfunction_type\u001b[38;5;241m.\u001b[39munpack_inputs(bound_args)\n",
      "File \u001b[1;32mc:\\Users\\amusali\\Desktop\\uc3m PhD\\venv\\Lib\\site-packages\\tensorflow\\python\\eager\\polymorphic_function\\function_type_utils.py:422\u001b[0m, in \u001b[0;36mcanonicalize_function_inputs\u001b[1;34m(args, kwargs, function_type, default_values, is_pure)\u001b[0m\n\u001b[0;32m    421\u001b[0m   args, kwargs \u001b[38;5;241m=\u001b[39m _convert_variables_to_tensors(args, kwargs)\n\u001b[1;32m--> 422\u001b[0m bound_arguments \u001b[38;5;241m=\u001b[39m \u001b[43mbind_function_inputs\u001b[49m\u001b[43m(\u001b[49m\n\u001b[0;32m    423\u001b[0m \u001b[43m    \u001b[49m\u001b[43margs\u001b[49m\u001b[43m,\u001b[49m\u001b[43m \u001b[49m\u001b[43mkwargs\u001b[49m\u001b[43m,\u001b[49m\u001b[43m \u001b[49m\u001b[43mfunction_type\u001b[49m\u001b[43m,\u001b[49m\u001b[43m \u001b[49m\u001b[43mdefault_values\u001b[49m\n\u001b[0;32m    424\u001b[0m \u001b[43m\u001b[49m\u001b[43m)\u001b[49m\n\u001b[0;32m    425\u001b[0m \u001b[38;5;28;01mreturn\u001b[39;00m bound_arguments\n",
      "File \u001b[1;32mc:\\Users\\amusali\\Desktop\\uc3m PhD\\venv\\Lib\\site-packages\\tensorflow\\python\\eager\\polymorphic_function\\function_type_utils.py:446\u001b[0m, in \u001b[0;36mbind_function_inputs\u001b[1;34m(args, kwargs, function_type, default_values)\u001b[0m\n\u001b[0;32m    445\u001b[0m \u001b[38;5;28;01mexcept\u001b[39;00m \u001b[38;5;167;01mException\u001b[39;00m \u001b[38;5;28;01mas\u001b[39;00m e:\n\u001b[1;32m--> 446\u001b[0m   \u001b[38;5;28;01mraise\u001b[39;00m \u001b[38;5;167;01mTypeError\u001b[39;00m(\n\u001b[0;32m    447\u001b[0m       \u001b[38;5;124mf\u001b[39m\u001b[38;5;124m\"\u001b[39m\u001b[38;5;124mBinding inputs to tf.function failed due to `\u001b[39m\u001b[38;5;132;01m{\u001b[39;00me\u001b[38;5;132;01m}\u001b[39;00m\u001b[38;5;124m`. \u001b[39m\u001b[38;5;124m\"\u001b[39m\n\u001b[0;32m    448\u001b[0m       \u001b[38;5;124mf\u001b[39m\u001b[38;5;124m\"\u001b[39m\u001b[38;5;124mReceived args: \u001b[39m\u001b[38;5;132;01m{\u001b[39;00margs\u001b[38;5;132;01m}\u001b[39;00m\u001b[38;5;124m and kwargs: \u001b[39m\u001b[38;5;132;01m{\u001b[39;00msanitized_kwargs\u001b[38;5;132;01m}\u001b[39;00m\u001b[38;5;124m for signature:\u001b[39m\u001b[38;5;124m\"\u001b[39m\n\u001b[0;32m    449\u001b[0m       \u001b[38;5;124mf\u001b[39m\u001b[38;5;124m\"\u001b[39m\u001b[38;5;124m \u001b[39m\u001b[38;5;132;01m{\u001b[39;00mfunction_type\u001b[38;5;132;01m}\u001b[39;00m\u001b[38;5;124m.\u001b[39m\u001b[38;5;124m\"\u001b[39m\n\u001b[0;32m    450\u001b[0m   ) \u001b[38;5;28;01mfrom\u001b[39;00m \u001b[38;5;21;01me\u001b[39;00m\n\u001b[0;32m    451\u001b[0m \u001b[38;5;28;01mreturn\u001b[39;00m bound_arguments\n",
      "\u001b[1;31mTypeError\u001b[0m: Binding inputs to tf.function failed due to `got an unexpected keyword argument 'segment_ids'`. Received args: () and kwargs: {'segment_ids': <tf.Tensor: shape=(6, 512), dtype=int64, numpy=\narray([[0, 0, 0, ..., 0, 0, 0],\n       [0, 0, 0, ..., 0, 0, 0],\n       [0, 0, 0, ..., 0, 0, 0],\n       [0, 0, 0, ..., 0, 0, 0],\n       [0, 0, 0, ..., 0, 0, 0],\n       [0, 0, 0, ..., 0, 0, 0]], dtype=int64)>, 'input_mask': <tf.Tensor: shape=(6, 512), dtype=int64, numpy=\narray([[1, 1, 1, ..., 0, 0, 0],\n       [1, 1, 1, ..., 0, 0, 0],\n       [1, 1, 1, ..., 0, 0, 0],\n       [1, 1, 1, ..., 0, 0, 0],\n       [1, 1, 1, ..., 0, 0, 0],\n       [1, 1, 1, ..., 0, 0, 0]], dtype=int64)>, 'input_ids': <tf.Tensor: shape=(6, 512), dtype=int64, numpy=\narray([[   2,    1, 1661, ...,    0,    0,    0],\n       [   2,    1, 3783, ...,    0,    0,    0],\n       [   2,    1, 1042, ...,    0,    0,    0],\n       [   2,    1, 1042, ...,    0,    0,    0],\n       [   2,    1, 1042, ...,    0,    0,    0],\n       [   2,    1, 1042, ...,    0,    0,    0]], dtype=int64)>, 'mlm_positions': <tf.Tensor: shape=(0,), dtype=int64, numpy=array([], dtype=int64)>} for signature: () -> Dict[['mlm_logits', TensorSpec(shape=(None, 39859), dtype=tf.float32, name=None)], ['cls_token', TensorSpec(shape=(None, 1024), dtype=tf.float32, name=None)], ['encoder_layer', TensorSpec(shape=(None, 512, 1024), dtype=tf.float32, name=None)], ['next_sentence_logits', TensorSpec(shape=(None, 2), dtype=tf.float32, name=None)]].",
      "\nDuring handling of the above exception, another exception occurred:\n",
      "\u001b[1;31mKeyboardInterrupt\u001b[0m                         Traceback (most recent call last)",
      "Cell \u001b[1;32mIn[50], line 8\u001b[0m\n\u001b[0;32m      6\u001b[0m embeddings \u001b[38;5;241m=\u001b[39m []\n\u001b[0;32m      7\u001b[0m \u001b[38;5;28;01mfor\u001b[39;00m batch \u001b[38;5;129;01min\u001b[39;00m batched_abstracts:\n\u001b[1;32m----> 8\u001b[0m     embeddings\u001b[38;5;241m.\u001b[39mappend(\u001b[43mbe\u001b[49m\u001b[38;5;241;43m.\u001b[39;49m\u001b[43mget_embd_of_whole_abstract\u001b[49m\u001b[43m(\u001b[49m\u001b[43mbatch\u001b[49m\u001b[43m)\u001b[49m)\n",
      "File \u001b[1;32m~\\Desktop\\uc3m PhD\\05 Analysis\\01 Main\\api\\bertembeddings.py:87\u001b[0m, in \u001b[0;36mget_embd_of_whole_abstract\u001b[1;34m(abstracts, return_cls_embedding, has_context_token)\u001b[0m\n\u001b[0;32m     84\u001b[0m     context_tokens \u001b[38;5;241m=\u001b[39m []\n\u001b[0;32m     86\u001b[0m \u001b[38;5;66;03m## Predict -- get embeddings for the batch of abstracts\u001b[39;00m\n\u001b[1;32m---> 87\u001b[0m response \u001b[38;5;241m=\u001b[39m \u001b[43mbert_predictor\u001b[49m\u001b[38;5;241;43m.\u001b[39;49m\u001b[43mpredict\u001b[49m\u001b[43m(\u001b[49m\n\u001b[0;32m     88\u001b[0m \u001b[43m    \u001b[49m\u001b[43mabstracts\u001b[49m\u001b[43m,\u001b[49m\u001b[43m \u001b[49m\u001b[43mcontext_tokens\u001b[49m\u001b[38;5;241;43m=\u001b[39;49m\u001b[43mcontext_tokens\u001b[49m\u001b[43m \u001b[49m\u001b[38;5;241;43m*\u001b[39;49m\u001b[43m \u001b[49m\u001b[38;5;28;43mlen\u001b[39;49m\u001b[43m(\u001b[49m\u001b[43mabstracts\u001b[49m\u001b[43m)\u001b[49m\u001b[43m)\u001b[49m\n\u001b[0;32m     90\u001b[0m \u001b[38;5;66;03m# Collect the CLS embeddings for each abstract in the batch\u001b[39;00m\n\u001b[0;32m     91\u001b[0m cls_token_embeddings \u001b[38;5;241m=\u001b[39m response[\u001b[38;5;241m0\u001b[39m][\u001b[38;5;124m'\u001b[39m\u001b[38;5;124mcls_token\u001b[39m\u001b[38;5;124m'\u001b[39m]\u001b[38;5;241m.\u001b[39mnumpy()  \u001b[38;5;66;03m# Shape will be (batch_size, 1024)\u001b[39;00m\n",
      "File \u001b[1;32m~\\Desktop\\uc3m PhD\\05 Analysis\\01 Main\\api\\bertfns.py:269\u001b[0m, in \u001b[0;36mBertPredictor.predict\u001b[1;34m(self, texts, mlm_ids, context_tokens)\u001b[0m\n\u001b[0;32m    265\u001b[0m   inputs \u001b[38;5;241m=\u001b[39m \u001b[38;5;28mself\u001b[39m\u001b[38;5;241m.\u001b[39madd_input_context(inputs, context_tokens)\n\u001b[0;32m    267\u001b[0m inputs, masked_text \u001b[38;5;241m=\u001b[39m \u001b[38;5;28mself\u001b[39m\u001b[38;5;241m.\u001b[39mcreate_mlm_mask(inputs, mlm_ids)\n\u001b[1;32m--> 269\u001b[0m response \u001b[38;5;241m=\u001b[39m \u001b[38;5;28;43mself\u001b[39;49m\u001b[38;5;241;43m.\u001b[39;49m\u001b[43mmodel\u001b[49m\u001b[43m(\u001b[49m\n\u001b[0;32m    270\u001b[0m \u001b[43m  \u001b[49m\u001b[43msegment_ids\u001b[49m\u001b[38;5;241;43m=\u001b[39;49m\u001b[43mtf\u001b[49m\u001b[38;5;241;43m.\u001b[39;49m\u001b[43mconvert_to_tensor\u001b[49m\u001b[43m(\u001b[49m\u001b[43minputs\u001b[49m\u001b[43m[\u001b[49m\u001b[38;5;124;43m'\u001b[39;49m\u001b[38;5;124;43msegment_ids\u001b[39;49m\u001b[38;5;124;43m'\u001b[39;49m\u001b[43m]\u001b[49m\u001b[43m,\u001b[49m\u001b[43m \u001b[49m\u001b[43mdtype\u001b[49m\u001b[38;5;241;43m=\u001b[39;49m\u001b[43mtf\u001b[49m\u001b[38;5;241;43m.\u001b[39;49m\u001b[43mint64\u001b[49m\u001b[43m)\u001b[49m\u001b[43m,\u001b[49m\n\u001b[0;32m    271\u001b[0m \u001b[43m  \u001b[49m\u001b[43minput_mask\u001b[49m\u001b[38;5;241;43m=\u001b[39;49m\u001b[43mtf\u001b[49m\u001b[38;5;241;43m.\u001b[39;49m\u001b[43mconvert_to_tensor\u001b[49m\u001b[43m(\u001b[49m\u001b[43minputs\u001b[49m\u001b[43m[\u001b[49m\u001b[38;5;124;43m'\u001b[39;49m\u001b[38;5;124;43minput_mask\u001b[39;49m\u001b[38;5;124;43m'\u001b[39;49m\u001b[43m]\u001b[49m\u001b[43m,\u001b[49m\u001b[43m \u001b[49m\u001b[43mdtype\u001b[49m\u001b[38;5;241;43m=\u001b[39;49m\u001b[43mtf\u001b[49m\u001b[38;5;241;43m.\u001b[39;49m\u001b[43mint64\u001b[49m\u001b[43m)\u001b[49m\u001b[43m,\u001b[49m\n\u001b[0;32m    272\u001b[0m \u001b[43m  \u001b[49m\u001b[43minput_ids\u001b[49m\u001b[38;5;241;43m=\u001b[39;49m\u001b[43mtf\u001b[49m\u001b[38;5;241;43m.\u001b[39;49m\u001b[43mconvert_to_tensor\u001b[49m\u001b[43m(\u001b[49m\u001b[43minputs\u001b[49m\u001b[43m[\u001b[49m\u001b[38;5;124;43m'\u001b[39;49m\u001b[38;5;124;43minput_ids\u001b[39;49m\u001b[38;5;124;43m'\u001b[39;49m\u001b[43m]\u001b[49m\u001b[43m,\u001b[49m\u001b[43m \u001b[49m\u001b[43mdtype\u001b[49m\u001b[38;5;241;43m=\u001b[39;49m\u001b[43mtf\u001b[49m\u001b[38;5;241;43m.\u001b[39;49m\u001b[43mint64\u001b[49m\u001b[43m)\u001b[49m\u001b[43m,\u001b[49m\n\u001b[0;32m    273\u001b[0m \u001b[43m  \u001b[49m\u001b[43mmlm_positions\u001b[49m\u001b[38;5;241;43m=\u001b[39;49m\u001b[43mtf\u001b[49m\u001b[38;5;241;43m.\u001b[39;49m\u001b[43mconvert_to_tensor\u001b[49m\u001b[43m(\u001b[49m\u001b[43minputs\u001b[49m\u001b[43m[\u001b[49m\u001b[38;5;124;43m'\u001b[39;49m\u001b[38;5;124;43mmlm_ids\u001b[39;49m\u001b[38;5;124;43m'\u001b[39;49m\u001b[43m]\u001b[49m\u001b[43m,\u001b[49m\u001b[43m \u001b[49m\u001b[43mdtype\u001b[49m\u001b[38;5;241;43m=\u001b[39;49m\u001b[43mtf\u001b[49m\u001b[38;5;241;43m.\u001b[39;49m\u001b[43mint64\u001b[49m\u001b[43m)\u001b[49m\u001b[43m,\u001b[49m\n\u001b[0;32m    274\u001b[0m \u001b[43m  \u001b[49m\u001b[43m)\u001b[49m\n\u001b[0;32m    276\u001b[0m \u001b[38;5;28;01mif\u001b[39;00m mlm_ids:\n\u001b[0;32m    277\u001b[0m   \u001b[38;5;66;03m# Do a reshape of the mlm logits (batch size, num predictions, vocab).\u001b[39;00m\n\u001b[0;32m    278\u001b[0m   new_shape \u001b[38;5;241m=\u001b[39m (\u001b[38;5;28mlen\u001b[39m(texts), \u001b[38;5;28mself\u001b[39m\u001b[38;5;241m.\u001b[39mmax_preds_per_seq, \u001b[38;5;241m-\u001b[39m\u001b[38;5;241m1\u001b[39m)\n",
      "File \u001b[1;32mc:\\Users\\amusali\\Desktop\\uc3m PhD\\venv\\Lib\\site-packages\\tensorflow\\python\\eager\\polymorphic_function\\concrete_function.py:1170\u001b[0m, in \u001b[0;36mConcreteFunction.__call__\u001b[1;34m(self, *args, **kwargs)\u001b[0m\n\u001b[0;32m   1120\u001b[0m \u001b[38;5;28;01mdef\u001b[39;00m \u001b[38;5;21m__call__\u001b[39m(\u001b[38;5;28mself\u001b[39m, \u001b[38;5;241m*\u001b[39margs, \u001b[38;5;241m*\u001b[39m\u001b[38;5;241m*\u001b[39mkwargs):\n\u001b[0;32m   1121\u001b[0m \u001b[38;5;250m  \u001b[39m\u001b[38;5;124;03m\"\"\"Executes the wrapped function.\u001b[39;00m\n\u001b[0;32m   1122\u001b[0m \n\u001b[0;32m   1123\u001b[0m \u001b[38;5;124;03m  ConcreteFunctions have two signatures:\u001b[39;00m\n\u001b[1;32m   (...)\u001b[0m\n\u001b[0;32m   1168\u001b[0m \u001b[38;5;124;03m    TypeError: If the arguments do not match the function's signature.\u001b[39;00m\n\u001b[0;32m   1169\u001b[0m \u001b[38;5;124;03m  \"\"\"\u001b[39;00m\n\u001b[1;32m-> 1170\u001b[0m   \u001b[38;5;28;01mreturn\u001b[39;00m \u001b[38;5;28;43mself\u001b[39;49m\u001b[38;5;241;43m.\u001b[39;49m\u001b[43m_call_impl\u001b[49m\u001b[43m(\u001b[49m\u001b[43margs\u001b[49m\u001b[43m,\u001b[49m\u001b[43m \u001b[49m\u001b[43mkwargs\u001b[49m\u001b[43m)\u001b[49m\n",
      "File \u001b[1;32mc:\\Users\\amusali\\Desktop\\uc3m PhD\\venv\\Lib\\site-packages\\tensorflow\\python\\eager\\wrap_function.py:253\u001b[0m, in \u001b[0;36mWrappedFunction._call_impl\u001b[1;34m(self, args, kwargs)\u001b[0m\n\u001b[0;32m    251\u001b[0m   \u001b[38;5;28;01mreturn\u001b[39;00m \u001b[38;5;28mself\u001b[39m\u001b[38;5;241m.\u001b[39m_call_flat(args, \u001b[38;5;28mself\u001b[39m\u001b[38;5;241m.\u001b[39mcaptured_inputs)\n\u001b[0;32m    252\u001b[0m \u001b[38;5;28;01melse\u001b[39;00m:\n\u001b[1;32m--> 253\u001b[0m   \u001b[38;5;28;01mreturn\u001b[39;00m \u001b[38;5;28;43msuper\u001b[39;49m\u001b[43m(\u001b[49m\u001b[43m)\u001b[49m\u001b[38;5;241;43m.\u001b[39;49m\u001b[43m_call_impl\u001b[49m\u001b[43m(\u001b[49m\u001b[43margs\u001b[49m\u001b[43m,\u001b[49m\u001b[43m \u001b[49m\u001b[43mkwargs\u001b[49m\u001b[43m)\u001b[49m\n",
      "File \u001b[1;32mc:\\Users\\amusali\\Desktop\\uc3m PhD\\venv\\Lib\\site-packages\\tensorflow\\python\\eager\\polymorphic_function\\concrete_function.py:1182\u001b[0m, in \u001b[0;36mConcreteFunction._call_impl\u001b[1;34m(self, args, kwargs)\u001b[0m\n\u001b[0;32m   1180\u001b[0m \u001b[38;5;28;01mexcept\u001b[39;00m \u001b[38;5;167;01mTypeError\u001b[39;00m \u001b[38;5;28;01mas\u001b[39;00m structured_err:\n\u001b[0;32m   1181\u001b[0m   \u001b[38;5;28;01mtry\u001b[39;00m:\n\u001b[1;32m-> 1182\u001b[0m     \u001b[38;5;28;01mreturn\u001b[39;00m \u001b[38;5;28;43mself\u001b[39;49m\u001b[38;5;241;43m.\u001b[39;49m\u001b[43m_call_with_flat_signature\u001b[49m\u001b[43m(\u001b[49m\u001b[43margs\u001b[49m\u001b[43m,\u001b[49m\u001b[43m \u001b[49m\u001b[43mkwargs\u001b[49m\u001b[43m)\u001b[49m\n\u001b[0;32m   1183\u001b[0m   \u001b[38;5;28;01mexcept\u001b[39;00m (\u001b[38;5;167;01mTypeError\u001b[39;00m, \u001b[38;5;167;01mValueError\u001b[39;00m) \u001b[38;5;28;01mas\u001b[39;00m flat_err:\n\u001b[0;32m   1184\u001b[0m     \u001b[38;5;28;01mraise\u001b[39;00m \u001b[38;5;167;01mTypeError\u001b[39;00m(  \u001b[38;5;66;03m# pylint: disable=raise-missing-from\u001b[39;00m\n\u001b[0;32m   1185\u001b[0m         \u001b[38;5;28mstr\u001b[39m(structured_err)\n\u001b[0;32m   1186\u001b[0m         \u001b[38;5;241m+\u001b[39m \u001b[38;5;124m\"\u001b[39m\u001b[38;5;130;01m\\n\u001b[39;00m\u001b[38;5;124mFallback to flat signature also failed due to: \u001b[39m\u001b[38;5;124m\"\u001b[39m\n\u001b[0;32m   1187\u001b[0m         \u001b[38;5;241m+\u001b[39m \u001b[38;5;28mstr\u001b[39m(flat_err)\n\u001b[0;32m   1188\u001b[0m     )\n",
      "File \u001b[1;32mc:\\Users\\amusali\\Desktop\\uc3m PhD\\venv\\Lib\\site-packages\\tensorflow\\python\\eager\\polymorphic_function\\concrete_function.py:1242\u001b[0m, in \u001b[0;36mConcreteFunction._call_with_flat_signature\u001b[1;34m(self, args, kwargs)\u001b[0m\n\u001b[0;32m   1237\u001b[0m   \u001b[38;5;28;01mif\u001b[39;00m \u001b[38;5;129;01mnot\u001b[39;00m \u001b[38;5;28misinstance\u001b[39m(\n\u001b[0;32m   1238\u001b[0m       arg, (tensor_lib\u001b[38;5;241m.\u001b[39mTensor, resource_variable_ops\u001b[38;5;241m.\u001b[39mBaseResourceVariable)):\n\u001b[0;32m   1239\u001b[0m     \u001b[38;5;28;01mraise\u001b[39;00m \u001b[38;5;167;01mTypeError\u001b[39;00m(\u001b[38;5;124mf\u001b[39m\u001b[38;5;124m\"\u001b[39m\u001b[38;5;132;01m{\u001b[39;00m\u001b[38;5;28mself\u001b[39m\u001b[38;5;241m.\u001b[39m_flat_signature_summary()\u001b[38;5;132;01m}\u001b[39;00m\u001b[38;5;124m: expected argument \u001b[39m\u001b[38;5;124m\"\u001b[39m\n\u001b[0;32m   1240\u001b[0m                     \u001b[38;5;124mf\u001b[39m\u001b[38;5;124m\"\u001b[39m\u001b[38;5;124m#\u001b[39m\u001b[38;5;132;01m{\u001b[39;00mi\u001b[38;5;132;01m}\u001b[39;00m\u001b[38;5;124m(zero-based) to be a Tensor; \u001b[39m\u001b[38;5;124m\"\u001b[39m\n\u001b[0;32m   1241\u001b[0m                     \u001b[38;5;124mf\u001b[39m\u001b[38;5;124m\"\u001b[39m\u001b[38;5;124mgot \u001b[39m\u001b[38;5;132;01m{\u001b[39;00m\u001b[38;5;28mtype\u001b[39m(arg)\u001b[38;5;241m.\u001b[39m\u001b[38;5;18m__name__\u001b[39m\u001b[38;5;132;01m}\u001b[39;00m\u001b[38;5;124m (\u001b[39m\u001b[38;5;132;01m{\u001b[39;00marg\u001b[38;5;132;01m}\u001b[39;00m\u001b[38;5;124m).\u001b[39m\u001b[38;5;124m\"\u001b[39m)\n\u001b[1;32m-> 1242\u001b[0m \u001b[38;5;28;01mreturn\u001b[39;00m \u001b[38;5;28;43mself\u001b[39;49m\u001b[38;5;241;43m.\u001b[39;49m\u001b[43m_call_flat\u001b[49m\u001b[43m(\u001b[49m\u001b[43margs\u001b[49m\u001b[43m,\u001b[49m\u001b[43m \u001b[49m\u001b[38;5;28;43mself\u001b[39;49m\u001b[38;5;241;43m.\u001b[39;49m\u001b[43mcaptured_inputs\u001b[49m\u001b[43m)\u001b[49m\n",
      "File \u001b[1;32mc:\\Users\\amusali\\Desktop\\uc3m PhD\\venv\\Lib\\site-packages\\tensorflow\\python\\eager\\polymorphic_function\\concrete_function.py:1322\u001b[0m, in \u001b[0;36mConcreteFunction._call_flat\u001b[1;34m(self, tensor_inputs, captured_inputs)\u001b[0m\n\u001b[0;32m   1318\u001b[0m possible_gradient_type \u001b[38;5;241m=\u001b[39m gradients_util\u001b[38;5;241m.\u001b[39mPossibleTapeGradientTypes(args)\n\u001b[0;32m   1319\u001b[0m \u001b[38;5;28;01mif\u001b[39;00m (possible_gradient_type \u001b[38;5;241m==\u001b[39m gradients_util\u001b[38;5;241m.\u001b[39mPOSSIBLE_GRADIENT_TYPES_NONE\n\u001b[0;32m   1320\u001b[0m     \u001b[38;5;129;01mand\u001b[39;00m executing_eagerly):\n\u001b[0;32m   1321\u001b[0m   \u001b[38;5;66;03m# No tape is watching; skip to running the function.\u001b[39;00m\n\u001b[1;32m-> 1322\u001b[0m   \u001b[38;5;28;01mreturn\u001b[39;00m \u001b[38;5;28;43mself\u001b[39;49m\u001b[38;5;241;43m.\u001b[39;49m\u001b[43m_inference_function\u001b[49m\u001b[38;5;241;43m.\u001b[39;49m\u001b[43mcall_preflattened\u001b[49m\u001b[43m(\u001b[49m\u001b[43margs\u001b[49m\u001b[43m)\u001b[49m\n\u001b[0;32m   1323\u001b[0m forward_backward \u001b[38;5;241m=\u001b[39m \u001b[38;5;28mself\u001b[39m\u001b[38;5;241m.\u001b[39m_select_forward_and_backward_functions(\n\u001b[0;32m   1324\u001b[0m     args,\n\u001b[0;32m   1325\u001b[0m     possible_gradient_type,\n\u001b[0;32m   1326\u001b[0m     executing_eagerly)\n\u001b[0;32m   1327\u001b[0m forward_function, args_with_tangents \u001b[38;5;241m=\u001b[39m forward_backward\u001b[38;5;241m.\u001b[39mforward()\n",
      "File \u001b[1;32mc:\\Users\\amusali\\Desktop\\uc3m PhD\\venv\\Lib\\site-packages\\tensorflow\\python\\eager\\polymorphic_function\\atomic_function.py:216\u001b[0m, in \u001b[0;36mAtomicFunction.call_preflattened\u001b[1;34m(self, args)\u001b[0m\n\u001b[0;32m    214\u001b[0m \u001b[38;5;28;01mdef\u001b[39;00m \u001b[38;5;21mcall_preflattened\u001b[39m(\u001b[38;5;28mself\u001b[39m, args: Sequence[core\u001b[38;5;241m.\u001b[39mTensor]) \u001b[38;5;241m-\u001b[39m\u001b[38;5;241m>\u001b[39m Any:\n\u001b[0;32m    215\u001b[0m \u001b[38;5;250m  \u001b[39m\u001b[38;5;124;03m\"\"\"Calls with flattened tensor inputs and returns the structured output.\"\"\"\u001b[39;00m\n\u001b[1;32m--> 216\u001b[0m   flat_outputs \u001b[38;5;241m=\u001b[39m \u001b[38;5;28;43mself\u001b[39;49m\u001b[38;5;241;43m.\u001b[39;49m\u001b[43mcall_flat\u001b[49m\u001b[43m(\u001b[49m\u001b[38;5;241;43m*\u001b[39;49m\u001b[43margs\u001b[49m\u001b[43m)\u001b[49m\n\u001b[0;32m    217\u001b[0m   \u001b[38;5;28;01mreturn\u001b[39;00m \u001b[38;5;28mself\u001b[39m\u001b[38;5;241m.\u001b[39mfunction_type\u001b[38;5;241m.\u001b[39mpack_output(flat_outputs)\n",
      "File \u001b[1;32mc:\\Users\\amusali\\Desktop\\uc3m PhD\\venv\\Lib\\site-packages\\tensorflow\\python\\eager\\polymorphic_function\\atomic_function.py:251\u001b[0m, in \u001b[0;36mAtomicFunction.call_flat\u001b[1;34m(self, *args)\u001b[0m\n\u001b[0;32m    249\u001b[0m \u001b[38;5;28;01mwith\u001b[39;00m record\u001b[38;5;241m.\u001b[39mstop_recording():\n\u001b[0;32m    250\u001b[0m   \u001b[38;5;28;01mif\u001b[39;00m \u001b[38;5;28mself\u001b[39m\u001b[38;5;241m.\u001b[39m_bound_context\u001b[38;5;241m.\u001b[39mexecuting_eagerly():\n\u001b[1;32m--> 251\u001b[0m     outputs \u001b[38;5;241m=\u001b[39m \u001b[38;5;28;43mself\u001b[39;49m\u001b[38;5;241;43m.\u001b[39;49m\u001b[43m_bound_context\u001b[49m\u001b[38;5;241;43m.\u001b[39;49m\u001b[43mcall_function\u001b[49m\u001b[43m(\u001b[49m\n\u001b[0;32m    252\u001b[0m \u001b[43m        \u001b[49m\u001b[38;5;28;43mself\u001b[39;49m\u001b[38;5;241;43m.\u001b[39;49m\u001b[43mname\u001b[49m\u001b[43m,\u001b[49m\n\u001b[0;32m    253\u001b[0m \u001b[43m        \u001b[49m\u001b[38;5;28;43mlist\u001b[39;49m\u001b[43m(\u001b[49m\u001b[43margs\u001b[49m\u001b[43m)\u001b[49m\u001b[43m,\u001b[49m\n\u001b[0;32m    254\u001b[0m \u001b[43m        \u001b[49m\u001b[38;5;28;43mlen\u001b[39;49m\u001b[43m(\u001b[49m\u001b[38;5;28;43mself\u001b[39;49m\u001b[38;5;241;43m.\u001b[39;49m\u001b[43mfunction_type\u001b[49m\u001b[38;5;241;43m.\u001b[39;49m\u001b[43mflat_outputs\u001b[49m\u001b[43m)\u001b[49m\u001b[43m,\u001b[49m\n\u001b[0;32m    255\u001b[0m \u001b[43m    \u001b[49m\u001b[43m)\u001b[49m\n\u001b[0;32m    256\u001b[0m   \u001b[38;5;28;01melse\u001b[39;00m:\n\u001b[0;32m    257\u001b[0m     outputs \u001b[38;5;241m=\u001b[39m make_call_op_in_graph(\n\u001b[0;32m    258\u001b[0m         \u001b[38;5;28mself\u001b[39m,\n\u001b[0;32m    259\u001b[0m         \u001b[38;5;28mlist\u001b[39m(args),\n\u001b[0;32m    260\u001b[0m         \u001b[38;5;28mself\u001b[39m\u001b[38;5;241m.\u001b[39m_bound_context\u001b[38;5;241m.\u001b[39mfunction_call_options\u001b[38;5;241m.\u001b[39mas_attrs(),\n\u001b[0;32m    261\u001b[0m     )\n",
      "File \u001b[1;32mc:\\Users\\amusali\\Desktop\\uc3m PhD\\venv\\Lib\\site-packages\\tensorflow\\python\\eager\\context.py:1552\u001b[0m, in \u001b[0;36mContext.call_function\u001b[1;34m(self, name, tensor_inputs, num_outputs)\u001b[0m\n\u001b[0;32m   1550\u001b[0m cancellation_context \u001b[38;5;241m=\u001b[39m cancellation\u001b[38;5;241m.\u001b[39mcontext()\n\u001b[0;32m   1551\u001b[0m \u001b[38;5;28;01mif\u001b[39;00m cancellation_context \u001b[38;5;129;01mis\u001b[39;00m \u001b[38;5;28;01mNone\u001b[39;00m:\n\u001b[1;32m-> 1552\u001b[0m   outputs \u001b[38;5;241m=\u001b[39m \u001b[43mexecute\u001b[49m\u001b[38;5;241;43m.\u001b[39;49m\u001b[43mexecute\u001b[49m\u001b[43m(\u001b[49m\n\u001b[0;32m   1553\u001b[0m \u001b[43m      \u001b[49m\u001b[43mname\u001b[49m\u001b[38;5;241;43m.\u001b[39;49m\u001b[43mdecode\u001b[49m\u001b[43m(\u001b[49m\u001b[38;5;124;43m\"\u001b[39;49m\u001b[38;5;124;43mutf-8\u001b[39;49m\u001b[38;5;124;43m\"\u001b[39;49m\u001b[43m)\u001b[49m\u001b[43m,\u001b[49m\n\u001b[0;32m   1554\u001b[0m \u001b[43m      \u001b[49m\u001b[43mnum_outputs\u001b[49m\u001b[38;5;241;43m=\u001b[39;49m\u001b[43mnum_outputs\u001b[49m\u001b[43m,\u001b[49m\n\u001b[0;32m   1555\u001b[0m \u001b[43m      \u001b[49m\u001b[43minputs\u001b[49m\u001b[38;5;241;43m=\u001b[39;49m\u001b[43mtensor_inputs\u001b[49m\u001b[43m,\u001b[49m\n\u001b[0;32m   1556\u001b[0m \u001b[43m      \u001b[49m\u001b[43mattrs\u001b[49m\u001b[38;5;241;43m=\u001b[39;49m\u001b[43mattrs\u001b[49m\u001b[43m,\u001b[49m\n\u001b[0;32m   1557\u001b[0m \u001b[43m      \u001b[49m\u001b[43mctx\u001b[49m\u001b[38;5;241;43m=\u001b[39;49m\u001b[38;5;28;43mself\u001b[39;49m\u001b[43m,\u001b[49m\n\u001b[0;32m   1558\u001b[0m \u001b[43m  \u001b[49m\u001b[43m)\u001b[49m\n\u001b[0;32m   1559\u001b[0m \u001b[38;5;28;01melse\u001b[39;00m:\n\u001b[0;32m   1560\u001b[0m   outputs \u001b[38;5;241m=\u001b[39m execute\u001b[38;5;241m.\u001b[39mexecute_with_cancellation(\n\u001b[0;32m   1561\u001b[0m       name\u001b[38;5;241m.\u001b[39mdecode(\u001b[38;5;124m\"\u001b[39m\u001b[38;5;124mutf-8\u001b[39m\u001b[38;5;124m\"\u001b[39m),\n\u001b[0;32m   1562\u001b[0m       num_outputs\u001b[38;5;241m=\u001b[39mnum_outputs,\n\u001b[1;32m   (...)\u001b[0m\n\u001b[0;32m   1566\u001b[0m       cancellation_manager\u001b[38;5;241m=\u001b[39mcancellation_context,\n\u001b[0;32m   1567\u001b[0m   )\n",
      "File \u001b[1;32mc:\\Users\\amusali\\Desktop\\uc3m PhD\\venv\\Lib\\site-packages\\tensorflow\\python\\eager\\execute.py:53\u001b[0m, in \u001b[0;36mquick_execute\u001b[1;34m(op_name, num_outputs, inputs, attrs, ctx, name)\u001b[0m\n\u001b[0;32m     51\u001b[0m \u001b[38;5;28;01mtry\u001b[39;00m:\n\u001b[0;32m     52\u001b[0m   ctx\u001b[38;5;241m.\u001b[39mensure_initialized()\n\u001b[1;32m---> 53\u001b[0m   tensors \u001b[38;5;241m=\u001b[39m \u001b[43mpywrap_tfe\u001b[49m\u001b[38;5;241;43m.\u001b[39;49m\u001b[43mTFE_Py_Execute\u001b[49m\u001b[43m(\u001b[49m\u001b[43mctx\u001b[49m\u001b[38;5;241;43m.\u001b[39;49m\u001b[43m_handle\u001b[49m\u001b[43m,\u001b[49m\u001b[43m \u001b[49m\u001b[43mdevice_name\u001b[49m\u001b[43m,\u001b[49m\u001b[43m \u001b[49m\u001b[43mop_name\u001b[49m\u001b[43m,\u001b[49m\n\u001b[0;32m     54\u001b[0m \u001b[43m                                      \u001b[49m\u001b[43minputs\u001b[49m\u001b[43m,\u001b[49m\u001b[43m \u001b[49m\u001b[43mattrs\u001b[49m\u001b[43m,\u001b[49m\u001b[43m \u001b[49m\u001b[43mnum_outputs\u001b[49m\u001b[43m)\u001b[49m\n\u001b[0;32m     55\u001b[0m \u001b[38;5;28;01mexcept\u001b[39;00m core\u001b[38;5;241m.\u001b[39m_NotOkStatusException \u001b[38;5;28;01mas\u001b[39;00m e:\n\u001b[0;32m     56\u001b[0m   \u001b[38;5;28;01mif\u001b[39;00m name \u001b[38;5;129;01mis\u001b[39;00m \u001b[38;5;129;01mnot\u001b[39;00m \u001b[38;5;28;01mNone\u001b[39;00m:\n",
      "\u001b[1;31mKeyboardInterrupt\u001b[0m: "
     ]
    }
   ],
   "source": [
    "import api.bertembeddings as be\n",
    "#import importlib\n",
    "#importlib.reload(be)\n",
    "\n",
    "# Process each batch\n",
    "embeddings = []\n",
    "for batch in batched_abstracts:\n",
    "    embeddings.append(be.get_embd_of_whole_abstract(batch))"
   ]
  },
  {
   "cell_type": "code",
   "execution_count": 26,
   "metadata": {},
   "outputs": [
    {
     "name": "stdout",
     "output_type": "stream",
     "text": [
      "Mixed precision enabled.\n",
      "Sleeping for:  0.9403617818919305 seconds\n",
      "There are in total 335 patents to be compared against.\n",
      "It took 3.23 seconds to get the embedding of the input.\n",
      "It took 3.66 seconds to get the embedding of the input.\n",
      "It took 2.29 seconds to get the embedding of the input.\n",
      "It took 1.81 seconds to get the embedding of the input.\n",
      "It took 1.74 seconds to get the embedding of the input.\n",
      "It took 1.78 seconds to get the embedding of the input.\n",
      "It took 1.86 seconds to get the embedding of the input.\n",
      "It took 1.84 seconds to get the embedding of the input.\n",
      "It took 1.96 seconds to get the embedding of the input.\n",
      "It took 1.96 seconds to get the embedding of the input.\n",
      "It took 1.75 seconds to get the embedding of the input.\n",
      "It took 1.67 seconds to get the embedding of the input.\n",
      "It took 1.67 seconds to get the embedding of the input.\n",
      "It took 1.66 seconds to get the embedding of the input.\n",
      "It took 1.68 seconds to get the embedding of the input.\n",
      "It took 1.65 seconds to get the embedding of the input.\n",
      "It took 1.69 seconds to get the embedding of the input.\n",
      "It took 1.70 seconds to get the embedding of the input.\n",
      "It took 1.77 seconds to get the embedding of the input.\n",
      "It took 1.82 seconds to get the embedding of the input.\n",
      "It took 1.86 seconds to get the embedding of the input.\n",
      "It took 1.87 seconds to get the embedding of the input.\n",
      "It took 1.69 seconds to get the embedding of the input.\n",
      "It took 1.76 seconds to get the embedding of the input.\n",
      "It took 1.79 seconds to get the embedding of the input.\n",
      "It took 1.73 seconds to get the embedding of the input.\n",
      "It took 1.68 seconds to get the embedding of the input.\n",
      "It took 1.79 seconds to get the embedding of the input.\n",
      "It took 1.83 seconds to get the embedding of the input.\n",
      "It took 1.73 seconds to get the embedding of the input.\n",
      "It took 1.69 seconds to get the embedding of the input.\n",
      "It took 1.65 seconds to get the embedding of the input.\n",
      "It took 1.74 seconds to get the embedding of the input.\n",
      "It took 2.21 seconds to get the embedding of the input.\n",
      "It took 1.91 seconds to get the embedding of the input.\n",
      "It took 1.81 seconds to get the embedding of the input.\n",
      "It took 1.78 seconds to get the embedding of the input.\n",
      "It took 1.79 seconds to get the embedding of the input.\n",
      "It took 1.82 seconds to get the embedding of the input.\n",
      "It took 1.71 seconds to get the embedding of the input.\n",
      "It took 1.67 seconds to get the embedding of the input.\n",
      "It took 1.82 seconds to get the embedding of the input.\n",
      "It took 1.78 seconds to get the embedding of the input.\n",
      "It took 1.84 seconds to get the embedding of the input.\n",
      "It took 1.85 seconds to get the embedding of the input.\n",
      "It took 1.83 seconds to get the embedding of the input.\n",
      "It took 1.75 seconds to get the embedding of the input.\n",
      "It took 1.79 seconds to get the embedding of the input.\n",
      "It took 1.81 seconds to get the embedding of the input.\n",
      "It took 1.83 seconds to get the embedding of the input.\n",
      "It took 1.89 seconds to get the embedding of the input.\n",
      "It took 1.91 seconds to get the embedding of the input.\n",
      "It took 1.85 seconds to get the embedding of the input.\n",
      "It took 2.01 seconds to get the embedding of the input.\n",
      "It took 1.96 seconds to get the embedding of the input.\n",
      "It took 1.87 seconds to get the embedding of the input.\n",
      "It took 1.82 seconds to get the embedding of the input.\n",
      "It took 1.71 seconds to get the embedding of the input.\n",
      "It took 1.81 seconds to get the embedding of the input.\n",
      "It took 1.72 seconds to get the embedding of the input.\n",
      "It took 1.70 seconds to get the embedding of the input.\n",
      "It took 1.72 seconds to get the embedding of the input.\n",
      "It took 1.77 seconds to get the embedding of the input.\n",
      "It took 2.02 seconds to get the embedding of the input.\n",
      "It took 1.96 seconds to get the embedding of the input.\n",
      "It took 1.75 seconds to get the embedding of the input.\n",
      "It took 1.77 seconds to get the embedding of the input.\n",
      "It took 1.68 seconds to get the embedding of the input.\n",
      "It took 1.70 seconds to get the embedding of the input.\n",
      "It took 1.67 seconds to get the embedding of the input.\n",
      "It took 1.69 seconds to get the embedding of the input.\n",
      "It took 1.77 seconds to get the embedding of the input.\n",
      "It took 1.70 seconds to get the embedding of the input.\n",
      "It took 1.66 seconds to get the embedding of the input.\n",
      "It took 1.68 seconds to get the embedding of the input.\n",
      "It took 1.77 seconds to get the embedding of the input.\n",
      "It took 1.85 seconds to get the embedding of the input.\n",
      "It took 1.73 seconds to get the embedding of the input.\n",
      "It took 1.81 seconds to get the embedding of the input.\n",
      "It took 1.80 seconds to get the embedding of the input.\n",
      "It took 1.82 seconds to get the embedding of the input.\n",
      "It took 1.86 seconds to get the embedding of the input.\n",
      "It took 1.87 seconds to get the embedding of the input.\n",
      "It took 1.84 seconds to get the embedding of the input.\n",
      "It took 1.83 seconds to get the embedding of the input.\n",
      "It took 1.98 seconds to get the embedding of the input.\n",
      "It took 2.00 seconds to get the embedding of the input.\n",
      "It took 1.90 seconds to get the embedding of the input.\n",
      "It took 1.88 seconds to get the embedding of the input.\n",
      "It took 1.76 seconds to get the embedding of the input.\n",
      "It took 1.74 seconds to get the embedding of the input.\n",
      "It took 1.83 seconds to get the embedding of the input.\n",
      "It took 1.84 seconds to get the embedding of the input.\n",
      "It took 1.80 seconds to get the embedding of the input.\n",
      "It took 1.79 seconds to get the embedding of the input.\n",
      "It took 1.82 seconds to get the embedding of the input.\n",
      "It took 1.92 seconds to get the embedding of the input.\n",
      "It took 1.81 seconds to get the embedding of the input.\n",
      "It took 1.81 seconds to get the embedding of the input.\n",
      "It took 1.80 seconds to get the embedding of the input.\n",
      "It took 1.82 seconds to get the embedding of the input.\n",
      "It took 1.84 seconds to get the embedding of the input.\n",
      "It took 1.90 seconds to get the embedding of the input.\n",
      "It took 1.94 seconds to get the embedding of the input.\n",
      "It took 1.94 seconds to get the embedding of the input.\n",
      "It took 1.69 seconds to get the embedding of the input.\n",
      "It took 1.86 seconds to get the embedding of the input.\n",
      "It took 1.78 seconds to get the embedding of the input.\n",
      "It took 1.81 seconds to get the embedding of the input.\n",
      "It took 1.71 seconds to get the embedding of the input.\n",
      "It took 1.71 seconds to get the embedding of the input.\n",
      "It took 1.82 seconds to get the embedding of the input.\n",
      "It took 1.82 seconds to get the embedding of the input.\n",
      "It took 1.93 seconds to get the embedding of the input.\n",
      "It took 2.04 seconds to get the embedding of the input.\n",
      "It took 1.85 seconds to get the embedding of the input.\n",
      "It took 1.96 seconds to get the embedding of the input.\n",
      "It took 1.94 seconds to get the embedding of the input.\n",
      "It took 1.93 seconds to get the embedding of the input.\n",
      "It took 1.76 seconds to get the embedding of the input.\n",
      "It took 2.08 seconds to get the embedding of the input.\n",
      "It took 1.80 seconds to get the embedding of the input.\n",
      "It took 1.86 seconds to get the embedding of the input.\n",
      "It took 1.94 seconds to get the embedding of the input.\n",
      "It took 1.81 seconds to get the embedding of the input.\n",
      "It took 3.05 seconds to get the embedding of the input.\n",
      "It took 2.65 seconds to get the embedding of the input.\n",
      "It took 2.39 seconds to get the embedding of the input.\n",
      "It took 2.17 seconds to get the embedding of the input.\n",
      "It took 2.20 seconds to get the embedding of the input.\n",
      "It took 2.18 seconds to get the embedding of the input.\n",
      "It took 2.18 seconds to get the embedding of the input.\n",
      "It took 2.15 seconds to get the embedding of the input.\n",
      "It took 2.14 seconds to get the embedding of the input.\n",
      "It took 2.23 seconds to get the embedding of the input.\n",
      "It took 2.34 seconds to get the embedding of the input.\n",
      "It took 2.31 seconds to get the embedding of the input.\n",
      "It took 2.11 seconds to get the embedding of the input.\n",
      "It took 2.12 seconds to get the embedding of the input.\n",
      "It took 2.12 seconds to get the embedding of the input.\n",
      "It took 2.38 seconds to get the embedding of the input.\n",
      "It took 2.40 seconds to get the embedding of the input.\n",
      "It took 2.18 seconds to get the embedding of the input.\n",
      "It took 2.12 seconds to get the embedding of the input.\n",
      "It took 2.13 seconds to get the embedding of the input.\n",
      "It took 2.14 seconds to get the embedding of the input.\n",
      "It took 2.11 seconds to get the embedding of the input.\n",
      "It took 2.12 seconds to get the embedding of the input.\n",
      "It took 2.14 seconds to get the embedding of the input.\n",
      "It took 2.27 seconds to get the embedding of the input.\n",
      "It took 2.48 seconds to get the embedding of the input.\n",
      "It took 2.42 seconds to get the embedding of the input.\n",
      "It took 2.40 seconds to get the embedding of the input.\n",
      "It took 2.58 seconds to get the embedding of the input.\n",
      "It took 2.38 seconds to get the embedding of the input.\n",
      "It took 2.33 seconds to get the embedding of the input.\n",
      "It took 2.33 seconds to get the embedding of the input.\n",
      "It took 2.35 seconds to get the embedding of the input.\n",
      "It took 2.63 seconds to get the embedding of the input.\n",
      "It took 2.43 seconds to get the embedding of the input.\n",
      "It took 2.30 seconds to get the embedding of the input.\n",
      "It took 2.33 seconds to get the embedding of the input.\n",
      "It took 2.56 seconds to get the embedding of the input.\n",
      "It took 2.34 seconds to get the embedding of the input.\n",
      "It took 2.33 seconds to get the embedding of the input.\n",
      "It took 2.34 seconds to get the embedding of the input.\n",
      "It took 2.28 seconds to get the embedding of the input.\n",
      "It took 2.26 seconds to get the embedding of the input.\n",
      "It took 2.10 seconds to get the embedding of the input.\n",
      "It took 2.16 seconds to get the embedding of the input.\n",
      "It took 2.25 seconds to get the embedding of the input.\n",
      "It took 2.12 seconds to get the embedding of the input.\n",
      "It took 2.15 seconds to get the embedding of the input.\n",
      "It took 2.16 seconds to get the embedding of the input.\n",
      "It took 2.11 seconds to get the embedding of the input.\n",
      "It took 2.12 seconds to get the embedding of the input.\n",
      "It took 2.36 seconds to get the embedding of the input.\n",
      "It took 2.23 seconds to get the embedding of the input.\n",
      "It took 2.25 seconds to get the embedding of the input.\n",
      "It took 2.34 seconds to get the embedding of the input.\n",
      "It took 2.48 seconds to get the embedding of the input.\n",
      "It took 2.67 seconds to get the embedding of the input.\n",
      "It took 2.60 seconds to get the embedding of the input.\n",
      "It took 2.34 seconds to get the embedding of the input.\n",
      "It took 2.22 seconds to get the embedding of the input.\n",
      "It took 2.36 seconds to get the embedding of the input.\n",
      "It took 2.46 seconds to get the embedding of the input.\n",
      "It took 2.39 seconds to get the embedding of the input.\n",
      "It took 2.26 seconds to get the embedding of the input.\n",
      "It took 2.17 seconds to get the embedding of the input.\n",
      "It took 2.27 seconds to get the embedding of the input.\n",
      "It took 2.30 seconds to get the embedding of the input.\n",
      "It took 2.24 seconds to get the embedding of the input.\n",
      "It took 2.23 seconds to get the embedding of the input.\n",
      "It took 2.25 seconds to get the embedding of the input.\n",
      "It took 2.27 seconds to get the embedding of the input.\n",
      "It took 2.30 seconds to get the embedding of the input.\n",
      "It took 2.12 seconds to get the embedding of the input.\n",
      "It took 2.13 seconds to get the embedding of the input.\n",
      "It took 2.13 seconds to get the embedding of the input.\n",
      "It took 2.22 seconds to get the embedding of the input.\n",
      "It took 2.23 seconds to get the embedding of the input.\n",
      "It took 2.11 seconds to get the embedding of the input.\n",
      "It took 2.14 seconds to get the embedding of the input.\n",
      "It took 2.37 seconds to get the embedding of the input.\n",
      "It took 2.37 seconds to get the embedding of the input.\n",
      "It took 2.40 seconds to get the embedding of the input.\n",
      "It took 2.66 seconds to get the embedding of the input.\n",
      "It took 2.46 seconds to get the embedding of the input.\n",
      "It took 2.31 seconds to get the embedding of the input.\n",
      "It took 2.26 seconds to get the embedding of the input.\n",
      "It took 2.31 seconds to get the embedding of the input.\n",
      "It took 2.34 seconds to get the embedding of the input.\n",
      "It took 2.37 seconds to get the embedding of the input.\n",
      "It took 2.08 seconds to get the embedding of the input.\n",
      "It took 1.99 seconds to get the embedding of the input.\n",
      "It took 1.92 seconds to get the embedding of the input.\n",
      "It took 1.82 seconds to get the embedding of the input.\n",
      "It took 1.96 seconds to get the embedding of the input.\n",
      "It took 1.81 seconds to get the embedding of the input.\n",
      "It took 1.86 seconds to get the embedding of the input.\n",
      "It took 1.81 seconds to get the embedding of the input.\n",
      "It took 1.66 seconds to get the embedding of the input.\n",
      "It took 1.61 seconds to get the embedding of the input.\n",
      "It took 1.67 seconds to get the embedding of the input.\n",
      "It took 1.72 seconds to get the embedding of the input.\n",
      "It took 1.68 seconds to get the embedding of the input.\n",
      "It took 1.77 seconds to get the embedding of the input.\n",
      "It took 1.74 seconds to get the embedding of the input.\n",
      "It took 1.73 seconds to get the embedding of the input.\n",
      "It took 1.70 seconds to get the embedding of the input.\n",
      "It took 1.81 seconds to get the embedding of the input.\n",
      "It took 1.78 seconds to get the embedding of the input.\n",
      "It took 1.85 seconds to get the embedding of the input.\n",
      "It took 1.81 seconds to get the embedding of the input.\n",
      "It took 1.84 seconds to get the embedding of the input.\n",
      "It took 1.80 seconds to get the embedding of the input.\n",
      "It took 1.93 seconds to get the embedding of the input.\n",
      "It took 1.96 seconds to get the embedding of the input.\n",
      "It took 1.93 seconds to get the embedding of the input.\n",
      "It took 1.82 seconds to get the embedding of the input.\n",
      "It took 1.85 seconds to get the embedding of the input.\n",
      "It took 1.83 seconds to get the embedding of the input.\n",
      "It took 1.80 seconds to get the embedding of the input.\n",
      "It took 1.80 seconds to get the embedding of the input.\n",
      "It took 1.78 seconds to get the embedding of the input.\n",
      "It took 1.80 seconds to get the embedding of the input.\n",
      "It took 1.88 seconds to get the embedding of the input.\n",
      "It took 1.85 seconds to get the embedding of the input.\n",
      "It took 1.85 seconds to get the embedding of the input.\n",
      "It took 1.83 seconds to get the embedding of the input.\n",
      "It took 1.93 seconds to get the embedding of the input.\n",
      "It took 1.94 seconds to get the embedding of the input.\n",
      "It took 1.91 seconds to get the embedding of the input.\n",
      "It took 1.75 seconds to get the embedding of the input.\n",
      "It took 1.71 seconds to get the embedding of the input.\n",
      "It took 1.88 seconds to get the embedding of the input.\n",
      "It took 1.73 seconds to get the embedding of the input.\n",
      "It took 1.83 seconds to get the embedding of the input.\n",
      "It took 1.99 seconds to get the embedding of the input.\n",
      "It took 1.87 seconds to get the embedding of the input.\n",
      "It took 1.81 seconds to get the embedding of the input.\n",
      "It took 1.75 seconds to get the embedding of the input.\n",
      "It took 1.69 seconds to get the embedding of the input.\n",
      "It took 1.69 seconds to get the embedding of the input.\n",
      "It took 1.80 seconds to get the embedding of the input.\n",
      "It took 1.84 seconds to get the embedding of the input.\n",
      "It took 1.67 seconds to get the embedding of the input.\n",
      "It took 1.80 seconds to get the embedding of the input.\n",
      "It took 1.78 seconds to get the embedding of the input.\n",
      "It took 1.77 seconds to get the embedding of the input.\n",
      "It took 1.86 seconds to get the embedding of the input.\n",
      "It took 1.91 seconds to get the embedding of the input.\n",
      "It took 1.96 seconds to get the embedding of the input.\n",
      "It took 1.89 seconds to get the embedding of the input.\n",
      "It took 2.02 seconds to get the embedding of the input.\n",
      "It took 2.07 seconds to get the embedding of the input.\n",
      "It took 1.79 seconds to get the embedding of the input.\n",
      "It took 1.76 seconds to get the embedding of the input.\n",
      "It took 1.70 seconds to get the embedding of the input.\n",
      "It took 1.60 seconds to get the embedding of the input.\n",
      "It took 1.59 seconds to get the embedding of the input.\n",
      "It took 1.59 seconds to get the embedding of the input.\n",
      "It took 1.63 seconds to get the embedding of the input.\n",
      "It took 1.81 seconds to get the embedding of the input.\n",
      "It took 2.11 seconds to get the embedding of the input.\n",
      "It took 1.76 seconds to get the embedding of the input.\n",
      "It took 1.85 seconds to get the embedding of the input.\n",
      "It took 1.72 seconds to get the embedding of the input.\n",
      "It took 1.65 seconds to get the embedding of the input.\n",
      "It took 1.76 seconds to get the embedding of the input.\n",
      "It took 1.81 seconds to get the embedding of the input.\n",
      "It took 1.80 seconds to get the embedding of the input.\n",
      "It took 1.76 seconds to get the embedding of the input.\n",
      "It took 1.96 seconds to get the embedding of the input.\n",
      "It took 1.80 seconds to get the embedding of the input.\n",
      "It took 1.75 seconds to get the embedding of the input.\n",
      "It took 1.68 seconds to get the embedding of the input.\n",
      "It took 1.70 seconds to get the embedding of the input.\n",
      "It took 1.84 seconds to get the embedding of the input.\n",
      "It took 1.79 seconds to get the embedding of the input.\n",
      "It took 1.78 seconds to get the embedding of the input.\n",
      "It took 1.97 seconds to get the embedding of the input.\n",
      "It took 2.06 seconds to get the embedding of the input.\n",
      "It took 1.79 seconds to get the embedding of the input.\n",
      "It took 1.67 seconds to get the embedding of the input.\n",
      "It took 1.61 seconds to get the embedding of the input.\n",
      "It took 1.65 seconds to get the embedding of the input.\n",
      "It took 1.63 seconds to get the embedding of the input.\n",
      "It took 1.60 seconds to get the embedding of the input.\n",
      "It took 1.62 seconds to get the embedding of the input.\n",
      "It took 1.58 seconds to get the embedding of the input.\n",
      "It took 1.58 seconds to get the embedding of the input.\n",
      "It took 1.75 seconds to get the embedding of the input.\n",
      "It took 1.69 seconds to get the embedding of the input.\n",
      "It took 1.69 seconds to get the embedding of the input.\n",
      "It took 1.62 seconds to get the embedding of the input.\n",
      "It took 1.67 seconds to get the embedding of the input.\n",
      "It took 1.99 seconds to get the embedding of the input.\n",
      "It took 1.98 seconds to get the embedding of the input.\n",
      "It took 2.05 seconds to get the embedding of the input.\n",
      "It took 2.24 seconds to get the embedding of the input.\n",
      "It took 2.61 seconds to get the embedding of the input.\n",
      "It took 2.43 seconds to get the embedding of the input.\n",
      "It took 2.00 seconds to get the embedding of the input.\n",
      "It took 2.25 seconds to get the embedding of the input.\n",
      "It took 2.33 seconds to get the embedding of the input.\n",
      "It took 2.60 seconds to get the embedding of the input.\n",
      "It took 1.92 seconds to get the embedding of the input.\n",
      "It took 1.77 seconds to get the embedding of the input.\n",
      "It took 1.78 seconds to get the embedding of the input.\n",
      "It took 1.80 seconds to get the embedding of the input.\n",
      "It took 1.70 seconds to get the embedding of the input.\n",
      "It took 1.63 seconds to get the embedding of the input.\n",
      "It took 1.70 seconds to get the embedding of the input.\n",
      "It took 1.74 seconds to get the embedding of the input.\n",
      "Cosine similarity is 0.8775115013122559\n"
     ]
    },
    {
     "data": {
      "text/plain": [
       "[\"A method of distributing Internet advertisements at the websites of a number of different publishers operating web sites. An advertising entity collects lists of user identifiers from each of several advertisers. In response to a user visiting one of the websites, the user identifier associated with the user is determined. It is determined if the user identifier is on one of the list. If the user identifier is on a list, an unembedded advertisement associated with the advertiser whose list contains the user's identifier is served to the user. The advertisement may be a pop-up, pop-under, or dynamic html advertisement, and if the user is not on the list, no such an ad may not be served.\",\n",
       " 'An Internet delivery method delivers electronic information products to a plurality of users via the Internet. A plurality of display formats are stored in a database. The display formats including at least a default display format and a custom display format. Information is also stored for each user indicating whether the user is a specific type of user. When a user logs in, the user is identified as being that specific type of user. If the user is identified as the specific type of user, then an electronic information product is delivered to the user in the custom display format. The electronic information products are accessed via computers connected to the Internet, including wireless devices.']"
      ]
     },
     "execution_count": 26,
     "metadata": {},
     "output_type": "execute_result"
    }
   ],
   "source": [
    "import tensorflow as tf\n",
    "\n",
    "tf.config.optimizer.set_jit(True)  # Enable XLA for the entire script\n",
    "from tensorflow.keras import mixed_precision\n",
    "\n",
    "# Set the policy to mixed precision\n",
    "policy = mixed_precision.Policy('mixed_float16')\n",
    "mixed_precision.set_global_policy(policy)\n",
    "\n",
    "print(\"Mixed precision enabled.\")\n",
    "\n",
    "patent = x[33]\n",
    "importlib.reload(fp)\n",
    "fp.find_the_closest_abstract_excerpt(patent, filter_tfidf=False)"
   ]
  },
  {
   "cell_type": "code",
   "execution_count": 24,
   "metadata": {},
   "outputs": [
    {
     "name": "stdout",
     "output_type": "stream",
     "text": [
      "BERT loaded...\n",
      "It took 2.66 seconds to get the embedding of the input.\n"
     ]
    }
   ],
   "source": [
    "import api.bertembeddings as be\n",
    "import importlib\n",
    "importlib.reload(be)\n",
    "# Profiling start\n",
    "tf.profiler.experimental.start('logdir')  # Log to 'logdir'\n",
    "\n",
    "g = be.get_embd_of_whole_abstract(patent['abstract'])\n",
    "\n",
    "# Profiling stops\n",
    "tf.profiler.experimental.stop()"
   ]
  },
  {
   "cell_type": "code",
   "execution_count": 23,
   "metadata": {},
   "outputs": [
    {
     "data": {
      "text/plain": [
       "Reusing TensorBoard on port 6006 (pid 21964), started 0:09:51 ago. (Use '!kill 21964' to kill it.)"
      ]
     },
     "metadata": {},
     "output_type": "display_data"
    },
    {
     "data": {
      "text/html": [
       "\n",
       "      <iframe id=\"tensorboard-frame-a41651e685c35c08\" width=\"100%\" height=\"800\" frameborder=\"0\">\n",
       "      </iframe>\n",
       "      <script>\n",
       "        (function() {\n",
       "          const frame = document.getElementById(\"tensorboard-frame-a41651e685c35c08\");\n",
       "          const url = new URL(\"http://localhost\");\n",
       "          const port = 6006;\n",
       "          if (port) {\n",
       "            url.port = port;\n",
       "          }\n",
       "          frame.src = url;\n",
       "        })();\n",
       "      </script>\n",
       "    "
      ],
      "text/plain": [
       "<IPython.core.display.HTML object>"
      ]
     },
     "metadata": {},
     "output_type": "display_data"
    }
   ],
   "source": [
    "%reload_ext tensorboard\n",
    "%tensorboard --logdir logdir\n"
   ]
  },
  {
   "cell_type": "code",
   "execution_count": 19,
   "metadata": {},
   "outputs": [],
   "source": [
    "import tensorflow as tf\n",
    "tf.profiler.experimental.stop()"
   ]
  }
 ],
 "metadata": {
  "kernelspec": {
   "display_name": "venv",
   "language": "python",
   "name": "python3"
  },
  "language_info": {
   "codemirror_mode": {
    "name": "ipython",
    "version": 3
   },
   "file_extension": ".py",
   "mimetype": "text/x-python",
   "name": "python",
   "nbconvert_exporter": "python",
   "pygments_lexer": "ipython3",
   "version": "3.12.2"
  }
 },
 "nbformat": 4,
 "nbformat_minor": 2
}
