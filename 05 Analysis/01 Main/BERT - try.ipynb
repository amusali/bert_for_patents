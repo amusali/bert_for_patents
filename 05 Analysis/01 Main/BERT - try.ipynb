{
 "cells": [
  {
   "cell_type": "markdown",
   "metadata": {},
   "source": [
    "BERT Example"
   ]
  },
  {
   "cell_type": "code",
   "execution_count": 1,
   "metadata": {},
   "outputs": [
    {
     "name": "stderr",
     "output_type": "stream",
     "text": [
      "c:\\Users\\amusali\\Desktop\\uc3m PhD\\venv\\Lib\\site-packages\\fuzzywuzzy\\fuzz.py:11: UserWarning: Using slow pure-python SequenceMatcher. Install python-Levenshtein to remove this warning\n",
      "  warnings.warn('Using slow pure-python SequenceMatcher. Install python-Levenshtein to remove this warning')\n"
     ]
    },
    {
     "name": "stdout",
     "output_type": "stream",
     "text": [
      "Company names are:  ['gas']\n",
      "All THE FOUND COMPANIES ARE:  {('GastronicsÃ¢â‚¬Â² Inc.', 'legacy'), ('Gastrix Medical, LLC', 'assignee'), ('Union Carbide Industrial Gases Technology Corporation', 'legacy'), ('GasTran Systems', 'assignee'), ('GAAP Gas Controls LLC', 'legacy'), ('GastroKlenz Inc.', 'legacy'), ('Gaska Tape, Inc.', 'legacy'), ('GASI Engine Services Corporation', 'legacy'), ('Trunkline Gas Company', 'assignee'), ('GAS BRAND STARTER, LLC', 'assignee'), ('ONE Gas, Inc.', 'assignee'), ('Gas Research Institute', 'legacy'), ('Memphis Light Gas & Water, division of City of Memphis', 'assignee'), ('AutoGas Systems, Inc.', 'assignee'), ('Ferrellgas Real Estate, Inc.', 'assignee'), (\"Gaspar's Linguica Company, Inc.\", 'assignee'), ('Gas Caps, Inc.', 'assignee'), ('SPM Oil & Gas Inc.', 'legacy'), ('Sir Pegasus, Inc.', 'assignee'), ('Gaspardo & Associates, Inc.', 'assignee'), ('Gass Industries, Inc.', 'assignee'), ('Madison Gas and Electric Company', 'assignee'), ('Texas Gas Transmission Corporation', 'legacy'), ('GaSonics, Inc.', 'assignee'), ('Sans. Gas. Inc.', 'assignee'), ('Stewardship Water & Gas Co', 'assignee'), ('Magnegas Corporation', 'legacy'), ('Gas Spring Company, Division of Fichtel & Sachs Industries, Inc.', 'assignee'), ('Cleveland Gas Systems, LLC', 'assignee'), ('Gas Technologies LLC', 'legacy'), ('Gaston County Dyeing Machine Company', 'assignee'), ('Pacific Gas Supply Corporation', 'assignee'), ('Gastro-Gnomes, Inc.', 'legacy'), ('GE Oil & Gas Pressure Control LP', 'legacy'), ('NATURAL GAS FUEL SYSTEMS, LLC', 'assignee'), ('Gas Activated Systems', 'legacy'), ('GAS FIRED PRODUCTS, INC.', 'assignee'), ('Gas Odorizers, Inc.', 'assignee'), ('GastroLogic LLC', 'assignee'), ('Gas Services, Inc.', 'assignee'), ('Segasoft, Inc.', 'legacy'), ('Gas Separation Technology, Inc.', 'legacy'), ('Gas Guard West, Inc.', 'assignee'), ('Lamons Metal Gasket Co.', 'assignee'), ('Vecta Oil & Gas, Ltd.', 'assignee'), ('Megasystems, Inc.', 'legacy'), ('Natural Gas Odorizing, Inc.', 'assignee'), ('Gasboy International, Inc.', 'assignee'), ('A.K.G.S. Partnership, A Partnership of Las Vegas', 'assignee'), ('Pegasus Laboratories, Inc.', 'legacy'), ('BECKETT GAS, INC.', 'assignee'), ('GASTECH ENGINEERING LLC', 'assignee'), ('Gast Manufacturing, Inc. A Unit of IDEX Corporation', 'legacy'), ('Institute of Gas Technology', 'legacy'), ('High Gas Mileage, LLC', 'assignee'), ('Gasaver Corp.', 'assignee'), ('Gas Sensing Tech Corp', 'legacy'), ('Memphis Light, Gas & Water Division', 'assignee'), ('The Board of Regents University Community College System of Nevada on Behalf of the University of Nevada-Las Vegas', 'assignee'), ('Gas Tank Renu - USA', 'assignee'), ('San Diego Gas & Electric Company', 'assignee'), ('GASTROPAL PARTNERS', 'assignee'), ('XPand Oil & Gas Solutions, LLC', 'assignee'), ('Megas, LLC', 'assignee'), ('Gas Electronics, Inc.', 'assignee'), ('Gas Saver, LLC', 'assignee'), ('Tri-Gas, Inc.', 'assignee'), ('PEGASUS SOLAR, INC.', 'legacy'), ('Gas-Chill, Inc.', 'assignee'), ('GASN LLC', 'assignee'), ('Western International Gas and Cylinders, Inc.', 'assignee'), ('Gas Desulfurization Corporation', 'assignee'), ('Gasser Chair Company, Inc.', 'assignee'), ('Citizens Gas & Coke Utility', 'assignee'), ('GasTech, Inc.', 'assignee'), ('Unconventional Gas Solutions, LLC', 'assignee'), ('Gas Spring Company, Div. of Fichtel & Sachs Industries, Inc.', 'assignee'), ('Gasonics International Corporation', 'assignee'), ('Gas Technology Resources Flotron, Incorporated', 'assignee'), ('GAS SEPARATION TECHNOLOGIES, INC.', 'legacy'), ('Gas Bowstrings, LLC', 'assignee'), ('GAS TECHNOLOGY INSTITUTE', 'legacy'), ('Gasdorf Tool & Machine Co., Inc.', 'assignee'), ('San Diego Gas & Electric Company, c/o Sempra Energy', 'assignee'), ('Gas Spring Corporation', 'assignee'), ('Gasvoda & Associates, Inc.', 'assignee'), ('Gaseous Fuel Systems, Corp.', 'legacy'), ('Dakota Gasification Company', 'assignee'), ('Gas Products, Inc.', 'assignee'), ('Gasbreaker Inc.', 'assignee'), ('Detroit Gasket & Manufacturing Co.', 'assignee'), ('GASTON SYSTEMS, INC.', 'legacy'), ('SPM Oil & Gas PC LLC', 'assignee'), ('Columbia Gas of Ohio', 'legacy'), ('Gas-O-Haul, Incorporated', 'assignee'), ('Gas Energy, Inc.', 'legacy'), ('Gas Technology Limited', 'assignee')}\n",
      "Best matches are:  [('Gas Research Institute', 'legacy'), ('Gas Energy, Inc.', 'legacy'), ('GAS TECHNOLOGY INSTITUTE', 'legacy'), ('Gas Sensing Tech Corp', 'legacy'), ('Gas Technologies LLC', 'legacy'), ('GAAP Gas Controls LLC', 'legacy'), ('SPM Oil & Gas Inc.', 'legacy'), ('Gas Spring Corporation', 'assignee'), ('Gas Products, Inc.', 'assignee'), ('Gas Bowstrings, LLC', 'assignee'), ('SPM Oil & Gas PC LLC', 'assignee'), ('ONE Gas, Inc.', 'assignee')]\n"
     ]
    },
    {
     "data": {
      "text/plain": [
       "[('Gas Research Institute', 'legacy'),\n",
       " ('Gas Energy, Inc.', 'legacy'),\n",
       " ('GAS TECHNOLOGY INSTITUTE', 'legacy'),\n",
       " ('Gas Sensing Tech Corp', 'legacy'),\n",
       " ('Gas Technologies LLC', 'legacy'),\n",
       " ('GAAP Gas Controls LLC', 'legacy'),\n",
       " ('SPM Oil & Gas Inc.', 'legacy'),\n",
       " ('Gas Spring Corporation', 'assignee'),\n",
       " ('Gas Products, Inc.', 'assignee'),\n",
       " ('Gas Bowstrings, LLC', 'assignee'),\n",
       " ('SPM Oil & Gas PC LLC', 'assignee'),\n",
       " ('ONE Gas, Inc.', 'assignee')]"
      ]
     },
     "execution_count": 1,
     "metadata": {},
     "output_type": "execute_result"
    }
   ],
   "source": [
    "import api.get_closest_assignees as fg\n",
    "\n",
    "fg.get_closest_assignees(\"gas\")"
   ]
  },
  {
   "cell_type": "code",
   "execution_count": 28,
   "metadata": {},
   "outputs": [
    {
     "name": "stdout",
     "output_type": "stream",
     "text": [
      "2008-12-12\n",
      "https://api.patentsview.org/patents/query?o={\"page\":1,\"per_page\":10000}&q={\"assignee_organization\": \"FACEBOOK, INC.\"}&f=[\"cpc_subgroup_id\", \"cpc_group_id\" ,\"app_date\",\"patent_id\", \"patent_date\",\"cpc_category\",\"assignee_country\", \"patent_num_cited_by_us_patents\", \"patent_abstract\", \"citedby_patent_id\", \"citedby_patent_title\", \"citedby_patent_date\"]\n",
      "Size of patents before:  61 Size of patents after:  5300\n"
     ]
    }
   ],
   "source": [
    "import api.fetch_patents as fp \n",
    "import importlib\n",
    "importlib.reload(fp)\n",
    "from datetime import datetime, timedelta\n",
    "import pandas as pd\n",
    "import re\n",
    "\n",
    "date = \"2008-12-12\"\n",
    "#date = datetime.strptime(date, \"%Y-%m-%d\")\n",
    "print(date)\n",
    "x = fp.get_patents('FACEBOOK, INC.', date, source = 'legacy')\n",
    "#len(x[0], x[1])\n",
    "#y = fp.get_patents('Ford Global Technologies, LLC', date, source = 'legacy')"
   ]
  },
  {
   "cell_type": "code",
   "execution_count": 29,
   "metadata": {},
   "outputs": [],
   "source": [
    "patent = x[0][6]"
   ]
  },
  {
   "cell_type": "code",
   "execution_count": 27,
   "metadata": {},
   "outputs": [
    {
     "ename": "TypeError",
     "evalue": "'str' object does not support item assignment",
     "output_type": "error",
     "traceback": [
      "\u001b[1;31m---------------------------------------------------------------------------\u001b[0m",
      "\u001b[1;31mTypeError\u001b[0m                                 Traceback (most recent call last)",
      "Cell \u001b[1;32mIn[27], line 2\u001b[0m\n\u001b[0;32m      1\u001b[0m t \u001b[38;5;241m=\u001b[39m x[\u001b[38;5;241m0\u001b[39m][\u001b[38;5;241m6\u001b[39m][\u001b[38;5;124m'\u001b[39m\u001b[38;5;124mtech_field\u001b[39m\u001b[38;5;124m'\u001b[39m][:\u001b[38;5;241m4\u001b[39m]\n\u001b[1;32m----> 2\u001b[0m patent \u001b[38;5;241m=\u001b[39m \u001b[43mpatent\u001b[49m\u001b[43m[\u001b[49m\u001b[38;5;124;43m'\u001b[39;49m\u001b[38;5;124;43mtech_field\u001b[39;49m\u001b[38;5;124;43m'\u001b[39;49m\u001b[43m]\u001b[49m \u001b[38;5;241m=\u001b[39m t\n",
      "\u001b[1;31mTypeError\u001b[0m: 'str' object does not support item assignment"
     ]
    }
   ],
   "source": [
    "t = x[0][6]['tech_field'][:4]\n",
    "patent = patent['tech_field'] = t"
   ]
  },
  {
   "cell_type": "code",
   "execution_count": 32,
   "metadata": {},
   "outputs": [
    {
     "name": "stdout",
     "output_type": "stream",
     "text": [
      "BERT loaded...\n",
      "Sleeping for:  0.1474081643601226 seconds\n",
      "Sleeping for:  0.5922560558396739 seconds\n",
      "There are in total 16335 patents to be compared against.\n",
      "Currently doing TF-IDF\n",
      "There were 16335 files in total. After TF-IDF filtering, there are 995 patents left now.\n",
      "There are 1 patents being fed into BERT\n",
      "It took 2.52257 seconds to get the embeddings of the input.\n",
      "There are 1 patents being fed into BERT\n",
      "It took 1.93694 seconds to get the embeddings of the input.\n",
      "There are 1 patents being fed into BERT\n",
      "It took 1.89837 seconds to get the embeddings of the input.\n",
      "There are 1 patents being fed into BERT\n",
      "It took 1.90787 seconds to get the embeddings of the input.\n",
      "There are 1 patents being fed into BERT\n",
      "It took 1.96515 seconds to get the embeddings of the input.\n"
     ]
    },
    {
     "ename": "KeyboardInterrupt",
     "evalue": "",
     "output_type": "error",
     "traceback": [
      "\u001b[1;31m---------------------------------------------------------------------------\u001b[0m",
      "\u001b[1;31mTypeError\u001b[0m                                 Traceback (most recent call last)",
      "File \u001b[1;32mc:\\Users\\amusali\\Desktop\\uc3m PhD\\venv\\Lib\\site-packages\\tensorflow\\python\\eager\\polymorphic_function\\function_type_utils.py:442\u001b[0m, in \u001b[0;36mbind_function_inputs\u001b[1;34m(args, kwargs, function_type, default_values)\u001b[0m\n\u001b[0;32m    441\u001b[0m \u001b[38;5;28;01mtry\u001b[39;00m:\n\u001b[1;32m--> 442\u001b[0m   bound_arguments \u001b[38;5;241m=\u001b[39m \u001b[43mfunction_type\u001b[49m\u001b[38;5;241;43m.\u001b[39;49m\u001b[43mbind_with_defaults\u001b[49m\u001b[43m(\u001b[49m\n\u001b[0;32m    443\u001b[0m \u001b[43m      \u001b[49m\u001b[43margs\u001b[49m\u001b[43m,\u001b[49m\u001b[43m \u001b[49m\u001b[43msanitized_kwargs\u001b[49m\u001b[43m,\u001b[49m\u001b[43m \u001b[49m\u001b[43mdefault_values\u001b[49m\n\u001b[0;32m    444\u001b[0m \u001b[43m  \u001b[49m\u001b[43m)\u001b[49m\n\u001b[0;32m    445\u001b[0m \u001b[38;5;28;01mexcept\u001b[39;00m \u001b[38;5;167;01mException\u001b[39;00m \u001b[38;5;28;01mas\u001b[39;00m e:\n",
      "File \u001b[1;32mc:\\Users\\amusali\\Desktop\\uc3m PhD\\venv\\Lib\\site-packages\\tensorflow\\core\\function\\polymorphism\\function_type.py:264\u001b[0m, in \u001b[0;36mFunctionType.bind_with_defaults\u001b[1;34m(self, args, kwargs, default_values)\u001b[0m\n\u001b[0;32m    263\u001b[0m \u001b[38;5;250m\u001b[39m\u001b[38;5;124;03m\"\"\"Returns BoundArguments with default values filled in.\"\"\"\u001b[39;00m\n\u001b[1;32m--> 264\u001b[0m bound_arguments \u001b[38;5;241m=\u001b[39m \u001b[38;5;28;43mself\u001b[39;49m\u001b[38;5;241;43m.\u001b[39;49m\u001b[43mbind\u001b[49m\u001b[43m(\u001b[49m\u001b[38;5;241;43m*\u001b[39;49m\u001b[43margs\u001b[49m\u001b[43m,\u001b[49m\u001b[43m \u001b[49m\u001b[38;5;241;43m*\u001b[39;49m\u001b[38;5;241;43m*\u001b[39;49m\u001b[43mkwargs\u001b[49m\u001b[43m)\u001b[49m\n\u001b[0;32m    265\u001b[0m bound_arguments\u001b[38;5;241m.\u001b[39mapply_defaults()\n",
      "File \u001b[1;32m~\\AppData\\Local\\Programs\\Python\\Python312\\Lib\\inspect.py:3259\u001b[0m, in \u001b[0;36mSignature.bind\u001b[1;34m(self, *args, **kwargs)\u001b[0m\n\u001b[0;32m   3255\u001b[0m \u001b[38;5;250m\u001b[39m\u001b[38;5;124;03m\"\"\"Get a BoundArguments object, that maps the passed `args`\u001b[39;00m\n\u001b[0;32m   3256\u001b[0m \u001b[38;5;124;03mand `kwargs` to the function's signature.  Raises `TypeError`\u001b[39;00m\n\u001b[0;32m   3257\u001b[0m \u001b[38;5;124;03mif the passed arguments can not be bound.\u001b[39;00m\n\u001b[0;32m   3258\u001b[0m \u001b[38;5;124;03m\"\"\"\u001b[39;00m\n\u001b[1;32m-> 3259\u001b[0m \u001b[38;5;28;01mreturn\u001b[39;00m \u001b[38;5;28;43mself\u001b[39;49m\u001b[38;5;241;43m.\u001b[39;49m\u001b[43m_bind\u001b[49m\u001b[43m(\u001b[49m\u001b[43margs\u001b[49m\u001b[43m,\u001b[49m\u001b[43m \u001b[49m\u001b[43mkwargs\u001b[49m\u001b[43m)\u001b[49m\n",
      "File \u001b[1;32m~\\AppData\\Local\\Programs\\Python\\Python312\\Lib\\inspect.py:3248\u001b[0m, in \u001b[0;36mSignature._bind\u001b[1;34m(self, args, kwargs, partial)\u001b[0m\n\u001b[0;32m   3247\u001b[0m     \u001b[38;5;28;01melse\u001b[39;00m:\n\u001b[1;32m-> 3248\u001b[0m         \u001b[38;5;28;01mraise\u001b[39;00m \u001b[38;5;167;01mTypeError\u001b[39;00m(\n\u001b[0;32m   3249\u001b[0m             \u001b[38;5;124m'\u001b[39m\u001b[38;5;124mgot an unexpected keyword argument \u001b[39m\u001b[38;5;132;01m{arg!r}\u001b[39;00m\u001b[38;5;124m'\u001b[39m\u001b[38;5;241m.\u001b[39mformat(\n\u001b[0;32m   3250\u001b[0m                 arg\u001b[38;5;241m=\u001b[39m\u001b[38;5;28mnext\u001b[39m(\u001b[38;5;28miter\u001b[39m(kwargs))))\n\u001b[0;32m   3252\u001b[0m \u001b[38;5;28;01mreturn\u001b[39;00m \u001b[38;5;28mself\u001b[39m\u001b[38;5;241m.\u001b[39m_bound_arguments_cls(\u001b[38;5;28mself\u001b[39m, arguments)\n",
      "\u001b[1;31mTypeError\u001b[0m: got an unexpected keyword argument 'segment_ids'",
      "\nThe above exception was the direct cause of the following exception:\n",
      "\u001b[1;31mTypeError\u001b[0m                                 Traceback (most recent call last)",
      "File \u001b[1;32mc:\\Users\\amusali\\Desktop\\uc3m PhD\\venv\\Lib\\site-packages\\tensorflow\\python\\eager\\polymorphic_function\\concrete_function.py:1179\u001b[0m, in \u001b[0;36mConcreteFunction._call_impl\u001b[1;34m(self, args, kwargs)\u001b[0m\n\u001b[0;32m   1178\u001b[0m \u001b[38;5;28;01mtry\u001b[39;00m:\n\u001b[1;32m-> 1179\u001b[0m   \u001b[38;5;28;01mreturn\u001b[39;00m \u001b[38;5;28;43mself\u001b[39;49m\u001b[38;5;241;43m.\u001b[39;49m\u001b[43m_call_with_structured_signature\u001b[49m\u001b[43m(\u001b[49m\u001b[43margs\u001b[49m\u001b[43m,\u001b[49m\u001b[43m \u001b[49m\u001b[43mkwargs\u001b[49m\u001b[43m)\u001b[49m\n\u001b[0;32m   1180\u001b[0m \u001b[38;5;28;01mexcept\u001b[39;00m \u001b[38;5;167;01mTypeError\u001b[39;00m \u001b[38;5;28;01mas\u001b[39;00m structured_err:\n",
      "File \u001b[1;32mc:\\Users\\amusali\\Desktop\\uc3m PhD\\venv\\Lib\\site-packages\\tensorflow\\python\\eager\\polymorphic_function\\concrete_function.py:1259\u001b[0m, in \u001b[0;36mConcreteFunction._call_with_structured_signature\u001b[1;34m(self, args, kwargs)\u001b[0m\n\u001b[0;32m   1245\u001b[0m \u001b[38;5;250m\u001b[39m\u001b[38;5;124;03m\"\"\"Executes the wrapped function with the structured signature.\u001b[39;00m\n\u001b[0;32m   1246\u001b[0m \n\u001b[0;32m   1247\u001b[0m \u001b[38;5;124;03mArgs:\u001b[39;00m\n\u001b[1;32m   (...)\u001b[0m\n\u001b[0;32m   1256\u001b[0m \u001b[38;5;124;03m    of this `ConcreteFunction`.\u001b[39;00m\n\u001b[0;32m   1257\u001b[0m \u001b[38;5;124;03m\"\"\"\u001b[39;00m\n\u001b[0;32m   1258\u001b[0m bound_args \u001b[38;5;241m=\u001b[39m (\n\u001b[1;32m-> 1259\u001b[0m     \u001b[43mfunction_type_utils\u001b[49m\u001b[38;5;241;43m.\u001b[39;49m\u001b[43mcanonicalize_function_inputs\u001b[49m\u001b[43m(\u001b[49m\n\u001b[0;32m   1260\u001b[0m \u001b[43m        \u001b[49m\u001b[43margs\u001b[49m\u001b[43m,\u001b[49m\u001b[43m \u001b[49m\u001b[43mkwargs\u001b[49m\u001b[43m,\u001b[49m\u001b[43m \u001b[49m\u001b[38;5;28;43mself\u001b[39;49m\u001b[38;5;241;43m.\u001b[39;49m\u001b[43mfunction_type\u001b[49m\u001b[43m)\u001b[49m\n\u001b[0;32m   1261\u001b[0m )\n\u001b[0;32m   1262\u001b[0m filtered_flat_args \u001b[38;5;241m=\u001b[39m \u001b[38;5;28mself\u001b[39m\u001b[38;5;241m.\u001b[39mfunction_type\u001b[38;5;241m.\u001b[39munpack_inputs(bound_args)\n",
      "File \u001b[1;32mc:\\Users\\amusali\\Desktop\\uc3m PhD\\venv\\Lib\\site-packages\\tensorflow\\python\\eager\\polymorphic_function\\function_type_utils.py:422\u001b[0m, in \u001b[0;36mcanonicalize_function_inputs\u001b[1;34m(args, kwargs, function_type, default_values, is_pure)\u001b[0m\n\u001b[0;32m    421\u001b[0m   args, kwargs \u001b[38;5;241m=\u001b[39m _convert_variables_to_tensors(args, kwargs)\n\u001b[1;32m--> 422\u001b[0m bound_arguments \u001b[38;5;241m=\u001b[39m \u001b[43mbind_function_inputs\u001b[49m\u001b[43m(\u001b[49m\n\u001b[0;32m    423\u001b[0m \u001b[43m    \u001b[49m\u001b[43margs\u001b[49m\u001b[43m,\u001b[49m\u001b[43m \u001b[49m\u001b[43mkwargs\u001b[49m\u001b[43m,\u001b[49m\u001b[43m \u001b[49m\u001b[43mfunction_type\u001b[49m\u001b[43m,\u001b[49m\u001b[43m \u001b[49m\u001b[43mdefault_values\u001b[49m\n\u001b[0;32m    424\u001b[0m \u001b[43m\u001b[49m\u001b[43m)\u001b[49m\n\u001b[0;32m    425\u001b[0m \u001b[38;5;28;01mreturn\u001b[39;00m bound_arguments\n",
      "File \u001b[1;32mc:\\Users\\amusali\\Desktop\\uc3m PhD\\venv\\Lib\\site-packages\\tensorflow\\python\\eager\\polymorphic_function\\function_type_utils.py:446\u001b[0m, in \u001b[0;36mbind_function_inputs\u001b[1;34m(args, kwargs, function_type, default_values)\u001b[0m\n\u001b[0;32m    445\u001b[0m \u001b[38;5;28;01mexcept\u001b[39;00m \u001b[38;5;167;01mException\u001b[39;00m \u001b[38;5;28;01mas\u001b[39;00m e:\n\u001b[1;32m--> 446\u001b[0m   \u001b[38;5;28;01mraise\u001b[39;00m \u001b[38;5;167;01mTypeError\u001b[39;00m(\n\u001b[0;32m    447\u001b[0m       \u001b[38;5;124mf\u001b[39m\u001b[38;5;124m\"\u001b[39m\u001b[38;5;124mBinding inputs to tf.function failed due to `\u001b[39m\u001b[38;5;132;01m{\u001b[39;00me\u001b[38;5;132;01m}\u001b[39;00m\u001b[38;5;124m`. \u001b[39m\u001b[38;5;124m\"\u001b[39m\n\u001b[0;32m    448\u001b[0m       \u001b[38;5;124mf\u001b[39m\u001b[38;5;124m\"\u001b[39m\u001b[38;5;124mReceived args: \u001b[39m\u001b[38;5;132;01m{\u001b[39;00margs\u001b[38;5;132;01m}\u001b[39;00m\u001b[38;5;124m and kwargs: \u001b[39m\u001b[38;5;132;01m{\u001b[39;00msanitized_kwargs\u001b[38;5;132;01m}\u001b[39;00m\u001b[38;5;124m for signature:\u001b[39m\u001b[38;5;124m\"\u001b[39m\n\u001b[0;32m    449\u001b[0m       \u001b[38;5;124mf\u001b[39m\u001b[38;5;124m\"\u001b[39m\u001b[38;5;124m \u001b[39m\u001b[38;5;132;01m{\u001b[39;00mfunction_type\u001b[38;5;132;01m}\u001b[39;00m\u001b[38;5;124m.\u001b[39m\u001b[38;5;124m\"\u001b[39m\n\u001b[0;32m    450\u001b[0m   ) \u001b[38;5;28;01mfrom\u001b[39;00m \u001b[38;5;21;01me\u001b[39;00m\n\u001b[0;32m    451\u001b[0m \u001b[38;5;28;01mreturn\u001b[39;00m bound_arguments\n",
      "\u001b[1;31mTypeError\u001b[0m: Binding inputs to tf.function failed due to `got an unexpected keyword argument 'segment_ids'`. Received args: () and kwargs: {'segment_ids': <tf.Tensor: shape=(1, 512), dtype=int64, numpy=\narray([[0, 0, 0, 0, 0, 0, 0, 0, 0, 0, 0, 0, 0, 0, 0, 0, 0, 0, 0, 0, 0, 0,\n        0, 0, 0, 0, 0, 0, 0, 0, 0, 0, 0, 0, 0, 0, 0, 0, 0, 0, 0, 0, 0, 0,\n        0, 0, 0, 0, 0, 0, 0, 0, 0, 0, 0, 0, 0, 0, 0, 0, 0, 0, 0, 0, 0, 0,\n        0, 0, 0, 0, 0, 0, 0, 0, 0, 0, 0, 0, 0, 0, 0, 0, 0, 0, 0, 0, 0, 0,\n        0, 0, 0, 0, 0, 0, 0, 0, 0, 0, 0, 0, 0, 0, 0, 0, 0, 0, 0, 0, 0, 0,\n        0, 0, 0, 0, 0, 0, 0, 0, 0, 0, 0, 0, 0, 0, 0, 0, 0, 0, 0, 0, 0, 0,\n        0, 0, 0, 0, 0, 0, 0, 0, 0, 0, 0, 0, 0, 0, 0, 0, 0, 0, 0, 0, 0, 0,\n        0, 0, 0, 0, 0, 0, 0, 0, 0, 0, 0, 0, 0, 0, 0, 0, 0, 0, 0, 0, 0, 0,\n        0, 0, 0, 0, 0, 0, 0, 0, 0, 0, 0, 0, 0, 0, 0, 0, 0, 0, 0, 0, 0, 0,\n        0, 0, 0, 0, 0, 0, 0, 0, 0, 0, 0, 0, 0, 0, 0, 0, 0, 0, 0, 0, 0, 0,\n        0, 0, 0, 0, 0, 0, 0, 0, 0, 0, 0, 0, 0, 0, 0, 0, 0, 0, 0, 0, 0, 0,\n        0, 0, 0, 0, 0, 0, 0, 0, 0, 0, 0, 0, 0, 0, 0, 0, 0, 0, 0, 0, 0, 0,\n        0, 0, 0, 0, 0, 0, 0, 0, 0, 0, 0, 0, 0, 0, 0, 0, 0, 0, 0, 0, 0, 0,\n        0, 0, 0, 0, 0, 0, 0, 0, 0, 0, 0, 0, 0, 0, 0, 0, 0, 0, 0, 0, 0, 0,\n        0, 0, 0, 0, 0, 0, 0, 0, 0, 0, 0, 0, 0, 0, 0, 0, 0, 0, 0, 0, 0, 0,\n        0, 0, 0, 0, 0, 0, 0, 0, 0, 0, 0, 0, 0, 0, 0, 0, 0, 0, 0, 0, 0, 0,\n        0, 0, 0, 0, 0, 0, 0, 0, 0, 0, 0, 0, 0, 0, 0, 0, 0, 0, 0, 0, 0, 0,\n        0, 0, 0, 0, 0, 0, 0, 0, 0, 0, 0, 0, 0, 0, 0, 0, 0, 0, 0, 0, 0, 0,\n        0, 0, 0, 0, 0, 0, 0, 0, 0, 0, 0, 0, 0, 0, 0, 0, 0, 0, 0, 0, 0, 0,\n        0, 0, 0, 0, 0, 0, 0, 0, 0, 0, 0, 0, 0, 0, 0, 0, 0, 0, 0, 0, 0, 0,\n        0, 0, 0, 0, 0, 0, 0, 0, 0, 0, 0, 0, 0, 0, 0, 0, 0, 0, 0, 0, 0, 0,\n        0, 0, 0, 0, 0, 0, 0, 0, 0, 0, 0, 0, 0, 0, 0, 0, 0, 0, 0, 0, 0, 0,\n        0, 0, 0, 0, 0, 0, 0, 0, 0, 0, 0, 0, 0, 0, 0, 0, 0, 0, 0, 0, 0, 0,\n        0, 0, 0, 0, 0, 0]], dtype=int64)>, 'input_mask': <tf.Tensor: shape=(1, 512), dtype=int64, numpy=\narray([[1, 1, 1, 1, 1, 1, 1, 1, 1, 1, 1, 1, 1, 1, 1, 1, 1, 1, 1, 1, 1, 1,\n        1, 1, 1, 1, 1, 1, 1, 1, 1, 1, 1, 1, 1, 1, 1, 1, 1, 1, 1, 1, 1, 1,\n        1, 1, 1, 1, 1, 1, 1, 1, 1, 1, 1, 1, 1, 1, 1, 1, 1, 1, 1, 1, 1, 1,\n        1, 1, 1, 1, 1, 1, 1, 1, 1, 1, 1, 1, 1, 1, 1, 1, 1, 1, 1, 1, 1, 1,\n        1, 1, 1, 1, 1, 1, 1, 1, 1, 1, 1, 1, 1, 1, 1, 1, 1, 1, 1, 1, 1, 1,\n        1, 1, 1, 1, 1, 1, 1, 1, 1, 1, 1, 1, 1, 1, 1, 1, 1, 1, 1, 1, 1, 1,\n        1, 1, 1, 1, 1, 1, 1, 1, 1, 1, 1, 1, 1, 1, 1, 1, 1, 1, 1, 1, 1, 1,\n        1, 1, 1, 1, 1, 1, 1, 0, 0, 0, 0, 0, 0, 0, 0, 0, 0, 0, 0, 0, 0, 0,\n        0, 0, 0, 0, 0, 0, 0, 0, 0, 0, 0, 0, 0, 0, 0, 0, 0, 0, 0, 0, 0, 0,\n        0, 0, 0, 0, 0, 0, 0, 0, 0, 0, 0, 0, 0, 0, 0, 0, 0, 0, 0, 0, 0, 0,\n        0, 0, 0, 0, 0, 0, 0, 0, 0, 0, 0, 0, 0, 0, 0, 0, 0, 0, 0, 0, 0, 0,\n        0, 0, 0, 0, 0, 0, 0, 0, 0, 0, 0, 0, 0, 0, 0, 0, 0, 0, 0, 0, 0, 0,\n        0, 0, 0, 0, 0, 0, 0, 0, 0, 0, 0, 0, 0, 0, 0, 0, 0, 0, 0, 0, 0, 0,\n        0, 0, 0, 0, 0, 0, 0, 0, 0, 0, 0, 0, 0, 0, 0, 0, 0, 0, 0, 0, 0, 0,\n        0, 0, 0, 0, 0, 0, 0, 0, 0, 0, 0, 0, 0, 0, 0, 0, 0, 0, 0, 0, 0, 0,\n        0, 0, 0, 0, 0, 0, 0, 0, 0, 0, 0, 0, 0, 0, 0, 0, 0, 0, 0, 0, 0, 0,\n        0, 0, 0, 0, 0, 0, 0, 0, 0, 0, 0, 0, 0, 0, 0, 0, 0, 0, 0, 0, 0, 0,\n        0, 0, 0, 0, 0, 0, 0, 0, 0, 0, 0, 0, 0, 0, 0, 0, 0, 0, 0, 0, 0, 0,\n        0, 0, 0, 0, 0, 0, 0, 0, 0, 0, 0, 0, 0, 0, 0, 0, 0, 0, 0, 0, 0, 0,\n        0, 0, 0, 0, 0, 0, 0, 0, 0, 0, 0, 0, 0, 0, 0, 0, 0, 0, 0, 0, 0, 0,\n        0, 0, 0, 0, 0, 0, 0, 0, 0, 0, 0, 0, 0, 0, 0, 0, 0, 0, 0, 0, 0, 0,\n        0, 0, 0, 0, 0, 0, 0, 0, 0, 0, 0, 0, 0, 0, 0, 0, 0, 0, 0, 0, 0, 0,\n        0, 0, 0, 0, 0, 0, 0, 0, 0, 0, 0, 0, 0, 0, 0, 0, 0, 0, 0, 0, 0, 0,\n        0, 0, 0, 0, 0, 0]], dtype=int64)>, 'input_ids': <tf.Tensor: shape=(1, 512), dtype=int64, numpy=\narray([[    2,  9726,  1042,  3783,  1662,  2504,  4703,  1670,  1042,\n         2832,  9463,  4745,  9270,  1042,  4975,  7943,  4879,  1662,\n         4574, 20072,  1673,  1689,  1665,  1687,  3523,  1748,  2616,\n         7618,  2630,  1694,  1689, 31934,  1665, 31221,  1015, 10075,\n         1695,  1042, 31234,  7618,  1015,  1721,  4745,  1773,  5632,\n         1665, 10621,  1042,  6977,  1664,  1661,  1858,  1662,  3223,\n         2810,  1740,  4171,  1015, 14800,  4171,  1695, 17992,  2888,\n         1665,  3108,  1042,  2616,  4829,  1665,  2290,  1749,  1661,\n         1858,  1662,  3159,  1971,  1721,  2616,  4829,  1029, 23642,\n         1042,  1940,  1662,  2616,  7482,  1834,  1672,  1042,  9135,\n        16910,  3043, 29877,  1015, 16391,  1661, 16910,  1668,  1042,\n         5133,  1662,  1042, 28683,  1662, 16607,  3043,  1672,  1661,\n         2616,  4829,  1030, 14287,  1684,  2389,  1030,  2224,  1704,\n         1661,  1752,  3162,  4410,  2616,  4829,  1665,  3247,  1661,\n         2389,  1678,  1661,  1940,  1662,  2616,  7482,  1906,  1671,\n         1693,  1695,  1727,  1662,  1661, 28683,  1662, 16607,  1030,\n        12728,  1661,  2616,  7482,  1670,  4318,  1906,  1671,  1661,\n         9135, 16910,  1662,  1673,  2616,  4829,  1017,     3,     0,\n            0,     0,     0,     0,     0,     0,     0,     0,     0,\n            0,     0,     0,     0,     0,     0,     0,     0,     0,\n            0,     0,     0,     0,     0,     0,     0,     0,     0,\n            0,     0,     0,     0,     0,     0,     0,     0,     0,\n            0,     0,     0,     0,     0,     0,     0,     0,     0,\n            0,     0,     0,     0,     0,     0,     0,     0,     0,\n            0,     0,     0,     0,     0,     0,     0,     0,     0,\n            0,     0,     0,     0,     0,     0,     0,     0,     0,\n            0,     0,     0,     0,     0,     0,     0,     0,     0,\n            0,     0,     0,     0,     0,     0,     0,     0,     0,\n            0,     0,     0,     0,     0,     0,     0,     0,     0,\n            0,     0,     0,     0,     0,     0,     0,     0,     0,\n            0,     0,     0,     0,     0,     0,     0,     0,     0,\n            0,     0,     0,     0,     0,     0,     0,     0,     0,\n            0,     0,     0,     0,     0,     0,     0,     0,     0,\n            0,     0,     0,     0,     0,     0,     0,     0,     0,\n            0,     0,     0,     0,     0,     0,     0,     0,     0,\n            0,     0,     0,     0,     0,     0,     0,     0,     0,\n            0,     0,     0,     0,     0,     0,     0,     0,     0,\n            0,     0,     0,     0,     0,     0,     0,     0,     0,\n            0,     0,     0,     0,     0,     0,     0,     0,     0,\n            0,     0,     0,     0,     0,     0,     0,     0,     0,\n            0,     0,     0,     0,     0,     0,     0,     0,     0,\n            0,     0,     0,     0,     0,     0,     0,     0,     0,\n            0,     0,     0,     0,     0,     0,     0,     0,     0,\n            0,     0,     0,     0,     0,     0,     0,     0,     0,\n            0,     0,     0,     0,     0,     0,     0,     0,     0,\n            0,     0,     0,     0,     0,     0,     0,     0,     0,\n            0,     0,     0,     0,     0,     0,     0,     0,     0,\n            0,     0,     0,     0,     0,     0,     0,     0,     0,\n            0,     0,     0,     0,     0,     0,     0,     0,     0,\n            0,     0,     0,     0,     0,     0,     0,     0,     0,\n            0,     0,     0,     0,     0,     0,     0,     0,     0,\n            0,     0,     0,     0,     0,     0,     0,     0,     0,\n            0,     0,     0,     0,     0,     0,     0,     0,     0,\n            0,     0,     0,     0,     0,     0,     0,     0,     0,\n            0,     0,     0,     0,     0,     0,     0,     0,     0,\n            0,     0,     0,     0,     0,     0,     0,     0,     0,\n            0,     0,     0,     0,     0,     0,     0,     0]],\n      dtype=int64)>, 'mlm_positions': <tf.Tensor: shape=(0,), dtype=int64, numpy=array([], dtype=int64)>} for signature: () -> Dict[['mlm_logits', TensorSpec(shape=(None, 39859), dtype=tf.float32, name=None)], ['cls_token', TensorSpec(shape=(None, 1024), dtype=tf.float32, name=None)], ['encoder_layer', TensorSpec(shape=(None, 512, 1024), dtype=tf.float32, name=None)], ['next_sentence_logits', TensorSpec(shape=(None, 2), dtype=tf.float32, name=None)]].",
      "\nDuring handling of the above exception, another exception occurred:\n",
      "\u001b[1;31mKeyboardInterrupt\u001b[0m                         Traceback (most recent call last)",
      "Cell \u001b[1;32mIn[32], line 9\u001b[0m\n\u001b[0;32m      6\u001b[0m importlib\u001b[38;5;241m.\u001b[39mreload(api\u001b[38;5;241m.\u001b[39mfetch_patents)\n\u001b[0;32m      7\u001b[0m importlib\u001b[38;5;241m.\u001b[39mreload(fsp)\n\u001b[1;32m----> 9\u001b[0m target_abstract, closest_abstract \u001b[38;5;241m=\u001b[39m \u001b[43mfsp\u001b[49m\u001b[38;5;241;43m.\u001b[39;49m\u001b[43mfind_the_closest_abstract_excerpt\u001b[49m\u001b[43m(\u001b[49m\u001b[43mpatent\u001b[49m\u001b[43m,\u001b[49m\u001b[43m \u001b[49m\u001b[43mgroup_only\u001b[49m\u001b[38;5;241;43m=\u001b[39;49m\u001b[38;5;28;43;01mTrue\u001b[39;49;00m\u001b[43m,\u001b[49m\u001b[43m \u001b[49m\u001b[43mfilter_tfidf\u001b[49m\u001b[38;5;241;43m=\u001b[39;49m\u001b[38;5;28;43;01mTrue\u001b[39;49;00m\u001b[43m)\u001b[49m\n\u001b[0;32m     10\u001b[0m \u001b[38;5;28mprint\u001b[39m(\u001b[38;5;124m'\u001b[39m\u001b[38;5;124mTarget abstract\u001b[39m\u001b[38;5;124m'\u001b[39m, target_abstract)\n\u001b[0;32m     11\u001b[0m \u001b[38;5;28mprint\u001b[39m(\u001b[38;5;124m'\u001b[39m\u001b[38;5;124mClosest abstract\u001b[39m\u001b[38;5;124m'\u001b[39m, closest_abstract)\n",
      "File \u001b[1;32m~\\Desktop\\uc3m PhD\\05 Analysis\\01 Main\\api\\find_similar_patents.py:104\u001b[0m, in \u001b[0;36mfind_the_closest_abstract_excerpt\u001b[1;34m(patent, group_only, filter_tfidf)\u001b[0m\n\u001b[0;32m    103\u001b[0m \u001b[38;5;28;01mdef\u001b[39;00m \u001b[38;5;21mfind_the_closest_abstract_excerpt\u001b[39m(patent, group_only, filter_tfidf):\n\u001b[1;32m--> 104\u001b[0m     own, against, patents \u001b[38;5;241m=\u001b[39m \u001b[43mget_embedding_of_target_and_field\u001b[49m\u001b[43m(\u001b[49m\u001b[43mpatent\u001b[49m\u001b[43m,\u001b[49m\u001b[43m \u001b[49m\u001b[43mgroup_only\u001b[49m\u001b[43m,\u001b[49m\u001b[43m \u001b[49m\u001b[43mfilter_tfidf\u001b[49m\u001b[43m)\u001b[49m\n\u001b[0;32m    105\u001b[0m     dist_eu, index_eu, dist_cs, index_cs \u001b[38;5;241m=\u001b[39m find_distances(own, against)\n\u001b[0;32m    107\u001b[0m     \u001b[38;5;28;01mif\u001b[39;00m index_cs \u001b[38;5;241m!=\u001b[39m index_eu:\n",
      "File \u001b[1;32m~\\Desktop\\uc3m PhD\\05 Analysis\\01 Main\\api\\find_similar_patents.py:96\u001b[0m, in \u001b[0;36mget_embedding_of_target_and_field\u001b[1;34m(patent, group_only, filter_tfidf)\u001b[0m\n\u001b[0;32m     82\u001b[0m \u001b[38;5;250m\u001b[39m\u001b[38;5;124;03m\"\"\"\u001b[39;00m\n\u001b[0;32m     83\u001b[0m \u001b[38;5;124;03mInput: A patent which is dictionary with following keys:\u001b[39;00m\n\u001b[0;32m     84\u001b[0m \u001b[38;5;124;03m    - patent_id - str\u001b[39;00m\n\u001b[1;32m   (...)\u001b[0m\n\u001b[0;32m     92\u001b[0m \n\u001b[0;32m     93\u001b[0m \u001b[38;5;124;03m\"\"\"\u001b[39;00m\n\u001b[0;32m     95\u001b[0m \u001b[38;5;66;03m## Get abstract embeddings to compare against\u001b[39;00m\n\u001b[1;32m---> 96\u001b[0m embd_of_to_compare_against, patents_to_compare_against \u001b[38;5;241m=\u001b[39m \u001b[43mget_embeddings_from_field\u001b[49m\u001b[43m(\u001b[49m\u001b[43mpatent\u001b[49m\u001b[43m,\u001b[49m\u001b[43m \u001b[49m\u001b[43mfilter_tfidf\u001b[49m\u001b[43m,\u001b[49m\u001b[43m \u001b[49m\u001b[43mgroup_only\u001b[49m\u001b[43m)\u001b[49m\n\u001b[0;32m     98\u001b[0m \u001b[38;5;66;03m## Get own abstract embedding\u001b[39;00m\n\u001b[0;32m     99\u001b[0m embd_of_patent_being_compared \u001b[38;5;241m=\u001b[39m be\u001b[38;5;241m.\u001b[39mget_embd_of_whole_abstract(patent[\u001b[38;5;124m'\u001b[39m\u001b[38;5;124mabstract\u001b[39m\u001b[38;5;124m'\u001b[39m], has_context_token\u001b[38;5;241m=\u001b[39m\u001b[38;5;28;01mTrue\u001b[39;00m)\n",
      "File \u001b[1;32m~\\Desktop\\uc3m PhD\\05 Analysis\\01 Main\\api\\find_similar_patents.py:75\u001b[0m, in \u001b[0;36mget_embeddings_from_field\u001b[1;34m(patent, filter_tfidf, group_only, assignee_file)\u001b[0m\n\u001b[0;32m     73\u001b[0m docs_embeddings \u001b[38;5;241m=\u001b[39m []\n\u001b[0;32m     74\u001b[0m \u001b[38;5;28;01mfor\u001b[39;00m \u001b[38;5;28mabs\u001b[39m \u001b[38;5;129;01min\u001b[39;00m filtered_abstracts:\n\u001b[1;32m---> 75\u001b[0m     docs_embeddings\u001b[38;5;241m.\u001b[39mappend(\u001b[43mbe\u001b[49m\u001b[38;5;241;43m.\u001b[39;49m\u001b[43mget_embd_of_whole_abstract\u001b[49m\u001b[43m(\u001b[49m\u001b[38;5;28;43mabs\u001b[39;49m\u001b[43m,\u001b[49m\u001b[43m \u001b[49m\u001b[43mhas_context_token\u001b[49m\u001b[38;5;241;43m=\u001b[39;49m\u001b[38;5;28;43;01mTrue\u001b[39;49;00m\u001b[43m)\u001b[49m)\n\u001b[0;32m     77\u001b[0m \u001b[38;5;28;01mreturn\u001b[39;00m docs_embeddings, filtered_abstracts\n",
      "File \u001b[1;32m~\\Desktop\\uc3m PhD\\05 Analysis\\01 Main\\api\\bertembeddings.py:95\u001b[0m, in \u001b[0;36mget_embd_of_whole_abstract\u001b[1;34m(abstracts, return_cls_embedding, has_context_token)\u001b[0m\n\u001b[0;32m     92\u001b[0m     context_tokens \u001b[38;5;241m=\u001b[39m []\n\u001b[0;32m     94\u001b[0m \u001b[38;5;66;03m## Predict -- get embeddings for the batch of abstracts\u001b[39;00m\n\u001b[1;32m---> 95\u001b[0m response \u001b[38;5;241m=\u001b[39m \u001b[43mbert_predictor\u001b[49m\u001b[38;5;241;43m.\u001b[39;49m\u001b[43mpredict\u001b[49m\u001b[43m(\u001b[49m\n\u001b[0;32m     96\u001b[0m \u001b[43m    \u001b[49m\u001b[43mabstracts\u001b[49m\u001b[43m,\u001b[49m\u001b[43m \u001b[49m\u001b[43mcontext_tokens\u001b[49m\u001b[38;5;241;43m=\u001b[39;49m\u001b[43mcontext_tokens\u001b[49m\u001b[43m \u001b[49m\u001b[38;5;241;43m*\u001b[39;49m\u001b[43m \u001b[49m\u001b[38;5;28;43mlen\u001b[39;49m\u001b[43m(\u001b[49m\u001b[43mabstracts\u001b[49m\u001b[43m)\u001b[49m\u001b[43m)\u001b[49m\n\u001b[0;32m     98\u001b[0m \u001b[38;5;66;03m# Collect the CLS embeddings for each abstract in the batch\u001b[39;00m\n\u001b[0;32m     99\u001b[0m cls_token_embeddings \u001b[38;5;241m=\u001b[39m response[\u001b[38;5;241m0\u001b[39m][\u001b[38;5;124m'\u001b[39m\u001b[38;5;124mcls_token\u001b[39m\u001b[38;5;124m'\u001b[39m]\u001b[38;5;241m.\u001b[39mnumpy()\u001b[38;5;241m.\u001b[39mreshape(\u001b[38;5;241m-\u001b[39m\u001b[38;5;241m1\u001b[39m)  \u001b[38;5;66;03m# Shape will be (batch_size, 1024)\u001b[39;00m\n",
      "File \u001b[1;32m~\\Desktop\\uc3m PhD\\05 Analysis\\01 Main\\api\\bertfns.py:269\u001b[0m, in \u001b[0;36mBertPredictor.predict\u001b[1;34m(self, texts, mlm_ids, context_tokens)\u001b[0m\n\u001b[0;32m    265\u001b[0m   inputs \u001b[38;5;241m=\u001b[39m \u001b[38;5;28mself\u001b[39m\u001b[38;5;241m.\u001b[39madd_input_context(inputs, context_tokens)\n\u001b[0;32m    267\u001b[0m inputs, masked_text \u001b[38;5;241m=\u001b[39m \u001b[38;5;28mself\u001b[39m\u001b[38;5;241m.\u001b[39mcreate_mlm_mask(inputs, mlm_ids)\n\u001b[1;32m--> 269\u001b[0m response \u001b[38;5;241m=\u001b[39m \u001b[38;5;28;43mself\u001b[39;49m\u001b[38;5;241;43m.\u001b[39;49m\u001b[43mmodel\u001b[49m\u001b[43m(\u001b[49m\n\u001b[0;32m    270\u001b[0m \u001b[43m  \u001b[49m\u001b[43msegment_ids\u001b[49m\u001b[38;5;241;43m=\u001b[39;49m\u001b[43mtf\u001b[49m\u001b[38;5;241;43m.\u001b[39;49m\u001b[43mconvert_to_tensor\u001b[49m\u001b[43m(\u001b[49m\u001b[43minputs\u001b[49m\u001b[43m[\u001b[49m\u001b[38;5;124;43m'\u001b[39;49m\u001b[38;5;124;43msegment_ids\u001b[39;49m\u001b[38;5;124;43m'\u001b[39;49m\u001b[43m]\u001b[49m\u001b[43m,\u001b[49m\u001b[43m \u001b[49m\u001b[43mdtype\u001b[49m\u001b[38;5;241;43m=\u001b[39;49m\u001b[43mtf\u001b[49m\u001b[38;5;241;43m.\u001b[39;49m\u001b[43mint64\u001b[49m\u001b[43m)\u001b[49m\u001b[43m,\u001b[49m\n\u001b[0;32m    271\u001b[0m \u001b[43m  \u001b[49m\u001b[43minput_mask\u001b[49m\u001b[38;5;241;43m=\u001b[39;49m\u001b[43mtf\u001b[49m\u001b[38;5;241;43m.\u001b[39;49m\u001b[43mconvert_to_tensor\u001b[49m\u001b[43m(\u001b[49m\u001b[43minputs\u001b[49m\u001b[43m[\u001b[49m\u001b[38;5;124;43m'\u001b[39;49m\u001b[38;5;124;43minput_mask\u001b[39;49m\u001b[38;5;124;43m'\u001b[39;49m\u001b[43m]\u001b[49m\u001b[43m,\u001b[49m\u001b[43m \u001b[49m\u001b[43mdtype\u001b[49m\u001b[38;5;241;43m=\u001b[39;49m\u001b[43mtf\u001b[49m\u001b[38;5;241;43m.\u001b[39;49m\u001b[43mint64\u001b[49m\u001b[43m)\u001b[49m\u001b[43m,\u001b[49m\n\u001b[0;32m    272\u001b[0m \u001b[43m  \u001b[49m\u001b[43minput_ids\u001b[49m\u001b[38;5;241;43m=\u001b[39;49m\u001b[43mtf\u001b[49m\u001b[38;5;241;43m.\u001b[39;49m\u001b[43mconvert_to_tensor\u001b[49m\u001b[43m(\u001b[49m\u001b[43minputs\u001b[49m\u001b[43m[\u001b[49m\u001b[38;5;124;43m'\u001b[39;49m\u001b[38;5;124;43minput_ids\u001b[39;49m\u001b[38;5;124;43m'\u001b[39;49m\u001b[43m]\u001b[49m\u001b[43m,\u001b[49m\u001b[43m \u001b[49m\u001b[43mdtype\u001b[49m\u001b[38;5;241;43m=\u001b[39;49m\u001b[43mtf\u001b[49m\u001b[38;5;241;43m.\u001b[39;49m\u001b[43mint64\u001b[49m\u001b[43m)\u001b[49m\u001b[43m,\u001b[49m\n\u001b[0;32m    273\u001b[0m \u001b[43m  \u001b[49m\u001b[43mmlm_positions\u001b[49m\u001b[38;5;241;43m=\u001b[39;49m\u001b[43mtf\u001b[49m\u001b[38;5;241;43m.\u001b[39;49m\u001b[43mconvert_to_tensor\u001b[49m\u001b[43m(\u001b[49m\u001b[43minputs\u001b[49m\u001b[43m[\u001b[49m\u001b[38;5;124;43m'\u001b[39;49m\u001b[38;5;124;43mmlm_ids\u001b[39;49m\u001b[38;5;124;43m'\u001b[39;49m\u001b[43m]\u001b[49m\u001b[43m,\u001b[49m\u001b[43m \u001b[49m\u001b[43mdtype\u001b[49m\u001b[38;5;241;43m=\u001b[39;49m\u001b[43mtf\u001b[49m\u001b[38;5;241;43m.\u001b[39;49m\u001b[43mint64\u001b[49m\u001b[43m)\u001b[49m\u001b[43m,\u001b[49m\n\u001b[0;32m    274\u001b[0m \u001b[43m  \u001b[49m\u001b[43m)\u001b[49m\n\u001b[0;32m    276\u001b[0m \u001b[38;5;28;01mif\u001b[39;00m mlm_ids:\n\u001b[0;32m    277\u001b[0m   \u001b[38;5;66;03m# Do a reshape of the mlm logits (batch size, num predictions, vocab).\u001b[39;00m\n\u001b[0;32m    278\u001b[0m   new_shape \u001b[38;5;241m=\u001b[39m (\u001b[38;5;28mlen\u001b[39m(texts), \u001b[38;5;28mself\u001b[39m\u001b[38;5;241m.\u001b[39mmax_preds_per_seq, \u001b[38;5;241m-\u001b[39m\u001b[38;5;241m1\u001b[39m)\n",
      "File \u001b[1;32mc:\\Users\\amusali\\Desktop\\uc3m PhD\\venv\\Lib\\site-packages\\tensorflow\\python\\eager\\polymorphic_function\\concrete_function.py:1170\u001b[0m, in \u001b[0;36mConcreteFunction.__call__\u001b[1;34m(self, *args, **kwargs)\u001b[0m\n\u001b[0;32m   1120\u001b[0m \u001b[38;5;28;01mdef\u001b[39;00m \u001b[38;5;21m__call__\u001b[39m(\u001b[38;5;28mself\u001b[39m, \u001b[38;5;241m*\u001b[39margs, \u001b[38;5;241m*\u001b[39m\u001b[38;5;241m*\u001b[39mkwargs):\n\u001b[0;32m   1121\u001b[0m \u001b[38;5;250m  \u001b[39m\u001b[38;5;124;03m\"\"\"Executes the wrapped function.\u001b[39;00m\n\u001b[0;32m   1122\u001b[0m \n\u001b[0;32m   1123\u001b[0m \u001b[38;5;124;03m  ConcreteFunctions have two signatures:\u001b[39;00m\n\u001b[1;32m   (...)\u001b[0m\n\u001b[0;32m   1168\u001b[0m \u001b[38;5;124;03m    TypeError: If the arguments do not match the function's signature.\u001b[39;00m\n\u001b[0;32m   1169\u001b[0m \u001b[38;5;124;03m  \"\"\"\u001b[39;00m\n\u001b[1;32m-> 1170\u001b[0m   \u001b[38;5;28;01mreturn\u001b[39;00m \u001b[38;5;28;43mself\u001b[39;49m\u001b[38;5;241;43m.\u001b[39;49m\u001b[43m_call_impl\u001b[49m\u001b[43m(\u001b[49m\u001b[43margs\u001b[49m\u001b[43m,\u001b[49m\u001b[43m \u001b[49m\u001b[43mkwargs\u001b[49m\u001b[43m)\u001b[49m\n",
      "File \u001b[1;32mc:\\Users\\amusali\\Desktop\\uc3m PhD\\venv\\Lib\\site-packages\\tensorflow\\python\\eager\\wrap_function.py:253\u001b[0m, in \u001b[0;36mWrappedFunction._call_impl\u001b[1;34m(self, args, kwargs)\u001b[0m\n\u001b[0;32m    251\u001b[0m   \u001b[38;5;28;01mreturn\u001b[39;00m \u001b[38;5;28mself\u001b[39m\u001b[38;5;241m.\u001b[39m_call_flat(args, \u001b[38;5;28mself\u001b[39m\u001b[38;5;241m.\u001b[39mcaptured_inputs)\n\u001b[0;32m    252\u001b[0m \u001b[38;5;28;01melse\u001b[39;00m:\n\u001b[1;32m--> 253\u001b[0m   \u001b[38;5;28;01mreturn\u001b[39;00m \u001b[38;5;28;43msuper\u001b[39;49m\u001b[43m(\u001b[49m\u001b[43m)\u001b[49m\u001b[38;5;241;43m.\u001b[39;49m\u001b[43m_call_impl\u001b[49m\u001b[43m(\u001b[49m\u001b[43margs\u001b[49m\u001b[43m,\u001b[49m\u001b[43m \u001b[49m\u001b[43mkwargs\u001b[49m\u001b[43m)\u001b[49m\n",
      "File \u001b[1;32mc:\\Users\\amusali\\Desktop\\uc3m PhD\\venv\\Lib\\site-packages\\tensorflow\\python\\eager\\polymorphic_function\\concrete_function.py:1182\u001b[0m, in \u001b[0;36mConcreteFunction._call_impl\u001b[1;34m(self, args, kwargs)\u001b[0m\n\u001b[0;32m   1180\u001b[0m \u001b[38;5;28;01mexcept\u001b[39;00m \u001b[38;5;167;01mTypeError\u001b[39;00m \u001b[38;5;28;01mas\u001b[39;00m structured_err:\n\u001b[0;32m   1181\u001b[0m   \u001b[38;5;28;01mtry\u001b[39;00m:\n\u001b[1;32m-> 1182\u001b[0m     \u001b[38;5;28;01mreturn\u001b[39;00m \u001b[38;5;28;43mself\u001b[39;49m\u001b[38;5;241;43m.\u001b[39;49m\u001b[43m_call_with_flat_signature\u001b[49m\u001b[43m(\u001b[49m\u001b[43margs\u001b[49m\u001b[43m,\u001b[49m\u001b[43m \u001b[49m\u001b[43mkwargs\u001b[49m\u001b[43m)\u001b[49m\n\u001b[0;32m   1183\u001b[0m   \u001b[38;5;28;01mexcept\u001b[39;00m (\u001b[38;5;167;01mTypeError\u001b[39;00m, \u001b[38;5;167;01mValueError\u001b[39;00m) \u001b[38;5;28;01mas\u001b[39;00m flat_err:\n\u001b[0;32m   1184\u001b[0m     \u001b[38;5;28;01mraise\u001b[39;00m \u001b[38;5;167;01mTypeError\u001b[39;00m(  \u001b[38;5;66;03m# pylint: disable=raise-missing-from\u001b[39;00m\n\u001b[0;32m   1185\u001b[0m         \u001b[38;5;28mstr\u001b[39m(structured_err)\n\u001b[0;32m   1186\u001b[0m         \u001b[38;5;241m+\u001b[39m \u001b[38;5;124m\"\u001b[39m\u001b[38;5;130;01m\\n\u001b[39;00m\u001b[38;5;124mFallback to flat signature also failed due to: \u001b[39m\u001b[38;5;124m\"\u001b[39m\n\u001b[0;32m   1187\u001b[0m         \u001b[38;5;241m+\u001b[39m \u001b[38;5;28mstr\u001b[39m(flat_err)\n\u001b[0;32m   1188\u001b[0m     )\n",
      "File \u001b[1;32mc:\\Users\\amusali\\Desktop\\uc3m PhD\\venv\\Lib\\site-packages\\tensorflow\\python\\eager\\polymorphic_function\\concrete_function.py:1242\u001b[0m, in \u001b[0;36mConcreteFunction._call_with_flat_signature\u001b[1;34m(self, args, kwargs)\u001b[0m\n\u001b[0;32m   1237\u001b[0m   \u001b[38;5;28;01mif\u001b[39;00m \u001b[38;5;129;01mnot\u001b[39;00m \u001b[38;5;28misinstance\u001b[39m(\n\u001b[0;32m   1238\u001b[0m       arg, (tensor_lib\u001b[38;5;241m.\u001b[39mTensor, resource_variable_ops\u001b[38;5;241m.\u001b[39mBaseResourceVariable)):\n\u001b[0;32m   1239\u001b[0m     \u001b[38;5;28;01mraise\u001b[39;00m \u001b[38;5;167;01mTypeError\u001b[39;00m(\u001b[38;5;124mf\u001b[39m\u001b[38;5;124m\"\u001b[39m\u001b[38;5;132;01m{\u001b[39;00m\u001b[38;5;28mself\u001b[39m\u001b[38;5;241m.\u001b[39m_flat_signature_summary()\u001b[38;5;132;01m}\u001b[39;00m\u001b[38;5;124m: expected argument \u001b[39m\u001b[38;5;124m\"\u001b[39m\n\u001b[0;32m   1240\u001b[0m                     \u001b[38;5;124mf\u001b[39m\u001b[38;5;124m\"\u001b[39m\u001b[38;5;124m#\u001b[39m\u001b[38;5;132;01m{\u001b[39;00mi\u001b[38;5;132;01m}\u001b[39;00m\u001b[38;5;124m(zero-based) to be a Tensor; \u001b[39m\u001b[38;5;124m\"\u001b[39m\n\u001b[0;32m   1241\u001b[0m                     \u001b[38;5;124mf\u001b[39m\u001b[38;5;124m\"\u001b[39m\u001b[38;5;124mgot \u001b[39m\u001b[38;5;132;01m{\u001b[39;00m\u001b[38;5;28mtype\u001b[39m(arg)\u001b[38;5;241m.\u001b[39m\u001b[38;5;18m__name__\u001b[39m\u001b[38;5;132;01m}\u001b[39;00m\u001b[38;5;124m (\u001b[39m\u001b[38;5;132;01m{\u001b[39;00marg\u001b[38;5;132;01m}\u001b[39;00m\u001b[38;5;124m).\u001b[39m\u001b[38;5;124m\"\u001b[39m)\n\u001b[1;32m-> 1242\u001b[0m \u001b[38;5;28;01mreturn\u001b[39;00m \u001b[38;5;28;43mself\u001b[39;49m\u001b[38;5;241;43m.\u001b[39;49m\u001b[43m_call_flat\u001b[49m\u001b[43m(\u001b[49m\u001b[43margs\u001b[49m\u001b[43m,\u001b[49m\u001b[43m \u001b[49m\u001b[38;5;28;43mself\u001b[39;49m\u001b[38;5;241;43m.\u001b[39;49m\u001b[43mcaptured_inputs\u001b[49m\u001b[43m)\u001b[49m\n",
      "File \u001b[1;32mc:\\Users\\amusali\\Desktop\\uc3m PhD\\venv\\Lib\\site-packages\\tensorflow\\python\\eager\\polymorphic_function\\concrete_function.py:1322\u001b[0m, in \u001b[0;36mConcreteFunction._call_flat\u001b[1;34m(self, tensor_inputs, captured_inputs)\u001b[0m\n\u001b[0;32m   1318\u001b[0m possible_gradient_type \u001b[38;5;241m=\u001b[39m gradients_util\u001b[38;5;241m.\u001b[39mPossibleTapeGradientTypes(args)\n\u001b[0;32m   1319\u001b[0m \u001b[38;5;28;01mif\u001b[39;00m (possible_gradient_type \u001b[38;5;241m==\u001b[39m gradients_util\u001b[38;5;241m.\u001b[39mPOSSIBLE_GRADIENT_TYPES_NONE\n\u001b[0;32m   1320\u001b[0m     \u001b[38;5;129;01mand\u001b[39;00m executing_eagerly):\n\u001b[0;32m   1321\u001b[0m   \u001b[38;5;66;03m# No tape is watching; skip to running the function.\u001b[39;00m\n\u001b[1;32m-> 1322\u001b[0m   \u001b[38;5;28;01mreturn\u001b[39;00m \u001b[38;5;28;43mself\u001b[39;49m\u001b[38;5;241;43m.\u001b[39;49m\u001b[43m_inference_function\u001b[49m\u001b[38;5;241;43m.\u001b[39;49m\u001b[43mcall_preflattened\u001b[49m\u001b[43m(\u001b[49m\u001b[43margs\u001b[49m\u001b[43m)\u001b[49m\n\u001b[0;32m   1323\u001b[0m forward_backward \u001b[38;5;241m=\u001b[39m \u001b[38;5;28mself\u001b[39m\u001b[38;5;241m.\u001b[39m_select_forward_and_backward_functions(\n\u001b[0;32m   1324\u001b[0m     args,\n\u001b[0;32m   1325\u001b[0m     possible_gradient_type,\n\u001b[0;32m   1326\u001b[0m     executing_eagerly)\n\u001b[0;32m   1327\u001b[0m forward_function, args_with_tangents \u001b[38;5;241m=\u001b[39m forward_backward\u001b[38;5;241m.\u001b[39mforward()\n",
      "File \u001b[1;32mc:\\Users\\amusali\\Desktop\\uc3m PhD\\venv\\Lib\\site-packages\\tensorflow\\python\\eager\\polymorphic_function\\atomic_function.py:216\u001b[0m, in \u001b[0;36mAtomicFunction.call_preflattened\u001b[1;34m(self, args)\u001b[0m\n\u001b[0;32m    214\u001b[0m \u001b[38;5;28;01mdef\u001b[39;00m \u001b[38;5;21mcall_preflattened\u001b[39m(\u001b[38;5;28mself\u001b[39m, args: Sequence[core\u001b[38;5;241m.\u001b[39mTensor]) \u001b[38;5;241m-\u001b[39m\u001b[38;5;241m>\u001b[39m Any:\n\u001b[0;32m    215\u001b[0m \u001b[38;5;250m  \u001b[39m\u001b[38;5;124;03m\"\"\"Calls with flattened tensor inputs and returns the structured output.\"\"\"\u001b[39;00m\n\u001b[1;32m--> 216\u001b[0m   flat_outputs \u001b[38;5;241m=\u001b[39m \u001b[38;5;28;43mself\u001b[39;49m\u001b[38;5;241;43m.\u001b[39;49m\u001b[43mcall_flat\u001b[49m\u001b[43m(\u001b[49m\u001b[38;5;241;43m*\u001b[39;49m\u001b[43margs\u001b[49m\u001b[43m)\u001b[49m\n\u001b[0;32m    217\u001b[0m   \u001b[38;5;28;01mreturn\u001b[39;00m \u001b[38;5;28mself\u001b[39m\u001b[38;5;241m.\u001b[39mfunction_type\u001b[38;5;241m.\u001b[39mpack_output(flat_outputs)\n",
      "File \u001b[1;32mc:\\Users\\amusali\\Desktop\\uc3m PhD\\venv\\Lib\\site-packages\\tensorflow\\python\\eager\\polymorphic_function\\atomic_function.py:251\u001b[0m, in \u001b[0;36mAtomicFunction.call_flat\u001b[1;34m(self, *args)\u001b[0m\n\u001b[0;32m    249\u001b[0m \u001b[38;5;28;01mwith\u001b[39;00m record\u001b[38;5;241m.\u001b[39mstop_recording():\n\u001b[0;32m    250\u001b[0m   \u001b[38;5;28;01mif\u001b[39;00m \u001b[38;5;28mself\u001b[39m\u001b[38;5;241m.\u001b[39m_bound_context\u001b[38;5;241m.\u001b[39mexecuting_eagerly():\n\u001b[1;32m--> 251\u001b[0m     outputs \u001b[38;5;241m=\u001b[39m \u001b[38;5;28;43mself\u001b[39;49m\u001b[38;5;241;43m.\u001b[39;49m\u001b[43m_bound_context\u001b[49m\u001b[38;5;241;43m.\u001b[39;49m\u001b[43mcall_function\u001b[49m\u001b[43m(\u001b[49m\n\u001b[0;32m    252\u001b[0m \u001b[43m        \u001b[49m\u001b[38;5;28;43mself\u001b[39;49m\u001b[38;5;241;43m.\u001b[39;49m\u001b[43mname\u001b[49m\u001b[43m,\u001b[49m\n\u001b[0;32m    253\u001b[0m \u001b[43m        \u001b[49m\u001b[38;5;28;43mlist\u001b[39;49m\u001b[43m(\u001b[49m\u001b[43margs\u001b[49m\u001b[43m)\u001b[49m\u001b[43m,\u001b[49m\n\u001b[0;32m    254\u001b[0m \u001b[43m        \u001b[49m\u001b[38;5;28;43mlen\u001b[39;49m\u001b[43m(\u001b[49m\u001b[38;5;28;43mself\u001b[39;49m\u001b[38;5;241;43m.\u001b[39;49m\u001b[43mfunction_type\u001b[49m\u001b[38;5;241;43m.\u001b[39;49m\u001b[43mflat_outputs\u001b[49m\u001b[43m)\u001b[49m\u001b[43m,\u001b[49m\n\u001b[0;32m    255\u001b[0m \u001b[43m    \u001b[49m\u001b[43m)\u001b[49m\n\u001b[0;32m    256\u001b[0m   \u001b[38;5;28;01melse\u001b[39;00m:\n\u001b[0;32m    257\u001b[0m     outputs \u001b[38;5;241m=\u001b[39m make_call_op_in_graph(\n\u001b[0;32m    258\u001b[0m         \u001b[38;5;28mself\u001b[39m,\n\u001b[0;32m    259\u001b[0m         \u001b[38;5;28mlist\u001b[39m(args),\n\u001b[0;32m    260\u001b[0m         \u001b[38;5;28mself\u001b[39m\u001b[38;5;241m.\u001b[39m_bound_context\u001b[38;5;241m.\u001b[39mfunction_call_options\u001b[38;5;241m.\u001b[39mas_attrs(),\n\u001b[0;32m    261\u001b[0m     )\n",
      "File \u001b[1;32mc:\\Users\\amusali\\Desktop\\uc3m PhD\\venv\\Lib\\site-packages\\tensorflow\\python\\eager\\context.py:1552\u001b[0m, in \u001b[0;36mContext.call_function\u001b[1;34m(self, name, tensor_inputs, num_outputs)\u001b[0m\n\u001b[0;32m   1550\u001b[0m cancellation_context \u001b[38;5;241m=\u001b[39m cancellation\u001b[38;5;241m.\u001b[39mcontext()\n\u001b[0;32m   1551\u001b[0m \u001b[38;5;28;01mif\u001b[39;00m cancellation_context \u001b[38;5;129;01mis\u001b[39;00m \u001b[38;5;28;01mNone\u001b[39;00m:\n\u001b[1;32m-> 1552\u001b[0m   outputs \u001b[38;5;241m=\u001b[39m \u001b[43mexecute\u001b[49m\u001b[38;5;241;43m.\u001b[39;49m\u001b[43mexecute\u001b[49m\u001b[43m(\u001b[49m\n\u001b[0;32m   1553\u001b[0m \u001b[43m      \u001b[49m\u001b[43mname\u001b[49m\u001b[38;5;241;43m.\u001b[39;49m\u001b[43mdecode\u001b[49m\u001b[43m(\u001b[49m\u001b[38;5;124;43m\"\u001b[39;49m\u001b[38;5;124;43mutf-8\u001b[39;49m\u001b[38;5;124;43m\"\u001b[39;49m\u001b[43m)\u001b[49m\u001b[43m,\u001b[49m\n\u001b[0;32m   1554\u001b[0m \u001b[43m      \u001b[49m\u001b[43mnum_outputs\u001b[49m\u001b[38;5;241;43m=\u001b[39;49m\u001b[43mnum_outputs\u001b[49m\u001b[43m,\u001b[49m\n\u001b[0;32m   1555\u001b[0m \u001b[43m      \u001b[49m\u001b[43minputs\u001b[49m\u001b[38;5;241;43m=\u001b[39;49m\u001b[43mtensor_inputs\u001b[49m\u001b[43m,\u001b[49m\n\u001b[0;32m   1556\u001b[0m \u001b[43m      \u001b[49m\u001b[43mattrs\u001b[49m\u001b[38;5;241;43m=\u001b[39;49m\u001b[43mattrs\u001b[49m\u001b[43m,\u001b[49m\n\u001b[0;32m   1557\u001b[0m \u001b[43m      \u001b[49m\u001b[43mctx\u001b[49m\u001b[38;5;241;43m=\u001b[39;49m\u001b[38;5;28;43mself\u001b[39;49m\u001b[43m,\u001b[49m\n\u001b[0;32m   1558\u001b[0m \u001b[43m  \u001b[49m\u001b[43m)\u001b[49m\n\u001b[0;32m   1559\u001b[0m \u001b[38;5;28;01melse\u001b[39;00m:\n\u001b[0;32m   1560\u001b[0m   outputs \u001b[38;5;241m=\u001b[39m execute\u001b[38;5;241m.\u001b[39mexecute_with_cancellation(\n\u001b[0;32m   1561\u001b[0m       name\u001b[38;5;241m.\u001b[39mdecode(\u001b[38;5;124m\"\u001b[39m\u001b[38;5;124mutf-8\u001b[39m\u001b[38;5;124m\"\u001b[39m),\n\u001b[0;32m   1562\u001b[0m       num_outputs\u001b[38;5;241m=\u001b[39mnum_outputs,\n\u001b[1;32m   (...)\u001b[0m\n\u001b[0;32m   1566\u001b[0m       cancellation_manager\u001b[38;5;241m=\u001b[39mcancellation_context,\n\u001b[0;32m   1567\u001b[0m   )\n",
      "File \u001b[1;32mc:\\Users\\amusali\\Desktop\\uc3m PhD\\venv\\Lib\\site-packages\\tensorflow\\python\\eager\\execute.py:53\u001b[0m, in \u001b[0;36mquick_execute\u001b[1;34m(op_name, num_outputs, inputs, attrs, ctx, name)\u001b[0m\n\u001b[0;32m     51\u001b[0m \u001b[38;5;28;01mtry\u001b[39;00m:\n\u001b[0;32m     52\u001b[0m   ctx\u001b[38;5;241m.\u001b[39mensure_initialized()\n\u001b[1;32m---> 53\u001b[0m   tensors \u001b[38;5;241m=\u001b[39m \u001b[43mpywrap_tfe\u001b[49m\u001b[38;5;241;43m.\u001b[39;49m\u001b[43mTFE_Py_Execute\u001b[49m\u001b[43m(\u001b[49m\u001b[43mctx\u001b[49m\u001b[38;5;241;43m.\u001b[39;49m\u001b[43m_handle\u001b[49m\u001b[43m,\u001b[49m\u001b[43m \u001b[49m\u001b[43mdevice_name\u001b[49m\u001b[43m,\u001b[49m\u001b[43m \u001b[49m\u001b[43mop_name\u001b[49m\u001b[43m,\u001b[49m\n\u001b[0;32m     54\u001b[0m \u001b[43m                                      \u001b[49m\u001b[43minputs\u001b[49m\u001b[43m,\u001b[49m\u001b[43m \u001b[49m\u001b[43mattrs\u001b[49m\u001b[43m,\u001b[49m\u001b[43m \u001b[49m\u001b[43mnum_outputs\u001b[49m\u001b[43m)\u001b[49m\n\u001b[0;32m     55\u001b[0m \u001b[38;5;28;01mexcept\u001b[39;00m core\u001b[38;5;241m.\u001b[39m_NotOkStatusException \u001b[38;5;28;01mas\u001b[39;00m e:\n\u001b[0;32m     56\u001b[0m   \u001b[38;5;28;01mif\u001b[39;00m name \u001b[38;5;129;01mis\u001b[39;00m \u001b[38;5;129;01mnot\u001b[39;00m \u001b[38;5;28;01mNone\u001b[39;00m:\n",
      "\u001b[1;31mKeyboardInterrupt\u001b[0m: "
     ]
    }
   ],
   "source": [
    "import api.find_similar_patents as fsp\n",
    "import importlib\n",
    "import api.fetch_patents\n",
    "import api.bertembeddings as be\n",
    "importlib.reload(be)\n",
    "importlib.reload(api.fetch_patents)\n",
    "importlib.reload(fsp)\n",
    "\n",
    "target_abstract, closest_abstract = fsp.find_the_closest_abstract_excerpt(patent, group_only=True, filter_tfidf=True)\n",
    "print('Target abstract', target_abstract)\n",
    "print('Closest abstract', closest_abstract)"
   ]
  },
  {
   "cell_type": "code",
   "execution_count": 13,
   "metadata": {},
   "outputs": [
    {
     "name": "stdout",
     "output_type": "stream",
     "text": [
      "Sleeping for:  2.8517629846789654 seconds\n"
     ]
    }
   ],
   "source": [
    "import api.fetch_patents\n",
    "patents_to_compare = api.fetch_patents.get_patents_from_fields(field, year)\n",
    "ps = [x['patent_abstract'] for  x in patents_to_compare[0][field][str(year)]['patents']]"
   ]
  },
  {
   "cell_type": "code",
   "execution_count": 10,
   "metadata": {},
   "outputs": [
    {
     "name": "stdout",
     "output_type": "stream",
     "text": [
      "Sleeping for:  0.373470766418035 seconds\n",
      "There are in total 202 patents to be compared against.\n",
      "Currently doing TF-IDF\n",
      "There were 202 files in total. After TF-IDF filtering, there are 126 patents left now.\n",
      "['[CLS]', 'embodiment', '##s', 'of', 'the', 'present', 'invention', 'address', 'def', '##iciencies', 'of', 'the', 'art', 'in', 'respect', 'to', 'instant', 'messaging', 'and', 'provide', 'a', 'novel', 'and', 'non', '-', 'obvious', 'method', ',', 'system', 'and', 'computer', 'program', 'product', 'for', 'managing', 'e', '-', 'mail', 'user', 'confidentiality', '.', 'in', 'one', 'embodiment', 'of', 'the', 'invention', ',', 'a', 'method', 'for', 'managing', 'e', '-', 'mail', 'user', 'confidentiality', 'can', 'be', 'provided', '.', 'the', 'method', 'can', 'include', 'transmitting', 'an', 'e', '-', 'mail', 'message', 'for', 'delivery', 'to', 'multiple', 'e', '-', 'mail', 'users', 'and', 'corresponding', 'e', '-', 'mail', 'addresses', ',', 'identifying', 'a', 'privacy', 'preference', 'for', 'a', 'particular', 'one', 'of', 'the', 'e', '-', 'mail', 'users', ';', 'and', ',', 'concealing', 'a', 'display', 'within', 'the', 'e', '-', 'mail', 'message', 'of', 'an', 'e', '-', 'mail', 'address', 'associated', 'with', 'the', 'particular', 'one', 'of', 'the', 'e', '-', 'mail', 'users', 'responsive', 'to', 'the', 'privacy', 'preference', '.', '[SEP]']\n",
      "There are 1 patents being fed into BERT\n",
      "It took 4.33 seconds to get the embeddings of the input.\n",
      "['[CLS]', 'the', 'present', 'invention', 'relates', 'to', 'a', 'system', 'and', 'methodology', 'to', 'enable', 'a', 'variety', 'of', 'information', 'associated', 'with', 'one', 'or', 'more', 'notification', 'sources', 'to', 'be', 'directed', 'to', 'one', 'or', 'more', 'notification', 'sinks', 'via', 'a', 'notification', 'platform', 'architecture', '.', 'the', 'architecture', 'includes', 'a', 'context', 'analyzer', 'for', 'determining', 'a', 'user', \"'\", 's', 'state', 'such', 'as', 'location', 'and', 'attention', '##al', 'focus', ',', 'wherein', 'the', 'user', \"'\", 's', 'state', 'is', 'employed', 'by', 'a', 'notification', 'manager', 'to', 'make', 'decisions', 'regarding', 'what', ',', 'when', 'and', 'how', 'information', 'generated', 'by', 'the', 'notification', 'sources', 'should', 'be', 'forward', '##ed', 'to', 'the', 'notification', 'sinks', ',', 'for', 'example', '.', 'these', 'decisions', 'can', 'include', 'a', 'cost', 'benefit', 'analysis', 'wherein', 'considerations', 'are', 'given', 'as', 'to', 'whether', 'the', 'benefits', 'of', 'notify', '##ing', 'the', 'user', 'are', 'out', '##weig', '##hed', 'by', 'the', 'costs', 'of', 'disrupt', '##ing', 'the', 'user', '.', 'decision', '-', 'theo', '##ret', '##ic', 'policies', 'and', '/', 'or', 'somewhat', 'less', 'formal', 'heuristic', 'policies', 'can', 'be', 'employed', 'to', 'enable', 'the', 'decision', '-', 'making', 'process', 'within', 'the', 'notification', 'manager', '.', '[SEP]']\n",
      "There are 1 patents being fed into BERT\n",
      "It took 2.54 seconds to get the embeddings of the input.\n",
      "['[CLS]', 'described', 'are', 'techniques', 'for', 'processing', 'a', 'data', 'storage', 'configuration', 'request', 'for', 'an', 'application', 'a', 'first', 'user', 'level', 'of', 'a', 'plurality', 'of', 'user', 'levels', 'at', 'which', 'said', 'data', 'storage', 'configuration', 'request', 'is', 'made', 'is', 'determined', '.', 'one', 'or', 'more', 'rule', 'sets', 'defining', 'mapping', '##s', 'between', 'different', 'ones', 'of', 'said', 'plurality', 'of', 'user', 'levels', 'are', 'provided', '.', 'each', 'of', 'the', 'different', 'user', 'levels', 'is', 'associated', 'with', 'a', 'different', 'level', 'of', 'abstraction', 'with', 'respect', 'to', 'processing', 'performed', 'in', 'the', 'data', 'storage', 'system', 'for', 'implementing', 'the', 'data', 'storage', 'configuration', 'request', '.', 'one', 'of', 'the', 'rule', 'sets', 'is', 'selected', 'in', 'accordance', 'with', 'the', 'application', ',', 'a', 'data', 'service', 'requested', 'in', 'said', 'data', 'storage', 'configuration', 'request', ',', 'and', 'a', 'user', 'grouping', 'including', 'said', 'plurality', 'of', 'user', 'levels', '.', 'the', 'data', 'storage', 'configuration', 'request', 'is', 'serviced', 'using', 'rules', 'of', 'the', 'selected', 'rule', 'set', '.', '[SEP]']\n",
      "There are 1 patents being fed into BERT\n",
      "It took 1.87 seconds to get the embeddings of the input.\n",
      "['[CLS]', 'a', 'mobile', 'communication', 'device', '(', 'mc', '##d', ')', 'receives', 'at', 'least', 'a', 'portion', 'of', 'a', 'message', 'redirect', '##ed', 'from', 'a', 'messaging', 'system', 'over', 'a', 'wireless', 'network', ',', 'with', 'the', 'message', 'containing', 'a', 'notification', 'of', 'an', 'attachment', '.', 'the', 'mc', '##d', 'que', '##ries', 'local', 'attachment', 'displayer', '##s', 'regarding', 'their', 'location', ',', 'electronic', 'address', 'and', 'the', 'types', 'of', 'attachment', 'files', 'that', 'can', 'be', 'processed', '.', 'the', 'mc', '##d', 'then', 'generates', 'a', 'request', 'for', 'the', 'attachment', ',', 'with', 'the', 'request', 'containing', 'information', 'regarding', 'at', 'least', 'one', 'local', 'attachment', 'displayer', '.', '[SEP]']\n",
      "There are 1 patents being fed into BERT\n",
      "It took 1.96 seconds to get the embeddings of the input.\n",
      "['[CLS]', 'a', 'scheme', 'for', 'message', 'folder', 'synchronization', '.', 'in', 'one', 'embodiment', ',', 'a', 'method', 'may', 'comprise', ':', 'automatically', 'detecting', 'arrival', 'of', 'a', 'message', 'at', 'a', 'messaging', 'server', 'for', 'a', 'user', ';', 'storing', 'the', 'message', 'in', 'a', 'first', 'folder', 'of', 'a', 'first', 'folder', 'system', 'associated', 'with', 'the', 'user', 'at', 'the', 'messaging', 'server', ';', 'processing', 'at', 'least', 'a', 'portion', 'of', 'an', 'instance', 'of', 'the', 'message', 'for', 'transmission', 'to', 'the', 'user', \"'\", 's', 'mobile', 'data', 'communication', 'device', 'over', 'a', 'wireless', 'network', ';', 'receiving', 'a', 'status', 'signal', 'from', 'the', 'mobile', 'data', 'communication', 'device', 'indicating', 'that', 'the', 'message', 'has', 'been', 'moved', 'from', 'a', 'first', 'folder', 'at', 'the', 'mobile', 'data', 'communication', 'device', 'to', 'a', 'second', 'folder', 'of', 'a', 'second', 'folder', 'system', 'associated', 'with', 'the', 'user', 'at', 'the', 'mobile', 'data', 'communication', 'device', ';', 'and', 'responsive', 'to', 'the', 'status', 'signal', ',', 'moving', 'the', 'message', 'from', 'the', 'first', 'folder', 'of', 'the', 'first', 'folder', 'system', 'at', 'the', 'messaging', 'server', 'to', 'a', 'second', 'folder', 'thereat', 'corresponding', 'to', 'the', 'second', 'folder', 'of', 'the', 'second', 'folder', 'system', '.', '[SEP]']\n",
      "There are 1 patents being fed into BERT\n",
      "It took 1.89 seconds to get the embeddings of the input.\n",
      "['[CLS]', 'a', 'method', 'includes', 'receiving', 'e', '-', 'mail', 'input', 'data', 'from', 'a', 'client', 'at', 'a', 'server', 'that', 'is', 'configured', 'to', 'serve', 'a', 'hosted', 'application', 'that', 'includes', 'an', 'e', '-', 'mail', 'user', 'interface', 'to', 'the', 'client', '.', 'the', 'e', '-', 'mail', 'input', 'data', 'is', 'used', 'to', 'generate', 'an', 'e', '-', 'mail', 'message', 'from', 'a', 'user', 'of', 'the', 'client', ',', 'where', 'the', 'client', 'is', 'associated', 'with', 'a', 'first', 'domain', 'and', 'the', 'server', 'is', 'associated', 'with', 'a', 'second', 'domain', '.', 'an', 'e', '-', 'mail', 'object', 'corresponding', 'to', 'the', 'e', '-', 'mail', 'message', 'from', 'the', 'user', 'of', 'the', 'client', 'is', 'generated', 'at', 'the', 'server', ',', 'and', 'the', 'e', '-', 'mail', 'object', 'is', 'forward', '##ed', 'from', 'the', 'server', 'to', 'the', 'client', 'along', 'with', 'instructions', 'to', 'convert', 'the', 'e', '-', 'mail', 'object', 'into', 'the', 'e', '-', 'mail', 'message', 'and', 'to', 'send', 'the', 'e', '-', 'mail', 'message', 'from', 'the', 'first', 'domain', '.', '[SEP]']\n",
      "There are 1 patents being fed into BERT\n",
      "It took 1.88 seconds to get the embeddings of the input.\n",
      "['[CLS]', 'a', 'trojan', 'horse', 'method', 'and', 'apparatus', 'to', 'permit', 'email', 'access', 'to', 'secure', 'enterprise', 'resources', 'within', 'an', 'enterprise', \"'\", 's', 'firewall', '.', 'an', 'email', 'message', 'is', 'used', 'to', 'permit', 'a', 'user', 'to', 'gain', 'access', 'to', 'computer', 'resources', 'such', 'as', 'databases', 'maintained', 'within', 'a', 'secure', 'enterprise', \"'\", 's', 'firewall', '.', 'an', 'email', 'message', 'generated', 'from', 'a', 'palm', '##top', 'computer', 'or', 'any', 'other', 'computer', 'capable', 'of', 'sending', 'and', 'receiving', 'email', 'messages', 'is', 'used', 'to', 'pass', 'through', 'the', 'firewall', 'as', 'a', 'conventional', 'email', 'message', 'would', '.', 'the', 'email', 'message', 'is', 'received', 'at', 'a', 'designated', 'computer', 'that', 'recognizes', 'reserved', 'command', 'words', 'as', 'a', 'part', 'of', 'the', 'email', 'message', ',', 'preferably', 'as', 'a', 'part', 'of', 'the', 'subject', 'line', 'thereof', '.', 'upon', 'recognizing', 'the', 'reserved', 'command', 'word', ',', 'the', 'email', 'message', 'is', 'parse', '##d', 'to', 'determine', 'key', 'components', 'of', 'a', 'command', 'that', 'can', 'be', 'executed', 'on', 'a', 'desired', 'enterprise', 'computer', 'resource', '.', 'an', 'appropriate', 'command', '(', 'e', '.', 'g', '.', ',', 'an', 'sql', 'query', ')', 'is', 'then', 'created', 'for', 'execution', 'on', 'the', 'enterprise', 'computer', 'resource', '(', 'e', '.', 'g', '.', ',', 'a', 'database', ')', '.', 'a', 'response', 'or', 'acknowledgement', 'is', 'then', 'returned', 'to', 'the', 'sender', 'as', 'an', 'email', 'message', '.', '[SEP]']\n",
      "There are 1 patents being fed into BERT\n",
      "It took 1.91 seconds to get the embeddings of the input.\n",
      "['[CLS]', 'in', 'an', 'electronic', 'mail', 'system', ',', 'a', 'user', \"'\", 's', 'actions', 'with', 'an', 'application', 'for', 'managing', 'electronic', 'content', 'are', 'monitored', '.', 'based', 'on', 'the', 'user', \"'\", 's', 'actions', 'and', '/', 'or', 'on', 'the', 'actions', 'of', 'other', 'users', 'in', 'the', 'system', ',', 'a', 'relevance', 'analysis', 'module', 'determines', 'a', 'relevance', 'to', 'the', 'user', 'of', 'a', 'piece', 'of', 'electronic', 'content', 'based', 'on', 'a', 'likelihood', 'of', 'interest', 'of', 'the', 'electronic', 'content', 'piece', 'to', 'the', 'user', 'and', '/', 'or', 'a', 'measure', 'of', 'a', 'level', 'of', 'significance', 'the', 'user', 'has', 'to', 'another', 'entity', 'associated', 'with', 'the', 'electronic', 'content', 'piece', '.', '[SEP]']\n",
      "There are 1 patents being fed into BERT\n",
      "It took 1.81 seconds to get the embeddings of the input.\n",
      "['[CLS]', 'a', 'system', 'and', 'method', 'allows', 'an', 'email', 'user', 'to', 'solicit', 'an', 'email', 'thread', 'from', 'another', 'user', '(', 'or', 'from', 'a', 'server', ')', 'in', 'situations', 'where', 'the', 'first', 'requesting', 'user', 'may', 'have', 'been', 'added', 'to', 'an', 'email', 'thread', 'after', 'the', 'email', 'thread', 'was', 'started', ',', 'or', 'in', 'situations', 'where', 'the', 'user', 'may', 'have', 'an', 'incomplete', 'thread', '(', 'for', 'example', ',', 'where', 'a', 'user', 'is', 'being', 'added', 'to', 'a', 'thread', 'where', 'an', 'attachment', 'was', 'removed', ')', '.', 'the', 'complete', 'thread', 'is', 'returned', 'to', 'the', 'first', 'requesting', 'user', ',', 'after', 'permission', 'has', 'been', 'sought', 'and', 'granted', ',', 'and', 'after', 'data', 'mining', 'and', 'intelligent', 'aggregation', 'of', 'a', 'plurality', 'of', 'relevant', 'threads', 'in', 'to', 'one', 'interleave', '##d', 'result', 'is', 'performed', 'and', 'returned', 'to', 'the', 'first', 'requesting', 'user', '.', '[SEP]']\n",
      "There are 1 patents being fed into BERT\n",
      "It took 1.74 seconds to get the embeddings of the input.\n",
      "['[CLS]', 'a', 'system', 'and', 'method', 'is', 'disclosed', 'whereby', 'a', 'patient', 'at', 'a', 'senior', 'care', 'facility', 'can', 'send', 'and', 'receive', 'messages', 'via', 'the', 'inter', '-', 'net', '.', 'tools', 'are', 'provided', 'to', 'manage', 'the', 'patients', ',', 'the', 'patient', \"'\", 's', 'relative', 'contact', ',', 'mail', 'and', 'photo', 'collection', '.', 'relatives', 'can', 'be', 'designated', 'to', 'suggest', 'changes', 'to', 'the', 'contacts', 'and', 'edit', 'the', 'contents', 'of', 'the', 'patient', \"'\", 's', 'contacts', 'files', '.', 'the', 'messages', 'may', 'be', 'audio', ',', 'video', 'or', 'text', 'and', 'the', 'user', 'friendly', 'system', 'helps', 'the', 'patients', 'navigate', 'through', 'the', 'process', '.', 'notification', 'is', 'provided', 'so', 'that', 'the', 'relatives', 'and', 'patients', 'know', 'when', 'a', 'message', 'had', 'been', 'received', '.', 'further', 'notification', 'is', 'provided', 'if', 'a', 'prolonged', 'period', 'lapse', '##s', 'after', 'receipt', 'of', 'a', 'message', 'to', 'a', 'patient', 'and', 'the', 'message', 'has', 'not', 'been', 'read', '.', '[SEP]']\n",
      "There are 1 patents being fed into BERT\n",
      "It took 1.71 seconds to get the embeddings of the input.\n",
      "['[CLS]', 'an', 'integrated', 'web', 'browser', ',', 'instant', 'messaging', 'system', 'is', 'presented', '.', 'the', 'system', 'operates', 'on', 'mobile', 'devices', 'and', 'other', 'types', 'of', 'embedded', 'devices', '.', 'the', 'system', 'is', 'an', 'integrated', 'instant', 'messaging', 'and', 'web', 'browsing', 'application', 'controlled', 'by', 'an', 'embedded', 'application', 'on', 'a', 'mobile', 'device', '.', 'today', 'most', 'web', 'browser', '##s', ',', 'instant', 'messaging', ',', 'and', 'other', 'programs', 'are', 'separate', 'or', 'discrete', 'applications', 'that', 'are', 'executed', 'on', 'an', 'either', '/', 'or', 'type', 'of', 'situation', '.', 'the', 'present', 'system', 'provides', 'an', 'integrated', 'application', 'environment', 'that', 'is', 'a', 'single', 'application', 'that', 'shares', 'data', 'between', 'instant', 'messaging', 'and', 'web', 'bros', '##wer', 'sub', '-', 'modules', ',', 'which', 'allows', 'users', 'to', 'simultaneously', 'message', 'and', 'browse', '.', 'the', 'system', 'may', 'also', 'be', 'deployed', 'as', 'part', 'of', 'an', 'overall', 'method', 'for', 'enhancing', 'safety', 'and', 'producing', 'revenue', 'for', 'communications', 'networks', '.', '[SEP]']\n",
      "There are 1 patents being fed into BERT\n",
      "It took 1.78 seconds to get the embeddings of the input.\n",
      "['[CLS]', 'a', 'system', 'and', 'method', 'for', 'enhancing', 'the', 'experience', 'of', 'a', 'user', 'using', 'a', 'communication', 'program', 'over', 'the', 'internet', 'or', 'other', 'network', '.', 'the', 'system', 'and', 'method', 'according', 'to', 'one', 'embodiment', 'utilizes', 'a', 'user', \"'\", 's', 'status', 'indicator', 'in', 'a', 'communication', 'program', 'to', 'share', 'content', 'such', 'as', 'music', 'or', 'videos', 'among', 'users', ',', 'and', 'provides', 'access', 'to', 'an', 'electronic', 'commerce', 'application', 'through', 'which', 'content', 'may', 'be', 'obtained', '.', 'one', 'system', 'and', 'method', 'according', 'to', 'the', 'present', 'invention', 'allows', 'a', 'user', 'to', 'display', 'an', 'indicator', 'and', 'to', 'set', 'an', 'actionable', 'status', 'message', 'which', 'indicates', 'to', 'other', 'users', 'the', 'media', 'content', 'that', 'the', 'first', 'user', 'is', 'experiencing', '.', 'in', 'another', 'embodiment', ',', 'a', 'user', 'is', 'given', 'the', 'ability', 'to', 'access', 'content', 'that', 'other', 'users', 'are', 'listening', 'to', 'or', 'viewing', 'at', 'that', 'time', '.', 'the', 'system', 'and', 'method', 'in', 'an', 'alternate', 'embodiment', 'broadcast', 'metadata', 'about', 'the', 'user', \"'\", 's', 'content', 'to', 'other', 'users', 'and', 'the', 'other', 'users', 'are', 'able', 'to', 'utilize', 'that', 'metadata', 'to', 'receive', 'and', 'experience', 'the', 'same', 'or', 'similar', 'content', 'that', 'the', 'first', 'user', 'is', 'experiencing', '.', 'access', 'to', 'an', 'electronic', 'commerce', 'application', 'through', 'which', 'content', 'may', 'be', 'obtained', 'is', 'also', 'facilitated', '.', '[SEP]']\n",
      "There are 1 patents being fed into BERT\n",
      "It took 1.79 seconds to get the embeddings of the input.\n",
      "['[CLS]', 'a', 'method', 'of', 'and', 'system', 'for', 'enabling', 'retraction', 'of', 'instant', 'messages', 'detect', '##s', 'a', 'command', 'to', 'send', 'an', 'instant', 'message', 'from', 'an', 'instant', 'message', 'window', '.', 'the', 'system', 'determines', 'if', 'the', 'command', 'is', 'the', 'first', 'command', 'sent', 'from', 'the', 'instant', 'message', 'window', 'after', 'the', 'window', 'has', 'received', 'focus', '.', 'if', 'so', ',', 'the', 'system', 'delays', 'the', 'execution', 'of', 'the', 'command', 'for', 'a', 'delay', 'time', 'according', 'to', 'a', 'retraction', 'policy', ',', 'and', 'provides', 'a', 'retraction', 'control', 'for', 'cancel', '##ing', 'said', 'command', '.', 'the', 'system', 'cancel', '##s', 'the', 'command', 'in', 'response', 'to', 'actuation', 'of', 'the', 'retraction', 'control', '.', 'the', 'system', 'may', 'cancel', 'the', 'instant', 'message', 'in', 'response', 'to', 'actuation', 'of', 'the', 'retraction', 'control', '.', 'the', 'system', 'sends', 'the', 'instant', 'message', 'in', 'response', 'to', 'expiration', 'of', 'the', 'delay', 'time', 'without', 'an', 'actuation', 'of', 'the', 'retraction', 'control', '.', 'the', 'system', 'may', 'provide', 'a', 'control', 'for', 'sending', 'the', 'instant', 'message', 'before', 'expiration', 'of', 'the', 'delay', 'time', '.', 'the', 'retraction', 'policy', 'may', 'provide', 'different', 'delay', 'times', 'for', 'different', 'categories', 'of', 'recipients', '.', 'the', 'delay', 'time', 'may', 'be', 'zero', 'for', 'certain', 'categories', 'of', 'recipients', '.', 'the', 'retraction', 'policy', 'may', 'be', 'con', '##fi', '##gur', '##able', 'by', 'a', 'user', '.', '[SEP]']\n",
      "There are 1 patents being fed into BERT\n",
      "It took 1.74 seconds to get the embeddings of the input.\n",
      "['[CLS]', 'an', 'email', 'archive', 'system', 'and', 'associated', 'techniques', 'are', 'described', '.', 'archived', 'emails', 'may', 'be', 'stored', 'locally', 'on', 'a', 'user', \"'\", 's', 'client', 'computer', 'in', 'a', 'local', 'archive', 'store', '.', 'the', 'email', 'archive', 'system', 'and', 'associated', 'techniques', 'may', 'interact', 'with', 'an', 'email', 'message', 'system', 'and', 'an', 'email', 'client', 'application', '.', '[SEP]']\n",
      "There are 1 patents being fed into BERT\n",
      "It took 1.65 seconds to get the embeddings of the input.\n",
      "['[CLS]', 'an', 'email', 'archive', 'system', 'and', 'associated', 'techniques', 'are', 'described', '.', 'archived', 'emails', 'may', 'be', 'stored', 'locally', 'on', 'a', 'user', \"'\", 's', 'client', 'computer', 'in', 'a', 'local', 'archive', 'store', '.', 'the', 'email', 'archive', 'system', 'and', 'associated', 'techniques', 'may', 'interact', 'with', 'an', 'email', 'message', 'system', 'and', 'an', 'email', 'client', 'application', '.', '[SEP]']\n",
      "There are 1 patents being fed into BERT\n",
      "It took 1.70 seconds to get the embeddings of the input.\n",
      "['[CLS]', 'an', 'interactive', 'system', 'and', 'method', 'for', 'controlling', 'access', 'to', 'a', 'plurality', 'of', 'communications', 'sessions', 'involving', 'a', 'plurality', 'of', 'users', 'including', 'controlling', 'access', 'to', 'a', 'plurality', 'of', 'communications', 'sessions', ',', 'each', 'of', 'said', 'communications', 'sessions', 'being', 'for', 'access', 'by', 'a', 'plurality', 'of', 'users', ',', 'wherein', 'data', 'identifying', 'said', 'plurality', 'of', 'communications', 'sessions', 'have', 'been', 'stored', 'in', 'association', 'with', 'data', 'indicative', 'of', 'one', 'or', 'more', 'characteristics', 'thereof', '.', 'the', 'method', 'includes', 'receiving', 'a', 'request', 'to', 'initiate', 'communications', 'among', 'members', 'of', 'a', 'group', 'of', 'users', ',', 'wherein', 'said', 'request', 'includes', 'data', 'identifying', 'the', 'group', 'of', 'users', ',', 'responsive', 'to', 'receiving', 'said', 'request', ',', 'selecting', 'a', 'communications', 'session', 'on', 'the', 'basis', 'of', 'data', 'identifying', 'the', 'group', 'and', 'at', 'least', 'some', 'of', 'said', 'stored', 'data', 'indicative', 'of', 'characteristics', 'of', 'a', 'given', 'communications', 'session', ',', 'and', 'transmitting', 'messages', 'to', 'at', 'least', 'some', 'members', 'of', 'the', 'group', '.', 'each', 'message', 'has', 'a', 'message', 'body', 'including', 'data', 'providing', 'access', 'to', 'the', 'selected', 'communications', 'session', 'and', 'a', 'destination', 'address', 'determined', 'from', 'data', 'indicative', 'of', 'a', 'given', 'member', 'of', 'the', 'group', '.', '[SEP]']\n",
      "There are 1 patents being fed into BERT\n",
      "It took 1.65 seconds to get the embeddings of the input.\n",
      "['[CLS]', 'a', 'method', 'for', 'providing', 'an', 'alert', 'indication', ',', 'the', 'method', 'includes', ':', 'allowing', 'a', 'first', 'user', 'to', 'define', 'an', 'alert', 'to', 'be', 'generated', 'in', 'response', 'to', 'an', 'availability', 'of', 'a', 'second', 'user', 'to', 'participate', 'in', 'an', 'instant', 'messaging', 'session', ';', 'and', 'sending', 'to', 'the', 'second', 'user', 'an', 'alert', 'indication', 'indicative', 'of', 'the', 'alert', '.', '[SEP]']\n"
     ]
    },
    {
     "ename": "KeyboardInterrupt",
     "evalue": "",
     "output_type": "error",
     "traceback": [
      "\u001b[1;31m---------------------------------------------------------------------------\u001b[0m",
      "\u001b[1;31mTypeError\u001b[0m                                 Traceback (most recent call last)",
      "File \u001b[1;32mc:\\Users\\amusali\\Desktop\\uc3m PhD\\venv\\Lib\\site-packages\\tensorflow\\python\\eager\\polymorphic_function\\function_type_utils.py:442\u001b[0m, in \u001b[0;36mbind_function_inputs\u001b[1;34m(args, kwargs, function_type, default_values)\u001b[0m\n\u001b[0;32m    441\u001b[0m \u001b[38;5;28;01mtry\u001b[39;00m:\n\u001b[1;32m--> 442\u001b[0m   bound_arguments \u001b[38;5;241m=\u001b[39m \u001b[43mfunction_type\u001b[49m\u001b[38;5;241;43m.\u001b[39;49m\u001b[43mbind_with_defaults\u001b[49m\u001b[43m(\u001b[49m\n\u001b[0;32m    443\u001b[0m \u001b[43m      \u001b[49m\u001b[43margs\u001b[49m\u001b[43m,\u001b[49m\u001b[43m \u001b[49m\u001b[43msanitized_kwargs\u001b[49m\u001b[43m,\u001b[49m\u001b[43m \u001b[49m\u001b[43mdefault_values\u001b[49m\n\u001b[0;32m    444\u001b[0m \u001b[43m  \u001b[49m\u001b[43m)\u001b[49m\n\u001b[0;32m    445\u001b[0m \u001b[38;5;28;01mexcept\u001b[39;00m \u001b[38;5;167;01mException\u001b[39;00m \u001b[38;5;28;01mas\u001b[39;00m e:\n",
      "File \u001b[1;32mc:\\Users\\amusali\\Desktop\\uc3m PhD\\venv\\Lib\\site-packages\\tensorflow\\core\\function\\polymorphism\\function_type.py:264\u001b[0m, in \u001b[0;36mFunctionType.bind_with_defaults\u001b[1;34m(self, args, kwargs, default_values)\u001b[0m\n\u001b[0;32m    263\u001b[0m \u001b[38;5;250m\u001b[39m\u001b[38;5;124;03m\"\"\"Returns BoundArguments with default values filled in.\"\"\"\u001b[39;00m\n\u001b[1;32m--> 264\u001b[0m bound_arguments \u001b[38;5;241m=\u001b[39m \u001b[38;5;28;43mself\u001b[39;49m\u001b[38;5;241;43m.\u001b[39;49m\u001b[43mbind\u001b[49m\u001b[43m(\u001b[49m\u001b[38;5;241;43m*\u001b[39;49m\u001b[43margs\u001b[49m\u001b[43m,\u001b[49m\u001b[43m \u001b[49m\u001b[38;5;241;43m*\u001b[39;49m\u001b[38;5;241;43m*\u001b[39;49m\u001b[43mkwargs\u001b[49m\u001b[43m)\u001b[49m\n\u001b[0;32m    265\u001b[0m bound_arguments\u001b[38;5;241m.\u001b[39mapply_defaults()\n",
      "File \u001b[1;32m~\\AppData\\Local\\Programs\\Python\\Python312\\Lib\\inspect.py:3259\u001b[0m, in \u001b[0;36mSignature.bind\u001b[1;34m(self, *args, **kwargs)\u001b[0m\n\u001b[0;32m   3255\u001b[0m \u001b[38;5;250m\u001b[39m\u001b[38;5;124;03m\"\"\"Get a BoundArguments object, that maps the passed `args`\u001b[39;00m\n\u001b[0;32m   3256\u001b[0m \u001b[38;5;124;03mand `kwargs` to the function's signature.  Raises `TypeError`\u001b[39;00m\n\u001b[0;32m   3257\u001b[0m \u001b[38;5;124;03mif the passed arguments can not be bound.\u001b[39;00m\n\u001b[0;32m   3258\u001b[0m \u001b[38;5;124;03m\"\"\"\u001b[39;00m\n\u001b[1;32m-> 3259\u001b[0m \u001b[38;5;28;01mreturn\u001b[39;00m \u001b[38;5;28;43mself\u001b[39;49m\u001b[38;5;241;43m.\u001b[39;49m\u001b[43m_bind\u001b[49m\u001b[43m(\u001b[49m\u001b[43margs\u001b[49m\u001b[43m,\u001b[49m\u001b[43m \u001b[49m\u001b[43mkwargs\u001b[49m\u001b[43m)\u001b[49m\n",
      "File \u001b[1;32m~\\AppData\\Local\\Programs\\Python\\Python312\\Lib\\inspect.py:3248\u001b[0m, in \u001b[0;36mSignature._bind\u001b[1;34m(self, args, kwargs, partial)\u001b[0m\n\u001b[0;32m   3247\u001b[0m     \u001b[38;5;28;01melse\u001b[39;00m:\n\u001b[1;32m-> 3248\u001b[0m         \u001b[38;5;28;01mraise\u001b[39;00m \u001b[38;5;167;01mTypeError\u001b[39;00m(\n\u001b[0;32m   3249\u001b[0m             \u001b[38;5;124m'\u001b[39m\u001b[38;5;124mgot an unexpected keyword argument \u001b[39m\u001b[38;5;132;01m{arg!r}\u001b[39;00m\u001b[38;5;124m'\u001b[39m\u001b[38;5;241m.\u001b[39mformat(\n\u001b[0;32m   3250\u001b[0m                 arg\u001b[38;5;241m=\u001b[39m\u001b[38;5;28mnext\u001b[39m(\u001b[38;5;28miter\u001b[39m(kwargs))))\n\u001b[0;32m   3252\u001b[0m \u001b[38;5;28;01mreturn\u001b[39;00m \u001b[38;5;28mself\u001b[39m\u001b[38;5;241m.\u001b[39m_bound_arguments_cls(\u001b[38;5;28mself\u001b[39m, arguments)\n",
      "\u001b[1;31mTypeError\u001b[0m: got an unexpected keyword argument 'segment_ids'",
      "\nThe above exception was the direct cause of the following exception:\n",
      "\u001b[1;31mTypeError\u001b[0m                                 Traceback (most recent call last)",
      "File \u001b[1;32mc:\\Users\\amusali\\Desktop\\uc3m PhD\\venv\\Lib\\site-packages\\tensorflow\\python\\eager\\polymorphic_function\\concrete_function.py:1179\u001b[0m, in \u001b[0;36mConcreteFunction._call_impl\u001b[1;34m(self, args, kwargs)\u001b[0m\n\u001b[0;32m   1178\u001b[0m \u001b[38;5;28;01mtry\u001b[39;00m:\n\u001b[1;32m-> 1179\u001b[0m   \u001b[38;5;28;01mreturn\u001b[39;00m \u001b[38;5;28;43mself\u001b[39;49m\u001b[38;5;241;43m.\u001b[39;49m\u001b[43m_call_with_structured_signature\u001b[49m\u001b[43m(\u001b[49m\u001b[43margs\u001b[49m\u001b[43m,\u001b[49m\u001b[43m \u001b[49m\u001b[43mkwargs\u001b[49m\u001b[43m)\u001b[49m\n\u001b[0;32m   1180\u001b[0m \u001b[38;5;28;01mexcept\u001b[39;00m \u001b[38;5;167;01mTypeError\u001b[39;00m \u001b[38;5;28;01mas\u001b[39;00m structured_err:\n",
      "File \u001b[1;32mc:\\Users\\amusali\\Desktop\\uc3m PhD\\venv\\Lib\\site-packages\\tensorflow\\python\\eager\\polymorphic_function\\concrete_function.py:1259\u001b[0m, in \u001b[0;36mConcreteFunction._call_with_structured_signature\u001b[1;34m(self, args, kwargs)\u001b[0m\n\u001b[0;32m   1245\u001b[0m \u001b[38;5;250m\u001b[39m\u001b[38;5;124;03m\"\"\"Executes the wrapped function with the structured signature.\u001b[39;00m\n\u001b[0;32m   1246\u001b[0m \n\u001b[0;32m   1247\u001b[0m \u001b[38;5;124;03mArgs:\u001b[39;00m\n\u001b[1;32m   (...)\u001b[0m\n\u001b[0;32m   1256\u001b[0m \u001b[38;5;124;03m    of this `ConcreteFunction`.\u001b[39;00m\n\u001b[0;32m   1257\u001b[0m \u001b[38;5;124;03m\"\"\"\u001b[39;00m\n\u001b[0;32m   1258\u001b[0m bound_args \u001b[38;5;241m=\u001b[39m (\n\u001b[1;32m-> 1259\u001b[0m     \u001b[43mfunction_type_utils\u001b[49m\u001b[38;5;241;43m.\u001b[39;49m\u001b[43mcanonicalize_function_inputs\u001b[49m\u001b[43m(\u001b[49m\n\u001b[0;32m   1260\u001b[0m \u001b[43m        \u001b[49m\u001b[43margs\u001b[49m\u001b[43m,\u001b[49m\u001b[43m \u001b[49m\u001b[43mkwargs\u001b[49m\u001b[43m,\u001b[49m\u001b[43m \u001b[49m\u001b[38;5;28;43mself\u001b[39;49m\u001b[38;5;241;43m.\u001b[39;49m\u001b[43mfunction_type\u001b[49m\u001b[43m)\u001b[49m\n\u001b[0;32m   1261\u001b[0m )\n\u001b[0;32m   1262\u001b[0m filtered_flat_args \u001b[38;5;241m=\u001b[39m \u001b[38;5;28mself\u001b[39m\u001b[38;5;241m.\u001b[39mfunction_type\u001b[38;5;241m.\u001b[39munpack_inputs(bound_args)\n",
      "File \u001b[1;32mc:\\Users\\amusali\\Desktop\\uc3m PhD\\venv\\Lib\\site-packages\\tensorflow\\python\\eager\\polymorphic_function\\function_type_utils.py:422\u001b[0m, in \u001b[0;36mcanonicalize_function_inputs\u001b[1;34m(args, kwargs, function_type, default_values, is_pure)\u001b[0m\n\u001b[0;32m    421\u001b[0m   args, kwargs \u001b[38;5;241m=\u001b[39m _convert_variables_to_tensors(args, kwargs)\n\u001b[1;32m--> 422\u001b[0m bound_arguments \u001b[38;5;241m=\u001b[39m \u001b[43mbind_function_inputs\u001b[49m\u001b[43m(\u001b[49m\n\u001b[0;32m    423\u001b[0m \u001b[43m    \u001b[49m\u001b[43margs\u001b[49m\u001b[43m,\u001b[49m\u001b[43m \u001b[49m\u001b[43mkwargs\u001b[49m\u001b[43m,\u001b[49m\u001b[43m \u001b[49m\u001b[43mfunction_type\u001b[49m\u001b[43m,\u001b[49m\u001b[43m \u001b[49m\u001b[43mdefault_values\u001b[49m\n\u001b[0;32m    424\u001b[0m \u001b[43m\u001b[49m\u001b[43m)\u001b[49m\n\u001b[0;32m    425\u001b[0m \u001b[38;5;28;01mreturn\u001b[39;00m bound_arguments\n",
      "File \u001b[1;32mc:\\Users\\amusali\\Desktop\\uc3m PhD\\venv\\Lib\\site-packages\\tensorflow\\python\\eager\\polymorphic_function\\function_type_utils.py:446\u001b[0m, in \u001b[0;36mbind_function_inputs\u001b[1;34m(args, kwargs, function_type, default_values)\u001b[0m\n\u001b[0;32m    445\u001b[0m \u001b[38;5;28;01mexcept\u001b[39;00m \u001b[38;5;167;01mException\u001b[39;00m \u001b[38;5;28;01mas\u001b[39;00m e:\n\u001b[1;32m--> 446\u001b[0m   \u001b[38;5;28;01mraise\u001b[39;00m \u001b[38;5;167;01mTypeError\u001b[39;00m(\n\u001b[0;32m    447\u001b[0m       \u001b[38;5;124mf\u001b[39m\u001b[38;5;124m\"\u001b[39m\u001b[38;5;124mBinding inputs to tf.function failed due to `\u001b[39m\u001b[38;5;132;01m{\u001b[39;00me\u001b[38;5;132;01m}\u001b[39;00m\u001b[38;5;124m`. \u001b[39m\u001b[38;5;124m\"\u001b[39m\n\u001b[0;32m    448\u001b[0m       \u001b[38;5;124mf\u001b[39m\u001b[38;5;124m\"\u001b[39m\u001b[38;5;124mReceived args: \u001b[39m\u001b[38;5;132;01m{\u001b[39;00margs\u001b[38;5;132;01m}\u001b[39;00m\u001b[38;5;124m and kwargs: \u001b[39m\u001b[38;5;132;01m{\u001b[39;00msanitized_kwargs\u001b[38;5;132;01m}\u001b[39;00m\u001b[38;5;124m for signature:\u001b[39m\u001b[38;5;124m\"\u001b[39m\n\u001b[0;32m    449\u001b[0m       \u001b[38;5;124mf\u001b[39m\u001b[38;5;124m\"\u001b[39m\u001b[38;5;124m \u001b[39m\u001b[38;5;132;01m{\u001b[39;00mfunction_type\u001b[38;5;132;01m}\u001b[39;00m\u001b[38;5;124m.\u001b[39m\u001b[38;5;124m\"\u001b[39m\n\u001b[0;32m    450\u001b[0m   ) \u001b[38;5;28;01mfrom\u001b[39;00m \u001b[38;5;21;01me\u001b[39;00m\n\u001b[0;32m    451\u001b[0m \u001b[38;5;28;01mreturn\u001b[39;00m bound_arguments\n",
      "\u001b[1;31mTypeError\u001b[0m: Binding inputs to tf.function failed due to `got an unexpected keyword argument 'segment_ids'`. Received args: () and kwargs: {'segment_ids': <tf.Tensor: shape=(1, 512), dtype=int64, numpy=\narray([[0, 0, 0, 0, 0, 0, 0, 0, 0, 0, 0, 0, 0, 0, 0, 0, 0, 0, 0, 0, 0, 0,\n        0, 0, 0, 0, 0, 0, 0, 0, 0, 0, 0, 0, 0, 0, 0, 0, 0, 0, 0, 0, 0, 0,\n        0, 0, 0, 0, 0, 0, 0, 0, 0, 0, 0, 0, 0, 0, 0, 0, 0, 0, 0, 0, 0, 0,\n        0, 0, 0, 0, 0, 0, 0, 0, 0, 0, 0, 0, 0, 0, 0, 0, 0, 0, 0, 0, 0, 0,\n        0, 0, 0, 0, 0, 0, 0, 0, 0, 0, 0, 0, 0, 0, 0, 0, 0, 0, 0, 0, 0, 0,\n        0, 0, 0, 0, 0, 0, 0, 0, 0, 0, 0, 0, 0, 0, 0, 0, 0, 0, 0, 0, 0, 0,\n        0, 0, 0, 0, 0, 0, 0, 0, 0, 0, 0, 0, 0, 0, 0, 0, 0, 0, 0, 0, 0, 0,\n        0, 0, 0, 0, 0, 0, 0, 0, 0, 0, 0, 0, 0, 0, 0, 0, 0, 0, 0, 0, 0, 0,\n        0, 0, 0, 0, 0, 0, 0, 0, 0, 0, 0, 0, 0, 0, 0, 0, 0, 0, 0, 0, 0, 0,\n        0, 0, 0, 0, 0, 0, 0, 0, 0, 0, 0, 0, 0, 0, 0, 0, 0, 0, 0, 0, 0, 0,\n        0, 0, 0, 0, 0, 0, 0, 0, 0, 0, 0, 0, 0, 0, 0, 0, 0, 0, 0, 0, 0, 0,\n        0, 0, 0, 0, 0, 0, 0, 0, 0, 0, 0, 0, 0, 0, 0, 0, 0, 0, 0, 0, 0, 0,\n        0, 0, 0, 0, 0, 0, 0, 0, 0, 0, 0, 0, 0, 0, 0, 0, 0, 0, 0, 0, 0, 0,\n        0, 0, 0, 0, 0, 0, 0, 0, 0, 0, 0, 0, 0, 0, 0, 0, 0, 0, 0, 0, 0, 0,\n        0, 0, 0, 0, 0, 0, 0, 0, 0, 0, 0, 0, 0, 0, 0, 0, 0, 0, 0, 0, 0, 0,\n        0, 0, 0, 0, 0, 0, 0, 0, 0, 0, 0, 0, 0, 0, 0, 0, 0, 0, 0, 0, 0, 0,\n        0, 0, 0, 0, 0, 0, 0, 0, 0, 0, 0, 0, 0, 0, 0, 0, 0, 0, 0, 0, 0, 0,\n        0, 0, 0, 0, 0, 0, 0, 0, 0, 0, 0, 0, 0, 0, 0, 0, 0, 0, 0, 0, 0, 0,\n        0, 0, 0, 0, 0, 0, 0, 0, 0, 0, 0, 0, 0, 0, 0, 0, 0, 0, 0, 0, 0, 0,\n        0, 0, 0, 0, 0, 0, 0, 0, 0, 0, 0, 0, 0, 0, 0, 0, 0, 0, 0, 0, 0, 0,\n        0, 0, 0, 0, 0, 0, 0, 0, 0, 0, 0, 0, 0, 0, 0, 0, 0, 0, 0, 0, 0, 0,\n        0, 0, 0, 0, 0, 0, 0, 0, 0, 0, 0, 0, 0, 0, 0, 0, 0, 0, 0, 0, 0, 0,\n        0, 0, 0, 0, 0, 0, 0, 0, 0, 0, 0, 0, 0, 0, 0, 0, 0, 0, 0, 0, 0, 0,\n        0, 0, 0, 0, 0, 0]], dtype=int64)>, 'input_mask': <tf.Tensor: shape=(1, 512), dtype=int64, numpy=\narray([[1, 1, 1, 1, 1, 1, 1, 1, 1, 1, 1, 1, 1, 1, 1, 1, 1, 1, 1, 1, 1, 1,\n        1, 1, 1, 1, 1, 1, 1, 1, 1, 1, 1, 1, 1, 1, 1, 1, 1, 1, 1, 1, 1, 1,\n        1, 1, 1, 1, 1, 1, 1, 1, 1, 1, 1, 1, 1, 0, 0, 0, 0, 0, 0, 0, 0, 0,\n        0, 0, 0, 0, 0, 0, 0, 0, 0, 0, 0, 0, 0, 0, 0, 0, 0, 0, 0, 0, 0, 0,\n        0, 0, 0, 0, 0, 0, 0, 0, 0, 0, 0, 0, 0, 0, 0, 0, 0, 0, 0, 0, 0, 0,\n        0, 0, 0, 0, 0, 0, 0, 0, 0, 0, 0, 0, 0, 0, 0, 0, 0, 0, 0, 0, 0, 0,\n        0, 0, 0, 0, 0, 0, 0, 0, 0, 0, 0, 0, 0, 0, 0, 0, 0, 0, 0, 0, 0, 0,\n        0, 0, 0, 0, 0, 0, 0, 0, 0, 0, 0, 0, 0, 0, 0, 0, 0, 0, 0, 0, 0, 0,\n        0, 0, 0, 0, 0, 0, 0, 0, 0, 0, 0, 0, 0, 0, 0, 0, 0, 0, 0, 0, 0, 0,\n        0, 0, 0, 0, 0, 0, 0, 0, 0, 0, 0, 0, 0, 0, 0, 0, 0, 0, 0, 0, 0, 0,\n        0, 0, 0, 0, 0, 0, 0, 0, 0, 0, 0, 0, 0, 0, 0, 0, 0, 0, 0, 0, 0, 0,\n        0, 0, 0, 0, 0, 0, 0, 0, 0, 0, 0, 0, 0, 0, 0, 0, 0, 0, 0, 0, 0, 0,\n        0, 0, 0, 0, 0, 0, 0, 0, 0, 0, 0, 0, 0, 0, 0, 0, 0, 0, 0, 0, 0, 0,\n        0, 0, 0, 0, 0, 0, 0, 0, 0, 0, 0, 0, 0, 0, 0, 0, 0, 0, 0, 0, 0, 0,\n        0, 0, 0, 0, 0, 0, 0, 0, 0, 0, 0, 0, 0, 0, 0, 0, 0, 0, 0, 0, 0, 0,\n        0, 0, 0, 0, 0, 0, 0, 0, 0, 0, 0, 0, 0, 0, 0, 0, 0, 0, 0, 0, 0, 0,\n        0, 0, 0, 0, 0, 0, 0, 0, 0, 0, 0, 0, 0, 0, 0, 0, 0, 0, 0, 0, 0, 0,\n        0, 0, 0, 0, 0, 0, 0, 0, 0, 0, 0, 0, 0, 0, 0, 0, 0, 0, 0, 0, 0, 0,\n        0, 0, 0, 0, 0, 0, 0, 0, 0, 0, 0, 0, 0, 0, 0, 0, 0, 0, 0, 0, 0, 0,\n        0, 0, 0, 0, 0, 0, 0, 0, 0, 0, 0, 0, 0, 0, 0, 0, 0, 0, 0, 0, 0, 0,\n        0, 0, 0, 0, 0, 0, 0, 0, 0, 0, 0, 0, 0, 0, 0, 0, 0, 0, 0, 0, 0, 0,\n        0, 0, 0, 0, 0, 0, 0, 0, 0, 0, 0, 0, 0, 0, 0, 0, 0, 0, 0, 0, 0, 0,\n        0, 0, 0, 0, 0, 0, 0, 0, 0, 0, 0, 0, 0, 0, 0, 0, 0, 0, 0, 0, 0, 0,\n        0, 0, 0, 0, 0, 0]], dtype=int64)>, 'input_ids': <tf.Tensor: shape=(1, 512), dtype=int64, numpy=\narray([[    2,  9726,  1042,  3783,  1670,  4011,  1684,  9164, 12072,\n         1015,  1661,  3783,  2615,  1029,  4017,  1042,  1699,  4975,\n         1665,  9040,  1684,  9164,  1665,  1687,  6678,  1664,  3098,\n         1665,  1684, 11008,  1662,  1042,  1782,  4975,  1665,  5254,\n         1664,  1684,  6772, 24397,  4884,  1030,  1663,  5681,  1665,\n         1661,  1782,  4975,  1684,  9164, 12072, 24333,  1662,  1661,\n         9164,  1017,     3,     0,     0,     0,     0,     0,     0,\n            0,     0,     0,     0,     0,     0,     0,     0,     0,\n            0,     0,     0,     0,     0,     0,     0,     0,     0,\n            0,     0,     0,     0,     0,     0,     0,     0,     0,\n            0,     0,     0,     0,     0,     0,     0,     0,     0,\n            0,     0,     0,     0,     0,     0,     0,     0,     0,\n            0,     0,     0,     0,     0,     0,     0,     0,     0,\n            0,     0,     0,     0,     0,     0,     0,     0,     0,\n            0,     0,     0,     0,     0,     0,     0,     0,     0,\n            0,     0,     0,     0,     0,     0,     0,     0,     0,\n            0,     0,     0,     0,     0,     0,     0,     0,     0,\n            0,     0,     0,     0,     0,     0,     0,     0,     0,\n            0,     0,     0,     0,     0,     0,     0,     0,     0,\n            0,     0,     0,     0,     0,     0,     0,     0,     0,\n            0,     0,     0,     0,     0,     0,     0,     0,     0,\n            0,     0,     0,     0,     0,     0,     0,     0,     0,\n            0,     0,     0,     0,     0,     0,     0,     0,     0,\n            0,     0,     0,     0,     0,     0,     0,     0,     0,\n            0,     0,     0,     0,     0,     0,     0,     0,     0,\n            0,     0,     0,     0,     0,     0,     0,     0,     0,\n            0,     0,     0,     0,     0,     0,     0,     0,     0,\n            0,     0,     0,     0,     0,     0,     0,     0,     0,\n            0,     0,     0,     0,     0,     0,     0,     0,     0,\n            0,     0,     0,     0,     0,     0,     0,     0,     0,\n            0,     0,     0,     0,     0,     0,     0,     0,     0,\n            0,     0,     0,     0,     0,     0,     0,     0,     0,\n            0,     0,     0,     0,     0,     0,     0,     0,     0,\n            0,     0,     0,     0,     0,     0,     0,     0,     0,\n            0,     0,     0,     0,     0,     0,     0,     0,     0,\n            0,     0,     0,     0,     0,     0,     0,     0,     0,\n            0,     0,     0,     0,     0,     0,     0,     0,     0,\n            0,     0,     0,     0,     0,     0,     0,     0,     0,\n            0,     0,     0,     0,     0,     0,     0,     0,     0,\n            0,     0,     0,     0,     0,     0,     0,     0,     0,\n            0,     0,     0,     0,     0,     0,     0,     0,     0,\n            0,     0,     0,     0,     0,     0,     0,     0,     0,\n            0,     0,     0,     0,     0,     0,     0,     0,     0,\n            0,     0,     0,     0,     0,     0,     0,     0,     0,\n            0,     0,     0,     0,     0,     0,     0,     0,     0,\n            0,     0,     0,     0,     0,     0,     0,     0,     0,\n            0,     0,     0,     0,     0,     0,     0,     0,     0,\n            0,     0,     0,     0,     0,     0,     0,     0,     0,\n            0,     0,     0,     0,     0,     0,     0,     0,     0,\n            0,     0,     0,     0,     0,     0,     0,     0,     0,\n            0,     0,     0,     0,     0,     0,     0,     0,     0,\n            0,     0,     0,     0,     0,     0,     0,     0,     0,\n            0,     0,     0,     0,     0,     0,     0,     0,     0,\n            0,     0,     0,     0,     0,     0,     0,     0,     0,\n            0,     0,     0,     0,     0,     0,     0,     0,     0,\n            0,     0,     0,     0,     0,     0,     0,     0,     0,\n            0,     0,     0,     0,     0,     0,     0,     0]],\n      dtype=int64)>, 'mlm_positions': <tf.Tensor: shape=(0,), dtype=int64, numpy=array([], dtype=int64)>} for signature: () -> Dict[['mlm_logits', TensorSpec(shape=(None, 39859), dtype=tf.float32, name=None)], ['cls_token', TensorSpec(shape=(None, 1024), dtype=tf.float32, name=None)], ['encoder_layer', TensorSpec(shape=(None, 512, 1024), dtype=tf.float32, name=None)], ['next_sentence_logits', TensorSpec(shape=(None, 2), dtype=tf.float32, name=None)]].",
      "\nDuring handling of the above exception, another exception occurred:\n",
      "\u001b[1;31mKeyboardInterrupt\u001b[0m                         Traceback (most recent call last)",
      "Cell \u001b[1;32mIn[10], line 5\u001b[0m\n\u001b[0;32m      3\u001b[0m \u001b[38;5;28;01mimport\u001b[39;00m \u001b[38;5;21;01mimportlib\u001b[39;00m\n\u001b[0;32m      4\u001b[0m importlib\u001b[38;5;241m.\u001b[39mreload(api\u001b[38;5;241m.\u001b[39mfind_similar_patents)\n\u001b[1;32m----> 5\u001b[0m embd_of_to_compare_against \u001b[38;5;241m=\u001b[39m \u001b[43mapi\u001b[49m\u001b[38;5;241;43m.\u001b[39;49m\u001b[43mfind_similar_patents\u001b[49m\u001b[38;5;241;43m.\u001b[39;49m\u001b[43mget_embeddings_from_field\u001b[49m\u001b[43m(\u001b[49m\u001b[43mpatent\u001b[49m\u001b[43m,\u001b[49m\u001b[43m \u001b[49m\u001b[43mfilter_tfidf\u001b[49m\u001b[38;5;241;43m=\u001b[39;49m\u001b[38;5;28;43;01mTrue\u001b[39;49;00m\u001b[43m)\u001b[49m\n",
      "File \u001b[1;32m~\\Desktop\\uc3m PhD\\05 Analysis\\01 Main\\api\\find_similar_patents.py:71\u001b[0m, in \u001b[0;36mget_embeddings_from_field\u001b[1;34m(patent, filter_tfidf, assignee_file)\u001b[0m\n\u001b[0;32m     69\u001b[0m docs_embeddings \u001b[38;5;241m=\u001b[39m []\n\u001b[0;32m     70\u001b[0m \u001b[38;5;28;01mfor\u001b[39;00m \u001b[38;5;28mabs\u001b[39m \u001b[38;5;129;01min\u001b[39;00m filtered_abstracts:\n\u001b[1;32m---> 71\u001b[0m     docs_embeddings\u001b[38;5;241m.\u001b[39mappend(\u001b[43mbe\u001b[49m\u001b[38;5;241;43m.\u001b[39;49m\u001b[43mget_embd_of_whole_abstract\u001b[49m\u001b[43m(\u001b[49m\u001b[38;5;28;43mabs\u001b[39;49m\u001b[43m,\u001b[49m\u001b[43m \u001b[49m\u001b[43mhas_context_token\u001b[49m\u001b[38;5;241;43m=\u001b[39;49m\u001b[38;5;28;43;01mTrue\u001b[39;49;00m\u001b[43m)\u001b[49m)\n\u001b[0;32m     73\u001b[0m \u001b[38;5;28;01mreturn\u001b[39;00m docs_embeddings, filtered_abstracts\n",
      "File \u001b[1;32m~\\Desktop\\uc3m PhD\\05 Analysis\\01 Main\\api\\bertembeddings.py:87\u001b[0m, in \u001b[0;36mget_embd_of_whole_abstract\u001b[1;34m(abstracts, return_cls_embedding, has_context_token)\u001b[0m\n\u001b[0;32m     85\u001b[0m \u001b[38;5;66;03m## Add context tokens if needed\u001b[39;00m\n\u001b[0;32m     86\u001b[0m \u001b[38;5;28;01mif\u001b[39;00m has_context_token:\n\u001b[1;32m---> 87\u001b[0m     context_tokens \u001b[38;5;241m=\u001b[39m [\u001b[38;5;124m'\u001b[39m\u001b[38;5;124mabstract\u001b[39m\u001b[38;5;124m'\u001b[39m]\n\u001b[0;32m     88\u001b[0m \u001b[38;5;28;01melse\u001b[39;00m:\n\u001b[0;32m     89\u001b[0m     context_tokens \u001b[38;5;241m=\u001b[39m []\n",
      "File \u001b[1;32m~\\Desktop\\uc3m PhD\\05 Analysis\\01 Main\\api\\bertfns.py:269\u001b[0m, in \u001b[0;36mBertPredictor.predict\u001b[1;34m(self, texts, mlm_ids, context_tokens)\u001b[0m\n\u001b[0;32m    265\u001b[0m   inputs \u001b[38;5;241m=\u001b[39m \u001b[38;5;28mself\u001b[39m\u001b[38;5;241m.\u001b[39madd_input_context(inputs, context_tokens)\n\u001b[0;32m    267\u001b[0m inputs, masked_text \u001b[38;5;241m=\u001b[39m \u001b[38;5;28mself\u001b[39m\u001b[38;5;241m.\u001b[39mcreate_mlm_mask(inputs, mlm_ids)\n\u001b[1;32m--> 269\u001b[0m response \u001b[38;5;241m=\u001b[39m \u001b[38;5;28;43mself\u001b[39;49m\u001b[38;5;241;43m.\u001b[39;49m\u001b[43mmodel\u001b[49m\u001b[43m(\u001b[49m\n\u001b[0;32m    270\u001b[0m \u001b[43m  \u001b[49m\u001b[43msegment_ids\u001b[49m\u001b[38;5;241;43m=\u001b[39;49m\u001b[43mtf\u001b[49m\u001b[38;5;241;43m.\u001b[39;49m\u001b[43mconvert_to_tensor\u001b[49m\u001b[43m(\u001b[49m\u001b[43minputs\u001b[49m\u001b[43m[\u001b[49m\u001b[38;5;124;43m'\u001b[39;49m\u001b[38;5;124;43msegment_ids\u001b[39;49m\u001b[38;5;124;43m'\u001b[39;49m\u001b[43m]\u001b[49m\u001b[43m,\u001b[49m\u001b[43m \u001b[49m\u001b[43mdtype\u001b[49m\u001b[38;5;241;43m=\u001b[39;49m\u001b[43mtf\u001b[49m\u001b[38;5;241;43m.\u001b[39;49m\u001b[43mint64\u001b[49m\u001b[43m)\u001b[49m\u001b[43m,\u001b[49m\n\u001b[0;32m    271\u001b[0m \u001b[43m  \u001b[49m\u001b[43minput_mask\u001b[49m\u001b[38;5;241;43m=\u001b[39;49m\u001b[43mtf\u001b[49m\u001b[38;5;241;43m.\u001b[39;49m\u001b[43mconvert_to_tensor\u001b[49m\u001b[43m(\u001b[49m\u001b[43minputs\u001b[49m\u001b[43m[\u001b[49m\u001b[38;5;124;43m'\u001b[39;49m\u001b[38;5;124;43minput_mask\u001b[39;49m\u001b[38;5;124;43m'\u001b[39;49m\u001b[43m]\u001b[49m\u001b[43m,\u001b[49m\u001b[43m \u001b[49m\u001b[43mdtype\u001b[49m\u001b[38;5;241;43m=\u001b[39;49m\u001b[43mtf\u001b[49m\u001b[38;5;241;43m.\u001b[39;49m\u001b[43mint64\u001b[49m\u001b[43m)\u001b[49m\u001b[43m,\u001b[49m\n\u001b[0;32m    272\u001b[0m \u001b[43m  \u001b[49m\u001b[43minput_ids\u001b[49m\u001b[38;5;241;43m=\u001b[39;49m\u001b[43mtf\u001b[49m\u001b[38;5;241;43m.\u001b[39;49m\u001b[43mconvert_to_tensor\u001b[49m\u001b[43m(\u001b[49m\u001b[43minputs\u001b[49m\u001b[43m[\u001b[49m\u001b[38;5;124;43m'\u001b[39;49m\u001b[38;5;124;43minput_ids\u001b[39;49m\u001b[38;5;124;43m'\u001b[39;49m\u001b[43m]\u001b[49m\u001b[43m,\u001b[49m\u001b[43m \u001b[49m\u001b[43mdtype\u001b[49m\u001b[38;5;241;43m=\u001b[39;49m\u001b[43mtf\u001b[49m\u001b[38;5;241;43m.\u001b[39;49m\u001b[43mint64\u001b[49m\u001b[43m)\u001b[49m\u001b[43m,\u001b[49m\n\u001b[0;32m    273\u001b[0m \u001b[43m  \u001b[49m\u001b[43mmlm_positions\u001b[49m\u001b[38;5;241;43m=\u001b[39;49m\u001b[43mtf\u001b[49m\u001b[38;5;241;43m.\u001b[39;49m\u001b[43mconvert_to_tensor\u001b[49m\u001b[43m(\u001b[49m\u001b[43minputs\u001b[49m\u001b[43m[\u001b[49m\u001b[38;5;124;43m'\u001b[39;49m\u001b[38;5;124;43mmlm_ids\u001b[39;49m\u001b[38;5;124;43m'\u001b[39;49m\u001b[43m]\u001b[49m\u001b[43m,\u001b[49m\u001b[43m \u001b[49m\u001b[43mdtype\u001b[49m\u001b[38;5;241;43m=\u001b[39;49m\u001b[43mtf\u001b[49m\u001b[38;5;241;43m.\u001b[39;49m\u001b[43mint64\u001b[49m\u001b[43m)\u001b[49m\u001b[43m,\u001b[49m\n\u001b[0;32m    274\u001b[0m \u001b[43m  \u001b[49m\u001b[43m)\u001b[49m\n\u001b[0;32m    276\u001b[0m \u001b[38;5;28;01mif\u001b[39;00m mlm_ids:\n\u001b[0;32m    277\u001b[0m   \u001b[38;5;66;03m# Do a reshape of the mlm logits (batch size, num predictions, vocab).\u001b[39;00m\n\u001b[0;32m    278\u001b[0m   new_shape \u001b[38;5;241m=\u001b[39m (\u001b[38;5;28mlen\u001b[39m(texts), \u001b[38;5;28mself\u001b[39m\u001b[38;5;241m.\u001b[39mmax_preds_per_seq, \u001b[38;5;241m-\u001b[39m\u001b[38;5;241m1\u001b[39m)\n",
      "File \u001b[1;32mc:\\Users\\amusali\\Desktop\\uc3m PhD\\venv\\Lib\\site-packages\\tensorflow\\python\\eager\\polymorphic_function\\concrete_function.py:1170\u001b[0m, in \u001b[0;36mConcreteFunction.__call__\u001b[1;34m(self, *args, **kwargs)\u001b[0m\n\u001b[0;32m   1120\u001b[0m \u001b[38;5;28;01mdef\u001b[39;00m \u001b[38;5;21m__call__\u001b[39m(\u001b[38;5;28mself\u001b[39m, \u001b[38;5;241m*\u001b[39margs, \u001b[38;5;241m*\u001b[39m\u001b[38;5;241m*\u001b[39mkwargs):\n\u001b[0;32m   1121\u001b[0m \u001b[38;5;250m  \u001b[39m\u001b[38;5;124;03m\"\"\"Executes the wrapped function.\u001b[39;00m\n\u001b[0;32m   1122\u001b[0m \n\u001b[0;32m   1123\u001b[0m \u001b[38;5;124;03m  ConcreteFunctions have two signatures:\u001b[39;00m\n\u001b[1;32m   (...)\u001b[0m\n\u001b[0;32m   1168\u001b[0m \u001b[38;5;124;03m    TypeError: If the arguments do not match the function's signature.\u001b[39;00m\n\u001b[0;32m   1169\u001b[0m \u001b[38;5;124;03m  \"\"\"\u001b[39;00m\n\u001b[1;32m-> 1170\u001b[0m   \u001b[38;5;28;01mreturn\u001b[39;00m \u001b[38;5;28;43mself\u001b[39;49m\u001b[38;5;241;43m.\u001b[39;49m\u001b[43m_call_impl\u001b[49m\u001b[43m(\u001b[49m\u001b[43margs\u001b[49m\u001b[43m,\u001b[49m\u001b[43m \u001b[49m\u001b[43mkwargs\u001b[49m\u001b[43m)\u001b[49m\n",
      "File \u001b[1;32mc:\\Users\\amusali\\Desktop\\uc3m PhD\\venv\\Lib\\site-packages\\tensorflow\\python\\eager\\wrap_function.py:253\u001b[0m, in \u001b[0;36mWrappedFunction._call_impl\u001b[1;34m(self, args, kwargs)\u001b[0m\n\u001b[0;32m    251\u001b[0m   \u001b[38;5;28;01mreturn\u001b[39;00m \u001b[38;5;28mself\u001b[39m\u001b[38;5;241m.\u001b[39m_call_flat(args, \u001b[38;5;28mself\u001b[39m\u001b[38;5;241m.\u001b[39mcaptured_inputs)\n\u001b[0;32m    252\u001b[0m \u001b[38;5;28;01melse\u001b[39;00m:\n\u001b[1;32m--> 253\u001b[0m   \u001b[38;5;28;01mreturn\u001b[39;00m \u001b[38;5;28;43msuper\u001b[39;49m\u001b[43m(\u001b[49m\u001b[43m)\u001b[49m\u001b[38;5;241;43m.\u001b[39;49m\u001b[43m_call_impl\u001b[49m\u001b[43m(\u001b[49m\u001b[43margs\u001b[49m\u001b[43m,\u001b[49m\u001b[43m \u001b[49m\u001b[43mkwargs\u001b[49m\u001b[43m)\u001b[49m\n",
      "File \u001b[1;32mc:\\Users\\amusali\\Desktop\\uc3m PhD\\venv\\Lib\\site-packages\\tensorflow\\python\\eager\\polymorphic_function\\concrete_function.py:1182\u001b[0m, in \u001b[0;36mConcreteFunction._call_impl\u001b[1;34m(self, args, kwargs)\u001b[0m\n\u001b[0;32m   1180\u001b[0m \u001b[38;5;28;01mexcept\u001b[39;00m \u001b[38;5;167;01mTypeError\u001b[39;00m \u001b[38;5;28;01mas\u001b[39;00m structured_err:\n\u001b[0;32m   1181\u001b[0m   \u001b[38;5;28;01mtry\u001b[39;00m:\n\u001b[1;32m-> 1182\u001b[0m     \u001b[38;5;28;01mreturn\u001b[39;00m \u001b[38;5;28;43mself\u001b[39;49m\u001b[38;5;241;43m.\u001b[39;49m\u001b[43m_call_with_flat_signature\u001b[49m\u001b[43m(\u001b[49m\u001b[43margs\u001b[49m\u001b[43m,\u001b[49m\u001b[43m \u001b[49m\u001b[43mkwargs\u001b[49m\u001b[43m)\u001b[49m\n\u001b[0;32m   1183\u001b[0m   \u001b[38;5;28;01mexcept\u001b[39;00m (\u001b[38;5;167;01mTypeError\u001b[39;00m, \u001b[38;5;167;01mValueError\u001b[39;00m) \u001b[38;5;28;01mas\u001b[39;00m flat_err:\n\u001b[0;32m   1184\u001b[0m     \u001b[38;5;28;01mraise\u001b[39;00m \u001b[38;5;167;01mTypeError\u001b[39;00m(  \u001b[38;5;66;03m# pylint: disable=raise-missing-from\u001b[39;00m\n\u001b[0;32m   1185\u001b[0m         \u001b[38;5;28mstr\u001b[39m(structured_err)\n\u001b[0;32m   1186\u001b[0m         \u001b[38;5;241m+\u001b[39m \u001b[38;5;124m\"\u001b[39m\u001b[38;5;130;01m\\n\u001b[39;00m\u001b[38;5;124mFallback to flat signature also failed due to: \u001b[39m\u001b[38;5;124m\"\u001b[39m\n\u001b[0;32m   1187\u001b[0m         \u001b[38;5;241m+\u001b[39m \u001b[38;5;28mstr\u001b[39m(flat_err)\n\u001b[0;32m   1188\u001b[0m     )\n",
      "File \u001b[1;32mc:\\Users\\amusali\\Desktop\\uc3m PhD\\venv\\Lib\\site-packages\\tensorflow\\python\\eager\\polymorphic_function\\concrete_function.py:1242\u001b[0m, in \u001b[0;36mConcreteFunction._call_with_flat_signature\u001b[1;34m(self, args, kwargs)\u001b[0m\n\u001b[0;32m   1237\u001b[0m   \u001b[38;5;28;01mif\u001b[39;00m \u001b[38;5;129;01mnot\u001b[39;00m \u001b[38;5;28misinstance\u001b[39m(\n\u001b[0;32m   1238\u001b[0m       arg, (tensor_lib\u001b[38;5;241m.\u001b[39mTensor, resource_variable_ops\u001b[38;5;241m.\u001b[39mBaseResourceVariable)):\n\u001b[0;32m   1239\u001b[0m     \u001b[38;5;28;01mraise\u001b[39;00m \u001b[38;5;167;01mTypeError\u001b[39;00m(\u001b[38;5;124mf\u001b[39m\u001b[38;5;124m\"\u001b[39m\u001b[38;5;132;01m{\u001b[39;00m\u001b[38;5;28mself\u001b[39m\u001b[38;5;241m.\u001b[39m_flat_signature_summary()\u001b[38;5;132;01m}\u001b[39;00m\u001b[38;5;124m: expected argument \u001b[39m\u001b[38;5;124m\"\u001b[39m\n\u001b[0;32m   1240\u001b[0m                     \u001b[38;5;124mf\u001b[39m\u001b[38;5;124m\"\u001b[39m\u001b[38;5;124m#\u001b[39m\u001b[38;5;132;01m{\u001b[39;00mi\u001b[38;5;132;01m}\u001b[39;00m\u001b[38;5;124m(zero-based) to be a Tensor; \u001b[39m\u001b[38;5;124m\"\u001b[39m\n\u001b[0;32m   1241\u001b[0m                     \u001b[38;5;124mf\u001b[39m\u001b[38;5;124m\"\u001b[39m\u001b[38;5;124mgot \u001b[39m\u001b[38;5;132;01m{\u001b[39;00m\u001b[38;5;28mtype\u001b[39m(arg)\u001b[38;5;241m.\u001b[39m\u001b[38;5;18m__name__\u001b[39m\u001b[38;5;132;01m}\u001b[39;00m\u001b[38;5;124m (\u001b[39m\u001b[38;5;132;01m{\u001b[39;00marg\u001b[38;5;132;01m}\u001b[39;00m\u001b[38;5;124m).\u001b[39m\u001b[38;5;124m\"\u001b[39m)\n\u001b[1;32m-> 1242\u001b[0m \u001b[38;5;28;01mreturn\u001b[39;00m \u001b[38;5;28;43mself\u001b[39;49m\u001b[38;5;241;43m.\u001b[39;49m\u001b[43m_call_flat\u001b[49m\u001b[43m(\u001b[49m\u001b[43margs\u001b[49m\u001b[43m,\u001b[49m\u001b[43m \u001b[49m\u001b[38;5;28;43mself\u001b[39;49m\u001b[38;5;241;43m.\u001b[39;49m\u001b[43mcaptured_inputs\u001b[49m\u001b[43m)\u001b[49m\n",
      "File \u001b[1;32mc:\\Users\\amusali\\Desktop\\uc3m PhD\\venv\\Lib\\site-packages\\tensorflow\\python\\eager\\polymorphic_function\\concrete_function.py:1322\u001b[0m, in \u001b[0;36mConcreteFunction._call_flat\u001b[1;34m(self, tensor_inputs, captured_inputs)\u001b[0m\n\u001b[0;32m   1318\u001b[0m possible_gradient_type \u001b[38;5;241m=\u001b[39m gradients_util\u001b[38;5;241m.\u001b[39mPossibleTapeGradientTypes(args)\n\u001b[0;32m   1319\u001b[0m \u001b[38;5;28;01mif\u001b[39;00m (possible_gradient_type \u001b[38;5;241m==\u001b[39m gradients_util\u001b[38;5;241m.\u001b[39mPOSSIBLE_GRADIENT_TYPES_NONE\n\u001b[0;32m   1320\u001b[0m     \u001b[38;5;129;01mand\u001b[39;00m executing_eagerly):\n\u001b[0;32m   1321\u001b[0m   \u001b[38;5;66;03m# No tape is watching; skip to running the function.\u001b[39;00m\n\u001b[1;32m-> 1322\u001b[0m   \u001b[38;5;28;01mreturn\u001b[39;00m \u001b[38;5;28;43mself\u001b[39;49m\u001b[38;5;241;43m.\u001b[39;49m\u001b[43m_inference_function\u001b[49m\u001b[38;5;241;43m.\u001b[39;49m\u001b[43mcall_preflattened\u001b[49m\u001b[43m(\u001b[49m\u001b[43margs\u001b[49m\u001b[43m)\u001b[49m\n\u001b[0;32m   1323\u001b[0m forward_backward \u001b[38;5;241m=\u001b[39m \u001b[38;5;28mself\u001b[39m\u001b[38;5;241m.\u001b[39m_select_forward_and_backward_functions(\n\u001b[0;32m   1324\u001b[0m     args,\n\u001b[0;32m   1325\u001b[0m     possible_gradient_type,\n\u001b[0;32m   1326\u001b[0m     executing_eagerly)\n\u001b[0;32m   1327\u001b[0m forward_function, args_with_tangents \u001b[38;5;241m=\u001b[39m forward_backward\u001b[38;5;241m.\u001b[39mforward()\n",
      "File \u001b[1;32mc:\\Users\\amusali\\Desktop\\uc3m PhD\\venv\\Lib\\site-packages\\tensorflow\\python\\eager\\polymorphic_function\\atomic_function.py:216\u001b[0m, in \u001b[0;36mAtomicFunction.call_preflattened\u001b[1;34m(self, args)\u001b[0m\n\u001b[0;32m    214\u001b[0m \u001b[38;5;28;01mdef\u001b[39;00m \u001b[38;5;21mcall_preflattened\u001b[39m(\u001b[38;5;28mself\u001b[39m, args: Sequence[core\u001b[38;5;241m.\u001b[39mTensor]) \u001b[38;5;241m-\u001b[39m\u001b[38;5;241m>\u001b[39m Any:\n\u001b[0;32m    215\u001b[0m \u001b[38;5;250m  \u001b[39m\u001b[38;5;124;03m\"\"\"Calls with flattened tensor inputs and returns the structured output.\"\"\"\u001b[39;00m\n\u001b[1;32m--> 216\u001b[0m   flat_outputs \u001b[38;5;241m=\u001b[39m \u001b[38;5;28;43mself\u001b[39;49m\u001b[38;5;241;43m.\u001b[39;49m\u001b[43mcall_flat\u001b[49m\u001b[43m(\u001b[49m\u001b[38;5;241;43m*\u001b[39;49m\u001b[43margs\u001b[49m\u001b[43m)\u001b[49m\n\u001b[0;32m    217\u001b[0m   \u001b[38;5;28;01mreturn\u001b[39;00m \u001b[38;5;28mself\u001b[39m\u001b[38;5;241m.\u001b[39mfunction_type\u001b[38;5;241m.\u001b[39mpack_output(flat_outputs)\n",
      "File \u001b[1;32mc:\\Users\\amusali\\Desktop\\uc3m PhD\\venv\\Lib\\site-packages\\tensorflow\\python\\eager\\polymorphic_function\\atomic_function.py:251\u001b[0m, in \u001b[0;36mAtomicFunction.call_flat\u001b[1;34m(self, *args)\u001b[0m\n\u001b[0;32m    249\u001b[0m \u001b[38;5;28;01mwith\u001b[39;00m record\u001b[38;5;241m.\u001b[39mstop_recording():\n\u001b[0;32m    250\u001b[0m   \u001b[38;5;28;01mif\u001b[39;00m \u001b[38;5;28mself\u001b[39m\u001b[38;5;241m.\u001b[39m_bound_context\u001b[38;5;241m.\u001b[39mexecuting_eagerly():\n\u001b[1;32m--> 251\u001b[0m     outputs \u001b[38;5;241m=\u001b[39m \u001b[38;5;28;43mself\u001b[39;49m\u001b[38;5;241;43m.\u001b[39;49m\u001b[43m_bound_context\u001b[49m\u001b[38;5;241;43m.\u001b[39;49m\u001b[43mcall_function\u001b[49m\u001b[43m(\u001b[49m\n\u001b[0;32m    252\u001b[0m \u001b[43m        \u001b[49m\u001b[38;5;28;43mself\u001b[39;49m\u001b[38;5;241;43m.\u001b[39;49m\u001b[43mname\u001b[49m\u001b[43m,\u001b[49m\n\u001b[0;32m    253\u001b[0m \u001b[43m        \u001b[49m\u001b[38;5;28;43mlist\u001b[39;49m\u001b[43m(\u001b[49m\u001b[43margs\u001b[49m\u001b[43m)\u001b[49m\u001b[43m,\u001b[49m\n\u001b[0;32m    254\u001b[0m \u001b[43m        \u001b[49m\u001b[38;5;28;43mlen\u001b[39;49m\u001b[43m(\u001b[49m\u001b[38;5;28;43mself\u001b[39;49m\u001b[38;5;241;43m.\u001b[39;49m\u001b[43mfunction_type\u001b[49m\u001b[38;5;241;43m.\u001b[39;49m\u001b[43mflat_outputs\u001b[49m\u001b[43m)\u001b[49m\u001b[43m,\u001b[49m\n\u001b[0;32m    255\u001b[0m \u001b[43m    \u001b[49m\u001b[43m)\u001b[49m\n\u001b[0;32m    256\u001b[0m   \u001b[38;5;28;01melse\u001b[39;00m:\n\u001b[0;32m    257\u001b[0m     outputs \u001b[38;5;241m=\u001b[39m make_call_op_in_graph(\n\u001b[0;32m    258\u001b[0m         \u001b[38;5;28mself\u001b[39m,\n\u001b[0;32m    259\u001b[0m         \u001b[38;5;28mlist\u001b[39m(args),\n\u001b[0;32m    260\u001b[0m         \u001b[38;5;28mself\u001b[39m\u001b[38;5;241m.\u001b[39m_bound_context\u001b[38;5;241m.\u001b[39mfunction_call_options\u001b[38;5;241m.\u001b[39mas_attrs(),\n\u001b[0;32m    261\u001b[0m     )\n",
      "File \u001b[1;32mc:\\Users\\amusali\\Desktop\\uc3m PhD\\venv\\Lib\\site-packages\\tensorflow\\python\\eager\\context.py:1552\u001b[0m, in \u001b[0;36mContext.call_function\u001b[1;34m(self, name, tensor_inputs, num_outputs)\u001b[0m\n\u001b[0;32m   1550\u001b[0m cancellation_context \u001b[38;5;241m=\u001b[39m cancellation\u001b[38;5;241m.\u001b[39mcontext()\n\u001b[0;32m   1551\u001b[0m \u001b[38;5;28;01mif\u001b[39;00m cancellation_context \u001b[38;5;129;01mis\u001b[39;00m \u001b[38;5;28;01mNone\u001b[39;00m:\n\u001b[1;32m-> 1552\u001b[0m   outputs \u001b[38;5;241m=\u001b[39m \u001b[43mexecute\u001b[49m\u001b[38;5;241;43m.\u001b[39;49m\u001b[43mexecute\u001b[49m\u001b[43m(\u001b[49m\n\u001b[0;32m   1553\u001b[0m \u001b[43m      \u001b[49m\u001b[43mname\u001b[49m\u001b[38;5;241;43m.\u001b[39;49m\u001b[43mdecode\u001b[49m\u001b[43m(\u001b[49m\u001b[38;5;124;43m\"\u001b[39;49m\u001b[38;5;124;43mutf-8\u001b[39;49m\u001b[38;5;124;43m\"\u001b[39;49m\u001b[43m)\u001b[49m\u001b[43m,\u001b[49m\n\u001b[0;32m   1554\u001b[0m \u001b[43m      \u001b[49m\u001b[43mnum_outputs\u001b[49m\u001b[38;5;241;43m=\u001b[39;49m\u001b[43mnum_outputs\u001b[49m\u001b[43m,\u001b[49m\n\u001b[0;32m   1555\u001b[0m \u001b[43m      \u001b[49m\u001b[43minputs\u001b[49m\u001b[38;5;241;43m=\u001b[39;49m\u001b[43mtensor_inputs\u001b[49m\u001b[43m,\u001b[49m\n\u001b[0;32m   1556\u001b[0m \u001b[43m      \u001b[49m\u001b[43mattrs\u001b[49m\u001b[38;5;241;43m=\u001b[39;49m\u001b[43mattrs\u001b[49m\u001b[43m,\u001b[49m\n\u001b[0;32m   1557\u001b[0m \u001b[43m      \u001b[49m\u001b[43mctx\u001b[49m\u001b[38;5;241;43m=\u001b[39;49m\u001b[38;5;28;43mself\u001b[39;49m\u001b[43m,\u001b[49m\n\u001b[0;32m   1558\u001b[0m \u001b[43m  \u001b[49m\u001b[43m)\u001b[49m\n\u001b[0;32m   1559\u001b[0m \u001b[38;5;28;01melse\u001b[39;00m:\n\u001b[0;32m   1560\u001b[0m   outputs \u001b[38;5;241m=\u001b[39m execute\u001b[38;5;241m.\u001b[39mexecute_with_cancellation(\n\u001b[0;32m   1561\u001b[0m       name\u001b[38;5;241m.\u001b[39mdecode(\u001b[38;5;124m\"\u001b[39m\u001b[38;5;124mutf-8\u001b[39m\u001b[38;5;124m\"\u001b[39m),\n\u001b[0;32m   1562\u001b[0m       num_outputs\u001b[38;5;241m=\u001b[39mnum_outputs,\n\u001b[1;32m   (...)\u001b[0m\n\u001b[0;32m   1566\u001b[0m       cancellation_manager\u001b[38;5;241m=\u001b[39mcancellation_context,\n\u001b[0;32m   1567\u001b[0m   )\n",
      "File \u001b[1;32mc:\\Users\\amusali\\Desktop\\uc3m PhD\\venv\\Lib\\site-packages\\tensorflow\\python\\eager\\execute.py:53\u001b[0m, in \u001b[0;36mquick_execute\u001b[1;34m(op_name, num_outputs, inputs, attrs, ctx, name)\u001b[0m\n\u001b[0;32m     51\u001b[0m \u001b[38;5;28;01mtry\u001b[39;00m:\n\u001b[0;32m     52\u001b[0m   ctx\u001b[38;5;241m.\u001b[39mensure_initialized()\n\u001b[1;32m---> 53\u001b[0m   tensors \u001b[38;5;241m=\u001b[39m \u001b[43mpywrap_tfe\u001b[49m\u001b[38;5;241;43m.\u001b[39;49m\u001b[43mTFE_Py_Execute\u001b[49m\u001b[43m(\u001b[49m\u001b[43mctx\u001b[49m\u001b[38;5;241;43m.\u001b[39;49m\u001b[43m_handle\u001b[49m\u001b[43m,\u001b[49m\u001b[43m \u001b[49m\u001b[43mdevice_name\u001b[49m\u001b[43m,\u001b[49m\u001b[43m \u001b[49m\u001b[43mop_name\u001b[49m\u001b[43m,\u001b[49m\n\u001b[0;32m     54\u001b[0m \u001b[43m                                      \u001b[49m\u001b[43minputs\u001b[49m\u001b[43m,\u001b[49m\u001b[43m \u001b[49m\u001b[43mattrs\u001b[49m\u001b[43m,\u001b[49m\u001b[43m \u001b[49m\u001b[43mnum_outputs\u001b[49m\u001b[43m)\u001b[49m\n\u001b[0;32m     55\u001b[0m \u001b[38;5;28;01mexcept\u001b[39;00m core\u001b[38;5;241m.\u001b[39m_NotOkStatusException \u001b[38;5;28;01mas\u001b[39;00m e:\n\u001b[0;32m     56\u001b[0m   \u001b[38;5;28;01mif\u001b[39;00m name \u001b[38;5;129;01mis\u001b[39;00m \u001b[38;5;129;01mnot\u001b[39;00m \u001b[38;5;28;01mNone\u001b[39;00m:\n",
      "\u001b[1;31mKeyboardInterrupt\u001b[0m: "
     ]
    }
   ],
   "source": [
    "import api.fetch_patents\n",
    "import api.find_similar_patents\n",
    "import importlib\n",
    "importlib.reload(api.find_similar_patents)\n",
    "embd_of_to_compare_against = api.find_similar_patents.get_embeddings_from_field(patent, filter_tfidf=True)\n"
   ]
  },
  {
   "cell_type": "code",
   "execution_count": 28,
   "metadata": {},
   "outputs": [],
   "source": [
    "from sklearn.metrics.pairwise import cosine_similarity\n",
    "\n",
    "x = cosine_similarity([embd_of_patent_being_compared], embd_of_to_compare_against).flatten()"
   ]
  },
  {
   "cell_type": "code",
   "execution_count": 6,
   "metadata": {},
   "outputs": [
    {
     "data": {
      "text/plain": [
       "'C:/Users/amusali/Desktop/uc3m PhD'"
      ]
     },
     "execution_count": 6,
     "metadata": {},
     "output_type": "execute_result"
    }
   ],
   "source": [
    "from path_utils import get_base_path\n",
    "get_base_path()"
   ]
  },
  {
   "cell_type": "code",
   "execution_count": 2,
   "metadata": {},
   "outputs": [
    {
     "name": "stdout",
     "output_type": "stream",
     "text": [
      "BERT loaded...\n",
      "['[CLS]', 'a', 'user', 'of', 'an', 'instant', 'messaging', 'system', 'may', 'store', 'names', 'of', 'other', 'users', 'of', 'the', 'instant', 'messaging', 'system', 'on', 'a', 'participant', 'list', '(', 'which', 'may', 'be', 'referred', 'to', 'as', 'a', '“', 'buddy', 'list', '”', ')', ',', 'and', 'the', 'names', 'may', 'be', 'categorized', 'into', 'one', 'or', 'more', 'groups', '.', 'similarly', ',', 'a', 'user', 'of', 'a', 'mobile', 'device', ',', 'such', 'as', 'a', 'mobile', 'telephone', ',', 'may', 'store', 'contact', 'information', 'about', 'people', 'on', 'the', 'mobile', 'device', '.', 'information', 'describing', 'the', 'on', '-', 'line', 'presence', 'of', 'the', 'user', 'within', 'the', 'instant', 'messaging', 'system', 'or', 'the', 'geographic', 'location', 'of', 'a', 'mobile', 'device', ',', 'such', 'as', 'a', 'mobile', 'telephone', 'associated', 'with', 'the', 'user', ',', 'may', 'be', 'disseminate', '##d', 'to', 'users', 'on', 'the', 'participant', 'list', 'or', 'to', 'people', 'on', 'the', 'contact', 'list', 'based', 'on', 'notification', 'information', 'that', 'is', 'associated', 'with', 'groups', 'of', 'users', 'or', 'contacts', '.', '[SEP]']\n",
      "There are 1 patents being fed into BERT\n",
      "It took 2.72 seconds to get the embeddings of the input.\n"
     ]
    }
   ],
   "source": [
    "import api.bertembeddings as be \n",
    "import importlib\n",
    "importlib.reload(be)\n",
    "patent =  x[0][45]\n",
    "embd_of_patent_being_compared = be.get_embd_of_whole_abstract(patent['abstract'])\n"
   ]
  },
  {
   "cell_type": "code",
   "execution_count": 2,
   "metadata": {},
   "outputs": [
    {
     "name": "stdout",
     "output_type": "stream",
     "text": [
      "Sleeping for:  0.29261272497310853 seconds\n"
     ]
    },
    {
     "ename": "TypeError",
     "evalue": "find_distances() missing 1 required positional argument: 'embd_of_to_compare_against'",
     "output_type": "error",
     "traceback": [
      "\u001b[1;31m---------------------------------------------------------------------------\u001b[0m",
      "\u001b[1;31mTypeError\u001b[0m                                 Traceback (most recent call last)",
      "Cell \u001b[1;32mIn[2], line 10\u001b[0m\n\u001b[0;32m      5\u001b[0m target \u001b[38;5;241m=\u001b[39m x[\u001b[38;5;241m0\u001b[39m][\u001b[38;5;241m45\u001b[39m]\n\u001b[0;32m      7\u001b[0m patents_in_fiedl \u001b[38;5;241m=\u001b[39m fp\u001b[38;5;241m.\u001b[39mget_patents_from_fields(target[\u001b[38;5;124m'\u001b[39m\u001b[38;5;124mtech_field\u001b[39m\u001b[38;5;124m'\u001b[39m], target[\u001b[38;5;124m'\u001b[39m\u001b[38;5;124myear\u001b[39m\u001b[38;5;124m'\u001b[39m]\u001b[38;5;241m.\u001b[39myear)[\u001b[38;5;241m0\u001b[39m][target[\u001b[38;5;124m'\u001b[39m\u001b[38;5;124mtech_field\u001b[39m\u001b[38;5;124m'\u001b[39m]][\u001b[38;5;28mstr\u001b[39m(target[\u001b[38;5;124m'\u001b[39m\u001b[38;5;124myear\u001b[39m\u001b[38;5;124m'\u001b[39m]\u001b[38;5;241m.\u001b[39myear)]\n\u001b[1;32m---> 10\u001b[0m dist_e, index_e, dist_cs, index_cs \u001b[38;5;241m=\u001b[39m \u001b[43mfp\u001b[49m\u001b[38;5;241;43m.\u001b[39;49m\u001b[43mfind_distances\u001b[49m\u001b[43m(\u001b[49m\u001b[43mtarget\u001b[49m\u001b[43m)\u001b[49m\n",
      "\u001b[1;31mTypeError\u001b[0m: find_distances() missing 1 required positional argument: 'embd_of_to_compare_against'"
     ]
    }
   ],
   "source": [
    "import api.fetch_patents as fp \n",
    "import importlib\n",
    "importlib.reload(fp)\n",
    "\n",
    "target = x[0][45]\n",
    "\n",
    "patents_in_fiedl = fp.get_patents_from_fields(target['tech_field'], target['year'].year)[0][target['tech_field']][str(target['year'].year)]\n",
    "\n",
    "\n",
    "dist_e, index_e, dist_cs, index_cs = fp.find_distances(target)"
   ]
  },
  {
   "cell_type": "code",
   "execution_count": 27,
   "metadata": {},
   "outputs": [
    {
     "name": "stdout",
     "output_type": "stream",
     "text": [
      "Sleeping for:  0.3371664564128517 seconds\n"
     ]
    }
   ],
   "source": [
    "#targets = [k['abstract'] for k in x[0]]\n",
    "target = patent\n",
    "patents_in_field = fp.get_patents_from_fields(target['tech_field'], target['year'].year)[0][target['tech_field']][str(target['year'].year)]['patents']\n"
   ]
  },
  {
   "cell_type": "code",
   "execution_count": 6,
   "metadata": {},
   "outputs": [],
   "source": [
    "dist_eu, index_eu, dist_cs, index_cs  = fp.find_distances(embeddings[0], embeddings[1])"
   ]
  },
  {
   "cell_type": "code",
   "execution_count": 24,
   "metadata": {},
   "outputs": [
    {
     "name": "stdout",
     "output_type": "stream",
     "text": [
      "Currently doing TF-IDF\n"
     ]
    }
   ],
   "source": [
    "\n",
    "import api.fetch_patents as fp\n",
    "import importlib\n",
    "importlib.reload(fp)\n",
    "abstracts = [p['abstract'] for p in patents_in_field]\n",
    "distances, index = fp.get_tfidf_from_field(abstracts, patent['abstract'])\n",
    "filtered_abstracts = fp.filter_patents_by_similarity(abstracts, distances, index)"
   ]
  },
  {
   "cell_type": "code",
   "execution_count": 35,
   "metadata": {},
   "outputs": [],
   "source": [
    "import api.fetch_patents as fp\n",
    "import importlib\n",
    "importlib.reload(fp)\n",
    "\n",
    "dist_eu, index_eu, dist_cs, index_cs  = fp.find_distances(own, against)"
   ]
  },
  {
   "cell_type": "code",
   "execution_count": 49,
   "metadata": {},
   "outputs": [],
   "source": [
    "\n",
    "batch_size = 6  # Adjust this based on your memory constraints\n",
    "abstracts = [d['abstract'] for d in patents_in_field]\n",
    "\n",
    "# Create batches of abstracts\n",
    "batched_abstracts = [abstracts[i:i + batch_size] for i in range(0, len(abstracts), batch_size)]\n",
    "\n",
    "\n"
   ]
  },
  {
   "cell_type": "code",
   "execution_count": null,
   "metadata": {},
   "outputs": [],
   "source": [
    "http://0.0.0.0:8888/?token=d4c9f2751d3a5b6013553dea8c57e188b306752d182fbd5c"
   ]
  },
  {
   "cell_type": "code",
   "execution_count": 51,
   "metadata": {},
   "outputs": [
    {
     "ename": "SyntaxError",
     "evalue": "invalid syntax (1198962508.py, line 1)",
     "output_type": "error",
     "traceback": [
      "\u001b[1;36m  Cell \u001b[1;32mIn[51], line 1\u001b[1;36m\u001b[0m\n\u001b[1;33m    jupyter notebook\u001b[0m\n\u001b[1;37m            ^\u001b[0m\n\u001b[1;31mSyntaxError\u001b[0m\u001b[1;31m:\u001b[0m invalid syntax\n"
     ]
    }
   ],
   "source": [
    "jupyter notebook\n"
   ]
  },
  {
   "cell_type": "code",
   "execution_count": 50,
   "metadata": {},
   "outputs": [
    {
     "name": "stdout",
     "output_type": "stream",
     "text": [
      "There are 6 patents being fed into BERT\n",
      "It took 1.92 seconds to get the embeddings of the input.\n",
      "There are 6 patents being fed into BERT\n",
      "It took 1.88 seconds to get the embeddings of the input.\n",
      "There are 6 patents being fed into BERT\n",
      "It took 2.02 seconds to get the embeddings of the input.\n",
      "There are 6 patents being fed into BERT\n",
      "It took 1.91 seconds to get the embeddings of the input.\n"
     ]
    },
    {
     "ename": "KeyboardInterrupt",
     "evalue": "",
     "output_type": "error",
     "traceback": [
      "\u001b[1;31m---------------------------------------------------------------------------\u001b[0m",
      "\u001b[1;31mTypeError\u001b[0m                                 Traceback (most recent call last)",
      "File \u001b[1;32mc:\\Users\\amusali\\Desktop\\uc3m PhD\\venv\\Lib\\site-packages\\tensorflow\\python\\eager\\polymorphic_function\\function_type_utils.py:442\u001b[0m, in \u001b[0;36mbind_function_inputs\u001b[1;34m(args, kwargs, function_type, default_values)\u001b[0m\n\u001b[0;32m    441\u001b[0m \u001b[38;5;28;01mtry\u001b[39;00m:\n\u001b[1;32m--> 442\u001b[0m   bound_arguments \u001b[38;5;241m=\u001b[39m \u001b[43mfunction_type\u001b[49m\u001b[38;5;241;43m.\u001b[39;49m\u001b[43mbind_with_defaults\u001b[49m\u001b[43m(\u001b[49m\n\u001b[0;32m    443\u001b[0m \u001b[43m      \u001b[49m\u001b[43margs\u001b[49m\u001b[43m,\u001b[49m\u001b[43m \u001b[49m\u001b[43msanitized_kwargs\u001b[49m\u001b[43m,\u001b[49m\u001b[43m \u001b[49m\u001b[43mdefault_values\u001b[49m\n\u001b[0;32m    444\u001b[0m \u001b[43m  \u001b[49m\u001b[43m)\u001b[49m\n\u001b[0;32m    445\u001b[0m \u001b[38;5;28;01mexcept\u001b[39;00m \u001b[38;5;167;01mException\u001b[39;00m \u001b[38;5;28;01mas\u001b[39;00m e:\n",
      "File \u001b[1;32mc:\\Users\\amusali\\Desktop\\uc3m PhD\\venv\\Lib\\site-packages\\tensorflow\\core\\function\\polymorphism\\function_type.py:264\u001b[0m, in \u001b[0;36mFunctionType.bind_with_defaults\u001b[1;34m(self, args, kwargs, default_values)\u001b[0m\n\u001b[0;32m    263\u001b[0m \u001b[38;5;250m\u001b[39m\u001b[38;5;124;03m\"\"\"Returns BoundArguments with default values filled in.\"\"\"\u001b[39;00m\n\u001b[1;32m--> 264\u001b[0m bound_arguments \u001b[38;5;241m=\u001b[39m \u001b[38;5;28;43mself\u001b[39;49m\u001b[38;5;241;43m.\u001b[39;49m\u001b[43mbind\u001b[49m\u001b[43m(\u001b[49m\u001b[38;5;241;43m*\u001b[39;49m\u001b[43margs\u001b[49m\u001b[43m,\u001b[49m\u001b[43m \u001b[49m\u001b[38;5;241;43m*\u001b[39;49m\u001b[38;5;241;43m*\u001b[39;49m\u001b[43mkwargs\u001b[49m\u001b[43m)\u001b[49m\n\u001b[0;32m    265\u001b[0m bound_arguments\u001b[38;5;241m.\u001b[39mapply_defaults()\n",
      "File \u001b[1;32m~\\AppData\\Local\\Programs\\Python\\Python312\\Lib\\inspect.py:3259\u001b[0m, in \u001b[0;36mSignature.bind\u001b[1;34m(self, *args, **kwargs)\u001b[0m\n\u001b[0;32m   3255\u001b[0m \u001b[38;5;250m\u001b[39m\u001b[38;5;124;03m\"\"\"Get a BoundArguments object, that maps the passed `args`\u001b[39;00m\n\u001b[0;32m   3256\u001b[0m \u001b[38;5;124;03mand `kwargs` to the function's signature.  Raises `TypeError`\u001b[39;00m\n\u001b[0;32m   3257\u001b[0m \u001b[38;5;124;03mif the passed arguments can not be bound.\u001b[39;00m\n\u001b[0;32m   3258\u001b[0m \u001b[38;5;124;03m\"\"\"\u001b[39;00m\n\u001b[1;32m-> 3259\u001b[0m \u001b[38;5;28;01mreturn\u001b[39;00m \u001b[38;5;28;43mself\u001b[39;49m\u001b[38;5;241;43m.\u001b[39;49m\u001b[43m_bind\u001b[49m\u001b[43m(\u001b[49m\u001b[43margs\u001b[49m\u001b[43m,\u001b[49m\u001b[43m \u001b[49m\u001b[43mkwargs\u001b[49m\u001b[43m)\u001b[49m\n",
      "File \u001b[1;32m~\\AppData\\Local\\Programs\\Python\\Python312\\Lib\\inspect.py:3248\u001b[0m, in \u001b[0;36mSignature._bind\u001b[1;34m(self, args, kwargs, partial)\u001b[0m\n\u001b[0;32m   3247\u001b[0m     \u001b[38;5;28;01melse\u001b[39;00m:\n\u001b[1;32m-> 3248\u001b[0m         \u001b[38;5;28;01mraise\u001b[39;00m \u001b[38;5;167;01mTypeError\u001b[39;00m(\n\u001b[0;32m   3249\u001b[0m             \u001b[38;5;124m'\u001b[39m\u001b[38;5;124mgot an unexpected keyword argument \u001b[39m\u001b[38;5;132;01m{arg!r}\u001b[39;00m\u001b[38;5;124m'\u001b[39m\u001b[38;5;241m.\u001b[39mformat(\n\u001b[0;32m   3250\u001b[0m                 arg\u001b[38;5;241m=\u001b[39m\u001b[38;5;28mnext\u001b[39m(\u001b[38;5;28miter\u001b[39m(kwargs))))\n\u001b[0;32m   3252\u001b[0m \u001b[38;5;28;01mreturn\u001b[39;00m \u001b[38;5;28mself\u001b[39m\u001b[38;5;241m.\u001b[39m_bound_arguments_cls(\u001b[38;5;28mself\u001b[39m, arguments)\n",
      "\u001b[1;31mTypeError\u001b[0m: got an unexpected keyword argument 'segment_ids'",
      "\nThe above exception was the direct cause of the following exception:\n",
      "\u001b[1;31mTypeError\u001b[0m                                 Traceback (most recent call last)",
      "File \u001b[1;32mc:\\Users\\amusali\\Desktop\\uc3m PhD\\venv\\Lib\\site-packages\\tensorflow\\python\\eager\\polymorphic_function\\concrete_function.py:1179\u001b[0m, in \u001b[0;36mConcreteFunction._call_impl\u001b[1;34m(self, args, kwargs)\u001b[0m\n\u001b[0;32m   1178\u001b[0m \u001b[38;5;28;01mtry\u001b[39;00m:\n\u001b[1;32m-> 1179\u001b[0m   \u001b[38;5;28;01mreturn\u001b[39;00m \u001b[38;5;28;43mself\u001b[39;49m\u001b[38;5;241;43m.\u001b[39;49m\u001b[43m_call_with_structured_signature\u001b[49m\u001b[43m(\u001b[49m\u001b[43margs\u001b[49m\u001b[43m,\u001b[49m\u001b[43m \u001b[49m\u001b[43mkwargs\u001b[49m\u001b[43m)\u001b[49m\n\u001b[0;32m   1180\u001b[0m \u001b[38;5;28;01mexcept\u001b[39;00m \u001b[38;5;167;01mTypeError\u001b[39;00m \u001b[38;5;28;01mas\u001b[39;00m structured_err:\n",
      "File \u001b[1;32mc:\\Users\\amusali\\Desktop\\uc3m PhD\\venv\\Lib\\site-packages\\tensorflow\\python\\eager\\polymorphic_function\\concrete_function.py:1259\u001b[0m, in \u001b[0;36mConcreteFunction._call_with_structured_signature\u001b[1;34m(self, args, kwargs)\u001b[0m\n\u001b[0;32m   1245\u001b[0m \u001b[38;5;250m\u001b[39m\u001b[38;5;124;03m\"\"\"Executes the wrapped function with the structured signature.\u001b[39;00m\n\u001b[0;32m   1246\u001b[0m \n\u001b[0;32m   1247\u001b[0m \u001b[38;5;124;03mArgs:\u001b[39;00m\n\u001b[1;32m   (...)\u001b[0m\n\u001b[0;32m   1256\u001b[0m \u001b[38;5;124;03m    of this `ConcreteFunction`.\u001b[39;00m\n\u001b[0;32m   1257\u001b[0m \u001b[38;5;124;03m\"\"\"\u001b[39;00m\n\u001b[0;32m   1258\u001b[0m bound_args \u001b[38;5;241m=\u001b[39m (\n\u001b[1;32m-> 1259\u001b[0m     \u001b[43mfunction_type_utils\u001b[49m\u001b[38;5;241;43m.\u001b[39;49m\u001b[43mcanonicalize_function_inputs\u001b[49m\u001b[43m(\u001b[49m\n\u001b[0;32m   1260\u001b[0m \u001b[43m        \u001b[49m\u001b[43margs\u001b[49m\u001b[43m,\u001b[49m\u001b[43m \u001b[49m\u001b[43mkwargs\u001b[49m\u001b[43m,\u001b[49m\u001b[43m \u001b[49m\u001b[38;5;28;43mself\u001b[39;49m\u001b[38;5;241;43m.\u001b[39;49m\u001b[43mfunction_type\u001b[49m\u001b[43m)\u001b[49m\n\u001b[0;32m   1261\u001b[0m )\n\u001b[0;32m   1262\u001b[0m filtered_flat_args \u001b[38;5;241m=\u001b[39m \u001b[38;5;28mself\u001b[39m\u001b[38;5;241m.\u001b[39mfunction_type\u001b[38;5;241m.\u001b[39munpack_inputs(bound_args)\n",
      "File \u001b[1;32mc:\\Users\\amusali\\Desktop\\uc3m PhD\\venv\\Lib\\site-packages\\tensorflow\\python\\eager\\polymorphic_function\\function_type_utils.py:422\u001b[0m, in \u001b[0;36mcanonicalize_function_inputs\u001b[1;34m(args, kwargs, function_type, default_values, is_pure)\u001b[0m\n\u001b[0;32m    421\u001b[0m   args, kwargs \u001b[38;5;241m=\u001b[39m _convert_variables_to_tensors(args, kwargs)\n\u001b[1;32m--> 422\u001b[0m bound_arguments \u001b[38;5;241m=\u001b[39m \u001b[43mbind_function_inputs\u001b[49m\u001b[43m(\u001b[49m\n\u001b[0;32m    423\u001b[0m \u001b[43m    \u001b[49m\u001b[43margs\u001b[49m\u001b[43m,\u001b[49m\u001b[43m \u001b[49m\u001b[43mkwargs\u001b[49m\u001b[43m,\u001b[49m\u001b[43m \u001b[49m\u001b[43mfunction_type\u001b[49m\u001b[43m,\u001b[49m\u001b[43m \u001b[49m\u001b[43mdefault_values\u001b[49m\n\u001b[0;32m    424\u001b[0m \u001b[43m\u001b[49m\u001b[43m)\u001b[49m\n\u001b[0;32m    425\u001b[0m \u001b[38;5;28;01mreturn\u001b[39;00m bound_arguments\n",
      "File \u001b[1;32mc:\\Users\\amusali\\Desktop\\uc3m PhD\\venv\\Lib\\site-packages\\tensorflow\\python\\eager\\polymorphic_function\\function_type_utils.py:446\u001b[0m, in \u001b[0;36mbind_function_inputs\u001b[1;34m(args, kwargs, function_type, default_values)\u001b[0m\n\u001b[0;32m    445\u001b[0m \u001b[38;5;28;01mexcept\u001b[39;00m \u001b[38;5;167;01mException\u001b[39;00m \u001b[38;5;28;01mas\u001b[39;00m e:\n\u001b[1;32m--> 446\u001b[0m   \u001b[38;5;28;01mraise\u001b[39;00m \u001b[38;5;167;01mTypeError\u001b[39;00m(\n\u001b[0;32m    447\u001b[0m       \u001b[38;5;124mf\u001b[39m\u001b[38;5;124m\"\u001b[39m\u001b[38;5;124mBinding inputs to tf.function failed due to `\u001b[39m\u001b[38;5;132;01m{\u001b[39;00me\u001b[38;5;132;01m}\u001b[39;00m\u001b[38;5;124m`. \u001b[39m\u001b[38;5;124m\"\u001b[39m\n\u001b[0;32m    448\u001b[0m       \u001b[38;5;124mf\u001b[39m\u001b[38;5;124m\"\u001b[39m\u001b[38;5;124mReceived args: \u001b[39m\u001b[38;5;132;01m{\u001b[39;00margs\u001b[38;5;132;01m}\u001b[39;00m\u001b[38;5;124m and kwargs: \u001b[39m\u001b[38;5;132;01m{\u001b[39;00msanitized_kwargs\u001b[38;5;132;01m}\u001b[39;00m\u001b[38;5;124m for signature:\u001b[39m\u001b[38;5;124m\"\u001b[39m\n\u001b[0;32m    449\u001b[0m       \u001b[38;5;124mf\u001b[39m\u001b[38;5;124m\"\u001b[39m\u001b[38;5;124m \u001b[39m\u001b[38;5;132;01m{\u001b[39;00mfunction_type\u001b[38;5;132;01m}\u001b[39;00m\u001b[38;5;124m.\u001b[39m\u001b[38;5;124m\"\u001b[39m\n\u001b[0;32m    450\u001b[0m   ) \u001b[38;5;28;01mfrom\u001b[39;00m \u001b[38;5;21;01me\u001b[39;00m\n\u001b[0;32m    451\u001b[0m \u001b[38;5;28;01mreturn\u001b[39;00m bound_arguments\n",
      "\u001b[1;31mTypeError\u001b[0m: Binding inputs to tf.function failed due to `got an unexpected keyword argument 'segment_ids'`. Received args: () and kwargs: {'segment_ids': <tf.Tensor: shape=(6, 512), dtype=int64, numpy=\narray([[0, 0, 0, ..., 0, 0, 0],\n       [0, 0, 0, ..., 0, 0, 0],\n       [0, 0, 0, ..., 0, 0, 0],\n       [0, 0, 0, ..., 0, 0, 0],\n       [0, 0, 0, ..., 0, 0, 0],\n       [0, 0, 0, ..., 0, 0, 0]], dtype=int64)>, 'input_mask': <tf.Tensor: shape=(6, 512), dtype=int64, numpy=\narray([[1, 1, 1, ..., 0, 0, 0],\n       [1, 1, 1, ..., 0, 0, 0],\n       [1, 1, 1, ..., 0, 0, 0],\n       [1, 1, 1, ..., 0, 0, 0],\n       [1, 1, 1, ..., 0, 0, 0],\n       [1, 1, 1, ..., 0, 0, 0]], dtype=int64)>, 'input_ids': <tf.Tensor: shape=(6, 512), dtype=int64, numpy=\narray([[   2,    1, 1661, ...,    0,    0,    0],\n       [   2,    1, 3783, ...,    0,    0,    0],\n       [   2,    1, 1042, ...,    0,    0,    0],\n       [   2,    1, 1042, ...,    0,    0,    0],\n       [   2,    1, 1042, ...,    0,    0,    0],\n       [   2,    1, 1042, ...,    0,    0,    0]], dtype=int64)>, 'mlm_positions': <tf.Tensor: shape=(0,), dtype=int64, numpy=array([], dtype=int64)>} for signature: () -> Dict[['mlm_logits', TensorSpec(shape=(None, 39859), dtype=tf.float32, name=None)], ['cls_token', TensorSpec(shape=(None, 1024), dtype=tf.float32, name=None)], ['encoder_layer', TensorSpec(shape=(None, 512, 1024), dtype=tf.float32, name=None)], ['next_sentence_logits', TensorSpec(shape=(None, 2), dtype=tf.float32, name=None)]].",
      "\nDuring handling of the above exception, another exception occurred:\n",
      "\u001b[1;31mKeyboardInterrupt\u001b[0m                         Traceback (most recent call last)",
      "Cell \u001b[1;32mIn[50], line 8\u001b[0m\n\u001b[0;32m      6\u001b[0m embeddings \u001b[38;5;241m=\u001b[39m []\n\u001b[0;32m      7\u001b[0m \u001b[38;5;28;01mfor\u001b[39;00m batch \u001b[38;5;129;01min\u001b[39;00m batched_abstracts:\n\u001b[1;32m----> 8\u001b[0m     embeddings\u001b[38;5;241m.\u001b[39mappend(\u001b[43mbe\u001b[49m\u001b[38;5;241;43m.\u001b[39;49m\u001b[43mget_embd_of_whole_abstract\u001b[49m\u001b[43m(\u001b[49m\u001b[43mbatch\u001b[49m\u001b[43m)\u001b[49m)\n",
      "File \u001b[1;32m~\\Desktop\\uc3m PhD\\05 Analysis\\01 Main\\api\\bertembeddings.py:87\u001b[0m, in \u001b[0;36mget_embd_of_whole_abstract\u001b[1;34m(abstracts, return_cls_embedding, has_context_token)\u001b[0m\n\u001b[0;32m     84\u001b[0m     context_tokens \u001b[38;5;241m=\u001b[39m []\n\u001b[0;32m     86\u001b[0m \u001b[38;5;66;03m## Predict -- get embeddings for the batch of abstracts\u001b[39;00m\n\u001b[1;32m---> 87\u001b[0m response \u001b[38;5;241m=\u001b[39m \u001b[43mbert_predictor\u001b[49m\u001b[38;5;241;43m.\u001b[39;49m\u001b[43mpredict\u001b[49m\u001b[43m(\u001b[49m\n\u001b[0;32m     88\u001b[0m \u001b[43m    \u001b[49m\u001b[43mabstracts\u001b[49m\u001b[43m,\u001b[49m\u001b[43m \u001b[49m\u001b[43mcontext_tokens\u001b[49m\u001b[38;5;241;43m=\u001b[39;49m\u001b[43mcontext_tokens\u001b[49m\u001b[43m \u001b[49m\u001b[38;5;241;43m*\u001b[39;49m\u001b[43m \u001b[49m\u001b[38;5;28;43mlen\u001b[39;49m\u001b[43m(\u001b[49m\u001b[43mabstracts\u001b[49m\u001b[43m)\u001b[49m\u001b[43m)\u001b[49m\n\u001b[0;32m     90\u001b[0m \u001b[38;5;66;03m# Collect the CLS embeddings for each abstract in the batch\u001b[39;00m\n\u001b[0;32m     91\u001b[0m cls_token_embeddings \u001b[38;5;241m=\u001b[39m response[\u001b[38;5;241m0\u001b[39m][\u001b[38;5;124m'\u001b[39m\u001b[38;5;124mcls_token\u001b[39m\u001b[38;5;124m'\u001b[39m]\u001b[38;5;241m.\u001b[39mnumpy()  \u001b[38;5;66;03m# Shape will be (batch_size, 1024)\u001b[39;00m\n",
      "File \u001b[1;32m~\\Desktop\\uc3m PhD\\05 Analysis\\01 Main\\api\\bertfns.py:269\u001b[0m, in \u001b[0;36mBertPredictor.predict\u001b[1;34m(self, texts, mlm_ids, context_tokens)\u001b[0m\n\u001b[0;32m    265\u001b[0m   inputs \u001b[38;5;241m=\u001b[39m \u001b[38;5;28mself\u001b[39m\u001b[38;5;241m.\u001b[39madd_input_context(inputs, context_tokens)\n\u001b[0;32m    267\u001b[0m inputs, masked_text \u001b[38;5;241m=\u001b[39m \u001b[38;5;28mself\u001b[39m\u001b[38;5;241m.\u001b[39mcreate_mlm_mask(inputs, mlm_ids)\n\u001b[1;32m--> 269\u001b[0m response \u001b[38;5;241m=\u001b[39m \u001b[38;5;28;43mself\u001b[39;49m\u001b[38;5;241;43m.\u001b[39;49m\u001b[43mmodel\u001b[49m\u001b[43m(\u001b[49m\n\u001b[0;32m    270\u001b[0m \u001b[43m  \u001b[49m\u001b[43msegment_ids\u001b[49m\u001b[38;5;241;43m=\u001b[39;49m\u001b[43mtf\u001b[49m\u001b[38;5;241;43m.\u001b[39;49m\u001b[43mconvert_to_tensor\u001b[49m\u001b[43m(\u001b[49m\u001b[43minputs\u001b[49m\u001b[43m[\u001b[49m\u001b[38;5;124;43m'\u001b[39;49m\u001b[38;5;124;43msegment_ids\u001b[39;49m\u001b[38;5;124;43m'\u001b[39;49m\u001b[43m]\u001b[49m\u001b[43m,\u001b[49m\u001b[43m \u001b[49m\u001b[43mdtype\u001b[49m\u001b[38;5;241;43m=\u001b[39;49m\u001b[43mtf\u001b[49m\u001b[38;5;241;43m.\u001b[39;49m\u001b[43mint64\u001b[49m\u001b[43m)\u001b[49m\u001b[43m,\u001b[49m\n\u001b[0;32m    271\u001b[0m \u001b[43m  \u001b[49m\u001b[43minput_mask\u001b[49m\u001b[38;5;241;43m=\u001b[39;49m\u001b[43mtf\u001b[49m\u001b[38;5;241;43m.\u001b[39;49m\u001b[43mconvert_to_tensor\u001b[49m\u001b[43m(\u001b[49m\u001b[43minputs\u001b[49m\u001b[43m[\u001b[49m\u001b[38;5;124;43m'\u001b[39;49m\u001b[38;5;124;43minput_mask\u001b[39;49m\u001b[38;5;124;43m'\u001b[39;49m\u001b[43m]\u001b[49m\u001b[43m,\u001b[49m\u001b[43m \u001b[49m\u001b[43mdtype\u001b[49m\u001b[38;5;241;43m=\u001b[39;49m\u001b[43mtf\u001b[49m\u001b[38;5;241;43m.\u001b[39;49m\u001b[43mint64\u001b[49m\u001b[43m)\u001b[49m\u001b[43m,\u001b[49m\n\u001b[0;32m    272\u001b[0m \u001b[43m  \u001b[49m\u001b[43minput_ids\u001b[49m\u001b[38;5;241;43m=\u001b[39;49m\u001b[43mtf\u001b[49m\u001b[38;5;241;43m.\u001b[39;49m\u001b[43mconvert_to_tensor\u001b[49m\u001b[43m(\u001b[49m\u001b[43minputs\u001b[49m\u001b[43m[\u001b[49m\u001b[38;5;124;43m'\u001b[39;49m\u001b[38;5;124;43minput_ids\u001b[39;49m\u001b[38;5;124;43m'\u001b[39;49m\u001b[43m]\u001b[49m\u001b[43m,\u001b[49m\u001b[43m \u001b[49m\u001b[43mdtype\u001b[49m\u001b[38;5;241;43m=\u001b[39;49m\u001b[43mtf\u001b[49m\u001b[38;5;241;43m.\u001b[39;49m\u001b[43mint64\u001b[49m\u001b[43m)\u001b[49m\u001b[43m,\u001b[49m\n\u001b[0;32m    273\u001b[0m \u001b[43m  \u001b[49m\u001b[43mmlm_positions\u001b[49m\u001b[38;5;241;43m=\u001b[39;49m\u001b[43mtf\u001b[49m\u001b[38;5;241;43m.\u001b[39;49m\u001b[43mconvert_to_tensor\u001b[49m\u001b[43m(\u001b[49m\u001b[43minputs\u001b[49m\u001b[43m[\u001b[49m\u001b[38;5;124;43m'\u001b[39;49m\u001b[38;5;124;43mmlm_ids\u001b[39;49m\u001b[38;5;124;43m'\u001b[39;49m\u001b[43m]\u001b[49m\u001b[43m,\u001b[49m\u001b[43m \u001b[49m\u001b[43mdtype\u001b[49m\u001b[38;5;241;43m=\u001b[39;49m\u001b[43mtf\u001b[49m\u001b[38;5;241;43m.\u001b[39;49m\u001b[43mint64\u001b[49m\u001b[43m)\u001b[49m\u001b[43m,\u001b[49m\n\u001b[0;32m    274\u001b[0m \u001b[43m  \u001b[49m\u001b[43m)\u001b[49m\n\u001b[0;32m    276\u001b[0m \u001b[38;5;28;01mif\u001b[39;00m mlm_ids:\n\u001b[0;32m    277\u001b[0m   \u001b[38;5;66;03m# Do a reshape of the mlm logits (batch size, num predictions, vocab).\u001b[39;00m\n\u001b[0;32m    278\u001b[0m   new_shape \u001b[38;5;241m=\u001b[39m (\u001b[38;5;28mlen\u001b[39m(texts), \u001b[38;5;28mself\u001b[39m\u001b[38;5;241m.\u001b[39mmax_preds_per_seq, \u001b[38;5;241m-\u001b[39m\u001b[38;5;241m1\u001b[39m)\n",
      "File \u001b[1;32mc:\\Users\\amusali\\Desktop\\uc3m PhD\\venv\\Lib\\site-packages\\tensorflow\\python\\eager\\polymorphic_function\\concrete_function.py:1170\u001b[0m, in \u001b[0;36mConcreteFunction.__call__\u001b[1;34m(self, *args, **kwargs)\u001b[0m\n\u001b[0;32m   1120\u001b[0m \u001b[38;5;28;01mdef\u001b[39;00m \u001b[38;5;21m__call__\u001b[39m(\u001b[38;5;28mself\u001b[39m, \u001b[38;5;241m*\u001b[39margs, \u001b[38;5;241m*\u001b[39m\u001b[38;5;241m*\u001b[39mkwargs):\n\u001b[0;32m   1121\u001b[0m \u001b[38;5;250m  \u001b[39m\u001b[38;5;124;03m\"\"\"Executes the wrapped function.\u001b[39;00m\n\u001b[0;32m   1122\u001b[0m \n\u001b[0;32m   1123\u001b[0m \u001b[38;5;124;03m  ConcreteFunctions have two signatures:\u001b[39;00m\n\u001b[1;32m   (...)\u001b[0m\n\u001b[0;32m   1168\u001b[0m \u001b[38;5;124;03m    TypeError: If the arguments do not match the function's signature.\u001b[39;00m\n\u001b[0;32m   1169\u001b[0m \u001b[38;5;124;03m  \"\"\"\u001b[39;00m\n\u001b[1;32m-> 1170\u001b[0m   \u001b[38;5;28;01mreturn\u001b[39;00m \u001b[38;5;28;43mself\u001b[39;49m\u001b[38;5;241;43m.\u001b[39;49m\u001b[43m_call_impl\u001b[49m\u001b[43m(\u001b[49m\u001b[43margs\u001b[49m\u001b[43m,\u001b[49m\u001b[43m \u001b[49m\u001b[43mkwargs\u001b[49m\u001b[43m)\u001b[49m\n",
      "File \u001b[1;32mc:\\Users\\amusali\\Desktop\\uc3m PhD\\venv\\Lib\\site-packages\\tensorflow\\python\\eager\\wrap_function.py:253\u001b[0m, in \u001b[0;36mWrappedFunction._call_impl\u001b[1;34m(self, args, kwargs)\u001b[0m\n\u001b[0;32m    251\u001b[0m   \u001b[38;5;28;01mreturn\u001b[39;00m \u001b[38;5;28mself\u001b[39m\u001b[38;5;241m.\u001b[39m_call_flat(args, \u001b[38;5;28mself\u001b[39m\u001b[38;5;241m.\u001b[39mcaptured_inputs)\n\u001b[0;32m    252\u001b[0m \u001b[38;5;28;01melse\u001b[39;00m:\n\u001b[1;32m--> 253\u001b[0m   \u001b[38;5;28;01mreturn\u001b[39;00m \u001b[38;5;28;43msuper\u001b[39;49m\u001b[43m(\u001b[49m\u001b[43m)\u001b[49m\u001b[38;5;241;43m.\u001b[39;49m\u001b[43m_call_impl\u001b[49m\u001b[43m(\u001b[49m\u001b[43margs\u001b[49m\u001b[43m,\u001b[49m\u001b[43m \u001b[49m\u001b[43mkwargs\u001b[49m\u001b[43m)\u001b[49m\n",
      "File \u001b[1;32mc:\\Users\\amusali\\Desktop\\uc3m PhD\\venv\\Lib\\site-packages\\tensorflow\\python\\eager\\polymorphic_function\\concrete_function.py:1182\u001b[0m, in \u001b[0;36mConcreteFunction._call_impl\u001b[1;34m(self, args, kwargs)\u001b[0m\n\u001b[0;32m   1180\u001b[0m \u001b[38;5;28;01mexcept\u001b[39;00m \u001b[38;5;167;01mTypeError\u001b[39;00m \u001b[38;5;28;01mas\u001b[39;00m structured_err:\n\u001b[0;32m   1181\u001b[0m   \u001b[38;5;28;01mtry\u001b[39;00m:\n\u001b[1;32m-> 1182\u001b[0m     \u001b[38;5;28;01mreturn\u001b[39;00m \u001b[38;5;28;43mself\u001b[39;49m\u001b[38;5;241;43m.\u001b[39;49m\u001b[43m_call_with_flat_signature\u001b[49m\u001b[43m(\u001b[49m\u001b[43margs\u001b[49m\u001b[43m,\u001b[49m\u001b[43m \u001b[49m\u001b[43mkwargs\u001b[49m\u001b[43m)\u001b[49m\n\u001b[0;32m   1183\u001b[0m   \u001b[38;5;28;01mexcept\u001b[39;00m (\u001b[38;5;167;01mTypeError\u001b[39;00m, \u001b[38;5;167;01mValueError\u001b[39;00m) \u001b[38;5;28;01mas\u001b[39;00m flat_err:\n\u001b[0;32m   1184\u001b[0m     \u001b[38;5;28;01mraise\u001b[39;00m \u001b[38;5;167;01mTypeError\u001b[39;00m(  \u001b[38;5;66;03m# pylint: disable=raise-missing-from\u001b[39;00m\n\u001b[0;32m   1185\u001b[0m         \u001b[38;5;28mstr\u001b[39m(structured_err)\n\u001b[0;32m   1186\u001b[0m         \u001b[38;5;241m+\u001b[39m \u001b[38;5;124m\"\u001b[39m\u001b[38;5;130;01m\\n\u001b[39;00m\u001b[38;5;124mFallback to flat signature also failed due to: \u001b[39m\u001b[38;5;124m\"\u001b[39m\n\u001b[0;32m   1187\u001b[0m         \u001b[38;5;241m+\u001b[39m \u001b[38;5;28mstr\u001b[39m(flat_err)\n\u001b[0;32m   1188\u001b[0m     )\n",
      "File \u001b[1;32mc:\\Users\\amusali\\Desktop\\uc3m PhD\\venv\\Lib\\site-packages\\tensorflow\\python\\eager\\polymorphic_function\\concrete_function.py:1242\u001b[0m, in \u001b[0;36mConcreteFunction._call_with_flat_signature\u001b[1;34m(self, args, kwargs)\u001b[0m\n\u001b[0;32m   1237\u001b[0m   \u001b[38;5;28;01mif\u001b[39;00m \u001b[38;5;129;01mnot\u001b[39;00m \u001b[38;5;28misinstance\u001b[39m(\n\u001b[0;32m   1238\u001b[0m       arg, (tensor_lib\u001b[38;5;241m.\u001b[39mTensor, resource_variable_ops\u001b[38;5;241m.\u001b[39mBaseResourceVariable)):\n\u001b[0;32m   1239\u001b[0m     \u001b[38;5;28;01mraise\u001b[39;00m \u001b[38;5;167;01mTypeError\u001b[39;00m(\u001b[38;5;124mf\u001b[39m\u001b[38;5;124m\"\u001b[39m\u001b[38;5;132;01m{\u001b[39;00m\u001b[38;5;28mself\u001b[39m\u001b[38;5;241m.\u001b[39m_flat_signature_summary()\u001b[38;5;132;01m}\u001b[39;00m\u001b[38;5;124m: expected argument \u001b[39m\u001b[38;5;124m\"\u001b[39m\n\u001b[0;32m   1240\u001b[0m                     \u001b[38;5;124mf\u001b[39m\u001b[38;5;124m\"\u001b[39m\u001b[38;5;124m#\u001b[39m\u001b[38;5;132;01m{\u001b[39;00mi\u001b[38;5;132;01m}\u001b[39;00m\u001b[38;5;124m(zero-based) to be a Tensor; \u001b[39m\u001b[38;5;124m\"\u001b[39m\n\u001b[0;32m   1241\u001b[0m                     \u001b[38;5;124mf\u001b[39m\u001b[38;5;124m\"\u001b[39m\u001b[38;5;124mgot \u001b[39m\u001b[38;5;132;01m{\u001b[39;00m\u001b[38;5;28mtype\u001b[39m(arg)\u001b[38;5;241m.\u001b[39m\u001b[38;5;18m__name__\u001b[39m\u001b[38;5;132;01m}\u001b[39;00m\u001b[38;5;124m (\u001b[39m\u001b[38;5;132;01m{\u001b[39;00marg\u001b[38;5;132;01m}\u001b[39;00m\u001b[38;5;124m).\u001b[39m\u001b[38;5;124m\"\u001b[39m)\n\u001b[1;32m-> 1242\u001b[0m \u001b[38;5;28;01mreturn\u001b[39;00m \u001b[38;5;28;43mself\u001b[39;49m\u001b[38;5;241;43m.\u001b[39;49m\u001b[43m_call_flat\u001b[49m\u001b[43m(\u001b[49m\u001b[43margs\u001b[49m\u001b[43m,\u001b[49m\u001b[43m \u001b[49m\u001b[38;5;28;43mself\u001b[39;49m\u001b[38;5;241;43m.\u001b[39;49m\u001b[43mcaptured_inputs\u001b[49m\u001b[43m)\u001b[49m\n",
      "File \u001b[1;32mc:\\Users\\amusali\\Desktop\\uc3m PhD\\venv\\Lib\\site-packages\\tensorflow\\python\\eager\\polymorphic_function\\concrete_function.py:1322\u001b[0m, in \u001b[0;36mConcreteFunction._call_flat\u001b[1;34m(self, tensor_inputs, captured_inputs)\u001b[0m\n\u001b[0;32m   1318\u001b[0m possible_gradient_type \u001b[38;5;241m=\u001b[39m gradients_util\u001b[38;5;241m.\u001b[39mPossibleTapeGradientTypes(args)\n\u001b[0;32m   1319\u001b[0m \u001b[38;5;28;01mif\u001b[39;00m (possible_gradient_type \u001b[38;5;241m==\u001b[39m gradients_util\u001b[38;5;241m.\u001b[39mPOSSIBLE_GRADIENT_TYPES_NONE\n\u001b[0;32m   1320\u001b[0m     \u001b[38;5;129;01mand\u001b[39;00m executing_eagerly):\n\u001b[0;32m   1321\u001b[0m   \u001b[38;5;66;03m# No tape is watching; skip to running the function.\u001b[39;00m\n\u001b[1;32m-> 1322\u001b[0m   \u001b[38;5;28;01mreturn\u001b[39;00m \u001b[38;5;28;43mself\u001b[39;49m\u001b[38;5;241;43m.\u001b[39;49m\u001b[43m_inference_function\u001b[49m\u001b[38;5;241;43m.\u001b[39;49m\u001b[43mcall_preflattened\u001b[49m\u001b[43m(\u001b[49m\u001b[43margs\u001b[49m\u001b[43m)\u001b[49m\n\u001b[0;32m   1323\u001b[0m forward_backward \u001b[38;5;241m=\u001b[39m \u001b[38;5;28mself\u001b[39m\u001b[38;5;241m.\u001b[39m_select_forward_and_backward_functions(\n\u001b[0;32m   1324\u001b[0m     args,\n\u001b[0;32m   1325\u001b[0m     possible_gradient_type,\n\u001b[0;32m   1326\u001b[0m     executing_eagerly)\n\u001b[0;32m   1327\u001b[0m forward_function, args_with_tangents \u001b[38;5;241m=\u001b[39m forward_backward\u001b[38;5;241m.\u001b[39mforward()\n",
      "File \u001b[1;32mc:\\Users\\amusali\\Desktop\\uc3m PhD\\venv\\Lib\\site-packages\\tensorflow\\python\\eager\\polymorphic_function\\atomic_function.py:216\u001b[0m, in \u001b[0;36mAtomicFunction.call_preflattened\u001b[1;34m(self, args)\u001b[0m\n\u001b[0;32m    214\u001b[0m \u001b[38;5;28;01mdef\u001b[39;00m \u001b[38;5;21mcall_preflattened\u001b[39m(\u001b[38;5;28mself\u001b[39m, args: Sequence[core\u001b[38;5;241m.\u001b[39mTensor]) \u001b[38;5;241m-\u001b[39m\u001b[38;5;241m>\u001b[39m Any:\n\u001b[0;32m    215\u001b[0m \u001b[38;5;250m  \u001b[39m\u001b[38;5;124;03m\"\"\"Calls with flattened tensor inputs and returns the structured output.\"\"\"\u001b[39;00m\n\u001b[1;32m--> 216\u001b[0m   flat_outputs \u001b[38;5;241m=\u001b[39m \u001b[38;5;28;43mself\u001b[39;49m\u001b[38;5;241;43m.\u001b[39;49m\u001b[43mcall_flat\u001b[49m\u001b[43m(\u001b[49m\u001b[38;5;241;43m*\u001b[39;49m\u001b[43margs\u001b[49m\u001b[43m)\u001b[49m\n\u001b[0;32m    217\u001b[0m   \u001b[38;5;28;01mreturn\u001b[39;00m \u001b[38;5;28mself\u001b[39m\u001b[38;5;241m.\u001b[39mfunction_type\u001b[38;5;241m.\u001b[39mpack_output(flat_outputs)\n",
      "File \u001b[1;32mc:\\Users\\amusali\\Desktop\\uc3m PhD\\venv\\Lib\\site-packages\\tensorflow\\python\\eager\\polymorphic_function\\atomic_function.py:251\u001b[0m, in \u001b[0;36mAtomicFunction.call_flat\u001b[1;34m(self, *args)\u001b[0m\n\u001b[0;32m    249\u001b[0m \u001b[38;5;28;01mwith\u001b[39;00m record\u001b[38;5;241m.\u001b[39mstop_recording():\n\u001b[0;32m    250\u001b[0m   \u001b[38;5;28;01mif\u001b[39;00m \u001b[38;5;28mself\u001b[39m\u001b[38;5;241m.\u001b[39m_bound_context\u001b[38;5;241m.\u001b[39mexecuting_eagerly():\n\u001b[1;32m--> 251\u001b[0m     outputs \u001b[38;5;241m=\u001b[39m \u001b[38;5;28;43mself\u001b[39;49m\u001b[38;5;241;43m.\u001b[39;49m\u001b[43m_bound_context\u001b[49m\u001b[38;5;241;43m.\u001b[39;49m\u001b[43mcall_function\u001b[49m\u001b[43m(\u001b[49m\n\u001b[0;32m    252\u001b[0m \u001b[43m        \u001b[49m\u001b[38;5;28;43mself\u001b[39;49m\u001b[38;5;241;43m.\u001b[39;49m\u001b[43mname\u001b[49m\u001b[43m,\u001b[49m\n\u001b[0;32m    253\u001b[0m \u001b[43m        \u001b[49m\u001b[38;5;28;43mlist\u001b[39;49m\u001b[43m(\u001b[49m\u001b[43margs\u001b[49m\u001b[43m)\u001b[49m\u001b[43m,\u001b[49m\n\u001b[0;32m    254\u001b[0m \u001b[43m        \u001b[49m\u001b[38;5;28;43mlen\u001b[39;49m\u001b[43m(\u001b[49m\u001b[38;5;28;43mself\u001b[39;49m\u001b[38;5;241;43m.\u001b[39;49m\u001b[43mfunction_type\u001b[49m\u001b[38;5;241;43m.\u001b[39;49m\u001b[43mflat_outputs\u001b[49m\u001b[43m)\u001b[49m\u001b[43m,\u001b[49m\n\u001b[0;32m    255\u001b[0m \u001b[43m    \u001b[49m\u001b[43m)\u001b[49m\n\u001b[0;32m    256\u001b[0m   \u001b[38;5;28;01melse\u001b[39;00m:\n\u001b[0;32m    257\u001b[0m     outputs \u001b[38;5;241m=\u001b[39m make_call_op_in_graph(\n\u001b[0;32m    258\u001b[0m         \u001b[38;5;28mself\u001b[39m,\n\u001b[0;32m    259\u001b[0m         \u001b[38;5;28mlist\u001b[39m(args),\n\u001b[0;32m    260\u001b[0m         \u001b[38;5;28mself\u001b[39m\u001b[38;5;241m.\u001b[39m_bound_context\u001b[38;5;241m.\u001b[39mfunction_call_options\u001b[38;5;241m.\u001b[39mas_attrs(),\n\u001b[0;32m    261\u001b[0m     )\n",
      "File \u001b[1;32mc:\\Users\\amusali\\Desktop\\uc3m PhD\\venv\\Lib\\site-packages\\tensorflow\\python\\eager\\context.py:1552\u001b[0m, in \u001b[0;36mContext.call_function\u001b[1;34m(self, name, tensor_inputs, num_outputs)\u001b[0m\n\u001b[0;32m   1550\u001b[0m cancellation_context \u001b[38;5;241m=\u001b[39m cancellation\u001b[38;5;241m.\u001b[39mcontext()\n\u001b[0;32m   1551\u001b[0m \u001b[38;5;28;01mif\u001b[39;00m cancellation_context \u001b[38;5;129;01mis\u001b[39;00m \u001b[38;5;28;01mNone\u001b[39;00m:\n\u001b[1;32m-> 1552\u001b[0m   outputs \u001b[38;5;241m=\u001b[39m \u001b[43mexecute\u001b[49m\u001b[38;5;241;43m.\u001b[39;49m\u001b[43mexecute\u001b[49m\u001b[43m(\u001b[49m\n\u001b[0;32m   1553\u001b[0m \u001b[43m      \u001b[49m\u001b[43mname\u001b[49m\u001b[38;5;241;43m.\u001b[39;49m\u001b[43mdecode\u001b[49m\u001b[43m(\u001b[49m\u001b[38;5;124;43m\"\u001b[39;49m\u001b[38;5;124;43mutf-8\u001b[39;49m\u001b[38;5;124;43m\"\u001b[39;49m\u001b[43m)\u001b[49m\u001b[43m,\u001b[49m\n\u001b[0;32m   1554\u001b[0m \u001b[43m      \u001b[49m\u001b[43mnum_outputs\u001b[49m\u001b[38;5;241;43m=\u001b[39;49m\u001b[43mnum_outputs\u001b[49m\u001b[43m,\u001b[49m\n\u001b[0;32m   1555\u001b[0m \u001b[43m      \u001b[49m\u001b[43minputs\u001b[49m\u001b[38;5;241;43m=\u001b[39;49m\u001b[43mtensor_inputs\u001b[49m\u001b[43m,\u001b[49m\n\u001b[0;32m   1556\u001b[0m \u001b[43m      \u001b[49m\u001b[43mattrs\u001b[49m\u001b[38;5;241;43m=\u001b[39;49m\u001b[43mattrs\u001b[49m\u001b[43m,\u001b[49m\n\u001b[0;32m   1557\u001b[0m \u001b[43m      \u001b[49m\u001b[43mctx\u001b[49m\u001b[38;5;241;43m=\u001b[39;49m\u001b[38;5;28;43mself\u001b[39;49m\u001b[43m,\u001b[49m\n\u001b[0;32m   1558\u001b[0m \u001b[43m  \u001b[49m\u001b[43m)\u001b[49m\n\u001b[0;32m   1559\u001b[0m \u001b[38;5;28;01melse\u001b[39;00m:\n\u001b[0;32m   1560\u001b[0m   outputs \u001b[38;5;241m=\u001b[39m execute\u001b[38;5;241m.\u001b[39mexecute_with_cancellation(\n\u001b[0;32m   1561\u001b[0m       name\u001b[38;5;241m.\u001b[39mdecode(\u001b[38;5;124m\"\u001b[39m\u001b[38;5;124mutf-8\u001b[39m\u001b[38;5;124m\"\u001b[39m),\n\u001b[0;32m   1562\u001b[0m       num_outputs\u001b[38;5;241m=\u001b[39mnum_outputs,\n\u001b[1;32m   (...)\u001b[0m\n\u001b[0;32m   1566\u001b[0m       cancellation_manager\u001b[38;5;241m=\u001b[39mcancellation_context,\n\u001b[0;32m   1567\u001b[0m   )\n",
      "File \u001b[1;32mc:\\Users\\amusali\\Desktop\\uc3m PhD\\venv\\Lib\\site-packages\\tensorflow\\python\\eager\\execute.py:53\u001b[0m, in \u001b[0;36mquick_execute\u001b[1;34m(op_name, num_outputs, inputs, attrs, ctx, name)\u001b[0m\n\u001b[0;32m     51\u001b[0m \u001b[38;5;28;01mtry\u001b[39;00m:\n\u001b[0;32m     52\u001b[0m   ctx\u001b[38;5;241m.\u001b[39mensure_initialized()\n\u001b[1;32m---> 53\u001b[0m   tensors \u001b[38;5;241m=\u001b[39m \u001b[43mpywrap_tfe\u001b[49m\u001b[38;5;241;43m.\u001b[39;49m\u001b[43mTFE_Py_Execute\u001b[49m\u001b[43m(\u001b[49m\u001b[43mctx\u001b[49m\u001b[38;5;241;43m.\u001b[39;49m\u001b[43m_handle\u001b[49m\u001b[43m,\u001b[49m\u001b[43m \u001b[49m\u001b[43mdevice_name\u001b[49m\u001b[43m,\u001b[49m\u001b[43m \u001b[49m\u001b[43mop_name\u001b[49m\u001b[43m,\u001b[49m\n\u001b[0;32m     54\u001b[0m \u001b[43m                                      \u001b[49m\u001b[43minputs\u001b[49m\u001b[43m,\u001b[49m\u001b[43m \u001b[49m\u001b[43mattrs\u001b[49m\u001b[43m,\u001b[49m\u001b[43m \u001b[49m\u001b[43mnum_outputs\u001b[49m\u001b[43m)\u001b[49m\n\u001b[0;32m     55\u001b[0m \u001b[38;5;28;01mexcept\u001b[39;00m core\u001b[38;5;241m.\u001b[39m_NotOkStatusException \u001b[38;5;28;01mas\u001b[39;00m e:\n\u001b[0;32m     56\u001b[0m   \u001b[38;5;28;01mif\u001b[39;00m name \u001b[38;5;129;01mis\u001b[39;00m \u001b[38;5;129;01mnot\u001b[39;00m \u001b[38;5;28;01mNone\u001b[39;00m:\n",
      "\u001b[1;31mKeyboardInterrupt\u001b[0m: "
     ]
    }
   ],
   "source": [
    "import api.bertembeddings as be\n",
    "#import importlib\n",
    "#importlib.reload(be)\n",
    "\n",
    "# Process each batch\n",
    "embeddings = []\n",
    "for batch in batched_abstracts:\n",
    "    embeddings.append(be.get_embd_of_whole_abstract(batch))"
   ]
  },
  {
   "cell_type": "code",
   "execution_count": 26,
   "metadata": {},
   "outputs": [
    {
     "name": "stdout",
     "output_type": "stream",
     "text": [
      "Mixed precision enabled.\n",
      "Sleeping for:  0.9403617818919305 seconds\n",
      "There are in total 335 patents to be compared against.\n",
      "It took 3.23 seconds to get the embedding of the input.\n",
      "It took 3.66 seconds to get the embedding of the input.\n",
      "It took 2.29 seconds to get the embedding of the input.\n",
      "It took 1.81 seconds to get the embedding of the input.\n",
      "It took 1.74 seconds to get the embedding of the input.\n",
      "It took 1.78 seconds to get the embedding of the input.\n",
      "It took 1.86 seconds to get the embedding of the input.\n",
      "It took 1.84 seconds to get the embedding of the input.\n",
      "It took 1.96 seconds to get the embedding of the input.\n",
      "It took 1.96 seconds to get the embedding of the input.\n",
      "It took 1.75 seconds to get the embedding of the input.\n",
      "It took 1.67 seconds to get the embedding of the input.\n",
      "It took 1.67 seconds to get the embedding of the input.\n",
      "It took 1.66 seconds to get the embedding of the input.\n",
      "It took 1.68 seconds to get the embedding of the input.\n",
      "It took 1.65 seconds to get the embedding of the input.\n",
      "It took 1.69 seconds to get the embedding of the input.\n",
      "It took 1.70 seconds to get the embedding of the input.\n",
      "It took 1.77 seconds to get the embedding of the input.\n",
      "It took 1.82 seconds to get the embedding of the input.\n",
      "It took 1.86 seconds to get the embedding of the input.\n",
      "It took 1.87 seconds to get the embedding of the input.\n",
      "It took 1.69 seconds to get the embedding of the input.\n",
      "It took 1.76 seconds to get the embedding of the input.\n",
      "It took 1.79 seconds to get the embedding of the input.\n",
      "It took 1.73 seconds to get the embedding of the input.\n",
      "It took 1.68 seconds to get the embedding of the input.\n",
      "It took 1.79 seconds to get the embedding of the input.\n",
      "It took 1.83 seconds to get the embedding of the input.\n",
      "It took 1.73 seconds to get the embedding of the input.\n",
      "It took 1.69 seconds to get the embedding of the input.\n",
      "It took 1.65 seconds to get the embedding of the input.\n",
      "It took 1.74 seconds to get the embedding of the input.\n",
      "It took 2.21 seconds to get the embedding of the input.\n",
      "It took 1.91 seconds to get the embedding of the input.\n",
      "It took 1.81 seconds to get the embedding of the input.\n",
      "It took 1.78 seconds to get the embedding of the input.\n",
      "It took 1.79 seconds to get the embedding of the input.\n",
      "It took 1.82 seconds to get the embedding of the input.\n",
      "It took 1.71 seconds to get the embedding of the input.\n",
      "It took 1.67 seconds to get the embedding of the input.\n",
      "It took 1.82 seconds to get the embedding of the input.\n",
      "It took 1.78 seconds to get the embedding of the input.\n",
      "It took 1.84 seconds to get the embedding of the input.\n",
      "It took 1.85 seconds to get the embedding of the input.\n",
      "It took 1.83 seconds to get the embedding of the input.\n",
      "It took 1.75 seconds to get the embedding of the input.\n",
      "It took 1.79 seconds to get the embedding of the input.\n",
      "It took 1.81 seconds to get the embedding of the input.\n",
      "It took 1.83 seconds to get the embedding of the input.\n",
      "It took 1.89 seconds to get the embedding of the input.\n",
      "It took 1.91 seconds to get the embedding of the input.\n",
      "It took 1.85 seconds to get the embedding of the input.\n",
      "It took 2.01 seconds to get the embedding of the input.\n",
      "It took 1.96 seconds to get the embedding of the input.\n",
      "It took 1.87 seconds to get the embedding of the input.\n",
      "It took 1.82 seconds to get the embedding of the input.\n",
      "It took 1.71 seconds to get the embedding of the input.\n",
      "It took 1.81 seconds to get the embedding of the input.\n",
      "It took 1.72 seconds to get the embedding of the input.\n",
      "It took 1.70 seconds to get the embedding of the input.\n",
      "It took 1.72 seconds to get the embedding of the input.\n",
      "It took 1.77 seconds to get the embedding of the input.\n",
      "It took 2.02 seconds to get the embedding of the input.\n",
      "It took 1.96 seconds to get the embedding of the input.\n",
      "It took 1.75 seconds to get the embedding of the input.\n",
      "It took 1.77 seconds to get the embedding of the input.\n",
      "It took 1.68 seconds to get the embedding of the input.\n",
      "It took 1.70 seconds to get the embedding of the input.\n",
      "It took 1.67 seconds to get the embedding of the input.\n",
      "It took 1.69 seconds to get the embedding of the input.\n",
      "It took 1.77 seconds to get the embedding of the input.\n",
      "It took 1.70 seconds to get the embedding of the input.\n",
      "It took 1.66 seconds to get the embedding of the input.\n",
      "It took 1.68 seconds to get the embedding of the input.\n",
      "It took 1.77 seconds to get the embedding of the input.\n",
      "It took 1.85 seconds to get the embedding of the input.\n",
      "It took 1.73 seconds to get the embedding of the input.\n",
      "It took 1.81 seconds to get the embedding of the input.\n",
      "It took 1.80 seconds to get the embedding of the input.\n",
      "It took 1.82 seconds to get the embedding of the input.\n",
      "It took 1.86 seconds to get the embedding of the input.\n",
      "It took 1.87 seconds to get the embedding of the input.\n",
      "It took 1.84 seconds to get the embedding of the input.\n",
      "It took 1.83 seconds to get the embedding of the input.\n",
      "It took 1.98 seconds to get the embedding of the input.\n",
      "It took 2.00 seconds to get the embedding of the input.\n",
      "It took 1.90 seconds to get the embedding of the input.\n",
      "It took 1.88 seconds to get the embedding of the input.\n",
      "It took 1.76 seconds to get the embedding of the input.\n",
      "It took 1.74 seconds to get the embedding of the input.\n",
      "It took 1.83 seconds to get the embedding of the input.\n",
      "It took 1.84 seconds to get the embedding of the input.\n",
      "It took 1.80 seconds to get the embedding of the input.\n",
      "It took 1.79 seconds to get the embedding of the input.\n",
      "It took 1.82 seconds to get the embedding of the input.\n",
      "It took 1.92 seconds to get the embedding of the input.\n",
      "It took 1.81 seconds to get the embedding of the input.\n",
      "It took 1.81 seconds to get the embedding of the input.\n",
      "It took 1.80 seconds to get the embedding of the input.\n",
      "It took 1.82 seconds to get the embedding of the input.\n",
      "It took 1.84 seconds to get the embedding of the input.\n",
      "It took 1.90 seconds to get the embedding of the input.\n",
      "It took 1.94 seconds to get the embedding of the input.\n",
      "It took 1.94 seconds to get the embedding of the input.\n",
      "It took 1.69 seconds to get the embedding of the input.\n",
      "It took 1.86 seconds to get the embedding of the input.\n",
      "It took 1.78 seconds to get the embedding of the input.\n",
      "It took 1.81 seconds to get the embedding of the input.\n",
      "It took 1.71 seconds to get the embedding of the input.\n",
      "It took 1.71 seconds to get the embedding of the input.\n",
      "It took 1.82 seconds to get the embedding of the input.\n",
      "It took 1.82 seconds to get the embedding of the input.\n",
      "It took 1.93 seconds to get the embedding of the input.\n",
      "It took 2.04 seconds to get the embedding of the input.\n",
      "It took 1.85 seconds to get the embedding of the input.\n",
      "It took 1.96 seconds to get the embedding of the input.\n",
      "It took 1.94 seconds to get the embedding of the input.\n",
      "It took 1.93 seconds to get the embedding of the input.\n",
      "It took 1.76 seconds to get the embedding of the input.\n",
      "It took 2.08 seconds to get the embedding of the input.\n",
      "It took 1.80 seconds to get the embedding of the input.\n",
      "It took 1.86 seconds to get the embedding of the input.\n",
      "It took 1.94 seconds to get the embedding of the input.\n",
      "It took 1.81 seconds to get the embedding of the input.\n",
      "It took 3.05 seconds to get the embedding of the input.\n",
      "It took 2.65 seconds to get the embedding of the input.\n",
      "It took 2.39 seconds to get the embedding of the input.\n",
      "It took 2.17 seconds to get the embedding of the input.\n",
      "It took 2.20 seconds to get the embedding of the input.\n",
      "It took 2.18 seconds to get the embedding of the input.\n",
      "It took 2.18 seconds to get the embedding of the input.\n",
      "It took 2.15 seconds to get the embedding of the input.\n",
      "It took 2.14 seconds to get the embedding of the input.\n",
      "It took 2.23 seconds to get the embedding of the input.\n",
      "It took 2.34 seconds to get the embedding of the input.\n",
      "It took 2.31 seconds to get the embedding of the input.\n",
      "It took 2.11 seconds to get the embedding of the input.\n",
      "It took 2.12 seconds to get the embedding of the input.\n",
      "It took 2.12 seconds to get the embedding of the input.\n",
      "It took 2.38 seconds to get the embedding of the input.\n",
      "It took 2.40 seconds to get the embedding of the input.\n",
      "It took 2.18 seconds to get the embedding of the input.\n",
      "It took 2.12 seconds to get the embedding of the input.\n",
      "It took 2.13 seconds to get the embedding of the input.\n",
      "It took 2.14 seconds to get the embedding of the input.\n",
      "It took 2.11 seconds to get the embedding of the input.\n",
      "It took 2.12 seconds to get the embedding of the input.\n",
      "It took 2.14 seconds to get the embedding of the input.\n",
      "It took 2.27 seconds to get the embedding of the input.\n",
      "It took 2.48 seconds to get the embedding of the input.\n",
      "It took 2.42 seconds to get the embedding of the input.\n",
      "It took 2.40 seconds to get the embedding of the input.\n",
      "It took 2.58 seconds to get the embedding of the input.\n",
      "It took 2.38 seconds to get the embedding of the input.\n",
      "It took 2.33 seconds to get the embedding of the input.\n",
      "It took 2.33 seconds to get the embedding of the input.\n",
      "It took 2.35 seconds to get the embedding of the input.\n",
      "It took 2.63 seconds to get the embedding of the input.\n",
      "It took 2.43 seconds to get the embedding of the input.\n",
      "It took 2.30 seconds to get the embedding of the input.\n",
      "It took 2.33 seconds to get the embedding of the input.\n",
      "It took 2.56 seconds to get the embedding of the input.\n",
      "It took 2.34 seconds to get the embedding of the input.\n",
      "It took 2.33 seconds to get the embedding of the input.\n",
      "It took 2.34 seconds to get the embedding of the input.\n",
      "It took 2.28 seconds to get the embedding of the input.\n",
      "It took 2.26 seconds to get the embedding of the input.\n",
      "It took 2.10 seconds to get the embedding of the input.\n",
      "It took 2.16 seconds to get the embedding of the input.\n",
      "It took 2.25 seconds to get the embedding of the input.\n",
      "It took 2.12 seconds to get the embedding of the input.\n",
      "It took 2.15 seconds to get the embedding of the input.\n",
      "It took 2.16 seconds to get the embedding of the input.\n",
      "It took 2.11 seconds to get the embedding of the input.\n",
      "It took 2.12 seconds to get the embedding of the input.\n",
      "It took 2.36 seconds to get the embedding of the input.\n",
      "It took 2.23 seconds to get the embedding of the input.\n",
      "It took 2.25 seconds to get the embedding of the input.\n",
      "It took 2.34 seconds to get the embedding of the input.\n",
      "It took 2.48 seconds to get the embedding of the input.\n",
      "It took 2.67 seconds to get the embedding of the input.\n",
      "It took 2.60 seconds to get the embedding of the input.\n",
      "It took 2.34 seconds to get the embedding of the input.\n",
      "It took 2.22 seconds to get the embedding of the input.\n",
      "It took 2.36 seconds to get the embedding of the input.\n",
      "It took 2.46 seconds to get the embedding of the input.\n",
      "It took 2.39 seconds to get the embedding of the input.\n",
      "It took 2.26 seconds to get the embedding of the input.\n",
      "It took 2.17 seconds to get the embedding of the input.\n",
      "It took 2.27 seconds to get the embedding of the input.\n",
      "It took 2.30 seconds to get the embedding of the input.\n",
      "It took 2.24 seconds to get the embedding of the input.\n",
      "It took 2.23 seconds to get the embedding of the input.\n",
      "It took 2.25 seconds to get the embedding of the input.\n",
      "It took 2.27 seconds to get the embedding of the input.\n",
      "It took 2.30 seconds to get the embedding of the input.\n",
      "It took 2.12 seconds to get the embedding of the input.\n",
      "It took 2.13 seconds to get the embedding of the input.\n",
      "It took 2.13 seconds to get the embedding of the input.\n",
      "It took 2.22 seconds to get the embedding of the input.\n",
      "It took 2.23 seconds to get the embedding of the input.\n",
      "It took 2.11 seconds to get the embedding of the input.\n",
      "It took 2.14 seconds to get the embedding of the input.\n",
      "It took 2.37 seconds to get the embedding of the input.\n",
      "It took 2.37 seconds to get the embedding of the input.\n",
      "It took 2.40 seconds to get the embedding of the input.\n",
      "It took 2.66 seconds to get the embedding of the input.\n",
      "It took 2.46 seconds to get the embedding of the input.\n",
      "It took 2.31 seconds to get the embedding of the input.\n",
      "It took 2.26 seconds to get the embedding of the input.\n",
      "It took 2.31 seconds to get the embedding of the input.\n",
      "It took 2.34 seconds to get the embedding of the input.\n",
      "It took 2.37 seconds to get the embedding of the input.\n",
      "It took 2.08 seconds to get the embedding of the input.\n",
      "It took 1.99 seconds to get the embedding of the input.\n",
      "It took 1.92 seconds to get the embedding of the input.\n",
      "It took 1.82 seconds to get the embedding of the input.\n",
      "It took 1.96 seconds to get the embedding of the input.\n",
      "It took 1.81 seconds to get the embedding of the input.\n",
      "It took 1.86 seconds to get the embedding of the input.\n",
      "It took 1.81 seconds to get the embedding of the input.\n",
      "It took 1.66 seconds to get the embedding of the input.\n",
      "It took 1.61 seconds to get the embedding of the input.\n",
      "It took 1.67 seconds to get the embedding of the input.\n",
      "It took 1.72 seconds to get the embedding of the input.\n",
      "It took 1.68 seconds to get the embedding of the input.\n",
      "It took 1.77 seconds to get the embedding of the input.\n",
      "It took 1.74 seconds to get the embedding of the input.\n",
      "It took 1.73 seconds to get the embedding of the input.\n",
      "It took 1.70 seconds to get the embedding of the input.\n",
      "It took 1.81 seconds to get the embedding of the input.\n",
      "It took 1.78 seconds to get the embedding of the input.\n",
      "It took 1.85 seconds to get the embedding of the input.\n",
      "It took 1.81 seconds to get the embedding of the input.\n",
      "It took 1.84 seconds to get the embedding of the input.\n",
      "It took 1.80 seconds to get the embedding of the input.\n",
      "It took 1.93 seconds to get the embedding of the input.\n",
      "It took 1.96 seconds to get the embedding of the input.\n",
      "It took 1.93 seconds to get the embedding of the input.\n",
      "It took 1.82 seconds to get the embedding of the input.\n",
      "It took 1.85 seconds to get the embedding of the input.\n",
      "It took 1.83 seconds to get the embedding of the input.\n",
      "It took 1.80 seconds to get the embedding of the input.\n",
      "It took 1.80 seconds to get the embedding of the input.\n",
      "It took 1.78 seconds to get the embedding of the input.\n",
      "It took 1.80 seconds to get the embedding of the input.\n",
      "It took 1.88 seconds to get the embedding of the input.\n",
      "It took 1.85 seconds to get the embedding of the input.\n",
      "It took 1.85 seconds to get the embedding of the input.\n",
      "It took 1.83 seconds to get the embedding of the input.\n",
      "It took 1.93 seconds to get the embedding of the input.\n",
      "It took 1.94 seconds to get the embedding of the input.\n",
      "It took 1.91 seconds to get the embedding of the input.\n",
      "It took 1.75 seconds to get the embedding of the input.\n",
      "It took 1.71 seconds to get the embedding of the input.\n",
      "It took 1.88 seconds to get the embedding of the input.\n",
      "It took 1.73 seconds to get the embedding of the input.\n",
      "It took 1.83 seconds to get the embedding of the input.\n",
      "It took 1.99 seconds to get the embedding of the input.\n",
      "It took 1.87 seconds to get the embedding of the input.\n",
      "It took 1.81 seconds to get the embedding of the input.\n",
      "It took 1.75 seconds to get the embedding of the input.\n",
      "It took 1.69 seconds to get the embedding of the input.\n",
      "It took 1.69 seconds to get the embedding of the input.\n",
      "It took 1.80 seconds to get the embedding of the input.\n",
      "It took 1.84 seconds to get the embedding of the input.\n",
      "It took 1.67 seconds to get the embedding of the input.\n",
      "It took 1.80 seconds to get the embedding of the input.\n",
      "It took 1.78 seconds to get the embedding of the input.\n",
      "It took 1.77 seconds to get the embedding of the input.\n",
      "It took 1.86 seconds to get the embedding of the input.\n",
      "It took 1.91 seconds to get the embedding of the input.\n",
      "It took 1.96 seconds to get the embedding of the input.\n",
      "It took 1.89 seconds to get the embedding of the input.\n",
      "It took 2.02 seconds to get the embedding of the input.\n",
      "It took 2.07 seconds to get the embedding of the input.\n",
      "It took 1.79 seconds to get the embedding of the input.\n",
      "It took 1.76 seconds to get the embedding of the input.\n",
      "It took 1.70 seconds to get the embedding of the input.\n",
      "It took 1.60 seconds to get the embedding of the input.\n",
      "It took 1.59 seconds to get the embedding of the input.\n",
      "It took 1.59 seconds to get the embedding of the input.\n",
      "It took 1.63 seconds to get the embedding of the input.\n",
      "It took 1.81 seconds to get the embedding of the input.\n",
      "It took 2.11 seconds to get the embedding of the input.\n",
      "It took 1.76 seconds to get the embedding of the input.\n",
      "It took 1.85 seconds to get the embedding of the input.\n",
      "It took 1.72 seconds to get the embedding of the input.\n",
      "It took 1.65 seconds to get the embedding of the input.\n",
      "It took 1.76 seconds to get the embedding of the input.\n",
      "It took 1.81 seconds to get the embedding of the input.\n",
      "It took 1.80 seconds to get the embedding of the input.\n",
      "It took 1.76 seconds to get the embedding of the input.\n",
      "It took 1.96 seconds to get the embedding of the input.\n",
      "It took 1.80 seconds to get the embedding of the input.\n",
      "It took 1.75 seconds to get the embedding of the input.\n",
      "It took 1.68 seconds to get the embedding of the input.\n",
      "It took 1.70 seconds to get the embedding of the input.\n",
      "It took 1.84 seconds to get the embedding of the input.\n",
      "It took 1.79 seconds to get the embedding of the input.\n",
      "It took 1.78 seconds to get the embedding of the input.\n",
      "It took 1.97 seconds to get the embedding of the input.\n",
      "It took 2.06 seconds to get the embedding of the input.\n",
      "It took 1.79 seconds to get the embedding of the input.\n",
      "It took 1.67 seconds to get the embedding of the input.\n",
      "It took 1.61 seconds to get the embedding of the input.\n",
      "It took 1.65 seconds to get the embedding of the input.\n",
      "It took 1.63 seconds to get the embedding of the input.\n",
      "It took 1.60 seconds to get the embedding of the input.\n",
      "It took 1.62 seconds to get the embedding of the input.\n",
      "It took 1.58 seconds to get the embedding of the input.\n",
      "It took 1.58 seconds to get the embedding of the input.\n",
      "It took 1.75 seconds to get the embedding of the input.\n",
      "It took 1.69 seconds to get the embedding of the input.\n",
      "It took 1.69 seconds to get the embedding of the input.\n",
      "It took 1.62 seconds to get the embedding of the input.\n",
      "It took 1.67 seconds to get the embedding of the input.\n",
      "It took 1.99 seconds to get the embedding of the input.\n",
      "It took 1.98 seconds to get the embedding of the input.\n",
      "It took 2.05 seconds to get the embedding of the input.\n",
      "It took 2.24 seconds to get the embedding of the input.\n",
      "It took 2.61 seconds to get the embedding of the input.\n",
      "It took 2.43 seconds to get the embedding of the input.\n",
      "It took 2.00 seconds to get the embedding of the input.\n",
      "It took 2.25 seconds to get the embedding of the input.\n",
      "It took 2.33 seconds to get the embedding of the input.\n",
      "It took 2.60 seconds to get the embedding of the input.\n",
      "It took 1.92 seconds to get the embedding of the input.\n",
      "It took 1.77 seconds to get the embedding of the input.\n",
      "It took 1.78 seconds to get the embedding of the input.\n",
      "It took 1.80 seconds to get the embedding of the input.\n",
      "It took 1.70 seconds to get the embedding of the input.\n",
      "It took 1.63 seconds to get the embedding of the input.\n",
      "It took 1.70 seconds to get the embedding of the input.\n",
      "It took 1.74 seconds to get the embedding of the input.\n",
      "Cosine similarity is 0.8775115013122559\n"
     ]
    },
    {
     "data": {
      "text/plain": [
       "[\"A method of distributing Internet advertisements at the websites of a number of different publishers operating web sites. An advertising entity collects lists of user identifiers from each of several advertisers. In response to a user visiting one of the websites, the user identifier associated with the user is determined. It is determined if the user identifier is on one of the list. If the user identifier is on a list, an unembedded advertisement associated with the advertiser whose list contains the user's identifier is served to the user. The advertisement may be a pop-up, pop-under, or dynamic html advertisement, and if the user is not on the list, no such an ad may not be served.\",\n",
       " 'An Internet delivery method delivers electronic information products to a plurality of users via the Internet. A plurality of display formats are stored in a database. The display formats including at least a default display format and a custom display format. Information is also stored for each user indicating whether the user is a specific type of user. When a user logs in, the user is identified as being that specific type of user. If the user is identified as the specific type of user, then an electronic information product is delivered to the user in the custom display format. The electronic information products are accessed via computers connected to the Internet, including wireless devices.']"
      ]
     },
     "execution_count": 26,
     "metadata": {},
     "output_type": "execute_result"
    }
   ],
   "source": [
    "import tensorflow as tf\n",
    "\n",
    "tf.config.optimizer.set_jit(True)  # Enable XLA for the entire script\n",
    "from tensorflow.keras import mixed_precision\n",
    "\n",
    "# Set the policy to mixed precision\n",
    "policy = mixed_precision.Policy('mixed_float16')\n",
    "mixed_precision.set_global_policy(policy)\n",
    "\n",
    "print(\"Mixed precision enabled.\")\n",
    "\n",
    "patent = x[33]\n",
    "importlib.reload(fp)\n",
    "fp.find_the_closest_abstract_excerpt(patent, filter_tfidf=False)"
   ]
  },
  {
   "cell_type": "code",
   "execution_count": 24,
   "metadata": {},
   "outputs": [
    {
     "name": "stdout",
     "output_type": "stream",
     "text": [
      "BERT loaded...\n",
      "It took 2.66 seconds to get the embedding of the input.\n"
     ]
    }
   ],
   "source": [
    "import api.bertembeddings as be\n",
    "import importlib\n",
    "importlib.reload(be)\n",
    "# Profiling start\n",
    "tf.profiler.experimental.start('logdir')  # Log to 'logdir'\n",
    "\n",
    "g = be.get_embd_of_whole_abstract(patent['abstract'])\n",
    "\n",
    "# Profiling stops\n",
    "tf.profiler.experimental.stop()"
   ]
  },
  {
   "cell_type": "code",
   "execution_count": 23,
   "metadata": {},
   "outputs": [
    {
     "data": {
      "text/plain": [
       "Reusing TensorBoard on port 6006 (pid 21964), started 0:09:51 ago. (Use '!kill 21964' to kill it.)"
      ]
     },
     "metadata": {},
     "output_type": "display_data"
    },
    {
     "data": {
      "text/html": [
       "\n",
       "      <iframe id=\"tensorboard-frame-a41651e685c35c08\" width=\"100%\" height=\"800\" frameborder=\"0\">\n",
       "      </iframe>\n",
       "      <script>\n",
       "        (function() {\n",
       "          const frame = document.getElementById(\"tensorboard-frame-a41651e685c35c08\");\n",
       "          const url = new URL(\"http://localhost\");\n",
       "          const port = 6006;\n",
       "          if (port) {\n",
       "            url.port = port;\n",
       "          }\n",
       "          frame.src = url;\n",
       "        })();\n",
       "      </script>\n",
       "    "
      ],
      "text/plain": [
       "<IPython.core.display.HTML object>"
      ]
     },
     "metadata": {},
     "output_type": "display_data"
    }
   ],
   "source": [
    "%reload_ext tensorboard\n",
    "%tensorboard --logdir logdir\n"
   ]
  },
  {
   "cell_type": "code",
   "execution_count": 19,
   "metadata": {},
   "outputs": [],
   "source": [
    "import tensorflow as tf\n",
    "tf.profiler.experimental.stop()"
   ]
  }
 ],
 "metadata": {
  "kernelspec": {
   "display_name": "venv",
   "language": "python",
   "name": "python3"
  },
  "language_info": {
   "codemirror_mode": {
    "name": "ipython",
    "version": 3
   },
   "file_extension": ".py",
   "mimetype": "text/x-python",
   "name": "python",
   "nbconvert_exporter": "python",
   "pygments_lexer": "ipython3",
   "version": "3.12.2"
  }
 },
 "nbformat": 4,
 "nbformat_minor": 2
}
