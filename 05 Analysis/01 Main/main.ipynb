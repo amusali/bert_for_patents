{
 "cells": [
  {
   "cell_type": "markdown",
   "metadata": {},
   "source": [
    "## API Key"
   ]
  },
  {
   "cell_type": "code",
   "execution_count": 2,
   "metadata": {},
   "outputs": [],
   "source": [
    "# Define the path to API key file\n",
    "api_key_path = r\"api\\api_key.txt\"\n",
    "\n",
    "# Read the API key from the file\n",
    "with open(api_key_path, 'r') as file:\n",
    "    api_key = file.read().strip()\n",
    "\n",
    "# Build URL\n",
    "headers = {\n",
    "    \"X-Api-Key\": api_key\n",
    "}"
   ]
  },
  {
   "cell_type": "code",
   "execution_count": 3,
   "metadata": {},
   "outputs": [
    {
     "name": "stdout",
     "output_type": "stream",
     "text": [
      "Company names are:  ['facebook']\n",
      "All THE FOUND COMPANIES ARE:  {('Facebook Technologies, LLC', 'legacy'), ('FACEBOOK, INC.', 'legacy')}\n",
      "Best matches are:  [('FACEBOOK, INC.', 'legacy'), ('Facebook Technologies, LLC', 'legacy')]\n"
     ]
    },
    {
     "data": {
      "text/plain": [
       "[('FACEBOOK, INC.', 'legacy'), ('Facebook Technologies, LLC', 'legacy')]"
      ]
     },
     "execution_count": 3,
     "metadata": {},
     "output_type": "execute_result"
    }
   ],
   "source": [
    "import api.get_closest_assignees as fg\n",
    "\n",
    "fg.get_closest_assignees(\"faCebook\")"
   ]
  },
  {
   "cell_type": "code",
   "execution_count": 1,
   "metadata": {},
   "outputs": [
    {
     "name": "stderr",
     "output_type": "stream",
     "text": [
      "c:\\Users\\amusali\\Desktop\\uc3m PhD\\venv\\Lib\\site-packages\\fuzzywuzzy\\fuzz.py:11: UserWarning: Using slow pure-python SequenceMatcher. Install python-Levenshtein to remove this warning\n",
      "  warnings.warn('Using slow pure-python SequenceMatcher. Install python-Levenshtein to remove this warning')\n"
     ]
    },
    {
     "name": "stdout",
     "output_type": "stream",
     "text": [
      "2008-12-12\n",
      "Size of patents before:  61 Size of patents after:  5300\n"
     ]
    }
   ],
   "source": [
    "import api.fetch_patents as fp\n",
    "from datetime import datetime, timedelta\n",
    "date = \"2008-12-12\"\n",
    "#date = datetime.strptime(date, \"%Y-%m-%d\")\n",
    "print(date)\n",
    "x = fp.get_patents('FACEBOOK, INC.', date, source='legacy')"
   ]
  },
  {
   "cell_type": "code",
   "execution_count": 8,
   "metadata": {},
   "outputs": [],
   "source": [
    "from api.fetch_patent_description import fetch_claims, fetch_description\n",
    "\n",
    "id = 8000000\n",
    "desc = fetch_description(id)[0]\n",
    "claims = fetch_claims(id)[0]\n",
    "\n",
    "id = '20090030261A1'\n",
    "desc1 = fetch_description(id)[0]\n",
    "claims1 = fetch_claims(id)[0]\n"
   ]
  },
  {
   "cell_type": "code",
   "execution_count": 22,
   "metadata": {},
   "outputs": [
    {
     "name": "stdout",
     "output_type": "stream",
     "text": [
      "Row number is: 0\n",
      "Cosine Similarity: 0.7104477932390737\n",
      "Citation count is: 0\n",
      "Row number is: 1\n",
      "Cosine Similarity: 0.7361178576650442\n",
      "Citation count is: 314\n",
      "Row number is: 2\n",
      "Cosine Similarity: 0.6339516076386816\n",
      "Citation count is: 297\n",
      "Row number is: 3\n",
      "Cosine Similarity: 0.7834186272253236\n",
      "Citation count is: 226\n",
      "Row number is: 4\n",
      "Cosine Similarity: 0.8080612977419133\n",
      "Citation count is: 87\n",
      "Row number is: 5\n",
      "Cosine Similarity: 0.4534817272434516\n",
      "Citation count is: 121\n",
      "Row number is: 6\n",
      "Cosine Similarity: 0.6740211752347663\n",
      "Citation count is: 855\n",
      "Row number is: 7\n",
      "Cosine Similarity: 0.7470483497477498\n",
      "Citation count is: 139\n",
      "Row number is: 8\n",
      "Cosine Similarity: 0.7853842536881034\n",
      "Citation count is: 132\n",
      "Row number is: 9\n",
      "Cosine Similarity: 0.7007767765879002\n",
      "Citation count is: 831\n",
      "Row number is: 10\n",
      "Cosine Similarity: 0.6777991284594163\n",
      "Citation count is: 95\n",
      "Row number is: 11\n",
      "Cosine Similarity: 0.7601272504823413\n",
      "Citation count is: 180\n",
      "Row number is: 12\n",
      "Cosine Similarity: 0.8178574099056019\n",
      "Citation count is: 36\n",
      "Row number is: 13\n",
      "Cosine Similarity: 0.8274061537816895\n",
      "Citation count is: 45\n",
      "Row number is: 14\n",
      "Cosine Similarity: 0.6078415229125305\n",
      "Citation count is: 18\n",
      "Row number is: 15\n",
      "Cosine Similarity: 0.655619767147587\n",
      "Citation count is: 39\n",
      "Correlation is:  -0.09674365438855925\n"
     ]
    }
   ],
   "source": [
    "from sklearn.feature_extraction.text import TfidfVectorizer\n",
    "from sklearn.metrics.pairwise import cosine_similarity\n",
    "import pandas as pd\n",
    "\n",
    "df = pd.DataFrame(columns=['cit', 'sim'])\n",
    "\n",
    "# Define the text strings\n",
    "for row in range((len(x[0]) - 45)):\n",
    "    print(\"Row number is:\", row)\n",
    "    id = x[0][row]['patent_id']\n",
    "\n",
    "    from api.fetch_patent_description import fetch_claims, fetch_description\n",
    "\n",
    "    desc = fetch_description(id)[0]\n",
    "    claims = fetch_claims(id)[0]\n",
    "    # Create the TfidfVectorizer\n",
    "    vectorizer = TfidfVectorizer()\n",
    "\n",
    "    # Transform the text strings into TF-IDF vectors\n",
    "    tfidf_matrix = vectorizer.fit_transform([desc, claims])\n",
    "\n",
    "    # Compute the cosine similarity\n",
    "    cosine_sim = cosine_similarity(tfidf_matrix[0:1], tfidf_matrix[1:2])\n",
    "\n",
    "    citation = x[0][row]['citations']\n",
    "    print(f\"Cosine Similarity: {cosine_sim[0][0]}\")\n",
    "    print(\"Citation count is:\", citation)\n",
    "    \n",
    "    data_to_add = [{'cit': citation, 'sim': cosine_sim}]\n",
    "\n",
    "    # Add rows to the DataFrame using concat\n",
    "    for data in data_to_add:\n",
    "        df = pd.concat([df, pd.DataFrame([data])], ignore_index=True)\n",
    "\n",
    "\n",
    "print(\"Correlation is: \", df['cit'].corr(df['sim']))"
   ]
  }
 ],
 "metadata": {
  "kernelspec": {
   "display_name": "venv",
   "language": "python",
   "name": "python3"
  },
  "language_info": {
   "codemirror_mode": {
    "name": "ipython",
    "version": 3
   },
   "file_extension": ".py",
   "mimetype": "text/x-python",
   "name": "python",
   "nbconvert_exporter": "python",
   "pygments_lexer": "ipython3",
   "version": "3.12.2"
  }
 },
 "nbformat": 4,
 "nbformat_minor": 2
}
